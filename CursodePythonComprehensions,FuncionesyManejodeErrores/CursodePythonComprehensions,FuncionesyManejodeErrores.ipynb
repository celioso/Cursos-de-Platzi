{
 "cells": [
  {
   "attachments": {},
   "cell_type": "markdown",
   "metadata": {},
   "source": [
    "### El Zen de Python"
   ]
  },
  {
   "cell_type": "code",
   "execution_count": 1,
   "metadata": {},
   "outputs": [
    {
     "name": "stdout",
     "output_type": "stream",
     "text": [
      "The Zen of Python, by Tim Peters\n",
      "\n",
      "Beautiful is better than ugly.\n",
      "Explicit is better than implicit.\n",
      "Simple is better than complex.\n",
      "Complex is better than complicated.\n",
      "Flat is better than nested.\n",
      "Sparse is better than dense.\n",
      "Readability counts.\n",
      "Special cases aren't special enough to break the rules.\n",
      "Although practicality beats purity.\n",
      "Errors should never pass silently.\n",
      "Unless explicitly silenced.\n",
      "In the face of ambiguity, refuse the temptation to guess.\n",
      "There should be one-- and preferably only one --obvious way to do it.\n",
      "Although that way may not be obvious at first unless you're Dutch.\n",
      "Now is better than never.\n",
      "Although never is often better than *right* now.\n",
      "If the implementation is hard to explain, it's a bad idea.\n",
      "If the implementation is easy to explain, it may be a good idea.\n",
      "Namespaces are one honking great idea -- let's do more of those!\n"
     ]
    }
   ],
   "source": [
    "import this "
   ]
  },
  {
   "attachments": {},
   "cell_type": "markdown",
   "metadata": {},
   "source": [
    "### Sets o conjuntos\n",
    "##### Se puede modificar\n",
    "##### No tiene un orden \n",
    "##### No permite duplicados"
   ]
  },
  {
   "cell_type": "code",
   "execution_count": 2,
   "metadata": {},
   "outputs": [
    {
     "name": "stdout",
     "output_type": "stream",
     "text": [
      "{'Bolivia', 'Colombia', 'Mexico'}\n",
      "<class 'set'>\n",
      "{1, 2, 443, 23}\n",
      "{False, 1, 12.12, 'hola'}\n",
      "{'a', 'l', 'h', 'o'}\n",
      "{'cbv', 'abc', 'as'}\n",
      "{1, 2, 3, 4}\n",
      "[1, 2, 3, 4]\n"
     ]
    }
   ],
   "source": [
    "set_countries = {'Colombia','Mexico', 'Bolivia'}\n",
    "print(set_countries)\n",
    "print(type(set_countries))\n",
    "\n",
    "set_numbers = {1, 2, 443, 23, 2, 1}\n",
    "print(set_numbers)\n",
    "\n",
    "set_types = {1, 'hola', False, 12.12}\n",
    "print(set_types)\n",
    "\n",
    "set_from_string = set('hoola')\n",
    "print(set_from_string)\n",
    "\n",
    "set_from_tuples = set(('abc','cbv', 'as','abc'))\n",
    "print(set_from_tuples)\n",
    "\n",
    "numbers = [1,2,3,1,2,3,4]\n",
    "set_numbers = set(numbers)\n",
    "print(set_numbers)\n",
    "unique_numbers = list(set_numbers)\n",
    "print(unique_numbers)"
   ]
  },
  {
   "attachments": {},
   "cell_type": "markdown",
   "metadata": {},
   "source": [
    "### Modificando conjuntos"
   ]
  },
  {
   "cell_type": "code",
   "execution_count": 3,
   "metadata": {},
   "outputs": [
    {
     "name": "stdout",
     "output_type": "stream",
     "text": [
      "3\n",
      "True\n",
      "False\n",
      "{'col', 'mex', 'pe', 'bol'}\n",
      "{'col', 'mex', 'pe', 'bol'}\n",
      "{'bol', 'ecua', 'col', 'mex', 'pe', 'ar'}\n",
      "{'bol', 'ecua', 'mex', 'pe', 'ar'}\n",
      "{'bol', 'ecua', 'mex', 'pe'}\n",
      "{'bol', 'ecua', 'mex', 'pe', 'arg'}\n",
      "set()\n",
      "0\n"
     ]
    }
   ],
   "source": [
    "set_countries = {'col','mex','bol'}\n",
    "\n",
    "size = len(set_countries)\n",
    "print(size)\n",
    "\n",
    "print ('col' in set_countries)\n",
    "print('pe' in set_countries)\n",
    "\n",
    "# add\n",
    "set_countries.add('pe')\n",
    "print(set_countries)\n",
    "set_countries.add('pe')\n",
    "print(set_countries)\n",
    "\n",
    "# update\n",
    "set_countries.update({'ar','ecua', 'pe'})\n",
    "print(set_countries)\n",
    "\n",
    "# remove\n",
    "set_countries.remove('col')\n",
    "print(set_countries)\n",
    "\n",
    "set_countries.remove('ar')\n",
    "set_countries.discard('arg')\n",
    "print(set_countries)\n",
    "set_countries.add('arg')\n",
    "print(set_countries)\n",
    "set_countries.clear()\n",
    "print(set_countries)\n",
    "print(len(set_countries))"
   ]
  },
  {
   "attachments": {},
   "cell_type": "markdown",
   "metadata": {},
   "source": [
    "### Operaciones con conjuntos"
   ]
  },
  {
   "cell_type": "code",
   "execution_count": 4,
   "metadata": {},
   "outputs": [
    {
     "name": "stdout",
     "output_type": "stream",
     "text": [
      "{'bol', 'col', 'mex', 'pe'}\n",
      "{'bol', 'col', 'mex', 'pe'}\n",
      "{'bol'}\n",
      "{'bol'}\n",
      "{'col', 'mex'}\n",
      "{'col', 'mex'}\n",
      "{'col', 'mex', 'pe'}\n",
      "{'col', 'mex', 'pe'}\n"
     ]
    }
   ],
   "source": [
    "set_a={'col','mex','bol'}\n",
    "set_b = {'pe','bol'}\n",
    "\n",
    "# Union\n",
    "set_c = set_a.union(set_b)\n",
    "print(set_c)\n",
    "print(set_a | set_b)\n",
    "\n",
    "# Inersection\n",
    "set_c = set_a.intersection(set_b)\n",
    "print(set_c)\n",
    "print(set_a & set_b)\n",
    "\n",
    "# Difference\n",
    "set_c = set_a.difference(set_b)\n",
    "print(set_c)\n",
    "print(set_a - set_b)\n",
    "\n",
    "# Symmetric Difference\n",
    "set_c = set_a.symmetric_difference(set_b)\n",
    "print(set_c)\n",
    "print(set_a ^ set_b)"
   ]
  },
  {
   "attachments": {},
   "cell_type": "markdown",
   "metadata": {},
   "source": [
    "### List Comprehension"
   ]
  },
  {
   "cell_type": "code",
   "execution_count": 5,
   "metadata": {},
   "outputs": [
    {
     "name": "stdout",
     "output_type": "stream",
     "text": [
      "[4, 8, 12, 16, 20]\n",
      "[4, 8, 12, 16, 20]\n"
     ]
    }
   ],
   "source": [
    "'''\n",
    "numbers = []\n",
    "for element in range(1, 11):\n",
    "  numbers.append(element*2)\n",
    "\n",
    "print(numbers)\n",
    "\n",
    "numbers_v2 = [element *2 for element in range(1,11)]\n",
    "print(numbers_v2)\n",
    "'''\n",
    "numbers = []\n",
    "for i in range(1, 11):\n",
    "  if i % 2 == 0:\n",
    "    numbers.append(i*2)\n",
    "\n",
    "print(numbers)\n",
    "\n",
    "numbers_v2 = [i * 2 for i in range(1, 11) if i % 2 == 0]\n",
    "print(numbers_v2)"
   ]
  },
  {
   "attachments": {},
   "cell_type": "markdown",
   "metadata": {},
   "source": [
    "### Dictionary Comprehension"
   ]
  },
  {
   "cell_type": "code",
   "execution_count": 6,
   "metadata": {},
   "outputs": [
    {
     "name": "stdout",
     "output_type": "stream",
     "text": [
      "[('nico', 12), ('zule', 56), ('santi', 98)]\n",
      "{'nico': 12, 'zule': 56, 'santi': 98}\n"
     ]
    }
   ],
   "source": [
    "'''\n",
    "dict = {}\n",
    "for i in range(1, 5):\n",
    "  dict[i] = i * 2\n",
    "\n",
    "print(dict)\n",
    "\n",
    "dict_v2 = { i : i*2 for i in range(1, 5)}\n",
    "print(dict_v2)\n",
    "\n",
    "import random\n",
    "countries = ['col', 'mex','bol', 'pe']\n",
    "population = {}\n",
    "for country in countries:\n",
    "  population[country] = random.randint(1,100)\n",
    "\n",
    "print(population)\n",
    "\n",
    "population_v2 = {country: random.randint(1, 100) for country in countries}\n",
    "print(population_v2)\n",
    "'''\n",
    "names = ['nico', 'zule', 'santi']\n",
    "ages = [12, 56, 98]\n",
    "\n",
    "print(list(zip(names, ages)))\n",
    "\n",
    "new_dict = {name: age for (name, age) in zip(names, ages)}\n",
    "print(new_dict)"
   ]
  },
  {
   "attachments": {},
   "cell_type": "markdown",
   "metadata": {},
   "source": [
    "### Dictionary Comprehension: condition"
   ]
  },
  {
   "cell_type": "code",
   "execution_count": 1,
   "metadata": {},
   "outputs": [
    {
     "name": "stdout",
     "output_type": "stream",
     "text": [
      "{'col': 6, 'mex': 44, 'bol': 65, 'pe': 44}\n",
      "{'bol': 65}\n",
      "{'o': 'O', 'a': 'A', 'i': 'I'}\n"
     ]
    }
   ],
   "source": [
    "import random\n",
    "countries = ['col', 'mex','bol', 'pe']\n",
    "\n",
    "population_v2 = {country: random.randint(1, 100) for country in countries}\n",
    "print(population_v2)\n",
    "\n",
    "result ={country: population for (country, population) in population_v2.items() if population > 50}\n",
    "print(result)\n",
    "\n",
    "text = 'Hola, soy Nicolas'\n",
    "unique = {c: c.upper() for c in text if c in 'aeiou'}\n",
    "print(unique)"
   ]
  },
  {
   "attachments": {},
   "cell_type": "markdown",
   "metadata": {},
   "source": [
    "### Funciones"
   ]
  },
  {
   "cell_type": "code",
   "execution_count": 2,
   "metadata": {},
   "outputs": [
    {
     "name": "stdout",
     "output_type": "stream",
     "text": [
      "Hola\n",
      "Este es my texto Este es my texto \n",
      "Hola Hola \n",
      "12\n",
      "28\n"
     ]
    }
   ],
   "source": [
    "print('Hola')\n",
    "\n",
    "def my_print(text):\n",
    "  print(text * 2)\n",
    "  \n",
    "my_print('Este es my texto ')\n",
    "my_print('Hola ')\n",
    "\n",
    "a = 10\n",
    "b = 90\n",
    "\n",
    "c = a +b\n",
    "\n",
    "def suma(a, b):\n",
    "  my_print(a + b)\n",
    "\n",
    "suma(1, 5) # 6\n",
    "suma(10, 4) # 14"
   ]
  },
  {
   "attachments": {},
   "cell_type": "markdown",
   "metadata": {},
   "source": [
    "### calculadora"
   ]
  },
  {
   "cell_type": "code",
   "execution_count": 3,
   "metadata": {},
   "outputs": [
    {
     "name": "stdout",
     "output_type": "stream",
     "text": [
      "4 + 5 = 9\n"
     ]
    }
   ],
   "source": [
    "def calculator(num_1, num_2, op):\n",
    "  result = 0\n",
    "\n",
    "  if op == \"+\":\n",
    "    result = num_1 + num_2\n",
    "\n",
    "  elif op == \"-\":\n",
    "    result = num_1 - num_2\n",
    "\n",
    "  elif op == \"*\":\n",
    "    result = num_1 * num_2\n",
    "\n",
    "  elif op == \"/\":\n",
    "    result = num_1 / num_2\n",
    "\n",
    "  print(f\"{num_1} {op} {num_2} = {result}\")\n",
    "\n",
    "if __name__ == '__main__':\n",
    "  list_op = (\"+\", \"-\", \"*\", \"/\")\n",
    "  op = str(input(f'choose operator with symbol {list_op}: '))\n",
    "  num_1 = int(input('Choose number: '))\n",
    "  num_2 = int(input('Choose other number: '))\n",
    "  calculator(num_1, num_2, op)"
   ]
  },
  {
   "attachments": {},
   "cell_type": "markdown",
   "metadata": {},
   "source": [
    "### return"
   ]
  },
  {
   "cell_type": "code",
   "execution_count": null,
   "metadata": {},
   "outputs": [],
   "source": [
    "def sum_with_range(min, max):\n",
    "  print(min,max)\n",
    "  sum = 0\n",
    "  for x in range(min, max):\n",
    "    sum+=x\n",
    "  return sum\n",
    "# 1,2,3,4,5,6\n",
    "result = sum_with_range(1, 10)\n",
    "print(result)\n",
    "result_2 = sum_with_range(result, result + 10)\n",
    "print(result_2)"
   ]
  },
  {
   "attachments": {},
   "cell_type": "markdown",
   "metadata": {},
   "source": [
    "### Parámetros por defecto y múltiples returns"
   ]
  },
  {
   "cell_type": "code",
   "execution_count": 4,
   "metadata": {},
   "outputs": [
    {
     "name": "stdout",
     "output_type": "stream",
     "text": [
      "10\n",
      "10\n",
      "hola\n"
     ]
    }
   ],
   "source": [
    "def find_volume(length = 1, width = 1, depth = 1):\n",
    "  return length * width * depth,width,'hola'\n",
    "\n",
    "result, width, text = find_volume(width=10)\n",
    "\n",
    "print(result)\n",
    "print(width)\n",
    "print(text)"
   ]
  },
  {
   "attachments": {},
   "cell_type": "markdown",
   "metadata": {},
   "source": [
    "### El scope"
   ]
  },
  {
   "cell_type": "code",
   "execution_count": 5,
   "metadata": {},
   "outputs": [
    {
     "name": "stdout",
     "output_type": "stream",
     "text": [
      "100\n",
      "210\n",
      "210\n",
      "200\n"
     ]
    }
   ],
   "source": [
    "price = 100 # global\n",
    "result =  200\n",
    "\n",
    "\n",
    "def increment():\n",
    "  price = 200\n",
    "  price = price + 10\n",
    "  print(price)\n",
    "  return price\n",
    "\n",
    "print(price)\n",
    "price_2 = increment()\n",
    "print(price_2)\n",
    "print(result)"
   ]
  },
  {
   "attachments": {},
   "cell_type": "markdown",
   "metadata": {},
   "source": [
    "### Refactor game"
   ]
  },
  {
   "cell_type": "code",
   "execution_count": 1,
   "metadata": {},
   "outputs": [
    {
     "name": "stdout",
     "output_type": "stream",
     "text": [
      "**********\n",
      "ROUND 1\n",
      "**********\n",
      "computer_wins 0\n",
      "user_wins 0\n",
      "User option => papel\n",
      "Computer option => piedra\n",
      "papel gana a piedra\n",
      "user gano\n",
      "**********\n",
      "ROUND 2\n",
      "**********\n",
      "computer_wins 0\n",
      "user_wins 1\n",
      "User option => piedra\n",
      "Computer option => piedra\n",
      "Empate!\n",
      "**********\n",
      "ROUND 3\n",
      "**********\n",
      "computer_wins 0\n",
      "user_wins 1\n",
      "User option => piedra\n",
      "Computer option => tijera\n",
      "piedra gana a tijera\n",
      "user gano!\n",
      "El ganador es el usuario\n"
     ]
    }
   ],
   "source": [
    "import random\n",
    "\n",
    "\n",
    "def choose_options():\n",
    "  options = ('piedra', 'papel', 'tijera')\n",
    "  user_option = input('piedra, papel o tijera => ')\n",
    "  user_option = user_option.lower()\n",
    "\n",
    "  if not user_option in options:\n",
    "    print('esa opcion no es valida')\n",
    "    # continue\n",
    "    return None, None\n",
    "\n",
    "  computer_option = random.choice(options)\n",
    "\n",
    "  print('User option =>', user_option)\n",
    "  print('Computer option =>', computer_option)\n",
    "  return user_option, computer_option\n",
    "\n",
    "def check_rules(user_option, computer_option, user_wins, computer_wins):\n",
    "  if user_option == computer_option:\n",
    "    print('Empate!')\n",
    "  elif user_option == 'piedra':\n",
    "    if computer_option == 'tijera':\n",
    "      print('piedra gana a tijera')\n",
    "      print('user gano!')\n",
    "      user_wins += 1\n",
    "    else:\n",
    "      print('Papel gana a piedra')\n",
    "      print('computer gano!')\n",
    "      computer_wins += 1\n",
    "  elif user_option == 'papel':\n",
    "    if computer_option == 'piedra':\n",
    "      print('papel gana a piedra')\n",
    "      print('user gano')\n",
    "      user_wins += 1\n",
    "    else:\n",
    "      print('tijera gana a papel')\n",
    "      print('computer gano!')\n",
    "      computer_wins += 1\n",
    "  elif user_option == 'tijera':\n",
    "    if computer_option == 'papel':\n",
    "      print('tijera gana a papel')\n",
    "      print('user gano!')\n",
    "      user_wins += 1\n",
    "    else:\n",
    "      print('piedra gana a tijera')\n",
    "      print('computer gano!')\n",
    "      computer_wins += 1\n",
    "  return user_wins, computer_wins\n",
    "\n",
    "def run_game():\n",
    "  computer_wins = 0\n",
    "  user_wins = 0  \n",
    "  rounds = 1\n",
    "  while True:\n",
    "    print('*' * 10)\n",
    "    print('ROUND', rounds)\n",
    "    print('*' * 10)\n",
    "\n",
    "    print('computer_wins', computer_wins)\n",
    "    print('user_wins', user_wins)\n",
    "    rounds += 1\n",
    "\n",
    "    user_option, computer_option = choose_options()\n",
    "    user_wins, computer_wins = check_rules(user_option, computer_option, user_wins, computer_wins)\n",
    "\n",
    "    if computer_wins == 2:\n",
    "      print('El ganador es la computadora')\n",
    "      break\n",
    "\n",
    "    if user_wins == 2:\n",
    "      print('El ganador es el usuario')\n",
    "      break\n",
    "\n",
    "run_game()"
   ]
  },
  {
   "attachments": {},
   "cell_type": "markdown",
   "metadata": {},
   "source": [
    "### lambdas"
   ]
  },
  {
   "cell_type": "code",
   "execution_count": 2,
   "metadata": {},
   "outputs": [
    {
     "name": "stdout",
     "output_type": "stream",
     "text": [
      "11\n",
      "21\n",
      "full name is Mario Alexander Perez Casa\n"
     ]
    }
   ],
   "source": [
    "def increment(x):\n",
    "  return x + 1\n",
    "  \n",
    "increment_v2 = lambda x : x +1 \n",
    "\n",
    "result = increment(10)\n",
    "print(11)\n",
    "\n",
    "result = increment_v2(20)\n",
    "print(result)\n",
    "\n",
    "full_name = lambda name,middle_name, last_name: f'full name is {name.title()} {middle_name.title()} {last_name.title()}'\n",
    "\n",
    "text = full_name('Mario','Alexander','Perez casa')\n",
    "print(text)"
   ]
  },
  {
   "attachments": {},
   "cell_type": "markdown",
   "metadata": {},
   "source": [
    "### Higher order function: una función dentro de otra función"
   ]
  },
  {
   "cell_type": "code",
   "execution_count": 1,
   "metadata": {},
   "outputs": [
    {
     "name": "stdout",
     "output_type": "stream",
     "text": [
      "5\n",
      "5\n",
      "6\n",
      "12\n"
     ]
    }
   ],
   "source": [
    "def increment(x):\n",
    "  return x + 1\n",
    "\n",
    "increment_v2 = lambda x: x+1\n",
    "\n",
    "def high_ord_func(x, func):\n",
    "  return x + func(x)\n",
    "\n",
    "high_ord_func_v2 = lambda x, func: x +func(x)\n",
    "\n",
    "result = high_ord_func(2, increment)\n",
    "# 2 + (2+1)\n",
    "print(result)\n",
    "result = high_ord_func_v2(2, increment_v2)\n",
    "print(result)\n",
    "result = high_ord_func_v2(2, lambda x: x+2)\n",
    "## charge\n",
    "print(result)\n",
    "result = high_ord_func_v2(2, lambda x: x*5)\n",
    "print(result)"
   ]
  },
  {
   "attachments": {},
   "cell_type": "markdown",
   "metadata": {},
   "source": [
    "### Map"
   ]
  },
  {
   "cell_type": "code",
   "execution_count": 2,
   "metadata": {},
   "outputs": [
    {
     "name": "stdout",
     "output_type": "stream",
     "text": [
      "[1, 2, 3, 4]\n",
      "[2, 4, 6, 8]\n",
      "[2, 4, 6, 8]\n",
      "[1, 2, 3, 4]\n",
      "[5, 6, 7]\n",
      "[6, 8, 10]\n"
     ]
    }
   ],
   "source": [
    "numbers = [1, 2, 3, 4]\n",
    "numbers_v2 = []\n",
    "for i in numbers:\n",
    "  numbers_v2.append(i*2)\n",
    "\n",
    "numbers_v3 =list(map(lambda i: i * 2, numbers))\n",
    "\n",
    "print(numbers)\n",
    "print(numbers_v2)\n",
    "print(numbers_v3)\n",
    "\n",
    "numbers_1 = [1, 2, 3, 4]\n",
    "numbers_2 = [5, 6, 7]\n",
    "\n",
    "print(numbers_1)\n",
    "print(numbers_2)\n",
    "result = list(map(lambda x, y:x + y, numbers_1, numbers_2))\n",
    "print(result)"
   ]
  },
  {
   "attachments": {},
   "cell_type": "markdown",
   "metadata": {},
   "source": [
    "### Map con diccionarios"
   ]
  },
  {
   "cell_type": "code",
   "execution_count": 3,
   "metadata": {},
   "outputs": [
    {
     "name": "stdout",
     "output_type": "stream",
     "text": [
      "[{'product': 'camisa', 'price': 100}, {'product': 'pantalones', 'price': 300}, {'product': 'jeans', 'price': 200}]\n",
      "[100, 300, 200]\n",
      "[{'product': 'camisa', 'price': 100, 'taxes': 19.0}, {'product': 'pantalones', 'price': 300, 'taxes': 57.0}, {'product': 'jeans', 'price': 200, 'taxes': 38.0}]\n"
     ]
    }
   ],
   "source": [
    "items = [\n",
    "  {\n",
    "    'product':'camisa',\n",
    "    'price': 100,\n",
    "  },\n",
    "  {\n",
    "    'product':'pantalones',\n",
    "    'price':300  \n",
    "  },\n",
    "  {\n",
    "    'product':'jeans',\n",
    "    'price':200  \n",
    "  }\n",
    "]\n",
    "\n",
    "prices = list(map(lambda item: item['price'], items))\n",
    "print(items)\n",
    "print(prices)\n",
    "\n",
    "def add_taxes(item):\n",
    "  item['taxes'] = item['price'] * 0.19\n",
    "  return item\n",
    "  \n",
    "new_items = list(map(add_taxes, items))\n",
    "print(new_items)"
   ]
  },
  {
   "attachments": {},
   "cell_type": "markdown",
   "metadata": {},
   "source": [
    "#### Ejercicio"
   ]
  },
  {
   "cell_type": "code",
   "execution_count": 4,
   "metadata": {},
   "outputs": [
    {
     "name": "stdout",
     "output_type": "stream",
     "text": [
      "[{'product': 'shirt', 'price': 120, 'tax': 22.8}, {'product': 'pants', 'price': 160, 'tax': 30.4}, {'product': 'jacket', 'price': 205, 'tax': 38.95}]\n",
      "[{'product': 'shirt', 'price': 120}, {'product': 'pants', 'price': 160}, {'product': 'jacket', 'price': 205}]\n"
     ]
    }
   ],
   "source": [
    "items =[\n",
    "    {'product': 'shirt',\n",
    "    'price':120},\n",
    "    {'product': 'pants',\n",
    "    'price':160},\n",
    "    {'product': 'jacket',\n",
    "    'price':205}\n",
    "]\n",
    "\n",
    "new_items = list(map( lambda x: x|{'tax': x['price']*0.19} ,items)) \n",
    "\n",
    "print(new_items)   \n",
    "print(items)"
   ]
  },
  {
   "attachments": {},
   "cell_type": "markdown",
   "metadata": {},
   "source": [
    "### Reto: map con inmutabilidad"
   ]
  },
  {
   "cell_type": "code",
   "execution_count": 5,
   "metadata": {},
   "outputs": [
    {
     "name": "stdout",
     "output_type": "stream",
     "text": [
      "New list\n",
      "[{'product': 'camisa', 'price': 100, 'taxes': 19.0}, {'product': 'pantalones', 'price': 300, 'taxes': 57.0}, {'product': 'jeans', 'price': 200, 'taxes': 38.0}]\n",
      "Old list\n",
      "[{'product': 'camisa', 'price': 100}, {'product': 'pantalones', 'price': 300}, {'product': 'jeans', 'price': 200}]\n"
     ]
    }
   ],
   "source": [
    "items = [\n",
    "  {\n",
    "    'product':'camisa',\n",
    "    'price': 100,\n",
    "  },\n",
    "  {\n",
    "    'product':'pantalones',\n",
    "    'price':300  \n",
    "  },\n",
    "  {\n",
    "    'product':'jeans',\n",
    "    'price':200  \n",
    "  }\n",
    "]\n",
    "\n",
    "def add_taxes(item):\n",
    "  new_item = item.copy()\n",
    "  new_item['taxes'] = new_item['price'] * 0.19\n",
    "  return new_item\n",
    "  \n",
    "new_items = list(map(add_taxes, items))\n",
    "print('New list')\n",
    "print(new_items)\n",
    "print('Old list')\n",
    "print(items)"
   ]
  },
  {
   "cell_type": "markdown",
   "metadata": {},
   "source": []
  },
  {
   "attachments": {},
   "cell_type": "markdown",
   "metadata": {},
   "source": [
    "### Filter\n"
   ]
  },
  {
   "cell_type": "code",
   "execution_count": 6,
   "metadata": {},
   "outputs": [
    {
     "name": "stdout",
     "output_type": "stream",
     "text": [
      "[2, 4]\n",
      "[1, 2, 3, 4, 5]\n"
     ]
    }
   ],
   "source": [
    "numbers = [1, 2, 3, 4, 5]\n",
    "new_numbers = list(filter(lambda x : x % 2 == 0, numbers))\n",
    "print(new_numbers)\n",
    "print(numbers)"
   ]
  },
  {
   "attachments": {},
   "cell_type": "markdown",
   "metadata": {},
   "source": [
    "### filter and dictionary"
   ]
  },
  {
   "cell_type": "code",
   "execution_count": 7,
   "metadata": {},
   "outputs": [
    {
     "name": "stdout",
     "output_type": "stream",
     "text": [
      "[{'home_team': 'Bolivia', 'away_team': 'Uruguay', 'home_team_score': 3, 'away_team_score': 1, 'home_team_result': 'Win'}, {'home_team': 'Brazil', 'away_team': 'Mexico', 'home_team_score': 1, 'away_team_score': 1, 'home_team_result': 'Draw'}, {'home_team': 'Ecuador', 'away_team': 'Venezuela', 'home_team_score': 5, 'away_team_score': 0, 'home_team_result': 'Win'}]\n",
      "3\n",
      "[{'home_team': 'Bolivia', 'away_team': 'Uruguay', 'home_team_score': 3, 'away_team_score': 1, 'home_team_result': 'Win'}, {'home_team': 'Ecuador', 'away_team': 'Venezuela', 'home_team_score': 5, 'away_team_score': 0, 'home_team_result': 'Win'}]\n",
      "2\n",
      "[{'home_team': 'Bolivia', 'away_team': 'Uruguay', 'home_team_score': 3, 'away_team_score': 1, 'home_team_result': 'Win'}, {'home_team': 'Brazil', 'away_team': 'Mexico', 'home_team_score': 1, 'away_team_score': 1, 'home_team_result': 'Draw'}, {'home_team': 'Ecuador', 'away_team': 'Venezuela', 'home_team_score': 5, 'away_team_score': 0, 'home_team_result': 'Win'}]\n",
      "3\n"
     ]
    }
   ],
   "source": [
    "matches = [\n",
    "  {\n",
    "    'home_team': 'Bolivia',\n",
    "    'away_team': 'Uruguay',\n",
    "    'home_team_score': 3,\n",
    "    'away_team_score': 1,\n",
    "    'home_team_result': 'Win'\n",
    "  },\n",
    "  {\n",
    "    'home_team': 'Brazil',\n",
    "    'away_team': 'Mexico',\n",
    "    'home_team_score': 1,\n",
    "    'away_team_score': 1,\n",
    "    'home_team_result': 'Draw'\n",
    "  },\n",
    "  {\n",
    "    'home_team': 'Ecuador',\n",
    "    'away_team': 'Venezuela',\n",
    "    'home_team_score': 5,\n",
    "    'away_team_score': 0,\n",
    "    'home_team_result': 'Win'\n",
    "  },\n",
    "]\n",
    "print(matches)\n",
    "print(len(matches))\n",
    "\n",
    "new_list = list(filter(lambda item: item['home_team_result'] == 'Win', matches))\n",
    "\n",
    "print(new_list)\n",
    "print(len(new_list))\n",
    "\n",
    "print(matches)\n",
    "print(len(matches))"
   ]
  },
  {
   "attachments": {},
   "cell_type": "markdown",
   "metadata": {},
   "source": [
    "### Reduce"
   ]
  },
  {
   "cell_type": "code",
   "execution_count": 1,
   "metadata": {},
   "outputs": [
    {
     "name": "stdout",
     "output_type": "stream",
     "text": [
      "counter =>  1\n",
      "item =>  2\n",
      "counter =>  3\n",
      "item =>  3\n",
      "counter =>  6\n",
      "item =>  4\n",
      "10\n"
     ]
    }
   ],
   "source": [
    "import functools\n",
    "\n",
    "numbers = [1,2,3,4]\n",
    "\n",
    "def accum(counter, item):\n",
    "  print('counter => ',counter)\n",
    "  print('item => ',item)\n",
    "  return counter + item\n",
    "\n",
    "result = functools.reduce(accum, numbers)\n",
    "\n",
    "print(result)"
   ]
  },
  {
   "cell_type": "code",
   "execution_count": 4,
   "metadata": {},
   "outputs": [
    {
     "name": "stdout",
     "output_type": "stream",
     "text": [
      "10\n"
     ]
    }
   ],
   "source": [
    "import functools\n",
    "\n",
    "def accum(counter, item):\n",
    "\treturn counter + item\n",
    "\n",
    "print(functools.reduce(accum, [1, 2, 3, 4]))"
   ]
  },
  {
   "cell_type": "code",
   "execution_count": 5,
   "metadata": {},
   "outputs": [
    {
     "name": "stdout",
     "output_type": "stream",
     "text": [
      "10\n"
     ]
    }
   ],
   "source": [
    "print(accum(accum(accum(1, 2), 3), 4))"
   ]
  },
  {
   "attachments": {},
   "cell_type": "markdown",
   "metadata": {},
   "source": [
    "### Módulos"
   ]
  },
  {
   "cell_type": "code",
   "execution_count": 6,
   "metadata": {},
   "outputs": [
    {
     "name": "stdout",
     "output_type": "stream",
     "text": [
      "['c:\\\\Users\\\\celio\\\\OneDrive\\\\Escritorio\\\\programar\\\\platzi\\\\Curso_de_Fundamentos_de_Python', 'c:\\\\Users\\\\celio\\\\AppData\\\\Local\\\\Programs\\\\Python\\\\Python311\\\\python311.zip', 'c:\\\\Users\\\\celio\\\\AppData\\\\Local\\\\Programs\\\\Python\\\\Python311\\\\Lib', 'c:\\\\Users\\\\celio\\\\AppData\\\\Local\\\\Programs\\\\Python\\\\Python311\\\\DLLs', '', 'C:\\\\Users\\\\celio\\\\AppData\\\\Roaming\\\\Python\\\\Python311\\\\site-packages', 'C:\\\\Users\\\\celio\\\\AppData\\\\Roaming\\\\Python\\\\Python311\\\\site-packages\\\\win32', 'C:\\\\Users\\\\celio\\\\AppData\\\\Roaming\\\\Python\\\\Python311\\\\site-packages\\\\win32\\\\lib', 'C:\\\\Users\\\\celio\\\\AppData\\\\Roaming\\\\Python\\\\Python311\\\\site-packages\\\\Pythonwin', 'c:\\\\Users\\\\celio\\\\AppData\\\\Local\\\\Programs\\\\Python\\\\Python311', 'c:\\\\Users\\\\celio\\\\AppData\\\\Local\\\\Programs\\\\Python\\\\Python311\\\\Lib\\\\site-packages']\n",
      "['311', '123', '121', '57', '3']\n",
      "1671060365.774703\n",
      "Wed Dec 14 18:26:05 2022\n",
      "Counter({1: 4, 2: 2, 3: 2, 4: 1, 5: 1, 21: 1})\n"
     ]
    }
   ],
   "source": [
    "# ver la localizacion del archivo\n",
    "import sys\n",
    "print(sys.path)\n",
    "\n",
    "# Extraer elementos de un texto\n",
    "\n",
    "import re\n",
    "text = 'Mi numero de telefono es 311 123 121,  el codigo del pais es 57, mi numero de la suerte 3'\n",
    "result = re.findall('[0-9]+', text)\n",
    "print(result)\n",
    "\n",
    "# Muestra la fecha, día, hora de equipo\n",
    "\n",
    "import time\n",
    "timestamp = time.time()\n",
    "print(timestamp)\n",
    "\n",
    "local = time.localtime()\n",
    "result = time.asctime(local)\n",
    "print(result)\n",
    "\n",
    "# Manejar lista, cuanta los elementos que se encuentran en la lista\n",
    "\n",
    "import collections\n",
    "numbers = [1,1,2,1,2,1,4,5,3,3,21]\n",
    "counter = collections.Counter(numbers)\n",
    "print(counter)"
   ]
  },
  {
   "attachments": {},
   "cell_type": "markdown",
   "metadata": {},
   "source": [
    "### Mis propios módulos\n"
   ]
  },
  {
   "attachments": {},
   "cell_type": "markdown",
   "metadata": {},
   "source": [
    "#### utils.py"
   ]
  },
  {
   "cell_type": "code",
   "execution_count": 9,
   "metadata": {},
   "outputs": [],
   "source": [
    "def get_population():\n",
    "  keys = ['col','bol']\n",
    "  values = [300, 400]\n",
    "  return keys, values\n",
    "\n",
    "def population_by_country(data, country):\n",
    "  result = list(filter(lambda item: item['Country'] == country,data))\n",
    "  return result"
   ]
  },
  {
   "attachments": {},
   "cell_type": "markdown",
   "metadata": {},
   "source": [
    "#### main.py"
   ]
  },
  {
   "cell_type": "code",
   "execution_count": 10,
   "metadata": {},
   "outputs": [
    {
     "ename": "ModuleNotFoundError",
     "evalue": "No module named 'utils'",
     "output_type": "error",
     "traceback": [
      "\u001b[1;31m---------------------------------------------------------------------------\u001b[0m",
      "\u001b[1;31mModuleNotFoundError\u001b[0m                       Traceback (most recent call last)",
      "Cell \u001b[1;32mIn [10], line 1\u001b[0m\n\u001b[1;32m----> 1\u001b[0m \u001b[39mimport\u001b[39;00m \u001b[39mutils\u001b[39;00m\n\u001b[0;32m      3\u001b[0m keys, values \u001b[39m=\u001b[39m utils\u001b[39m.\u001b[39mget_population()\n\u001b[0;32m      4\u001b[0m \u001b[39mprint\u001b[39m(keys, values)\n",
      "\u001b[1;31mModuleNotFoundError\u001b[0m: No module named 'utils'"
     ]
    }
   ],
   "source": [
    "import utils\n",
    "\n",
    "keys, values = utils.get_population()\n",
    "print(keys, values)\n",
    "\n",
    "data= [\n",
    "  {\n",
    "    'Country':'Colombia',\n",
    "    'Population':500\n",
    "  },\n",
    "  {\n",
    "    'Country':'Bolivia',\n",
    "    'Population':300\n",
    "  }\n",
    "]\n",
    "\n",
    "country = input('Type Country => ')\n",
    "result = utils.population_by_country(data,country)\n",
    "print(result)"
   ]
  },
  {
   "attachments": {},
   "cell_type": "markdown",
   "metadata": {},
   "source": [
    "### Módulos como scripts: __name__ y __main__\n"
   ]
  },
  {
   "attachments": {},
   "cell_type": "markdown",
   "metadata": {},
   "source": [
    "#### main.py"
   ]
  },
  {
   "cell_type": "code",
   "execution_count": null,
   "metadata": {},
   "outputs": [],
   "source": [
    "import utils\n",
    "\n",
    "data= [\n",
    "    {\n",
    "      'Country':'Colombia',\n",
    "      'Population':500\n",
    "    },\n",
    "    {\n",
    "      'Country':'Bolivia',\n",
    "      'Population':300\n",
    "    }\n",
    "  ]\n",
    "\n",
    "def run(): \n",
    "  keys,values = utils.get_population()\n",
    "  print(keys, values)\n",
    "    \n",
    "  country = input('Type Country => ')\n",
    "  \n",
    "  result = utils.population_by_country(data,country)\n",
    "  print(result)\n",
    "# ejecuta desde la termina\n",
    "if __name__ == '__main__':\n",
    "  run()"
   ]
  },
  {
   "attachments": {},
   "cell_type": "markdown",
   "metadata": {},
   "source": [
    "#### utils.py"
   ]
  },
  {
   "cell_type": "code",
   "execution_count": null,
   "metadata": {},
   "outputs": [],
   "source": [
    "def get_population():\n",
    "  keys = ['col','bol']\n",
    "  values = [300, 400]\n",
    "  return keys, values\n",
    "\n",
    "def population_by_country(data, country):\n",
    "  result = list(filter(lambda item: item['Country'] == country,data))\n",
    "  return result"
   ]
  },
  {
   "attachments": {},
   "cell_type": "markdown",
   "metadata": {},
   "source": [
    "#### example.py"
   ]
  },
  {
   "cell_type": "code",
   "execution_count": null,
   "metadata": {},
   "outputs": [],
   "source": [
    "import main\n",
    "\n",
    "print(main.data)\n",
    "main.run()\n",
    "#print('example => ',main.data)"
   ]
  },
  {
   "attachments": {},
   "cell_type": "markdown",
   "metadata": {},
   "source": [
    "### Paquetes o packages"
   ]
  },
  {
   "attachments": {},
   "cell_type": "markdown",
   "metadata": {},
   "source": [
    "#### main.py"
   ]
  },
  {
   "cell_type": "code",
   "execution_count": null,
   "metadata": {},
   "outputs": [],
   "source": [
    "'''\n",
    "from pkg.mod_1 import func_1, func_2\n",
    "from pkg.mod_2 import func_3, func_4\n",
    "\n",
    "print(func_1())\n",
    "print(func_2())\n",
    "print(func_3())\n",
    "print(func_4())\n",
    "'''\n",
    "\n",
    "import pkg\n",
    "print(pkg.URL)\n",
    "print(pkg.mod_1.func_1())"
   ]
  },
  {
   "attachments": {},
   "cell_type": "markdown",
   "metadata": {},
   "source": [
    "### Crea la carpeta pkg.py"
   ]
  },
  {
   "attachments": {},
   "cell_type": "markdown",
   "metadata": {},
   "source": [
    "### ___int__.py"
   ]
  },
  {
   "cell_type": "code",
   "execution_count": null,
   "metadata": {},
   "outputs": [],
   "source": [
    "print('Se inicio paquete')\n",
    "\n",
    "URL = 'platzi.com'\n",
    "\n",
    "import pkg.mod_1, pkg.mod_2"
   ]
  },
  {
   "attachments": {},
   "cell_type": "markdown",
   "metadata": {},
   "source": [
    "#### mod_1.py"
   ]
  },
  {
   "cell_type": "code",
   "execution_count": null,
   "metadata": {},
   "outputs": [],
   "source": [
    "def func_1():\n",
    "  return 'func 1'\n",
    "\n",
    "def func_2():\n",
    "  return 'func 2'"
   ]
  },
  {
   "attachments": {},
   "cell_type": "markdown",
   "metadata": {},
   "source": [
    "#### mod_2.py"
   ]
  },
  {
   "cell_type": "code",
   "execution_count": null,
   "metadata": {},
   "outputs": [],
   "source": [
    "def func_3():\n",
    "  return 'func 3'\n",
    "\n",
    "def func_4():\n",
    "  return 'func 4'"
   ]
  },
  {
   "attachments": {},
   "cell_type": "markdown",
   "metadata": {},
   "source": [
    "### Iterables"
   ]
  },
  {
   "cell_type": "code",
   "execution_count": 1,
   "metadata": {},
   "outputs": [
    {
     "name": "stdout",
     "output_type": "stream",
     "text": [
      "1\n",
      "2\n",
      "3\n",
      "4\n",
      "5\n",
      "6\n",
      "7\n",
      "8\n",
      "9\n",
      "<range_iterator object at 0x0000011CE6C23CB0>\n",
      "1\n",
      "2\n",
      "3\n"
     ]
    }
   ],
   "source": [
    "for i in range(1, 10):\n",
    "  print(i)\n",
    "\n",
    "my_iter = iter(range(1,4))\n",
    "print(my_iter)\n",
    "print(next(my_iter))\n",
    "print(next(my_iter))\n",
    "print(next(my_iter))"
   ]
  },
  {
   "attachments": {},
   "cell_type": "markdown",
   "metadata": {},
   "source": [
    "### Errores en Python"
   ]
  },
  {
   "cell_type": "code",
   "execution_count": 3,
   "metadata": {},
   "outputs": [
    {
     "name": "stdout",
     "output_type": "stream",
     "text": [
      "Hola\n",
      "Hola 2\n"
     ]
    },
    {
     "ename": "Exception",
     "evalue": "No se permite menores de edad",
     "output_type": "error",
     "traceback": [
      "\u001b[1;31m---------------------------------------------------------------------------\u001b[0m",
      "\u001b[1;31mException\u001b[0m                                 Traceback (most recent call last)",
      "Cell \u001b[1;32mIn [3], line 12\u001b[0m\n\u001b[0;32m     10\u001b[0m age \u001b[39m=\u001b[39m \u001b[39m10\u001b[39m\n\u001b[0;32m     11\u001b[0m \u001b[39mif\u001b[39;00m age \u001b[39m<\u001b[39m \u001b[39m18\u001b[39m:\n\u001b[1;32m---> 12\u001b[0m     \u001b[39mraise\u001b[39;00m \u001b[39mException\u001b[39;00m(\u001b[39m'\u001b[39m\u001b[39mNo se permite menores de edad\u001b[39m\u001b[39m'\u001b[39m)\n\u001b[0;32m     14\u001b[0m \u001b[39mprint\u001b[39m (\u001b[39m'\u001b[39m\u001b[39mHola 3\u001b[39m\u001b[39m'\u001b[39m)\n",
      "\u001b[1;31mException\u001b[0m: No se permite menores de edad"
     ]
    }
   ],
   "source": [
    "#print(0/0)\n",
    "#print(result)\n",
    "print('Hola')\n",
    "\n",
    "suma= lambda x, y: x + y\n",
    "assert suma(2, 2) == 4\n",
    "\n",
    "print('Hola 2')\n",
    "\n",
    "age = 10\n",
    "if age < 18:\n",
    "    raise Exception('No se permite menores de edad')\n",
    "\n",
    "print ('Hola 3')"
   ]
  },
  {
   "attachments": {},
   "cell_type": "markdown",
   "metadata": {},
   "source": [
    "### Manejo de excepciones"
   ]
  },
  {
   "cell_type": "code",
   "execution_count": 4,
   "metadata": {},
   "outputs": [
    {
     "name": "stdout",
     "output_type": "stream",
     "text": [
      "division by zero\n",
      "Hola\n",
      "Hola 2\n"
     ]
    }
   ],
   "source": [
    "try:\n",
    "  print(0/0)\n",
    "  assert 1 != 1, 'Uno no es igual a uno'\n",
    "  age = 10\n",
    "  if age < 18:\n",
    "    raise Exception('No se permite menores de edad')\n",
    "except ZeroDivisionError as error:\n",
    "  print(error)\n",
    "except AssertionError as error:\n",
    "  print(error)\n",
    "except Exception as error:\n",
    "  print(error)\n",
    "\n",
    "print('Hola')\n",
    "print('Hola 2')"
   ]
  },
  {
   "attachments": {},
   "cell_type": "markdown",
   "metadata": {},
   "source": [
    "### Leer un archivo de texto"
   ]
  },
  {
   "cell_type": "code",
   "execution_count": 3,
   "metadata": {},
   "outputs": [
    {
     "name": "stdout",
     "output_type": "stream",
     "text": [
      "line 1\n",
      "\n",
      "line 2 \n",
      "\n",
      "line 3 \n",
      "\n",
      "line 4 \n",
      "\n",
      "line 3\n",
      "\n",
      "car\n",
      "\n",
      "houese \n",
      "\n",
      "driver\n",
      "\n",
      "name \n",
      "\n",
      "last_name\n",
      "line 1\n",
      "\n",
      "line 2 \n",
      "\n",
      "line 3 \n",
      "\n",
      "line 4 \n",
      "\n",
      "line 3\n",
      "\n",
      "car\n",
      "\n",
      "houese \n",
      "\n",
      "driver\n",
      "\n",
      "name \n",
      "\n",
      "last_name\n"
     ]
    }
   ],
   "source": [
    "#para abrir un archivo\n",
    "file = open('./text.txt') # El link del archivo\n",
    "# leer el archivo\n",
    "# print(file.read())\n",
    "# leer las lineas del archivo\n",
    "# print(file.readline())\n",
    "# print(file.readline())\n",
    "# print(file.readline())\n",
    "# print(file.readline())\n",
    "\n",
    "for line in file:\n",
    "  print(line)\n",
    "# cerrar archivo\n",
    "file.close()\n",
    "\n",
    "#abrir , leer y cerrar archivos automaticamente\n",
    "\n",
    "with open('./text.txt') as file:\n",
    "  for line in file:\n",
    "    print(line)"
   ]
  },
  {
   "attachments": {},
   "cell_type": "markdown",
   "metadata": {},
   "source": [
    "### Escribir en un archivo"
   ]
  },
  {
   "cell_type": "code",
   "execution_count": null,
   "metadata": {},
   "outputs": [],
   "source": [
    "with open('./text.txt', 'r+') as file:\n",
    "  for line in file:\n",
    "    print(line)\n",
    "  file.write('nuevas cosas en este archivo\\n')\n",
    "  file.write('otra linea\\n')\n",
    "  file.write(' mas linea\\n')\n",
    "\n",
    "#w+ permite leer el archivo, pero al agregar write sobreescribe el archivo\n",
    " #r+ agrega el texto al final del archivo\n",
    "\n",
    "''' Veamos algunos de los modos más usados con los que un archivo puede ser abierto en Python:\n",
    "\n",
    "r -> abre un archivo solo para lectura. El puntero al archivo esta localizado al comienzo del archivo. Este es el modo predeterminado de la función.\n",
    "rb -> abre un archivo solo para lectura en formato binario. El puntero al archivo esta localizado al comienzo del archivo. Este es el modo predeterminado de la función.\n",
    "r+ -> abre un archivo para escritura y lectura. El puntero del archivo está localizado al comienzo del archivo.\n",
    "w -> abre un archivo solo para escritura. Sobreescribe el archivo si este ya existe. Si el archivo no existe, crea un nuevo archivo para escritura.\n",
    "wb -> abre un archivo solo para escritura en formato binario. Sobreescribe el archivo si este ya existe. Si el archivo no existe, crea un nuevo archivo para escritura.\n",
    "w+ -> abre un archivo para escritura y lectura. Sobreescribe el archivo si este ya existe. Si el archivo no existe, crea un nuevo archivo para escritura.\n",
    "a -> abre un archivo para anexo. El puntero del archivo esta al final del archivo si este existe. Es decir, el archivo está en modo anexo. Si el archivo no existe, crea un nuevo archivo para escritura.'''"
   ]
  },
  {
   "attachments": {},
   "cell_type": "markdown",
   "metadata": {},
   "source": [
    "### Leer u CSV"
   ]
  },
  {
   "cell_type": "code",
   "execution_count": 5,
   "metadata": {},
   "outputs": [
    {
     "name": "stdout",
     "output_type": "stream",
     "text": [
      "{'Rank': '36', 'CCA3': 'AFG', 'Country/Territory': 'Afghanistan', 'Capital': 'Kabul', 'Continent': 'Asia', '2022 Population': '41128771', '2020 Population': '38972230', '2015 Population': '33753499', '2010 Population': '28189672', '2000 Population': '19542982', '1990 Population': '10694796', '1980 Population': '12486631', '1970 Population': '10752971', 'Area (kmÂ²)': '652230', 'Density (per kmÂ²)': '63.0587', 'Growth Rate': '1.0257', 'World Population Percentage': '0.52'}\n"
     ]
    }
   ],
   "source": [
    "import csv\n",
    "\n",
    "def read_csv(path):\n",
    "  with open(path, 'r') as csvfile:\n",
    "    reader = csv.reader(csvfile, delimiter=',')\n",
    "    header = next(reader)\n",
    "    data = []\n",
    "    for row in reader:\n",
    "      iterable = zip(header, row)\n",
    "      #print(list(iterable))\n",
    "      country_dict = {key: value for key, value in iterable}\n",
    "      #print(country_dict)\n",
    "      data.append(country_dict)\n",
    "    return data\n",
    "      #print('***' * 5)\n",
    "      #print(row)\n",
    "\n",
    "if __name__ == '__main__':\n",
    "  data = read_csv('./archive/world_population.csv')\n",
    "  print(data[0])"
   ]
  },
  {
   "attachments": {},
   "cell_type": "markdown",
   "metadata": {},
   "source": [
    "### Creando una gráfica"
   ]
  },
  {
   "cell_type": "code",
   "execution_count": 13,
   "metadata": {},
   "outputs": [
    {
     "data": {
      "image/png": "[encoded data removed]",
      "text/plain": [
       "<Figure size 640x480 with 1 Axes>"
      ]
     },
     "metadata": {},
     "output_type": "display_data"
    }
   ],
   "source": [
    "import matplotlib.pyplot as plt\n",
    "\n",
    "def generate_bar_chart(): \n",
    "  labels = [ 'a','b', 'c']\n",
    "  values = [100, 200, 80]\n",
    "\n",
    "  fig, ax = plt.subplots()\n",
    "  ax.bar(labels, values) \n",
    "  plt.show()\n",
    "\n",
    "if __name__ == '__main__':\n",
    "  generate_bar_chart()"
   ]
  },
  {
   "cell_type": "code",
   "execution_count": 9,
   "metadata": {},
   "outputs": [
    {
     "data": {
      "image/png": "[encoded data removed]",
      "text/plain": [
       "<Figure size 640x480 with 1 Axes>"
      ]
     },
     "metadata": {},
     "output_type": "display_data"
    }
   ],
   "source": [
    "import matplotlib.pyplot as plt\n",
    "\n",
    "def generate_bar_chart(labels, values): \n",
    "  fig, ax = plt.subplots()\n",
    "  ax.bar(labels, values)\n",
    "  plt.show()\n",
    "\n",
    "def generate_pie_chart(labels, values):\n",
    "  fig, ax = plt.subplots()\n",
    "  ax.pie(values, labels = labels)\n",
    "  ax.axis('equal')\n",
    "  plt.show()\n",
    "\n",
    "if __name__ == '__main__':\n",
    "  labels = [ 'a','b', 'c']\n",
    "  values = [10, 40, 800]\n",
    "  #generate_bar_chart(labels, values)\n",
    "  generate_pie_chart(labels, values)"
   ]
  },
  {
   "cell_type": "code",
   "execution_count": 12,
   "metadata": {},
   "outputs": [
    {
     "data": {
      "image/png": "[encoded data removed]",
      "text/plain": [
       "<Figure size 640x480 with 1 Axes>"
      ]
     },
     "metadata": {},
     "output_type": "display_data"
    }
   ],
   "source": [
    "import matplotlib.pyplot as plt\n",
    "\n",
    "plt.plot([1,2,3,4,7,8],[1,4,9,16,18,21])\n",
    "\n",
    "plt.ylabel('y numbers')\n",
    "plt.xlabel('x numbers')\n",
    "\n",
    "plt.show()"
   ]
  },
  {
   "attachments": {},
   "cell_type": "markdown",
   "metadata": {},
   "source": [
    "### Reto: graficando la población de un país"
   ]
  },
  {
   "attachments": {},
   "cell_type": "markdown",
   "metadata": {},
   "source": [
    "#### utils"
   ]
  },
  {
   "cell_type": "code",
   "execution_count": null,
   "metadata": {},
   "outputs": [],
   "source": [
    "def get_population(country_dict):\n",
    "  population_dict = {\n",
    "    '2022': int(country_dict['2022 Population']),\n",
    "    '2020': int(country_dict['2020 Population']),\n",
    "    '2015': int(country_dict['2015 Population']),\n",
    "    '2010': int(country_dict['2010 Population']),\n",
    "    '2000': int(country_dict['2000 Population']),\n",
    "    '1990': int(country_dict['1990 Population']),\n",
    "    '1980': int(country_dict['1980 Population']),\n",
    "    '1970': int(country_dict['1970 Population'])\n",
    "  }\n",
    "  labels = population_dict.keys()\n",
    "  values = population_dict.values()\n",
    "  return labels, values\n",
    "\n",
    "\n",
    "def population_by_country(data, country):\n",
    "  result = list(filter(lambda item: item['Country/Territory'] == country, data))\n",
    "  return result"
   ]
  },
  {
   "attachments": {},
   "cell_type": "markdown",
   "metadata": {},
   "source": [
    "#### read_csv"
   ]
  },
  {
   "cell_type": "code",
   "execution_count": null,
   "metadata": {},
   "outputs": [],
   "source": [
    "import csv\n",
    "\n",
    "def read_csv(path):\n",
    "  with open(path, 'r') as csvfile:\n",
    "    reader = csv.reader(csvfile, delimiter=',')\n",
    "    header = next(reader)\n",
    "    data = []\n",
    "    for row in reader:\n",
    "      iterable = zip(header, row)\n",
    "      country_dict = {key: value for key, value in iterable}\n",
    "      data.append(country_dict)\n",
    "    return data\n",
    "\n",
    "if __name__ == '__main__':\n",
    "  data = read_csv('./app/data.csv')\n",
    "  print(data[0])"
   ]
  },
  {
   "attachments": {},
   "cell_type": "markdown",
   "metadata": {},
   "source": [
    "#### charts\n"
   ]
  },
  {
   "cell_type": "code",
   "execution_count": null,
   "metadata": {},
   "outputs": [],
   "source": [
    "import matplotlib.pyplot as plt\n",
    "\n",
    "def generate_bar_chart(labels, values):\n",
    "  fig, ax = plt.subplots()\n",
    "  ax.bar(labels, values)\n",
    "  plt.show()\n",
    "\n",
    "def generate_pie_chart(labels, values):\n",
    "  fig, ax = plt.subplots()\n",
    "  ax.pie(values, labels=labels)\n",
    "  ax.axis('equal')\n",
    "  plt.show()\n",
    "\n",
    "if __name__ == '__main__':\n",
    "  labels = ['a', 'b', 'c']\n",
    "  values = [10, 40, 800]\n",
    "  # generate_bar_chart(labels, values)\n",
    "  generate_pie_chart(labels, values)\n"
   ]
  },
  {
   "attachments": {},
   "cell_type": "markdown",
   "metadata": {},
   "source": [
    "#### main"
   ]
  },
  {
   "cell_type": "code",
   "execution_count": null,
   "metadata": {},
   "outputs": [],
   "source": [
    "import utils\n",
    "import read_csv\n",
    "import charts\n",
    "\n",
    "def run(): \n",
    "  data = read_csv.read_csv('./app/data.csv')\n",
    "  country = input('Type Country => ')\n",
    "\n",
    "  result = utils.population_by_country(data, country)\n",
    "\n",
    "  if len(result) > 0:\n",
    "    country = result[0]\n",
    "    labels, values = utils.get_population(country)\n",
    "    charts.generate_bar_chart(labels, values)\n",
    "  \n",
    "if __name__ == '__main__':\n",
    "  run()"
   ]
  },
  {
   "cell_type": "code",
   "execution_count": 14,
   "metadata": {},
   "outputs": [
    {
     "name": "stdout",
     "output_type": "stream",
     "text": [
      "{1}\n"
     ]
    }
   ],
   "source": [
    "a = {1,2}\n",
    "b = {2,3}\n",
    "print(a - b)"
   ]
  },
  {
   "cell_type": "code",
   "execution_count": 16,
   "metadata": {},
   "outputs": [
    {
     "name": "stdout",
     "output_type": "stream",
     "text": [
      "<function sum at 0x00000283D95B6480>\n"
     ]
    }
   ],
   "source": [
    "def sum(a = 1, b = 0):\n",
    "  return a + b\n",
    "print(sum)"
   ]
  },
  {
   "cell_type": "code",
   "execution_count": 17,
   "metadata": {},
   "outputs": [
    {
     "name": "stdout",
     "output_type": "stream",
     "text": [
      "{1, 2, 3}\n"
     ]
    }
   ],
   "source": [
    "a = {1,2}\n",
    "b = {2,3}\n",
    "print(a | b)"
   ]
  },
  {
   "cell_type": "code",
   "execution_count": 18,
   "metadata": {},
   "outputs": [
    {
     "name": "stdout",
     "output_type": "stream",
     "text": [
      "{'Nicolas', 'Juan', 'Miguel'}\n"
     ]
    }
   ],
   "source": [
    "names = {'Nicolas', 'Miguel', 'Juan', 'Nicolas'} \n",
    "print(names) "
   ]
  },
  {
   "cell_type": "code",
   "execution_count": 19,
   "metadata": {},
   "outputs": [
    {
     "name": "stdout",
     "output_type": "stream",
     "text": [
      "{2}\n"
     ]
    }
   ],
   "source": [
    "a = {1,2}\n",
    "b = {2,3}\n",
    "print(a & b)"
   ]
  }
 ],
 "metadata": {
  "kernelspec": {
   "display_name": "Python 3",
   "language": "python",
   "name": "python3"
  },
  "language_info": {
   "codemirror_mode": {
    "name": "ipython",
    "version": 3
   },
   "file_extension": ".py",
   "mimetype": "text/x-python",
   "name": "python",
   "nbconvert_exporter": "python",
   "pygments_lexer": "ipython3",
   "version": "3.11.1"
  },
  "orig_nbformat": 4,
  "vscode": {
   "interpreter": {
    "hash": "5a9f38817c8ceb891a0ba0bc99fbd8fe203dc93590b0deea4ef2b0373c67f9c0"
   }
  }
 },
 "nbformat": 4,
 "nbformat_minor": 2
}
