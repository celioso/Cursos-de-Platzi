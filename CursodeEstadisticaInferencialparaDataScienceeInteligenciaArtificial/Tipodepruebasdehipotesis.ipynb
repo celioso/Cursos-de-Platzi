{
  "nbformat": 4,
  "nbformat_minor": 0,
  "metadata": {
    "colab": {
      "provenance": []
    },
    "kernelspec": {
      "name": "python3",
      "display_name": "Python 3"
    },
    "language_info": {
      "name": "python"
    }
  },
  "cells": [
    {
      "cell_type": "markdown",
      "source": [
        "### Importar las librerías necesarias para el análisis"
      ],
      "metadata": {
        "id": "toqsgXpZ8CzN"
      }
    },
    {
      "cell_type": "code",
      "execution_count": null,
      "metadata": {
        "id": "5O8zjhK278jr"
      },
      "outputs": [],
      "source": [
        "import pandas as pd\n",
        "import numpy as np\n",
        "import matplotlib.pyplot as plt\n",
        "import seaborn as sns\n",
        "import scipy.stats as st\n",
        "from scipy.stats import f_oneway\n",
        "from scipy.stats import ttest_ind"
      ]
    },
    {
      "cell_type": "markdown",
      "source": [
        "### De nuevo, usaremos las base de daatos iris"
      ],
      "metadata": {
        "id": "SmnAHjHG8Yvz"
      }
    },
    {
      "cell_type": "code",
      "source": [
        "url = 'https://archive.ics.uci.edu/ml/machine-learning-databases/iris/iris.data'\n",
        "names = ['sepal_length', 'sepal_width', 'petal_length', 'petal_width', 'Class']\n",
        "iris = pd.read_csv(url, names=names)\n",
        "iris.head()"
      ],
      "metadata": {
        "colab": {
          "base_uri": "https://localhost:8080/",
          "height": 206
        },
        "id": "CRoH-MVG8f41",
        "outputId": "61ef91cc-fea8-4c65-bdb8-0a2978b3a20e"
      },
      "execution_count": 13,
      "outputs": [
        {
          "output_type": "execute_result",
          "data": {
            "text/plain": [
              "   sepal_length  sepal_width  petal_length  petal_width        Class\n",
              "0           5.1          3.5           1.4          0.2  Iris-setosa\n",
              "1           4.9          3.0           1.4          0.2  Iris-setosa\n",
              "2           4.7          3.2           1.3          0.2  Iris-setosa\n",
              "3           4.6          3.1           1.5          0.2  Iris-setosa\n",
              "4           5.0          3.6           1.4          0.2  Iris-setosa"
            ],
            "text/html": [
              "\n",
              "  <div id=\"df-23d0ed99-4330-40b5-bd1f-1ac844248d89\" class=\"colab-df-container\">\n",
              "    <div>\n",
              "<style scoped>\n",
              "    .dataframe tbody tr th:only-of-type {\n",
              "        vertical-align: middle;\n",
              "    }\n",
              "\n",
              "    .dataframe tbody tr th {\n",
              "        vertical-align: top;\n",
              "    }\n",
              "\n",
              "    .dataframe thead th {\n",
              "        text-align: right;\n",
              "    }\n",
              "</style>\n",
              "<table border=\"1\" class=\"dataframe\">\n",
              "  <thead>\n",
              "    <tr style=\"text-align: right;\">\n",
              "      <th></th>\n",
              "      <th>sepal_length</th>\n",
              "      <th>sepal_width</th>\n",
              "      <th>petal_length</th>\n",
              "      <th>petal_width</th>\n",
              "      <th>Class</th>\n",
              "    </tr>\n",
              "  </thead>\n",
              "  <tbody>\n",
              "    <tr>\n",
              "      <th>0</th>\n",
              "      <td>5.1</td>\n",
              "      <td>3.5</td>\n",
              "      <td>1.4</td>\n",
              "      <td>0.2</td>\n",
              "      <td>Iris-setosa</td>\n",
              "    </tr>\n",
              "    <tr>\n",
              "      <th>1</th>\n",
              "      <td>4.9</td>\n",
              "      <td>3.0</td>\n",
              "      <td>1.4</td>\n",
              "      <td>0.2</td>\n",
              "      <td>Iris-setosa</td>\n",
              "    </tr>\n",
              "    <tr>\n",
              "      <th>2</th>\n",
              "      <td>4.7</td>\n",
              "      <td>3.2</td>\n",
              "      <td>1.3</td>\n",
              "      <td>0.2</td>\n",
              "      <td>Iris-setosa</td>\n",
              "    </tr>\n",
              "    <tr>\n",
              "      <th>3</th>\n",
              "      <td>4.6</td>\n",
              "      <td>3.1</td>\n",
              "      <td>1.5</td>\n",
              "      <td>0.2</td>\n",
              "      <td>Iris-setosa</td>\n",
              "    </tr>\n",
              "    <tr>\n",
              "      <th>4</th>\n",
              "      <td>5.0</td>\n",
              "      <td>3.6</td>\n",
              "      <td>1.4</td>\n",
              "      <td>0.2</td>\n",
              "      <td>Iris-setosa</td>\n",
              "    </tr>\n",
              "  </tbody>\n",
              "</table>\n",
              "</div>\n",
              "    <div class=\"colab-df-buttons\">\n",
              "\n",
              "  <div class=\"colab-df-container\">\n",
              "    <button class=\"colab-df-convert\" onclick=\"convertToInteractive('df-23d0ed99-4330-40b5-bd1f-1ac844248d89')\"\n",
              "            title=\"Convert this dataframe to an interactive table.\"\n",
              "            style=\"display:none;\">\n",
              "\n",
              "  <svg xmlns=\"http://www.w3.org/2000/svg\" height=\"24px\" viewBox=\"0 -960 960 960\">\n",
              "    <path d=\"M120-120v-720h720v720H120Zm60-500h600v-160H180v160Zm220 220h160v-160H400v160Zm0 220h160v-160H400v160ZM180-400h160v-160H180v160Zm440 0h160v-160H620v160ZM180-180h160v-160H180v160Zm440 0h160v-160H620v160Z\"/>\n",
              "  </svg>\n",
              "    </button>\n",
              "\n",
              "  <style>\n",
              "    .colab-df-container {\n",
              "      display:flex;\n",
              "      gap: 12px;\n",
              "    }\n",
              "\n",
              "    .colab-df-convert {\n",
              "      background-color: #E8F0FE;\n",
              "      border: none;\n",
              "      border-radius: 50%;\n",
              "      cursor: pointer;\n",
              "      display: none;\n",
              "      fill: #1967D2;\n",
              "      height: 32px;\n",
              "      padding: 0 0 0 0;\n",
              "      width: 32px;\n",
              "    }\n",
              "\n",
              "    .colab-df-convert:hover {\n",
              "      background-color: #E2EBFA;\n",
              "      box-shadow: 0px 1px 2px rgba(60, 64, 67, 0.3), 0px 1px 3px 1px rgba(60, 64, 67, 0.15);\n",
              "      fill: #174EA6;\n",
              "    }\n",
              "\n",
              "    .colab-df-buttons div {\n",
              "      margin-bottom: 4px;\n",
              "    }\n",
              "\n",
              "    [theme=dark] .colab-df-convert {\n",
              "      background-color: #3B4455;\n",
              "      fill: #D2E3FC;\n",
              "    }\n",
              "\n",
              "    [theme=dark] .colab-df-convert:hover {\n",
              "      background-color: #434B5C;\n",
              "      box-shadow: 0px 1px 3px 1px rgba(0, 0, 0, 0.15);\n",
              "      filter: drop-shadow(0px 1px 2px rgba(0, 0, 0, 0.3));\n",
              "      fill: #FFFFFF;\n",
              "    }\n",
              "  </style>\n",
              "\n",
              "    <script>\n",
              "      const buttonEl =\n",
              "        document.querySelector('#df-23d0ed99-4330-40b5-bd1f-1ac844248d89 button.colab-df-convert');\n",
              "      buttonEl.style.display =\n",
              "        google.colab.kernel.accessAllowed ? 'block' : 'none';\n",
              "\n",
              "      async function convertToInteractive(key) {\n",
              "        const element = document.querySelector('#df-23d0ed99-4330-40b5-bd1f-1ac844248d89');\n",
              "        const dataTable =\n",
              "          await google.colab.kernel.invokeFunction('convertToInteractive',\n",
              "                                                    [key], {});\n",
              "        if (!dataTable) return;\n",
              "\n",
              "        const docLinkHtml = 'Like what you see? Visit the ' +\n",
              "          '<a target=\"_blank\" href=https://colab.research.google.com/notebooks/data_table.ipynb>data table notebook</a>'\n",
              "          + ' to learn more about interactive tables.';\n",
              "        element.innerHTML = '';\n",
              "        dataTable['output_type'] = 'display_data';\n",
              "        await google.colab.output.renderOutput(dataTable, element);\n",
              "        const docLink = document.createElement('div');\n",
              "        docLink.innerHTML = docLinkHtml;\n",
              "        element.appendChild(docLink);\n",
              "      }\n",
              "    </script>\n",
              "  </div>\n",
              "\n",
              "\n",
              "    <div id=\"df-d35d11dd-942f-4d74-9c96-3c74259d420f\">\n",
              "      <button class=\"colab-df-quickchart\" onclick=\"quickchart('df-d35d11dd-942f-4d74-9c96-3c74259d420f')\"\n",
              "                title=\"Suggest charts\"\n",
              "                style=\"display:none;\">\n",
              "\n",
              "<svg xmlns=\"http://www.w3.org/2000/svg\" height=\"24px\"viewBox=\"0 0 24 24\"\n",
              "     width=\"24px\">\n",
              "    <g>\n",
              "        <path d=\"M19 3H5c-1.1 0-2 .9-2 2v14c0 1.1.9 2 2 2h14c1.1 0 2-.9 2-2V5c0-1.1-.9-2-2-2zM9 17H7v-7h2v7zm4 0h-2V7h2v10zm4 0h-2v-4h2v4z\"/>\n",
              "    </g>\n",
              "</svg>\n",
              "      </button>\n",
              "\n",
              "<style>\n",
              "  .colab-df-quickchart {\n",
              "      --bg-color: #E8F0FE;\n",
              "      --fill-color: #1967D2;\n",
              "      --hover-bg-color: #E2EBFA;\n",
              "      --hover-fill-color: #174EA6;\n",
              "      --disabled-fill-color: #AAA;\n",
              "      --disabled-bg-color: #DDD;\n",
              "  }\n",
              "\n",
              "  [theme=dark] .colab-df-quickchart {\n",
              "      --bg-color: #3B4455;\n",
              "      --fill-color: #D2E3FC;\n",
              "      --hover-bg-color: #434B5C;\n",
              "      --hover-fill-color: #FFFFFF;\n",
              "      --disabled-bg-color: #3B4455;\n",
              "      --disabled-fill-color: #666;\n",
              "  }\n",
              "\n",
              "  .colab-df-quickchart {\n",
              "    background-color: var(--bg-color);\n",
              "    border: none;\n",
              "    border-radius: 50%;\n",
              "    cursor: pointer;\n",
              "    display: none;\n",
              "    fill: var(--fill-color);\n",
              "    height: 32px;\n",
              "    padding: 0;\n",
              "    width: 32px;\n",
              "  }\n",
              "\n",
              "  .colab-df-quickchart:hover {\n",
              "    background-color: var(--hover-bg-color);\n",
              "    box-shadow: 0 1px 2px rgba(60, 64, 67, 0.3), 0 1px 3px 1px rgba(60, 64, 67, 0.15);\n",
              "    fill: var(--button-hover-fill-color);\n",
              "  }\n",
              "\n",
              "  .colab-df-quickchart-complete:disabled,\n",
              "  .colab-df-quickchart-complete:disabled:hover {\n",
              "    background-color: var(--disabled-bg-color);\n",
              "    fill: var(--disabled-fill-color);\n",
              "    box-shadow: none;\n",
              "  }\n",
              "\n",
              "  .colab-df-spinner {\n",
              "    border: 2px solid var(--fill-color);\n",
              "    border-color: transparent;\n",
              "    border-bottom-color: var(--fill-color);\n",
              "    animation:\n",
              "      spin 1s steps(1) infinite;\n",
              "  }\n",
              "\n",
              "  @keyframes spin {\n",
              "    0% {\n",
              "      border-color: transparent;\n",
              "      border-bottom-color: var(--fill-color);\n",
              "      border-left-color: var(--fill-color);\n",
              "    }\n",
              "    20% {\n",
              "      border-color: transparent;\n",
              "      border-left-color: var(--fill-color);\n",
              "      border-top-color: var(--fill-color);\n",
              "    }\n",
              "    30% {\n",
              "      border-color: transparent;\n",
              "      border-left-color: var(--fill-color);\n",
              "      border-top-color: var(--fill-color);\n",
              "      border-right-color: var(--fill-color);\n",
              "    }\n",
              "    40% {\n",
              "      border-color: transparent;\n",
              "      border-right-color: var(--fill-color);\n",
              "      border-top-color: var(--fill-color);\n",
              "    }\n",
              "    60% {\n",
              "      border-color: transparent;\n",
              "      border-right-color: var(--fill-color);\n",
              "    }\n",
              "    80% {\n",
              "      border-color: transparent;\n",
              "      border-right-color: var(--fill-color);\n",
              "      border-bottom-color: var(--fill-color);\n",
              "    }\n",
              "    90% {\n",
              "      border-color: transparent;\n",
              "      border-bottom-color: var(--fill-color);\n",
              "    }\n",
              "  }\n",
              "</style>\n",
              "\n",
              "      <script>\n",
              "        async function quickchart(key) {\n",
              "          const quickchartButtonEl =\n",
              "            document.querySelector('#' + key + ' button');\n",
              "          quickchartButtonEl.disabled = true;  // To prevent multiple clicks.\n",
              "          quickchartButtonEl.classList.add('colab-df-spinner');\n",
              "          try {\n",
              "            const charts = await google.colab.kernel.invokeFunction(\n",
              "                'suggestCharts', [key], {});\n",
              "          } catch (error) {\n",
              "            console.error('Error during call to suggestCharts:', error);\n",
              "          }\n",
              "          quickchartButtonEl.classList.remove('colab-df-spinner');\n",
              "          quickchartButtonEl.classList.add('colab-df-quickchart-complete');\n",
              "        }\n",
              "        (() => {\n",
              "          let quickchartButtonEl =\n",
              "            document.querySelector('#df-d35d11dd-942f-4d74-9c96-3c74259d420f button');\n",
              "          quickchartButtonEl.style.display =\n",
              "            google.colab.kernel.accessAllowed ? 'block' : 'none';\n",
              "        })();\n",
              "      </script>\n",
              "    </div>\n",
              "\n",
              "    </div>\n",
              "  </div>\n"
            ],
            "application/vnd.google.colaboratory.intrinsic+json": {
              "type": "dataframe",
              "variable_name": "iris",
              "summary": "{\n  \"name\": \"iris\",\n  \"rows\": 150,\n  \"fields\": [\n    {\n      \"column\": \"sepal_length\",\n      \"properties\": {\n        \"dtype\": \"number\",\n        \"std\": 0.8280661279778629,\n        \"min\": 4.3,\n        \"max\": 7.9,\n        \"num_unique_values\": 35,\n        \"samples\": [\n          6.2,\n          4.5,\n          5.6\n        ],\n        \"semantic_type\": \"\",\n        \"description\": \"\"\n      }\n    },\n    {\n      \"column\": \"sepal_width\",\n      \"properties\": {\n        \"dtype\": \"number\",\n        \"std\": 0.4335943113621737,\n        \"min\": 2.0,\n        \"max\": 4.4,\n        \"num_unique_values\": 23,\n        \"samples\": [\n          2.3,\n          4.0,\n          3.5\n        ],\n        \"semantic_type\": \"\",\n        \"description\": \"\"\n      }\n    },\n    {\n      \"column\": \"petal_length\",\n      \"properties\": {\n        \"dtype\": \"number\",\n        \"std\": 1.7644204199522617,\n        \"min\": 1.0,\n        \"max\": 6.9,\n        \"num_unique_values\": 43,\n        \"samples\": [\n          6.7,\n          3.8,\n          3.7\n        ],\n        \"semantic_type\": \"\",\n        \"description\": \"\"\n      }\n    },\n    {\n      \"column\": \"petal_width\",\n      \"properties\": {\n        \"dtype\": \"number\",\n        \"std\": 0.7631607417008414,\n        \"min\": 0.1,\n        \"max\": 2.5,\n        \"num_unique_values\": 22,\n        \"samples\": [\n          0.2,\n          1.2,\n          1.3\n        ],\n        \"semantic_type\": \"\",\n        \"description\": \"\"\n      }\n    },\n    {\n      \"column\": \"Class\",\n      \"properties\": {\n        \"dtype\": \"category\",\n        \"num_unique_values\": 3,\n        \"samples\": [\n          \"Iris-setosa\",\n          \"Iris-versicolor\",\n          \"Iris-virginica\"\n        ],\n        \"semantic_type\": \"\",\n        \"description\": \"\"\n      }\n    }\n  ]\n}"
            }
          },
          "metadata": {},
          "execution_count": 13
        }
      ]
    },
    {
      "cell_type": "markdown",
      "source": [
        "### Tipos de pruebas:"
      ],
      "metadata": {
        "id": "LEkDRvnG-FRA"
      }
    },
    {
      "cell_type": "markdown",
      "source": [
        "#### a. Distribución t de Student"
      ],
      "metadata": {
        "id": "Qq1J3Eyi-KlX"
      }
    },
    {
      "cell_type": "markdown",
      "source": [
        "![formula3.jpg](data:image/jpeg;base64,UklGRowFAABXRUJQVlA4TIAFAAAv1cAeAAW1bdsOOdKPuqqZ9Ni2PROMbVvJjpEjG49t27ZtHp5pJel+PlTVW727yVufdjei/xMg//v/X54j79/ax11DuKC7F8UBbmF/XdTdwhKg+ejOpjGzZ89e8tkd7IQOj0XkTX/YI67xTYgucTE/gvmuIdEb30OxjEN317AJZon1O2jsGnrBVZvz0N0tfDFIr7AphRlu4SZkiO0AOOUWTsJ0my8+ulS4haeQZ7OEwFNxi5UBZltd91Aq7nEFjaKmO40Zkah6ErcP3YtZnK2oZmLtyX4Uv7vC5ylKSlX7flpdwNPmoEiJL2b1oiylR6ogicwxgPTp96XK3RCiZ8G5fcvqGAW7jR5ivZiUdq+KRMLXdp8PS5WbzCG0NSki8iULWGzz9sLxAqDV0dNnL5w/d/rwhlFeGF01VdGlGGfE+kMQTtqIyEXgT1G87idXn14GWCL2M/D8UFkF3FSR3qzTpxnwUKGMLqKaAekVSrkc16ZwGrUSCkf4QyUegEGivIGH2nQDAhGFvZxWuQIUW10/YcrjhzbtAU6oNI6o5AG3rToMM82vKdp8Cqhz0s5hBoQqLZ5SZjq7VZ/eGgCdl5yPOosHYLBYDuWeSatHmgB/xrZKB1eApV+/f3l9Zgg1E9r1oYUVkFWhlofqMEnp2f6pHhXWAfk822/DHLUMSJs4YfzY/jWhNDUX+qlnZGRkZmVn9+8/YKQeiPw6OruVBXdUYgEYIuafjbmbGi1+v8YPrFO5BJRYSP8aCVP4noaJXAEmqawC7lq1GibmhenxfwxV5t9m8xUVaQ3jVfpCjYRFuXej6XvabNGkb0aB0nRYqRD1w1CxrhRzPo/+OdXtUfYrTYOLCheAEhvLcL0+4vRDYarL4tXdfHaqJJrQKKGwHLirtoADjtaS6tDH6q4j01TOwHpR7AmhhNJlT4MKR1KR6kqp5r8bNPhh96MpPRIKYS8MFtVzaawSXT4GZJZbfelL07eiuB8otKu8PMLA+0mbcujYk6Zr35RLeEtjWr0V63vDM7t6gOYZ/QcOHJDdu30QYLxoc+dmnyqLAmDU8eFfERPbgoDXY+DQ8ATuaFNyyEsRebs1d1DnYdu/S3XPX//30UyXsneYuNFw7XGupJiHbiRWf7i40fXcdiPljfuLG93GFTeSaNlH7I/k5uTk5OSuiNskVixdXVBSXJD3Z1i79nFWoRvWe22eYGt80a1k+66i+OX5w7WmHjbJl6dnQ4OSCx9Et49xVEVE8mkO3LESkYS38TvR8O7tkw6y6x4BJiu8JEc0/Bz7RL08OLqyCfi/2O3ihI71a5lwcI2NUgDk2033/NCwa2wXh/k8ka8BaFRp06KLaPigJuVOsusmRaYCB60+8oeG3WO9OCwPjhaRu0Bfq72c0rBR9WNOrrFBRKQX8NBihueXDu17pPbUKBan+Tw27QemW7TsLvobn0m22qTaYUfZdZOm8voQ/CEiH1iiP687A/dVXnvyxGl5cLRYrgZKRGQPZ7TnZM3mQRivMjP0w9E1Nlp99kHzhMg0T1h3Xhrjfs8Fz1u7j/6l4jifp1YyHjgp0qyHaO9jkVceyLFbGPzirH99sb0G9Je3LNUf82gI/bT6ElwojsuD4+ykExgvdnJWj24BRVZL/R+dXWOLwjZg4WRvWI+kHzQsN/0IzRLn+TxXiNaCmg17iyafBHaY8jyvU5BVX1RzAZbrUrIttEuKhGtPEuexwFilVwZwXpdkB3BSpNh4moJTrFOSIeCLaFO8AfSVaP3R4jh5qQ79y5XOQm/R50Lg5lruO9neNwRQp/sGhWRrVmjUjxAMbjBYnI5JD9WqXTPNZ5QoyBbPVY2SXICbjlzgey9kiQudBJfcyGN6iyvd98ad/Ad/)"
      ],
      "metadata": {
        "id": "g9VG1Ic4-WSI"
      }
    },
    {
      "cell_type": "code",
      "source": [
        "se_length = iris['sepal_length'].std() / np.sqrt(10)\n",
        "se_width = iris['sepal_width'].std() / np.sqrt(10)"
      ],
      "metadata": {
        "id": "zWnx50a7-Tfd"
      },
      "execution_count": 15,
      "outputs": []
    },
    {
      "cell_type": "markdown",
      "source": [
        "![formula4.png](data:image/png;base64,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)"
      ],
      "metadata": {
        "id": "m1Ux8jAAAKL6"
      }
    },
    {
      "cell_type": "code",
      "source": [
        "sed = np.sqrt((se_length**2)+(se_width**2))"
      ],
      "metadata": {
        "id": "goHSjpGvARWR"
      },
      "execution_count": 16,
      "outputs": []
    },
    {
      "cell_type": "markdown",
      "source": [
        "![formula5.png](data:image/png;base64,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)\n",
        "![formula6.jpg](data:image/jpeg;base64,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)\n"
      ],
      "metadata": {
        "id": "bSPUn8QqAgcO"
      }
    },
    {
      "cell_type": "code",
      "source": [
        "t_stat = (iris['sepal_length'].mean() - iris['sepal_width'].mean())/sed\n",
        "t_stat"
      ],
      "metadata": {
        "colab": {
          "base_uri": "https://localhost:8080/"
        },
        "id": "EWeBKpppA0ac",
        "outputId": "f23a1321-206d-4442-a746-6f3e4735a8ff"
      },
      "execution_count": 20,
      "outputs": [
        {
          "output_type": "execute_result",
          "data": {
            "text/plain": [
              "np.float64(9.436693738890318)"
            ]
          },
          "metadata": {},
          "execution_count": 20
        }
      ]
    },
    {
      "cell_type": "code",
      "source": [
        "p = ttest_ind(iris['sepal_length'], iris['sepal_width'])\n",
        "p"
      ],
      "metadata": {
        "colab": {
          "base_uri": "https://localhost:8080/"
        },
        "id": "wjpLQrr-AoFc",
        "outputId": "eeab9eb4-8dac-4163-de59-29a208303106"
      },
      "execution_count": 21,
      "outputs": [
        {
          "output_type": "execute_result",
          "data": {
            "text/plain": [
              "TtestResult(statistic=np.float64(36.548157693982006), pvalue=np.float64(3.987838114848222e-112), df=np.float64(298.0))"
            ]
          },
          "metadata": {},
          "execution_count": 21
        }
      ]
    },
    {
      "cell_type": "markdown",
      "source": [
        "### b. Corrrelación y coeficiente de Pearson"
      ],
      "metadata": {
        "id": "L8oimhyCOs-Z"
      }
    },
    {
      "cell_type": "code",
      "source": [
        "iris['sepal_length'].corr(iris['sepal_width'])"
      ],
      "metadata": {
        "colab": {
          "base_uri": "https://localhost:8080/"
        },
        "id": "8w7SeU0OOyrB",
        "outputId": "c9f48106-75a5-46a5-a951-cc51eab8704c"
      },
      "execution_count": 22,
      "outputs": [
        {
          "output_type": "execute_result",
          "data": {
            "text/plain": [
              "np.float64(-0.10936924995064937)"
            ]
          },
          "metadata": {},
          "execution_count": 22
        }
      ]
    },
    {
      "cell_type": "code",
      "source": [
        "st.pearsonr(iris['sepal_length'], iris['sepal_width'])"
      ],
      "metadata": {
        "colab": {
          "base_uri": "https://localhost:8080/"
        },
        "id": "-6LByKMVPOq8",
        "outputId": "18bb8779-3878-4047-c3e7-cc571f78e840"
      },
      "execution_count": 23,
      "outputs": [
        {
          "output_type": "execute_result",
          "data": {
            "text/plain": [
              "PearsonRResult(statistic=np.float64(-0.10936924995064931), pvalue=np.float64(0.18276521527136977))"
            ]
          },
          "metadata": {},
          "execution_count": 23
        }
      ]
    },
    {
      "cell_type": "markdown",
      "source": [
        "### c. Análisis de la varianza(ANOVA)"
      ],
      "metadata": {
        "id": "_0QUrcAXPfOW"
      }
    },
    {
      "cell_type": "code",
      "source": [
        "f_oneway(iris['sepal_length'], iris['sepal_width'])"
      ],
      "metadata": {
        "colab": {
          "base_uri": "https://localhost:8080/"
        },
        "id": "_wOtupuJPpV6",
        "outputId": "dc1afae1-457d-4ab8-f865-e3bce86aaffb"
      },
      "execution_count": 24,
      "outputs": [
        {
          "output_type": "execute_result",
          "data": {
            "text/plain": [
              "F_onewayResult(statistic=np.float64(1335.7678308241748), pvalue=np.float64(3.9878381148486907e-112))"
            ]
          },
          "metadata": {},
          "execution_count": 24
        }
      ]
    }
  ]
}