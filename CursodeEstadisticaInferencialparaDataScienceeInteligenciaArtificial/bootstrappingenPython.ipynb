{
  "nbformat": 4,
  "nbformat_minor": 0,
  "metadata": {
    "colab": {
      "provenance": []
    },
    "kernelspec": {
      "name": "python3",
      "display_name": "Python 3"
    },
    "language_info": {
      "name": "python"
    }
  },
  "cells": [
    {
      "cell_type": "markdown",
      "source": [
        "### Importamos las librerías necesarias para el análisis"
      ],
      "metadata": {
        "id": "OxG68qOVZqQC"
      }
    },
    {
      "cell_type": "code",
      "execution_count": 1,
      "metadata": {
        "id": "XrQIOZKlZbXG"
      },
      "outputs": [],
      "source": [
        "import pandas as pd\n",
        "import numpy as np\n",
        "import random"
      ]
    },
    {
      "cell_type": "code",
      "source": [
        "data = np.random.normal(loc = 35, size = 10000)\n",
        "data"
      ],
      "metadata": {
        "colab": {
          "base_uri": "https://localhost:8080/"
        },
        "id": "5FTB4L90Z4cF",
        "outputId": "ad07c5d4-2830-4ddb-9f13-4f5a03e2d960"
      },
      "execution_count": 2,
      "outputs": [
        {
          "output_type": "execute_result",
          "data": {
            "text/plain": [
              "array([34.58092555, 34.42337008, 35.24417112, ..., 34.30370903,\n",
              "       33.86649642, 34.32561056])"
            ]
          },
          "metadata": {},
          "execution_count": 2
        }
      ]
    },
    {
      "cell_type": "code",
      "source": [
        "data.mean()"
      ],
      "metadata": {
        "colab": {
          "base_uri": "https://localhost:8080/"
        },
        "id": "MmZi_LGVaUqY",
        "outputId": "acd90b72-e1be-48cc-d08d-aeda2bc08d1b"
      },
      "execution_count": 3,
      "outputs": [
        {
          "output_type": "execute_result",
          "data": {
            "text/plain": [
              "np.float64(35.00510158524442)"
            ]
          },
          "metadata": {},
          "execution_count": 3
        }
      ]
    },
    {
      "cell_type": "markdown",
      "source": [
        "### Inicia,os bootstrapping para calcular el promedio de edad"
      ],
      "metadata": {
        "id": "nhgpbNzTaZBD"
      }
    },
    {
      "cell_type": "code",
      "source": [
        "promedio = []\n",
        "for i in range(40):\n",
        "    muestra = random.sample(data.tolist(), 5)\n",
        "    prom = np.mean(muestra)\n",
        "    promedio.append(prom)"
      ],
      "metadata": {
        "id": "PujdzRcZafGP"
      },
      "execution_count": 4,
      "outputs": []
    },
    {
      "cell_type": "code",
      "source": [
        "np.mean(promedio)"
      ],
      "metadata": {
        "colab": {
          "base_uri": "https://localhost:8080/"
        },
        "id": "nY42lV8WbEy5",
        "outputId": "680da88a-c01f-4018-8b55-b613bd10fe55"
      },
      "execution_count": 12,
      "outputs": [
        {
          "output_type": "execute_result",
          "data": {
            "text/plain": [
              "np.float64(34.93455582462832)"
            ]
          },
          "metadata": {},
          "execution_count": 12
        }
      ]
    }
  ]
}