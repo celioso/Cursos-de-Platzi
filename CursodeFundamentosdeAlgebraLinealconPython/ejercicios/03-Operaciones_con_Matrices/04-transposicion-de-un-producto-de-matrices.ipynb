{
 "cells": [
  {
   "cell_type": "code",
   "execution_count": 9,
   "id": "d76e342a",
   "metadata": {},
   "outputs": [],
   "source": [
    "import numpy as np"
   ]
  },
  {
   "cell_type": "code",
   "execution_count": 10,
   "id": "6508b241",
   "metadata": {},
   "outputs": [],
   "source": [
    "A = np.array([[2,3],[5,7],[11,13]])\n",
    "B = np.array([[1,3],[2,1]])"
   ]
  },
  {
   "cell_type": "code",
   "execution_count": 11,
   "id": "3d23b960",
   "metadata": {},
   "outputs": [
    {
     "name": "stdout",
     "output_type": "stream",
     "text": [
      "[[ 2  3]\n",
      " [ 5  7]\n",
      " [11 13]]\n"
     ]
    }
   ],
   "source": [
    "print(A)"
   ]
  },
  {
   "cell_type": "code",
   "execution_count": 12,
   "id": "fbab1305",
   "metadata": {},
   "outputs": [
    {
     "name": "stdout",
     "output_type": "stream",
     "text": [
      "[[1 3]\n",
      " [2 1]]\n"
     ]
    }
   ],
   "source": [
    "print(B)"
   ]
  },
  {
   "cell_type": "code",
   "execution_count": 13,
   "id": "68d8a916",
   "metadata": {},
   "outputs": [],
   "source": [
    "AB_t = A.dot(B).T"
   ]
  },
  {
   "cell_type": "code",
   "execution_count": 14,
   "id": "b4b90bcf",
   "metadata": {},
   "outputs": [],
   "source": [
    "B_tA_t = B.T.dot(A.T)"
   ]
  },
  {
   "cell_type": "code",
   "execution_count": 15,
   "id": "9f7b83d5",
   "metadata": {},
   "outputs": [
    {
     "name": "stdout",
     "output_type": "stream",
     "text": [
      "[[ True  True  True]\n",
      " [ True  True  True]]\n"
     ]
    }
   ],
   "source": [
    "print(AB_t == B_tA_t)"
   ]
  },
  {
   "cell_type": "code",
   "execution_count": 16,
   "id": "87d9f1b0",
   "metadata": {},
   "outputs": [
    {
     "name": "stdout",
     "output_type": "stream",
     "text": [
      "[[ 8 19 37]\n",
      " [ 9 22 46]]\n"
     ]
    }
   ],
   "source": [
    "print(AB_t)"
   ]
  }
 ],
 "metadata": {
  "kernelspec": {
   "display_name": "venv",
   "language": "python",
   "name": "python3"
  },
  "language_info": {
   "codemirror_mode": {
    "name": "ipython",
    "version": 3
   },
   "file_extension": ".py",
   "mimetype": "text/x-python",
   "name": "python",
   "nbconvert_exporter": "python",
   "pygments_lexer": "ipython3",
   "version": "3.13.2"
  }
 },
 "nbformat": 4,
 "nbformat_minor": 5
}
