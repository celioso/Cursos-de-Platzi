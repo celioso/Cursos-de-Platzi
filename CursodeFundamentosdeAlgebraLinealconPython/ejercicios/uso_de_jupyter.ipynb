{
 "cells": [
  {
   "cell_type": "code",
   "execution_count": 2,
   "id": "2a5cb0c0",
   "metadata": {},
   "outputs": [
    {
     "name": "stdout",
     "output_type": "stream",
     "text": [
      "3.13.2\n"
     ]
    }
   ],
   "source": [
    "from platform import python_version\n",
    "\n",
    "print(python_version())"
   ]
  },
  {
   "cell_type": "code",
   "execution_count": 3,
   "id": "9325da3e",
   "metadata": {},
   "outputs": [
    {
     "name": "stdout",
     "output_type": "stream",
     "text": [
      "Hola, Mundo\n"
     ]
    }
   ],
   "source": [
    "print('Hola, Mundo')"
   ]
  },
  {
   "cell_type": "code",
   "execution_count": 4,
   "id": "bf0e056a",
   "metadata": {},
   "outputs": [],
   "source": [
    "# Este es un comentario sobre el codigo que estamos desarrollando"
   ]
  },
  {
   "cell_type": "code",
   "execution_count": null,
   "id": "285a9ca8",
   "metadata": {},
   "outputs": [],
   "source": [
    "72\n",
    "2\n",
    "3\n",
    "4\n",
    "5"
   ]
  },
  {
   "cell_type": "code",
   "execution_count": null,
   "id": "3672364e",
   "metadata": {},
   "outputs": [],
   "source": [
    "%run \"..\\\\ejercicios\""
   ]
  }
 ],
 "metadata": {
  "kernelspec": {
   "display_name": "venv",
   "language": "python",
   "name": "python3"
  },
  "language_info": {
   "codemirror_mode": {
    "name": "ipython",
    "version": 3
   },
   "file_extension": ".py",
   "mimetype": "text/x-python",
   "name": "python",
   "nbconvert_exporter": "python",
   "pygments_lexer": "ipython3",
   "version": "3.13.2"
  }
 },
 "nbformat": 4,
 "nbformat_minor": 5
}
