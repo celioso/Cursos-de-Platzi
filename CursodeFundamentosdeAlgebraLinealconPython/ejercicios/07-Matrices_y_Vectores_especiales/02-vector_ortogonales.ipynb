{
 "cells": [
  {
   "cell_type": "code",
   "execution_count": 1,
   "id": "c5d823a1",
   "metadata": {},
   "outputs": [],
   "source": [
    "%matplotlib inline\n",
    "\n",
    "import numpy as np\n",
    "import matplotlib.pyplot as plt"
   ]
  },
  {
   "cell_type": "code",
   "execution_count": 2,
   "id": "383ac2fa",
   "metadata": {},
   "outputs": [
    {
     "data": {
      "image/png": "[encoded data removed]",
      "text/plain": [
       "<Figure size 640x480 with 1 Axes>"
      ]
     },
     "metadata": {},
     "output_type": "display_data"
    }
   ],
   "source": [
    "x = np.array([0,0,2,2])\n",
    "y = np.array([0,0,2,-2])\n",
    "\n",
    "plt.quiver([x[0], y[0]],\n",
    "            [x[1], y[1]],\n",
    "            [x[2], y[2]],\n",
    "            [x[3], y[3]],\n",
    "            angles = 'xy', scale_units= 'xy', scale=1\n",
    "            )\n",
    "\n",
    "plt.xlim(-2,4)\n",
    "plt.ylim(-3,3)\n",
    "\n",
    "plt.show()"
   ]
  },
  {
   "cell_type": "code",
   "execution_count": 3,
   "id": "0b390fc9",
   "metadata": {},
   "outputs": [
    {
     "name": "stdout",
     "output_type": "stream",
     "text": [
      "[[2 2]]\n",
      "[[ 2 -2]]\n"
     ]
    }
   ],
   "source": [
    "v1 = np.array([[2,2]])\n",
    "v2 = np.array([[2,-2]])\n",
    "\n",
    "print(v1)\n",
    "print(v2)"
   ]
  },
  {
   "cell_type": "code",
   "execution_count": 4,
   "id": "5cd3a4a1",
   "metadata": {},
   "outputs": [
    {
     "name": "stdout",
     "output_type": "stream",
     "text": [
      "[[0]]\n"
     ]
    }
   ],
   "source": [
    "print(v1.dot(v2.T))"
   ]
  },
  {
   "cell_type": "code",
   "execution_count": 5,
   "id": "6af30b45",
   "metadata": {},
   "outputs": [
    {
     "name": "stdout",
     "output_type": "stream",
     "text": [
      "2.8284271247461903\n",
      "2.8284271247461903\n"
     ]
    }
   ],
   "source": [
    "print(np.linalg.norm(v1))\n",
    "print(np.linalg.norm(v2))"
   ]
  },
  {
   "cell_type": "code",
   "execution_count": 6,
   "id": "f9ee5ce9",
   "metadata": {},
   "outputs": [],
   "source": [
    "v1 = np.array([[1,0]])\n",
    "v2 = np.array([[0,-1]])"
   ]
  },
  {
   "cell_type": "code",
   "execution_count": 7,
   "id": "3c57a7d2",
   "metadata": {},
   "outputs": [
    {
     "name": "stdout",
     "output_type": "stream",
     "text": [
      "[[0]]\n"
     ]
    }
   ],
   "source": [
    "print(v1.dot(v2.T))"
   ]
  },
  {
   "cell_type": "code",
   "execution_count": 8,
   "id": "b145e18f",
   "metadata": {},
   "outputs": [
    {
     "name": "stdout",
     "output_type": "stream",
     "text": [
      "1.0\n",
      "1.0\n"
     ]
    }
   ],
   "source": [
    "print(np.linalg.norm(v1))\n",
    "print(np.linalg.norm(v2))"
   ]
  }
 ],
 "metadata": {
  "kernelspec": {
   "display_name": "venv",
   "language": "python",
   "name": "python3"
  },
  "language_info": {
   "codemirror_mode": {
    "name": "ipython",
    "version": 3
   },
   "file_extension": ".py",
   "mimetype": "text/x-python",
   "name": "python",
   "nbconvert_exporter": "python",
   "pygments_lexer": "ipython3",
   "version": "3.13.2"
  }
 },
 "nbformat": 4,
 "nbformat_minor": 5
}
