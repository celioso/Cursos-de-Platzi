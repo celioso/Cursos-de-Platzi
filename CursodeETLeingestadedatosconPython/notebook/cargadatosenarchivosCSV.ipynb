{
 "cells": [
  {
   "cell_type": "code",
   "execution_count": 2,
   "id": "e258c6f4-4c05-4269-b42c-bd701111c18b",
   "metadata": {},
   "outputs": [
    {
     "name": "stdout",
     "output_type": "stream",
     "text": [
      "   Unnamed: 0  Nombre  Edad     Ciudad\n",
      "0           0    Juan    28     Madrid\n",
      "1           1     Ana    34  Barcelona\n",
      "2           2   Pedro    23    Sevilla\n",
      "3           3   Luisa    45   Valencia\n",
      "4           4  Carlos    33     Bilbao\n"
     ]
    }
   ],
   "source": [
    "import pandas as pd\n",
    "\n",
    "# Crear un conjunto de datos ficticio\n",
    "data = {\n",
    "    'Nombre': ['Juan', 'Ana', 'Pedro', 'Luisa', 'Carlos'],\n",
    "    'Edad': [28, 34, 23, 45, 33],\n",
    "    'Ciudad': ['Madrid', 'Barcelona', 'Sevilla', 'Valencia', 'Bilbao']\n",
    "}\n",
    "\n",
    "# Crear el DataFrame\n",
    "df = pd.DataFrame(data)\n",
    "\n",
    "# 1. Guardar el DataFrame en un archivo CSV (sin index=False)\n",
    "df.to_csv('datos.csv')\n",
    "\n",
    "# 2. Guardar el CSV con un delimitador personalizado (punto y coma)\n",
    "df.to_csv('datos_punto_coma.csv', sep=';')\n",
    "\n",
    "# 3. Guardar solo algunas columnas (por ejemplo, 'Nombre' y 'Edad')\n",
    "df.to_csv('datos_nombre_edad.csv', columns=['Nombre', 'Edad'])\n",
    "\n",
    "# 4. Guardar el CSV con codificación UTF-8\n",
    "df.to_csv('datos_utf8.csv', encoding='utf-8')\n",
    "\n",
    "# 5. Guardar en un archivo CSV comprimido (gzip)\n",
    "df.to_csv('datos_comprimidos.csv.gz', compression='gzip')\n",
    "\n",
    "# 6. Guardar en un archivo CSV comprimido (zip)\n",
    "df.to_csv('datos_comprimidos.zip', compression='zip')\n",
    "\n",
    "# 7. Leer el archivo CSV guardado y mostrarlo\n",
    "df_leido = pd.read_csv('datos.csv')\n",
    "print(df_leido)"
   ]
  },
  {
   "cell_type": "code",
   "execution_count": 4,
   "id": "f45d8f51-a5e2-4d80-a00f-e4328809a9d3",
   "metadata": {},
   "outputs": [],
   "source": [
    "import pandas as pd\n",
    "\n",
    "data = {'producto':['Camisa', 'Pantalón', 'Zapatos'], 'precio':[20, 40, 50], 'cantidad':[10, 5, 8]}\n",
    "df = pd.DataFrame(data)"
   ]
  },
  {
   "cell_type": "code",
   "execution_count": 5,
   "id": "2ab07add-5d67-4a1f-a333-b6f2f426ed47",
   "metadata": {},
   "outputs": [],
   "source": [
    "df.to_csv('productos.csv', index = False)"
   ]
  },
  {
   "cell_type": "code",
   "execution_count": 8,
   "id": "74076586-9bbb-4558-8c64-0659424b4524",
   "metadata": {},
   "outputs": [
    {
     "name": "stdout",
     "output_type": "stream",
     "text": [
      "['.ipynb_checkpoints', 'AB_NYC_2019.csv', 'Agrupaciones y Resumen de Datos.ipynb', 'agrupacionyresumendedatos.ipynb', 'API con Python - Ejemplo 1.ipynb', 'API con Python - Ejemplo 2.ipynb', 'bonificaciones.csv', 'Carga de Datos en Archivos CSV.ipynb', 'cargadatosenarchivosCSV.ipynb', 'clase.ipynb', 'data.xlsx', 'dataapi.ipynb', 'database.sqlite', 'dataexcel.ipynb', 'datos.csv', 'DatosdesdeBasedeDatos.ipynb', 'datos_comprimidos.csv.gz', 'datos_comprimidos.zip', 'datos_ejemplo.csv', 'datos_nombre_edad.csv', 'datos_punto_coma.csv', 'datos_utf8.csv', 'empleados.csv', 'etlpython.ipynb', 'Ingesta de Datos desde Archivos Excel.ipynb', 'Lectura de archivos CSV con pandas y Manipulacion basica de Datos.ipynb', 'nba_salary.sqlite', 'processadataconpandas.ipynb', 'productos.csv', 'Repaso de Pandas.ipynb', 'Sqlite3 + SQLAlchemy.ipynb', 'TransformaAvanzadas.ipynb', 'Transformaciones Avanzadas.ipynb', 'Transformaciones Básicas.ipynb', 'transf_filt_esenc.ipynb', 'Untitled.ipynb']\n"
     ]
    }
   ],
   "source": [
    "import os # ver las archivos del directorio actual\n",
    "print(os.listdir('.'))"
   ]
  },
  {
   "cell_type": "code",
   "execution_count": null,
   "id": "e407c07b-c062-4a70-8f14-61dfd1bf9745",
   "metadata": {},
   "outputs": [],
   "source": []
  }
 ],
 "metadata": {
  "kernelspec": {
   "display_name": "Python 3 (ipykernel)",
   "language": "python",
   "name": "python3"
  },
  "language_info": {
   "codemirror_mode": {
    "name": "ipython",
    "version": 3
   },
   "file_extension": ".py",
   "mimetype": "text/x-python",
   "name": "python",
   "nbconvert_exporter": "python",
   "pygments_lexer": "ipython3",
   "version": "3.12.7"
  }
 },
 "nbformat": 4,
 "nbformat_minor": 5
}
