{
 "cells": [
  {
   "cell_type": "code",
   "execution_count": 8,
   "id": "a10c7b47-1ab0-4c38-bdc0-4bcfcbfa8d91",
   "metadata": {},
   "outputs": [
    {
     "name": "stdout",
     "output_type": "stream",
     "text": [
      "Base Inicial:\n",
      "   id  producto  cantidad\n",
      "0   1    Camisa        10\n",
      "1   2  Pantalón         5\n",
      "2   3   Zapatos         8\n",
      "\n",
      "Carga completa (nueva base):\n",
      "   id  producto  cantidad\n",
      "0   1    Camisa        15\n",
      "1   2  Pantalón         7\n",
      "2   3   Zapatos        12\n"
     ]
    }
   ],
   "source": [
    "import pandas as pd\n",
    "\n",
    "#Dataset inicial\n",
    "data_base = {\n",
    "    'id': [1, 2, 3],\n",
    "    'producto':  ['Camisa', 'Pantalón', 'Zapatos'],\n",
    "    'cantidad': [10, 5, 8]\n",
    "}\n",
    "df_base = pd.DataFrame(data_base)\n",
    "print(\"Base Inicial:\")\n",
    "print(df_base)\n",
    "\n",
    "# Nueva carga completa\n",
    "data_nueva = {\n",
    "    'id': [1, 2, 3],\n",
    "    'producto':  ['Camisa', 'Pantalón', 'Zapatos'],\n",
    "    'cantidad': [15, 7, 12]\n",
    "}\n",
    "df_completa = pd.DataFrame(data_nueva)\n",
    "print(\"\\nCarga completa (nueva base):\")\n",
    "print(df_completa)"
   ]
  },
  {
   "cell_type": "code",
   "execution_count": 7,
   "id": "97437625-c3ce-4816-83e3-fc0e7e6172ab",
   "metadata": {},
   "outputs": [
    {
     "name": "stdout",
     "output_type": "stream",
     "text": [
      "\n",
      "Carga incremental (base actualizada):\n",
      "   id  producto  Ciudad\n",
      "0   1    Camisa      10\n",
      "1   2  Pantalón       5\n",
      "2   3   Zapatos       8\n",
      "3   4  Sombrero       3\n",
      "4   5   Bufanda       2\n"
     ]
    }
   ],
   "source": [
    "data_incremental = {\n",
    "    'id': [4, 5],\n",
    "    'producto':  ['Sombrero', 'Bufanda'],\n",
    "    'Ciudad': [3, 2]\n",
    "}\n",
    "df_incremental = pd.DataFrame(data_incremental)\n",
    "df_actualizada = pd.concat([df_base, df_incremental], ignore_index=True)\n",
    "print(\"\\nCarga incremental (base actualizada):\")\n",
    "print(df_actualizada)"
   ]
  },
  {
   "cell_type": "code",
   "execution_count": 9,
   "id": "b4da7802-d39b-4e8d-9a98-a00b84151ed4",
   "metadata": {},
   "outputs": [
    {
     "name": "stdout",
     "output_type": "stream",
     "text": [
      "\n",
      "Base actualizada sin duplicados:\n",
      "   id  producto  cantidad\n",
      "0   1    Camisa        10\n",
      "1   2  Pantalón         5\n",
      "3   3   Zapatos        12\n",
      "4   4  Sombrero         3\n"
     ]
    }
   ],
   "source": [
    "import pandas as pd\n",
    "\n",
    "#Dataset inicial\n",
    "data_base = {\n",
    "    'id': [1, 2, 3],\n",
    "    'producto':  ['Camisa', 'Pantalón', 'Zapatos'],\n",
    "    'cantidad': [10, 5, 8]\n",
    "}\n",
    "df_base = pd.DataFrame(data_base)\n",
    "\n",
    "\n",
    "# Datos incrementales con duplicados\n",
    "data_incremental = {\n",
    "    'id': [3, 4],\n",
    "    'producto':  ['Zapatos', 'Sombrero'],\n",
    "    'cantidad': [12, 3]\n",
    "}\n",
    "df_incremental = pd.DataFrame(data_incremental)\n",
    "\n",
    "# concatenar y eliminar duplicados\n",
    "\n",
    "df_actualizada = pd.concat([df_base, df_incremental], ignore_index=True).drop_duplicates(subset=['id'], keep='last')\n",
    "print(\"\\nBase actualizada sin duplicados:\")\n",
    "print(df_actualizada)"
   ]
  },
  {
   "cell_type": "code",
   "execution_count": null,
   "id": "09bc046f-d3d3-422a-b545-ee795cd5cc23",
   "metadata": {},
   "outputs": [],
   "source": []
  },
  {
   "cell_type": "code",
   "execution_count": null,
   "id": "bd4b4020-06cd-419d-93d0-fadd14d09b0d",
   "metadata": {},
   "outputs": [],
   "source": []
  }
 ],
 "metadata": {
  "kernelspec": {
   "display_name": "Python 3 (ipykernel)",
   "language": "python",
   "name": "python3"
  },
  "language_info": {
   "codemirror_mode": {
    "name": "ipython",
    "version": 3
   },
   "file_extension": ".py",
   "mimetype": "text/x-python",
   "name": "python",
   "nbconvert_exporter": "python",
   "pygments_lexer": "ipython3",
   "version": "3.12.7"
  }
 },
 "nbformat": 4,
 "nbformat_minor": 5
}
