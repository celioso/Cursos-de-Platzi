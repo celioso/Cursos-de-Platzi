{
 "cells": [
  {
   "cell_type": "code",
   "execution_count": 1,
   "id": "6981d461-3bdf-447e-9864-b300c23e2534",
   "metadata": {},
   "outputs": [
    {
     "name": "stdout",
     "output_type": "stream",
     "text": [
      "0    100\n",
      "1    200\n",
      "2    300\n",
      "dtype: int64\n"
     ]
    }
   ],
   "source": [
    "import pandas as pd\n",
    "serie = pd.Series([100, 200, 300])\n",
    "print(serie)"
   ]
  },
  {
   "cell_type": "code",
   "execution_count": 2,
   "id": "2b762a8f-14bc-4fae-82b0-15b9880b865e",
   "metadata": {},
   "outputs": [
    {
     "name": "stdout",
     "output_type": "stream",
     "text": [
      "  Product  Sales\n",
      "0       A    100\n",
      "1       B    200\n"
     ]
    }
   ],
   "source": [
    "data = {'Product':['A', 'B'], 'Sales': [100, 200]}\n",
    "df = pd.DataFrame(data)\n",
    "print(df)"
   ]
  },
  {
   "cell_type": "code",
   "execution_count": 3,
   "id": "8ae6f643-1728-46e1-8cae-11d6c71b0ecb",
   "metadata": {},
   "outputs": [
    {
     "name": "stdout",
     "output_type": "stream",
     "text": [
      "   new_column\n",
      "0         100\n",
      "1         200\n",
      "2         300\n"
     ]
    }
   ],
   "source": [
    "df_nuevo = serie.to_frame(name = 'new_column')\n",
    "print(df_nuevo)"
   ]
  },
  {
   "cell_type": "code",
   "execution_count": null,
   "id": "e1fd6062-4585-41bf-90d8-8ece3e3484f2",
   "metadata": {},
   "outputs": [],
   "source": []
  }
 ],
 "metadata": {
  "kernelspec": {
   "display_name": "Python 3 (ipykernel)",
   "language": "python",
   "name": "python3"
  },
  "language_info": {
   "codemirror_mode": {
    "name": "ipython",
    "version": 3
   },
   "file_extension": ".py",
   "mimetype": "text/x-python",
   "name": "python",
   "nbconvert_exporter": "python",
   "pygments_lexer": "ipython3",
   "version": "3.12.7"
  }
 },
 "nbformat": 4,
 "nbformat_minor": 5
}
