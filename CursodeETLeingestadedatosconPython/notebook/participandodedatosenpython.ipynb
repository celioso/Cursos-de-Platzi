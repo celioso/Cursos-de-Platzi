{
 "cells": [
  {
   "cell_type": "code",
   "execution_count": 1,
   "id": "17c73999-5bd2-4f6d-9adb-f2df5966bd23",
   "metadata": {},
   "outputs": [
    {
     "name": "stdout",
     "output_type": "stream",
     "text": [
      "Partición Ropa:\n",
      "    id_venta  producto  cantidad categoria       fecha\n",
      "0         1    Camisa         2      Ropa  2024-05-01\n",
      "1         2  Pantalón         3      Ropa  2024-05-03\n",
      "3         4    Camisa         2      Ropa  2024-05-01\n",
      "4         5  Pantalón         0      Ropa  2024-05-02\n",
      "Partición Calzado:\n",
      "    id_venta producto  cantidad categoria       fecha\n",
      "2         3  Zapatos         1   Calzado  2024-05-02\n",
      "5         6  Zapatos         5   Calzado  2024-05-05\n"
     ]
    }
   ],
   "source": [
    "import pandas as pd\n",
    "\n",
    "data = {\n",
    "    'id_venta': [1, 2, 3, 4, 5, 6],\n",
    "    'producto': ['Camisa', 'Pantalón', 'Zapatos', 'Camisa', 'Pantalón', 'Zapatos'],\n",
    "    'cantidad': [2, 3, 1, 2, 0, 5],\n",
    "    'categoria': ['Ropa', 'Ropa', 'Calzado', 'Ropa', 'Ropa', 'Calzado'],\n",
    "    'fecha': ['2024-05-01', '2024-05-03', '2024-05-02', '2024-05-01', '2024-05-02', '2024-05-05']\n",
    "}\n",
    "\n",
    "df = pd.DataFrame(data)\n",
    "ropa = df[df['categoria'] == 'Ropa']\n",
    "calzado = df[df['categoria'] == 'Calzado']\n",
    "\n",
    "print(\"Partición Ropa:\\n\", ropa)\n",
    "print(\"Partición Calzado:\\n\", calzado)"
   ]
  },
  {
   "cell_type": "code",
   "execution_count": 2,
   "id": "cb3064d4-fc8f-401c-93e5-90f00e54ff66",
   "metadata": {},
   "outputs": [
    {
     "name": "stdout",
     "output_type": "stream",
     "text": [
      "Mes 5:\n",
      "   id_venta  producto  cantidad categoria       fecha  mes\n",
      "0         1    Camisa         2      Ropa  2024-05-01    5\n",
      "1         2  Pantalón         3      Ropa  2024-05-03    5\n",
      "2         3   Zapatos         1   Calzado  2024-05-02    5\n",
      "3         4    Camisa         2      Ropa  2024-05-01    5\n",
      "4         5  Pantalón         0      Ropa  2024-05-02    5\n",
      "5         6   Zapatos         5   Calzado  2024-05-05    5\n",
      "\n"
     ]
    }
   ],
   "source": [
    "df['mes'] = pd.to_datetime(df['fecha']).dt.month\n",
    "particiones_por_mes = {mes: datos for mes, datos in df.groupby('mes')}\n",
    "\n",
    "for mes, datos in particiones_por_mes.items():\n",
    "    print(f\"Mes {mes}:\\n{datos}\\n\")"
   ]
  },
  {
   "cell_type": "code",
   "execution_count": null,
   "id": "e399fdf2-1a8c-46d0-a981-ec59b2cf2a22",
   "metadata": {},
   "outputs": [],
   "source": []
  }
 ],
 "metadata": {
  "kernelspec": {
   "display_name": "Python 3 (ipykernel)",
   "language": "python",
   "name": "python3"
  },
  "language_info": {
   "codemirror_mode": {
    "name": "ipython",
    "version": 3
   },
   "file_extension": ".py",
   "mimetype": "text/x-python",
   "name": "python",
   "nbconvert_exporter": "python",
   "pygments_lexer": "ipython3",
   "version": "3.12.7"
  }
 },
 "nbformat": 4,
 "nbformat_minor": 5
}
