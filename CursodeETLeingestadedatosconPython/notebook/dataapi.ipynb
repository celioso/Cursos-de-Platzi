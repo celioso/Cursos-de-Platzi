{
 "cells": [
  {
   "cell_type": "code",
   "execution_count": 1,
   "id": "bbfe8678-418b-4a49-9cb2-37e613b14442",
   "metadata": {},
   "outputs": [
    {
     "name": "stdout",
     "output_type": "stream",
     "text": [
      "Requirement already satisfied: requests in c:\\users\\celio\\appdata\\roaming\\python\\python312\\site-packages (2.32.3)\n",
      "Requirement already satisfied: charset-normalizer<4,>=2 in c:\\users\\celio\\appdata\\roaming\\python\\python312\\site-packages (from requests) (3.3.2)\n",
      "Requirement already satisfied: idna<4,>=2.5 in c:\\users\\celio\\appdata\\roaming\\python\\python312\\site-packages (from requests) (3.8)\n",
      "Requirement already satisfied: urllib3<3,>=1.21.1 in c:\\users\\celio\\anaconda3\\lib\\site-packages (from requests) (2.2.3)\n",
      "Requirement already satisfied: certifi>=2017.4.17 in c:\\users\\celio\\appdata\\roaming\\python\\python312\\site-packages (from requests) (2024.7.4)\n",
      "Collecting pysqlite3\n",
      "  Using cached pysqlite3-0.5.4.tar.gz (40 kB)\n",
      "  Preparing metadata (setup.py): started\n",
      "  Preparing metadata (setup.py): finished with status 'done'\n",
      "Building wheels for collected packages: pysqlite3\n",
      "  Building wheel for pysqlite3 (setup.py): started\n",
      "  Building wheel for pysqlite3 (setup.py): finished with status 'error'\n",
      "  Running setup.py clean for pysqlite3\n",
      "Failed to build pysqlite3\n"
     ]
    },
    {
     "name": "stderr",
     "output_type": "stream",
     "text": [
      "  error: subprocess-exited-with-error\n",
      "  \n",
      "  python setup.py bdist_wheel did not run successfully.\n",
      "  exit code: 1\n",
      "  \n",
      "  [10 lines of output]\n",
      "  running bdist_wheel\n",
      "  running build\n",
      "  running build_py\n",
      "  creating build\\lib.win-amd64-cpython-312\\pysqlite3\n",
      "  copying pysqlite3\\dbapi2.py -> build\\lib.win-amd64-cpython-312\\pysqlite3\n",
      "  copying pysqlite3\\__init__.py -> build\\lib.win-amd64-cpython-312\\pysqlite3\n",
      "  running build_ext\n",
      "  Builds a C extension linking against libsqlite3 library\n",
      "  building 'pysqlite3._sqlite3' extension\n",
      "  error: Microsoft Visual C++ 14.0 or greater is required. Get it with \"Microsoft C++ Build Tools\": https://visualstudio.microsoft.com/visual-cpp-build-tools/\n",
      "  [end of output]\n",
      "  \n",
      "  note: This error originates from a subprocess, and is likely not a problem with pip.\n",
      "  ERROR: Failed building wheel for pysqlite3\n",
      "ERROR: ERROR: Failed to build installable wheels for some pyproject.toml based projects (pysqlite3)\n"
     ]
    },
    {
     "name": "stdout",
     "output_type": "stream",
     "text": [
      "Requirement already satisfied: sqlalchemy in c:\\users\\celio\\anaconda3\\lib\\site-packages (2.0.34)\n",
      "Requirement already satisfied: typing-extensions>=4.6.0 in c:\\users\\celio\\anaconda3\\lib\\site-packages (from sqlalchemy) (4.11.0)\n",
      "Requirement already satisfied: greenlet!=0.4.17 in c:\\users\\celio\\anaconda3\\lib\\site-packages (from sqlalchemy) (3.0.1)\n"
     ]
    }
   ],
   "source": [
    "!pip install requests\n",
    "!pip install pysqlite3\n",
    "!pip install sqlalchemy"
   ]
  },
  {
   "cell_type": "code",
   "execution_count": null,
   "id": "085edb1f-0099-41d6-99d5-ee634e34c7aa",
   "metadata": {},
   "outputs": [],
   "source": [
    "import requests\n",
    "\n",
    "response = requests.get('https://api.nasa.gov/planetary/apod?api_key=DEMO_KEY')\n",
    "\n",
    "data = response.json()\n",
    "\n",
    "print(data)"
   ]
  },
  {
   "cell_type": "code",
   "execution_count": 8,
   "id": "10fb4ec1-b061-4489-8cbb-0518bd3165c8",
   "metadata": {},
   "outputs": [
    {
     "name": "stdout",
     "output_type": "stream",
     "text": [
      "{'cod': 401, 'message': 'Invalid API key. Please see https://openweathermap.org/faq#error401 for more info.'}\n"
     ]
    }
   ],
   "source": [
    "import requests\n",
    "\n",
    "response = requests.get('https://api.openweathermap.org/data/2.5/weather?q=London&appid=tu_api_key')\n",
    "\n",
    "data = response.json()\n",
    "\n",
    "print(data)"
   ]
  },
  {
   "cell_type": "code",
   "execution_count": 10,
   "id": "1fc98b85-b431-4bd7-9c64-f7518352d39b",
   "metadata": {},
   "outputs": [
    {
     "ename": "KeyError",
     "evalue": "'main'",
     "output_type": "error",
     "traceback": [
      "\u001b[1;31m---------------------------------------------------------------------------\u001b[0m",
      "\u001b[1;31mKeyError\u001b[0m                                  Traceback (most recent call last)",
      "Cell \u001b[1;32mIn[10], line 1\u001b[0m\n\u001b[1;32m----> 1\u001b[0m temperature \u001b[38;5;241m=\u001b[39m \u001b[43mdata\u001b[49m\u001b[43m[\u001b[49m\u001b[38;5;124;43m'\u001b[39;49m\u001b[38;5;124;43mmain\u001b[39;49m\u001b[38;5;124;43m'\u001b[39;49m\u001b[43m]\u001b[49m[\u001b[38;5;124m'\u001b[39m\u001b[38;5;124mtemp\u001b[39m\u001b[38;5;124m'\u001b[39m]\n\u001b[0;32m      2\u001b[0m \u001b[38;5;28mprint\u001b[39m(\u001b[38;5;124mf\u001b[39m\u001b[38;5;124m\"\u001b[39m\u001b[38;5;124mTemperatura actual:\u001b[39m\u001b[38;5;132;01m{\u001b[39;00mtemperature\u001b[38;5;132;01m}\u001b[39;00m\u001b[38;5;124m\"\u001b[39m)\n",
      "\u001b[1;31mKeyError\u001b[0m: 'main'"
     ]
    }
   ],
   "source": [
    "temperature = data['main']['temp']\n",
    "print(f\"Temperatura actual:{temperature}\")"
   ]
  },
  {
   "cell_type": "code",
   "execution_count": null,
   "id": "8dadc082-8852-4317-bfa0-deb30939cf4e",
   "metadata": {},
   "outputs": [],
   "source": [
    "import pandas as pd\n",
    "\n",
    "data_list = [{'key':'value'},{'key':'value'}]\n",
    "df = pd.DataFrame(data_list)\n",
    "print(df.head())"
   ]
  }
 ],
 "metadata": {
  "kernelspec": {
   "display_name": "Python 3 (ipykernel)",
   "language": "python",
   "name": "python3"
  },
  "language_info": {
   "codemirror_mode": {
    "name": "ipython",
    "version": 3
   },
   "file_extension": ".py",
   "mimetype": "text/x-python",
   "name": "python",
   "nbconvert_exporter": "python",
   "pygments_lexer": "ipython3",
   "version": "3.12.7"
  }
 },
 "nbformat": 4,
 "nbformat_minor": 5
}
