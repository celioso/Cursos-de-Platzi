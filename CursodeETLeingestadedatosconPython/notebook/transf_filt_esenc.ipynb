{
 "cells": [
  {
   "cell_type": "code",
   "execution_count": 2,
   "id": "e42b3c42-979d-42b5-a542-c7158d75dcf3",
   "metadata": {},
   "outputs": [
    {
     "name": "stdout",
     "output_type": "stream",
     "text": [
      "DataFrame Original (Leído desde el CSV):\n",
      "   ID  Nombre             Edad Genero  Salario Departamento\n",
      "0   1     Ana               25      F  50000.0       Ventas\n",
      "1   2    Luis               30      M      NaN    Marketing\n",
      "2   3  Carlos  Treinta y cinco      M  60000.0       Ventas\n",
      "3   4   Sofia               40      F  55000.0         RRHH\n",
      "4   5     NaN               45      M  70000.0           TI\n"
     ]
    }
   ],
   "source": [
    "import pandas as pd\n",
    "import numpy as np\n",
    "\n",
    "# --------------------------------------------\n",
    "# 1. Leer el archivo CSV generado\n",
    "# --------------------------------------------\n",
    "# Leer el archivo CSV\n",
    "df = pd.read_csv('datos_ejemplo.csv')\n",
    "\n",
    "# Mostrar el DataFrame original\n",
    "print(\"DataFrame Original (Leído desde el CSV):\")\n",
    "print(df)"
   ]
  },
  {
   "cell_type": "code",
   "execution_count": 3,
   "id": "f297233d-0e51-4ddd-a46f-41570186b6a1",
   "metadata": {},
   "outputs": [
    {
     "name": "stdout",
     "output_type": "stream",
     "text": [
      "\n",
      "Selección de una columna: 'Nombre'\n",
      "0       Ana\n",
      "1      Luis\n",
      "2    Carlos\n",
      "3     Sofia\n",
      "4       NaN\n",
      "Name: Nombre, dtype: object\n",
      "\n",
      "Selección de múltiples columnas: 'Nombre' y 'Salario'\n",
      "   Nombre  Salario\n",
      "0     Ana  50000.0\n",
      "1    Luis      NaN\n",
      "2  Carlos  60000.0\n",
      "3   Sofia  55000.0\n",
      "4     NaN  70000.0\n"
     ]
    }
   ],
   "source": [
    "# --------------------------------------------\n",
    "# 2. Selección de columnas\n",
    "# --------------------------------------------\n",
    "print(\"\\nSelección de una columna: 'Nombre'\")\n",
    "\n",
    "# Selección de una columna (una serie)\n",
    "print(df['Nombre'])\n",
    "\n",
    "print(\"\\nSelección de múltiples columnas: 'Nombre' y 'Salario'\")\n",
    "# Selección de varias columnas (un DataFrame)\n",
    "print(df[['Nombre', 'Salario']])"
   ]
  },
  {
   "cell_type": "code",
   "execution_count": 4,
   "id": "4feb253e-98a5-49e5-aaff-6bb7029ed4e5",
   "metadata": {},
   "outputs": [
    {
     "name": "stdout",
     "output_type": "stream",
     "text": [
      "\n",
      "Filtrado de filas donde 'Edad' es mayor a 30 años:\n",
      "   ID Nombre  Edad Genero  Salario Departamento\n",
      "3   4  Sofia  40.0      F  55000.0         RRHH\n",
      "4   5    NaN  45.0      M  70000.0           TI\n"
     ]
    }
   ],
   "source": [
    "# --------------------------------------------\n",
    "# 3. Filtrado de filas por condición\n",
    "# --------------------------------------------\n",
    "\n",
    "# Primero, convertimos la columna 'Edad' a valores numéricos, para que podamos filtrar correctamente\n",
    "df['Edad'] = pd.to_numeric(df['Edad'], errors='coerce')  # Convertir 'Edad' a valores numéricos\n",
    "\n",
    "print(\"\\nFiltrado de filas donde 'Edad' es mayor a 30 años:\")\n",
    "# Filtrar las filas donde la edad sea mayor a 30\n",
    "filtro_edad = df[df['Edad'] > 30]\n",
    "print(filtro_edad)"
   ]
  },
  {
   "cell_type": "code",
   "execution_count": null,
   "id": "2a9dca5f-de74-4f62-b6e5-fd0635e7dafe",
   "metadata": {},
   "outputs": [],
   "source": [
    "# --------------------------------------------\n",
    "# 4. Filtrado con múltiples condiciones\n",
    "# --------------------------------------------\n",
    "print(\"\\nFiltrado de filas donde 'Salario' sea mayor a 55000 y 'Genero' sea 'M':\")\n",
    "\n",
    "# Filtrar filas usando múltiples condiciones\n",
    "filtro_multiple = df[(df['Salario'] > 55000) & (df['Genero'] == 'M')]\n",
    "print(filtro_multiple)"
   ]
  },
  {
   "cell_type": "code",
   "execution_count": 5,
   "id": "ea854775-1082-4e35-8713-f2376123392c",
   "metadata": {},
   "outputs": [
    {
     "name": "stdout",
     "output_type": "stream",
     "text": [
      "\n",
      "Uso de .loc[] para seleccionar filas y columnas por etiquetas:\n",
      "  Nombre  Salario\n",
      "3  Sofia  55000.0\n",
      "4    NaN  70000.0\n"
     ]
    }
   ],
   "source": [
    "# --------------------------------------------\n",
    "# 5. Uso de .loc[] para selección por etiquetas\n",
    "# --------------------------------------------\n",
    "print(\"\\nUso de .loc[] para seleccionar filas y columnas por etiquetas:\")\n",
    "\n",
    "# Usando .loc[] para seleccionar por etiquetas de fila y columna\n",
    "loc_result = df.loc[df['Edad'] > 30, ['Nombre', 'Salario']]\n",
    "print(loc_result)"
   ]
  },
  {
   "cell_type": "code",
   "execution_count": 6,
   "id": "a01f7974-2b82-44c1-a67e-1ef127e819b9",
   "metadata": {},
   "outputs": [
    {
     "name": "stdout",
     "output_type": "stream",
     "text": [
      "\n",
      "Uso de .iloc[] para seleccionar filas y columnas por posiciones:\n",
      "   ID  Nombre  Salario\n",
      "1   2    Luis      NaN\n",
      "2   3  Carlos  60000.0\n",
      "3   4   Sofia  55000.0\n"
     ]
    }
   ],
   "source": [
    "# --------------------------------------------\n",
    "# 6. Uso de .iloc[] para selección por posiciones\n",
    "# --------------------------------------------\n",
    "print(\"\\nUso de .iloc[] para seleccionar filas y columnas por posiciones:\")\n",
    "\n",
    "# Usando .iloc[] para seleccionar filas y columnas por posición\n",
    "iloc_result = df.iloc[1:4, [0, 1, 4]]  # Filas 1 a 3 (index 1, 2, 3) y columnas 0, 1 y 4\n",
    "print(iloc_result)"
   ]
  },
  {
   "cell_type": "code",
   "execution_count": 7,
   "id": "81c8cc3e-a41e-4f77-a297-b7992f1e6531",
   "metadata": {},
   "outputs": [
    {
     "name": "stdout",
     "output_type": "stream",
     "text": [
      "\n",
      "Uso de .query() para filtrar filas donde 'Salario' > 55000 y 'Genero' == 'M':\n",
      "   ID  Nombre  Edad Genero  Salario Departamento\n",
      "2   3  Carlos   NaN      M  60000.0       Ventas\n",
      "4   5     NaN  45.0      M  70000.0           TI\n"
     ]
    }
   ],
   "source": [
    "# --------------------------------------------\n",
    "# 7. Uso de .query() para selección (Alternativa a condicionales)\n",
    "# --------------------------------------------\n",
    "print(\"\\nUso de .query() para filtrar filas donde 'Salario' > 55000 y 'Genero' == 'M':\")\n",
    "\n",
    "# Usando query() para filtrar con condiciones en formato de cadena\n",
    "query_result = df.query(\"Salario > 55000 and Genero == 'M'\")\n",
    "print(query_result)"
   ]
  },
  {
   "cell_type": "code",
   "execution_count": 8,
   "id": "491e4d07-b14f-4e31-ab7f-b2264eda521f",
   "metadata": {},
   "outputs": [
    {
     "name": "stdout",
     "output_type": "stream",
     "text": [
      "   id_venta  producto  cantidad  precio_unitario       fecha\n",
      "0         1    Camisa         2             20.0  2024-05-01\n",
      "1         2  Pantalón         3             40.0  2024-05-03\n",
      "2         3   Zapatos         1             50.0  2024-05-02\n",
      "3         4    Camisa         2             20.0  2024-05-01\n",
      "4         5  Pantalón         0             40.0  2024-05-02\n",
      "5         6   Zapatos         5             50.0  2024-05-05\n"
     ]
    }
   ],
   "source": [
    "import pandas as pd\n",
    " \n",
    "# Crear el DataFrame de ejemplo\n",
    "data = {\n",
    "    'id_venta': [1, 2, 3, 4, 5, 6],\n",
    "    'producto': ['Camisa', 'Pantalón', 'Zapatos', 'Camisa', 'Pantalón', 'Zapatos'],\n",
    "    'cantidad': [2, 3, 1, 2, 0, 5],\n",
    "    'precio_unitario': [20.00, 40.00, 50.00, 20.00, 40.00, 50.00],\n",
    "    'fecha': ['2024-05-01', '2024-05-03', '2024-05-02', '2024-05-01', '2024-05-02', '2024-05-05']\n",
    "}\n",
    " \n",
    "df = pd.DataFrame(data)\n",
    "print(df)"
   ]
  },
  {
   "cell_type": "code",
   "execution_count": 10,
   "id": "e96f48bc-8223-4aa4-93a0-e35ebb54f287",
   "metadata": {},
   "outputs": [],
   "source": [
    "import pandas as pd\n",
    "\n",
    "data = {\n",
    "    'producto': ['A', 'B', ' C'],\n",
    "    'cantidad': [3, 0, 15],\n",
    "    'precio_unitario': [10, 20, 15]\n",
    "}\n",
    "\n",
    "df = pd.DataFrame(data)"
   ]
  },
  {
   "cell_type": "code",
   "execution_count": 11,
   "id": "9ba04641-3cc4-43de-91b9-e62805329f5f",
   "metadata": {},
   "outputs": [
    {
     "name": "stdout",
     "output_type": "stream",
     "text": [
      "  producto  cantidad  precio_unitario\n",
      "0        A         3               10\n",
      "2        C        15               15\n"
     ]
    }
   ],
   "source": [
    "df_filtrado = df[df['cantidad'] > 1] \n",
    "print(df_filtrado)"
   ]
  },
  {
   "cell_type": "code",
   "execution_count": 12,
   "id": "f0ad0d15-cf61-4546-be13-d21ce0da8e07",
   "metadata": {},
   "outputs": [
    {
     "name": "stdout",
     "output_type": "stream",
     "text": [
      "  producto  cantidad\n",
      "0        A         3\n",
      "2        C        15\n"
     ]
    }
   ],
   "source": [
    "df_seleccion = df_filtrado[['producto', 'cantidad']] \n",
    "print(df_seleccion)"
   ]
  },
  {
   "cell_type": "code",
   "execution_count": 18,
   "id": "e7d9c8cb-0a76-4ffb-a3ca-f27a7eb8fc59",
   "metadata": {},
   "outputs": [
    {
     "name": "stdout",
     "output_type": "stream",
     "text": [
      "            producto  cantidad  precio_unitario  total_venta\n",
      "0                  A       3.0             10.0         30.0\n",
      "2                  C      15.0             15.0        225.0\n",
      "total_venta      NaN       NaN              NaN          NaN\n"
     ]
    }
   ],
   "source": [
    "df_filtrado.loc[:,'total_venta'] = df_filtrado['cantidad'] * df_filtrado['precio_unitario'] \n",
    "print(df_filtrado)"
   ]
  },
  {
   "cell_type": "code",
   "execution_count": null,
   "id": "2d6bc33e-ee85-4896-b41b-3068c79d8330",
   "metadata": {},
   "outputs": [],
   "source": []
  }
 ],
 "metadata": {
  "kernelspec": {
   "display_name": "Python 3 (ipykernel)",
   "language": "python",
   "name": "python3"
  },
  "language_info": {
   "codemirror_mode": {
    "name": "ipython",
    "version": 3
   },
   "file_extension": ".py",
   "mimetype": "text/x-python",
   "name": "python",
   "nbconvert_exporter": "python",
   "pygments_lexer": "ipython3",
   "version": "3.12.7"
  }
 },
 "nbformat": 4,
 "nbformat_minor": 5
}
