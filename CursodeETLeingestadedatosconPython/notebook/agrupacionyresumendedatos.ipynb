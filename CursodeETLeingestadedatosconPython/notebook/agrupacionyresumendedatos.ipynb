{
 "cells": [
  {
   "cell_type": "code",
   "execution_count": 1,
   "id": "7b06b2f0-8d57-4660-b9b8-1f4c5792f706",
   "metadata": {},
   "outputs": [
    {
     "name": "stdout",
     "output_type": "stream",
     "text": [
      "         ventas      \n",
      "            sum  mean\n",
      "producto             \n",
      "A            40  20.0\n",
      "B            60  30.0\n"
     ]
    }
   ],
   "source": [
    "import pandas as pd\n",
    "\n",
    "data = {\n",
    "    'producto': ['A', 'B', 'A', 'B'],\n",
    "    'ventas': [10, 20, 30, 40]\n",
    "}\n",
    "\n",
    "df = pd.DataFrame(data)\n",
    "grupo = df.groupby('producto').agg({'ventas':['sum', 'mean']})\n",
    "print(grupo)"
   ]
  },
  {
   "cell_type": "code",
   "execution_count": null,
   "id": "b6b37d7a-2597-4554-91f2-b95845ac8891",
   "metadata": {},
   "outputs": [],
   "source": []
  }
 ],
 "metadata": {
  "kernelspec": {
   "display_name": "Python 3 (ipykernel)",
   "language": "python",
   "name": "python3"
  },
  "language_info": {
   "codemirror_mode": {
    "name": "ipython",
    "version": 3
   },
   "file_extension": ".py",
   "mimetype": "text/x-python",
   "name": "python",
   "nbconvert_exporter": "python",
   "pygments_lexer": "ipython3",
   "version": "3.12.7"
  }
 },
 "nbformat": 4,
 "nbformat_minor": 5
}
