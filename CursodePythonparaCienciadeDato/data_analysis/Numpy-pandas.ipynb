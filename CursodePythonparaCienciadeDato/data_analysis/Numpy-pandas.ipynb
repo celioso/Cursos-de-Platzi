{
 "cells": [
  {
   "cell_type": "code",
   "execution_count": 119,
   "metadata": {},
   "outputs": [],
   "source": [
    "import numpy as np\n",
    "import pandas as pd"
   ]
  },
  {
   "cell_type": "markdown",
   "metadata": {},
   "source": [
    "## Arrays en NumPy"
   ]
  },
  {
   "cell_type": "code",
   "execution_count": 120,
   "metadata": {},
   "outputs": [
    {
     "name": "stdout",
     "output_type": "stream",
     "text": [
      "<class 'numpy.ndarray'>\n",
      "42\n"
     ]
    }
   ],
   "source": [
    "escalar = np.array(42)\n",
    "print(type(escalar))\n",
    "print(escalar)\n"
   ]
  },
  {
   "cell_type": "code",
   "execution_count": 121,
   "metadata": {},
   "outputs": [
    {
     "name": "stdout",
     "output_type": "stream",
     "text": [
      "[30 29 42 35 33 36 32]\n"
     ]
    }
   ],
   "source": [
    "vector = np.array([30, 29, 42, 35, 33 , 36, 32])\n",
    "print(vector)"
   ]
  },
  {
   "cell_type": "code",
   "execution_count": 122,
   "metadata": {},
   "outputs": [
    {
     "name": "stdout",
     "output_type": "stream",
     "text": [
      "[[1 2 3]\n",
      " [4 5 6]\n",
      " [7 8 9]]\n"
     ]
    }
   ],
   "source": [
    "matrix = np.array([[1,2,3],[4,5,6],[7,8,9]])\n",
    "print(matrix)"
   ]
  },
  {
   "cell_type": "code",
   "execution_count": 123,
   "metadata": {},
   "outputs": [
    {
     "name": "stdout",
     "output_type": "stream",
     "text": [
      "[[[1 2]\n",
      "  [3 4]\n",
      "  [5 6]\n",
      "  [7 8]]]\n"
     ]
    }
   ],
   "source": [
    "tensor = np.array([[[1,2],[3,4],[5,6],[7,8]]])\n",
    "print(tensor)"
   ]
  },
  {
   "cell_type": "markdown",
   "metadata": {},
   "source": [
    "### metodo array"
   ]
  },
  {
   "cell_type": "code",
   "execution_count": 124,
   "metadata": {},
   "outputs": [
    {
     "name": "stdout",
     "output_type": "stream",
     "text": [
      "[0 1 2 3 4 5 6 7 8 9]\n"
     ]
    }
   ],
   "source": [
    "array_arange = np.arange(10)\n",
    "print(array_arange)"
   ]
  },
  {
   "cell_type": "markdown",
   "metadata": {},
   "source": [
    "## Matrix identidad"
   ]
  },
  {
   "cell_type": "code",
   "execution_count": 125,
   "metadata": {},
   "outputs": [
    {
     "name": "stdout",
     "output_type": "stream",
     "text": [
      "[[1. 0. 0. 0. 0. 0.]\n",
      " [0. 1. 0. 0. 0. 0.]\n",
      " [0. 0. 1. 0. 0. 0.]\n",
      " [0. 0. 0. 1. 0. 0.]\n",
      " [0. 0. 0. 0. 1. 0.]\n",
      " [0. 0. 0. 0. 0. 1.]]\n"
     ]
    }
   ],
   "source": [
    "eye_matrix = np.eye(6)\n",
    "print(eye_matrix)"
   ]
  },
  {
   "cell_type": "markdown",
   "metadata": {},
   "source": [
    "### Matrix diagonal"
   ]
  },
  {
   "cell_type": "code",
   "execution_count": 126,
   "metadata": {},
   "outputs": [
    {
     "name": "stdout",
     "output_type": "stream",
     "text": [
      "[[1 0 0]\n",
      " [0 2 0]\n",
      " [0 0 3]]\n"
     ]
    }
   ],
   "source": [
    "diag = np.diag([1,2,3])\n",
    "print(diag)"
   ]
  },
  {
   "cell_type": "markdown",
   "metadata": {},
   "source": [
    "### Random"
   ]
  },
  {
   "cell_type": "code",
   "execution_count": 127,
   "metadata": {},
   "outputs": [
    {
     "name": "stdout",
     "output_type": "stream",
     "text": [
      "[[0.48779257 0.54268392 0.09049982]\n",
      " [0.47013913 0.42142258 0.52464048]]\n"
     ]
    }
   ],
   "source": [
    "random = np.random.random((2,3))\n",
    "print(random)"
   ]
  },
  {
   "cell_type": "markdown",
   "metadata": {},
   "source": [
    "## Arrays en NumPy"
   ]
  },
  {
   "cell_type": "code",
   "execution_count": 128,
   "metadata": {},
   "outputs": [
    {
     "name": "stdout",
     "output_type": "stream",
     "text": [
      "2\n",
      "(2, 3)\n",
      "int64\n"
     ]
    }
   ],
   "source": [
    "array = np.array([[1,2,3],[4,5,6]])\n",
    "print(array.ndim)\n",
    "print(array.shape)\n",
    "print(array.dtype)"
   ]
  },
  {
   "cell_type": "code",
   "execution_count": 129,
   "metadata": {},
   "outputs": [
    {
     "name": "stdout",
     "output_type": "stream",
     "text": [
      "3\n"
     ]
    }
   ],
   "source": [
    "z = np.array(3, dtype=np.uint8)\n",
    "print(z)"
   ]
  },
  {
   "cell_type": "code",
   "execution_count": 130,
   "metadata": {},
   "outputs": [
    {
     "name": "stdout",
     "output_type": "stream",
     "text": [
      "[1. 2. 3.]\n"
     ]
    }
   ],
   "source": [
    "double_array = np.array([1,2,3], dtype='d')\n",
    "print(double_array)"
   ]
  },
  {
   "cell_type": "code",
   "execution_count": 131,
   "metadata": {},
   "outputs": [
    {
     "name": "stdout",
     "output_type": "stream",
     "text": [
      "3.0\n"
     ]
    }
   ],
   "source": [
    "z = z.astype(np.float64)\n",
    "print(z)"
   ]
  },
  {
   "cell_type": "markdown",
   "metadata": {},
   "source": [
    "### Suma"
   ]
  },
  {
   "cell_type": "code",
   "execution_count": 132,
   "metadata": {},
   "outputs": [
    {
     "name": "stdout",
     "output_type": "stream",
     "text": [
      "21\n"
     ]
    }
   ],
   "source": [
    "array = np.array([[1,2,3],[4,5,6]])\n",
    "sum = np.sum(array)\n",
    "print(sum)"
   ]
  },
  {
   "cell_type": "markdown",
   "metadata": {},
   "source": [
    "## Media"
   ]
  },
  {
   "cell_type": "code",
   "execution_count": 133,
   "metadata": {},
   "outputs": [
    {
     "name": "stdout",
     "output_type": "stream",
     "text": [
      "3.5\n"
     ]
    }
   ],
   "source": [
    "mean = np.mean(array)\n",
    "print(mean)"
   ]
  },
  {
   "cell_type": "markdown",
   "metadata": {},
   "source": [
    "### Desviación estándar"
   ]
  },
  {
   "cell_type": "code",
   "execution_count": 134,
   "metadata": {},
   "outputs": [
    {
     "name": "stdout",
     "output_type": "stream",
     "text": [
      "1.707825127659933\n"
     ]
    }
   ],
   "source": [
    "std = np.std(array)\n",
    "print(std)"
   ]
  },
  {
   "cell_type": "markdown",
   "metadata": {},
   "source": [
    "Broadcarting"
   ]
  },
  {
   "cell_type": "code",
   "execution_count": 135,
   "metadata": {},
   "outputs": [
    {
     "name": "stdout",
     "output_type": "stream",
     "text": [
      "[ 90. 180. 270.]\n"
     ]
    }
   ],
   "source": [
    "price = np.array([100, 200, 300])\n",
    "discount = np.array([0.9])\n",
    "discount_price = price * discount\n",
    "print(discount_price)"
   ]
  },
  {
   "cell_type": "code",
   "execution_count": 136,
   "metadata": {},
   "outputs": [
    {
     "name": "stdout",
     "output_type": "stream",
     "text": [
      "[[444 190 122]\n",
      " [248 126 411]\n",
      " [345 420 419]]\n",
      "[[454 210 152]\n",
      " [258 146 441]\n",
      " [355 440 449]]\n"
     ]
    }
   ],
   "source": [
    "price = np.random.randint(100, 500, size =(3, 3))\n",
    "discount = np.array([10, 20, 30])\n",
    "discount_price = price + discount\n",
    "print(price)\n",
    "print(discount_price)"
   ]
  },
  {
   "cell_type": "code",
   "execution_count": 137,
   "metadata": {},
   "outputs": [
    {
     "name": "stdout",
     "output_type": "stream",
     "text": [
      "False\n"
     ]
    }
   ],
   "source": [
    "array = np.array([1,2,3,4,5])\n",
    "print(np.all(array > 9))"
   ]
  },
  {
   "cell_type": "code",
   "execution_count": 138,
   "metadata": {},
   "outputs": [
    {
     "name": "stdout",
     "output_type": "stream",
     "text": [
      "True\n"
     ]
    }
   ],
   "source": [
    "print(np.any(array > 0))"
   ]
  },
  {
   "cell_type": "code",
   "execution_count": 139,
   "metadata": {},
   "outputs": [
    {
     "name": "stdout",
     "output_type": "stream",
     "text": [
      "[1 2 3 1 2 3]\n",
      "[1 2 3 4 5 6]\n"
     ]
    }
   ],
   "source": [
    "array_a = np.array([1,2,3])\n",
    "array_b = np.array([4,5,6])\n",
    "concatenated_a = np.concatenate((array_a, array_a))\n",
    "concatenated_ab = np.concatenate((array_a, array_b))\n",
    "print(concatenated_a)\n",
    "print(concatenated_ab)"
   ]
  },
  {
   "cell_type": "code",
   "execution_count": 140,
   "metadata": {},
   "outputs": [
    {
     "name": "stdout",
     "output_type": "stream",
     "text": [
      "[[1 2 3]\n",
      " [4 5 6]]\n"
     ]
    }
   ],
   "source": [
    "stacked_v = np.vstack((array_a, array_b))\n",
    "print(stacked_v)"
   ]
  },
  {
   "cell_type": "code",
   "execution_count": 141,
   "metadata": {},
   "outputs": [
    {
     "name": "stdout",
     "output_type": "stream",
     "text": [
      "[1 2 3 4 5 6]\n"
     ]
    }
   ],
   "source": [
    "stacked_h = np.hstack((array_a, array_b))\n",
    "print(stacked_h)"
   ]
  },
  {
   "cell_type": "code",
   "execution_count": 142,
   "metadata": {},
   "outputs": [
    {
     "name": "stdout",
     "output_type": "stream",
     "text": [
      "[1 2 3 4 5 6 7 8 9]\n",
      "[array([1, 2, 3]), array([4, 5, 6]), array([7, 8, 9])]\n"
     ]
    }
   ],
   "source": [
    "array_c = np.arange(1,10)\n",
    "split_array = np.split(array_c,3)\n",
    "print(array_c)\n",
    "print(split_array)\n"
   ]
  },
  {
   "cell_type": "markdown",
   "metadata": {},
   "source": [
    "## Unique"
   ]
  },
  {
   "cell_type": "code",
   "execution_count": 143,
   "metadata": {},
   "outputs": [
    {
     "name": "stdout",
     "output_type": "stream",
     "text": [
      "['bueno' 'excelente' 'malo']\n"
     ]
    }
   ],
   "source": [
    "survey_responses = np.array([\"bueno\", \"excelente\", \"malo\",\n",
    "                            \"bueno\", \"malo\", \"excelente\",\n",
    "                            \"bueno\", \"bueno\", \"malo\",\n",
    "                            \"excelente\", \"excelente\", \"excelente\"])\n",
    "\n",
    "print(np.unique(survey_responses))"
   ]
  },
  {
   "cell_type": "code",
   "execution_count": 144,
   "metadata": {},
   "outputs": [
    {
     "name": "stdout",
     "output_type": "stream",
     "text": [
      "['bueno' 'excelente' 'malo']\n",
      "[4 5 3]\n"
     ]
    }
   ],
   "source": [
    "unique_elements , count = np.unique(survey_responses, return_counts=True)\n",
    "print(unique_elements)\n",
    "print(count)"
   ]
  },
  {
   "cell_type": "code",
   "execution_count": 145,
   "metadata": {},
   "outputs": [
    {
     "name": "stdout",
     "output_type": "stream",
     "text": [
      "[0 1 2 3 4 5 6 7 8 9]\n",
      "[1 2]\n",
      "[ 0 10 11  3  4  5  6  7  8  9]\n",
      "[10 11]\n"
     ]
    }
   ],
   "source": [
    "array_x = np.arange(10)\n",
    "view_y = array_x[1:3]\n",
    "print(array_x)\n",
    "print(view_y)\n",
    "array_x[1:3] = [10, 11]\n",
    "print(array_x)\n",
    "print(view_y)"
   ]
  },
  {
   "cell_type": "code",
   "execution_count": 146,
   "metadata": {},
   "outputs": [
    {
     "name": "stdout",
     "output_type": "stream",
     "text": [
      "[0 1 2 3 4 5 6 7 8 9]\n",
      "[1 2]\n",
      "[ 0 10 11  3  4  5  6  7  8  9]\n",
      "[1 2]\n"
     ]
    }
   ],
   "source": [
    "array_x = np.arange(10)\n",
    "copy_x = array_x[[1,2]]\n",
    "print(array_x)\n",
    "print(copy_x)\n",
    "array_x[1:3] = [10, 11]\n",
    "print(array_x)\n",
    "print(copy_x)"
   ]
  },
  {
   "cell_type": "markdown",
   "metadata": {},
   "source": [
    "## Transformación de Arrays"
   ]
  },
  {
   "cell_type": "code",
   "execution_count": 147,
   "metadata": {},
   "outputs": [
    {
     "name": "stdout",
     "output_type": "stream",
     "text": [
      "[[1 2 3]\n",
      " [4 5 6]\n",
      " [7 8 9]]\n",
      "[[1 4 7]\n",
      " [2 5 8]\n",
      " [3 6 9]]\n"
     ]
    }
   ],
   "source": [
    "matrix = np.array([[1,2,3,],[4,5,6],[7,8,9]])\n",
    "transposed_matrix = matrix.T\n",
    "print(matrix)\n",
    "print(transposed_matrix)"
   ]
  },
  {
   "cell_type": "code",
   "execution_count": 148,
   "metadata": {},
   "outputs": [
    {
     "name": "stdout",
     "output_type": "stream",
     "text": [
      "[ 1  2  3  4  5  6  7  8  9 10 11 12]\n",
      "[[ 1  2  3  4]\n",
      " [ 5  6  7  8]\n",
      " [ 9 10 11 12]]\n"
     ]
    }
   ],
   "source": [
    "array = np.arange(1,13)\n",
    "reshaped_array = array.reshape(3,4)\n",
    "print(array)\n",
    "print(reshaped_array)"
   ]
  },
  {
   "cell_type": "code",
   "execution_count": 149,
   "metadata": {},
   "outputs": [
    {
     "name": "stdout",
     "output_type": "stream",
     "text": [
      "[ 1  2  3  4  5  6  7  8  9 10 11 12]\n",
      "[12 11 10  9  8  7  6  5  4  3  2  1]\n"
     ]
    }
   ],
   "source": [
    "reversed_array = array[::-1]\n",
    "print(array)\n",
    "print(reversed_array)"
   ]
  },
  {
   "cell_type": "code",
   "execution_count": 150,
   "metadata": {},
   "outputs": [
    {
     "name": "stdout",
     "output_type": "stream",
     "text": [
      "[[1 2 3]\n",
      " [4 5 6]\n",
      " [7 8 9]]\n",
      "[1 2 3 4 5 6 7 8 9]\n"
     ]
    }
   ],
   "source": [
    "matrix = np.array([[1,2,3,],[4,5,6],[7,8,9]])\n",
    "flattened_array = matrix.flatten()\n",
    "print(matrix)\n",
    "print(flattened_array)"
   ]
  },
  {
   "cell_type": "markdown",
   "metadata": {},
   "source": [
    "## Ejercicio"
   ]
  },
  {
   "cell_type": "code",
   "execution_count": 151,
   "metadata": {},
   "outputs": [],
   "source": [
    "meses = np.array(['Enero', 'Febrero', 'Marzo', 'Abril', 'Mayo', 'Junio',\n",
    "                  'Julio', 'Agosto', 'Septiembre', 'Octubre', 'Noviembre', 'Diciembre'])\n",
    "ventas_A = np.array([150, 200, 250, 300, 220, 210, 180, 190, 230, 240, 280, 300])\n",
    "ventas_B = np.array([180, 210, 230, 250, 270, 260, 240, 250, 270, 290, 310, 330])\n",
    "ventas_C = np.array([200, 220, 240, 260, 280, 300, 320, 340, 360, 380, 400, 420])"
   ]
  },
  {
   "cell_type": "markdown",
   "metadata": {},
   "source": [
    "## Cálculos Matriciales"
   ]
  },
  {
   "cell_type": "code",
   "execution_count": 152,
   "metadata": {},
   "outputs": [
    {
     "name": "stdout",
     "output_type": "stream",
     "text": [
      "[[1 2]\n",
      " [3 4]]\n",
      "[[5 6]\n",
      " [7 8]]\n",
      "[[ 6  8]\n",
      " [10 12]]\n"
     ]
    }
   ],
   "source": [
    "A = np.array([[1,2],[3,4]])\n",
    "B = np.array([[5,6],[7,8]])\n",
    "\n",
    "# Suma\n",
    "\n",
    "sum = A + B\n",
    "print(A)\n",
    "print(B)\n",
    "print(sum)"
   ]
  },
  {
   "cell_type": "markdown",
   "metadata": {},
   "source": [
    "### Multiplicación"
   ]
  },
  {
   "cell_type": "code",
   "execution_count": 153,
   "metadata": {},
   "outputs": [
    {
     "name": "stdout",
     "output_type": "stream",
     "text": [
      "[[19 22]\n",
      " [43 50]]\n"
     ]
    }
   ],
   "source": [
    "product = np.dot(A,B)\n",
    "print(product)\n"
   ]
  },
  {
   "cell_type": "code",
   "execution_count": 154,
   "metadata": {},
   "outputs": [
    {
     "name": "stdout",
     "output_type": "stream",
     "text": [
      "[[1 2]\n",
      " [3 4]]\n",
      "-2.0000000000000004\n",
      "[[-2.   1. ]\n",
      " [ 1.5 -0.5]]\n"
     ]
    }
   ],
   "source": [
    "A = np.array([[1,2],[3,4]])\n",
    "det_A = np.linalg.det(A)\n",
    "inv_A = np.linalg.inv(A)\n",
    "print(A)\n",
    "print(det_A)\n",
    "print((inv_A))"
   ]
  },
  {
   "cell_type": "code",
   "execution_count": 155,
   "metadata": {},
   "outputs": [
    {
     "name": "stdout",
     "output_type": "stream",
     "text": [
      "[-7.  8.]\n"
     ]
    }
   ],
   "source": [
    "# Resolver Ax = b\n",
    "b = np.array([9,11])\n",
    "x = np.linalg.solve(A,b)\n",
    "print(x)"
   ]
  },
  {
   "cell_type": "markdown",
   "metadata": {},
   "source": [
    "### Guardar y Visualizar\n"
   ]
  },
  {
   "cell_type": "code",
   "execution_count": 156,
   "metadata": {},
   "outputs": [
    {
     "name": "stdout",
     "output_type": "stream",
     "text": [
      "[239 205 131 229 168 252 257 228 177 337 232 241]\n"
     ]
    }
   ],
   "source": [
    "sales = np.random.randint(100, 351, size = 12)\n",
    "print(sales)\n",
    "np.save(\"sales.npy\", sales)"
   ]
  },
  {
   "cell_type": "code",
   "execution_count": 157,
   "metadata": {},
   "outputs": [
    {
     "name": "stdout",
     "output_type": "stream",
     "text": [
      "[239 205 131 229 168 252 257 228 177 337 232 241]\n"
     ]
    }
   ],
   "source": [
    "loaded_sales = np.load(\"sales.npy\")\n",
    "print(loaded_sales)"
   ]
  },
  {
   "cell_type": "code",
   "execution_count": 158,
   "metadata": {},
   "outputs": [],
   "source": [
    "np.savetxt('sales.csv', sales, delimiter=',')"
   ]
  },
  {
   "cell_type": "code",
   "execution_count": 159,
   "metadata": {},
   "outputs": [
    {
     "name": "stdout",
     "output_type": "stream",
     "text": [
      "[239. 205. 131. 229. 168. 252. 257. 228. 177. 337. 232. 241.]\n"
     ]
    }
   ],
   "source": [
    "loaded_sales_csv = np.loadtxt('sales.csv', delimiter=',')\n",
    "print(loaded_sales_csv)"
   ]
  },
  {
   "cell_type": "code",
   "execution_count": 160,
   "metadata": {},
   "outputs": [
    {
     "data": {
      "image/png": "[encoded data removed]",
      "text/plain": [
       "<Figure size 1000x500 with 1 Axes>"
      ]
     },
     "metadata": {},
     "output_type": "display_data"
    }
   ],
   "source": [
    "import numpy as np\n",
    "import matplotlib.pyplot as plt \n",
    "\n",
    "months = ['January', 'February', 'March', 'April', 'May', 'June', 'July', 'August', 'September', 'October', 'November', 'December']\n",
    "\n",
    "plt.figure(figsize=(10,5))\n",
    "plt.bar(months, sales, color= 'b', label='Ventas general')\n",
    "plt.title('Ventas por mes')\n",
    "plt.xlabel('Meses')\n",
    "plt.ylabel('Ventas')\n",
    "plt.xticks(rotation= 45)\n",
    "plt.show()"
   ]
  },
  {
   "cell_type": "markdown",
   "metadata": {},
   "source": [
    "## Pandas: Dataset"
   ]
  },
  {
   "cell_type": "code",
   "execution_count": 161,
   "metadata": {},
   "outputs": [
    {
     "name": "stdout",
     "output_type": "stream",
     "text": [
      "       InvoiceNo StockCode                          Description  Quantity  \\\n",
      "0         536365    85123A   WHITE HANGING HEART T-LIGHT HOLDER         6   \n",
      "1         536365     71053                  WHITE METAL LANTERN         6   \n",
      "2         536365    84406B       CREAM CUPID HEARTS COAT HANGER         8   \n",
      "3         536365    84029G  KNITTED UNION FLAG HOT WATER BOTTLE         6   \n",
      "4         536365    84029E       RED WOOLLY HOTTIE WHITE HEART.         6   \n",
      "...          ...       ...                                  ...       ...   \n",
      "541904    581587     22613          PACK OF 20 SPACEBOY NAPKINS        12   \n",
      "541905    581587     22899         CHILDREN'S APRON DOLLY GIRL          6   \n",
      "541906    581587     23254        CHILDRENS CUTLERY DOLLY GIRL          4   \n",
      "541907    581587     23255      CHILDRENS CUTLERY CIRCUS PARADE         4   \n",
      "541908    581587     22138        BAKING SET 9 PIECE RETROSPOT          3   \n",
      "\n",
      "                InvoiceDate  UnitPrice  CustomerID         Country  \n",
      "0       2010-12-01 08:26:00       2.55     17850.0  United Kingdom  \n",
      "1       2010-12-01 08:26:00       3.39     17850.0  United Kingdom  \n",
      "2       2010-12-01 08:26:00       2.75     17850.0  United Kingdom  \n",
      "3       2010-12-01 08:26:00       3.39     17850.0  United Kingdom  \n",
      "4       2010-12-01 08:26:00       3.39     17850.0  United Kingdom  \n",
      "...                     ...        ...         ...             ...  \n",
      "541904  2011-12-09 12:50:00       0.85     12680.0          France  \n",
      "541905  2011-12-09 12:50:00       2.10     12680.0          France  \n",
      "541906  2011-12-09 12:50:00       4.15     12680.0          France  \n",
      "541907  2011-12-09 12:50:00       4.15     12680.0          France  \n",
      "541908  2011-12-09 12:50:00       4.95     12680.0          France  \n",
      "\n",
      "[541909 rows x 8 columns]\n"
     ]
    }
   ],
   "source": [
    "import pandas as pd\n",
    "\n",
    "path = 'online_retail.csv'\n",
    "retail_data = pd.read_csv(path)\n",
    "\n",
    "# Excel\n",
    "# data_excel = pd.read_excel(path)\n",
    "\n",
    "# JSON\n",
    "# data_json = pd.read_json(path)\n",
    "\n",
    "# print(type(retail_data))\n",
    "print(retail_data)"
   ]
  },
  {
   "cell_type": "markdown",
   "metadata": {},
   "source": [
    "### 13. Estructuras y funciones"
   ]
  },
  {
   "cell_type": "code",
   "execution_count": 162,
   "metadata": {},
   "outputs": [
    {
     "name": "stdout",
     "output_type": "stream",
     "text": [
      "Index(['InvoiceNo', 'StockCode', 'Description', 'Quantity', 'InvoiceDate',\n",
      "       'UnitPrice', 'CustomerID', 'Country'],\n",
      "      dtype='object')\n"
     ]
    }
   ],
   "source": [
    "# Nombre de columnaas\n",
    "\n",
    "columns_name = retail_data.columns\n",
    "print(columns_name)"
   ]
  },
  {
   "cell_type": "code",
   "execution_count": 163,
   "metadata": {},
   "outputs": [
    {
     "name": "stdout",
     "output_type": "stream",
     "text": [
      "Número de filas 541909\n",
      "Número de columnas 8\n"
     ]
    }
   ],
   "source": [
    "# Dimensión\n",
    "num_rows, num_columns = retail_data.shape\n",
    "print('Número de filas', num_rows)\n",
    "print('Número de columnas', num_columns)"
   ]
  },
  {
   "cell_type": "code",
   "execution_count": 164,
   "metadata": {},
   "outputs": [
    {
     "name": "stdout",
     "output_type": "stream",
     "text": [
      "0          6\n",
      "1          6\n",
      "2          8\n",
      "3          6\n",
      "4          6\n",
      "          ..\n",
      "541904    12\n",
      "541905     6\n",
      "541906     4\n",
      "541907     4\n",
      "541908     3\n",
      "Name: Quantity, Length: 541909, dtype: int64\n",
      "8\n"
     ]
    }
   ],
   "source": [
    "daily_sales = retail_data['Quantity']\n",
    "print(daily_sales)\n",
    "print(daily_sales[2])"
   ]
  },
  {
   "cell_type": "code",
   "execution_count": 165,
   "metadata": {},
   "outputs": [
    {
     "name": "stdout",
     "output_type": "stream",
     "text": [
      "            Quantity      UnitPrice     CustomerID\n",
      "count  541909.000000  541909.000000  406829.000000\n",
      "mean        9.552250       4.611114   15287.690570\n",
      "std       218.081158      96.759853    1713.600303\n",
      "min    -80995.000000  -11062.060000   12346.000000\n",
      "25%         1.000000       1.250000   13953.000000\n",
      "50%         3.000000       2.080000   15152.000000\n",
      "75%        10.000000       4.130000   16791.000000\n",
      "max     80995.000000   38970.000000   18287.000000\n"
     ]
    }
   ],
   "source": [
    "summary = retail_data.describe()\n",
    "print(summary)"
   ]
  },
  {
   "cell_type": "code",
   "execution_count": 166,
   "metadata": {},
   "outputs": [
    {
     "name": "stdout",
     "output_type": "stream",
     "text": [
      "la media es: 9.55224954743324\n"
     ]
    }
   ],
   "source": [
    "mean_value = daily_sales.mean()\n",
    "print('la media es:',mean_value)"
   ]
  },
  {
   "cell_type": "code",
   "execution_count": 167,
   "metadata": {},
   "outputs": [
    {
     "name": "stdout",
     "output_type": "stream",
     "text": [
      "La mediana es: 3.0\n"
     ]
    }
   ],
   "source": [
    "median_value = daily_sales.median()\n",
    "print('La mediana es:',median_value)"
   ]
  },
  {
   "cell_type": "code",
   "execution_count": 168,
   "metadata": {},
   "outputs": [
    {
     "name": "stdout",
     "output_type": "stream",
     "text": [
      "La suma total es: 5176450\n"
     ]
    }
   ],
   "source": [
    "sum_value = daily_sales.sum()\n",
    "print('La suma total es:',sum_value)"
   ]
  },
  {
   "cell_type": "code",
   "execution_count": 169,
   "metadata": {},
   "outputs": [
    {
     "name": "stdout",
     "output_type": "stream",
     "text": [
      "541909\n"
     ]
    }
   ],
   "source": [
    "count_values = daily_sales.count()\n",
    "print(count_values)"
   ]
  },
  {
   "cell_type": "code",
   "execution_count": 170,
   "metadata": {},
   "outputs": [
    {
     "name": "stdout",
     "output_type": "stream",
     "text": [
      "Suma de Quantity: 120.0\n",
      "Conteo de Quantity: 4\n"
     ]
    }
   ],
   "source": [
    "daily_sales = pd.Series([10, 20, None, 40, 50])\n",
    "\n",
    "# Suma de Quantity\n",
    "total_sum = daily_sales.sum()\n",
    "print(\"Suma de Quantity:\", total_sum)\n",
    "\n",
    "# Conteo de Quantity\n",
    "count_values = daily_sales.count()\n",
    "print(\"Conteo de Quantity:\", count_values)"
   ]
  },
  {
   "cell_type": "code",
   "execution_count": 171,
   "metadata": {},
   "outputs": [
    {
     "data": {
      "text/html": [
       "<div>\n",
       "<style scoped>\n",
       "    .dataframe tbody tr th:only-of-type {\n",
       "        vertical-align: middle;\n",
       "    }\n",
       "\n",
       "    .dataframe tbody tr th {\n",
       "        vertical-align: top;\n",
       "    }\n",
       "\n",
       "    .dataframe thead th {\n",
       "        text-align: right;\n",
       "    }\n",
       "</style>\n",
       "<table border=\"1\" class=\"dataframe\">\n",
       "  <thead>\n",
       "    <tr style=\"text-align: right;\">\n",
       "      <th></th>\n",
       "      <th>InvoiceNo</th>\n",
       "      <th>StockCode</th>\n",
       "      <th>Description</th>\n",
       "      <th>Quantity</th>\n",
       "      <th>InvoiceDate</th>\n",
       "      <th>UnitPrice</th>\n",
       "      <th>CustomerID</th>\n",
       "      <th>Country</th>\n",
       "    </tr>\n",
       "  </thead>\n",
       "  <tbody>\n",
       "    <tr>\n",
       "      <th>0</th>\n",
       "      <td>536365</td>\n",
       "      <td>85123A</td>\n",
       "      <td>WHITE HANGING HEART T-LIGHT HOLDER</td>\n",
       "      <td>6</td>\n",
       "      <td>2010-12-01 08:26:00</td>\n",
       "      <td>2.55</td>\n",
       "      <td>17850.0</td>\n",
       "      <td>United Kingdom</td>\n",
       "    </tr>\n",
       "    <tr>\n",
       "      <th>1</th>\n",
       "      <td>536365</td>\n",
       "      <td>71053</td>\n",
       "      <td>WHITE METAL LANTERN</td>\n",
       "      <td>6</td>\n",
       "      <td>2010-12-01 08:26:00</td>\n",
       "      <td>3.39</td>\n",
       "      <td>17850.0</td>\n",
       "      <td>United Kingdom</td>\n",
       "    </tr>\n",
       "    <tr>\n",
       "      <th>2</th>\n",
       "      <td>536365</td>\n",
       "      <td>84406B</td>\n",
       "      <td>CREAM CUPID HEARTS COAT HANGER</td>\n",
       "      <td>8</td>\n",
       "      <td>2010-12-01 08:26:00</td>\n",
       "      <td>2.75</td>\n",
       "      <td>17850.0</td>\n",
       "      <td>United Kingdom</td>\n",
       "    </tr>\n",
       "    <tr>\n",
       "      <th>3</th>\n",
       "      <td>536365</td>\n",
       "      <td>84029G</td>\n",
       "      <td>KNITTED UNION FLAG HOT WATER BOTTLE</td>\n",
       "      <td>6</td>\n",
       "      <td>2010-12-01 08:26:00</td>\n",
       "      <td>3.39</td>\n",
       "      <td>17850.0</td>\n",
       "      <td>United Kingdom</td>\n",
       "    </tr>\n",
       "    <tr>\n",
       "      <th>4</th>\n",
       "      <td>536365</td>\n",
       "      <td>84029E</td>\n",
       "      <td>RED WOOLLY HOTTIE WHITE HEART.</td>\n",
       "      <td>6</td>\n",
       "      <td>2010-12-01 08:26:00</td>\n",
       "      <td>3.39</td>\n",
       "      <td>17850.0</td>\n",
       "      <td>United Kingdom</td>\n",
       "    </tr>\n",
       "    <tr>\n",
       "      <th>5</th>\n",
       "      <td>536365</td>\n",
       "      <td>22752</td>\n",
       "      <td>SET 7 BABUSHKA NESTING BOXES</td>\n",
       "      <td>2</td>\n",
       "      <td>2010-12-01 08:26:00</td>\n",
       "      <td>7.65</td>\n",
       "      <td>17850.0</td>\n",
       "      <td>United Kingdom</td>\n",
       "    </tr>\n",
       "    <tr>\n",
       "      <th>6</th>\n",
       "      <td>536365</td>\n",
       "      <td>21730</td>\n",
       "      <td>GLASS STAR FROSTED T-LIGHT HOLDER</td>\n",
       "      <td>6</td>\n",
       "      <td>2010-12-01 08:26:00</td>\n",
       "      <td>4.25</td>\n",
       "      <td>17850.0</td>\n",
       "      <td>United Kingdom</td>\n",
       "    </tr>\n",
       "    <tr>\n",
       "      <th>7</th>\n",
       "      <td>536366</td>\n",
       "      <td>22633</td>\n",
       "      <td>HAND WARMER UNION JACK</td>\n",
       "      <td>6</td>\n",
       "      <td>2010-12-01 08:28:00</td>\n",
       "      <td>1.85</td>\n",
       "      <td>17850.0</td>\n",
       "      <td>United Kingdom</td>\n",
       "    </tr>\n",
       "    <tr>\n",
       "      <th>8</th>\n",
       "      <td>536366</td>\n",
       "      <td>22632</td>\n",
       "      <td>HAND WARMER RED POLKA DOT</td>\n",
       "      <td>6</td>\n",
       "      <td>2010-12-01 08:28:00</td>\n",
       "      <td>1.85</td>\n",
       "      <td>17850.0</td>\n",
       "      <td>United Kingdom</td>\n",
       "    </tr>\n",
       "  </tbody>\n",
       "</table>\n",
       "</div>"
      ],
      "text/plain": [
       "  InvoiceNo StockCode                          Description  Quantity  \\\n",
       "0    536365    85123A   WHITE HANGING HEART T-LIGHT HOLDER         6   \n",
       "1    536365     71053                  WHITE METAL LANTERN         6   \n",
       "2    536365    84406B       CREAM CUPID HEARTS COAT HANGER         8   \n",
       "3    536365    84029G  KNITTED UNION FLAG HOT WATER BOTTLE         6   \n",
       "4    536365    84029E       RED WOOLLY HOTTIE WHITE HEART.         6   \n",
       "5    536365     22752         SET 7 BABUSHKA NESTING BOXES         2   \n",
       "6    536365     21730    GLASS STAR FROSTED T-LIGHT HOLDER         6   \n",
       "7    536366     22633               HAND WARMER UNION JACK         6   \n",
       "8    536366     22632            HAND WARMER RED POLKA DOT         6   \n",
       "\n",
       "           InvoiceDate  UnitPrice  CustomerID         Country  \n",
       "0  2010-12-01 08:26:00       2.55     17850.0  United Kingdom  \n",
       "1  2010-12-01 08:26:00       3.39     17850.0  United Kingdom  \n",
       "2  2010-12-01 08:26:00       2.75     17850.0  United Kingdom  \n",
       "3  2010-12-01 08:26:00       3.39     17850.0  United Kingdom  \n",
       "4  2010-12-01 08:26:00       3.39     17850.0  United Kingdom  \n",
       "5  2010-12-01 08:26:00       7.65     17850.0  United Kingdom  \n",
       "6  2010-12-01 08:26:00       4.25     17850.0  United Kingdom  \n",
       "7  2010-12-01 08:28:00       1.85     17850.0  United Kingdom  \n",
       "8  2010-12-01 08:28:00       1.85     17850.0  United Kingdom  "
      ]
     },
     "execution_count": 171,
     "metadata": {},
     "output_type": "execute_result"
    }
   ],
   "source": [
    "retail_data.head(9)"
   ]
  },
  {
   "cell_type": "code",
   "execution_count": 172,
   "metadata": {},
   "outputs": [
    {
     "data": {
      "text/html": [
       "<div>\n",
       "<style scoped>\n",
       "    .dataframe tbody tr th:only-of-type {\n",
       "        vertical-align: middle;\n",
       "    }\n",
       "\n",
       "    .dataframe tbody tr th {\n",
       "        vertical-align: top;\n",
       "    }\n",
       "\n",
       "    .dataframe thead th {\n",
       "        text-align: right;\n",
       "    }\n",
       "</style>\n",
       "<table border=\"1\" class=\"dataframe\">\n",
       "  <thead>\n",
       "    <tr style=\"text-align: right;\">\n",
       "      <th></th>\n",
       "      <th>InvoiceNo</th>\n",
       "      <th>StockCode</th>\n",
       "      <th>Description</th>\n",
       "      <th>Quantity</th>\n",
       "      <th>InvoiceDate</th>\n",
       "      <th>UnitPrice</th>\n",
       "      <th>CustomerID</th>\n",
       "      <th>Country</th>\n",
       "    </tr>\n",
       "  </thead>\n",
       "  <tbody>\n",
       "    <tr>\n",
       "      <th>541900</th>\n",
       "      <td>581587</td>\n",
       "      <td>22730</td>\n",
       "      <td>ALARM CLOCK BAKELIKE IVORY</td>\n",
       "      <td>4</td>\n",
       "      <td>2011-12-09 12:50:00</td>\n",
       "      <td>3.75</td>\n",
       "      <td>12680.0</td>\n",
       "      <td>France</td>\n",
       "    </tr>\n",
       "    <tr>\n",
       "      <th>541901</th>\n",
       "      <td>581587</td>\n",
       "      <td>22367</td>\n",
       "      <td>CHILDRENS APRON SPACEBOY DESIGN</td>\n",
       "      <td>8</td>\n",
       "      <td>2011-12-09 12:50:00</td>\n",
       "      <td>1.95</td>\n",
       "      <td>12680.0</td>\n",
       "      <td>France</td>\n",
       "    </tr>\n",
       "    <tr>\n",
       "      <th>541902</th>\n",
       "      <td>581587</td>\n",
       "      <td>22629</td>\n",
       "      <td>SPACEBOY LUNCH BOX</td>\n",
       "      <td>12</td>\n",
       "      <td>2011-12-09 12:50:00</td>\n",
       "      <td>1.95</td>\n",
       "      <td>12680.0</td>\n",
       "      <td>France</td>\n",
       "    </tr>\n",
       "    <tr>\n",
       "      <th>541903</th>\n",
       "      <td>581587</td>\n",
       "      <td>23256</td>\n",
       "      <td>CHILDRENS CUTLERY SPACEBOY</td>\n",
       "      <td>4</td>\n",
       "      <td>2011-12-09 12:50:00</td>\n",
       "      <td>4.15</td>\n",
       "      <td>12680.0</td>\n",
       "      <td>France</td>\n",
       "    </tr>\n",
       "    <tr>\n",
       "      <th>541904</th>\n",
       "      <td>581587</td>\n",
       "      <td>22613</td>\n",
       "      <td>PACK OF 20 SPACEBOY NAPKINS</td>\n",
       "      <td>12</td>\n",
       "      <td>2011-12-09 12:50:00</td>\n",
       "      <td>0.85</td>\n",
       "      <td>12680.0</td>\n",
       "      <td>France</td>\n",
       "    </tr>\n",
       "    <tr>\n",
       "      <th>541905</th>\n",
       "      <td>581587</td>\n",
       "      <td>22899</td>\n",
       "      <td>CHILDREN'S APRON DOLLY GIRL</td>\n",
       "      <td>6</td>\n",
       "      <td>2011-12-09 12:50:00</td>\n",
       "      <td>2.10</td>\n",
       "      <td>12680.0</td>\n",
       "      <td>France</td>\n",
       "    </tr>\n",
       "    <tr>\n",
       "      <th>541906</th>\n",
       "      <td>581587</td>\n",
       "      <td>23254</td>\n",
       "      <td>CHILDRENS CUTLERY DOLLY GIRL</td>\n",
       "      <td>4</td>\n",
       "      <td>2011-12-09 12:50:00</td>\n",
       "      <td>4.15</td>\n",
       "      <td>12680.0</td>\n",
       "      <td>France</td>\n",
       "    </tr>\n",
       "    <tr>\n",
       "      <th>541907</th>\n",
       "      <td>581587</td>\n",
       "      <td>23255</td>\n",
       "      <td>CHILDRENS CUTLERY CIRCUS PARADE</td>\n",
       "      <td>4</td>\n",
       "      <td>2011-12-09 12:50:00</td>\n",
       "      <td>4.15</td>\n",
       "      <td>12680.0</td>\n",
       "      <td>France</td>\n",
       "    </tr>\n",
       "    <tr>\n",
       "      <th>541908</th>\n",
       "      <td>581587</td>\n",
       "      <td>22138</td>\n",
       "      <td>BAKING SET 9 PIECE RETROSPOT</td>\n",
       "      <td>3</td>\n",
       "      <td>2011-12-09 12:50:00</td>\n",
       "      <td>4.95</td>\n",
       "      <td>12680.0</td>\n",
       "      <td>France</td>\n",
       "    </tr>\n",
       "  </tbody>\n",
       "</table>\n",
       "</div>"
      ],
      "text/plain": [
       "       InvoiceNo StockCode                      Description  Quantity  \\\n",
       "541900    581587     22730       ALARM CLOCK BAKELIKE IVORY         4   \n",
       "541901    581587     22367  CHILDRENS APRON SPACEBOY DESIGN         8   \n",
       "541902    581587     22629              SPACEBOY LUNCH BOX         12   \n",
       "541903    581587     23256      CHILDRENS CUTLERY SPACEBOY          4   \n",
       "541904    581587     22613      PACK OF 20 SPACEBOY NAPKINS        12   \n",
       "541905    581587     22899     CHILDREN'S APRON DOLLY GIRL          6   \n",
       "541906    581587     23254    CHILDRENS CUTLERY DOLLY GIRL          4   \n",
       "541907    581587     23255  CHILDRENS CUTLERY CIRCUS PARADE         4   \n",
       "541908    581587     22138    BAKING SET 9 PIECE RETROSPOT          3   \n",
       "\n",
       "                InvoiceDate  UnitPrice  CustomerID Country  \n",
       "541900  2011-12-09 12:50:00       3.75     12680.0  France  \n",
       "541901  2011-12-09 12:50:00       1.95     12680.0  France  \n",
       "541902  2011-12-09 12:50:00       1.95     12680.0  France  \n",
       "541903  2011-12-09 12:50:00       4.15     12680.0  France  \n",
       "541904  2011-12-09 12:50:00       0.85     12680.0  France  \n",
       "541905  2011-12-09 12:50:00       2.10     12680.0  France  \n",
       "541906  2011-12-09 12:50:00       4.15     12680.0  France  \n",
       "541907  2011-12-09 12:50:00       4.15     12680.0  France  \n",
       "541908  2011-12-09 12:50:00       4.95     12680.0  France  "
      ]
     },
     "execution_count": 172,
     "metadata": {},
     "output_type": "execute_result"
    }
   ],
   "source": [
    "retail_data.tail(9)"
   ]
  },
  {
   "cell_type": "markdown",
   "metadata": {},
   "source": [
    "## iloc & loc"
   ]
  },
  {
   "cell_type": "code",
   "execution_count": 173,
   "metadata": {},
   "outputs": [
    {
     "name": "stdout",
     "output_type": "stream",
     "text": [
      "InvoiceNo                                  536365\n",
      "StockCode                                  85123A\n",
      "Description    WHITE HANGING HEART T-LIGHT HOLDER\n",
      "Quantity                                        6\n",
      "InvoiceDate                   2010-12-01 08:26:00\n",
      "UnitPrice                                    2.55\n",
      "CustomerID                                17850.0\n",
      "Country                            United Kingdom\n",
      "Name: 0, dtype: object\n"
     ]
    }
   ],
   "source": [
    "first_row = retail_data.iloc[0]\n",
    "print(first_row)"
   ]
  },
  {
   "cell_type": "code",
   "execution_count": 174,
   "metadata": {},
   "outputs": [
    {
     "name": "stdout",
     "output_type": "stream",
     "text": [
      "  InvoiceNo StockCode                        Description  Quantity  \\\n",
      "6    536365     21730  GLASS STAR FROSTED T-LIGHT HOLDER         6   \n",
      "7    536366     22633             HAND WARMER UNION JACK         6   \n",
      "\n",
      "           InvoiceDate  UnitPrice  CustomerID         Country  \n",
      "6  2010-12-01 08:26:00       4.25     17850.0  United Kingdom  \n",
      "7  2010-12-01 08:28:00       1.85     17850.0  United Kingdom  \n"
     ]
    }
   ],
   "source": [
    "first_five_row = retail_data.iloc[6:8]\n",
    "print(first_five_row)"
   ]
  },
  {
   "cell_type": "code",
   "execution_count": 175,
   "metadata": {},
   "outputs": [
    {
     "name": "stdout",
     "output_type": "stream",
     "text": [
      "  InvoiceNo StockCode\n",
      "0    536365    85123A\n",
      "1    536365     71053\n",
      "2    536365    84406B\n"
     ]
    }
   ],
   "source": [
    "subset = retail_data.iloc[:3,:2]\n",
    "print(subset)"
   ]
  },
  {
   "cell_type": "code",
   "execution_count": 176,
   "metadata": {},
   "outputs": [
    {
     "name": "stdout",
     "output_type": "stream",
     "text": [
      "6\n"
     ]
    }
   ],
   "source": [
    "retail_value = retail_data.iloc[1, 3]\n",
    "print(retail_value)"
   ]
  },
  {
   "cell_type": "code",
   "execution_count": 177,
   "metadata": {},
   "outputs": [
    {
     "name": "stdout",
     "output_type": "stream",
     "text": [
      "InvoiceNo                                   536365\n",
      "StockCode                                   84029G\n",
      "Description    KNITTED UNION FLAG HOT WATER BOTTLE\n",
      "Quantity                                         6\n",
      "InvoiceDate                    2010-12-01 08:26:00\n",
      "UnitPrice                                     3.39\n",
      "CustomerID                                 17850.0\n",
      "Country                             United Kingdom\n",
      "Name: 3, dtype: object\n"
     ]
    }
   ],
   "source": [
    "row_index_3 = retail_data.loc[3]\n",
    "print(row_index_3)"
   ]
  },
  {
   "cell_type": "code",
   "execution_count": 178,
   "metadata": {},
   "outputs": [
    {
     "name": "stdout",
     "output_type": "stream",
     "text": [
      "  InvoiceNo StockCode                          Description  Quantity  \\\n",
      "0    536365    85123A   WHITE HANGING HEART T-LIGHT HOLDER         6   \n",
      "1    536365     71053                  WHITE METAL LANTERN         6   \n",
      "2    536365    84406B       CREAM CUPID HEARTS COAT HANGER         8   \n",
      "3    536365    84029G  KNITTED UNION FLAG HOT WATER BOTTLE         6   \n",
      "4    536365    84029E       RED WOOLLY HOTTIE WHITE HEART.         6   \n",
      "\n",
      "           InvoiceDate  UnitPrice  CustomerID         Country  \n",
      "0  2010-12-01 08:26:00       2.55     17850.0  United Kingdom  \n",
      "1  2010-12-01 08:26:00       3.39     17850.0  United Kingdom  \n",
      "2  2010-12-01 08:26:00       2.75     17850.0  United Kingdom  \n",
      "3  2010-12-01 08:26:00       3.39     17850.0  United Kingdom  \n",
      "4  2010-12-01 08:26:00       3.39     17850.0  United Kingdom  \n"
     ]
    }
   ],
   "source": [
    "row_index_0_to_4 = retail_data.loc[0:4]\n",
    "print(row_index_0_to_4)"
   ]
  },
  {
   "cell_type": "code",
   "execution_count": 179,
   "metadata": {},
   "outputs": [
    {
     "name": "stdout",
     "output_type": "stream",
     "text": [
      "0          6\n",
      "1          6\n",
      "2          8\n",
      "3          6\n",
      "4          6\n",
      "          ..\n",
      "541904    12\n",
      "541905     6\n",
      "541906     4\n",
      "541907     4\n",
      "541908     3\n",
      "Name: Quantity, Length: 541909, dtype: int64\n"
     ]
    }
   ],
   "source": [
    "quantity_column = retail_data.loc[:,'Quantity']\n",
    "print(quantity_column)"
   ]
  },
  {
   "cell_type": "code",
   "execution_count": 180,
   "metadata": {},
   "outputs": [
    {
     "name": "stdout",
     "output_type": "stream",
     "text": [
      "        Quantity  UnitPrice\n",
      "0              6       2.55\n",
      "1              6       3.39\n",
      "2              8       2.75\n",
      "3              6       3.39\n",
      "4              6       3.39\n",
      "...          ...        ...\n",
      "541904        12       0.85\n",
      "541905         6       2.10\n",
      "541906         4       4.15\n",
      "541907         4       4.15\n",
      "541908         3       4.95\n",
      "\n",
      "[541909 rows x 2 columns]\n"
     ]
    }
   ],
   "source": [
    "quantity_unitprice_column = retail_data.loc[:,['Quantity','UnitPrice']]\n",
    "print(quantity_unitprice_column)"
   ]
  },
  {
   "cell_type": "markdown",
   "metadata": {},
   "source": [
    "## Datos Faltantes"
   ]
  },
  {
   "cell_type": "code",
   "execution_count": 181,
   "metadata": {},
   "outputs": [
    {
     "name": "stdout",
     "output_type": "stream",
     "text": [
      "        InvoiceNo  StockCode  Description  Quantity  InvoiceDate  UnitPrice  \\\n",
      "0           False      False        False     False        False      False   \n",
      "1           False      False        False     False        False      False   \n",
      "2           False      False        False     False        False      False   \n",
      "3           False      False        False     False        False      False   \n",
      "4           False      False        False     False        False      False   \n",
      "...           ...        ...          ...       ...          ...        ...   \n",
      "541904      False      False        False     False        False      False   \n",
      "541905      False      False        False     False        False      False   \n",
      "541906      False      False        False     False        False      False   \n",
      "541907      False      False        False     False        False      False   \n",
      "541908      False      False        False     False        False      False   \n",
      "\n",
      "        CustomerID  Country  \n",
      "0            False    False  \n",
      "1            False    False  \n",
      "2            False    False  \n",
      "3            False    False  \n",
      "4            False    False  \n",
      "...            ...      ...  \n",
      "541904       False    False  \n",
      "541905       False    False  \n",
      "541906       False    False  \n",
      "541907       False    False  \n",
      "541908       False    False  \n",
      "\n",
      "[541909 rows x 8 columns]\n"
     ]
    }
   ],
   "source": [
    "missing_data = retail_data.isna()\n",
    "print(missing_data)"
   ]
  },
  {
   "cell_type": "code",
   "execution_count": 182,
   "metadata": {},
   "outputs": [
    {
     "name": "stdout",
     "output_type": "stream",
     "text": [
      "   InvoiceNo  StockCode  Description  Quantity  InvoiceDate  UnitPrice  \\\n",
      "0      False      False        False     False        False      False   \n",
      "1      False      False        False     False        False      False   \n",
      "2      False      False        False     False        False      False   \n",
      "3      False      False        False     False        False      False   \n",
      "4      False      False        False     False        False      False   \n",
      "\n",
      "   CustomerID  Country  \n",
      "0       False    False  \n",
      "1       False    False  \n",
      "2       False    False  \n",
      "3       False    False  \n",
      "4       False    False  \n"
     ]
    }
   ],
   "source": [
    "print(missing_data.head())"
   ]
  },
  {
   "cell_type": "code",
   "execution_count": 183,
   "metadata": {},
   "outputs": [
    {
     "name": "stdout",
     "output_type": "stream",
     "text": [
      "Conteo de datos faltantes por columna:\n",
      " InvoiceNo           0\n",
      "StockCode           0\n",
      "Description      1454\n",
      "Quantity            0\n",
      "InvoiceDate         0\n",
      "UnitPrice           0\n",
      "CustomerID     135080\n",
      "Country             0\n",
      "dtype: int64\n"
     ]
    }
   ],
   "source": [
    "missing_data_count = retail_data.isna().sum()\n",
    "print('Conteo de datos faltantes por columna:\\n', missing_data_count)"
   ]
  },
  {
   "cell_type": "code",
   "execution_count": 184,
   "metadata": {},
   "outputs": [
    {
     "name": "stdout",
     "output_type": "stream",
     "text": [
      "Datos sin filas con valores faltantes:\n",
      "        InvoiceNo StockCode                          Description  Quantity  \\\n",
      "0         536365    85123A   WHITE HANGING HEART T-LIGHT HOLDER         6   \n",
      "1         536365     71053                  WHITE METAL LANTERN         6   \n",
      "2         536365    84406B       CREAM CUPID HEARTS COAT HANGER         8   \n",
      "3         536365    84029G  KNITTED UNION FLAG HOT WATER BOTTLE         6   \n",
      "4         536365    84029E       RED WOOLLY HOTTIE WHITE HEART.         6   \n",
      "...          ...       ...                                  ...       ...   \n",
      "541904    581587     22613          PACK OF 20 SPACEBOY NAPKINS        12   \n",
      "541905    581587     22899         CHILDREN'S APRON DOLLY GIRL          6   \n",
      "541906    581587     23254        CHILDRENS CUTLERY DOLLY GIRL          4   \n",
      "541907    581587     23255      CHILDRENS CUTLERY CIRCUS PARADE         4   \n",
      "541908    581587     22138        BAKING SET 9 PIECE RETROSPOT          3   \n",
      "\n",
      "                InvoiceDate  UnitPrice  CustomerID         Country  \n",
      "0       2010-12-01 08:26:00       2.55     17850.0  United Kingdom  \n",
      "1       2010-12-01 08:26:00       3.39     17850.0  United Kingdom  \n",
      "2       2010-12-01 08:26:00       2.75     17850.0  United Kingdom  \n",
      "3       2010-12-01 08:26:00       3.39     17850.0  United Kingdom  \n",
      "4       2010-12-01 08:26:00       3.39     17850.0  United Kingdom  \n",
      "...                     ...        ...         ...             ...  \n",
      "541904  2011-12-09 12:50:00       0.85     12680.0          France  \n",
      "541905  2011-12-09 12:50:00       2.10     12680.0          France  \n",
      "541906  2011-12-09 12:50:00       4.15     12680.0          France  \n",
      "541907  2011-12-09 12:50:00       4.15     12680.0          France  \n",
      "541908  2011-12-09 12:50:00       4.95     12680.0          France  \n",
      "\n",
      "[406829 rows x 8 columns]\n"
     ]
    }
   ],
   "source": [
    "no_missing_rows = retail_data.dropna()\n",
    "print('Datos sin filas con valores faltantes:\\n', no_missing_rows)"
   ]
  },
  {
   "cell_type": "code",
   "execution_count": 185,
   "metadata": {},
   "outputs": [
    {
     "name": "stdout",
     "output_type": "stream",
     "text": [
      "Datos sin columnas con valores faltantes:\n",
      "        InvoiceNo StockCode  Quantity          InvoiceDate  UnitPrice  \\\n",
      "0         536365    85123A         6  2010-12-01 08:26:00       2.55   \n",
      "1         536365     71053         6  2010-12-01 08:26:00       3.39   \n",
      "2         536365    84406B         8  2010-12-01 08:26:00       2.75   \n",
      "3         536365    84029G         6  2010-12-01 08:26:00       3.39   \n",
      "4         536365    84029E         6  2010-12-01 08:26:00       3.39   \n",
      "...          ...       ...       ...                  ...        ...   \n",
      "541904    581587     22613        12  2011-12-09 12:50:00       0.85   \n",
      "541905    581587     22899         6  2011-12-09 12:50:00       2.10   \n",
      "541906    581587     23254         4  2011-12-09 12:50:00       4.15   \n",
      "541907    581587     23255         4  2011-12-09 12:50:00       4.15   \n",
      "541908    581587     22138         3  2011-12-09 12:50:00       4.95   \n",
      "\n",
      "               Country  \n",
      "0       United Kingdom  \n",
      "1       United Kingdom  \n",
      "2       United Kingdom  \n",
      "3       United Kingdom  \n",
      "4       United Kingdom  \n",
      "...                ...  \n",
      "541904          France  \n",
      "541905          France  \n",
      "541906          France  \n",
      "541907          France  \n",
      "541908          France  \n",
      "\n",
      "[541909 rows x 6 columns]\n"
     ]
    }
   ],
   "source": [
    "no_missing_columns = retail_data.dropna(axis=1)\n",
    "print('Datos sin columnas con valores faltantes:\\n',no_missing_columns)"
   ]
  },
  {
   "cell_type": "code",
   "execution_count": 186,
   "metadata": {},
   "outputs": [
    {
     "name": "stdout",
     "output_type": "stream",
     "text": [
      "InvoiceNo      0\n",
      "StockCode      0\n",
      "Description    0\n",
      "Quantity       0\n",
      "InvoiceDate    0\n",
      "UnitPrice      0\n",
      "CustomerID     0\n",
      "Country        0\n",
      "dtype: int64\n"
     ]
    }
   ],
   "source": [
    "retail_data_fillef_zeros = retail_data.fillna(0)\n",
    "retail_data_fillef_zeros_count = retail_data_fillef_zeros.isna().sum()\n",
    "print(retail_data_fillef_zeros_count)"
   ]
  },
  {
   "cell_type": "code",
   "execution_count": 187,
   "metadata": {},
   "outputs": [
    {
     "name": "stdout",
     "output_type": "stream",
     "text": [
      "0         2.55\n",
      "1         3.39\n",
      "2         2.75\n",
      "3         3.39\n",
      "4         3.39\n",
      "          ... \n",
      "541904    0.85\n",
      "541905    2.10\n",
      "541906    4.15\n",
      "541907    4.15\n",
      "541908    4.95\n",
      "Name: UnitPrice, Length: 541909, dtype: float64\n"
     ]
    }
   ],
   "source": [
    "mean_unit_price = retail_data['UnitPrice'].mean()\n",
    "retail_data_fillef_mean = retail_data['UnitPrice'].fillna(mean_unit_price)\n",
    "print(retail_data_fillef_mean)"
   ]
  },
  {
   "cell_type": "markdown",
   "metadata": {},
   "source": [
    "## Manipulación de columnas"
   ]
  },
  {
   "cell_type": "code",
   "execution_count": 188,
   "metadata": {},
   "outputs": [
    {
     "name": "stdout",
     "output_type": "stream",
     "text": [
      "  InvoiceNo StockCode                          Description  Quantity  \\\n",
      "0    536365    85123A   WHITE HANGING HEART T-LIGHT HOLDER         6   \n",
      "1    536365     71053                  WHITE METAL LANTERN         6   \n",
      "2    536365    84406B       CREAM CUPID HEARTS COAT HANGER         8   \n",
      "3    536365    84029G  KNITTED UNION FLAG HOT WATER BOTTLE         6   \n",
      "4    536365    84029E       RED WOOLLY HOTTIE WHITE HEART.         6   \n",
      "\n",
      "           InvoiceDate  UnitPrice  CustomerID         Country  TotalPrice  \n",
      "0  2010-12-01 08:26:00       2.55     17850.0  United Kingdom       15.30  \n",
      "1  2010-12-01 08:26:00       3.39     17850.0  United Kingdom       20.34  \n",
      "2  2010-12-01 08:26:00       2.75     17850.0  United Kingdom       22.00  \n",
      "3  2010-12-01 08:26:00       3.39     17850.0  United Kingdom       20.34  \n",
      "4  2010-12-01 08:26:00       3.39     17850.0  United Kingdom       20.34  \n"
     ]
    }
   ],
   "source": [
    "import pandas as pd\n",
    "\n",
    "df = pd.read_csv('online_retail.csv')\n",
    "df['TotalPrice'] = df['Quantity'] * df['UnitPrice']\n",
    "print(df.head())"
   ]
  },
  {
   "cell_type": "code",
   "execution_count": 189,
   "metadata": {},
   "outputs": [
    {
     "name": "stdout",
     "output_type": "stream",
     "text": [
      "0    False\n",
      "1     True\n",
      "2     True\n",
      "3     True\n",
      "4     True\n",
      "5    False\n",
      "6     True\n",
      "7    False\n",
      "8    False\n",
      "9     True\n",
      "Name: HighValue, dtype: bool\n"
     ]
    }
   ],
   "source": [
    "df['HighValue'] = df['TotalPrice'] > 16\n",
    "print(df['HighValue'].head(10))"
   ]
  },
  {
   "cell_type": "code",
   "execution_count": 190,
   "metadata": {},
   "outputs": [
    {
     "name": "stdout",
     "output_type": "stream",
     "text": [
      "<class 'pandas.core.frame.DataFrame'>\n",
      "RangeIndex: 541909 entries, 0 to 541908\n",
      "Data columns (total 10 columns):\n",
      " #   Column       Non-Null Count   Dtype  \n",
      "---  ------       --------------   -----  \n",
      " 0   InvoiceNo    541909 non-null  object \n",
      " 1   StockCode    541909 non-null  object \n",
      " 2   Description  540455 non-null  object \n",
      " 3   Quantity     541909 non-null  int64  \n",
      " 4   InvoiceDate  541909 non-null  object \n",
      " 5   UnitPrice    541909 non-null  float64\n",
      " 6   CustomerID   406829 non-null  float64\n",
      " 7   Country      541909 non-null  object \n",
      " 8   TotalPrice   541909 non-null  float64\n",
      " 9   HighValue    541909 non-null  bool   \n",
      "dtypes: bool(1), float64(3), int64(1), object(5)\n",
      "memory usage: 37.7+ MB\n",
      "None\n"
     ]
    }
   ],
   "source": [
    "print(df.info())"
   ]
  },
  {
   "cell_type": "code",
   "execution_count": 191,
   "metadata": {},
   "outputs": [
    {
     "name": "stdout",
     "output_type": "stream",
     "text": [
      "<class 'pandas.core.frame.DataFrame'>\n",
      "RangeIndex: 541909 entries, 0 to 541908\n",
      "Data columns (total 10 columns):\n",
      " #   Column       Non-Null Count   Dtype         \n",
      "---  ------       --------------   -----         \n",
      " 0   InvoiceNo    541909 non-null  object        \n",
      " 1   StockCode    541909 non-null  object        \n",
      " 2   Description  540455 non-null  object        \n",
      " 3   Quantity     541909 non-null  int64         \n",
      " 4   InvoiceDate  541909 non-null  datetime64[ns]\n",
      " 5   UnitPrice    541909 non-null  float64       \n",
      " 6   CustomerID   406829 non-null  float64       \n",
      " 7   Country      541909 non-null  object        \n",
      " 8   TotalPrice   541909 non-null  float64       \n",
      " 9   HighValue    541909 non-null  bool          \n",
      "dtypes: bool(1), datetime64[ns](1), float64(3), int64(1), object(4)\n",
      "memory usage: 37.7+ MB\n",
      "None\n"
     ]
    }
   ],
   "source": [
    "df['InvoiceDate'] = pd.to_datetime(df['InvoiceDate'])\n",
    "print(df.info())"
   ]
  },
  {
   "cell_type": "code",
   "execution_count": 192,
   "metadata": {},
   "outputs": [
    {
     "name": "stdout",
     "output_type": "stream",
     "text": [
      "  InvoiceNo StockCode                          Description  Quantity  \\\n",
      "0    536365    85123A   WHITE HANGING HEART T-LIGHT HOLDER         6   \n",
      "1    536365     71053                  WHITE METAL LANTERN         6   \n",
      "2    536365    84406B       CREAM CUPID HEARTS COAT HANGER         8   \n",
      "3    536365    84029G  KNITTED UNION FLAG HOT WATER BOTTLE         6   \n",
      "4    536365    84029E       RED WOOLLY HOTTIE WHITE HEART.         6   \n",
      "\n",
      "          InvoiceDate  UnitPrice  CustomerID         Country  TotalPrice  \\\n",
      "0 2010-12-01 08:26:00       2.55     17850.0  United Kingdom       15.30   \n",
      "1 2010-12-01 08:26:00       3.39     17850.0  United Kingdom       20.34   \n",
      "2 2010-12-01 08:26:00       2.75     17850.0  United Kingdom       22.00   \n",
      "3 2010-12-01 08:26:00       3.39     17850.0  United Kingdom       20.34   \n",
      "4 2010-12-01 08:26:00       3.39     17850.0  United Kingdom       20.34   \n",
      "\n",
      "   HighValue  DiscountedPrice  \n",
      "0      False            2.295  \n",
      "1       True            3.051  \n",
      "2       True            2.475  \n",
      "3       True            3.051  \n",
      "4       True            3.051  \n"
     ]
    }
   ],
   "source": [
    "df['DiscountedPrice'] = df['UnitPrice'].apply(lambda x: x*0.9)\n",
    "print(df.head())"
   ]
  },
  {
   "cell_type": "code",
   "execution_count": 193,
   "metadata": {},
   "outputs": [
    {
     "name": "stdout",
     "output_type": "stream",
     "text": [
      "  InvoiceNo StockCode                          Description  Quantity  \\\n",
      "0    536365    85123A   WHITE HANGING HEART T-LIGHT HOLDER         6   \n",
      "1    536365     71053                  WHITE METAL LANTERN         6   \n",
      "2    536365    84406B       CREAM CUPID HEARTS COAT HANGER         8   \n",
      "3    536365    84029G  KNITTED UNION FLAG HOT WATER BOTTLE         6   \n",
      "4    536365    84029E       RED WOOLLY HOTTIE WHITE HEART.         6   \n",
      "5    536365     22752         SET 7 BABUSHKA NESTING BOXES         2   \n",
      "6    536365     21730    GLASS STAR FROSTED T-LIGHT HOLDER         6   \n",
      "7    536366     22633               HAND WARMER UNION JACK         6   \n",
      "8    536366     22632            HAND WARMER RED POLKA DOT         6   \n",
      "9    536367     84879        ASSORTED COLOUR BIRD ORNAMENT        32   \n",
      "\n",
      "          InvoiceDate  UnitPrice  CustomerID         Country  TotalPrice  \\\n",
      "0 2010-12-01 08:26:00       2.55     17850.0  United Kingdom       15.30   \n",
      "1 2010-12-01 08:26:00       3.39     17850.0  United Kingdom       20.34   \n",
      "2 2010-12-01 08:26:00       2.75     17850.0  United Kingdom       22.00   \n",
      "3 2010-12-01 08:26:00       3.39     17850.0  United Kingdom       20.34   \n",
      "4 2010-12-01 08:26:00       3.39     17850.0  United Kingdom       20.34   \n",
      "5 2010-12-01 08:26:00       7.65     17850.0  United Kingdom       15.30   \n",
      "6 2010-12-01 08:26:00       4.25     17850.0  United Kingdom       25.50   \n",
      "7 2010-12-01 08:28:00       1.85     17850.0  United Kingdom       11.10   \n",
      "8 2010-12-01 08:28:00       1.85     17850.0  United Kingdom       11.10   \n",
      "9 2010-12-01 08:34:00       1.69     13047.0  United Kingdom       54.08   \n",
      "\n",
      "   HighValue  DiscountedPrice PriceCategory  \n",
      "0      False            2.295        Medium  \n",
      "1       True            3.051        Medium  \n",
      "2       True            2.475        Medium  \n",
      "3       True            3.051        Medium  \n",
      "4       True            3.051        Medium  \n",
      "5      False            6.885        Medium  \n",
      "6       True            3.825        Medium  \n",
      "7      False            1.665        Medium  \n",
      "8      False            1.665        Medium  \n",
      "9       True            1.521        Medium  \n"
     ]
    }
   ],
   "source": [
    "def categorize_prica(price):\n",
    "    if price > 50:\n",
    "        return 'Hight'\n",
    "    elif price < 20:\n",
    "        return 'Medium'\n",
    "    else:\n",
    "        return 'Low'\n",
    "    \n",
    "df['PriceCategory'] = df['UnitPrice'].apply(categorize_prica)\n",
    "print(df.head(10))"
   ]
  },
  {
   "cell_type": "markdown",
   "metadata": {},
   "source": [
    "## Groupby"
   ]
  },
  {
   "cell_type": "code",
   "execution_count": 194,
   "metadata": {},
   "outputs": [
    {
     "name": "stdout",
     "output_type": "stream",
     "text": [
      "Country\n",
      "United Kingdom          495478\n",
      "Germany                   9495\n",
      "France                    8557\n",
      "EIRE                      8196\n",
      "Spain                     2533\n",
      "Netherlands               2371\n",
      "Belgium                   2069\n",
      "Switzerland               2002\n",
      "Portugal                  1519\n",
      "Australia                 1259\n",
      "Norway                    1086\n",
      "Italy                      803\n",
      "Channel Islands            758\n",
      "Finland                    695\n",
      "Cyprus                     622\n",
      "Sweden                     462\n",
      "Unspecified                446\n",
      "Austria                    401\n",
      "Denmark                    389\n",
      "Japan                      358\n",
      "Poland                     341\n",
      "Israel                     297\n",
      "USA                        291\n",
      "Hong Kong                  288\n",
      "Singapore                  229\n",
      "Iceland                    182\n",
      "Canada                     151\n",
      "Greece                     146\n",
      "Malta                      127\n",
      "United Arab Emirates        68\n",
      "European Community          61\n",
      "RSA                         58\n",
      "Lebanon                     45\n",
      "Lithuania                   35\n",
      "Brazil                      32\n",
      "Czech Republic              30\n",
      "Bahrain                     19\n",
      "Saudi Arabia                10\n",
      "Name: count, dtype: int64\n"
     ]
    }
   ],
   "source": [
    "country_count = df['Country'].value_counts()\n",
    "print(country_count)"
   ]
  },
  {
   "cell_type": "code",
   "execution_count": 195,
   "metadata": {},
   "outputs": [
    {
     "name": "stdout",
     "output_type": "stream",
     "text": [
      "Country\n",
      "Australia                 83653\n",
      "Austria                    4827\n",
      "Bahrain                     260\n",
      "Belgium                   23152\n",
      "Brazil                      356\n",
      "Canada                     2763\n",
      "Channel Islands            9479\n",
      "Cyprus                     6317\n",
      "Czech Republic              592\n",
      "Denmark                    8188\n",
      "EIRE                     142637\n",
      "European Community          497\n",
      "Finland                   10666\n",
      "France                   110480\n",
      "Germany                  117448\n",
      "Greece                     1556\n",
      "Hong Kong                  4769\n",
      "Iceland                    2458\n",
      "Israel                     4353\n",
      "Italy                      7999\n",
      "Japan                     25218\n",
      "Lebanon                     386\n",
      "Lithuania                   652\n",
      "Malta                       944\n",
      "Netherlands              200128\n",
      "Norway                    19247\n",
      "Poland                     3653\n",
      "Portugal                  16180\n",
      "RSA                         352\n",
      "Saudi Arabia                 75\n",
      "Singapore                  5234\n",
      "Spain                     26824\n",
      "Sweden                    35637\n",
      "Switzerland               30325\n",
      "USA                        1034\n",
      "United Arab Emirates        982\n",
      "United Kingdom          4263829\n",
      "Unspecified                3300\n",
      "Name: Quantity, dtype: int64\n"
     ]
    }
   ],
   "source": [
    "country_group = df.groupby('Country')['Quantity'].sum()\n",
    "print(country_group)"
   ]
  },
  {
   "cell_type": "code",
   "execution_count": 196,
   "metadata": {},
   "outputs": [
    {
     "name": "stdout",
     "output_type": "stream",
     "text": [
      "                            mean          sum\n",
      "Country                                      \n",
      "Australia               3.220612     4054.750\n",
      "Austria                 4.243192     1701.520\n",
      "Bahrain                 4.556316       86.570\n",
      "Belgium                 3.644335     7540.130\n",
      "Brazil                  4.456250      142.600\n",
      "Canada                  6.030331      910.580\n",
      "Channel Islands         4.932124     3738.550\n",
      "Cyprus                  6.302363     3920.070\n",
      "Czech Republic          2.938333       88.150\n",
      "Denmark                 3.256941     1266.950\n",
      "EIRE                    5.911077    48447.190\n",
      "European Community      4.820492      294.050\n",
      "Finland                 5.448705     3786.850\n",
      "France                  5.028864    43031.990\n",
      "Germany                 3.966930    37666.000\n",
      "Greece                  4.885548      713.290\n",
      "Hong Kong              42.505208    12241.500\n",
      "Iceland                 2.644011      481.210\n",
      "Israel                  3.633131     1079.040\n",
      "Italy                   4.831121     3879.390\n",
      "Japan                   2.276145      814.860\n",
      "Lebanon                 5.387556      242.440\n",
      "Lithuania               2.841143       99.440\n",
      "Malta                   5.244173      666.010\n",
      "Netherlands             2.738317     6492.550\n",
      "Norway                  6.012026     6529.060\n",
      "Poland                  4.170880     1422.270\n",
      "Portugal                8.582976    13037.540\n",
      "RSA                     4.277586      248.100\n",
      "Saudi Arabia            2.411000       24.110\n",
      "Singapore             109.645808    25108.890\n",
      "Spain                   4.987544    12633.450\n",
      "Sweden                  3.910887     1806.830\n",
      "Switzerland             3.403442     6813.690\n",
      "USA                     2.216426      644.980\n",
      "United Arab Emirates    3.380735      229.890\n",
      "United Kingdom          4.532422  2245715.474\n",
      "Unspecified             2.699574     1204.010\n"
     ]
    }
   ],
   "source": [
    "country_stats = df.groupby('Country')['UnitPrice'].agg(['mean', 'sum'])\n",
    "print(country_stats)"
   ]
  },
  {
   "cell_type": "code",
   "execution_count": 197,
   "metadata": {},
   "outputs": [
    {
     "name": "stdout",
     "output_type": "stream",
     "text": [
      "Country      StockCode\n",
      "Australia    15036        600\n",
      "             15056BL        3\n",
      "             16161P       400\n",
      "             16169E        25\n",
      "             20665          6\n",
      "                         ... \n",
      "Unspecified  85180A         2\n",
      "             85180B         1\n",
      "             85212         12\n",
      "             85213         12\n",
      "             85227         10\n",
      "Name: Quantity, Length: 19839, dtype: int64\n"
     ]
    }
   ],
   "source": [
    "country_stock_group = df.groupby(['Country', 'StockCode'])['Quantity'].sum()\n",
    "print(country_stock_group)"
   ]
  },
  {
   "cell_type": "code",
   "execution_count": 198,
   "metadata": {},
   "outputs": [
    {
     "name": "stdout",
     "output_type": "stream",
     "text": [
      "Country\n",
      "Australia    137077.27\n",
      "Austria       10154.32\n",
      "Bahrain         548.40\n",
      "dtype: float64\n"
     ]
    },
    {
     "name": "stderr",
     "output_type": "stream",
     "text": [
      "C:\\Users\\celio\\AppData\\Local\\Temp\\ipykernel_9384\\549349692.py:4: DeprecationWarning: DataFrameGroupBy.apply operated on the grouping columns. This behavior is deprecated, and in a future version of pandas the grouping columns will be excluded from the operation. Either pass `include_groups=False` to exclude the groupings or explicitly select the grouping columns after groupby to silence this warning.\n",
      "  revenue_per_country = df.groupby('Country').apply(total_revenue)\n"
     ]
    }
   ],
   "source": [
    "def total_revenue(group):\n",
    "    return (group['Quantity'] * group['UnitPrice']).sum()\n",
    "\n",
    "revenue_per_country = df.groupby('Country').apply(total_revenue)\n",
    "print(revenue_per_country.head(3))"
   ]
  },
  {
   "cell_type": "code",
   "execution_count": 199,
   "metadata": {},
   "outputs": [
    {
     "name": "stdout",
     "output_type": "stream",
     "text": [
      "Los 3 países con mayores ventas: primeros en el ranking:\n",
      " Country\n",
      "United Kingdom    8187806.364\n",
      "Netherlands        284661.540\n",
      "EIRE               263276.820\n",
      "dtype: float64\n",
      "Los 3 países con menores ventas: últimos en el ranking:\n",
      " Country\n",
      "Czech Republic    707.72\n",
      "Bahrain           548.40\n",
      "Saudi Arabia      131.17\n",
      "dtype: float64\n"
     ]
    }
   ],
   "source": [
    "country_rank = revenue_per_country.sort_values(ascending=False)\n",
    "\n",
    "\n",
    "top3_best = country_rank.iloc[:3]\n",
    "print(\"Los 3 países con mayores ventas: primeros en el ranking:\\n\", top3_best)\n",
    "\n",
    "\n",
    "top3_worst = country_rank.iloc[-3:]\n",
    "print(\"Los 3 países con menores ventas: últimos en el ranking:\\n\", top3_worst)\n",
    "\n",
    "\n"
   ]
  },
  {
   "cell_type": "markdown",
   "metadata": {},
   "source": [
    "## Filtrado de Datos con Condiciones en Pandas"
   ]
  },
  {
   "cell_type": "code",
   "execution_count": 200,
   "metadata": {},
   "outputs": [
    {
     "name": "stdout",
     "output_type": "stream",
     "text": [
      "<bound method NDFrame.head of        InvoiceNo StockCode                          Description  Quantity  \\\n",
      "0         536365    85123A   WHITE HANGING HEART T-LIGHT HOLDER         6   \n",
      "1         536365     71053                  WHITE METAL LANTERN         6   \n",
      "2         536365    84406B       CREAM CUPID HEARTS COAT HANGER         8   \n",
      "3         536365    84029G  KNITTED UNION FLAG HOT WATER BOTTLE         6   \n",
      "4         536365    84029E       RED WOOLLY HOTTIE WHITE HEART.         6   \n",
      "...          ...       ...                                  ...       ...   \n",
      "541904    581587     22613          PACK OF 20 SPACEBOY NAPKINS        12   \n",
      "541905    581587     22899         CHILDREN'S APRON DOLLY GIRL          6   \n",
      "541906    581587     23254        CHILDRENS CUTLERY DOLLY GIRL          4   \n",
      "541907    581587     23255      CHILDRENS CUTLERY CIRCUS PARADE         4   \n",
      "541908    581587     22138        BAKING SET 9 PIECE RETROSPOT          3   \n",
      "\n",
      "               InvoiceDate  UnitPrice  CustomerID         Country  TotalPrice  \n",
      "0      2010-12-01 08:26:00       2.55     17850.0  United Kingdom       15.30  \n",
      "1      2010-12-01 08:26:00       3.39     17850.0  United Kingdom       20.34  \n",
      "2      2010-12-01 08:26:00       2.75     17850.0  United Kingdom       22.00  \n",
      "3      2010-12-01 08:26:00       3.39     17850.0  United Kingdom       20.34  \n",
      "4      2010-12-01 08:26:00       3.39     17850.0  United Kingdom       20.34  \n",
      "...                    ...        ...         ...             ...         ...  \n",
      "541904 2011-12-09 12:50:00       0.85     12680.0          France       10.20  \n",
      "541905 2011-12-09 12:50:00       2.10     12680.0          France       12.60  \n",
      "541906 2011-12-09 12:50:00       4.15     12680.0          France       16.60  \n",
      "541907 2011-12-09 12:50:00       4.15     12680.0          France       16.60  \n",
      "541908 2011-12-09 12:50:00       4.95     12680.0          France       14.85  \n",
      "\n",
      "[406829 rows x 9 columns]>\n"
     ]
    }
   ],
   "source": [
    "# Leer el dataset de la ventas desde un archivo CSV\n",
    "file_path = \"online_retail.csv\"\n",
    "sales_data = pd.read_csv(file_path)\n",
    "\n",
    "# Convertir la columna 'InvoiceDate' a tipo datatime\n",
    "sales_data['InvoiceDate'] = pd.to_datetime(sales_data['InvoiceDate'])\n",
    "\n",
    "# Eliminar filas con valores faltantes en las columnas críticas\n",
    "sales_data.dropna(subset=['CustomerID', 'InvoiceDate'], inplace=True)\n",
    "\n",
    "# Crear una nueva columna 'TotalPrice'\n",
    "sales_data['TotalPrice'] = sales_data['Quantity'] * sales_data['UnitPrice']\n",
    "\n",
    "print(sales_data.head)"
   ]
  },
  {
   "cell_type": "code",
   "execution_count": 201,
   "metadata": {},
   "outputs": [
    {
     "name": "stdout",
     "output_type": "stream",
     "text": [
      "       InvoiceNo StockCode                          Description  Quantity  \\\n",
      "0         536365    85123A   WHITE HANGING HEART T-LIGHT HOLDER         6   \n",
      "1         536365     71053                  WHITE METAL LANTERN         6   \n",
      "2         536365    84406B       CREAM CUPID HEARTS COAT HANGER         8   \n",
      "3         536365    84029G  KNITTED UNION FLAG HOT WATER BOTTLE         6   \n",
      "4         536365    84029E       RED WOOLLY HOTTIE WHITE HEART.         6   \n",
      "...          ...       ...                                  ...       ...   \n",
      "541889    581585     22466       FAIRY TALE COTTAGE NIGHT LIGHT        12   \n",
      "541890    581586     22061  LARGE CAKE STAND  HANGING STRAWBERY         8   \n",
      "541891    581586     23275     SET OF 3 HANGING OWLS OLLIE BEAK        24   \n",
      "541892    581586     21217        RED RETROSPOT ROUND CAKE TINS        24   \n",
      "541893    581586     20685                DOORMAT RED RETROSPOT        10   \n",
      "\n",
      "               InvoiceDate  UnitPrice  CustomerID         Country  TotalPrice  \n",
      "0      2010-12-01 08:26:00       2.55     17850.0  United Kingdom       15.30  \n",
      "1      2010-12-01 08:26:00       3.39     17850.0  United Kingdom       20.34  \n",
      "2      2010-12-01 08:26:00       2.75     17850.0  United Kingdom       22.00  \n",
      "3      2010-12-01 08:26:00       3.39     17850.0  United Kingdom       20.34  \n",
      "4      2010-12-01 08:26:00       3.39     17850.0  United Kingdom       20.34  \n",
      "...                    ...        ...         ...             ...         ...  \n",
      "541889 2011-12-09 12:31:00       1.95     15804.0  United Kingdom       23.40  \n",
      "541890 2011-12-09 12:49:00       2.95     13113.0  United Kingdom       23.60  \n",
      "541891 2011-12-09 12:49:00       1.25     13113.0  United Kingdom       30.00  \n",
      "541892 2011-12-09 12:49:00       8.95     13113.0  United Kingdom      214.80  \n",
      "541893 2011-12-09 12:49:00       7.08     13113.0  United Kingdom       70.80  \n",
      "\n",
      "[361878 rows x 9 columns]\n"
     ]
    }
   ],
   "source": [
    "# Filtrar ventas en el Reino Unido - UK\n",
    "uk_sales = sales_data[sales_data['Country'] == 'United Kingdom']\n",
    "print(uk_sales)"
   ]
  },
  {
   "cell_type": "code",
   "execution_count": 202,
   "metadata": {},
   "outputs": [
    {
     "name": "stdout",
     "output_type": "stream",
     "text": [
      "       InvoiceNo StockCode                         Description  Quantity  \\\n",
      "31        536370     10002         INFLATABLE POLITICAL GLOBE         48   \n",
      "46        536371     22086     PAPER CHAIN KIT 50'S CHRISTMAS         80   \n",
      "82        536376     22114   HOT WATER BOTTLE TEA AND SYMPATHY        48   \n",
      "83        536376     21733    RED HANGING HEART T-LIGHT HOLDER        64   \n",
      "96        536378     21212     PACK OF 72 RETROSPOT CAKE CASES       120   \n",
      "...          ...       ...                                 ...       ...   \n",
      "541746    581571     23167      SMALL CERAMIC TOP STORAGE JAR         96   \n",
      "541747    581571     21314       SMALL GLASS HEART TRINKET POT        48   \n",
      "541751    581572     23328  SET 6 SCHOOL MILK BOTTLES IN CRATE        48   \n",
      "541867    581584     20832    RED FLOCK LOVE HEART PHOTO FRAME        72   \n",
      "541868    581584     85038     6 CHOCOLATE LOVE HEART T-LIGHTS        48   \n",
      "\n",
      "               InvoiceDate  UnitPrice  CustomerID         Country  TotalPrice  \n",
      "31     2010-12-01 08:45:00       0.85     12583.0          France       40.80  \n",
      "46     2010-12-01 09:00:00       2.55     13748.0  United Kingdom      204.00  \n",
      "82     2010-12-01 09:32:00       3.45     15291.0  United Kingdom      165.60  \n",
      "83     2010-12-01 09:32:00       2.55     15291.0  United Kingdom      163.20  \n",
      "96     2010-12-01 09:37:00       0.42     14688.0  United Kingdom       50.40  \n",
      "...                    ...        ...         ...             ...         ...  \n",
      "541746 2011-12-09 12:00:00       0.69     15311.0  United Kingdom       66.24  \n",
      "541747 2011-12-09 12:00:00       1.85     15311.0  United Kingdom       88.80  \n",
      "541751 2011-12-09 12:08:00       3.39     16705.0  United Kingdom      162.72  \n",
      "541867 2011-12-09 12:25:00       0.72     13777.0  United Kingdom       51.84  \n",
      "541868 2011-12-09 12:25:00       1.85     13777.0  United Kingdom       88.80  \n",
      "\n",
      "[18591 rows x 9 columns]\n"
     ]
    }
   ],
   "source": [
    "high_quantity_sales = sales_data[sales_data['Quantity'] > 40]\n",
    "print(high_quantity_sales)"
   ]
  },
  {
   "cell_type": "code",
   "execution_count": 203,
   "metadata": {},
   "outputs": [
    {
     "name": "stdout",
     "output_type": "stream",
     "text": [
      "       InvoiceNo StockCode                        Description  Quantity  \\\n",
      "9         536367     84879      ASSORTED COLOUR BIRD ORNAMENT        32   \n",
      "46        536371     22086    PAPER CHAIN KIT 50'S CHRISTMAS         80   \n",
      "65        536374     21258         VICTORIAN SEWING BOX LARGE        32   \n",
      "82        536376     22114  HOT WATER BOTTLE TEA AND SYMPATHY        48   \n",
      "83        536376     21733   RED HANGING HEART T-LIGHT HOLDER        64   \n",
      "...          ...       ...                                ...       ...   \n",
      "541886    581585     22398         MAGNETS PACK OF 4 SWALLOWS        12   \n",
      "541888    581585     23145     ZINC T-LIGHT HOLDER STAR LARGE        12   \n",
      "541889    581585     22466     FAIRY TALE COTTAGE NIGHT LIGHT        12   \n",
      "541891    581586     23275   SET OF 3 HANGING OWLS OLLIE BEAK        24   \n",
      "541892    581586     21217      RED RETROSPOT ROUND CAKE TINS        24   \n",
      "\n",
      "               InvoiceDate  UnitPrice  CustomerID         Country  TotalPrice  \n",
      "9      2010-12-01 08:34:00       1.69     13047.0  United Kingdom       54.08  \n",
      "46     2010-12-01 09:00:00       2.55     13748.0  United Kingdom      204.00  \n",
      "65     2010-12-01 09:09:00      10.95     15100.0  United Kingdom      350.40  \n",
      "82     2010-12-01 09:32:00       3.45     15291.0  United Kingdom      165.60  \n",
      "83     2010-12-01 09:32:00       2.55     15291.0  United Kingdom      163.20  \n",
      "...                    ...        ...         ...             ...         ...  \n",
      "541886 2011-12-09 12:31:00       0.39     15804.0  United Kingdom        4.68  \n",
      "541888 2011-12-09 12:31:00       0.95     15804.0  United Kingdom       11.40  \n",
      "541889 2011-12-09 12:31:00       1.95     15804.0  United Kingdom       23.40  \n",
      "541891 2011-12-09 12:49:00       1.25     13113.0  United Kingdom       30.00  \n",
      "541892 2011-12-09 12:49:00       8.95     13113.0  United Kingdom      214.80  \n",
      "\n",
      "[104109 rows x 9 columns]\n"
     ]
    }
   ],
   "source": [
    "uk_high_quantity_sales = sales_data[(sales_data['Country'] == 'United Kingdom') & (sales_data['Quantity'] > 10)]\n",
    "\n",
    "print(uk_high_quantity_sales)"
   ]
  },
  {
   "cell_type": "code",
   "execution_count": 204,
   "metadata": {},
   "outputs": [
    {
     "name": "stdout",
     "output_type": "stream",
     "text": [
      "       InvoiceNo StockCode                      Description  Quantity  \\\n",
      "42481     539993     22386          JUMBO BAG PINK POLKADOT        10   \n",
      "42482     539993     21499               BLUE POLKADOT WRAP        25   \n",
      "42483     539993     21498              RED RETROSPOT WRAP         25   \n",
      "42484     539993     22379         RECYCLING BAG RETROSPOT          5   \n",
      "42485     539993     20718        RED RETROSPOT SHOPPER BAG        10   \n",
      "...          ...       ...                              ...       ...   \n",
      "541904    581587     22613      PACK OF 20 SPACEBOY NAPKINS        12   \n",
      "541905    581587     22899     CHILDREN'S APRON DOLLY GIRL          6   \n",
      "541906    581587     23254    CHILDRENS CUTLERY DOLLY GIRL          4   \n",
      "541907    581587     23255  CHILDRENS CUTLERY CIRCUS PARADE         4   \n",
      "541908    581587     22138    BAKING SET 9 PIECE RETROSPOT          3   \n",
      "\n",
      "               InvoiceDate  UnitPrice  CustomerID         Country  TotalPrice  \n",
      "42481  2011-01-04 10:00:00       1.95     13313.0  United Kingdom       19.50  \n",
      "42482  2011-01-04 10:00:00       0.42     13313.0  United Kingdom       10.50  \n",
      "42483  2011-01-04 10:00:00       0.42     13313.0  United Kingdom       10.50  \n",
      "42484  2011-01-04 10:00:00       2.10     13313.0  United Kingdom       10.50  \n",
      "42485  2011-01-04 10:00:00       1.25     13313.0  United Kingdom       12.50  \n",
      "...                    ...        ...         ...             ...         ...  \n",
      "541904 2011-12-09 12:50:00       0.85     12680.0          France       10.20  \n",
      "541905 2011-12-09 12:50:00       2.10     12680.0          France       12.60  \n",
      "541906 2011-12-09 12:50:00       4.15     12680.0          France       16.60  \n",
      "541907 2011-12-09 12:50:00       4.15     12680.0          France       16.60  \n",
      "541908 2011-12-09 12:50:00       4.95     12680.0          France       14.85  \n",
      "\n",
      "[379979 rows x 9 columns]\n"
     ]
    }
   ],
   "source": [
    "sales_2011 = sales_data[sales_data['InvoiceDate'].dt.year == 2011]\n",
    "print(sales_2011)"
   ]
  },
  {
   "cell_type": "code",
   "execution_count": 205,
   "metadata": {},
   "outputs": [
    {
     "name": "stdout",
     "output_type": "stream",
     "text": [
      "      InvoiceNo StockCode                          Description  Quantity  \\\n",
      "0        536365    85123A   WHITE HANGING HEART T-LIGHT HOLDER         6   \n",
      "1        536365     71053                  WHITE METAL LANTERN         6   \n",
      "2        536365    84406B       CREAM CUPID HEARTS COAT HANGER         8   \n",
      "3        536365    84029G  KNITTED UNION FLAG HOT WATER BOTTLE         6   \n",
      "4        536365    84029E       RED WOOLLY HOTTIE WHITE HEART.         6   \n",
      "...         ...       ...                                  ...       ...   \n",
      "42448    539988     84380    SET OF 3 BUTTERFLY COOKIE CUTTERS         1   \n",
      "42449    539988    84849D                HOT BATHS SOAP HOLDER         1   \n",
      "42450    539988    84849B               FAIRY SOAP SOAP HOLDER         1   \n",
      "42451    539988     22854          CREAM SWEETHEART EGG HOLDER         2   \n",
      "42452    539988    47559B                  TEA TIME OVEN GLOVE         2   \n",
      "\n",
      "              InvoiceDate  UnitPrice  CustomerID         Country  TotalPrice  \n",
      "0     2010-12-01 08:26:00       2.55     17850.0  United Kingdom       15.30  \n",
      "1     2010-12-01 08:26:00       3.39     17850.0  United Kingdom       20.34  \n",
      "2     2010-12-01 08:26:00       2.75     17850.0  United Kingdom       22.00  \n",
      "3     2010-12-01 08:26:00       3.39     17850.0  United Kingdom       20.34  \n",
      "4     2010-12-01 08:26:00       3.39     17850.0  United Kingdom       20.34  \n",
      "...                   ...        ...         ...             ...         ...  \n",
      "42448 2010-12-23 16:06:00       1.25     18116.0  United Kingdom        1.25  \n",
      "42449 2010-12-23 16:06:00       1.69     18116.0  United Kingdom        1.69  \n",
      "42450 2010-12-23 16:06:00       1.69     18116.0  United Kingdom        1.69  \n",
      "42451 2010-12-23 16:06:00       4.95     18116.0  United Kingdom        9.90  \n",
      "42452 2010-12-23 16:06:00       1.25     18116.0  United Kingdom        2.50  \n",
      "\n",
      "[26850 rows x 9 columns]\n"
     ]
    }
   ],
   "source": [
    "sales_2010 = sales_data[sales_data['InvoiceDate'].dt.year == 2010]\n",
    "print(sales_2010)"
   ]
  },
  {
   "cell_type": "code",
   "execution_count": 206,
   "metadata": {},
   "outputs": [
    {
     "name": "stdout",
     "output_type": "stream",
     "text": [
      "      InvoiceNo StockCode                          Description  Quantity  \\\n",
      "0        536365    85123A   WHITE HANGING HEART T-LIGHT HOLDER         6   \n",
      "1        536365     71053                  WHITE METAL LANTERN         6   \n",
      "2        536365    84406B       CREAM CUPID HEARTS COAT HANGER         8   \n",
      "3        536365    84029G  KNITTED UNION FLAG HOT WATER BOTTLE         6   \n",
      "4        536365    84029E       RED WOOLLY HOTTIE WHITE HEART.         6   \n",
      "...         ...       ...                                  ...       ...   \n",
      "42448    539988     84380    SET OF 3 BUTTERFLY COOKIE CUTTERS         1   \n",
      "42449    539988    84849D                HOT BATHS SOAP HOLDER         1   \n",
      "42450    539988    84849B               FAIRY SOAP SOAP HOLDER         1   \n",
      "42451    539988     22854          CREAM SWEETHEART EGG HOLDER         2   \n",
      "42452    539988    47559B                  TEA TIME OVEN GLOVE         2   \n",
      "\n",
      "              InvoiceDate  UnitPrice  CustomerID         Country  TotalPrice  \n",
      "0     2010-12-01 08:26:00       2.55     17850.0  United Kingdom       15.30  \n",
      "1     2010-12-01 08:26:00       3.39     17850.0  United Kingdom       20.34  \n",
      "2     2010-12-01 08:26:00       2.75     17850.0  United Kingdom       22.00  \n",
      "3     2010-12-01 08:26:00       3.39     17850.0  United Kingdom       20.34  \n",
      "4     2010-12-01 08:26:00       3.39     17850.0  United Kingdom       20.34  \n",
      "...                   ...        ...         ...             ...         ...  \n",
      "42448 2010-12-23 16:06:00       1.25     18116.0  United Kingdom        1.25  \n",
      "42449 2010-12-23 16:06:00       1.69     18116.0  United Kingdom        1.69  \n",
      "42450 2010-12-23 16:06:00       1.69     18116.0  United Kingdom        1.69  \n",
      "42451 2010-12-23 16:06:00       4.95     18116.0  United Kingdom        9.90  \n",
      "42452 2010-12-23 16:06:00       1.25     18116.0  United Kingdom        2.50  \n",
      "\n",
      "[26850 rows x 9 columns]\n"
     ]
    }
   ],
   "source": [
    "sales_dec_2010 = sales_data[(sales_data['InvoiceDate'].dt.year == 2010) & (sales_data['InvoiceDate'].dt.month == 12)]\n",
    "print(sales_dec_2010)"
   ]
  },
  {
   "cell_type": "markdown",
   "metadata": {},
   "source": [
    "## Pivot Table y Reshape"
   ]
  },
  {
   "cell_type": "code",
   "execution_count": 207,
   "metadata": {},
   "outputs": [
    {
     "name": "stdout",
     "output_type": "stream",
     "text": [
      "StockCode             10002  10080  10120  10123C  10124A  10124G  10125  \\\n",
      "Country                                                                    \n",
      "Australia               NaN    NaN    NaN     NaN     NaN     NaN    NaN   \n",
      "Austria                 NaN    NaN    NaN     NaN     NaN     NaN    NaN   \n",
      "Bahrain                 NaN    NaN    NaN     NaN     NaN     NaN    NaN   \n",
      "Belgium                 NaN    NaN    NaN     NaN     NaN     NaN    NaN   \n",
      "Brazil                  NaN    NaN    NaN     NaN     NaN     NaN    NaN   \n",
      "Canada                  NaN    NaN    NaN     NaN     NaN     NaN    NaN   \n",
      "Channel Islands         NaN    NaN    NaN     NaN     NaN     NaN    NaN   \n",
      "Cyprus                  NaN    NaN    NaN     NaN     NaN     NaN    NaN   \n",
      "Czech Republic          NaN    NaN    NaN     NaN     NaN     NaN    NaN   \n",
      "Denmark                 NaN    NaN    NaN     NaN     NaN     NaN    NaN   \n",
      "EIRE                   12.0    NaN    NaN     NaN     NaN     NaN    NaN   \n",
      "European Community      NaN    NaN    NaN     NaN     NaN     NaN    NaN   \n",
      "Finland                 NaN    NaN    NaN     NaN     NaN     NaN    NaN   \n",
      "France                372.0    NaN   10.0     NaN     NaN     NaN  470.0   \n",
      "Germany                 1.0    NaN    NaN     NaN     NaN     NaN  120.0   \n",
      "Greece                  NaN    NaN    NaN     NaN     NaN     NaN    NaN   \n",
      "Iceland                 NaN    NaN    NaN     NaN     NaN     NaN    NaN   \n",
      "Israel                  NaN    NaN    NaN     NaN     NaN     NaN    NaN   \n",
      "Italy                   NaN    NaN    NaN     NaN     NaN     NaN    NaN   \n",
      "Japan                   1.0    NaN    NaN     NaN     NaN     NaN    NaN   \n",
      "Lebanon                 NaN    NaN    NaN     NaN     NaN     NaN    NaN   \n",
      "Lithuania               NaN    NaN    NaN     NaN     NaN     NaN    NaN   \n",
      "Malta                   NaN    NaN    NaN     NaN     NaN     NaN    NaN   \n",
      "Netherlands             NaN    NaN    NaN     NaN     NaN     NaN    NaN   \n",
      "Norway                  NaN    NaN    NaN     NaN     NaN     NaN    NaN   \n",
      "Poland                  NaN    NaN    NaN     NaN     NaN     NaN    NaN   \n",
      "Portugal                NaN    NaN    NaN     NaN     NaN     NaN    NaN   \n",
      "RSA                     NaN    NaN    NaN     NaN     NaN     NaN    NaN   \n",
      "Saudi Arabia            NaN    NaN    NaN     NaN     NaN     NaN    NaN   \n",
      "Singapore               NaN    NaN    NaN     NaN     NaN     NaN    NaN   \n",
      "Spain                  24.0    NaN    NaN     NaN     NaN     NaN    NaN   \n",
      "Sweden                  NaN    NaN    NaN     NaN     NaN     NaN    NaN   \n",
      "Switzerland            12.0    NaN    NaN     NaN     NaN     NaN   20.0   \n",
      "USA                     NaN    NaN    NaN     NaN     NaN     NaN    NaN   \n",
      "United Arab Emirates    NaN    NaN    NaN     NaN     NaN     NaN    NaN   \n",
      "United Kingdom        401.0  291.0  183.0     5.0    16.0    17.0  616.0   \n",
      "Unspecified             NaN    NaN    NaN     NaN     NaN     NaN    NaN   \n",
      "\n",
      "StockCode              10133   10135  11001  ...  90214Y  90214Z  \\\n",
      "Country                                      ...                   \n",
      "Australia                NaN     NaN    NaN  ...     NaN     NaN   \n",
      "Austria                  NaN     NaN    NaN  ...     NaN     NaN   \n",
      "Bahrain                  NaN     NaN    NaN  ...     NaN     NaN   \n",
      "Belgium                  NaN     NaN    NaN  ...     NaN     NaN   \n",
      "Brazil                   NaN     NaN    NaN  ...     NaN     NaN   \n",
      "Canada                  40.0    20.0    NaN  ...     NaN     NaN   \n",
      "Channel Islands          NaN     NaN    NaN  ...     NaN     NaN   \n",
      "Cyprus                   NaN     NaN    NaN  ...     NaN     NaN   \n",
      "Czech Republic           NaN     NaN    NaN  ...     NaN     NaN   \n",
      "Denmark                  NaN     NaN    NaN  ...     NaN     NaN   \n",
      "EIRE                    40.0    60.0   48.0  ...     NaN     NaN   \n",
      "European Community       NaN     NaN    NaN  ...     NaN     NaN   \n",
      "Finland                  NaN     NaN    NaN  ...     NaN     NaN   \n",
      "France                   NaN    10.0   16.0  ...     NaN     NaN   \n",
      "Germany                  NaN   200.0   32.0  ...     NaN     NaN   \n",
      "Greece                   NaN     NaN    NaN  ...     NaN     NaN   \n",
      "Iceland                  NaN     NaN    NaN  ...     NaN     NaN   \n",
      "Israel                  20.0     NaN    NaN  ...     NaN     NaN   \n",
      "Italy                    NaN     NaN    NaN  ...     NaN     NaN   \n",
      "Japan                    NaN     NaN    NaN  ...     NaN     NaN   \n",
      "Lebanon                  NaN     NaN    NaN  ...     NaN     NaN   \n",
      "Lithuania                NaN     NaN    NaN  ...     NaN     NaN   \n",
      "Malta                    NaN     NaN    NaN  ...     NaN     NaN   \n",
      "Netherlands              NaN     NaN    NaN  ...     NaN     NaN   \n",
      "Norway                   NaN    10.0   16.0  ...     NaN     NaN   \n",
      "Poland                   NaN     NaN    NaN  ...     NaN     NaN   \n",
      "Portugal                20.0     NaN   16.0  ...     NaN     NaN   \n",
      "RSA                      NaN     NaN    NaN  ...     NaN     NaN   \n",
      "Saudi Arabia             NaN     NaN    NaN  ...     NaN     NaN   \n",
      "Singapore                NaN     NaN    NaN  ...     NaN     NaN   \n",
      "Spain                    NaN     NaN   16.0  ...     NaN     NaN   \n",
      "Sweden                   NaN     NaN    NaN  ...     NaN     NaN   \n",
      "Switzerland             10.0     NaN    NaN  ...     NaN     NaN   \n",
      "USA                      NaN     NaN    NaN  ...     NaN     NaN   \n",
      "United Arab Emirates     NaN     NaN    NaN  ...     NaN     NaN   \n",
      "United Kingdom        2244.0  1637.0  923.0  ...    61.0    12.0   \n",
      "Unspecified              NaN     NaN    NaN  ...     NaN     NaN   \n",
      "\n",
      "StockCode             BANK CHARGES    C2  CRUK       D   DOT       M  PADS  \\\n",
      "Country                                                                      \n",
      "Australia                      NaN   NaN   NaN     NaN   NaN     NaN   NaN   \n",
      "Austria                        NaN   NaN   NaN     NaN   NaN     NaN   NaN   \n",
      "Bahrain                        NaN   NaN   NaN     NaN   NaN     NaN   NaN   \n",
      "Belgium                        NaN   NaN   NaN     NaN   NaN     NaN   NaN   \n",
      "Brazil                         NaN   NaN   NaN     NaN   NaN     NaN   NaN   \n",
      "Canada                         NaN   NaN   NaN     NaN   NaN     NaN   NaN   \n",
      "Channel Islands                NaN   3.0   NaN     NaN   NaN     0.0   NaN   \n",
      "Cyprus                         NaN   NaN   NaN     NaN   NaN     0.0   NaN   \n",
      "Czech Republic                 NaN   NaN   NaN     NaN   NaN     NaN   NaN   \n",
      "Denmark                        NaN   NaN   NaN     NaN   NaN     NaN   NaN   \n",
      "EIRE                           NaN  97.0   NaN    -1.0   NaN    -1.0   NaN   \n",
      "European Community             NaN   NaN   NaN     NaN   NaN     NaN   NaN   \n",
      "Finland                        NaN   NaN   NaN     NaN   NaN     2.0   NaN   \n",
      "France                         NaN   3.0   NaN     NaN   NaN   -16.0   NaN   \n",
      "Germany                        NaN   NaN   NaN     NaN   NaN     2.0   NaN   \n",
      "Greece                         NaN   NaN   NaN     NaN   NaN     NaN   NaN   \n",
      "Iceland                        NaN   NaN   NaN     NaN   NaN     NaN   NaN   \n",
      "Israel                         NaN   NaN   NaN     NaN   NaN     NaN   NaN   \n",
      "Italy                          NaN   NaN   NaN    -1.0   NaN    -1.0   NaN   \n",
      "Japan                          NaN   NaN   NaN     NaN   NaN    -3.0   NaN   \n",
      "Lebanon                        NaN   NaN   NaN     NaN   NaN     NaN   NaN   \n",
      "Lithuania                      NaN   NaN   NaN     NaN   NaN     NaN   NaN   \n",
      "Malta                          NaN   NaN   NaN     NaN   NaN     NaN   NaN   \n",
      "Netherlands                    NaN   NaN   NaN    -1.0   NaN  -480.0   NaN   \n",
      "Norway                         NaN   NaN   NaN     NaN   NaN     0.0   NaN   \n",
      "Poland                         NaN   NaN   NaN     NaN   NaN     NaN   NaN   \n",
      "Portugal                       NaN   NaN   NaN     NaN   NaN     1.0   NaN   \n",
      "RSA                            NaN   NaN   NaN     NaN   NaN     1.0   NaN   \n",
      "Saudi Arabia                   NaN   NaN   NaN     NaN   NaN     NaN   NaN   \n",
      "Singapore                      NaN   NaN   NaN     NaN   NaN     0.0   NaN   \n",
      "Spain                          NaN   NaN   NaN     NaN   NaN    -3.0   NaN   \n",
      "Sweden                         NaN   NaN   NaN     NaN   NaN     1.0   NaN   \n",
      "Switzerland                    NaN   NaN   NaN     NaN   NaN     NaN   NaN   \n",
      "USA                            NaN   NaN   NaN     NaN   NaN     NaN   NaN   \n",
      "United Arab Emirates           NaN   NaN   NaN     NaN   NaN     NaN   NaN   \n",
      "United Kingdom                12.0  30.0 -16.0 -1191.0  16.0  3681.0   4.0   \n",
      "Unspecified                    NaN   NaN   NaN     NaN   NaN     NaN   NaN   \n",
      "\n",
      "StockCode               POST  \n",
      "Country                       \n",
      "Australia                0.0  \n",
      "Austria                 37.0  \n",
      "Bahrain                  NaN  \n",
      "Belgium                272.0  \n",
      "Brazil                   NaN  \n",
      "Canada                   1.0  \n",
      "Channel Islands          NaN  \n",
      "Cyprus                   1.0  \n",
      "Czech Republic           0.0  \n",
      "Denmark                 41.0  \n",
      "EIRE                     NaN  \n",
      "European Community       9.0  \n",
      "Finland                 89.0  \n",
      "France                 803.0  \n",
      "Germany               1104.0  \n",
      "Greece                   6.0  \n",
      "Iceland                  NaN  \n",
      "Israel                   NaN  \n",
      "Italy                   44.0  \n",
      "Japan                    NaN  \n",
      "Lebanon                  NaN  \n",
      "Lithuania                NaN  \n",
      "Malta                   10.0  \n",
      "Netherlands             99.0  \n",
      "Norway                  57.0  \n",
      "Poland                   9.0  \n",
      "Portugal                97.0  \n",
      "RSA                      NaN  \n",
      "Saudi Arabia             NaN  \n",
      "Singapore                NaN  \n",
      "Spain                  209.0  \n",
      "Sweden                  37.0  \n",
      "Switzerland             97.0  \n",
      "USA                      NaN  \n",
      "United Arab Emirates     1.0  \n",
      "United Kingdom         -21.0  \n",
      "Unspecified              NaN  \n",
      "\n",
      "[37 rows x 3684 columns]\n"
     ]
    }
   ],
   "source": [
    "pivot_table = pd.pivot_table(sales_data, values = 'Quantity', index='Country', columns='StockCode', aggfunc='sum')\n",
    "print(pivot_table)"
   ]
  },
  {
   "cell_type": "code",
   "execution_count": 208,
   "metadata": {},
   "outputs": [
    {
     "name": "stdout",
     "output_type": "stream",
     "text": [
      "     A  B  C\n",
      "0  foo  1  4\n",
      "1  bar  2  5\n",
      "2  baz  3  6\n"
     ]
    }
   ],
   "source": [
    "df = pd.DataFrame({\n",
    "    'A': ['foo', 'bar', 'baz'],\n",
    "    'B': [1, 2, 3],\n",
    "    'C': [4, 5, 6]\n",
    "})\n",
    "print(df)"
   ]
  },
  {
   "cell_type": "code",
   "execution_count": 209,
   "metadata": {},
   "outputs": [
    {
     "name": "stdout",
     "output_type": "stream",
     "text": [
      "0  A    foo\n",
      "   B      1\n",
      "   C      4\n",
      "1  A    bar\n",
      "   B      2\n",
      "   C      5\n",
      "2  A    baz\n",
      "   B      3\n",
      "   C      6\n",
      "dtype: object\n"
     ]
    }
   ],
   "source": [
    "df_stacked = df.stack()\n",
    "print(df_stacked)"
   ]
  },
  {
   "cell_type": "code",
   "execution_count": 210,
   "metadata": {},
   "outputs": [
    {
     "name": "stdout",
     "output_type": "stream",
     "text": [
      "     A  B  C\n",
      "0  foo  1  4\n",
      "1  bar  2  5\n",
      "2  baz  3  6\n"
     ]
    }
   ],
   "source": [
    "df_unstacked = df_stacked.unstack()\n",
    "print(df_unstacked)"
   ]
  },
  {
   "cell_type": "markdown",
   "metadata": {},
   "source": [
    "## Uniones"
   ]
  },
  {
   "cell_type": "code",
   "execution_count": 211,
   "metadata": {},
   "outputs": [
    {
     "name": "stdout",
     "output_type": "stream",
     "text": [
      "  key  value1\n",
      "0   A       1\n",
      "1   B       2\n",
      "2   C       3\n",
      "  key  value2\n",
      "0   B       4\n",
      "1   C       5\n",
      "2   D       6\n"
     ]
    }
   ],
   "source": [
    "# Crear DataFrames de ejemplo\n",
    "df1 = pd.DataFrame({\n",
    "    'key': ['A', 'B', 'C'],\n",
    "    'value1': [1, 2, 3]\n",
    "})\n",
    "\n",
    "df2 = pd.DataFrame({\n",
    "    'key': ['B', 'C', 'D'],\n",
    "    'value2': [4, 5, 6]\n",
    "})\n",
    "\n",
    "print(df1)\n",
    "print(df2)"
   ]
  },
  {
   "cell_type": "code",
   "execution_count": 212,
   "metadata": {},
   "outputs": [
    {
     "name": "stdout",
     "output_type": "stream",
     "text": [
      "  key  value1  value2\n",
      "0   B       2       4\n",
      "1   C       3       5\n"
     ]
    }
   ],
   "source": [
    "inner_marged = pd.merge(df1, df2, on = 'key', how = 'inner')\n",
    "print(inner_marged)"
   ]
  },
  {
   "cell_type": "code",
   "execution_count": 213,
   "metadata": {},
   "outputs": [
    {
     "name": "stdout",
     "output_type": "stream",
     "text": [
      "  key  value1  value2\n",
      "0   A     1.0     NaN\n",
      "1   B     2.0     4.0\n",
      "2   C     3.0     5.0\n",
      "3   D     NaN     6.0\n"
     ]
    }
   ],
   "source": [
    "outer_marged = pd.merge(df1, df2, on = 'key', how='outer')\n",
    "print(outer_marged)"
   ]
  },
  {
   "cell_type": "code",
   "execution_count": 216,
   "metadata": {},
   "outputs": [
    {
     "name": "stdout",
     "output_type": "stream",
     "text": [
      "  key  value1  value2\n",
      "0   A       1     NaN\n",
      "1   B       2     4.0\n",
      "2   C       3     5.0\n"
     ]
    }
   ],
   "source": [
    "left_merge = pd.merge(df1, df2, on = 'key', how = 'left')\n",
    "print(left_merge)"
   ]
  },
  {
   "cell_type": "code",
   "execution_count": 215,
   "metadata": {},
   "outputs": [
    {
     "name": "stdout",
     "output_type": "stream",
     "text": [
      "  key  value1  value2\n",
      "0   B     2.0       4\n",
      "1   C     3.0       5\n",
      "2   D     NaN       6\n"
     ]
    }
   ],
   "source": [
    "right_merge = pd.merge(df1, df2, on = 'key', how = 'right')\n",
    "print(right_merge)"
   ]
  },
  {
   "cell_type": "code",
   "execution_count": 217,
   "metadata": {},
   "outputs": [
    {
     "name": "stdout",
     "output_type": "stream",
     "text": [
      "    A   B\n",
      "0  A0  B0\n",
      "1  A1  B1\n",
      "2  A2  B2\n",
      "    A   B\n",
      "0  A3  B3\n",
      "1  A4  B4\n",
      "2  A5  B5\n"
     ]
    }
   ],
   "source": [
    "# Crear DataFrames de ejemplo\n",
    "df3 = pd.DataFrame({\n",
    "    'A': ['A0', 'A1', 'A2'],\n",
    "    'B': ['B0', 'B1', 'B2']\n",
    "})\n",
    "    \n",
    "df4 = pd.DataFrame({\n",
    "    'A': ['A3', 'A4', 'A5'],\n",
    "    'B': ['B3', 'B4', 'B5']\n",
    "})\n",
    "\n",
    "print(df3)\n",
    "print(df4)"
   ]
  },
  {
   "cell_type": "code",
   "execution_count": 218,
   "metadata": {},
   "outputs": [
    {
     "name": "stdout",
     "output_type": "stream",
     "text": [
      "    A   B\n",
      "0  A0  B0\n",
      "1  A1  B1\n",
      "2  A2  B2\n",
      "0  A3  B3\n",
      "1  A4  B4\n",
      "2  A5  B5\n"
     ]
    }
   ],
   "source": [
    "vertical_concat = pd.concat([df3, df4])\n",
    "print(vertical_concat)"
   ]
  },
  {
   "cell_type": "code",
   "execution_count": 219,
   "metadata": {},
   "outputs": [
    {
     "name": "stdout",
     "output_type": "stream",
     "text": [
      "    A   B   A   B\n",
      "0  A0  B0  A3  B3\n",
      "1  A1  B1  A4  B4\n",
      "2  A2  B2  A5  B5\n"
     ]
    }
   ],
   "source": [
    "horizontal_concat = pd.concat([df3, df4], axis=1)\n",
    "print(horizontal_concat)"
   ]
  },
  {
   "cell_type": "code",
   "execution_count": 220,
   "metadata": {},
   "outputs": [
    {
     "name": "stdout",
     "output_type": "stream",
     "text": [
      "     A   B\n",
      "K0  A0  B0\n",
      "K1  A1  B1\n",
      "K2  A2  B2\n",
      "     C   D\n",
      "K0  C0  D0\n",
      "K2  C1  D1\n",
      "K3  C2  D2\n"
     ]
    }
   ],
   "source": [
    "# Crear DataFrames de ejemplo con índices\n",
    "df5 = pd.DataFrame({\n",
    "    'A': ['A0', 'A1', 'A2'],\n",
    "    'B': ['B0', 'B1', 'B2']\n",
    "}, index=['K0', 'K1', 'K2'])\n",
    "\n",
    "df6 = pd.DataFrame({\n",
    "    'C': ['C0', 'C1', 'C2'],\n",
    "    'D': ['D0', 'D1', 'D2']\n",
    "}, index=['K0', 'K2', 'K3'])\n",
    "\n",
    "print(df5)\n",
    "print(df6)"
   ]
  },
  {
   "cell_type": "code",
   "execution_count": 221,
   "metadata": {},
   "outputs": [
    {
     "name": "stdout",
     "output_type": "stream",
     "text": [
      "     A   B   C   D\n",
      "K0  A0  B0  C0  D0\n",
      "K2  A2  B2  C1  D1\n"
     ]
    }
   ],
   "source": [
    "joined = df5.join(df6, how='inner')\n",
    "print(joined)"
   ]
  },
  {
   "cell_type": "markdown",
   "metadata": {},
   "source": [
    "## Graficación de Datos con Matplotlib"
   ]
  },
  {
   "cell_type": "code",
   "execution_count": 223,
   "metadata": {},
   "outputs": [
    {
     "name": "stdout",
     "output_type": "stream",
     "text": [
      "  InvoiceNo StockCode                          Description  Quantity  \\\n",
      "0    536365    85123A   WHITE HANGING HEART T-LIGHT HOLDER         6   \n",
      "1    536365     71053                  WHITE METAL LANTERN         6   \n",
      "2    536365    84406B       CREAM CUPID HEARTS COAT HANGER         8   \n",
      "3    536365    84029G  KNITTED UNION FLAG HOT WATER BOTTLE         6   \n",
      "4    536365    84029E       RED WOOLLY HOTTIE WHITE HEART.         6   \n",
      "\n",
      "          InvoiceDate  UnitPrice  CustomerID         Country  TotalPrice  \n",
      "0 2010-12-01 08:26:00       2.55     17850.0  United Kingdom       15.30  \n",
      "1 2010-12-01 08:26:00       3.39     17850.0  United Kingdom       20.34  \n",
      "2 2010-12-01 08:26:00       2.75     17850.0  United Kingdom       22.00  \n",
      "3 2010-12-01 08:26:00       3.39     17850.0  United Kingdom       20.34  \n",
      "4 2010-12-01 08:26:00       3.39     17850.0  United Kingdom       20.34  \n"
     ]
    }
   ],
   "source": [
    "import pandas as pd\n",
    "import matplotlib.pyplot as plt\n",
    "\n",
    "# Leer el dataset de ventas desde un archivo CSV\n",
    "file_path = \"online_retail.csv\"\n",
    "sales_data = pd.read_csv(file_path)\n",
    "\n",
    "# Convertir la columna 'InvoiceDate' a tipo datetime\n",
    "sales_data['InvoiceDate'] = pd.to_datetime(sales_data['InvoiceDate'])\n",
    "\n",
    "# Eliminar filas con valores faltantes en las columnas críticas\n",
    "sales_data.dropna(subset=['CustomerID', 'InvoiceDate'], inplace=True)\n",
    "\n",
    "# Crear una nueva columna 'TotalPrice'\n",
    "sales_data['TotalPrice'] = sales_data['Quantity'] * sales_data['UnitPrice']\n",
    "\n",
    "print(sales_data.head())"
   ]
  },
  {
   "cell_type": "code",
   "execution_count": 228,
   "metadata": {},
   "outputs": [
    {
     "data": {
      "image/png": "[encoded data removed]",
      "text/plain": [
       "<Figure size 1200x800 with 1 Axes>"
      ]
     },
     "metadata": {},
     "output_type": "display_data"
    }
   ],
   "source": [
    "import matplotlib.pyplot as plt\n",
    "\n",
    "sales_by_country = sales_data.groupby('Country')['TotalPrice'].sum().sort_values(ascending=False)\n",
    "# print(sales_by_country)\n",
    "\n",
    "plt.figure(figsize=(12,8))\n",
    "sales_by_country.plot(kind='bar')\n",
    "plt.title('Ventas Totales por País')\n",
    "plt.xlabel('País')\n",
    "plt.ylabel('Total de ventas')\n",
    "plt.show()"
   ]
  },
  {
   "cell_type": "code",
   "execution_count": 238,
   "metadata": {},
   "outputs": [
    {
     "data": {
      "image/png": "[encoded data removed]",
      "text/plain": [
       "<Figure size 1200x800 with 1 Axes>"
      ]
     },
     "metadata": {},
     "output_type": "display_data"
    }
   ],
   "source": [
    "quantity_by_product = sales_data.groupby('Description')['Quantity'].sum().sort_values(ascending=False).head(10)\n",
    "\n",
    "plt.figure(figsize=(12,8))\n",
    "quantity_by_product.plot(kind='bar')\n",
    "plt.title('Top 10 Productos Más Vendidos')\n",
    "plt.xlabel('Producto')\n",
    "plt.ylabel('Cantidad vendida')\n",
    "plt.show()"
   ]
  },
  {
   "cell_type": "code",
   "execution_count": 240,
   "metadata": {},
   "outputs": [
    {
     "name": "stdout",
     "output_type": "stream",
     "text": [
      "El producto más vendido es WORLD WAR 2 GLIDERS ASSTD DESIGNS con un total de 53215 unidades vendidas\n"
     ]
    }
   ],
   "source": [
    "# Identificar el producto más vendido\n",
    "\n",
    "top_product = sales_data.groupby('Description')['Quantity'].sum().idxmax()\n",
    "top_product_quantity = sales_data.groupby('Description')['Quantity'].sum().max()\n",
    "print(f\"El producto más vendido es {top_product} con un total de {top_product_quantity} unidades vendidas\")"
   ]
  },
  {
   "cell_type": "code",
   "execution_count": 241,
   "metadata": {},
   "outputs": [
    {
     "name": "stdout",
     "output_type": "stream",
     "text": [
      "             Timestamp  Value\n",
      "0  2024-07-22 10:00:00    100\n",
      "1  2024-07-22 11:00:00    150\n",
      "2  2024-07-22 12:00:00    200\n"
     ]
    }
   ],
   "source": [
    "import pandas as pd\n",
    "\n",
    "data = {\n",
    "    'Timestamp': ['2024-07-22 10:00:00', '2024-07-22 11:00:00', '2024-07-22 12:00:00'],\n",
    "    'Value': [100, 150, 200]\n",
    "}\n",
    "df = pd.DataFrame(data)\n",
    "\n",
    "print(df)"
   ]
  },
  {
   "cell_type": "code",
   "execution_count": 242,
   "metadata": {},
   "outputs": [
    {
     "name": "stdout",
     "output_type": "stream",
     "text": [
      "                     Value\n",
      "Timestamp                 \n",
      "2024-07-22 10:00:00    100\n",
      "2024-07-22 11:00:00    150\n",
      "2024-07-22 12:00:00    200\n"
     ]
    }
   ],
   "source": [
    "# Convertir la columna a tipo datetime\n",
    "df['Timestamp'] = pd.to_datetime(df['Timestamp'])\n",
    "\n",
    "# Establecer Timestamp como indice\n",
    "df.set_index('Timestamp', inplace=True)\n",
    "print(df)\n"
   ]
  },
  {
   "cell_type": "code",
   "execution_count": 243,
   "metadata": {},
   "outputs": [
    {
     "name": "stdout",
     "output_type": "stream",
     "text": [
      "                    InvoiceNo StockCode                          Description  \\\n",
      "InvoiceDate                                                                    \n",
      "2010-12-01 08:26:00    536365    85123A   WHITE HANGING HEART T-LIGHT HOLDER   \n",
      "2010-12-01 08:26:00    536365     71053                  WHITE METAL LANTERN   \n",
      "2010-12-01 08:26:00    536365    84406B       CREAM CUPID HEARTS COAT HANGER   \n",
      "2010-12-01 08:26:00    536365    84029G  KNITTED UNION FLAG HOT WATER BOTTLE   \n",
      "2010-12-01 08:26:00    536365    84029E       RED WOOLLY HOTTIE WHITE HEART.   \n",
      "\n",
      "                     Quantity  UnitPrice  CustomerID         Country  \\\n",
      "InvoiceDate                                                            \n",
      "2010-12-01 08:26:00         6       2.55     17850.0  United Kingdom   \n",
      "2010-12-01 08:26:00         6       3.39     17850.0  United Kingdom   \n",
      "2010-12-01 08:26:00         8       2.75     17850.0  United Kingdom   \n",
      "2010-12-01 08:26:00         6       3.39     17850.0  United Kingdom   \n",
      "2010-12-01 08:26:00         6       3.39     17850.0  United Kingdom   \n",
      "\n",
      "                     TotalPrice  \n",
      "InvoiceDate                      \n",
      "2010-12-01 08:26:00       15.30  \n",
      "2010-12-01 08:26:00       20.34  \n",
      "2010-12-01 08:26:00       22.00  \n",
      "2010-12-01 08:26:00       20.34  \n",
      "2010-12-01 08:26:00       20.34  \n"
     ]
    }
   ],
   "source": [
    "sales_data['InvoiceDate'] = pd.to_datetime(sales_data['InvoiceDate'])\n",
    "\n",
    "# Establecer invoiceDate con índice\n",
    "sales_data.set_index('InvoiceDate', inplace=True)\n",
    "print(sales_data.head())"
   ]
  },
  {
   "cell_type": "code",
   "execution_count": 244,
   "metadata": {},
   "outputs": [
    {
     "name": "stdout",
     "output_type": "stream",
     "text": [
      "InvoiceDate\n",
      "2010-12-31    296362\n",
      "2011-01-31    269379\n",
      "2011-02-28    262833\n",
      "2011-03-31    344012\n",
      "2011-04-30    278585\n",
      "2011-05-31    367852\n",
      "2011-06-30    356922\n",
      "2011-07-31    363418\n",
      "2011-08-31    386612\n",
      "2011-09-30    537496\n",
      "2011-10-31    569666\n",
      "2011-11-30    669915\n",
      "2011-12-31    203836\n",
      "Freq: ME, Name: Quantity, dtype: int64\n"
     ]
    },
    {
     "name": "stderr",
     "output_type": "stream",
     "text": [
      "C:\\Users\\celio\\AppData\\Local\\Temp\\ipykernel_9384\\2691366849.py:1: FutureWarning: 'M' is deprecated and will be removed in a future version, please use 'ME' instead.\n",
      "  monthly_sales = sales_data['Quantity'].resample('M').sum()\n"
     ]
    }
   ],
   "source": [
    "monthly_sales = sales_data['Quantity'].resample('M').sum()\n",
    "print(monthly_sales)"
   ]
  },
  {
   "cell_type": "code",
   "execution_count": 245,
   "metadata": {},
   "outputs": [
    {
     "name": "stdout",
     "output_type": "stream",
     "text": [
      "El mes con mayores ventas es November 2011  con un total de 669915 inidades vendidas.\n"
     ]
    }
   ],
   "source": [
    "max_sales_month = monthly_sales.idxmax()\n",
    "max_sales_value = monthly_sales.max()\n",
    "\n",
    "print(f\"El mes con mayores ventas es {max_sales_month.strftime('%B %Y')}  con un total de {max_sales_value} inidades vendidas.\")"
   ]
  },
  {
   "cell_type": "code",
   "execution_count": 246,
   "metadata": {},
   "outputs": [
    {
     "data": {
      "text/plain": [
       "<function matplotlib.pyplot.show(close=None, block=None)>"
      ]
     },
     "execution_count": 246,
     "metadata": {},
     "output_type": "execute_result"
    },
    {
     "data": {
      "image/png": "[encoded data removed]",
      "text/plain": [
       "<Figure size 1200x600 with 1 Axes>"
      ]
     },
     "metadata": {},
     "output_type": "display_data"
    }
   ],
   "source": [
    "import matplotlib.pyplot as plt\n",
    "\n",
    "plt.figure(figsize=(12, 6))\n",
    "monthly_sales.plot(kind='line')\n",
    "plt.title('Ventas Mensuales')\n",
    "plt.xlabel('Mes')\n",
    "plt.ylabel('Cantidad Vendida')\n",
    "plt.show"
   ]
  }
 ],
 "metadata": {
  "kernelspec": {
   "display_name": "venv",
   "language": "python",
   "name": "python3"
  },
  "language_info": {
   "codemirror_mode": {
    "name": "ipython",
    "version": 3
   },
   "file_extension": ".py",
   "mimetype": "text/x-python",
   "name": "python",
   "nbconvert_exporter": "python",
   "pygments_lexer": "ipython3",
   "version": "3.12.2"
  }
 },
 "nbformat": 4,
 "nbformat_minor": 2
}
