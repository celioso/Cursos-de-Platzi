{
  "cells": [
    {
      "cell_type": "markdown",
      "metadata": {
        "id": "uI7_YNwXlMe1"
      },
      "source": [
        "# Pivot Table y Reshape"
      ]
    },
    {
      "cell_type": "code",
      "execution_count": null,
      "metadata": {
        "id": "szl2ObnqS8vf"
      },
      "outputs": [],
      "source": [
        "pivot_table = pd.pivot_table(sales_data, values = 'Quantity', index = 'Country',\n",
        "                             columns='StockCode', aggfunc='sum')\n",
        "print(pivot_table)"
      ]
    },
    {
      "cell_type": "code",
      "execution_count": 118,
      "metadata": {
        "colab": {
          "base_uri": "https://localhost:8080/"
        },
        "id": "8gQuYlrtTSEx",
        "outputId": "993ac037-373f-4b90-9d00-4e1807d07f65"
      },
      "outputs": [
        {
          "name": "stdout",
          "output_type": "stream",
          "text": [
            "     A  B  C\n",
            "0  foo  1  4\n",
            "1  bar  2  5\n",
            "2  baz  3  6\n"
          ]
        }
      ],
      "source": [
        "df = pd.DataFrame({\n",
        "    'A': ['foo', 'bar', 'baz'],\n",
        "    'B': [1, 2, 3],\n",
        "    'C': [4, 5, 6]\n",
        "})\n",
        "print(df)"
      ]
    },
    {
      "cell_type": "code",
      "execution_count": 119,
      "metadata": {
        "colab": {
          "base_uri": "https://localhost:8080/"
        },
        "id": "NJX5GdNLTT-8",
        "outputId": "2d79686f-bd67-4c52-ecdf-3a4120b38ec9"
      },
      "outputs": [
        {
          "name": "stdout",
          "output_type": "stream",
          "text": [
            "0  A    foo\n",
            "   B      1\n",
            "   C      4\n",
            "1  A    bar\n",
            "   B      2\n",
            "   C      5\n",
            "2  A    baz\n",
            "   B      3\n",
            "   C      6\n",
            "dtype: object\n"
          ]
        }
      ],
      "source": [
        "df_stacked = df.stack()\n",
        "print(df_stacked)"
      ]
    }
  ],
  "metadata": {
    "colab": {
      "provenance": []
    },
    "kernelspec": {
      "display_name": "Python 3",
      "name": "python3"
    },
    "language_info": {
      "name": "python"
    }
  },
  "nbformat": 4,
  "nbformat_minor": 0
}
