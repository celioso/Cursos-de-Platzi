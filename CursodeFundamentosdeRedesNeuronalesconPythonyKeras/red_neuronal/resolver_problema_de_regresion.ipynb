{
  "nbformat": 4,
  "nbformat_minor": 0,
  "metadata": {
    "colab": {
      "provenance": []
    },
    "kernelspec": {
      "name": "python3",
      "display_name": "Python 3"
    },
    "language_info": {
      "name": "python"
    }
  },
  "cells": [
    {
      "cell_type": "code",
      "execution_count": 109,
      "metadata": {
        "id": "PCe832_JQ1WY"
      },
      "outputs": [],
      "source": [
        "import pandas as pd\n",
        "import numpy as np\n",
        "from keras.datasets import boston_housing\n",
        "from keras import layers, models, optimizers"
      ]
    },
    {
      "cell_type": "code",
      "source": [
        "(train_data, train_labels), (test_data, test_labels) = boston_housing.load_data()"
      ],
      "metadata": {
        "id": "6Zuj75W3VJFw"
      },
      "execution_count": 110,
      "outputs": []
    },
    {
      "cell_type": "code",
      "source": [
        "train_data.shape"
      ],
      "metadata": {
        "colab": {
          "base_uri": "https://localhost:8080/"
        },
        "id": "KMvVE5suW29n",
        "outputId": "69645ab3-9942-4d02-b7cd-f59ce5f14207"
      },
      "execution_count": 111,
      "outputs": [
        {
          "output_type": "execute_result",
          "data": {
            "text/plain": [
              "(404, 13)"
            ]
          },
          "metadata": {},
          "execution_count": 111
        }
      ]
    },
    {
      "cell_type": "code",
      "source": [
        "train_labels.shape"
      ],
      "metadata": {
        "colab": {
          "base_uri": "https://localhost:8080/"
        },
        "id": "cVWiMhM9W-6j",
        "outputId": "66c0fcd1-073f-400f-a075-5ed212948a3f"
      },
      "execution_count": 112,
      "outputs": [
        {
          "output_type": "execute_result",
          "data": {
            "text/plain": [
              "(404,)"
            ]
          },
          "metadata": {},
          "execution_count": 112
        }
      ]
    },
    {
      "cell_type": "code",
      "source": [
        "train_data[0]"
      ],
      "metadata": {
        "colab": {
          "base_uri": "https://localhost:8080/"
        },
        "id": "CoX1_LIcXkkv",
        "outputId": "d36f7180-0202-4b3d-ed9b-beb97ad8937e"
      },
      "execution_count": 113,
      "outputs": [
        {
          "output_type": "execute_result",
          "data": {
            "text/plain": [
              "array([  1.23247,   0.     ,   8.14   ,   0.     ,   0.538  ,   6.142  ,\n",
              "        91.7    ,   3.9769 ,   4.     , 307.     ,  21.     , 396.9    ,\n",
              "        18.72   ])"
            ]
          },
          "metadata": {},
          "execution_count": 113
        }
      ]
    },
    {
      "cell_type": "code",
      "source": [
        "train_labels[0]"
      ],
      "metadata": {
        "colab": {
          "base_uri": "https://localhost:8080/"
        },
        "id": "dBOKEe_YXFCF",
        "outputId": "fb0cc654-d9d6-4c91-d7b4-0650beca22da"
      },
      "execution_count": 114,
      "outputs": [
        {
          "output_type": "execute_result",
          "data": {
            "text/plain": [
              "15.2"
            ]
          },
          "metadata": {},
          "execution_count": 114
        }
      ]
    },
    {
      "cell_type": "code",
      "source": [
        "mean = train_data.mean(axis=0)\n",
        "train_data = train_data - mean\n",
        "std = train_data.std(axis=0)\n",
        "train_data = train_data/std\n",
        "\n",
        "test_data = test_data - mean\n",
        "test_data = test_data / std"
      ],
      "metadata": {
        "id": "0yKHmo1nYqgr"
      },
      "execution_count": 115,
      "outputs": []
    },
    {
      "cell_type": "code",
      "source": [
        "def build_model_regression(lr_var, input_data):\n",
        "  model = models.Sequential()\n",
        "  model.add(layers.Dense(64, activation='relu', input_shape=(input_data,)))\n",
        "  model.add(layers.Dense(64, activation='relu'))\n",
        "  model.add(layers.Dense(1))\n",
        "  model.compile(optimizer = optimizers.RMSprop(learning_rate=lr_var), loss='mse', metrics=['mae'])\n",
        "  return model"
      ],
      "metadata": {
        "id": "dfteh8D8ZfNG"
      },
      "execution_count": 116,
      "outputs": []
    },
    {
      "cell_type": "code",
      "source": [
        "k = 4\n",
        "num_val_sample = len(train_data) // k\n",
        "num_epoch = 85\n",
        "all_history = []"
      ],
      "metadata": {
        "id": "9Ihd3LRxbjJQ"
      },
      "execution_count": 117,
      "outputs": []
    },
    {
      "cell_type": "code",
      "source": [
        "valor = 2\n",
        "(valor) * num_val_sample"
      ],
      "metadata": {
        "colab": {
          "base_uri": "https://localhost:8080/"
        },
        "id": "_pNkwCj19i0t",
        "outputId": "ddabbc31-bc24-4143-cddc-fff56c89dd23"
      },
      "execution_count": 118,
      "outputs": [
        {
          "output_type": "execute_result",
          "data": {
            "text/plain": [
              "202"
            ]
          },
          "metadata": {},
          "execution_count": 118
        }
      ]
    },
    {
      "cell_type": "code",
      "source": [
        "for i in range(k):\n",
        "  print(\"Fold:\", i)\n",
        "  val_data = train_data[i*num_val_sample : (i+1)*num_val_sample]\n",
        "  val_targets = train_labels[i*num_val_sample : (i+1)*num_val_sample]\n",
        "\n",
        "  partial_train_data = np.concatenate(\n",
        "      [train_data[:i*num_val_sample],\n",
        "       train_data[(i+1)*num_val_sample:]\n",
        "       ],\n",
        "      axis=0)\n",
        "\n",
        "  partial_train_targets = np.concatenate(\n",
        "      [train_labels[:i*num_val_sample],\n",
        "       train_labels[(i+1)*num_val_sample:]\n",
        "       ],\n",
        "      axis=0)\n",
        "\n",
        "  model = build_model_regression(0.001, 13)\n",
        "  history = model.fit(partial_train_data, partial_train_targets,\n",
        "                      epochs=num_epoch,\n",
        "                      batch_size= 16,\n",
        "                      validation_data=(val_data,val_targets),\n",
        "                      verbose=0\n",
        "                      )\n",
        "  all_history.append(history.history['val_mae'])"
      ],
      "metadata": {
        "colab": {
          "base_uri": "https://localhost:8080/"
        },
        "id": "uCk3PHns-8EE",
        "outputId": "e2ebee77-96b7-4e63-d3bc-4b714a0e6c88"
      },
      "execution_count": 119,
      "outputs": [
        {
          "output_type": "stream",
          "name": "stdout",
          "text": [
            "Fold: 0\n"
          ]
        },
        {
          "output_type": "stream",
          "name": "stderr",
          "text": [
            "/usr/local/lib/python3.10/dist-packages/keras/src/layers/core/dense.py:87: UserWarning: Do not pass an `input_shape`/`input_dim` argument to a layer. When using Sequential models, prefer using an `Input(shape)` object as the first layer in the model instead.\n",
            "  super().__init__(activity_regularizer=activity_regularizer, **kwargs)\n"
          ]
        },
        {
          "output_type": "stream",
          "name": "stdout",
          "text": [
            "Fold: 1\n",
            "Fold: 2\n",
            "Fold: 3\n"
          ]
        }
      ]
    },
    {
      "cell_type": "code",
      "source": [
        "all_mae_avg = pd.DataFrame(all_history).mean(axis=0)"
      ],
      "metadata": {
        "id": "dnbqbWN5J0k5"
      },
      "execution_count": 120,
      "outputs": []
    },
    {
      "cell_type": "code",
      "source": [
        "all_mae_avg"
      ],
      "metadata": {
        "colab": {
          "base_uri": "https://localhost:8080/",
          "height": 458
        },
        "id": "Bt9n1iiCKkhI",
        "outputId": "e8a03093-7f38-4d67-d26b-2a2935fba5fb"
      },
      "execution_count": 121,
      "outputs": [
        {
          "output_type": "execute_result",
          "data": {
            "text/plain": [
              "0     19.303360\n",
              "1     15.630777\n",
              "2     11.152199\n",
              "3      7.608082\n",
              "4      5.676619\n",
              "        ...    \n",
              "80     2.356870\n",
              "81     2.343026\n",
              "82     2.291224\n",
              "83     2.297396\n",
              "84     2.412950\n",
              "Length: 85, dtype: float64"
            ],
            "text/html": [
              "<div>\n",
              "<style scoped>\n",
              "    .dataframe tbody tr th:only-of-type {\n",
              "        vertical-align: middle;\n",
              "    }\n",
              "\n",
              "    .dataframe tbody tr th {\n",
              "        vertical-align: top;\n",
              "    }\n",
              "\n",
              "    .dataframe thead th {\n",
              "        text-align: right;\n",
              "    }\n",
              "</style>\n",
              "<table border=\"1\" class=\"dataframe\">\n",
              "  <thead>\n",
              "    <tr style=\"text-align: right;\">\n",
              "      <th></th>\n",
              "      <th>0</th>\n",
              "    </tr>\n",
              "  </thead>\n",
              "  <tbody>\n",
              "    <tr>\n",
              "      <th>0</th>\n",
              "      <td>19.303360</td>\n",
              "    </tr>\n",
              "    <tr>\n",
              "      <th>1</th>\n",
              "      <td>15.630777</td>\n",
              "    </tr>\n",
              "    <tr>\n",
              "      <th>2</th>\n",
              "      <td>11.152199</td>\n",
              "    </tr>\n",
              "    <tr>\n",
              "      <th>3</th>\n",
              "      <td>7.608082</td>\n",
              "    </tr>\n",
              "    <tr>\n",
              "      <th>4</th>\n",
              "      <td>5.676619</td>\n",
              "    </tr>\n",
              "    <tr>\n",
              "      <th>...</th>\n",
              "      <td>...</td>\n",
              "    </tr>\n",
              "    <tr>\n",
              "      <th>80</th>\n",
              "      <td>2.356870</td>\n",
              "    </tr>\n",
              "    <tr>\n",
              "      <th>81</th>\n",
              "      <td>2.343026</td>\n",
              "    </tr>\n",
              "    <tr>\n",
              "      <th>82</th>\n",
              "      <td>2.291224</td>\n",
              "    </tr>\n",
              "    <tr>\n",
              "      <th>83</th>\n",
              "      <td>2.297396</td>\n",
              "    </tr>\n",
              "    <tr>\n",
              "      <th>84</th>\n",
              "      <td>2.412950</td>\n",
              "    </tr>\n",
              "  </tbody>\n",
              "</table>\n",
              "<p>85 rows × 1 columns</p>\n",
              "</div><br><label><b>dtype:</b> float64</label>"
            ]
          },
          "metadata": {},
          "execution_count": 121
        }
      ]
    },
    {
      "cell_type": "code",
      "source": [
        "import matplotlib.pyplot as plt\n",
        "\n",
        "fig = plt.figure(figsize=(10,10))\n",
        "plt.plot(range(1, len(all_mae_avg[15:])+1), all_mae_avg[15:])\n",
        "plt.show()"
      ],
      "metadata": {
        "colab": {
          "base_uri": "https://localhost:8080/",
          "height": 830
        },
        "id": "0dUkmLEOLL3I",
        "outputId": "a197e70a-1273-4209-e225-fc8132180bb1"
      },
      "execution_count": 122,
      "outputs": [
        {
          "output_type": "display_data",
          "data": {
            "text/plain": [
              "<Figure size 1000x1000 with 1 Axes>"
            ],
            "image/png": "[encoded data removed]"
          },
          "metadata": {}
        }
      ]
    },
    {
      "cell_type": "code",
      "source": [
        "model.evaluate(test_data, test_labels)"
      ],
      "metadata": {
        "colab": {
          "base_uri": "https://localhost:8080/"
        },
        "id": "RHPi-S_hMYIo",
        "outputId": "67762d4b-3b82-47b0-b285-fc8fea56c6db"
      },
      "execution_count": 125,
      "outputs": [
        {
          "output_type": "stream",
          "name": "stdout",
          "text": [
            "\u001b[1m4/4\u001b[0m \u001b[32m━━━━━━━━━━━━━━━━━━━━\u001b[0m\u001b[37m\u001b[0m \u001b[1m0s\u001b[0m 3ms/step - loss: 15.2079 - mae: 2.5712\n"
          ]
        },
        {
          "output_type": "execute_result",
          "data": {
            "text/plain": [
              "[21.777963638305664, 2.806154251098633]"
            ]
          },
          "metadata": {},
          "execution_count": 125
        }
      ]
    }
  ]
}