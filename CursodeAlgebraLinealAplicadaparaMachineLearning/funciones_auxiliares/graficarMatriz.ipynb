{
 "cells": [
  {
   "cell_type": "code",
   "execution_count": null,
   "id": "4a1a5d01",
   "metadata": {},
   "outputs": [],
   "source": [
    "def graficarMatriz(matriz, vectorCol=['red', 'blue']):\n",
    "\n",
    "    # circulo unitario\n",
    "    x = np.linspace(-1,1, 100000)\n",
    "    y = np.sqrt(1-(x**2))\n",
    "\n",
    "    # circulo unitario transformado\n",
    "    x1 = matriz[0,0]*x + matriz[0,1]*y\n",
    "    y1 = matriz[1,0]*x + matriz[1,1]*y\n",
    "    x1_neg = matriz[0,0]*x - matriz[0,1]*y\n",
    "    y1_neg = matriz[1,0]*x - matriz[1,1]*y\n",
    "\n",
    "    # Vectores\n",
    "    u1 = [matriz[0,0], matriz[1,0]]\n",
    "    v1 = [matriz[0,1], matriz[1,1]]\n",
    "\n",
    "    graficarVectores([u1,v1], cols=[vectorCol[0], vectorCol[1]])\n",
    "\n",
    "    plt.plot(x1,y1, 'green', alpha = 0.7)\n",
    "    plt.plot(x1_neg,y1_neg, 'green', alpha = 0.7)"
   ]
  }
 ],
 "metadata": {
  "language_info": {
   "name": "python"
  }
 },
 "nbformat": 4,
 "nbformat_minor": 5
}
