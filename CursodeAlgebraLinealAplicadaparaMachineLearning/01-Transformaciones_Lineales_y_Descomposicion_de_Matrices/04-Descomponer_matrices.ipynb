{
 "cells": [
  {
   "cell_type": "code",
   "execution_count": null,
   "id": "978ad5b8",
   "metadata": {},
   "outputs": [],
   "source": [
    "import numpy as np"
   ]
  },
  {
   "cell_type": "code",
   "execution_count": 2,
   "id": "dec5d198",
   "metadata": {},
   "outputs": [
    {
     "name": "stdout",
     "output_type": "stream",
     "text": [
      "[[3 2]\n",
      " [4 1]]\n"
     ]
    }
   ],
   "source": [
    "A = np.array([[3,2],[4,1]])\n",
    "print(A)"
   ]
  },
  {
   "cell_type": "code",
   "execution_count": 3,
   "id": "c25ba6b7",
   "metadata": {},
   "outputs": [],
   "source": [
    "autovalores, autovectores = np.linalg.eig(A)"
   ]
  },
  {
   "cell_type": "code",
   "execution_count": 4,
   "id": "af111292",
   "metadata": {},
   "outputs": [
    {
     "name": "stdout",
     "output_type": "stream",
     "text": [
      "[ 5. -1.]\n",
      "[[ 0.70710678 -0.4472136 ]\n",
      " [ 0.70710678  0.89442719]]\n"
     ]
    }
   ],
   "source": [
    "print(autovalores)\n",
    "print(autovectores)"
   ]
  },
  {
   "cell_type": "code",
   "execution_count": 5,
   "id": "c8056acc",
   "metadata": {},
   "outputs": [],
   "source": [
    "A_calc = autovectores.dot(np.diag(autovalores)).dot(np.linalg.inv(autovectores))"
   ]
  },
  {
   "cell_type": "code",
   "execution_count": 6,
   "id": "879ba59d",
   "metadata": {},
   "outputs": [
    {
     "name": "stdout",
     "output_type": "stream",
     "text": [
      "[[3. 2.]\n",
      " [4. 1.]]\n"
     ]
    }
   ],
   "source": [
    "print(A_calc)"
   ]
  },
  {
   "cell_type": "code",
   "execution_count": 7,
   "id": "d85a1d5b",
   "metadata": {},
   "outputs": [
    {
     "name": "stdout",
     "output_type": "stream",
     "text": [
      "[[3 2]\n",
      " [2 3]]\n"
     ]
    }
   ],
   "source": [
    "A = np.array([[3,2],[2,3]])\n",
    "print(A)"
   ]
  },
  {
   "cell_type": "code",
   "execution_count": 8,
   "id": "572e621b",
   "metadata": {},
   "outputs": [
    {
     "name": "stdout",
     "output_type": "stream",
     "text": [
      "[[ True  True]\n",
      " [ True  True]]\n"
     ]
    }
   ],
   "source": [
    "print(A == A.T)"
   ]
  },
  {
   "cell_type": "code",
   "execution_count": 9,
   "id": "910131be",
   "metadata": {},
   "outputs": [
    {
     "name": "stdout",
     "output_type": "stream",
     "text": [
      "[5. 1.]\n",
      "[[ 0.70710678 -0.70710678]\n",
      " [ 0.70710678  0.70710678]]\n"
     ]
    }
   ],
   "source": [
    "autovalores, autovectores = np.linalg.eig(A)\n",
    "print(autovalores)\n",
    "print(autovectores)"
   ]
  },
  {
   "cell_type": "code",
   "execution_count": 10,
   "id": "4b1bbec3",
   "metadata": {},
   "outputs": [
    {
     "name": "stdout",
     "output_type": "stream",
     "text": [
      "[[3. 2.]\n",
      " [2. 3.]]\n"
     ]
    }
   ],
   "source": [
    "A_calc = autovectores.dot(np.diag(autovalores)).dot(autovectores.T)\n",
    "print(A_calc)"
   ]
  }
 ],
 "metadata": {
  "kernelspec": {
   "display_name": "venv",
   "language": "python",
   "name": "python3"
  },
  "language_info": {
   "codemirror_mode": {
    "name": "ipython",
    "version": 3
   },
   "file_extension": ".py",
   "mimetype": "text/x-python",
   "name": "python",
   "nbconvert_exporter": "python",
   "pygments_lexer": "ipython3",
   "version": "3.13.2"
  }
 },
 "nbformat": 4,
 "nbformat_minor": 5
}
