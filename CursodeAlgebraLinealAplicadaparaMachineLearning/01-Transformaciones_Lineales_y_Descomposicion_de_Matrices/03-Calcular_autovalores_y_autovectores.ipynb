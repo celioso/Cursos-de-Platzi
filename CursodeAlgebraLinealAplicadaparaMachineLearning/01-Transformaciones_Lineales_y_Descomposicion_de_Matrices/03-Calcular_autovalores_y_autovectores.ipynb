{
 "cells": [
  {
   "cell_type": "code",
   "execution_count": 48,
   "id": "c4fa1bcb",
   "metadata": {},
   "outputs": [],
   "source": [
    "%matplotlib inline\n",
    "\n",
    "import numpy as np\n",
    "import matplotlib.pyplot as plt"
   ]
  },
  {
   "cell_type": "code",
   "execution_count": 49,
   "id": "ccec1edc",
   "metadata": {},
   "outputs": [
    {
     "name": "stdout",
     "output_type": "stream",
     "text": [
      "[[3 2]\n",
      " [4 1]]\n"
     ]
    }
   ],
   "source": [
    "X = np.array([[3,2],[4,1]])\n",
    "print(X)"
   ]
  },
  {
   "cell_type": "code",
   "execution_count": 50,
   "id": "c8c84afc",
   "metadata": {},
   "outputs": [
    {
     "name": "stdout",
     "output_type": "stream",
     "text": [
      "EigResult(eigenvalues=array([ 5., -1.]), eigenvectors=array([[ 0.70710678, -0.4472136 ],\n",
      "       [ 0.70710678,  0.89442719]]))\n"
     ]
    }
   ],
   "source": [
    "print(np.linalg.eig(x))"
   ]
  },
  {
   "cell_type": "code",
   "execution_count": 51,
   "id": "d637e88f",
   "metadata": {},
   "outputs": [
    {
     "name": "stdout",
     "output_type": "stream",
     "text": [
      "[ 5. -1.]\n"
     ]
    }
   ],
   "source": [
    "autovalores, autovectores = np.linalg.eig(x)\n",
    "print(autovalores)"
   ]
  },
  {
   "cell_type": "code",
   "execution_count": 52,
   "id": "cda3483a",
   "metadata": {},
   "outputs": [
    {
     "name": "stdout",
     "output_type": "stream",
     "text": [
      "[0.70710678 0.70710678]\n"
     ]
    }
   ],
   "source": [
    "print(autovectores[:,0])"
   ]
  },
  {
   "cell_type": "code",
   "execution_count": 53,
   "id": "fcb01a1b",
   "metadata": {},
   "outputs": [
    {
     "name": "stdout",
     "output_type": "stream",
     "text": [
      "[-0.4472136   0.89442719]\n"
     ]
    }
   ],
   "source": [
    "print(autovectores[:,1])"
   ]
  },
  {
   "cell_type": "code",
   "execution_count": 54,
   "id": "d953dac9",
   "metadata": {},
   "outputs": [],
   "source": [
    "%run \"../funciones_auxiliares/graficarVectores.ipynb\""
   ]
  },
  {
   "cell_type": "code",
   "execution_count": 55,
   "id": "ccb5d8bc",
   "metadata": {},
   "outputs": [],
   "source": [
    "v = np.array([[-1],[2]])\n",
    "\n",
    "Xv = X.dot(v)\n",
    "\n",
    "v_np = autovectores[:,1]"
   ]
  },
  {
   "cell_type": "code",
   "execution_count": 62,
   "id": "c517d70b",
   "metadata": {},
   "outputs": [
    {
     "data": {
      "text/plain": [
       "(-2.5, 2.0)"
      ]
     },
     "execution_count": 62,
     "metadata": {},
     "output_type": "execute_result"
    },
    {
     "data": {
      "image/png": "[encoded data removed]",
      "text/plain": [
       "<Figure size 640x480 with 1 Axes>"
      ]
     },
     "metadata": {},
     "output_type": "display_data"
    }
   ],
   "source": [
    "graficarVectores([Xv.flatten(), v.flatten(),v_np], cols=['green', 'orange','blue'])\n",
    "\n",
    "plt.xlim(-2, 2)\n",
    "plt.ylim(-2.5, 2)"
   ]
  }
 ],
 "metadata": {
  "kernelspec": {
   "display_name": "venv",
   "language": "python",
   "name": "python3"
  },
  "language_info": {
   "codemirror_mode": {
    "name": "ipython",
    "version": 3
   },
   "file_extension": ".py",
   "mimetype": "text/x-python",
   "name": "python",
   "nbconvert_exporter": "python",
   "pygments_lexer": "ipython3",
   "version": "3.13.2"
  }
 },
 "nbformat": 4,
 "nbformat_minor": 5
}
