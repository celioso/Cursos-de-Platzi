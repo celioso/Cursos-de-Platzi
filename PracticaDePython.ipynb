{
 "cells": [
  {
   "cell_type": "code",
   "execution_count": 45,
   "metadata": {},
   "outputs": [
    {
     "name": "stdout",
     "output_type": "stream",
     "text": [
      "¡hola a todos!\n"
     ]
    }
   ],
   "source": [
    "print(\"¡hola a todos!\")"
   ]
  },
  {
   "cell_type": "code",
   "execution_count": 46,
   "metadata": {},
   "outputs": [
    {
     "name": "stdout",
     "output_type": "stream",
     "text": [
      "Five is greater then two\n"
     ]
    }
   ],
   "source": [
    "if 5 > 2:\n",
    "    print(\"Five is greater then two\")"
   ]
  },
  {
   "cell_type": "code",
   "execution_count": 47,
   "metadata": {},
   "outputs": [
    {
     "name": "stdout",
     "output_type": "stream",
     "text": [
      "Five is greater than two!\n",
      "Five is greater than two!\n",
      "5\n",
      "Hello, world!\n"
     ]
    }
   ],
   "source": [
    "if 5 > 2:\n",
    "    print(\"Five is greater than two!\")\n",
    "\n",
    "if 5 > 2:\n",
    "        print(\"Five is greater than two!\")\n",
    "\n",
    "x = 5\n",
    "y= \"Hello, world!\"\n",
    "\n",
    "print(x)\n",
    "print(y)"
   ]
  },
  {
   "cell_type": "markdown",
   "metadata": {},
   "source": [
    "### Crear comentario"
   ]
  },
  {
   "cell_type": "code",
   "execution_count": 48,
   "metadata": {},
   "outputs": [
    {
     "name": "stdout",
     "output_type": "stream",
     "text": [
      "Hello, world!\n",
      "Hello, World!\n",
      "Cheers, Mate!\n"
     ]
    }
   ],
   "source": [
    "# this is a comment \n",
    "print(\"Hello, world!\")\n",
    "print(\"Hello, World!\") #This is a comment\n",
    "#print(\"Hello, World!\")\n",
    "print(\"Cheers, Mate!\")"
   ]
  },
  {
   "cell_type": "code",
   "execution_count": 49,
   "metadata": {},
   "outputs": [
    {
     "name": "stdout",
     "output_type": "stream",
     "text": [
      "Hello, World!\n"
     ]
    }
   ],
   "source": [
    "#This is a comment\n",
    "#written in\n",
    "#more than just one line\n",
    "print(\"Hello, World!\")"
   ]
  },
  {
   "cell_type": "code",
   "execution_count": 50,
   "metadata": {},
   "outputs": [
    {
     "name": "stdout",
     "output_type": "stream",
     "text": [
      "Hello, world!\n"
     ]
    }
   ],
   "source": [
    "\"\"\"\n",
    "This is a comment\n",
    "written in\n",
    "more than just one line\n",
    "\"\"\"\n",
    "print(\"Hello, world!\")"
   ]
  },
  {
   "cell_type": "markdown",
   "metadata": {},
   "source": [
    "### Variables"
   ]
  },
  {
   "cell_type": "code",
   "execution_count": 51,
   "metadata": {},
   "outputs": [
    {
     "name": "stdout",
     "output_type": "stream",
     "text": [
      "5\n",
      "John\n"
     ]
    }
   ],
   "source": [
    "x = 5\n",
    "y = \"John\"\n",
    "print(x)\n",
    "print(y)"
   ]
  },
  {
   "cell_type": "code",
   "execution_count": 52,
   "metadata": {},
   "outputs": [
    {
     "name": "stdout",
     "output_type": "stream",
     "text": [
      "Sally\n"
     ]
    }
   ],
   "source": [
    "x = 4       # X is of type int\n",
    "x = \"Sally\" # x is now of type str\n",
    "print(x)"
   ]
  },
  {
   "cell_type": "markdown",
   "metadata": {},
   "source": [
    "#### Fundición"
   ]
  },
  {
   "cell_type": "code",
   "execution_count": 53,
   "metadata": {},
   "outputs": [
    {
     "name": "stdout",
     "output_type": "stream",
     "text": [
      "3\n",
      "3\n",
      "3.0\n"
     ]
    }
   ],
   "source": [
    "x = str(3)  # x will be '3'\n",
    "y = int(3)  # y will be 3\n",
    "z = float(3)# z will be 3.0\n",
    "\n",
    "print(x)\n",
    "print(y)\n",
    "print(z)"
   ]
  },
  {
   "cell_type": "markdown",
   "metadata": {},
   "source": [
    "#### obtener el tipo"
   ]
  },
  {
   "cell_type": "code",
   "execution_count": 54,
   "metadata": {},
   "outputs": [
    {
     "name": "stdout",
     "output_type": "stream",
     "text": [
      "<class 'int'>\n",
      "<class 'str'>\n"
     ]
    }
   ],
   "source": [
    "x = 5\n",
    "y = \"John\"\n",
    "print(type(x))\n",
    "print(type(y))"
   ]
  },
  {
   "cell_type": "markdown",
   "metadata": {},
   "source": [
    "#### ¿Comillas simples o dobles?"
   ]
  },
  {
   "cell_type": "code",
   "execution_count": 55,
   "metadata": {},
   "outputs": [
    {
     "name": "stdout",
     "output_type": "stream",
     "text": [
      "John\n",
      "John\n"
     ]
    }
   ],
   "source": [
    "x = \"John\"\n",
    "print(x)\n",
    "# is the same as\n",
    "x = 'John'\n",
    "print(x)"
   ]
  },
  {
   "cell_type": "markdown",
   "metadata": {},
   "source": [
    "#### Distingue mayúsculas y minúsculas"
   ]
  },
  {
   "cell_type": "code",
   "execution_count": 56,
   "metadata": {},
   "outputs": [
    {
     "name": "stdout",
     "output_type": "stream",
     "text": [
      "4\n",
      "Sally\n"
     ]
    }
   ],
   "source": [
    "a = 4\n",
    "A = \"Sally\"\n",
    "\n",
    "print(a)\n",
    "print(A)"
   ]
  },
  {
   "cell_type": "markdown",
   "metadata": {},
   "source": [
    "### Nombres de variables"
   ]
  },
  {
   "cell_type": "code",
   "execution_count": 57,
   "metadata": {},
   "outputs": [
    {
     "name": "stdout",
     "output_type": "stream",
     "text": [
      "John\n",
      "John\n",
      "John\n",
      "John\n",
      "John\n",
      "John\n"
     ]
    },
    {
     "data": {
      "text/plain": [
       "'\\n2myvar = \"John\"\\nmy-var = \"John\"\\nmy var = \"John\"\\n\\n#This example will produce an error in the result\\n'"
      ]
     },
     "execution_count": 57,
     "metadata": {},
     "output_type": "execute_result"
    }
   ],
   "source": [
    "myvar = \"John\"\n",
    "my_var = \"John\"\n",
    "_my_var = \"John\"\n",
    "myVar = \"John\"\n",
    "MYVAR = \"John\"\n",
    "myvar2 = \"John\"\n",
    "\n",
    "\n",
    "print(myvar)\n",
    "print(my_var)\n",
    "print(_my_var)\n",
    "print(myVar)\n",
    "print(MYVAR)\n",
    "print(myvar2)\n",
    "\n",
    "\"\"\"\n",
    "2myvar = \"John\"\n",
    "my-var = \"John\"\n",
    "my var = \"John\"\n",
    "\n",
    "#This example will produce an error in the result\n",
    "\"\"\""
   ]
  },
  {
   "cell_type": "markdown",
   "metadata": {},
   "source": [
    "#### Nombres de variables de varias palabras\n",
    "##### El caso de Carmel\n",
    "Cada palabra, excepto la primera, comienza con una letra mayúscula: `myVariableName = \"John\"`\n",
    "##### Caso Pascual\n",
    "Cada palabra comienza con una letra mayúscula: `MyVariableName = \"John\"`\n",
    "##### Caso de serpiente\n",
    "Cada palabra está separada por un carácter de subrayado: `my_variable_name = \"John\"`"
   ]
  },
  {
   "cell_type": "markdown",
   "metadata": {},
   "source": [
    "### Asignar valores múltiples"
   ]
  },
  {
   "cell_type": "code",
   "execution_count": 58,
   "metadata": {},
   "outputs": [
    {
     "name": "stdout",
     "output_type": "stream",
     "text": [
      "Orange\n",
      "Banana\n",
      "Cherry\n"
     ]
    }
   ],
   "source": [
    "x, y ,z = \"Orange\", \"Banana\", \"Cherry\"\n",
    "\n",
    "print(x)\n",
    "print(y)\n",
    "print(z)"
   ]
  },
  {
   "cell_type": "markdown",
   "metadata": {},
   "source": [
    "#### Un valor para múltiples variables"
   ]
  },
  {
   "cell_type": "code",
   "execution_count": 59,
   "metadata": {},
   "outputs": [
    {
     "name": "stdout",
     "output_type": "stream",
     "text": [
      "Orange\n",
      "Banana\n",
      "Orange\n"
     ]
    }
   ],
   "source": [
    "x = Y = z = \"Orange\"\n",
    "print(x)\n",
    "print(y)\n",
    "print(z)"
   ]
  },
  {
   "cell_type": "markdown",
   "metadata": {},
   "source": [
    "#### Desempaquetar una colección"
   ]
  },
  {
   "cell_type": "code",
   "execution_count": 60,
   "metadata": {},
   "outputs": [
    {
     "name": "stdout",
     "output_type": "stream",
     "text": [
      "apple\n",
      "banana\n",
      "cherry\n"
     ]
    }
   ],
   "source": [
    "fruits = [\"apple\", \"banana\", \"cherry\"]\n",
    "x, y, z = fruits\n",
    "print(x)\n",
    "print(y)\n",
    "print(z)"
   ]
  },
  {
   "cell_type": "markdown",
   "metadata": {},
   "source": [
    "### Variables de salida"
   ]
  },
  {
   "cell_type": "code",
   "execution_count": 61,
   "metadata": {},
   "outputs": [
    {
     "name": "stdout",
     "output_type": "stream",
     "text": [
      "Python is awesome\n"
     ]
    }
   ],
   "source": [
    "x = \"Python is awesome\"\n",
    "print(x)"
   ]
  },
  {
   "cell_type": "code",
   "execution_count": 62,
   "metadata": {},
   "outputs": [
    {
     "name": "stdout",
     "output_type": "stream",
     "text": [
      "Python is awesome\n"
     ]
    }
   ],
   "source": [
    "x = \"Python\"\n",
    "y = \"is\"\n",
    "z = \"awesome\"\n",
    "print(x, y, z)"
   ]
  },
  {
   "cell_type": "code",
   "execution_count": 63,
   "metadata": {},
   "outputs": [
    {
     "name": "stdout",
     "output_type": "stream",
     "text": [
      "Python is awesome\n"
     ]
    }
   ],
   "source": [
    "x = \"Python \"\n",
    "y = \"is \"\n",
    "z = \"awesome\"\n",
    "print(x + y + z)"
   ]
  },
  {
   "cell_type": "markdown",
   "metadata": {},
   "source": [
    "### Global Variables"
   ]
  },
  {
   "cell_type": "code",
   "execution_count": 64,
   "metadata": {},
   "outputs": [
    {
     "name": "stdout",
     "output_type": "stream",
     "text": [
      "Python is awesome\n"
     ]
    }
   ],
   "source": [
    "x = \"awesome\"\n",
    "\n",
    "def myfunc():\n",
    "    print(\"Python is \" + x)\n",
    "\n",
    "myfunc()"
   ]
  },
  {
   "cell_type": "code",
   "execution_count": 65,
   "metadata": {},
   "outputs": [
    {
     "name": "stdout",
     "output_type": "stream",
     "text": [
      "Python is fantastic\n",
      "Python is awesome\n"
     ]
    }
   ],
   "source": [
    "x = \"awesome\"\n",
    "\n",
    "def myfunc():\n",
    "    x = \"fantastic\"\n",
    "    print(\"Python is \" + x)\n",
    "\n",
    "myfunc()\n",
    "\n",
    "print(\"Python is \" + x)\n"
   ]
  },
  {
   "cell_type": "markdown",
   "metadata": {},
   "source": [
    "#### La palabra clave mundial"
   ]
  },
  {
   "cell_type": "code",
   "execution_count": 66,
   "metadata": {},
   "outputs": [
    {
     "name": "stdout",
     "output_type": "stream",
     "text": [
      "Python is fantastic\n"
     ]
    }
   ],
   "source": [
    "def myfunc():\n",
    "    global x\n",
    "    x = \"fantastic\"\n",
    "\n",
    "myfunc()\n",
    "print(\"Python is \" + x)"
   ]
  },
  {
   "cell_type": "code",
   "execution_count": 67,
   "metadata": {},
   "outputs": [
    {
     "name": "stdout",
     "output_type": "stream",
     "text": [
      "Python is fantastic\n"
     ]
    }
   ],
   "source": [
    "x = \"awesome\"\n",
    "\n",
    "def myfunc():\n",
    "    global x\n",
    "    x = \"fantastic\"\n",
    "\n",
    "myfunc()\n",
    "\n",
    "print(\"Python is \"+ x)"
   ]
  },
  {
   "cell_type": "markdown",
   "metadata": {},
   "source": [
    "## Tipos de datos de python"
   ]
  },
  {
   "cell_type": "markdown",
   "metadata": {},
   "source": [
    "### tipos de datos incorporados"
   ]
  },
  {
   "cell_type": "markdown",
   "metadata": {},
   "source": [
    "Tipos de datos incorporados\n",
    "En programación, el tipo de datos es un concepto importante.\n",
    "\n",
    "Las variables pueden almacenar datos de diferentes tipos, y diferentes tipos pueden hacer cosas diferentes.\n",
    "\n",
    "Python tiene los siguientes tipos de datos integrados de forma predeterminada, en estas categorías:\n",
    "\n",
    "Tipo de texto:\tstr.\n",
    "\n",
    "Tipos numéricos:\tint, float, complex.\n",
    "\n",
    "Tipos de secuencia:\tlist, tuple, range.\n",
    "\n",
    "Tipo de mapeo:\tdict.\n",
    "\n",
    "Establecer tipos:\tset,frozenset.\n",
    "\n",
    "Tipo booleano:\tbool.\n",
    "\n",
    "Tipos binarios:\tbytes, bytearray, memoryview.\n",
    "\n",
    "Ninguno Tipo:\tNoneType."
   ]
  },
  {
   "cell_type": "markdown",
   "metadata": {},
   "source": [
    "### Obtener el tipo de datos\n",
    "\n",
    "Puede obtener el tipo de datos de cualquier objeto utilizando la `type()`función:"
   ]
  },
  {
   "cell_type": "code",
   "execution_count": 68,
   "metadata": {},
   "outputs": [
    {
     "name": "stdout",
     "output_type": "stream",
     "text": [
      "<class 'int'>\n"
     ]
    }
   ],
   "source": [
    "x = 5\n",
    "print(type(x))"
   ]
  },
  {
   "cell_type": "markdown",
   "metadata": {},
   "source": [
    "### Configuración del tipo de datos"
   ]
  },
  {
   "cell_type": "code",
   "execution_count": 69,
   "metadata": {},
   "outputs": [
    {
     "name": "stdout",
     "output_type": "stream",
     "text": [
      "Hello World\n",
      "<class 'str'>\n"
     ]
    }
   ],
   "source": [
    "x = \"Hello World\"\n",
    "\n",
    "#display x:\n",
    "print(x)\n",
    "\n",
    "#display the data type of x:\n",
    "print(type(x)) "
   ]
  },
  {
   "cell_type": "code",
   "execution_count": 70,
   "metadata": {},
   "outputs": [
    {
     "name": "stdout",
     "output_type": "stream",
     "text": [
      "20\n",
      "<class 'int'>\n"
     ]
    }
   ],
   "source": [
    "x = 20\n",
    "\n",
    "#display x:\n",
    "print(x)\n",
    "\n",
    "#display the data type of x:\n",
    "print(type(x)) "
   ]
  },
  {
   "cell_type": "code",
   "execution_count": 71,
   "metadata": {},
   "outputs": [
    {
     "name": "stdout",
     "output_type": "stream",
     "text": [
      "20.5\n",
      "<class 'float'>\n"
     ]
    }
   ],
   "source": [
    "x = 20.5\n",
    "\n",
    "print(x)\n",
    "\n",
    "print(type(x)) "
   ]
  },
  {
   "cell_type": "code",
   "execution_count": 72,
   "metadata": {},
   "outputs": [
    {
     "name": "stdout",
     "output_type": "stream",
     "text": [
      "1j\n",
      "<class 'complex'>\n"
     ]
    }
   ],
   "source": [
    "x = 1j\n",
    "\n",
    "print(x)\n",
    "\n",
    "print(type(x)) "
   ]
  },
  {
   "cell_type": "code",
   "execution_count": 73,
   "metadata": {},
   "outputs": [
    {
     "name": "stdout",
     "output_type": "stream",
     "text": [
      "['Apple', 'Banana', 'Cherry']\n",
      "<class 'list'>\n"
     ]
    }
   ],
   "source": [
    "x = [\"Apple\",\"Banana\", \"Cherry\"]\n",
    "\n",
    "print(x)\n",
    "\n",
    "print(type(x)) "
   ]
  },
  {
   "cell_type": "code",
   "execution_count": 74,
   "metadata": {},
   "outputs": [
    {
     "name": "stdout",
     "output_type": "stream",
     "text": [
      "('Apple', 'Banana', 'Cherry')\n",
      "<class 'tuple'>\n"
     ]
    }
   ],
   "source": [
    "x = (\"Apple\",\"Banana\", \"Cherry\")\n",
    "\n",
    "print(x)\n",
    "\n",
    "print(type(x)) "
   ]
  },
  {
   "cell_type": "code",
   "execution_count": 75,
   "metadata": {},
   "outputs": [
    {
     "name": "stdout",
     "output_type": "stream",
     "text": [
      "range(0, 6)\n",
      "<class 'range'>\n"
     ]
    }
   ],
   "source": [
    "x = range(6)\n",
    "\n",
    "print(x)\n",
    "\n",
    "print(type(x)) "
   ]
  },
  {
   "cell_type": "code",
   "execution_count": 76,
   "metadata": {},
   "outputs": [
    {
     "name": "stdout",
     "output_type": "stream",
     "text": [
      "{'name': 'John', 'age': 36}\n",
      "<class 'dict'>\n"
     ]
    }
   ],
   "source": [
    "x = {\"name\": \"John\", \"age\":36}\n",
    "\n",
    "print(x)\n",
    "\n",
    "print(type(x)) "
   ]
  },
  {
   "cell_type": "code",
   "execution_count": 77,
   "metadata": {},
   "outputs": [
    {
     "name": "stdout",
     "output_type": "stream",
     "text": [
      "{'Cherry', 'Banana', 'Apple'}\n",
      "<class 'set'>\n"
     ]
    }
   ],
   "source": [
    "x = {\"Apple\",\"Banana\", \"Cherry\"}\n",
    "\n",
    "print(x)\n",
    "\n",
    "print(type(x)) "
   ]
  },
  {
   "cell_type": "code",
   "execution_count": 78,
   "metadata": {},
   "outputs": [
    {
     "name": "stdout",
     "output_type": "stream",
     "text": [
      "frozenset({'Cherry', 'Banana', 'Apple'})\n",
      "<class 'frozenset'>\n"
     ]
    }
   ],
   "source": [
    "x = frozenset({\"Apple\",\"Banana\", \"Cherry\"})\n",
    "print(x)\n",
    "\n",
    "print(type(x)) "
   ]
  },
  {
   "cell_type": "code",
   "execution_count": 79,
   "metadata": {},
   "outputs": [
    {
     "name": "stdout",
     "output_type": "stream",
     "text": [
      "True\n",
      "<class 'bool'>\n"
     ]
    }
   ],
   "source": [
    "x = True\n",
    "\n",
    "print(x)\n",
    "\n",
    "print(type(x)) "
   ]
  },
  {
   "cell_type": "code",
   "execution_count": 80,
   "metadata": {},
   "outputs": [
    {
     "name": "stdout",
     "output_type": "stream",
     "text": [
      "b'Hello'\n",
      "<class 'bytes'>\n"
     ]
    }
   ],
   "source": [
    "x = b\"Hello\"\n",
    "print(x)\n",
    "\n",
    "print(type(x)) "
   ]
  },
  {
   "cell_type": "code",
   "execution_count": 81,
   "metadata": {},
   "outputs": [
    {
     "name": "stdout",
     "output_type": "stream",
     "text": [
      "bytearray(b'\\x00\\x00\\x00\\x00\\x00')\n",
      "<class 'bytearray'>\n"
     ]
    }
   ],
   "source": [
    "x = bytearray(5)\n",
    "\n",
    "print(x)\n",
    "\n",
    "print(type(x)) "
   ]
  },
  {
   "cell_type": "code",
   "execution_count": 82,
   "metadata": {},
   "outputs": [
    {
     "name": "stdout",
     "output_type": "stream",
     "text": [
      "<memory at 0x0000020BD1862980>\n",
      "<class 'memoryview'>\n"
     ]
    }
   ],
   "source": [
    "x = memoryview(bytes(5))\n",
    "\n",
    "print(x)\n",
    "\n",
    "print(type(x)) "
   ]
  },
  {
   "cell_type": "code",
   "execution_count": 83,
   "metadata": {},
   "outputs": [
    {
     "name": "stdout",
     "output_type": "stream",
     "text": [
      "None\n",
      "<class 'NoneType'>\n"
     ]
    }
   ],
   "source": [
    "x = None\n",
    "\n",
    "print(x)\n",
    "\n",
    "print(type(x)) "
   ]
  },
  {
   "cell_type": "markdown",
   "metadata": {},
   "source": [
    "### Configuración del tipo de datos específico\n",
    "Si desea especificar el tipo de datos, puede utilizar las siguientes funciones de construcción:"
   ]
  },
  {
   "cell_type": "code",
   "execution_count": 84,
   "metadata": {},
   "outputs": [
    {
     "name": "stdout",
     "output_type": "stream",
     "text": [
      "Hello World\n",
      "<class 'str'>\n"
     ]
    }
   ],
   "source": [
    "x = str(\"Hello World\")\n",
    "\n",
    "#display x:\n",
    "print(x)\n",
    "\n",
    "#display the data type of x:\n",
    "print(type(x)) "
   ]
  },
  {
   "cell_type": "code",
   "execution_count": 85,
   "metadata": {},
   "outputs": [
    {
     "name": "stdout",
     "output_type": "stream",
     "text": [
      "20\n",
      "<class 'int'>\n"
     ]
    }
   ],
   "source": [
    "x = int(20)\n",
    "\n",
    "#display x:\n",
    "print(x)\n",
    "\n",
    "#display the data type of x:\n",
    "print(type(x)) "
   ]
  },
  {
   "cell_type": "code",
   "execution_count": 86,
   "metadata": {},
   "outputs": [
    {
     "name": "stdout",
     "output_type": "stream",
     "text": [
      "20.5\n",
      "<class 'float'>\n"
     ]
    }
   ],
   "source": [
    "x = float(20.5)\n",
    "\n",
    "#display x:\n",
    "print(x)\n",
    "\n",
    "#display the data type of x:\n",
    "print(type(x)) "
   ]
  },
  {
   "cell_type": "code",
   "execution_count": 87,
   "metadata": {},
   "outputs": [
    {
     "name": "stdout",
     "output_type": "stream",
     "text": [
      "1j\n",
      "<class 'complex'>\n"
     ]
    }
   ],
   "source": [
    "x = complex(1j)\n",
    "\n",
    "#display x:\n",
    "print(x)\n",
    "\n",
    "#display the data type of x:\n",
    "print(type(x)) "
   ]
  },
  {
   "cell_type": "code",
   "execution_count": 88,
   "metadata": {},
   "outputs": [
    {
     "name": "stdout",
     "output_type": "stream",
     "text": [
      "['Apple', 'Banana', 'Cherry']\n",
      "<class 'list'>\n"
     ]
    }
   ],
   "source": [
    "x = list((\"Apple\", \"Banana\", \"Cherry\"))\n",
    "\n",
    "#display x:\n",
    "print(x)\n",
    "\n",
    "#display the data type of x:\n",
    "print(type(x)) "
   ]
  },
  {
   "cell_type": "code",
   "execution_count": 89,
   "metadata": {},
   "outputs": [
    {
     "name": "stdout",
     "output_type": "stream",
     "text": [
      "('Apple', 'Banana', 'Cherry')\n",
      "<class 'tuple'>\n"
     ]
    }
   ],
   "source": [
    "x = tuple((\"Apple\", \"Banana\", \"Cherry\"))\n",
    "\n",
    "#display x:\n",
    "print(x)\n",
    "\n",
    "#display the data type of x:\n",
    "print(type(x)) "
   ]
  },
  {
   "cell_type": "code",
   "execution_count": 90,
   "metadata": {},
   "outputs": [
    {
     "name": "stdout",
     "output_type": "stream",
     "text": [
      "range(0, 6)\n",
      "<class 'range'>\n"
     ]
    }
   ],
   "source": [
    "x = range(6)\n",
    "\n",
    "#display x:\n",
    "print(x)\n",
    "\n",
    "#display the data type of x:\n",
    "print(type(x)) "
   ]
  },
  {
   "cell_type": "code",
   "execution_count": 91,
   "metadata": {},
   "outputs": [
    {
     "name": "stdout",
     "output_type": "stream",
     "text": [
      "{'name': 'John', 'Age': 36}\n",
      "<class 'dict'>\n"
     ]
    }
   ],
   "source": [
    "x = dict(name = \"John\", Age = 36)\n",
    "\n",
    "#display x:\n",
    "print(x)\n",
    "\n",
    "#display the data type of x:\n",
    "print(type(x)) "
   ]
  },
  {
   "cell_type": "code",
   "execution_count": 92,
   "metadata": {},
   "outputs": [
    {
     "name": "stdout",
     "output_type": "stream",
     "text": [
      "{'Cherry', 'Banana', 'Apple'}\n",
      "<class 'set'>\n"
     ]
    }
   ],
   "source": [
    "x = set((\"Apple\", \"Banana\",\"Cherry\"))\n",
    "\n",
    "#display x:\n",
    "print(x)\n",
    "\n",
    "#display the data type of x:\n",
    "print(type(x)) "
   ]
  },
  {
   "cell_type": "code",
   "execution_count": 93,
   "metadata": {},
   "outputs": [
    {
     "name": "stdout",
     "output_type": "stream",
     "text": [
      "frozenset({'Cherry', 'Banana', 'Apple'})\n",
      "<class 'frozenset'>\n"
     ]
    }
   ],
   "source": [
    "x = frozenset((\"Apple\", \"Banana\", \"Cherry\"))\n",
    "\n",
    "#display x:\n",
    "print(x)\n",
    "\n",
    "#display the data type of x:\n",
    "print(type(x)) "
   ]
  },
  {
   "cell_type": "code",
   "execution_count": 94,
   "metadata": {},
   "outputs": [
    {
     "name": "stdout",
     "output_type": "stream",
     "text": [
      "True\n",
      "<class 'bool'>\n"
     ]
    }
   ],
   "source": [
    "x = bool(5)\n",
    "\n",
    "#display x:\n",
    "print(x)\n",
    "\n",
    "#display the data type of x:\n",
    "print(type(x)) "
   ]
  },
  {
   "cell_type": "code",
   "execution_count": 95,
   "metadata": {},
   "outputs": [
    {
     "name": "stdout",
     "output_type": "stream",
     "text": [
      "b'\\x00\\x00\\x00\\x00\\x00'\n",
      "<class 'bytes'>\n"
     ]
    }
   ],
   "source": [
    "x = bytes(5)\n",
    "\n",
    "#display x:\n",
    "print(x)\n",
    "\n",
    "#display the data type of x:\n",
    "print(type(x)) "
   ]
  },
  {
   "cell_type": "code",
   "execution_count": 96,
   "metadata": {},
   "outputs": [
    {
     "name": "stdout",
     "output_type": "stream",
     "text": [
      "bytearray(b'\\x00\\x00\\x00\\x00\\x00')\n",
      "<class 'bytearray'>\n"
     ]
    }
   ],
   "source": [
    "x = bytearray(5)\n",
    "\n",
    "#display x:\n",
    "print(x)\n",
    "\n",
    "#display the data type of x:\n",
    "print(type(x)) "
   ]
  },
  {
   "cell_type": "code",
   "execution_count": 97,
   "metadata": {},
   "outputs": [
    {
     "name": "stdout",
     "output_type": "stream",
     "text": [
      "<memory at 0x0000020BD1DE2E00>\n",
      "<class 'memoryview'>\n"
     ]
    }
   ],
   "source": [
    "x = memoryview(bytes(5))\n",
    "\n",
    "#display x:\n",
    "print(x)\n",
    "\n",
    "#display the data type of x:\n",
    "print(type(x)) "
   ]
  },
  {
   "cell_type": "markdown",
   "metadata": {},
   "source": [
    "### Númerps de Python\n",
    "\n",
    "Hay tres tipos numéricos en Python:\n",
    "\n",
    "- int\n",
    "- float\n",
    "- complex\n",
    "\n",
    "Las variables de tipo numérico se crean cuando les asignas un valor:"
   ]
  },
  {
   "cell_type": "code",
   "execution_count": 98,
   "metadata": {},
   "outputs": [
    {
     "name": "stdout",
     "output_type": "stream",
     "text": [
      "<class 'int'>\n",
      "<class 'float'>\n",
      "<class 'complex'>\n"
     ]
    }
   ],
   "source": [
    "x = 1\n",
    "y = 2.5\n",
    "z = 1j\n",
    "\n",
    "print(type(x))\n",
    "print(type(y))\n",
    "print(type(z))"
   ]
  },
  {
   "cell_type": "markdown",
   "metadata": {},
   "source": [
    "### Int\n",
    "\n",
    "Int, o entero, es un número entero, positivo o negativo, sin decimales, de longitud ilimitada."
   ]
  },
  {
   "cell_type": "code",
   "execution_count": 99,
   "metadata": {},
   "outputs": [
    {
     "name": "stdout",
     "output_type": "stream",
     "text": [
      "<class 'int'>\n",
      "<class 'int'>\n",
      "<class 'int'>\n"
     ]
    }
   ],
   "source": [
    "x = 1\n",
    "y = 32156647895\n",
    "z = -3215484\n",
    "print(type(x))\n",
    "print(type(y))\n",
    "print(type(z))"
   ]
  },
  {
   "cell_type": "markdown",
   "metadata": {},
   "source": [
    "### Float\n",
    "\n",
    "Flotante, o \"número de punto flotante\" es un número, positivo o negativo, que contiene uno o más decimales."
   ]
  },
  {
   "cell_type": "code",
   "execution_count": 100,
   "metadata": {},
   "outputs": [
    {
     "name": "stdout",
     "output_type": "stream",
     "text": [
      "<class 'float'>\n",
      "<class 'float'>\n",
      "<class 'float'>\n"
     ]
    }
   ],
   "source": [
    "x = 1.10\n",
    "y = 1.0\n",
    "z = -35.59\n",
    "print(type(x))\n",
    "print(type(y))\n",
    "print(type(z))"
   ]
  },
  {
   "cell_type": "markdown",
   "metadata": {},
   "source": [
    "El flotador también puede ser un número científico con una \"e\" para indicar la potencia de 10."
   ]
  },
  {
   "cell_type": "code",
   "execution_count": 101,
   "metadata": {},
   "outputs": [
    {
     "name": "stdout",
     "output_type": "stream",
     "text": [
      "<class 'float'>\n",
      "<class 'float'>\n",
      "<class 'float'>\n"
     ]
    }
   ],
   "source": [
    "x = 35e3\n",
    "y = 12E4\n",
    "z = -87.7e100\n",
    "\n",
    "print(type(x))\n",
    "print(type(y))\n",
    "print(type(z))"
   ]
  },
  {
   "cell_type": "markdown",
   "metadata": {},
   "source": [
    "### Complejo\n",
    "Los números complejos se escriben con una \"j\" como parte imaginaria:"
   ]
  },
  {
   "cell_type": "code",
   "execution_count": 102,
   "metadata": {},
   "outputs": [
    {
     "name": "stdout",
     "output_type": "stream",
     "text": [
      "<class 'complex'>\n",
      "<class 'complex'>\n",
      "<class 'complex'>\n"
     ]
    }
   ],
   "source": [
    "x = 3+5j\n",
    "y = 5j\n",
    "z = -5j\n",
    "\n",
    "print(type(x))\n",
    "print(type(y))\n",
    "print(type(z))"
   ]
  },
  {
   "cell_type": "markdown",
   "metadata": {},
   "source": [
    "### Conversión de tipo\n",
    "Puede convertir de un tipo a otro con los métodos `int()`, `float()` y : `complex()`"
   ]
  },
  {
   "cell_type": "code",
   "execution_count": 103,
   "metadata": {},
   "outputs": [
    {
     "name": "stdout",
     "output_type": "stream",
     "text": [
      "1.0\n",
      "2\n",
      "(1+0j)\n",
      "<class 'float'>\n",
      "<class 'int'>\n",
      "<class 'complex'>\n"
     ]
    }
   ],
   "source": [
    "x = 1    # int\n",
    "y = 2.8  # float\n",
    "z = 1j   # complex\n",
    "\n",
    "#convert from int to float:\n",
    "a = float(x)\n",
    "\n",
    "#convert from float to int:\n",
    "b = int(y)\n",
    "\n",
    "#convert from int to complex:\n",
    "c = complex(x)\n",
    "\n",
    "print(a)\n",
    "print(b)\n",
    "print(c)\n",
    "\n",
    "print(type(a))\n",
    "print(type(b))\n",
    "print(type(c))"
   ]
  },
  {
   "cell_type": "markdown",
   "metadata": {},
   "source": [
    "### Número aleatorio\n",
    "Python no tiene una `random()`función para hacer un número aleatorio, pero Python tiene un módulo integrado llamado `random` que se puede usar para hacer números aleatorios:"
   ]
  },
  {
   "cell_type": "code",
   "execution_count": 104,
   "metadata": {},
   "outputs": [
    {
     "name": "stdout",
     "output_type": "stream",
     "text": [
      "7\n"
     ]
    }
   ],
   "source": [
    "import random\n",
    "\n",
    "print(random.randrange(1, 10))"
   ]
  },
  {
   "cell_type": "markdown",
   "metadata": {},
   "source": [
    "### Fundición de Python\n",
    "\n",
    "#### Especificar un tipo de variable\n",
    "Puede haber ocasiones en las que desee especificar un tipo en una variable. Esto se puede hacer con fundición. Python es un lenguaje orientado a objetos y, como tal, utiliza clases para definir tipos de datos, incluidos sus tipos primitivos.\n",
    "\n",
    "Por lo tanto, la conversión en python se realiza mediante funciones de constructor:\n",
    "\n",
    "- **int()** : construye un número entero a partir de un literal entero, un literal flotante (eliminando todos los decimales) o un literal de cadena (siempre que la cadena represente un número entero)\n",
    "- **float()** : construye un número flotante a partir de un literal entero, un literal flotante o un literal de cadena (siempre que la cadena represente un flotante o un entero)\n",
    "- **str()** : construye una cadena a partir de una amplia variedad de tipos de datos, incluidas cadenas, literales enteros y literales flotantes"
   ]
  },
  {
   "cell_type": "code",
   "execution_count": 105,
   "metadata": {},
   "outputs": [
    {
     "name": "stdout",
     "output_type": "stream",
     "text": [
      "1\n",
      "2\n",
      "3\n"
     ]
    }
   ],
   "source": [
    "# int\n",
    "\n",
    "x = int(1)\n",
    "y = int(2.5)\n",
    "z = int(\"3\")\n",
    "\n",
    "print(x)\n",
    "print(y)\n",
    "print(z)"
   ]
  },
  {
   "cell_type": "code",
   "execution_count": 106,
   "metadata": {},
   "outputs": [
    {
     "name": "stdout",
     "output_type": "stream",
     "text": [
      "1.0\n",
      "2.8\n",
      "3.0\n",
      "4.2\n"
     ]
    }
   ],
   "source": [
    "# Float\n",
    "\n",
    "x = float(1)\n",
    "y = float(2.8)\n",
    "z = float(\"3\")\n",
    "w = float(\"4.2\")\n",
    "\n",
    "print(x)\n",
    "print(y)\n",
    "print(z)\n",
    "print(w)"
   ]
  },
  {
   "cell_type": "code",
   "execution_count": 107,
   "metadata": {},
   "outputs": [],
   "source": [
    "x = str(\"s1\")\n",
    "y = str(2)\n",
    "z = str(3.0)"
   ]
  },
  {
   "cell_type": "markdown",
   "metadata": {},
   "source": [
    "### Cadena de Python\n",
    "\n",
    "#### Instrumentos de cuerda\n",
    "Las cadenas en python están entre comillas simples o comillas dobles.\n",
    "\n",
    "`'hola'` es lo mismo que `'hola'`.\n",
    "\n",
    "Puede mostrar un literal de cadena con la `print()` función:"
   ]
  },
  {
   "cell_type": "code",
   "execution_count": 108,
   "metadata": {},
   "outputs": [
    {
     "name": "stdout",
     "output_type": "stream",
     "text": [
      "hello\n",
      "Hello\n"
     ]
    }
   ],
   "source": [
    "print(\"hello\")\n",
    "print('Hello')"
   ]
  },
  {
   "cell_type": "markdown",
   "metadata": {},
   "source": [
    "#### Asignar cadena a una variable\n",
    "La asignación de una cadena a una variable se realiza con el nombre de la variable seguido de un signo igual y la cadena:"
   ]
  },
  {
   "cell_type": "code",
   "execution_count": 109,
   "metadata": {},
   "outputs": [
    {
     "name": "stdout",
     "output_type": "stream",
     "text": [
      "Helo\n"
     ]
    }
   ],
   "source": [
    "a = \"Helo\"\n",
    "print(a)"
   ]
  },
  {
   "cell_type": "markdown",
   "metadata": {},
   "source": [
    "#### Cadenas multilínea\n",
    "Puede asignar una cadena de varias líneas a una variable usando tres comillas:"
   ]
  },
  {
   "cell_type": "code",
   "execution_count": 110,
   "metadata": {},
   "outputs": [
    {
     "name": "stdout",
     "output_type": "stream",
     "text": [
      "Lorem ipsum dolor sit amet,\n",
      "consectetur adipiscing elit,\n",
      "sed do eiusmod tempor incididunt\n",
      "ut labore et dolore magna aliqua.\n"
     ]
    }
   ],
   "source": [
    "a = \"\"\"Lorem ipsum dolor sit amet,\n",
    "consectetur adipiscing elit,\n",
    "sed do eiusmod tempor incididunt\n",
    "ut labore et dolore magna aliqua.\"\"\"\n",
    "print(a)"
   ]
  },
  {
   "cell_type": "markdown",
   "metadata": {},
   "source": [
    "O tres comillas simples:"
   ]
  },
  {
   "cell_type": "code",
   "execution_count": 111,
   "metadata": {},
   "outputs": [
    {
     "name": "stdout",
     "output_type": "stream",
     "text": [
      "Lorem ipsum dolor sit amet,\n",
      "consectetur adipiscing elit,\n",
      "sed do eiusmod tempor incididunt\n",
      "ut labore et dolore magna aliqua.\n"
     ]
    }
   ],
   "source": [
    "a = '''Lorem ipsum dolor sit amet,\n",
    "consectetur adipiscing elit,\n",
    "sed do eiusmod tempor incididunt\n",
    "ut labore et dolore magna aliqua.'''\n",
    "print(a)"
   ]
  },
  {
   "cell_type": "markdown",
   "metadata": {},
   "source": [
    "#### Las cadenas son matrices\n",
    "Como muchos otros lenguajes de programación populares, las cadenas en Python son matrices de bytes que representan caracteres Unicode.\n",
    "\n",
    "Sin embargo, Python no tiene un tipo de datos de caracteres, un solo carácter es simplemente una cadena con una longitud de 1.\n",
    "\n",
    "Se pueden usar corchetes para acceder a elementos de la cadena."
   ]
  },
  {
   "cell_type": "code",
   "execution_count": 112,
   "metadata": {},
   "outputs": [
    {
     "name": "stdout",
     "output_type": "stream",
     "text": [
      "e\n"
     ]
    }
   ],
   "source": [
    "a = \"Hello, World!\"\n",
    "print(a[1])"
   ]
  },
  {
   "cell_type": "markdown",
   "metadata": {},
   "source": [
    "#### Bucle a través de una cadena\n",
    "Dado que las cadenas son matrices, podemos recorrer los caracteres de una cadena, con un `for` bucle."
   ]
  },
  {
   "cell_type": "code",
   "execution_count": 113,
   "metadata": {},
   "outputs": [
    {
     "name": "stdout",
     "output_type": "stream",
     "text": [
      "B\n",
      "a\n",
      "n\n",
      "a\n",
      "n\n",
      "a\n"
     ]
    }
   ],
   "source": [
    "for x in \"Banana\":\n",
    "    print(x)"
   ]
  },
  {
   "cell_type": "markdown",
   "metadata": {},
   "source": [
    "#### Longitud de la cuerda\n",
    "Para obtener la longitud de una cadena, use la `len()` función."
   ]
  },
  {
   "cell_type": "code",
   "execution_count": 114,
   "metadata": {},
   "outputs": [
    {
     "name": "stdout",
     "output_type": "stream",
     "text": [
      "13\n"
     ]
    }
   ],
   "source": [
    "a = \"Hello, World!\"\n",
    "print(len(a))\n"
   ]
  },
  {
   "cell_type": "markdown",
   "metadata": {},
   "source": [
    "#### Comprobar cadena\n",
    "Para verificar si una determinada frase o carácter está presente en una cadena, podemos usar la palabra clave `in`."
   ]
  },
  {
   "cell_type": "code",
   "execution_count": 115,
   "metadata": {},
   "outputs": [
    {
     "name": "stdout",
     "output_type": "stream",
     "text": [
      "True\n"
     ]
    }
   ],
   "source": [
    "txt = \"The best things in life are free!\"\n",
    "print(\"free\" in txt)"
   ]
  },
  {
   "cell_type": "markdown",
   "metadata": {},
   "source": [
    "Úselo en una `if` declaración:"
   ]
  },
  {
   "cell_type": "code",
   "execution_count": 116,
   "metadata": {},
   "outputs": [
    {
     "name": "stdout",
     "output_type": "stream",
     "text": [
      "Yes, 'free' is present.\n"
     ]
    }
   ],
   "source": [
    "txt = \"The best things in life are free!\"\n",
    "if \"free\" in txt:\n",
    "  print(\"Yes, 'free' is present.\")"
   ]
  },
  {
   "cell_type": "markdown",
   "metadata": {},
   "source": [
    "#### Marque si NO\n",
    "Para verificar si una determinada frase o carácter NO está presente en una cadena, podemos usar la palabra clave `not in`."
   ]
  },
  {
   "cell_type": "code",
   "execution_count": 117,
   "metadata": {},
   "outputs": [
    {
     "name": "stdout",
     "output_type": "stream",
     "text": [
      "True\n"
     ]
    }
   ],
   "source": [
    "txt = \"The best things in life are free!\"\n",
    "print(\"expensive\" not in txt)"
   ]
  },
  {
   "cell_type": "markdown",
   "metadata": {},
   "source": [
    "Úselo en una `if` declaración:"
   ]
  },
  {
   "cell_type": "code",
   "execution_count": 118,
   "metadata": {},
   "outputs": [
    {
     "name": "stdout",
     "output_type": "stream",
     "text": [
      "No, 'expensive' is NOT present.\n"
     ]
    }
   ],
   "source": [
    "txt = \"The best things in life are free!\"\n",
    "if \"expensive\" not in txt:\n",
    "  print(\"No, 'expensive' is NOT present.\")"
   ]
  },
  {
   "cell_type": "markdown",
   "metadata": {},
   "source": [
    "### Python - Cortar cadenas\n",
    "\n",
    "#### rebanar\n",
    "Puede devolver un rango de caracteres utilizando la sintaxis de división.\n",
    "\n",
    "Especifique el índice inicial y el índice final, separados por dos puntos, para devolver una parte de la cadena."
   ]
  },
  {
   "cell_type": "code",
   "execution_count": 1,
   "metadata": {},
   "outputs": [
    {
     "name": "stdout",
     "output_type": "stream",
     "text": [
      "llo\n"
     ]
    }
   ],
   "source": [
    "b = \"Hello, World!\"\n",
    "print(b[2:5])"
   ]
  },
  {
   "cell_type": "markdown",
   "metadata": {},
   "source": [
    "### Cortar desde el principio\n",
    "Al omitir el índice de inicio, el rango comenzará en el primer carácter:"
   ]
  },
  {
   "cell_type": "code",
   "execution_count": 3,
   "metadata": {},
   "outputs": [
    {
     "name": "stdout",
     "output_type": "stream",
     "text": [
      "Hello\n"
     ]
    }
   ],
   "source": [
    "b = \"Hello, World!\"\n",
    "print(b[:5])"
   ]
  },
  {
   "cell_type": "markdown",
   "metadata": {},
   "source": [
    "### Cortar hasta el final\n",
    "Al omitir el índice final , el rango irá hasta el final:"
   ]
  },
  {
   "cell_type": "code",
   "execution_count": 4,
   "metadata": {},
   "outputs": [
    {
     "name": "stdout",
     "output_type": "stream",
     "text": [
      "llo, World!\n"
     ]
    }
   ],
   "source": [
    "b = \"Hello, World!\"\n",
    "print(b[2:])"
   ]
  },
  {
   "cell_type": "markdown",
   "metadata": {},
   "source": [
    "### Indexación negativa\n",
    "Utilice índices negativos para iniciar el segmento desde el final de la cadena:"
   ]
  },
  {
   "cell_type": "code",
   "execution_count": 10,
   "metadata": {},
   "outputs": [
    {
     "name": "stdout",
     "output_type": "stream",
     "text": [
      "orl\n"
     ]
    }
   ],
   "source": [
    "b = \"Hello, World!\"\n",
    "print(b[-5:-2])"
   ]
  },
  {
   "cell_type": "markdown",
   "metadata": {},
   "source": [
    "### Python - Modificar cadenas\n",
    "Python tiene un conjunto de métodos integrados que puede usar en cadenas.\n",
    "\n"
   ]
  },
  {
   "cell_type": "markdown",
   "metadata": {},
   "source": [
    "#### Mayúsculas\n",
    "El `upper()`método devuelve la cadena en mayúsculas:"
   ]
  },
  {
   "cell_type": "code",
   "execution_count": 123,
   "metadata": {},
   "outputs": [
    {
     "name": "stdout",
     "output_type": "stream",
     "text": [
      "HELLO, WORLD!\n"
     ]
    }
   ],
   "source": [
    "a = \"Hello, World!\"\n",
    "print(a.upper())"
   ]
  },
  {
   "cell_type": "markdown",
   "metadata": {},
   "source": [
    "### Minúscula\n",
    "El `lower()`método devuelve la cadena en minúsculas:"
   ]
  },
  {
   "cell_type": "code",
   "execution_count": 124,
   "metadata": {},
   "outputs": [
    {
     "name": "stdout",
     "output_type": "stream",
     "text": [
      "hello, world!\n"
     ]
    }
   ],
   "source": [
    "a = \"Hello, World!\"\n",
    "print(a.lower())"
   ]
  },
  {
   "cell_type": "markdown",
   "metadata": {},
   "source": [
    "### Eliminar espacios en blanco\n",
    "El espacio en blanco es el espacio antes y/o después del texto real, y muy a menudo desea eliminar este espacio.\n",
    "\n",
    "El `strip()` método elimina cualquier espacio en blanco desde el principio o el final:"
   ]
  },
  {
   "cell_type": "code",
   "execution_count": 126,
   "metadata": {},
   "outputs": [
    {
     "name": "stdout",
     "output_type": "stream",
     "text": [
      "Hello, World!\n"
     ]
    }
   ],
   "source": [
    "a = \"  Hello, World!\"\n",
    "print(a.strip())\n",
    "# returns \"Hello, World!\""
   ]
  },
  {
   "cell_type": "markdown",
   "metadata": {},
   "source": [
    "### Reemplazar cadena\n",
    "El `replace()` método reemplaza una cadena con otra cadena:"
   ]
  },
  {
   "cell_type": "code",
   "execution_count": 11,
   "metadata": {},
   "outputs": [
    {
     "name": "stdout",
     "output_type": "stream",
     "text": [
      "Jello, World!\n"
     ]
    }
   ],
   "source": [
    "a = \"Hello, World!\"\n",
    "print(a.replace(\"H\", \"J\"))"
   ]
  },
  {
   "cell_type": "markdown",
   "metadata": {},
   "source": [
    "### Cadena dividida\n",
    "El `split()` método devuelve una lista donde el texto entre el separador especificado se convierte en los elementos de la lista.\n",
    "\n",
    "El `split()` método divide la cadena en subcadenas si encuentra instancias del separador:"
   ]
  },
  {
   "cell_type": "code",
   "execution_count": 14,
   "metadata": {},
   "outputs": [
    {
     "name": "stdout",
     "output_type": "stream",
     "text": [
      "['Hello', 'World!']\n"
     ]
    }
   ],
   "source": [
    "a = \"Hello, World!\"\n",
    "print(a.split(\", \")) # returns ['Hello', ' World!']"
   ]
  },
  {
   "cell_type": "markdown",
   "metadata": {},
   "source": [
    "### Concatenación de cadenas\n",
    "\n",
    "Para concatenar o combinar dos cadenas, puede usar el operador +.\n",
    "\n",
    "Combinar variable `a` con variable `b` en variable `c`:"
   ]
  },
  {
   "cell_type": "code",
   "execution_count": 133,
   "metadata": {},
   "outputs": [
    {
     "name": "stdout",
     "output_type": "stream",
     "text": [
      "HelloWorld\n"
     ]
    }
   ],
   "source": [
    "a = \"Hello\"\n",
    "b = \"World\"\n",
    "c = a + b\n",
    "print(c)"
   ]
  },
  {
   "cell_type": "markdown",
   "metadata": {},
   "source": [
    "Para agregar un espacio entre ellos, agregue un `\" \"`:"
   ]
  },
  {
   "cell_type": "code",
   "execution_count": 137,
   "metadata": {},
   "outputs": [
    {
     "name": "stdout",
     "output_type": "stream",
     "text": [
      "HelloWorld\n"
     ]
    }
   ],
   "source": [
    "a = \"Hello\"\n",
    "b = \"World\"\n",
    "c = a + \" \" + b\n",
    "print(c)"
   ]
  },
  {
   "cell_type": "markdown",
   "metadata": {},
   "source": [
    "### Python - Formato - Cadenas\n",
    "#### Formato de cadena\n",
    "Como aprendimos en el capítulo Variables de Python, no podemos combinar cadenas y números como este:"
   ]
  },
  {
   "cell_type": "markdown",
   "metadata": {},
   "source": [
    "¡Pero podemos combinar cadenas y números usando el `format()` método!\n",
    "\n",
    "El `format()` método toma los argumentos pasados, les da formato y los coloca en la cadena donde `{}` están los marcadores de posición:\n",
    "Use el `format()` método para insertar números en cadenas:"
   ]
  },
  {
   "cell_type": "code",
   "execution_count": 15,
   "metadata": {},
   "outputs": [
    {
     "name": "stdout",
     "output_type": "stream",
     "text": [
      "My name is John, and I am 36\n"
     ]
    }
   ],
   "source": [
    "age = 36\n",
    "txt = \"My name is John, and I am {}\"\n",
    "print(txt.format(age))"
   ]
  },
  {
   "cell_type": "markdown",
   "metadata": {},
   "source": [
    "El método ``format()`` toma un número ilimitado de argumentos y se colocan en los marcadores de posición respectivos:"
   ]
  },
  {
   "cell_type": "code",
   "execution_count": 16,
   "metadata": {},
   "outputs": [
    {
     "name": "stdout",
     "output_type": "stream",
     "text": [
      "I want 3 pieces of item 567 for 49.95 dollars.\n"
     ]
    }
   ],
   "source": [
    "quantity = 3\n",
    "itemno = 567\n",
    "price = 49.95\n",
    "myorder = \"I want {} pieces of item {} for {} dollars.\"\n",
    "print(myorder.format(quantity, itemno, price))"
   ]
  },
  {
   "cell_type": "markdown",
   "metadata": {},
   "source": [
    "Puede usar números de índice `{0}` para asegurarse de que los argumentos se colocan en los marcadores de posición correctos:"
   ]
  },
  {
   "cell_type": "code",
   "execution_count": 17,
   "metadata": {},
   "outputs": [
    {
     "name": "stdout",
     "output_type": "stream",
     "text": [
      "I want to pay 49.95 dollars for 3 pieces of item 567.\n"
     ]
    }
   ],
   "source": [
    "quantity = 3\n",
    "itemno = 567\n",
    "price = 49.95\n",
    "myorder = \"I want to pay {2} dollars for {0} pieces of item {1}.\"\n",
    "print(myorder.format(quantity, itemno, price))"
   ]
  },
  {
   "cell_type": "markdown",
   "metadata": {},
   "source": [
    "### Python - Caracteres de escape\n",
    "#### Personaje de escape\n",
    "Para insertar caracteres que no son válidos en una cadena, utilice un carácter de escape.\n",
    "\n",
    "Un carácter de escape es una barra invertida `\\` seguida del carácter que desea insertar.\n",
    "\n",
    "Un ejemplo de un carácter ilegal es una comilla doble dentro de una cadena que está entre comillas dobles:"
   ]
  },
  {
   "cell_type": "code",
   "execution_count": 18,
   "metadata": {},
   "outputs": [
    {
     "name": "stdout",
     "output_type": "stream",
     "text": [
      "We are the so-called \"Vikings\" from the north.\n"
     ]
    }
   ],
   "source": [
    "txt = \"We are the so-called \\\"Vikings\\\" from the north.\"\n",
    "print(txt) "
   ]
  },
  {
   "cell_type": "code",
   "execution_count": 19,
   "metadata": {},
   "outputs": [
    {
     "name": "stdout",
     "output_type": "stream",
     "text": [
      "It's alright.\n"
     ]
    }
   ],
   "source": [
    "# \\'\tSingle Quote\n",
    "txt = 'It\\'s alright.'\n",
    "print(txt) "
   ]
  },
  {
   "cell_type": "code",
   "execution_count": 20,
   "metadata": {},
   "outputs": [
    {
     "name": "stdout",
     "output_type": "stream",
     "text": [
      "This will insert one \\ (backslash).\n"
     ]
    }
   ],
   "source": [
    "# \\\\\tBackslash\n",
    "txt = \"This will insert one \\\\ (backslash).\"\n",
    "print(txt) \n"
   ]
  },
  {
   "cell_type": "code",
   "execution_count": 21,
   "metadata": {},
   "outputs": [
    {
     "name": "stdout",
     "output_type": "stream",
     "text": [
      "Hello\n",
      "World!\n"
     ]
    }
   ],
   "source": [
    "# \\n\tNew Line\n",
    "txt = \"Hello\\nWorld!\"\n",
    "print(txt) "
   ]
  },
  {
   "cell_type": "code",
   "execution_count": 147,
   "metadata": {},
   "outputs": [
    {
     "name": "stdout",
     "output_type": "stream",
     "text": [
      "World!\n"
     ]
    }
   ],
   "source": [
    "# \\r\tCarriage Return\n",
    "txt = \"Hello\\rWorld!\"\n",
    "print(txt) \n"
   ]
  },
  {
   "cell_type": "code",
   "execution_count": 148,
   "metadata": {},
   "outputs": [
    {
     "name": "stdout",
     "output_type": "stream",
     "text": [
      "Hello\tWorld!\n"
     ]
    }
   ],
   "source": [
    "# \\t\tTab\n",
    "txt = \"Hello\\tWorld!\"\n",
    "print(txt)"
   ]
  },
  {
   "cell_type": "code",
   "execution_count": 150,
   "metadata": {},
   "outputs": [
    {
     "name": "stdout",
     "output_type": "stream",
     "text": [
      "HelloWorld!\n"
     ]
    }
   ],
   "source": [
    "# \\b\tBackspace\n",
    "#This example erases one character (backspace):\n",
    "txt = \"Hello \\bWorld!\"\n",
    "print(txt) "
   ]
  },
  {
   "cell_type": "code",
   "execution_count": 151,
   "metadata": {},
   "outputs": [
    {
     "name": "stdout",
     "output_type": "stream",
     "text": [
      "Hello \fWorld!\n"
     ]
    }
   ],
   "source": [
    "# \\f\tForm Feed\n",
    "txt = \"Hello \\fWorld!\"\n",
    "print(txt) "
   ]
  },
  {
   "cell_type": "code",
   "execution_count": null,
   "metadata": {},
   "outputs": [],
   "source": [
    "#\\ooo\tOctal value\n",
    "#A backslash followed by three integers will result in a octal value:\n",
    "txt = \"\\110\\145\\154\\154\\157\"\n",
    "print(txt) "
   ]
  },
  {
   "cell_type": "code",
   "execution_count": 152,
   "metadata": {},
   "outputs": [
    {
     "name": "stdout",
     "output_type": "stream",
     "text": [
      "Hello\n"
     ]
    }
   ],
   "source": [
    "# \\xhh\tHex value\n",
    "\n",
    "#A backslash followed by an 'x' and a hex number represents a hex value:\n",
    "txt = \"\\x48\\x65\\x6c\\x6c\\x6f\"\n",
    "print(txt) "
   ]
  },
  {
   "cell_type": "markdown",
   "metadata": {},
   "source": [
    "#### Método Python String `capitalize()`"
   ]
  },
  {
   "cell_type": "code",
   "execution_count": null,
   "metadata": {},
   "outputs": [],
   "source": [
    "txt = \"hello, and welcome to my world.\"\n",
    "\n",
    "x = txt.capitalize()\n",
    "\n",
    "print (x)"
   ]
  },
  {
   "cell_type": "markdown",
   "metadata": {},
   "source": [
    "##### Definición y uso\n",
    "El capitalize()método devuelve una cadena donde el primer carácter está en mayúsculas y el resto en minúsculas.\n",
    "\n",
    "##### Sintaxis\n",
    "\n",
    "`string.capitalize()`"
   ]
  },
  {
   "cell_type": "code",
   "execution_count": 153,
   "metadata": {},
   "outputs": [
    {
     "name": "stdout",
     "output_type": "stream",
     "text": [
      "Python is fun!\n"
     ]
    }
   ],
   "source": [
    "txt = \"python is FUN!\"\n",
    "\n",
    "x = txt.capitalize()\n",
    "\n",
    "print (x)"
   ]
  },
  {
   "cell_type": "code",
   "execution_count": 155,
   "metadata": {},
   "outputs": [
    {
     "name": "stdout",
     "output_type": "stream",
     "text": [
      "36 is my age.\n"
     ]
    }
   ],
   "source": [
    "#Vea lo que sucede si el primer carácter es un número:\n",
    "txt = \"36 is my age.\"\n",
    "\n",
    "x = txt.capitalize()\n",
    "\n",
    "print (x)"
   ]
  },
  {
   "cell_type": "markdown",
   "metadata": {},
   "source": [
    "##### Método Python String `casefold()`"
   ]
  },
  {
   "cell_type": "code",
   "execution_count": 156,
   "metadata": {},
   "outputs": [
    {
     "name": "stdout",
     "output_type": "stream",
     "text": [
      "hello, and welcome to my world!\n"
     ]
    }
   ],
   "source": [
    "# Pon la cadena en minúsculas:\n",
    "txt = \"Hello, And Welcome To My World!\"\n",
    "\n",
    "x = txt.casefold()\n",
    "\n",
    "print(x)"
   ]
  },
  {
   "cell_type": "markdown",
   "metadata": {},
   "source": [
    "##### Definición y uso\n",
    "El casefold()método devuelve una cadena donde todos los caracteres están en minúsculas.\n",
    "\n",
    "Este método es similar al método, pero el método es más fuerte, más agresivo, lo que significa que convertirá más caracteres a minúsculas y encontrará más coincidencias al comparar dos cadenas y ambas se convertirán usando el método . lower()casefold()casefold()\n",
    "\n",
    "###### Sintaxis\n",
    "`string.casefold()`\n"
   ]
  },
  {
   "cell_type": "markdown",
   "metadata": {},
   "source": [
    "##### Método Python `String center()`"
   ]
  },
  {
   "cell_type": "code",
   "execution_count": 158,
   "metadata": {},
   "outputs": [
    {
     "name": "stdout",
     "output_type": "stream",
     "text": [
      "       banana       \n"
     ]
    }
   ],
   "source": [
    "# Escriba la palabra \"banana\", ocupando el espacio de 20 caracteres, con \"banana\" en el medio:\n",
    "txt = \"banana\"\n",
    "\n",
    "x = txt.center(20)\n",
    "\n",
    "print(x)"
   ]
  },
  {
   "cell_type": "markdown",
   "metadata": {},
   "source": [
    "##### Definición y uso\n",
    "El center()método alineará al centro la cadena, utilizando un carácter específico (el espacio es el valor predeterminado) como carácter de relleno.\n",
    "\n",
    "###### Sintaxis\n",
    "`string.center(length, character)`"
   ]
  },
  {
   "cell_type": "code",
   "execution_count": 163,
   "metadata": {},
   "outputs": [
    {
     "name": "stdout",
     "output_type": "stream",
     "text": [
      "OOOOOOObananaOOOOOOO\n"
     ]
    }
   ],
   "source": [
    "# Usando la letra \"O\" como carácter de relleno:\n",
    "\n",
    "txt = \"banana\"\n",
    "\n",
    "x = txt.center(20, \"O\")\n",
    "\n",
    "print(x)"
   ]
  },
  {
   "cell_type": "markdown",
   "metadata": {},
   "source": [
    "##### Método Python String `count()`"
   ]
  },
  {
   "cell_type": "code",
   "execution_count": 164,
   "metadata": {},
   "outputs": [
    {
     "name": "stdout",
     "output_type": "stream",
     "text": [
      "2\n"
     ]
    }
   ],
   "source": [
    "# Devuelve el número de veces que aparece el valor \"manzana\" en la cadena:\n",
    "txt = \"I love apples, apple are my favorite fruit\"\n",
    "\n",
    "x = txt.count(\"apple\")\n",
    "\n",
    "print(x)"
   ]
  },
  {
   "cell_type": "markdown",
   "metadata": {},
   "source": [
    "##### Definición y uso\n",
    "El `count()`método devuelve el número de veces que aparece un valor especificado en la cadena.\n",
    "\n",
    "######Sintaxis\n",
    "`string.count(value, start, end)`"
   ]
  },
  {
   "cell_type": "code",
   "execution_count": 165,
   "metadata": {},
   "outputs": [
    {
     "name": "stdout",
     "output_type": "stream",
     "text": [
      "1\n"
     ]
    }
   ],
   "source": [
    "# Buscar desde la posición 10 a la 24:\n",
    "txt = \"I love apples, apple are my favorite fruit\"\n",
    "\n",
    "x = txt.count(\"apple\", 10, 24)\n",
    "\n",
    "print(x)"
   ]
  },
  {
   "cell_type": "markdown",
   "metadata": {},
   "source": [
    "Método Python String `encode()`"
   ]
  },
  {
   "cell_type": "code",
   "execution_count": 166,
   "metadata": {},
   "outputs": [
    {
     "name": "stdout",
     "output_type": "stream",
     "text": [
      "b'My name is St\\xc3\\xa5le'\n"
     ]
    }
   ],
   "source": [
    "# UTF-8 codifica la cadena:\n",
    "txt = \"My name is Ståle\"\n",
    "\n",
    "x = txt.encode()\n",
    "\n",
    "print(x)"
   ]
  },
  {
   "cell_type": "markdown",
   "metadata": {},
   "source": [
    "##### Definición y uso\n",
    "El encode()método codifica la cadena, utilizando la codificación especificada. Si no se especifica codificación, se utilizará UTF-8.\n",
    "\n",
    "###### Sintaxis\n",
    "`string.encode(encoding=encoding, errors=errors)`"
   ]
  },
  {
   "cell_type": "code",
   "execution_count": 167,
   "metadata": {},
   "outputs": [
    {
     "name": "stdout",
     "output_type": "stream",
     "text": [
      "b'My name is St\\\\xe5le'\n",
      "b'My name is Stle'\n",
      "b'My name is St\\\\N{LATIN SMALL LETTER A WITH RING ABOVE}le'\n",
      "b'My name is St?le'\n",
      "b'My name is St&#229;le'\n"
     ]
    }
   ],
   "source": [
    "txt = \"My name is Ståle\"\n",
    "\n",
    "print(txt.encode(encoding=\"ascii\",errors=\"backslashreplace\"))\n",
    "print(txt.encode(encoding=\"ascii\",errors=\"ignore\"))\n",
    "print(txt.encode(encoding=\"ascii\",errors=\"namereplace\"))\n",
    "print(txt.encode(encoding=\"ascii\",errors=\"replace\"))\n",
    "print(txt.encode(encoding=\"ascii\",errors=\"xmlcharrefreplace\"))"
   ]
  },
  {
   "cell_type": "markdown",
   "metadata": {},
   "source": [
    "##### Python String `endswith()` Method"
   ]
  },
  {
   "cell_type": "code",
   "execution_count": 172,
   "metadata": {},
   "outputs": [
    {
     "name": "stdout",
     "output_type": "stream",
     "text": [
      "True\n"
     ]
    }
   ],
   "source": [
    "# Compruebe si la cadena termina con un signo de puntuación (.):\n",
    "txt = \"Hello, welcome to my world.\"\n",
    "\n",
    "x = txt.endswith(\".\")\n",
    "\n",
    "print(x)"
   ]
  },
  {
   "cell_type": "markdown",
   "metadata": {},
   "source": [
    "#### Definición y uso\n",
    "El `endswith()`método devuelve True si la cadena termina con el valor especificado, de lo contrario, False.\n",
    "\n",
    "##### Sintaxis\n",
    "`string.endswith(value, start, end)`\n",
    "###### Valores paramétricos\n",
    "Parameter\tDescription\n",
    "\n",
    "value = Required. The value to check if the string ends with \n",
    "\n",
    "start = Optional. An Integer specifying at which position to start the search\n",
    "\n",
    "end = Optional. An Integer specifying at which position to end the search"
   ]
  },
  {
   "cell_type": "code",
   "execution_count": 173,
   "metadata": {},
   "outputs": [
    {
     "name": "stdout",
     "output_type": "stream",
     "text": [
      "True\n"
     ]
    }
   ],
   "source": [
    "# Compruebe si la cadena termina con la frase \"mi mundo\":\n",
    "txt = \"Hello, welcome to my world.\"\n",
    "\n",
    "x = txt.endswith(\"my world.\")\n",
    "\n",
    "print(x)"
   ]
  },
  {
   "cell_type": "code",
   "execution_count": 176,
   "metadata": {},
   "outputs": [
    {
     "name": "stdout",
     "output_type": "stream",
     "text": [
      "False\n"
     ]
    }
   ],
   "source": [
    "# Compruebe si la posición 5 a 11 termina con la frase \"mi mundo\".:\n",
    "\n",
    "txt = \"Hello, welcome to my world.\"\n",
    "\n",
    "x = txt.endswith(\"my world.\", 5, 11)\n",
    "\n",
    "print(x)"
   ]
  },
  {
   "cell_type": "markdown",
   "metadata": {},
   "source": [
    "##### Python String `expandtabs()` Method"
   ]
  },
  {
   "cell_type": "code",
   "execution_count": 177,
   "metadata": {},
   "outputs": [
    {
     "name": "stdout",
     "output_type": "stream",
     "text": [
      "H e l l o\n"
     ]
    }
   ],
   "source": [
    "# Establezca el tamaño de la pestaña en 2 espacios en blanco:\n",
    "\n",
    "txt = \"H\\te\\tl\\tl\\to\"\n",
    "\n",
    "x =  txt.expandtabs(2)\n",
    "\n",
    "print(x)"
   ]
  },
  {
   "cell_type": "markdown",
   "metadata": {},
   "source": [
    "##### Definición y uso\n",
    "El `expandtabs()`método establece el tamaño de la pestaña en el número especificado de espacios en blanco.\n",
    "\n",
    "##### Sintaxis\n",
    "`string.expandtabs(tabsize)`\n",
    "###### Valores paramétricos\n",
    "Parameter\tDescription\n",
    "\n",
    "tabsize = Optional. A number specifying the tabsize. Default tabsize is 8"
   ]
  },
  {
   "cell_type": "code",
   "execution_count": 178,
   "metadata": {},
   "outputs": [
    {
     "name": "stdout",
     "output_type": "stream",
     "text": [
      "H\te\tl\tl\to\n",
      "H       e       l       l       o\n",
      "H e l l o\n",
      "H   e   l   l   o\n",
      "H         e         l         l         o\n"
     ]
    }
   ],
   "source": [
    "# Vea el resultado usando diferentes tamaños de pestañas:\n",
    "\n",
    "txt = \"H\\te\\tl\\tl\\to\"\n",
    "\n",
    "print(txt)\n",
    "print(txt.expandtabs())\n",
    "print(txt.expandtabs(2))\n",
    "print(txt.expandtabs(4))\n",
    "print(txt.expandtabs(10))"
   ]
  },
  {
   "cell_type": "markdown",
   "metadata": {},
   "source": [
    "#### Python String `find()` Method"
   ]
  },
  {
   "cell_type": "code",
   "execution_count": 179,
   "metadata": {},
   "outputs": [
    {
     "name": "stdout",
     "output_type": "stream",
     "text": [
      "7\n"
     ]
    }
   ],
   "source": [
    "# ¿Dónde en el texto está la palabra \"bienvenido\"?:\n",
    "\n",
    "txt = \"Hello, welcome to my world.\"\n",
    "\n",
    "x = txt.find(\"welcome\")\n",
    "\n",
    "print(x)"
   ]
  },
  {
   "cell_type": "markdown",
   "metadata": {},
   "source": [
    "##### Definición y uso\n",
    "El `find()` método encuentra la primera aparición del valor especificado.\n",
    "\n",
    "El `find()` método devuelve -1 si no se encuentra el valor.\n",
    "\n",
    "El `find()` método es casi el mismo que el `index()` método, la única diferencia es que el `index()` método genera una excepción si no se encuentra el valor. (Ver ejemplo a continuación)\n",
    "\n",
    "###### Sintaxis\n",
    "`string.find(value, start, end)`\n",
    "##### Valores paramétricos\n",
    "Parameter\tDescription\n",
    "value = Required. The value to search for\n",
    "\n",
    "start = Optional. Where to start the search. Default is 0\n",
    "\n",
    "end = Optional. Where to end the search. Default is to the end of the string\n"
   ]
  },
  {
   "cell_type": "code",
   "execution_count": 180,
   "metadata": {},
   "outputs": [
    {
     "name": "stdout",
     "output_type": "stream",
     "text": [
      "1\n"
     ]
    }
   ],
   "source": [
    "# ¿En qué parte del texto aparece por primera vez la letra \"e\"?:\n",
    "\n",
    "txt = \"Hello, welcome to my world.\"\n",
    "\n",
    "x = txt.find(\"e\")\n",
    "\n",
    "print(x)"
   ]
  },
  {
   "cell_type": "code",
   "execution_count": 181,
   "metadata": {},
   "outputs": [
    {
     "name": "stdout",
     "output_type": "stream",
     "text": [
      "8\n"
     ]
    }
   ],
   "source": [
    "# ¿En qué parte del texto aparece por primera vez la letra \"e\" cuando solo busca entre la posición 5 y 10?:\n",
    "\n",
    "txt = \"Hello, welcome to my world.\"\n",
    "\n",
    "x = txt.find(\"e\", 5, 10)\n",
    "\n",
    "print(x)"
   ]
  },
  {
   "cell_type": "code",
   "execution_count": 182,
   "metadata": {},
   "outputs": [
    {
     "name": "stdout",
     "output_type": "stream",
     "text": [
      "-1\n"
     ]
    },
    {
     "ename": "ValueError",
     "evalue": "substring not found",
     "output_type": "error",
     "traceback": [
      "\u001b[1;31m---------------------------------------------------------------------------\u001b[0m",
      "\u001b[1;31mValueError\u001b[0m                                Traceback (most recent call last)",
      "\u001b[1;32mc:\\Users\\celio\\OneDrive\\Escritorio\\programación\\platzi\\PracticaDePython.ipynb Celda 189\u001b[0m in \u001b[0;36m6\n\u001b[0;32m      <a href='vscode-notebook-cell:/c%3A/Users/celio/OneDrive/Escritorio/programaci%C3%B3n/platzi/PracticaDePython.ipynb#Y363sZmlsZQ%3D%3D?line=2'>3</a>\u001b[0m txt \u001b[39m=\u001b[39m \u001b[39m\"\u001b[39m\u001b[39mHello, welcome to my world.\u001b[39m\u001b[39m\"\u001b[39m\n\u001b[0;32m      <a href='vscode-notebook-cell:/c%3A/Users/celio/OneDrive/Escritorio/programaci%C3%B3n/platzi/PracticaDePython.ipynb#Y363sZmlsZQ%3D%3D?line=4'>5</a>\u001b[0m \u001b[39mprint\u001b[39m(txt\u001b[39m.\u001b[39mfind(\u001b[39m\"\u001b[39m\u001b[39mq\u001b[39m\u001b[39m\"\u001b[39m))\n\u001b[1;32m----> <a href='vscode-notebook-cell:/c%3A/Users/celio/OneDrive/Escritorio/programaci%C3%B3n/platzi/PracticaDePython.ipynb#Y363sZmlsZQ%3D%3D?line=5'>6</a>\u001b[0m \u001b[39mprint\u001b[39m(txt\u001b[39m.\u001b[39;49mindex(\u001b[39m\"\u001b[39;49m\u001b[39mq\u001b[39;49m\u001b[39m\"\u001b[39;49m))\n",
      "\u001b[1;31mValueError\u001b[0m: substring not found"
     ]
    }
   ],
   "source": [
    "#Si no se encuentra el valor, el método find() devuelve -1, pero el método index() generará una excepción:\n",
    "\n",
    "txt = \"Hello, welcome to my world.\"\n",
    "\n",
    "print(txt.find(\"q\"))\n",
    "print(txt.index(\"q\"))"
   ]
  },
  {
   "cell_type": "markdown",
   "metadata": {},
   "source": [
    "#### Python String `format()` Method"
   ]
  },
  {
   "cell_type": "code",
   "execution_count": 5,
   "metadata": {},
   "outputs": [
    {
     "name": "stdout",
     "output_type": "stream",
     "text": [
      "For only 49.00 dollars!\n"
     ]
    }
   ],
   "source": [
    "#Inserte el precio dentro del marcador de posición, el precio debe estar en punto fijo, formato de dos decimales:\n",
    "\n",
    "txt = \"For only {price:.2f} dollars!\"\n",
    "print(txt.format(price = 49))"
   ]
  },
  {
   "cell_type": "markdown",
   "metadata": {},
   "source": [
    "##### Definición y uso\n",
    "El `format()` método formatea los valores especificados y los inserta dentro del marcador de posición de la cadena.\n",
    "\n",
    "El marcador de posición se define mediante corchetes: {}. Lea más sobre los marcadores de posición en la sección Marcador de posición a continuación.\n",
    "\n",
    "El `format()` método devuelve la cadena formateada.\n",
    "\n",
    "##### Sintaxis\n",
    "`string.format(value1, value2...)`\n",
    "\n",
    "##### Los marcadores de posición\n",
    "Los marcadores de posición se pueden identificar mediante índices con nombre `{price}`, índices numerados `{0}` o incluso marcadores de posición vacíos `{}`."
   ]
  },
  {
   "cell_type": "code",
   "execution_count": 10,
   "metadata": {},
   "outputs": [
    {
     "name": "stdout",
     "output_type": "stream",
     "text": [
      "My name is John, I'm 36\n",
      "My name is John, I'm 36\n",
      "My name is John, I'm 36\n"
     ]
    }
   ],
   "source": [
    "#named indexes:\n",
    "txt1 = \"My name is {fname}, I'm {age}\".format(fname = \"John\", age = 36)\n",
    "#numbered indexes:\n",
    "txt2 = \"My name is {0}, I'm {1}\".format(\"John\",36)\n",
    "#empty placeholders:\n",
    "txt3 = \"My name is {}, I'm {}\".format(\"John\",36)\n",
    "\n",
    "print(txt1)\n",
    "print(txt2)\n",
    "print(txt3)"
   ]
  },
  {
   "cell_type": "code",
   "execution_count": 11,
   "metadata": {},
   "outputs": [
    {
     "name": "stdout",
     "output_type": "stream",
     "text": [
      "We have 49       chickens.\n"
     ]
    }
   ],
   "source": [
    "#To demonstrate, we insert the number 8 to set the available space for the value to 8 characters.\n",
    "\n",
    "#Use \"<\" to left-align the value:\n",
    "\n",
    "txt = \"We have {:<8} chickens.\"\n",
    "print(txt.format(49))"
   ]
  },
  {
   "cell_type": "code",
   "execution_count": 12,
   "metadata": {},
   "outputs": [
    {
     "name": "stdout",
     "output_type": "stream",
     "text": [
      "We have       49 chickens.\n"
     ]
    }
   ],
   "source": [
    "#To demonstrate, we insert the number 8 to set the available space for the value to 8 characters.\n",
    "\n",
    "#Use \">\" to right-align the value:\n",
    "\n",
    "txt = \"We have {:>8} chickens.\"\n",
    "print(txt.format(49))"
   ]
  },
  {
   "cell_type": "code",
   "execution_count": 13,
   "metadata": {},
   "outputs": [
    {
     "name": "stdout",
     "output_type": "stream",
     "text": [
      "We have    49    chickens.\n"
     ]
    }
   ],
   "source": [
    "#To demonstrate, we insert the number 8 to set the available space for the value to 8 characters.\n",
    "\n",
    "#Use \"^\" to center-align the value:\n",
    "\n",
    "txt = \"We have {:^8} chickens.\"\n",
    "print(txt.format(49))"
   ]
  },
  {
   "cell_type": "code",
   "execution_count": 14,
   "metadata": {},
   "outputs": [
    {
     "name": "stdout",
     "output_type": "stream",
     "text": [
      "The temperature is -      5 degrees celsius.\n"
     ]
    }
   ],
   "source": [
    "#To demonstrate, we insert the number 8 to specify the available space for the value.\n",
    "\n",
    "#Use \"=\" to place the plus/minus sign at the left most position:\n",
    "\n",
    "txt = \"The temperature is {:=8} degrees celsius.\"\n",
    "\n",
    "print(txt.format(-5))"
   ]
  },
  {
   "cell_type": "code",
   "execution_count": 15,
   "metadata": {},
   "outputs": [
    {
     "name": "stdout",
     "output_type": "stream",
     "text": [
      "The temperature is between -3 and +7 degrees celsius.\n"
     ]
    }
   ],
   "source": [
    "#Use \"+\" to always indicate if the number is positive or negative:\n",
    "\n",
    "txt = \"The temperature is between {:+} and {:+} degrees celsius.\"\n",
    "\n",
    "print(txt.format(-3, 7))"
   ]
  },
  {
   "cell_type": "code",
   "execution_count": 16,
   "metadata": {},
   "outputs": [
    {
     "name": "stdout",
     "output_type": "stream",
     "text": [
      "The temperature is between -3 and 7 degrees celsius.\n"
     ]
    }
   ],
   "source": [
    "#Use \"-\" to always indicate if the number is negative (positive numbers are displayed without any sign):\n",
    "\n",
    "txt = \"The temperature is between {:-} and {:-} degrees celsius.\"\n",
    "\n",
    "print(txt.format(-3, 7))"
   ]
  },
  {
   "cell_type": "code",
   "execution_count": 17,
   "metadata": {},
   "outputs": [
    {
     "name": "stdout",
     "output_type": "stream",
     "text": [
      "The temperature is between -3 and  7 degrees celsius.\n"
     ]
    }
   ],
   "source": [
    "#Use \" \" (a space) to insert a space before positive numbers and a minus sign before negative numbers:\n",
    "\n",
    "txt = \"The temperature is between {: } and {: } degrees celsius.\"\n",
    "\n",
    "print(txt.format(-3, 7))"
   ]
  },
  {
   "cell_type": "code",
   "execution_count": 18,
   "metadata": {},
   "outputs": [
    {
     "name": "stdout",
     "output_type": "stream",
     "text": [
      "The universe is 13,800,000,000 years old.\n"
     ]
    }
   ],
   "source": [
    "#Use \",\" to add a comma as a thousand separator:\n",
    "\n",
    "txt = \"The universe is {:,} years old.\"\n",
    "\n",
    "print(txt.format(13800000000))"
   ]
  },
  {
   "cell_type": "code",
   "execution_count": 19,
   "metadata": {},
   "outputs": [
    {
     "name": "stdout",
     "output_type": "stream",
     "text": [
      "The universe is 13_800_000_000 years old.\n"
     ]
    }
   ],
   "source": [
    "#Use \"_\" to add a underscore character as a thousand separator:\n",
    "\n",
    "txt = \"The universe is {:_} years old.\"\n",
    "\n",
    "print(txt.format(13800000000))"
   ]
  },
  {
   "cell_type": "code",
   "execution_count": 20,
   "metadata": {},
   "outputs": [
    {
     "name": "stdout",
     "output_type": "stream",
     "text": [
      "The binary version of 5 is 101\n"
     ]
    }
   ],
   "source": [
    "#Use \"b\" to convert the number into binary format:\n",
    "\n",
    "txt = \"The binary version of {0} is {0:b}\"\n",
    "\n",
    "print(txt.format(5))"
   ]
  },
  {
   "cell_type": "code",
   "execution_count": 31,
   "metadata": {},
   "outputs": [
    {
     "name": "stdout",
     "output_type": "stream",
     "text": [
      "The inicode version of 5 is \u0005\n"
     ]
    }
   ],
   "source": [
    "#Use \"c\" Converts the value into the corresponding unicode character:\n",
    "\n",
    "txt = \"The inicode version of {0} is {0:c}\"\n",
    "\n",
    "print(txt.format(5))"
   ]
  },
  {
   "cell_type": "code",
   "execution_count": 32,
   "metadata": {},
   "outputs": [
    {
     "name": "stdout",
     "output_type": "stream",
     "text": [
      "We have 5 chickens.\n"
     ]
    }
   ],
   "source": [
    "#Use \"d\" to convert a number, in this case a binary number, into decimal number format:\n",
    "\n",
    "txt = \"We have {:d} chickens.\"\n",
    "print(txt.format(0b101))\n"
   ]
  },
  {
   "cell_type": "code",
   "execution_count": 33,
   "metadata": {},
   "outputs": [
    {
     "name": "stdout",
     "output_type": "stream",
     "text": [
      "We have 5.000000e+00 chickens.\n"
     ]
    }
   ],
   "source": [
    "#Use \"e\" to convert a number into scientific number format (with a lower-case e):\n",
    "\n",
    "txt = \"We have {:e} chickens.\"\n",
    "print(txt.format(5))"
   ]
  },
  {
   "cell_type": "code",
   "execution_count": 35,
   "metadata": {},
   "outputs": [
    {
     "name": "stdout",
     "output_type": "stream",
     "text": [
      "We have 5.000000E+00 chickens.\n"
     ]
    }
   ],
   "source": [
    "#Use \"E\" to convert a number into scientific number format (with an upper-case E):\n",
    "\n",
    "txt = \"We have {:E} chickens.\"\n",
    "print(txt.format(5))"
   ]
  },
  {
   "cell_type": "code",
   "execution_count": 36,
   "metadata": {},
   "outputs": [
    {
     "name": "stdout",
     "output_type": "stream",
     "text": [
      "The price is 45.00 dollars.\n",
      "The price is 45.000000 dollars.\n"
     ]
    }
   ],
   "source": [
    "#Use \"f\" to convert a number into a fixed point number, default with 6 decimals, but use a period followed by a number to specify the number of decimals:\n",
    "\n",
    "txt = \"The price is {:.2f} dollars.\"\n",
    "print(txt.format(45))\n",
    "\n",
    "#without the \".2\" inside the placeholder, this number will be displayed like this:\n",
    "\n",
    "txt = \"The price is {:f} dollars.\"\n",
    "print(txt.format(45))"
   ]
  },
  {
   "cell_type": "code",
   "execution_count": 37,
   "metadata": {},
   "outputs": [
    {
     "name": "stdout",
     "output_type": "stream",
     "text": [
      "The price is INF dollars.\n",
      "The price is inf dollars.\n"
     ]
    }
   ],
   "source": [
    "#Use \"F\" to convert a number into a fixed point number, but display inf and nan as INF and NAN:\n",
    "\n",
    "x = float('inf')\n",
    "\n",
    "txt = \"The price is {:F} dollars.\"\n",
    "print(txt.format(x))\n",
    "\n",
    "#same example, but with a lower case f:\n",
    "\n",
    "txt = \"The price is {:f} dollars.\"\n",
    "print(txt.format(x))"
   ]
  },
  {
   "cell_type": "markdown",
   "metadata": {},
   "source": [
    ":g = General format\n",
    "\n",
    ":G = General format (using a upper case E for scientific notations)"
   ]
  },
  {
   "cell_type": "code",
   "execution_count": 38,
   "metadata": {},
   "outputs": [
    {
     "name": "stdout",
     "output_type": "stream",
     "text": [
      "The octal version of 10 is 12\n"
     ]
    }
   ],
   "source": [
    "#Use \"o\" to convert the number into octal format:\n",
    "\n",
    "txt = \"The octal version of {0} is {0:o}\"\n",
    "\n",
    "print(txt.format(10))"
   ]
  },
  {
   "cell_type": "code",
   "execution_count": 39,
   "metadata": {},
   "outputs": [
    {
     "name": "stdout",
     "output_type": "stream",
     "text": [
      "The Hexadecimal version of 255 is ff\n"
     ]
    }
   ],
   "source": [
    "#Use \"x\" to convert the number into Hex format:\n",
    "\n",
    "txt = \"The Hexadecimal version of {0} is {0:x}\"\n",
    "\n",
    "print(txt.format(255))"
   ]
  },
  {
   "cell_type": "code",
   "execution_count": 40,
   "metadata": {},
   "outputs": [
    {
     "name": "stdout",
     "output_type": "stream",
     "text": [
      "The Hexadecimal version of 255 is FF\n"
     ]
    }
   ],
   "source": [
    "#Use \"X\" to convert the number into upper-case Hex format:\n",
    "\n",
    "txt = \"The Hexadecimal version of {0} is {0:X}\"\n",
    "\n",
    "print(txt.format(255))"
   ]
  },
  {
   "cell_type": "code",
   "execution_count": 41,
   "metadata": {},
   "outputs": [
    {
     "name": "stdout",
     "output_type": "stream",
     "text": [
      "You scored 25.000000%\n",
      "You scored 25%\n"
     ]
    }
   ],
   "source": [
    "# :n\t\tNumber format\n",
    "#Use \"%\" to convert the number into a percentage format:\n",
    "\n",
    "txt = \"You scored {:%}\"\n",
    "print(txt.format(0.25))\n",
    "\n",
    "#Or, without any decimals:\n",
    "\n",
    "txt = \"You scored {:.0%}\"\n",
    "print(txt.format(0.25))"
   ]
  },
  {
   "cell_type": "markdown",
   "metadata": {},
   "source": [
    "`format_map()` = Formats specified values in a string"
   ]
  },
  {
   "cell_type": "markdown",
   "metadata": {},
   "source": [
    "##### Python String `index()` Method\n"
   ]
  },
  {
   "cell_type": "code",
   "execution_count": 42,
   "metadata": {},
   "outputs": [
    {
     "name": "stdout",
     "output_type": "stream",
     "text": [
      "7\n"
     ]
    }
   ],
   "source": [
    "# ¿Dónde en el texto está la palabra \"bienvenido\"?:\n",
    "\n",
    "txt = \"Hello, welcome to my world.\"\n",
    "\n",
    "x = txt.index(\"welcome\")\n",
    "\n",
    "print(x)"
   ]
  },
  {
   "cell_type": "markdown",
   "metadata": {},
   "source": [
    "##### Definición y uso\n",
    "El `index()`método encuentra la primera aparición del valor especificado.\n",
    "\n",
    "El `index()`método genera una excepción si no se encuentra el valor.\n",
    "\n",
    "El `index()`método es casi el mismo que el find() método, la única diferencia es que el find() método devuelve -1 si no se encuentra el valor. (Ver ejemplo a continuación)\n",
    "\n",
    "##### Sintaxis\n",
    "`string.index(value, start, end)`"
   ]
  },
  {
   "cell_type": "code",
   "execution_count": 43,
   "metadata": {},
   "outputs": [
    {
     "name": "stdout",
     "output_type": "stream",
     "text": [
      "1\n"
     ]
    }
   ],
   "source": [
    "txt = \"Hello, welcome to my world.\"\n",
    "\n",
    "x = txt.index(\"e\")\n",
    "\n",
    "print(x)"
   ]
  },
  {
   "cell_type": "code",
   "execution_count": 44,
   "metadata": {},
   "outputs": [
    {
     "name": "stdout",
     "output_type": "stream",
     "text": [
      "8\n"
     ]
    }
   ],
   "source": [
    "txt = \"Hello, welcome to my world.\"\n",
    "\n",
    "x = txt.index(\"e\", 5, 10)\n",
    "\n",
    "print(x)"
   ]
  },
  {
   "cell_type": "code",
   "execution_count": 45,
   "metadata": {},
   "outputs": [
    {
     "name": "stdout",
     "output_type": "stream",
     "text": [
      "-1\n"
     ]
    },
    {
     "ename": "ValueError",
     "evalue": "substring not found",
     "output_type": "error",
     "traceback": [
      "\u001b[1;31m---------------------------------------------------------------------------\u001b[0m",
      "\u001b[1;31mValueError\u001b[0m                                Traceback (most recent call last)",
      "\u001b[1;32mc:\\Users\\celio\\OneDrive\\Escritorio\\programación\\platzi\\PracticaDePython.ipynb Celda 221\u001b[0m in \u001b[0;36m6\n\u001b[0;32m      <a href='vscode-notebook-cell:/c%3A/Users/celio/OneDrive/Escritorio/programaci%C3%B3n/platzi/PracticaDePython.ipynb#Y433sZmlsZQ%3D%3D?line=2'>3</a>\u001b[0m txt \u001b[39m=\u001b[39m \u001b[39m\"\u001b[39m\u001b[39mHello, welcome to my world.\u001b[39m\u001b[39m\"\u001b[39m\n\u001b[0;32m      <a href='vscode-notebook-cell:/c%3A/Users/celio/OneDrive/Escritorio/programaci%C3%B3n/platzi/PracticaDePython.ipynb#Y433sZmlsZQ%3D%3D?line=4'>5</a>\u001b[0m \u001b[39mprint\u001b[39m(txt\u001b[39m.\u001b[39mfind(\u001b[39m\"\u001b[39m\u001b[39mq\u001b[39m\u001b[39m\"\u001b[39m))\n\u001b[1;32m----> <a href='vscode-notebook-cell:/c%3A/Users/celio/OneDrive/Escritorio/programaci%C3%B3n/platzi/PracticaDePython.ipynb#Y433sZmlsZQ%3D%3D?line=5'>6</a>\u001b[0m \u001b[39mprint\u001b[39m(txt\u001b[39m.\u001b[39;49mindex(\u001b[39m\"\u001b[39;49m\u001b[39mq\u001b[39;49m\u001b[39m\"\u001b[39;49m))\n",
      "\u001b[1;31mValueError\u001b[0m: substring not found"
     ]
    }
   ],
   "source": [
    "# Si no se encuentra el valor, el método find() devuelve -1, pero el método index() generará una excepción:\n",
    "\n",
    "txt = \"Hello, welcome to my world.\"\n",
    "\n",
    "print(txt.find(\"q\"))\n",
    "print(txt.index(\"q\"))"
   ]
  },
  {
   "cell_type": "markdown",
   "metadata": {},
   "source": [
    "##### Python String `isalnum()` Method"
   ]
  },
  {
   "cell_type": "code",
   "execution_count": 46,
   "metadata": {},
   "outputs": [
    {
     "name": "stdout",
     "output_type": "stream",
     "text": [
      "True\n"
     ]
    }
   ],
   "source": [
    "# Compruebe si todos los caracteres del texto son alfanuméricos:\n",
    "\n",
    "txt = \"Company12\"\n",
    "\n",
    "x = txt.isalnum()\n",
    "\n",
    "print(x)"
   ]
  },
  {
   "cell_type": "markdown",
   "metadata": {},
   "source": [
    "##### Definición y uso\n",
    "El `isalnum()` método devuelve True si todos los caracteres son alfanuméricos, es decir, letras del alfabeto (az) y números (0-9).\n",
    "\n",
    "Ejemplo de caracteres que no son alfanuméricos: (espacio)!#%&? etc.\n",
    "\n",
    "###### Sintaxis\n",
    "`string.isalnum()`"
   ]
  },
  {
   "cell_type": "code",
   "execution_count": 49,
   "metadata": {},
   "outputs": [
    {
     "name": "stdout",
     "output_type": "stream",
     "text": [
      "False\n"
     ]
    }
   ],
   "source": [
    "# Compruebe si todos los caracteres del texto son alfanuméricos:\n",
    "\n",
    "txt = \"Company 12\"\n",
    "\n",
    "x = txt.isalnum()\n",
    "\n",
    "print(x)"
   ]
  },
  {
   "cell_type": "markdown",
   "metadata": {},
   "source": [
    "#### Python String `isalpha()` Method"
   ]
  },
  {
   "cell_type": "code",
   "execution_count": 50,
   "metadata": {},
   "outputs": [
    {
     "name": "stdout",
     "output_type": "stream",
     "text": [
      "True\n"
     ]
    }
   ],
   "source": [
    "# Comprueba si todos los caracteres del texto son letras:\n",
    "\n",
    "txt = \"CompanyX\"\n",
    "\n",
    "x = txt.isalpha()\n",
    "\n",
    "print(x)"
   ]
  },
  {
   "cell_type": "markdown",
   "metadata": {},
   "source": [
    "##### Definición y uso\n",
    "El `isalpha()` método devuelve True si todos los caracteres son letras del alfabeto (az).\n",
    "\n",
    "Ejemplo de caracteres que no son letras del alfabeto: (espacio)!#%&? etc.\n",
    "\n",
    "##### Sintaxis\n",
    "`string.isalpha()`"
   ]
  },
  {
   "cell_type": "code",
   "execution_count": 53,
   "metadata": {},
   "outputs": [
    {
     "name": "stdout",
     "output_type": "stream",
     "text": [
      "True\n"
     ]
    }
   ],
   "source": [
    "# Compruebe si todos los caracteres del texto son alfabéticos:\n",
    "\n",
    "txt = \"Company\"\n",
    "\n",
    "x = txt.isalpha()\n",
    "\n",
    "print(x)"
   ]
  },
  {
   "cell_type": "markdown",
   "metadata": {},
   "source": [
    "#### Python String isascii() Method"
   ]
  },
  {
   "cell_type": "code",
   "execution_count": 54,
   "metadata": {},
   "outputs": [
    {
     "name": "stdout",
     "output_type": "stream",
     "text": [
      "True\n"
     ]
    }
   ],
   "source": [
    "# Compruebe si todos los caracteres del texto son caracteres ascii:\n",
    "\n",
    "txt = \"Company123\"\n",
    "\n",
    "x = txt.isascii()\n",
    "\n",
    "print(x)"
   ]
  },
  {
   "cell_type": "markdown",
   "metadata": {},
   "source": [
    "##### Definición y uso\n",
    "El `isascii()`método devuelve True si todos los caracteres son caracteres ASCII (az).\n",
    "\n",
    "##### Sintaxis\n",
    "`string.isascii()`"
   ]
  },
  {
   "cell_type": "markdown",
   "metadata": {},
   "source": [
    "### Python String `isdecima()` Method"
   ]
  },
  {
   "cell_type": "code",
   "execution_count": 55,
   "metadata": {},
   "outputs": [
    {
     "name": "stdout",
     "output_type": "stream",
     "text": [
      "True\n"
     ]
    }
   ],
   "source": [
    "# Compruebe si todos los caracteres de una cadena son decimales (0-9):\n",
    "\n",
    "txt = \"1234\"\n",
    "\n",
    "x = txt.isdecimal()\n",
    "\n",
    "print(x)"
   ]
  },
  {
   "cell_type": "markdown",
   "metadata": {},
   "source": [
    "##### Definición y uso\n",
    "El `isdecimal()` método devuelve True si todos los caracteres son decimales (0-9).\n",
    "\n",
    "Este método también se puede utilizar en objetos Unicode. Vea el ejemplo a continuación.\n",
    "\n",
    "###### Sintaxis\n",
    "`string.isdecimal()`"
   ]
  },
  {
   "cell_type": "code",
   "execution_count": 56,
   "metadata": {},
   "outputs": [
    {
     "name": "stdout",
     "output_type": "stream",
     "text": [
      "True\n",
      "False\n"
     ]
    }
   ],
   "source": [
    "# Compruebe si todos los caracteres del Unicode son decimales:\n",
    "\n",
    "a = \"\\u0030\" #unicode for 0\n",
    "b = \"\\u0047\" #unicode for G\n",
    "\n",
    "print(a.isdecimal())\n",
    "print(b.isdecimal())"
   ]
  },
  {
   "cell_type": "markdown",
   "metadata": {},
   "source": [
    "##### Python String `isdigit()` Method"
   ]
  },
  {
   "cell_type": "code",
   "execution_count": 57,
   "metadata": {},
   "outputs": [
    {
     "name": "stdout",
     "output_type": "stream",
     "text": [
      "True\n"
     ]
    }
   ],
   "source": [
    "# Compruebe si todos los caracteres del texto son dígitos:\n",
    "\n",
    "txt = \"50800\"\n",
    "\n",
    "x = txt.isdigit()\n",
    "\n",
    "print(x)"
   ]
  },
  {
   "cell_type": "markdown",
   "metadata": {},
   "source": [
    "##### Definición y uso\n",
    "El `isdigit()` método devuelve True si todos los caracteres son dígitos, de lo contrario, False.\n",
    "\n",
    "Los exponentes, como ², también se consideran dígitos.\n",
    "\n",
    "###### Sintaxis\n",
    "`string.isdigit()`"
   ]
  },
  {
   "cell_type": "code",
   "execution_count": 58,
   "metadata": {},
   "outputs": [
    {
     "name": "stdout",
     "output_type": "stream",
     "text": [
      "True\n",
      "True\n"
     ]
    }
   ],
   "source": [
    "# Compruebe si todos los caracteres del texto son dígitos:\n",
    "\n",
    "a = \"\\u0030\" #unicode for 0\n",
    "b = \"\\u00B2\" #unicode for ²\n",
    "\n",
    "print(a.isdigit())\n",
    "print(b.isdigit())"
   ]
  },
  {
   "cell_type": "markdown",
   "metadata": {},
   "source": [
    "##### Python String `islower()` Method"
   ]
  },
  {
   "cell_type": "code",
   "execution_count": 59,
   "metadata": {},
   "outputs": [
    {
     "name": "stdout",
     "output_type": "stream",
     "text": [
      "True\n"
     ]
    }
   ],
   "source": [
    "# Comprueba si todos los caracteres del texto están en minúsculas:\n",
    "\n",
    "txt = \"hello world!\"\n",
    "\n",
    "x = txt.islower()\n",
    "\n",
    "print(x)"
   ]
  },
  {
   "cell_type": "markdown",
   "metadata": {},
   "source": [
    "##### Definición y uso\n",
    "El `islower()` método devuelve True si todos los caracteres están en minúsculas, de lo contrario False.\n",
    "\n",
    "Los números, símbolos y espacios no están marcados, solo los caracteres alfabéticos.\n",
    "\n",
    "###### Sintaxis\n",
    "`string.islower()`"
   ]
  },
  {
   "cell_type": "code",
   "execution_count": 60,
   "metadata": {},
   "outputs": [
    {
     "name": "stdout",
     "output_type": "stream",
     "text": [
      "False\n",
      "True\n",
      "False\n"
     ]
    }
   ],
   "source": [
    "# Comprueba si todos los caracteres de los textos están en minúsculas:\n",
    "\n",
    "a = \"Hello world!\"\n",
    "b = \"hello 123\"\n",
    "c = \"mynameisPeter\"\n",
    "\n",
    "print(a.islower())\n",
    "print(b.islower())\n",
    "print(c.islower())"
   ]
  },
  {
   "cell_type": "markdown",
   "metadata": {},
   "source": [
    "##### Python String `isidentifier()` Method"
   ]
  },
  {
   "cell_type": "code",
   "execution_count": 61,
   "metadata": {},
   "outputs": [
    {
     "name": "stdout",
     "output_type": "stream",
     "text": [
      "True\n"
     ]
    }
   ],
   "source": [
    "# Compruebe si la cadena es un identificador válido:\n",
    "\n",
    "txt = \"Demo\"\n",
    "\n",
    "x = txt.isidentifier()\n",
    "\n",
    "print(x)"
   ]
  },
  {
   "cell_type": "markdown",
   "metadata": {},
   "source": [
    "##### Definición y uso\n",
    "El `isidentifier()` método devuelve True si la cadena es un identificador válido, de lo contrario, False.\n",
    "\n",
    "Una cadena se considera un identificador válido si solo contiene letras alfanuméricas (az) y (0-9), o guiones bajos (_). Un identificador válido no puede comenzar con un número ni contener espacios.\n",
    "\n",
    "###### Sintaxis\n",
    "`string.isidentifier()`"
   ]
  },
  {
   "cell_type": "code",
   "execution_count": 62,
   "metadata": {},
   "outputs": [
    {
     "name": "stdout",
     "output_type": "stream",
     "text": [
      "True\n",
      "True\n",
      "False\n",
      "False\n"
     ]
    }
   ],
   "source": [
    "# Compruebe si las cadenas son identificadores válidos:\n",
    "\n",
    "a = \"MyFolder\"\n",
    "b = \"Demo002\"\n",
    "c = \"2bring\"\n",
    "d = \"my demo\"\n",
    "\n",
    "print(a.isidentifier())\n",
    "print(b.isidentifier())\n",
    "print(c.isidentifier())\n",
    "print(d.isidentifier())"
   ]
  },
  {
   "cell_type": "markdown",
   "metadata": {},
   "source": [
    "##### Python String isnumeric() Method"
   ]
  },
  {
   "cell_type": "code",
   "execution_count": 64,
   "metadata": {},
   "outputs": [
    {
     "name": "stdout",
     "output_type": "stream",
     "text": [
      "True\n"
     ]
    }
   ],
   "source": [
    "# Compruebe si todos los caracteres del texto son numéricos:\n",
    "\n",
    "txt = \"565543\"\n",
    "\n",
    "x = txt.isnumeric()\n",
    "\n",
    "print(x)"
   ]
  },
  {
   "cell_type": "markdown",
   "metadata": {},
   "source": [
    "##### Definición y uso\n",
    "El `isnumeric()` método devuelve True si todos los caracteres son numéricos (0-9), de lo contrario, False.\n",
    "\n",
    "Los exponentes, como ² y ¾, también se consideran valores numéricos.\n",
    "\n",
    "``\"-1\"`` y ``\"1.5\"`` NO se consideran valores numéricos, porque todos los caracteres de la cadena deben ser numéricos, y el ``-``y el ``.`` no lo son.\n",
    "\n",
    "###### Sintaxis\n",
    "``string.isnumeric()``"
   ]
  },
  {
   "cell_type": "code",
   "execution_count": 65,
   "metadata": {},
   "outputs": [
    {
     "name": "stdout",
     "output_type": "stream",
     "text": [
      "True\n",
      "True\n",
      "False\n",
      "False\n",
      "False\n"
     ]
    }
   ],
   "source": [
    "# Compruebe si los caracteres son numéricos:\n",
    "\n",
    "a = \"\\u0030\" #unicode for 0\n",
    "b = \"\\u00B2\" #unicode for &sup2;\n",
    "c = \"10km2\"\n",
    "d = \"-1\"\n",
    "e = \"1.5\"\n",
    "\n",
    "print(a.isnumeric())\n",
    "print(b.isnumeric())\n",
    "print(c.isnumeric())\n",
    "print(d.isnumeric())\n",
    "print(e.isnumeric())"
   ]
  },
  {
   "cell_type": "markdown",
   "metadata": {},
   "source": [
    "##### Python String `isprintable()` Method"
   ]
  },
  {
   "cell_type": "code",
   "execution_count": 66,
   "metadata": {},
   "outputs": [
    {
     "name": "stdout",
     "output_type": "stream",
     "text": [
      "True\n"
     ]
    }
   ],
   "source": [
    "# Compruebe si todos los caracteres del texto son imprimibles:\n",
    "\n",
    "txt = \"Hello! Are you #1?\"\n",
    "\n",
    "x = txt.isprintable()\n",
    "\n",
    "print(x)"
   ]
  },
  {
   "cell_type": "markdown",
   "metadata": {},
   "source": [
    "##### Definición y uso\n",
    "El ``isprintable()`` método devuelve True si todos los caracteres son imprimibles, de lo contrario False.\n",
    "\n",
    "Un ejemplo de carácter no imprimible puede ser el retorno de carro y el salto de línea.\n",
    "\n",
    "#####  Sintaxis\n",
    "``string.isprintable()``"
   ]
  },
  {
   "cell_type": "code",
   "execution_count": 67,
   "metadata": {},
   "outputs": [
    {
     "name": "stdout",
     "output_type": "stream",
     "text": [
      "False\n"
     ]
    }
   ],
   "source": [
    "# Compruebe si todos los caracteres del texto son imprimibles:\n",
    "\n",
    "txt = \"Hello!\\nAre you #1?\"\n",
    "\n",
    "x = txt.isprintable()\n",
    "\n",
    "print(x)"
   ]
  },
  {
   "cell_type": "markdown",
   "metadata": {},
   "source": [
    "##### Python String isspace() Method"
   ]
  },
  {
   "cell_type": "code",
   "execution_count": 68,
   "metadata": {},
   "outputs": [
    {
     "name": "stdout",
     "output_type": "stream",
     "text": [
      "True\n"
     ]
    }
   ],
   "source": [
    "# Compruebe si todos los caracteres del texto son espacios en blanco:\n",
    "\n",
    "txt = \"   \"\n",
    "\n",
    "x = txt.isspace()\n",
    "\n",
    "print(x)"
   ]
  },
  {
   "cell_type": "markdown",
   "metadata": {},
   "source": [
    "##### Definición y uso\n",
    "El ``isspace()`` método devuelve True si todos los caracteres de una cadena son espacios en blanco; de lo contrario, False.\n",
    "\n",
    "###### Sintaxis\n",
    "``string.isspace()``"
   ]
  },
  {
   "cell_type": "code",
   "execution_count": 69,
   "metadata": {},
   "outputs": [
    {
     "name": "stdout",
     "output_type": "stream",
     "text": [
      "False\n"
     ]
    }
   ],
   "source": [
    "# Compruebe si todos los caracteres del texto son espacios en blanco:\n",
    "\n",
    "txt = \"   s   \"\n",
    "\n",
    "x = txt.isspace()\n",
    "\n",
    "print(x)"
   ]
  },
  {
   "cell_type": "markdown",
   "metadata": {},
   "source": [
    "#### Python String i``stitle() ``Method"
   ]
  },
  {
   "cell_type": "code",
   "execution_count": 70,
   "metadata": {},
   "outputs": [
    {
     "name": "stdout",
     "output_type": "stream",
     "text": [
      "True\n"
     ]
    }
   ],
   "source": [
    "# Comprueba si cada palabra comienza con una letra mayúscula:\n",
    "\n",
    "txt = \"Hello, And Welcome To My World!\"\n",
    "\n",
    "x = txt.istitle()\n",
    "\n",
    "print(x)"
   ]
  },
  {
   "cell_type": "markdown",
   "metadata": {},
   "source": [
    "##### Definición y uso\n",
    "El ``istitle()`` método devuelve True si todas las palabras en un texto comienzan con una letra mayúscula, Y el resto de la palabra son letras minúsculas; de lo contrario, False.\n",
    "\n",
    "Los símbolos y números se ignoran.\n",
    "\n",
    "##### Sintaxis\n",
    "``string.istitle()``"
   ]
  },
  {
   "cell_type": "code",
   "execution_count": 71,
   "metadata": {},
   "outputs": [
    {
     "name": "stdout",
     "output_type": "stream",
     "text": [
      "False\n",
      "True\n",
      "True\n",
      "True\n"
     ]
    }
   ],
   "source": [
    "#Comprueba si cada palabra comienza con una letra mayúscula:\n",
    "\n",
    "a = \"HELLO, AND WELCOME TO MY WORLD\"\n",
    "b = \"Hello\"\n",
    "c = \"22 Names\"\n",
    "d = \"This Is %'!?\"\n",
    "\n",
    "print(a.istitle())\n",
    "print(b.istitle())\n",
    "print(c.istitle())\n",
    "print(d.istitle())"
   ]
  },
  {
   "cell_type": "markdown",
   "metadata": {},
   "source": [
    "#### Python String ``isupper()`` Method"
   ]
  },
  {
   "cell_type": "code",
   "execution_count": 72,
   "metadata": {},
   "outputs": [
    {
     "name": "stdout",
     "output_type": "stream",
     "text": [
      "True\n"
     ]
    }
   ],
   "source": [
    "# Comprueba si todos los caracteres del texto están en mayúsculas:\n",
    "\n",
    "txt = \"THIS IS NOW!\"\n",
    "\n",
    "x = txt.isupper()\n",
    "\n",
    "print(x)"
   ]
  },
  {
   "cell_type": "markdown",
   "metadata": {},
   "source": [
    "##### Definición y uso\n",
    "El ``isupper()`` método devuelve True si todos los caracteres están en mayúsculas, de lo contrario False.\n",
    "\n",
    "Los números, símbolos y espacios no están marcados, solo los caracteres alfabéticos.\n",
    "\n",
    "###### Sintaxis\n",
    "``string.isupper()``"
   ]
  },
  {
   "cell_type": "code",
   "execution_count": 73,
   "metadata": {},
   "outputs": [
    {
     "name": "stdout",
     "output_type": "stream",
     "text": [
      "False\n",
      "False\n",
      "True\n"
     ]
    }
   ],
   "source": [
    "# Comprueba si todos los caracteres de los textos están en mayúsculas:\n",
    "\n",
    "a = \"Hello World!\"\n",
    "b = \"hello 123\"\n",
    "c = \"MY NAME IS PETER\"\n",
    "\n",
    "print(a.isupper())\n",
    "print(b.isupper())\n",
    "print(c.isupper())"
   ]
  },
  {
   "cell_type": "markdown",
   "metadata": {},
   "source": [
    "##### Python String ``join()`` Method"
   ]
  },
  {
   "cell_type": "code",
   "execution_count": 74,
   "metadata": {},
   "outputs": [
    {
     "name": "stdout",
     "output_type": "stream",
     "text": [
      "John#Peter#Vicky\n"
     ]
    }
   ],
   "source": [
    "# Une todos los elementos de una tupla en una cadena, usando un carácter hash como separador:\n",
    "\n",
    "myTuple = (\"John\", \"Peter\", \"Vicky\")\n",
    "\n",
    "x = \"#\".join(myTuple)\n",
    "\n",
    "print(x)"
   ]
  },
  {
   "cell_type": "markdown",
   "metadata": {},
   "source": [
    "##### Definición y uso\n",
    "El ``join()`` método toma todos los elementos en un iterable y los une en una sola cadena.\n",
    "\n",
    "Se debe especificar una cadena como separador.\n",
    "\n",
    "###### Sintaxis\n",
    "``string.join(iterable)``"
   ]
  },
  {
   "cell_type": "code",
   "execution_count": 77,
   "metadata": {},
   "outputs": [
    {
     "name": "stdout",
     "output_type": "stream",
     "text": [
      "nameTESTcountry\n"
     ]
    }
   ],
   "source": [
    "# Une todos los elementos de un diccionario en una cadena, usando la palabra \"PRUEBA\" como separador:\n",
    "\n",
    "myDict = {\"name\": \"John\", \"country\": \"Norway\"}\n",
    "mySeparator = \"TEST\"\n",
    "\n",
    "x = mySeparator.join(myDict)\n",
    "\n",
    "print(x)"
   ]
  },
  {
   "cell_type": "markdown",
   "metadata": {},
   "source": [
    "##### Python String ``ljust()`` Method"
   ]
  },
  {
   "cell_type": "code",
   "execution_count": 78,
   "metadata": {},
   "outputs": [
    {
     "name": "stdout",
     "output_type": "stream",
     "text": [
      "banana               is my favorite fruit.\n"
     ]
    }
   ],
   "source": [
    "# Devuelve una versión justificada a la izquierda de 20 caracteres de la palabra \"banana\":\n",
    "\n",
    "txt = \"banana\"\n",
    "\n",
    "x = txt.ljust(20)\n",
    "\n",
    "print(x, \"is my favorite fruit.\")"
   ]
  },
  {
   "cell_type": "markdown",
   "metadata": {},
   "source": [
    "##### Definición y uso\n",
    "El ``ljust()`` método alineará la cadena a la izquierda, utilizando un carácter específico (el espacio es el valor predeterminado) como carácter de relleno.\n",
    "\n",
    "###### Sintaxis\n",
    "``string.ljust(length, character)``"
   ]
  },
  {
   "cell_type": "code",
   "execution_count": 81,
   "metadata": {},
   "outputs": [
    {
     "name": "stdout",
     "output_type": "stream",
     "text": [
      "bananaOOOOOOOOOOOOOO\n"
     ]
    }
   ],
   "source": [
    "# Usando la letra \"O\" como carácter de relleno:\n",
    "\n",
    "txt = \"banana\"\n",
    "\n",
    "x = txt.ljust(20, \"O\")\n",
    "\n",
    "print(x)"
   ]
  },
  {
   "cell_type": "markdown",
   "metadata": {},
   "source": [
    "##### Python String ``lower()`` Method"
   ]
  },
  {
   "cell_type": "code",
   "execution_count": 82,
   "metadata": {},
   "outputs": [
    {
     "name": "stdout",
     "output_type": "stream",
     "text": [
      "hello my friends\n"
     ]
    }
   ],
   "source": [
    "# Minúsculas la cadena:\n",
    "\n",
    "txt = \"Hello my FRIENDS\"\n",
    "\n",
    "x = txt.lower()\n",
    "\n",
    "print(x)"
   ]
  },
  {
   "cell_type": "markdown",
   "metadata": {},
   "source": [
    "##### Definición y uso\n",
    "El ``lower()`` método devuelve una cadena donde todos los caracteres están en minúsculas.\n",
    "\n",
    " Se ignoran los símbolos y los números.\n",
    "\n",
    "###### Sintaxis\n",
    "``string.lower()``"
   ]
  },
  {
   "cell_type": "markdown",
   "metadata": {},
   "source": [
    "#### Python String ``lstrip()`` Method"
   ]
  },
  {
   "cell_type": "code",
   "execution_count": 83,
   "metadata": {},
   "outputs": [
    {
     "name": "stdout",
     "output_type": "stream",
     "text": [
      "of all fruits banana      is my favorite\n"
     ]
    }
   ],
   "source": [
    "# Eliminar espacios a la izquierda de la cadena:\n",
    "\n",
    "txt = \"     banana     \"\n",
    "\n",
    "x = txt.lstrip()\n",
    "\n",
    "print(\"of all fruits\", x, \"is my favorite\")"
   ]
  },
  {
   "cell_type": "markdown",
   "metadata": {},
   "source": [
    "##### Definición y uso\n",
    "El ``lstrip()`` método elimina cualquier carácter inicial (el espacio es el carácter inicial predeterminado para eliminar)\n",
    "\n",
    "###### Sintaxis\n",
    "``string.lstrip(characters)``"
   ]
  },
  {
   "cell_type": "code",
   "execution_count": 86,
   "metadata": {},
   "outputs": [
    {
     "name": "stdout",
     "output_type": "stream",
     "text": [
      "banana\n"
     ]
    }
   ],
   "source": [
    "# Eliminar los caracteres principales:\n",
    "\n",
    "txt = \",,,,,ssaaww.....banana\"\n",
    "\n",
    "x = txt.lstrip(\",.asw\")\n",
    "\n",
    "print(x)"
   ]
  },
  {
   "cell_type": "markdown",
   "metadata": {},
   "source": [
    "#### Python String ``maketrans()`` Method"
   ]
  },
  {
   "cell_type": "code",
   "execution_count": 87,
   "metadata": {},
   "outputs": [
    {
     "name": "stdout",
     "output_type": "stream",
     "text": [
      "Hello Pam!\n"
     ]
    }
   ],
   "source": [
    "# Cree una tabla de mapeo y utilícela en el translate()método para reemplazar cualquier carácter \"S\" con un carácter \"P\":\n",
    "\n",
    "txt = \"Hello Sam!\"\n",
    "mytable = str.maketrans(\"S\", \"P\")\n",
    "print(txt.translate(mytable))"
   ]
  },
  {
   "cell_type": "markdown",
   "metadata": {},
   "source": [
    "##### Definición y uso\n",
    "El ``maketrans()`` método devuelve una tabla de asignación que se puede usar con el método para reemplazar los caracteres especificados. translate()\n",
    "\n",
    "###### Sintaxis\n",
    "``str.maketrans(x, y, z)``"
   ]
  },
  {
   "cell_type": "code",
   "execution_count": 88,
   "metadata": {},
   "outputs": [
    {
     "name": "stdout",
     "output_type": "stream",
     "text": [
      "Hi Joe!\n"
     ]
    }
   ],
   "source": [
    "# Use una tabla de mapeo para reemplazar muchos caracteres:\n",
    "\n",
    "txt = \"Hi Sam!\"\n",
    "x = \"mSa\"\n",
    "y = \"eJo\"\n",
    "mytable = str.maketrans(x, y)\n",
    "print(txt.translate(mytable))"
   ]
  },
  {
   "cell_type": "code",
   "execution_count": 89,
   "metadata": {},
   "outputs": [
    {
     "name": "stdout",
     "output_type": "stream",
     "text": [
      "G i Joe!\n"
     ]
    }
   ],
   "source": [
    "# El tercer parámetro de la tabla de asignación describe los caracteres que desea eliminar de la cadena:\n",
    "\n",
    "txt = \"Good night Sam!\"\n",
    "x = \"mSa\"\n",
    "y = \"eJo\"\n",
    "z = \"odnght\"\n",
    "mytable = str.maketrans(x, y, z)\n",
    "print(txt.translate(mytable))"
   ]
  },
  {
   "cell_type": "code",
   "execution_count": 90,
   "metadata": {},
   "outputs": [
    {
     "name": "stdout",
     "output_type": "stream",
     "text": [
      "{109: 101, 83: 74, 97: 111, 111: None, 100: None, 110: None, 103: None, 104: None, 116: None}\n"
     ]
    }
   ],
   "source": [
    "# El maketrans()método en sí devuelve un diccionario que describe cada reemplazo, en Unicode:\n",
    "\n",
    "txt = \"Good night Sam!\"\n",
    "x = \"mSa\"\n",
    "y = \"eJo\"\n",
    "z = \"odnght\"\n",
    "print(str.maketrans(x, y, z))"
   ]
  },
  {
   "cell_type": "markdown",
   "metadata": {},
   "source": [
    "#### Python String ``partition()`` Method"
   ]
  },
  {
   "cell_type": "code",
   "execution_count": 92,
   "metadata": {},
   "outputs": [
    {
     "name": "stdout",
     "output_type": "stream",
     "text": [
      "('I could eat ', 'bananas', ' all day')\n"
     ]
    }
   ],
   "source": [
    "'''Busque la palabra \"bananas\" y devuelva una tupla con tres elementos:\n",
    "\n",
    "1 - todo antes del \"partido\"\n",
    "2 - el \"partido\"\n",
    "3 - todo después del \"partido\"'''\n",
    "\n",
    "txt = \"I could eat bananas all day\"\n",
    "\n",
    "x = txt.partition(\"bananas\")\n",
    "\n",
    "print(x)\n",
    "\n"
   ]
  },
  {
   "cell_type": "markdown",
   "metadata": {},
   "source": [
    "##### Definición y uso\n",
    "El ``partition()`` método busca una cadena específica y divide la cadena en una tupla que contiene tres elementos.\n",
    "\n",
    "El primer elemento contiene la parte anterior a la cadena especificada.\n",
    "\n",
    "El segundo elemento contiene la cadena especificada.\n",
    "\n",
    "El tercer elemento contiene la parte después de la cadena.\n",
    "\n",
    "Nota: este método busca la primera aparición de la cadena especificada.\n",
    "\n",
    "###### Sintaxis\n",
    "``string.partition(value)``"
   ]
  },
  {
   "cell_type": "code",
   "execution_count": 93,
   "metadata": {},
   "outputs": [
    {
     "name": "stdout",
     "output_type": "stream",
     "text": [
      "('I could eat bananas all day', '', '')\n"
     ]
    }
   ],
   "source": [
    "# Si no se encuentra el valor especificado, el método de partición () devuelve una tupla que contiene: 1 - la cadena completa, 2 - una cadena vacía, 3 - una cadena vacía:\n",
    "\n",
    "txt = \"I could eat bananas all day\"\n",
    "\n",
    "x = txt.partition(\"apples\")\n",
    "\n",
    "print(x)"
   ]
  },
  {
   "cell_type": "markdown",
   "metadata": {},
   "source": [
    "#### Python String ``replace()`` Method"
   ]
  },
  {
   "cell_type": "code",
   "execution_count": 94,
   "metadata": {},
   "outputs": [
    {
     "name": "stdout",
     "output_type": "stream",
     "text": [
      "I like apples\n"
     ]
    }
   ],
   "source": [
    "# Reemplace la palabra \"plátanos\":\n",
    "\n",
    "txt = \"I like bananas\"\n",
    "\n",
    "x = txt.replace(\"bananas\", \"apples\")\n",
    "\n",
    "print(x)"
   ]
  },
  {
   "cell_type": "markdown",
   "metadata": {},
   "source": [
    "#### Definición y uso\n",
    "El ``replace()`` método reemplaza una frase específica con otra frase específica.\n",
    "\n",
    "Nota: Se reemplazarán todas las apariciones de la frase especificada, si no se especifica nada más.\n",
    "\n",
    "###### Sintaxis\n",
    "``string.replace(oldvalue, newvalue, count)``"
   ]
  },
  {
   "cell_type": "code",
   "execution_count": 95,
   "metadata": {},
   "outputs": [
    {
     "name": "stdout",
     "output_type": "stream",
     "text": [
      "three three was a race horse, two two was three too.\n"
     ]
    }
   ],
   "source": [
    "# Reemplace todas las apariciones de la palabra \"uno\":\n",
    "\n",
    "txt = \"one one was a race horse, two two was one too.\"\n",
    "\n",
    "x = txt.replace(\"one\", \"three\")\n",
    "\n",
    "print(x)\n"
   ]
  },
  {
   "cell_type": "code",
   "execution_count": 96,
   "metadata": {},
   "outputs": [
    {
     "name": "stdout",
     "output_type": "stream",
     "text": [
      "three three was a race horse, two two was one too.\n"
     ]
    }
   ],
   "source": [
    "# Reemplace las dos primeras apariciones de la palabra \"uno\":\n",
    "\n",
    "txt = \"one one was a race horse, two two was one too.\"\n",
    "\n",
    "x = txt.replace(\"one\", \"three\", 2)\n",
    "\n",
    "print(x)"
   ]
  },
  {
   "cell_type": "markdown",
   "metadata": {},
   "source": [
    "#### Python String ``rfind()`` Method"
   ]
  },
  {
   "cell_type": "code",
   "execution_count": 97,
   "metadata": {},
   "outputs": [
    {
     "name": "stdout",
     "output_type": "stream",
     "text": [
      "12\n"
     ]
    }
   ],
   "source": [
    "# ¿En qué parte del texto se encuentra la última aparición de la cadena \"casa\"?:\n",
    "\n",
    "txt = \"Mi casa, su casa.\"\n",
    "\n",
    "x = txt.rfind(\"casa\")\n",
    "\n",
    "print(x)"
   ]
  },
  {
   "cell_type": "markdown",
   "metadata": {},
   "source": [
    "#### Definición y uso\n",
    "El ``rfind()`` método busca la última aparición del valor especificado.\n",
    "\n",
    "El ``rfind()`` método devuelve -1 si no se encuentra el valor.\n",
    "\n",
    "El ``rfind()`` método es casi el mismo que el rindex() método. Vea el ejemplo a continuación.\n",
    "\n",
    "###### Sintaxis\n",
    "``string.rfind(value, start, end)``"
   ]
  },
  {
   "cell_type": "code",
   "execution_count": 98,
   "metadata": {},
   "outputs": [
    {
     "name": "stdout",
     "output_type": "stream",
     "text": [
      "13\n"
     ]
    }
   ],
   "source": [
    "# ¿En qué parte del texto se encuentra la última aparición de la letra \"e\"?:\n",
    "\n",
    "txt = \"Hello, welcome to my world.\"\n",
    "\n",
    "x = txt.rfind(\"e\")\n",
    "\n",
    "print(x)"
   ]
  },
  {
   "cell_type": "code",
   "execution_count": 99,
   "metadata": {},
   "outputs": [
    {
     "name": "stdout",
     "output_type": "stream",
     "text": [
      "8\n"
     ]
    }
   ],
   "source": [
    "# ¿En qué parte del texto se encuentra la última aparición de la letra \"e\" cuando solo busca entre las posiciones 5 y 10?:\n",
    "\n",
    "txt = \"Hello, welcome to my world.\"\n",
    "\n",
    "x = txt.rfind(\"e\", 5, 10)\n",
    "\n",
    "print(x)"
   ]
  },
  {
   "cell_type": "code",
   "execution_count": 100,
   "metadata": {},
   "outputs": [
    {
     "name": "stdout",
     "output_type": "stream",
     "text": [
      "-1\n"
     ]
    },
    {
     "ename": "ValueError",
     "evalue": "substring not found",
     "output_type": "error",
     "traceback": [
      "\u001b[1;31m---------------------------------------------------------------------------\u001b[0m",
      "\u001b[1;31mValueError\u001b[0m                                Traceback (most recent call last)",
      "\u001b[1;32mc:\\Users\\celio\\OneDrive\\Escritorio\\programación\\platzi\\PracticaDePython.ipynb Celda 304\u001b[0m in \u001b[0;36m6\n\u001b[0;32m      <a href='vscode-notebook-cell:/c%3A/Users/celio/OneDrive/Escritorio/programaci%C3%B3n/platzi/PracticaDePython.ipynb#Y613sZmlsZQ%3D%3D?line=2'>3</a>\u001b[0m txt \u001b[39m=\u001b[39m \u001b[39m\"\u001b[39m\u001b[39mHello, welcome to my world.\u001b[39m\u001b[39m\"\u001b[39m\n\u001b[0;32m      <a href='vscode-notebook-cell:/c%3A/Users/celio/OneDrive/Escritorio/programaci%C3%B3n/platzi/PracticaDePython.ipynb#Y613sZmlsZQ%3D%3D?line=4'>5</a>\u001b[0m \u001b[39mprint\u001b[39m(txt\u001b[39m.\u001b[39mrfind(\u001b[39m\"\u001b[39m\u001b[39mq\u001b[39m\u001b[39m\"\u001b[39m))\n\u001b[1;32m----> <a href='vscode-notebook-cell:/c%3A/Users/celio/OneDrive/Escritorio/programaci%C3%B3n/platzi/PracticaDePython.ipynb#Y613sZmlsZQ%3D%3D?line=5'>6</a>\u001b[0m \u001b[39mprint\u001b[39m(txt\u001b[39m.\u001b[39;49mrindex(\u001b[39m\"\u001b[39;49m\u001b[39mq\u001b[39;49m\u001b[39m\"\u001b[39;49m))\n",
      "\u001b[1;31mValueError\u001b[0m: substring not found"
     ]
    }
   ],
   "source": [
    "# Si no se encuentra el valor, el método rfind() devuelve -1, pero el método rindex() generará una excepción:\n",
    "\n",
    "txt = \"Hello, welcome to my world.\"\n",
    "\n",
    "print(txt.rfind(\"q\"))\n",
    "print(txt.rindex(\"q\"))"
   ]
  },
  {
   "cell_type": "markdown",
   "metadata": {},
   "source": [
    "#### Python String ``rindex()`` Method"
   ]
  },
  {
   "cell_type": "code",
   "execution_count": 101,
   "metadata": {},
   "outputs": [
    {
     "name": "stdout",
     "output_type": "stream",
     "text": [
      "12\n"
     ]
    }
   ],
   "source": [
    "# Where in the text is the last occurrence of the string \"casa\"?:\n",
    "\n",
    "txt = \"Mi casa, su casa.\"\n",
    "\n",
    "x = txt.rindex(\"casa\")\n",
    "\n",
    "print(x)"
   ]
  },
  {
   "cell_type": "markdown",
   "metadata": {},
   "source": [
    "##### Definition and Usage\n",
    "The ``rindex()`` method finds the last occurrence of the specified value.\n",
    "\n",
    "The ``rindex()`` method raises an exception if the value is not found.\n",
    "\n",
    "The ``rindex()`` method is almost the same as the rfind() method. See example below.\n",
    "\n",
    "###### Syntax\n",
    "``string.rindex(value, start, end)``"
   ]
  },
  {
   "cell_type": "code",
   "execution_count": 102,
   "metadata": {},
   "outputs": [
    {
     "name": "stdout",
     "output_type": "stream",
     "text": [
      "13\n"
     ]
    }
   ],
   "source": [
    "# ¿En qué parte del texto se encuentra la última aparición de la letra \"e\"?:\n",
    "\n",
    "txt = \"Hello, welcome to my world.\"\n",
    "\n",
    "x = txt.rindex(\"e\")\n",
    "\n",
    "print(x)"
   ]
  },
  {
   "cell_type": "code",
   "execution_count": 103,
   "metadata": {},
   "outputs": [
    {
     "name": "stdout",
     "output_type": "stream",
     "text": [
      "8\n"
     ]
    }
   ],
   "source": [
    "# ¿En qué parte del texto se encuentra la última aparición de la letra \"e\" cuando solo busca entre las posiciones 5 y 10?:\n",
    "\n",
    "txt = \"Hello, welcome to my world.\"\n",
    "\n",
    "x = txt.rindex(\"e\", 5, 10)\n",
    "\n",
    "print(x)"
   ]
  },
  {
   "cell_type": "code",
   "execution_count": 104,
   "metadata": {},
   "outputs": [
    {
     "name": "stdout",
     "output_type": "stream",
     "text": [
      "-1\n"
     ]
    },
    {
     "ename": "ValueError",
     "evalue": "substring not found",
     "output_type": "error",
     "traceback": [
      "\u001b[1;31m---------------------------------------------------------------------------\u001b[0m",
      "\u001b[1;31mValueError\u001b[0m                                Traceback (most recent call last)",
      "\u001b[1;32mc:\\Users\\celio\\OneDrive\\Escritorio\\programación\\platzi\\PracticaDePython.ipynb Celda 310\u001b[0m in \u001b[0;36m6\n\u001b[0;32m      <a href='vscode-notebook-cell:/c%3A/Users/celio/OneDrive/Escritorio/programaci%C3%B3n/platzi/PracticaDePython.ipynb#Y622sZmlsZQ%3D%3D?line=2'>3</a>\u001b[0m txt \u001b[39m=\u001b[39m \u001b[39m\"\u001b[39m\u001b[39mHello, welcome to my world.\u001b[39m\u001b[39m\"\u001b[39m\n\u001b[0;32m      <a href='vscode-notebook-cell:/c%3A/Users/celio/OneDrive/Escritorio/programaci%C3%B3n/platzi/PracticaDePython.ipynb#Y622sZmlsZQ%3D%3D?line=4'>5</a>\u001b[0m \u001b[39mprint\u001b[39m(txt\u001b[39m.\u001b[39mrfind(\u001b[39m\"\u001b[39m\u001b[39mq\u001b[39m\u001b[39m\"\u001b[39m))\n\u001b[1;32m----> <a href='vscode-notebook-cell:/c%3A/Users/celio/OneDrive/Escritorio/programaci%C3%B3n/platzi/PracticaDePython.ipynb#Y622sZmlsZQ%3D%3D?line=5'>6</a>\u001b[0m \u001b[39mprint\u001b[39m(txt\u001b[39m.\u001b[39;49mrindex(\u001b[39m\"\u001b[39;49m\u001b[39mq\u001b[39;49m\u001b[39m\"\u001b[39;49m))\n",
      "\u001b[1;31mValueError\u001b[0m: substring not found"
     ]
    }
   ],
   "source": [
    "# Si no se encuentra el valor, el método rfind() devuelve -1, pero el método rindex() generará una excepción:\n",
    "\n",
    "txt = \"Hello, welcome to my world.\"\n",
    "\n",
    "print(txt.rfind(\"q\"))\n",
    "print(txt.rindex(\"q\"))"
   ]
  },
  {
   "cell_type": "markdown",
   "metadata": {},
   "source": [
    "Python String ``rjust()`` Method"
   ]
  },
  {
   "cell_type": "code",
   "execution_count": 105,
   "metadata": {},
   "outputs": [
    {
     "name": "stdout",
     "output_type": "stream",
     "text": [
      "              banana is my favorite fruit.\n"
     ]
    }
   ],
   "source": [
    "# Devuelve una versión justificada a la derecha de 20 caracteres de largo de la palabra \"banana\":\n",
    "\n",
    "txt = \"banana\"\n",
    "\n",
    "x = txt.rjust(20)\n",
    "\n",
    "print(x, \"is my favorite fruit.\")"
   ]
  },
  {
   "cell_type": "markdown",
   "metadata": {},
   "source": [
    "##### Definición y uso\n",
    "El ``rjust()`` método alineará a la derecha la cadena, utilizando un carácter específico (el espacio es el valor predeterminado) como carácter de relleno.\n",
    "\n",
    "###### Sintaxis\n",
    "``string.rjust(length, character)``"
   ]
  },
  {
   "cell_type": "code",
   "execution_count": 107,
   "metadata": {},
   "outputs": [
    {
     "name": "stdout",
     "output_type": "stream",
     "text": [
      "OOOOOOOOOOOOOObanana\n"
     ]
    }
   ],
   "source": [
    "# Usando la letra \"O\" como carácter de relleno:\n",
    "\n",
    "txt = \"banana\"\n",
    "\n",
    "x = txt.rjust(20, \"O\")\n",
    "\n",
    "print(x)"
   ]
  },
  {
   "cell_type": "markdown",
   "metadata": {},
   "source": [
    "#### Python String ``rpartition()`` Method"
   ]
  },
  {
   "cell_type": "code",
   "execution_count": 109,
   "metadata": {},
   "outputs": [
    {
     "name": "stdout",
     "output_type": "stream",
     "text": [
      "('I could eat bananas all day, ', 'bananas', ' are my favorite fruit')\n"
     ]
    }
   ],
   "source": [
    "'''Busque la última aparición de la palabra \"bananas\" y devuelva una tupla con tres elementos:\n",
    "\n",
    "1 - todo antes del \"partido\"\n",
    "2 - el \"partido\"\n",
    "3 - todo después del \"partido\"'''\n",
    "\n",
    "txt = \"I could eat bananas all day, bananas are my favorite fruit\"\n",
    "\n",
    "x = txt.rpartition(\"bananas\")\n",
    "\n",
    "print(x)"
   ]
  },
  {
   "cell_type": "markdown",
   "metadata": {},
   "source": [
    "##### Definición y uso\n",
    "El ``rpartition()`` método busca la última aparición de una cadena especificada y divide la cadena en una tupla que contiene tres elementos.\n",
    "\n",
    "El primer elemento contiene la parte anterior a la cadena especificada.\n",
    "\n",
    "El segundo elemento contiene la cadena especificada.\n",
    "\n",
    "El tercer elemento contiene la parte después de la cadena.\n",
    "\n",
    "###### Sintaxis\n",
    "``string.rpartition(value)``"
   ]
  },
  {
   "cell_type": "code",
   "execution_count": 110,
   "metadata": {},
   "outputs": [
    {
     "name": "stdout",
     "output_type": "stream",
     "text": [
      "('', '', 'I could eat bananas all day, bananas are my favorite fruit')\n"
     ]
    }
   ],
   "source": [
    "# Si no se encuentra el valor especificado, el método rpartition() devuelve una tupla que contiene: 1 - una cadena vacía, 2 - una cadena vacía, 3 - la cadena completa:\n",
    "\n",
    "txt = \"I could eat bananas all day, bananas are my favorite fruit\"\n",
    "\n",
    "x = txt.rpartition(\"apples\")\n",
    "\n",
    "print(x)"
   ]
  },
  {
   "cell_type": "markdown",
   "metadata": {},
   "source": [
    "#### Python String ``rsplit()`` Method"
   ]
  },
  {
   "cell_type": "code",
   "execution_count": 117,
   "metadata": {},
   "outputs": [
    {
     "name": "stdout",
     "output_type": "stream",
     "text": [
      "['apple', 'banana', 'cherry']\n"
     ]
    }
   ],
   "source": [
    "# Divide una cadena en una lista, usando una coma, seguida de un espacio (,) como separador:\n",
    "\n",
    "txt = \"apple, banana, cherry\"\n",
    "\n",
    "x = txt.rsplit(\", \")\n",
    "\n",
    "print(x)"
   ]
  },
  {
   "cell_type": "markdown",
   "metadata": {},
   "source": [
    "##### Definición y uso\n",
    "El ``rsplit()`` método divide una cadena en una lista, comenzando desde la derecha.\n",
    "\n",
    "Si no se especifica \"max\", este método devolverá lo mismo que el ``split()`` método.\n",
    "\n",
    "Nota: cuando se especifica maxsplit, la lista contendrá el número especificado de elementos más uno .\n",
    "\n",
    "##### Sintaxis\n",
    "``string.rsplit(separator, maxsplit)``"
   ]
  },
  {
   "cell_type": "code",
   "execution_count": 124,
   "metadata": {},
   "outputs": [
    {
     "name": "stdout",
     "output_type": "stream",
     "text": [
      "['apple, banana', 'cherry']\n"
     ]
    }
   ],
   "source": [
    "# Divida la cadena en una lista con un máximo de 2 elementos:\n",
    "\n",
    "txt = \"apple, banana, cherry\"\n",
    "\n",
    "# setting the maxsplit parameter to 1, will return a list with 2 elements!\n",
    "x = txt.rsplit(\", \", 1)\n",
    "\n",
    "print(x)"
   ]
  },
  {
   "cell_type": "markdown",
   "metadata": {},
   "source": [
    "#### Python String ``rstrip()`` Method\n"
   ]
  },
  {
   "cell_type": "code",
   "execution_count": 125,
   "metadata": {},
   "outputs": [
    {
     "name": "stdout",
     "output_type": "stream",
     "text": [
      "of all fruits      banana is my favorite\n"
     ]
    }
   ],
   "source": [
    "# Elimina los espacios en blanco al final de la cadena:\n",
    "\n",
    "txt = \"     banana     \"\n",
    "\n",
    "x = txt.rstrip()\n",
    "\n",
    "print(\"of all fruits\", x, \"is my favorite\")"
   ]
  },
  {
   "cell_type": "markdown",
   "metadata": {},
   "source": [
    "##### Definición y uso\n",
    "El ``rstrip()`` método elimina cualquier carácter final (caracteres al final de una cadena), el espacio es el carácter final predeterminado para eliminar.\n",
    "\n",
    "###### Sintaxis\n",
    "``string.rstrip(characters)``"
   ]
  },
  {
   "cell_type": "code",
   "execution_count": 126,
   "metadata": {},
   "outputs": [
    {
     "name": "stdout",
     "output_type": "stream",
     "text": [
      "banana\n"
     ]
    }
   ],
   "source": [
    "# Elimina los caracteres finales si son comas, puntos, s, q o w:\n",
    "\n",
    "txt = \"banana,,,,,ssqqqww.....\"\n",
    "\n",
    "x = txt.rstrip(\",.qsw\")\n",
    "\n",
    "print(x)"
   ]
  },
  {
   "cell_type": "markdown",
   "metadata": {},
   "source": [
    "#### Python String ``split()`` Method"
   ]
  },
  {
   "cell_type": "code",
   "execution_count": 127,
   "metadata": {},
   "outputs": [
    {
     "name": "stdout",
     "output_type": "stream",
     "text": [
      "['welcome', 'to', 'the', 'jungle']\n"
     ]
    }
   ],
   "source": [
    "# Divide una cadena en una lista donde cada palabra es un elemento de la lista:\n",
    "\n",
    "txt = \"welcome to the jungle\"\n",
    "\n",
    "x = txt.split()\n",
    "\n",
    "print(x)"
   ]
  },
  {
   "cell_type": "markdown",
   "metadata": {},
   "source": [
    "#### Definición y uso\n",
    "El ``split()`` método divide una cadena en una lista.\n",
    "\n",
    "Puede especificar el separador, el separador predeterminado es cualquier espacio en blanco.\n",
    "\n",
    "Nota: cuando se especifica maxsplit, la lista contendrá el número especificado de elementos más uno .\n",
    "\n",
    "##### Sintaxis\n",
    "``string.split(separator, maxsplit)``"
   ]
  },
  {
   "cell_type": "code",
   "execution_count": 128,
   "metadata": {},
   "outputs": [
    {
     "name": "stdout",
     "output_type": "stream",
     "text": [
      "['hello', 'my name is Peter', 'I am 26 years old']\n"
     ]
    }
   ],
   "source": [
    "# Divida la cadena, usando una coma, seguida de un espacio, como separador:\n",
    "\n",
    "txt = \"hello, my name is Peter, I am 26 years old\"\n",
    "\n",
    "x = txt.split(\", \")\n",
    "\n",
    "print(x)"
   ]
  },
  {
   "cell_type": "code",
   "execution_count": 129,
   "metadata": {},
   "outputs": [
    {
     "name": "stdout",
     "output_type": "stream",
     "text": [
      "['apple', 'banana', 'cherry', 'orange']\n"
     ]
    }
   ],
   "source": [
    "# Utilice un carácter hash como separador:\n",
    "\n",
    "txt = \"apple#banana#cherry#orange\"\n",
    "\n",
    "x = txt.split(\"#\")\n",
    "\n",
    "print(x)"
   ]
  },
  {
   "cell_type": "code",
   "execution_count": 130,
   "metadata": {},
   "outputs": [
    {
     "name": "stdout",
     "output_type": "stream",
     "text": [
      "['apple', 'banana#cherry#orange']\n"
     ]
    }
   ],
   "source": [
    "# Divida la cadena en una lista con un máximo de 2 elementos:\n",
    "\n",
    "txt = \"apple#banana#cherry#orange\"\n",
    "\n",
    "# setting the maxsplit parameter to 1, will return a list with 2 elements!\n",
    "x = txt.split(\"#\", 1)\n",
    "\n",
    "print(x)"
   ]
  },
  {
   "cell_type": "markdown",
   "metadata": {},
   "source": [
    "#### Python String ``splitlines()`` Method"
   ]
  },
  {
   "cell_type": "code",
   "execution_count": 131,
   "metadata": {},
   "outputs": [
    {
     "name": "stdout",
     "output_type": "stream",
     "text": [
      "['Thank you for the music', 'Welcome to the jungle']\n"
     ]
    }
   ],
   "source": [
    "# Dividir una cadena en una lista donde cada línea es un elemento de la lista:\n",
    "\n",
    "txt = \"Thank you for the music\\nWelcome to the jungle\"\n",
    "\n",
    "x = txt.splitlines()\n",
    "\n",
    "print(x)"
   ]
  },
  {
   "cell_type": "markdown",
   "metadata": {},
   "source": [
    "#### Definición y uso\n",
    "El ``splitlines()`` método divide una cadena en una lista. La división se realiza en los saltos de línea.\n",
    "\n",
    "##### Sintaxis\n",
    "``string.splitlines(keeplinebreaks)``"
   ]
  },
  {
   "cell_type": "code",
   "execution_count": 132,
   "metadata": {},
   "outputs": [
    {
     "name": "stdout",
     "output_type": "stream",
     "text": [
      "['Thank you for the music\\n', 'Welcome to the jungle']\n"
     ]
    }
   ],
   "source": [
    "# Divida la cadena, pero mantenga los saltos de línea:\n",
    "\n",
    "txt = \"Thank you for the music\\nWelcome to the jungle\"\n",
    "\n",
    "x = txt.splitlines(True)\n",
    "\n",
    "print(x)"
   ]
  },
  {
   "cell_type": "markdown",
   "metadata": {},
   "source": [
    "#### Python String ``startswith()`` Method"
   ]
  },
  {
   "cell_type": "code",
   "execution_count": 133,
   "metadata": {},
   "outputs": [
    {
     "name": "stdout",
     "output_type": "stream",
     "text": [
      "True\n"
     ]
    }
   ],
   "source": [
    "# Compruebe si la cadena comienza con \"Hola\":\n",
    "\n",
    "txt = \"Hello, welcome to my world.\"\n",
    "\n",
    "x = txt.startswith(\"Hello\")\n",
    "\n",
    "print(x)"
   ]
  },
  {
   "cell_type": "markdown",
   "metadata": {},
   "source": [
    "##### Definición y uso\n",
    "El ``startswith()`` método devuelve True si la cadena comienza con el valor especificado; de lo contrario, False.\n",
    "\n",
    "###### Sintaxis\n",
    "string.startswith(value, start, end)"
   ]
  },
  {
   "cell_type": "code",
   "execution_count": 134,
   "metadata": {},
   "outputs": [
    {
     "name": "stdout",
     "output_type": "stream",
     "text": [
      "True\n"
     ]
    }
   ],
   "source": [
    "# Compruebe si la posición 7 a 20 comienza con los caracteres \"wel\":\n",
    "\n",
    "txt = \"Hello, welcome to my world.\"\n",
    "\n",
    "x = txt.startswith(\"wel\", 7, 20)\n",
    "\n",
    "print(x)"
   ]
  },
  {
   "cell_type": "markdown",
   "metadata": {},
   "source": [
    "#### Python String ``strip()`` Method"
   ]
  },
  {
   "cell_type": "code",
   "execution_count": 135,
   "metadata": {},
   "outputs": [
    {
     "name": "stdout",
     "output_type": "stream",
     "text": [
      "of all fruits banana is my favorite\n"
     ]
    }
   ],
   "source": [
    "# Elimina los espacios al principio y al final de la cadena:\n",
    "\n",
    "txt = \"     banana     \"\n",
    "\n",
    "x = txt.strip()\n",
    "\n",
    "print(\"of all fruits\", x, \"is my favorite\")"
   ]
  },
  {
   "cell_type": "markdown",
   "metadata": {},
   "source": [
    "##### Definición y uso\n",
    "El ``strip()`` método elimina los espacios en blanco iniciales y finales.\n",
    "\n",
    "Adelante significa al principio de la cadena, detrás significa al final.\n",
    "\n",
    "Puede especificar qué carácter(es) eliminar, de lo contrario, se eliminarán los espacios en blanco.\n",
    "\n",
    "###### Sintaxis\n",
    "``string.strip(characters)``"
   ]
  },
  {
   "cell_type": "code",
   "execution_count": 136,
   "metadata": {},
   "outputs": [
    {
     "name": "stdout",
     "output_type": "stream",
     "text": [
      "banana\n"
     ]
    }
   ],
   "source": [
    "# Elimina los caracteres iniciales y finales:\n",
    "\n",
    "txt = \",,,,,rrttgg.....banana....rrr\"\n",
    "\n",
    "x = txt.strip(\",.grt\")\n",
    "\n",
    "print(x)"
   ]
  },
  {
   "cell_type": "markdown",
   "metadata": {},
   "source": [
    "#### Python String ``swapcase()`` Method"
   ]
  },
  {
   "cell_type": "code",
   "execution_count": 137,
   "metadata": {},
   "outputs": [
    {
     "name": "stdout",
     "output_type": "stream",
     "text": [
      "hELLO mY nAME iS peter\n"
     ]
    }
   ],
   "source": [
    "# Ponga las letras minúsculas en mayúsculas y las letras mayúsculas en minúsculas:\n",
    "\n",
    "txt = \"Hello My Name Is PETER\"\n",
    "\n",
    "x = txt.swapcase()\n",
    "\n",
    "print(x)"
   ]
  },
  {
   "cell_type": "markdown",
   "metadata": {},
   "source": [
    "##### Definición y uso\n",
    "El ``swapcase()`` método devuelve una cadena donde todas las letras mayúsculas son minúsculas y viceversa.\n",
    "\n",
    "###### Sintaxis\n",
    "``string.swapcase()``"
   ]
  },
  {
   "cell_type": "markdown",
   "metadata": {},
   "source": [
    "#### Python String ``title()`` Method"
   ]
  },
  {
   "cell_type": "code",
   "execution_count": 138,
   "metadata": {},
   "outputs": [
    {
     "name": "stdout",
     "output_type": "stream",
     "text": [
      "Welcome To My World\n"
     ]
    }
   ],
   "source": [
    "# Escribe la primera letra de cada palabra en mayúsculas:\n",
    "\n",
    "txt = \"Welcome to my world\"\n",
    "\n",
    "x = txt.title()\n",
    "\n",
    "print(x)"
   ]
  },
  {
   "cell_type": "markdown",
   "metadata": {},
   "source": [
    "##### Definición y uso\n",
    "El ``title()`` método devuelve una cadena donde el primer carácter de cada palabra está en mayúsculas. Como un encabezado, o un título.\n",
    "\n",
    "Si la palabra contiene un número o un símbolo, la primera letra después de eso se convertirá a mayúsculas.\n",
    "\n",
    "###### Sintaxis\n",
    "``string.title()``"
   ]
  },
  {
   "cell_type": "code",
   "execution_count": 139,
   "metadata": {},
   "outputs": [
    {
     "name": "stdout",
     "output_type": "stream",
     "text": [
      "Welcome To My 2Nd World\n"
     ]
    }
   ],
   "source": [
    "# Escribe la primera letra de cada palabra en mayúsculas:\n",
    "\n",
    "txt = \"Welcome to my 2nd world\"\n",
    "\n",
    "x = txt.title()\n",
    "\n",
    "print(x)"
   ]
  },
  {
   "cell_type": "code",
   "execution_count": 140,
   "metadata": {},
   "outputs": [
    {
     "name": "stdout",
     "output_type": "stream",
     "text": [
      "Hello B2B2B2 And 3G3G3G\n"
     ]
    }
   ],
   "source": [
    "# Tenga en cuenta que la primera letra después de una letra que no es del alfabeto se convierte en una letra mayúscula:\n",
    "\n",
    "txt = \"hello b2b2b2 and 3g3g3g\"\n",
    "\n",
    "x = txt.title()\n",
    "\n",
    "print(x)"
   ]
  },
  {
   "cell_type": "markdown",
   "metadata": {},
   "source": [
    "#### Python String ``translate()`` Method"
   ]
  },
  {
   "cell_type": "code",
   "execution_count": 143,
   "metadata": {},
   "outputs": [
    {
     "name": "stdout",
     "output_type": "stream",
     "text": [
      "Hello Pam!\n"
     ]
    }
   ],
   "source": [
    "# Reemplace cualquier carácter \"S\" con un carácter \"P\":\n",
    "\n",
    "#use a dictionary with ascii codes to replace 83 (S) with 80 (P):\n",
    "mydict = {83:  80}\n",
    "txt = \"Hello Sam!\"\n",
    "print(txt.translate(mydict))"
   ]
  },
  {
   "cell_type": "markdown",
   "metadata": {},
   "source": [
    "##### Definición y uso\n",
    "El ``translate()`` método devuelve una cadena donde algunos caracteres especificados se reemplazan con el carácter descrito en un diccionario o en una tabla de mapeo.\n",
    "\n",
    "Utilice el ``maketrans()`` método para crear una tabla de asignación.\n",
    "\n",
    "Si no se especifica un carácter en el diccionario/tabla, el carácter no se reemplazará.\n",
    "\n",
    "Si usa un diccionario, debe usar códigos ascii en lugar de caracteres.\n",
    "\n",
    "###### Sintaxis\n",
    "``string.translate(table)``"
   ]
  },
  {
   "cell_type": "code",
   "execution_count": 144,
   "metadata": {},
   "outputs": [
    {
     "name": "stdout",
     "output_type": "stream",
     "text": [
      "Hello Pam!\n"
     ]
    }
   ],
   "source": [
    "# Use una tabla de mapeo para reemplazar \"S\" con \"P\":\n",
    "\n",
    "txt = \"Hello Sam!\"\n",
    "mytable = str.maketrans(\"S\", \"P\")\n",
    "print(txt.translate(mytable))"
   ]
  },
  {
   "cell_type": "code",
   "execution_count": 145,
   "metadata": {},
   "outputs": [
    {
     "name": "stdout",
     "output_type": "stream",
     "text": [
      "Hi Joe!\n"
     ]
    }
   ],
   "source": [
    "# Use una tabla de mapeo para reemplazar muchos caracteres:\n",
    "\n",
    "txt = \"Hi Sam!\"\n",
    "x = \"mSa\"\n",
    "y = \"eJo\"\n",
    "mytable = str.maketrans(x, y)\n",
    "print(txt.translate(mytable))"
   ]
  },
  {
   "cell_type": "code",
   "execution_count": 146,
   "metadata": {},
   "outputs": [
    {
     "name": "stdout",
     "output_type": "stream",
     "text": [
      "G i Joe!\n"
     ]
    }
   ],
   "source": [
    "# El tercer parámetro de la tabla de asignación describe los caracteres que desea eliminar de la cadena:\n",
    "\n",
    "txt = \"Good night Sam!\"\n",
    "x = \"mSa\"\n",
    "y = \"eJo\"\n",
    "z = \"odnght\"\n",
    "mytable = str.maketrans(x, y, z)\n",
    "print(txt.translate(mytable))"
   ]
  },
  {
   "cell_type": "code",
   "execution_count": 147,
   "metadata": {},
   "outputs": [
    {
     "name": "stdout",
     "output_type": "stream",
     "text": [
      "G i Joe!\n"
     ]
    }
   ],
   "source": [
    "# El mismo ejemplo anterior, pero usando un diccionario en lugar de una tabla de mapeo:\n",
    "\n",
    "txt = \"Good night Sam!\"\n",
    "mydict = {109: 101, 83: 74, 97: 111, 111: None, 100: None, 110: None, 103: None, 104: None, 116: None}\n",
    "print(txt.translate(mydict))"
   ]
  },
  {
   "cell_type": "markdown",
   "metadata": {},
   "source": [
    "#### Python String ``upper()`` Method"
   ]
  },
  {
   "cell_type": "code",
   "execution_count": 148,
   "metadata": {},
   "outputs": [
    {
     "name": "stdout",
     "output_type": "stream",
     "text": [
      "HELLO MY FRIENDS\n"
     ]
    }
   ],
   "source": [
    "# Mayúsculas la cadena:\n",
    "\n",
    "txt = \"Hello my friends\"\n",
    "\n",
    "x = txt.upper()\n",
    "\n",
    "print(x)"
   ]
  },
  {
   "cell_type": "markdown",
   "metadata": {},
   "source": [
    "##### Definición y uso\n",
    "El ``upper()`` método devuelve una cadena donde todos los caracteres están en mayúsculas.\n",
    "\n",
    " Se ignoran los símbolos y los números.\n",
    "\n",
    "###### Sintaxis\n",
    "``string.upper()``"
   ]
  },
  {
   "cell_type": "markdown",
   "metadata": {},
   "source": [
    "#### Python String ``zfill()`` Method"
   ]
  },
  {
   "cell_type": "code",
   "execution_count": 149,
   "metadata": {},
   "outputs": [
    {
     "name": "stdout",
     "output_type": "stream",
     "text": [
      "0000000050\n"
     ]
    }
   ],
   "source": [
    "# Rellene la cadena con ceros hasta que tenga 10 caracteres:\n",
    "\n",
    "txt = \"50\"\n",
    "\n",
    "x = txt.zfill(10)\n",
    "\n",
    "print(x)"
   ]
  },
  {
   "cell_type": "markdown",
   "metadata": {},
   "source": [
    "##### Definición y uso\n",
    "El ``zfill()`` método agrega ceros (0) al comienzo de la cadena, hasta que alcanza la longitud especificada.\n",
    "\n",
    "Si el valor del parámetro len es menor que la longitud de la cadena, no se realiza ningún relleno.\n",
    "\n",
    "###### Sintaxis\n",
    "``string.zfill(len)``"
   ]
  },
  {
   "cell_type": "code",
   "execution_count": 150,
   "metadata": {},
   "outputs": [
    {
     "name": "stdout",
     "output_type": "stream",
     "text": [
      "00000hello\n",
      "welcome to the jungle\n",
      "000010.000\n"
     ]
    }
   ],
   "source": [
    "# Rellene las cadenas con ceros hasta que tengan 10 caracteres:\n",
    "\n",
    "a = \"hello\"\n",
    "b = \"welcome to the jungle\"\n",
    "c = \"10.000\"\n",
    "\n",
    "print(a.zfill(10))\n",
    "print(b.zfill(10))\n",
    "print(c.zfill(10))"
   ]
  },
  {
   "cell_type": "markdown",
   "metadata": {},
   "source": [
    "## Python Booleans"
   ]
  },
  {
   "cell_type": "markdown",
   "metadata": {},
   "source": [
    "Los booleanos representan uno de dos valores: Trueo False.\n",
    "\n",
    "### Valores booleanos\n",
    "En programación, a menudo necesitas saber si una expresión es ``True`` o ``False``.\n",
    "\n",
    "Puede evaluar cualquier expresión en Python y obtener una de dos respuestas, ``True`` o ``False``.\n",
    "\n",
    "Cuando compara dos valores, la expresión se evalúa y Python devuelve la respuesta booleana:"
   ]
  },
  {
   "cell_type": "code",
   "execution_count": 151,
   "metadata": {},
   "outputs": [
    {
     "name": "stdout",
     "output_type": "stream",
     "text": [
      "True\n",
      "False\n",
      "False\n"
     ]
    }
   ],
   "source": [
    "print(10 > 9)\n",
    "print(10 == 9)\n",
    "print(10 < 9)"
   ]
  },
  {
   "cell_type": "markdown",
   "metadata": {},
   "source": [
    "Cuando ejecuta una condición en una declaración if, Python devuelve ``True`` o ``False``:"
   ]
  },
  {
   "cell_type": "code",
   "execution_count": 153,
   "metadata": {},
   "outputs": [
    {
     "name": "stdout",
     "output_type": "stream",
     "text": [
      "b is not greater than a\n"
     ]
    }
   ],
   "source": [
    "# Imprime un mensaje basado en si la condición es Trueo False:\n",
    "\n",
    "a = 200\n",
    "b = 33\n",
    "\n",
    "if b > a:\n",
    "  print(\"b is greater than a\")\n",
    "else:\n",
    "  print(\"b is not greater than a\")"
   ]
  },
  {
   "cell_type": "markdown",
   "metadata": {},
   "source": [
    "### Evaluar valores y variables\n",
    "La ``bool()`` función te permite evaluar cualquier valor, y darte Trueo False a cambio,"
   ]
  },
  {
   "cell_type": "code",
   "execution_count": 154,
   "metadata": {},
   "outputs": [
    {
     "name": "stdout",
     "output_type": "stream",
     "text": [
      "True\n",
      "True\n"
     ]
    }
   ],
   "source": [
    "# Evaluar una cadena y un número:\n",
    "\n",
    "print(bool(\"Hello\"))\n",
    "print(bool(15))"
   ]
  },
  {
   "cell_type": "code",
   "execution_count": 155,
   "metadata": {},
   "outputs": [
    {
     "name": "stdout",
     "output_type": "stream",
     "text": [
      "True\n",
      "True\n"
     ]
    }
   ],
   "source": [
    "# Evalúa dos variables:\n",
    "\n",
    "x = \"Hello\"\n",
    "y = 15\n",
    "\n",
    "print(bool(x))\n",
    "print(bool(y))"
   ]
  },
  {
   "cell_type": "markdown",
   "metadata": {},
   "source": [
    "### La mayoría de los valores son verdaderos\n",
    "Casi cualquier valor se evalúa ``True`` si tiene algún tipo de contenido.\n",
    "\n",
    "Cualquier cadena es ``True``, excepto las cadenas vacías.\n",
    "\n",
    "Cualquier número es ``True``, excepto 0.\n",
    "\n",
    "Cualquier lista, tupla, conjunto y diccionario son ``True``, excepto los vacíos."
   ]
  },
  {
   "cell_type": "code",
   "execution_count": 156,
   "metadata": {},
   "outputs": [
    {
     "data": {
      "text/plain": [
       "True"
      ]
     },
     "execution_count": 156,
     "metadata": {},
     "output_type": "execute_result"
    }
   ],
   "source": [
    "# Lo siguiente devolverá True:\n",
    "\n",
    "bool(\"abc\")\n",
    "bool(123)\n",
    "bool([\"apple\", \"cherry\", \"banana\"])"
   ]
  },
  {
   "cell_type": "markdown",
   "metadata": {},
   "source": [
    "### Algunos valores son falsos\n",
    "De hecho, no hay muchos valores que se evalúen como ``False``, excepto valores vacíos, como ``()``, ``[]``, ``{}``, ``\"\"``, el número ``0`` y el valor ``None``. Y, por supuesto, el valor ``False`` se evalúa como ``False``."
   ]
  },
  {
   "cell_type": "code",
   "execution_count": 159,
   "metadata": {},
   "outputs": [
    {
     "name": "stdout",
     "output_type": "stream",
     "text": [
      "False\n",
      "False\n",
      "False\n",
      "False\n",
      "False\n",
      "False\n",
      "False\n"
     ]
    }
   ],
   "source": [
    "# Lo siguiente devolverá Falso:\n",
    "\n",
    "print(bool(False))\n",
    "print(bool(None))\n",
    "print(bool(0))\n",
    "print(bool(\"\"))\n",
    "print(bool(()))\n",
    "print(bool([]))\n",
    "print(bool({}))"
   ]
  },
  {
   "cell_type": "markdown",
   "metadata": {},
   "source": [
    "Un valor más, u objeto en este caso, se evalúa como ``False``, y eso es si tiene un objeto que se crea a partir de una clase con una ``__len__`` función que devuelve ``0`` o ``False``:"
   ]
  },
  {
   "cell_type": "code",
   "execution_count": 160,
   "metadata": {},
   "outputs": [
    {
     "name": "stdout",
     "output_type": "stream",
     "text": [
      "False\n"
     ]
    }
   ],
   "source": [
    "class myclass():\n",
    "  def __len__(self):\n",
    "    return 0\n",
    "\n",
    "myobj = myclass()\n",
    "print(bool(myobj))"
   ]
  },
  {
   "cell_type": "markdown",
   "metadata": {},
   "source": [
    "### Las funciones pueden devolver un valor booleano\n",
    "Puede crear funciones que devuelvan un valor booleano:"
   ]
  },
  {
   "cell_type": "code",
   "execution_count": 161,
   "metadata": {},
   "outputs": [
    {
     "name": "stdout",
     "output_type": "stream",
     "text": [
      "True\n"
     ]
    }
   ],
   "source": [
    "# Imprime la respuesta de una función:\n",
    "\n",
    "def myFunction() :\n",
    "  return True\n",
    "\n",
    "print(myFunction())"
   ]
  },
  {
   "cell_type": "markdown",
   "metadata": {},
   "source": [
    "Puede ejecutar código basado en la respuesta booleana de una función:"
   ]
  },
  {
   "cell_type": "code",
   "execution_count": 162,
   "metadata": {},
   "outputs": [
    {
     "name": "stdout",
     "output_type": "stream",
     "text": [
      "YES!\n"
     ]
    }
   ],
   "source": [
    "# Imprimir \"¡SÍ!\" si la función devuelve True, de lo contrario imprime \"¡NO!\":\n",
    "\n",
    "def myFunction() :\n",
    "  return True\n",
    "\n",
    "if myFunction():\n",
    "  print(\"YES!\")\n",
    "else:\n",
    "  print(\"NO!\")"
   ]
  },
  {
   "cell_type": "markdown",
   "metadata": {},
   "source": [
    "Python también tiene muchas funciones integradas que devuelven un valor booleano, como la isinstance() función, que se puede usar para determinar si un objeto es de cierto tipo de datos:"
   ]
  },
  {
   "cell_type": "code",
   "execution_count": 164,
   "metadata": {},
   "outputs": [
    {
     "name": "stdout",
     "output_type": "stream",
     "text": [
      "True\n"
     ]
    }
   ],
   "source": [
    "x = 200\n",
    "print(isinstance(x, int))"
   ]
  },
  {
   "cell_type": "markdown",
   "metadata": {},
   "source": [
    "## Python Operators"
   ]
  },
  {
   "cell_type": "markdown",
   "metadata": {},
   "source": [
    "### Operadores de Python\n",
    "Los operadores se utilizan para realizar operaciones en variables y valores.\n",
    "\n",
    "En el siguiente ejemplo, usamos el ``+`` operador para sumar dos valores:"
   ]
  },
  {
   "cell_type": "code",
   "execution_count": 165,
   "metadata": {},
   "outputs": [
    {
     "name": "stdout",
     "output_type": "stream",
     "text": [
      "15\n"
     ]
    }
   ],
   "source": [
    "print(10 + 5)"
   ]
  },
  {
   "cell_type": "markdown",
   "metadata": {},
   "source": [
    "Python divide a los operadores en los siguientes grupos:\n",
    "\n",
    "- Operadores aritméticos\n",
    "- Operadores de Asignación\n",
    "- Operadores de comparación\n",
    "- Operadores logicos\n",
    "- Operadores de identidad\n",
    "- Operadores de membresía\n",
    "- Operadores bit a bit\n",
    "### Operadores aritméticos de Python\n",
    "Los operadores aritméticos se utilizan con valores numéricos para realizar operaciones matemáticas comunes:\n",
    "\n"
   ]
  },
  {
   "cell_type": "markdown",
   "metadata": {},
   "source": [
    "- \" + \" Addition x + y"
   ]
  },
  {
   "cell_type": "code",
   "execution_count": null,
   "metadata": {},
   "outputs": [],
   "source": [
    "x = 5\n",
    "y = 3\n",
    "\n",
    "print(x + y)"
   ]
  },
  {
   "cell_type": "markdown",
   "metadata": {},
   "source": [
    "- \" - \"\tSubtraction\tx - y"
   ]
  },
  {
   "cell_type": "code",
   "execution_count": 166,
   "metadata": {},
   "outputs": [
    {
     "name": "stdout",
     "output_type": "stream",
     "text": [
      "2\n"
     ]
    }
   ],
   "source": [
    "x = 5\n",
    "y = 3\n",
    "\n",
    "print(x - y)"
   ]
  },
  {
   "cell_type": "markdown",
   "metadata": {},
   "source": [
    "- \" * \"\tMultiplication\tx * y"
   ]
  },
  {
   "cell_type": "code",
   "execution_count": 167,
   "metadata": {},
   "outputs": [
    {
     "name": "stdout",
     "output_type": "stream",
     "text": [
      "15\n"
     ]
    }
   ],
   "source": [
    "x = 5\n",
    "y = 3\n",
    "\n",
    "print(x * y)"
   ]
  },
  {
   "cell_type": "markdown",
   "metadata": {},
   "source": [
    "- \" / \" Division x / y"
   ]
  },
  {
   "cell_type": "code",
   "execution_count": 168,
   "metadata": {},
   "outputs": [
    {
     "name": "stdout",
     "output_type": "stream",
     "text": [
      "1.6666666666666667\n"
     ]
    }
   ],
   "source": [
    "x = 5\n",
    "y = 3\n",
    "\n",
    "print(x / y)"
   ]
  },
  {
   "cell_type": "markdown",
   "metadata": {},
   "source": [
    "- \" % \"\tModulus\tx % y"
   ]
  },
  {
   "cell_type": "code",
   "execution_count": 169,
   "metadata": {},
   "outputs": [
    {
     "name": "stdout",
     "output_type": "stream",
     "text": [
      "1\n"
     ]
    }
   ],
   "source": [
    "x = 5\n",
    "y = 2\n",
    "\n",
    "print(x % y)"
   ]
  },
  {
   "cell_type": "markdown",
   "metadata": {},
   "source": [
    "- \" ** \" Exponentiation x ** y"
   ]
  },
  {
   "cell_type": "code",
   "execution_count": 170,
   "metadata": {},
   "outputs": [
    {
     "name": "stdout",
     "output_type": "stream",
     "text": [
      "32\n"
     ]
    }
   ],
   "source": [
    "x = 2\n",
    "y = 5\n",
    "\n",
    "print(x ** y) #same as 2*2*2*2*2"
   ]
  },
  {
   "cell_type": "markdown",
   "metadata": {},
   "source": [
    "- \" // \" Floor division x // y"
   ]
  },
  {
   "cell_type": "code",
   "execution_count": 171,
   "metadata": {},
   "outputs": [
    {
     "name": "stdout",
     "output_type": "stream",
     "text": [
      "7\n"
     ]
    }
   ],
   "source": [
    "x = 15\n",
    "y = 2\n",
    "\n",
    "print(x // y)\n",
    "\n",
    "#the floor division // rounds the result down to the nearest whole number"
   ]
  },
  {
   "cell_type": "markdown",
   "metadata": {},
   "source": [
    "### Operadores de asignación de Python\n",
    "Los operadores de asignación se utilizan para asignar valores a las variables:"
   ]
  },
  {
   "cell_type": "code",
   "execution_count": 172,
   "metadata": {},
   "outputs": [
    {
     "name": "stdout",
     "output_type": "stream",
     "text": [
      "5\n"
     ]
    }
   ],
   "source": [
    "# =\tx = 5\tx = 5\n",
    "x = 5\n",
    "\n",
    "print(x)"
   ]
  },
  {
   "cell_type": "code",
   "execution_count": 173,
   "metadata": {},
   "outputs": [
    {
     "name": "stdout",
     "output_type": "stream",
     "text": [
      "8\n"
     ]
    }
   ],
   "source": [
    "# +=\tx += 3\tx = x + 3\n",
    "x = 5\n",
    "\n",
    "x += 3\n",
    "\n",
    "print(x)\n"
   ]
  },
  {
   "cell_type": "code",
   "execution_count": 174,
   "metadata": {},
   "outputs": [
    {
     "name": "stdout",
     "output_type": "stream",
     "text": [
      "2\n"
     ]
    }
   ],
   "source": [
    "# -=\tx -= 3\tx = x - 3\n",
    "x = 5\n",
    "x -= 3\n",
    "print(x)\n"
   ]
  },
  {
   "cell_type": "code",
   "execution_count": 175,
   "metadata": {},
   "outputs": [
    {
     "name": "stdout",
     "output_type": "stream",
     "text": [
      "15\n"
     ]
    }
   ],
   "source": [
    "# *=\tx *= 3\tx = x * 3\n",
    "x = 5\n",
    "x *= 3\n",
    "print(x)\n"
   ]
  },
  {
   "cell_type": "code",
   "execution_count": 176,
   "metadata": {},
   "outputs": [
    {
     "name": "stdout",
     "output_type": "stream",
     "text": [
      "1.6666666666666667\n"
     ]
    }
   ],
   "source": [
    "# /=\tx /= 3\tx = x / 3\n",
    "x = 5\n",
    "x /= 3\n",
    "print(x)"
   ]
  },
  {
   "cell_type": "code",
   "execution_count": 177,
   "metadata": {},
   "outputs": [
    {
     "name": "stdout",
     "output_type": "stream",
     "text": [
      "2\n"
     ]
    }
   ],
   "source": [
    "# %=\tx %= 3\tx = x % 3\n",
    "x = 5\n",
    "x%=3\n",
    "print(x)"
   ]
  },
  {
   "cell_type": "code",
   "execution_count": 178,
   "metadata": {},
   "outputs": [
    {
     "name": "stdout",
     "output_type": "stream",
     "text": [
      "1\n"
     ]
    }
   ],
   "source": [
    "# //=\tx //= 3\tx = x // 3\n",
    "x = 5\n",
    "x//=3\n",
    "print(x)"
   ]
  },
  {
   "cell_type": "code",
   "execution_count": 179,
   "metadata": {},
   "outputs": [
    {
     "name": "stdout",
     "output_type": "stream",
     "text": [
      "125\n"
     ]
    }
   ],
   "source": [
    "# **=\tx **= 3\tx = x ** 3\n",
    "x = 5\n",
    "x **= 3\n",
    "print(x)"
   ]
  },
  {
   "cell_type": "code",
   "execution_count": 180,
   "metadata": {},
   "outputs": [
    {
     "name": "stdout",
     "output_type": "stream",
     "text": [
      "1\n"
     ]
    }
   ],
   "source": [
    "# &=\tx &= 3\tx = x & 3\n",
    "x = 5\n",
    "x &= 3\n",
    "print(x)"
   ]
  },
  {
   "cell_type": "code",
   "execution_count": 181,
   "metadata": {},
   "outputs": [
    {
     "name": "stdout",
     "output_type": "stream",
     "text": [
      "7\n"
     ]
    }
   ],
   "source": [
    "# |=\tx |= 3\tx = x | 3\n",
    "x = 5\n",
    "x |= 3\n",
    "print(x)\n"
   ]
  },
  {
   "cell_type": "code",
   "execution_count": 182,
   "metadata": {},
   "outputs": [
    {
     "name": "stdout",
     "output_type": "stream",
     "text": [
      "6\n"
     ]
    }
   ],
   "source": [
    "# ^=\tx ^= 3\tx = x ^ 3\n",
    "x = 5\n",
    "x ^= 3\n",
    "print(x)\n"
   ]
  },
  {
   "cell_type": "code",
   "execution_count": 183,
   "metadata": {},
   "outputs": [
    {
     "name": "stdout",
     "output_type": "stream",
     "text": [
      "0\n"
     ]
    }
   ],
   "source": [
    "# >>=\tx >>= 3\tx = x >> 3\n",
    "x = 5\n",
    "x >>= 3\n",
    "print(x)\n"
   ]
  },
  {
   "cell_type": "code",
   "execution_count": 184,
   "metadata": {},
   "outputs": [
    {
     "name": "stdout",
     "output_type": "stream",
     "text": [
      "40\n"
     ]
    }
   ],
   "source": [
    "# <<=\tx <<= 3\tx = x << 3\n",
    "x = 5\n",
    "x <<= 3\n",
    "print(x)"
   ]
  },
  {
   "cell_type": "markdown",
   "metadata": {},
   "source": [
    "### Operadores de comparación de Python\n",
    "Los operadores de comparación se utilizan para comparar dos valores:"
   ]
  },
  {
   "cell_type": "code",
   "execution_count": null,
   "metadata": {},
   "outputs": [],
   "source": [
    "# ==\tEqual\tx == y\n",
    "x = 5\n",
    "y = 3\n",
    "\n",
    "print(x == y)\n",
    "\n",
    "# returns False because 5 is not equal to 3"
   ]
  },
  {
   "cell_type": "code",
   "execution_count": 1,
   "metadata": {},
   "outputs": [
    {
     "name": "stdout",
     "output_type": "stream",
     "text": [
      "True\n"
     ]
    }
   ],
   "source": [
    "# !=\tNot equal\tx != y\n",
    "x = 5\n",
    "y = 3\n",
    "\n",
    "print(x != y)\n",
    "\n",
    "# returns True because 5 is not equal to 3"
   ]
  },
  {
   "cell_type": "code",
   "execution_count": 2,
   "metadata": {},
   "outputs": [
    {
     "name": "stdout",
     "output_type": "stream",
     "text": [
      "True\n"
     ]
    }
   ],
   "source": [
    "# >\tGreater than\tx > y\n",
    "x = 5\n",
    "y = 3\n",
    "\n",
    "print(x > y)\n",
    "\n",
    "# returns True because 5 is greater than 3"
   ]
  },
  {
   "cell_type": "code",
   "execution_count": 3,
   "metadata": {},
   "outputs": [
    {
     "name": "stdout",
     "output_type": "stream",
     "text": [
      "False\n"
     ]
    }
   ],
   "source": [
    "# <\tLess than\tx < y\n",
    "x = 5\n",
    "y = 3\n",
    "\n",
    "print(x < y)\n",
    "\n",
    "# returns False because 5 is not less than 3"
   ]
  },
  {
   "cell_type": "code",
   "execution_count": 4,
   "metadata": {},
   "outputs": [
    {
     "name": "stdout",
     "output_type": "stream",
     "text": [
      "True\n"
     ]
    }
   ],
   "source": [
    "# >=\tGreater than or equal to\tx >= y\n",
    "x = 5\n",
    "y = 3\n",
    "\n",
    "print(x >= y)\n",
    "\n",
    "# returns True because five is greater, or equal, to 3"
   ]
  },
  {
   "cell_type": "code",
   "execution_count": 5,
   "metadata": {},
   "outputs": [
    {
     "name": "stdout",
     "output_type": "stream",
     "text": [
      "False\n"
     ]
    }
   ],
   "source": [
    "# <=\tLess than or equal to\tx <= y\n",
    "x = 5\n",
    "y = 3\n",
    "\n",
    "print(x <= y)\n",
    "\n",
    "# returns False because 5 is neither less than or equal to 3"
   ]
  },
  {
   "cell_type": "markdown",
   "metadata": {},
   "source": [
    "### Operadores lógicos de Python\n",
    "Los operadores lógicos se utilizan para combinar sentencias condicionales:"
   ]
  },
  {
   "cell_type": "code",
   "execution_count": 6,
   "metadata": {},
   "outputs": [
    {
     "name": "stdout",
     "output_type": "stream",
     "text": [
      "True\n"
     ]
    }
   ],
   "source": [
    "# and \tReturns True if both statements are true\tx < 5 and  x < 10\n",
    "x = 5\n",
    "\n",
    "print(x > 3 and x < 10)\n",
    "\n",
    "# returns True because 5 is greater than 3 AND 5 is less than 10"
   ]
  },
  {
   "cell_type": "code",
   "execution_count": 7,
   "metadata": {},
   "outputs": [
    {
     "name": "stdout",
     "output_type": "stream",
     "text": [
      "True\n"
     ]
    }
   ],
   "source": [
    "# or\tReturns True if one of the statements is true\tx < 5 or x < 4\n",
    "x = 5\n",
    "\n",
    "print(x > 3 or x < 4)\n",
    "\n",
    "# returns True because one of the conditions are true (5 is greater than 3, but 5 is not less than 4)"
   ]
  },
  {
   "cell_type": "code",
   "execution_count": 8,
   "metadata": {},
   "outputs": [
    {
     "name": "stdout",
     "output_type": "stream",
     "text": [
      "False\n"
     ]
    }
   ],
   "source": [
    "# not\tReverse the result, returns False if the result is true\tnot(x < 5 and x < 10)\n",
    "x = 5\n",
    "\n",
    "print(not(x > 3 and x < 10))\n",
    "\n",
    "# returns False because not is used to reverse the result"
   ]
  },
  {
   "cell_type": "markdown",
   "metadata": {},
   "source": [
    "## Operadores bit a bit de Python\n",
    "Los operadores bit a bit se utilizan para comparar números (binarios):"
   ]
  },
  {
   "cell_type": "code",
   "execution_count": 9,
   "metadata": {},
   "outputs": [
    {
     "name": "stdout",
     "output_type": "stream",
     "text": [
      "2\n"
     ]
    },
    {
     "data": {
      "text/plain": [
       "'\\nThe & operator compares each bit and set it to 1 if both are 1, otherwise it is set to 0:\\n\\n6 = 0000000000000110\\n3 = 0000000000000011\\n--------------------\\n2 = 0000000000000010\\n====================\\n\\nDecimal numbers and their binary values:\\n0 = 0000000000000000\\n1 = 0000000000000001\\n2 = 0000000000000010\\n3 = 0000000000000011\\n4 = 0000000000000100\\n5 = 0000000000000101\\n6 = 0000000000000110\\n7 = 0000000000000111\\n'"
      ]
     },
     "execution_count": 9,
     "metadata": {},
     "output_type": "execute_result"
    }
   ],
   "source": [
    "# & \tAND\tSets each bit to 1 if both bits are 1\tx & y\n",
    "print(6 & 3)\n",
    "\n",
    "\n",
    "\n",
    "\"\"\"\n",
    "The & operator compares each bit and set it to 1 if both are 1, otherwise it is set to 0:\n",
    "\n",
    "6 = 0000000000000110\n",
    "3 = 0000000000000011\n",
    "--------------------\n",
    "2 = 0000000000000010\n",
    "====================\n",
    "\n",
    "Decimal numbers and their binary values:\n",
    "0 = 0000000000000000\n",
    "1 = 0000000000000001\n",
    "2 = 0000000000000010\n",
    "3 = 0000000000000011\n",
    "4 = 0000000000000100\n",
    "5 = 0000000000000101\n",
    "6 = 0000000000000110\n",
    "7 = 0000000000000111\n",
    "\"\"\""
   ]
  },
  {
   "cell_type": "code",
   "execution_count": 10,
   "metadata": {},
   "outputs": [
    {
     "name": "stdout",
     "output_type": "stream",
     "text": [
      "7\n"
     ]
    },
    {
     "data": {
      "text/plain": [
       "'\\nThe | operator compares each bit and set it to 1 if one or both is 1, otherwise it is set to 0:\\n\\n6 = 0000000000000110\\n3 = 0000000000000011\\n--------------------\\n7 = 0000000000000111\\n====================\\n\\nDecimal numbers and their binary values:\\n0 = 0000000000000000\\n1 = 0000000000000001\\n2 = 0000000000000010\\n3 = 0000000000000011\\n4 = 0000000000000100\\n5 = 0000000000000101\\n6 = 0000000000000110\\n7 = 0000000000000111\\n'"
      ]
     },
     "execution_count": 10,
     "metadata": {},
     "output_type": "execute_result"
    }
   ],
   "source": [
    "# |\tOR\tSets each bit to 1 if one of two bits is 1\tx | y\n",
    "print(6 | 3)\n",
    "\n",
    "\n",
    "\n",
    "\"\"\"\n",
    "The | operator compares each bit and set it to 1 if one or both is 1, otherwise it is set to 0:\n",
    "\n",
    "6 = 0000000000000110\n",
    "3 = 0000000000000011\n",
    "--------------------\n",
    "7 = 0000000000000111\n",
    "====================\n",
    "\n",
    "Decimal numbers and their binary values:\n",
    "0 = 0000000000000000\n",
    "1 = 0000000000000001\n",
    "2 = 0000000000000010\n",
    "3 = 0000000000000011\n",
    "4 = 0000000000000100\n",
    "5 = 0000000000000101\n",
    "6 = 0000000000000110\n",
    "7 = 0000000000000111\n",
    "\"\"\"\n",
    "\n"
   ]
  },
  {
   "cell_type": "code",
   "execution_count": 11,
   "metadata": {},
   "outputs": [
    {
     "name": "stdout",
     "output_type": "stream",
     "text": [
      "5\n"
     ]
    },
    {
     "data": {
      "text/plain": [
       "'\\nThe ^ operator compares each bit and set it to 1 if only one is 1, otherwise (if both are 1 or both are 0) it is set to 0:\\n\\n6 = 0000000000000110\\n3 = 0000000000000011\\n--------------------\\n5 = 0000000000000101\\n====================\\n\\nDecimal numbers and their binary values:\\n0 = 0000000000000000\\n1 = 0000000000000001\\n2 = 0000000000000010\\n3 = 0000000000000011\\n4 = 0000000000000100\\n5 = 0000000000000101\\n6 = 0000000000000110\\n7 = 0000000000000111\\n'"
      ]
     },
     "execution_count": 11,
     "metadata": {},
     "output_type": "execute_result"
    }
   ],
   "source": [
    "# ^\tXOR\tSets each bit to 1 if only one of two bits is 1\tx ^ y\n",
    "print(6 ^ 3)\n",
    "\n",
    "\n",
    "\n",
    "\"\"\"\n",
    "The ^ operator compares each bit and set it to 1 if only one is 1, otherwise (if both are 1 or both are 0) it is set to 0:\n",
    "\n",
    "6 = 0000000000000110\n",
    "3 = 0000000000000011\n",
    "--------------------\n",
    "5 = 0000000000000101\n",
    "====================\n",
    "\n",
    "Decimal numbers and their binary values:\n",
    "0 = 0000000000000000\n",
    "1 = 0000000000000001\n",
    "2 = 0000000000000010\n",
    "3 = 0000000000000011\n",
    "4 = 0000000000000100\n",
    "5 = 0000000000000101\n",
    "6 = 0000000000000110\n",
    "7 = 0000000000000111\n",
    "\"\"\"\n"
   ]
  },
  {
   "cell_type": "code",
   "execution_count": 12,
   "metadata": {},
   "outputs": [
    {
     "name": "stdout",
     "output_type": "stream",
     "text": [
      "-4\n"
     ]
    },
    {
     "data": {
      "text/plain": [
       "'\\nThe ~ operator inverts each bit (0 becomes 1 and 1 becomes 0).\\n\\nInverted 3 becomes -4:\\n 3 = 0000000000000011\\n-4 = 1111111111111100\\n\\nDecimal numbers and their binary values:\\n 4 = 0000000000000100\\n 3 = 0000000000000011\\n 2 = 0000000000000010\\n 1 = 0000000000000001\\n 0 = 0000000000000000\\n-1 = 1111111111111111\\n-2 = 1111111111111110\\n-3 = 1111111111111101\\n-4 = 1111111111111100\\n'"
      ]
     },
     "execution_count": 12,
     "metadata": {},
     "output_type": "execute_result"
    }
   ],
   "source": [
    "# ~\tNOT\tInverts all the bits\t~x\n",
    "print(~3)\n",
    "\n",
    "\n",
    "\n",
    "\"\"\"\n",
    "The ~ operator inverts each bit (0 becomes 1 and 1 becomes 0).\n",
    "\n",
    "Inverted 3 becomes -4:\n",
    " 3 = 0000000000000011\n",
    "-4 = 1111111111111100\n",
    "\n",
    "Decimal numbers and their binary values:\n",
    " 4 = 0000000000000100\n",
    " 3 = 0000000000000011\n",
    " 2 = 0000000000000010\n",
    " 1 = 0000000000000001\n",
    " 0 = 0000000000000000\n",
    "-1 = 1111111111111111\n",
    "-2 = 1111111111111110\n",
    "-3 = 1111111111111101\n",
    "-4 = 1111111111111100\n",
    "\"\"\""
   ]
  },
  {
   "cell_type": "code",
   "execution_count": 13,
   "metadata": {},
   "outputs": [
    {
     "name": "stdout",
     "output_type": "stream",
     "text": [
      "12\n"
     ]
    },
    {
     "data": {
      "text/plain": [
       "\"\\nThe << operator inserts the specified number of 0's (in this case 2) from the right and let the same amount of leftmost bits fall off:\\n\\nIf you push 00 in from the left:\\n 3 = 0000000000000011\\nbecomes\\n12 = 0000000000001100\\n\\nDecimal numbers and their binary values:\\n 0 = 0000000000000000\\n 1 = 0000000000000001\\n 2 = 0000000000000010\\n 3 = 0000000000000011\\n 4 = 0000000000000100\\n 5 = 0000000000000101\\n 6 = 0000000000000110\\n 7 = 0000000000000111\\n 8 = 0000000000001000\\n 9 = 0000000000001001\\n10 = 0000000000001010\\n11 = 0000000000001011\\n12 = 0000000000001100\\n\""
      ]
     },
     "execution_count": 13,
     "metadata": {},
     "output_type": "execute_result"
    }
   ],
   "source": [
    "# <<\tZero fill left shift\tShift left by pushing zeros in from the right and let the leftmost bits fall off\tx << 2\n",
    "print(3 << 2)\n",
    "\n",
    "\n",
    "\n",
    "\"\"\"\n",
    "The << operator inserts the specified number of 0's (in this case 2) from the right and let the same amount of leftmost bits fall off:\n",
    "\n",
    "If you push 00 in from the left:\n",
    " 3 = 0000000000000011\n",
    "becomes\n",
    "12 = 0000000000001100\n",
    "\n",
    "Decimal numbers and their binary values:\n",
    " 0 = 0000000000000000\n",
    " 1 = 0000000000000001\n",
    " 2 = 0000000000000010\n",
    " 3 = 0000000000000011\n",
    " 4 = 0000000000000100\n",
    " 5 = 0000000000000101\n",
    " 6 = 0000000000000110\n",
    " 7 = 0000000000000111\n",
    " 8 = 0000000000001000\n",
    " 9 = 0000000000001001\n",
    "10 = 0000000000001010\n",
    "11 = 0000000000001011\n",
    "12 = 0000000000001100\n",
    "\"\"\""
   ]
  },
  {
   "cell_type": "code",
   "execution_count": 14,
   "metadata": {},
   "outputs": [
    {
     "name": "stdout",
     "output_type": "stream",
     "text": [
      "2\n"
     ]
    },
    {
     "data": {
      "text/plain": [
       "\"\\nThe >> operator moves each bit the specified number of times to the right. Empty holes at the left are filled with 0's.\\n\\nIf you move each bit 2 times to the right, 8 becomes 2:\\n 8 = 0000000000001000\\nbecomes\\n 2 = 0000000000000010\\n\\nDecimal numbers and their binary values:\\n 0 = 0000000000000000\\n 1 = 0000000000000001\\n 2 = 0000000000000010\\n 3 = 0000000000000011\\n 4 = 0000000000000100\\n 5 = 0000000000000101\\n 6 = 0000000000000110\\n 7 = 0000000000000111\\n 8 = 0000000000001000\\n 9 = 0000000000001001\\n10 = 0000000000001010\\n11 = 0000000000001011\\n12 = 0000000000001100\\n\""
      ]
     },
     "execution_count": 14,
     "metadata": {},
     "output_type": "execute_result"
    }
   ],
   "source": [
    "# >>\tSigned right shift\tShift right by pushing copies of the leftmost bit in from the left, and let the rightmost bits fall off\tx >> 2\n",
    "print(8 >> 2)\n",
    "\n",
    "\n",
    "\n",
    "\"\"\"\n",
    "The >> operator moves each bit the specified number of times to the right. Empty holes at the left are filled with 0's.\n",
    "\n",
    "If you move each bit 2 times to the right, 8 becomes 2:\n",
    " 8 = 0000000000001000\n",
    "becomes\n",
    " 2 = 0000000000000010\n",
    "\n",
    "Decimal numbers and their binary values:\n",
    " 0 = 0000000000000000\n",
    " 1 = 0000000000000001\n",
    " 2 = 0000000000000010\n",
    " 3 = 0000000000000011\n",
    " 4 = 0000000000000100\n",
    " 5 = 0000000000000101\n",
    " 6 = 0000000000000110\n",
    " 7 = 0000000000000111\n",
    " 8 = 0000000000001000\n",
    " 9 = 0000000000001001\n",
    "10 = 0000000000001010\n",
    "11 = 0000000000001011\n",
    "12 = 0000000000001100\n",
    "\"\"\""
   ]
  },
  {
   "cell_type": "markdown",
   "metadata": {},
   "source": [
    "## Precedencia de operadores\n",
    "La precedencia de operadores describe el orden en que se realizan las operaciones."
   ]
  },
  {
   "cell_type": "code",
   "execution_count": 15,
   "metadata": {},
   "outputs": [
    {
     "name": "stdout",
     "output_type": "stream",
     "text": [
      "0\n"
     ]
    }
   ],
   "source": [
    "# Los paréntesis tienen la prioridad más alta, lo que significa que las expresiones entre paréntesis deben evaluarse primero:\n",
    "print((6 + 3) - (6 + 3))"
   ]
  },
  {
   "cell_type": "code",
   "execution_count": 16,
   "metadata": {},
   "outputs": [
    {
     "name": "stdout",
     "output_type": "stream",
     "text": [
      "115\n"
     ]
    }
   ],
   "source": [
    "# La multiplicación *tiene mayor prioridad que la suma +y, por lo tanto, las multiplicaciones se evalúan antes que las sumas:\n",
    "\n",
    "print(100 + 5 * 3)"
   ]
  },
  {
   "cell_type": "markdown",
   "metadata": {},
   "source": [
    "El orden de precedencia se describe en la siguiente tabla, comenzando con la precedencia más alta en la parte superior:"
   ]
  },
  {
   "cell_type": "code",
   "execution_count": 17,
   "metadata": {},
   "outputs": [
    {
     "name": "stdout",
     "output_type": "stream",
     "text": [
      "0\n"
     ]
    },
    {
     "data": {
      "text/plain": [
       "'\\nParenthesis have the highest precedence, and need to be evaluated first.\\nThe calculation above reads 9 - 9 = 0\\n'"
      ]
     },
     "execution_count": 17,
     "metadata": {},
     "output_type": "execute_result"
    }
   ],
   "source": [
    "# ()\tParentheses\n",
    "print((6 + 3) - (6 + 3))\n",
    "\n",
    "\"\"\"\n",
    "Parenthesis have the highest precedence, and need to be evaluated first.\n",
    "The calculation above reads 9 - 9 = 0\n",
    "\"\"\""
   ]
  },
  {
   "cell_type": "code",
   "execution_count": 18,
   "metadata": {},
   "outputs": [
    {
     "name": "stdout",
     "output_type": "stream",
     "text": [
      "73\n"
     ]
    },
    {
     "data": {
      "text/plain": [
       "'\\nExponentiation has higher precedence than subtraction, and needs to be evaluated first.\\nThe calculation above reads 100 - 27 = 73\\n'"
      ]
     },
     "execution_count": 18,
     "metadata": {},
     "output_type": "execute_result"
    }
   ],
   "source": [
    "# **\tExponentiation\n",
    "print(100 - 3 ** 3)\n",
    "\n",
    "\"\"\"\n",
    "Exponentiation has higher precedence than subtraction, and needs to be evaluated first.\n",
    "The calculation above reads 100 - 27 = 73\n",
    "\"\"\""
   ]
  },
  {
   "cell_type": "code",
   "execution_count": 19,
   "metadata": {},
   "outputs": [
    {
     "name": "stdout",
     "output_type": "stream",
     "text": [
      "96\n"
     ]
    },
    {
     "data": {
      "text/plain": [
       "'\\nBitwise NOT has higher precedence than addition, and needs to be evaluated first.\\nThe calculation above reads 100 + -4 = 96\\n'"
      ]
     },
     "execution_count": 19,
     "metadata": {},
     "output_type": "execute_result"
    }
   ],
   "source": [
    "# +x  -x  ~x\tUnary plus, unary minus, and bitwise NOT\n",
    "print(100 + ~3)\n",
    "\n",
    "\"\"\"\n",
    "Bitwise NOT has higher precedence than addition, and needs to be evaluated first.\n",
    "The calculation above reads 100 + -4 = 96\n",
    "\"\"\""
   ]
  },
  {
   "cell_type": "code",
   "execution_count": 20,
   "metadata": {},
   "outputs": [
    {
     "name": "stdout",
     "output_type": "stream",
     "text": [
      "115\n"
     ]
    },
    {
     "data": {
      "text/plain": [
       "'\\nMultiplication has higher precedence than addition, and needs to be evaluated first.\\nThe calculation above reads 100 + 15 = 115\\n'"
      ]
     },
     "execution_count": 20,
     "metadata": {},
     "output_type": "execute_result"
    }
   ],
   "source": [
    "# *  /  //  %\tMultiplication, division, floor division, and modulus\n",
    "print(100 + 5 * 3)\n",
    "\n",
    "\"\"\"\n",
    "Multiplication has higher precedence than addition, and needs to be evaluated first.\n",
    "The calculation above reads 100 + 15 = 115\n",
    "\"\"\""
   ]
  },
  {
   "cell_type": "code",
   "execution_count": 21,
   "metadata": {},
   "outputs": [
    {
     "name": "stdout",
     "output_type": "stream",
     "text": [
      "85\n"
     ]
    },
    {
     "data": {
      "text/plain": [
       "'\\nSubtraction has a lower precedence than multiplication, and we need to calculate the multiplication first.\\nThe calculation above reads 100 - 15 = 85\\n'"
      ]
     },
     "execution_count": 21,
     "metadata": {},
     "output_type": "execute_result"
    }
   ],
   "source": [
    "# +  -\tAddition and subtraction\n",
    "print(100 - 5 * 3)\n",
    "\n",
    "\"\"\"\n",
    "Subtraction has a lower precedence than multiplication, and we need to calculate the multiplication first.\n",
    "The calculation above reads 100 - 15 = 85\n",
    "\"\"\""
   ]
  },
  {
   "cell_type": "code",
   "execution_count": 22,
   "metadata": {},
   "outputs": [
    {
     "name": "stdout",
     "output_type": "stream",
     "text": [
      "2\n"
     ]
    },
    {
     "data": {
      "text/plain": [
       "\"\\nBitwise right shift has a lower precedence than subtraction, and we need to calculate the subtraction first.\\nThe calculation above reads 8 >> 2 = 2\\n\\nMore explanation:\\nThe >> operator moves each bit the specified number of times to the right. Empty holes at the left are filled with 0's.\\n\\nIf you move each bit 2 times to the right, 8 becomes 2:\\n 8 = 0000000000001000\\nbecomes\\n 2 = 0000000000000010\\n\\nDecimal numbers and their binary values:\\n 0 = 0000000000000000\\n 1 = 0000000000000001\\n 2 = 0000000000000010\\n 3 = 0000000000000011\\n 4 = 0000000000000100\\n 5 = 0000000000000101\\n 6 = 0000000000000110\\n 7 = 0000000000000111\\n 8 = 0000000000001000\\n 9 = 0000000000001001\\n10 = 0000000000001010\\n11 = 0000000000001011\\n12 = 0000000000001100\\n\""
      ]
     },
     "execution_count": 22,
     "metadata": {},
     "output_type": "execute_result"
    }
   ],
   "source": [
    "# <<  >>\tBitwise left and right shifts\n",
    "print(8 >> 4 - 2)\n",
    "\n",
    "\"\"\"\n",
    "Bitwise right shift has a lower precedence than subtraction, and we need to calculate the subtraction first.\n",
    "The calculation above reads 8 >> 2 = 2\n",
    "\n",
    "More explanation:\n",
    "The >> operator moves each bit the specified number of times to the right. Empty holes at the left are filled with 0's.\n",
    "\n",
    "If you move each bit 2 times to the right, 8 becomes 2:\n",
    " 8 = 0000000000001000\n",
    "becomes\n",
    " 2 = 0000000000000010\n",
    "\n",
    "Decimal numbers and their binary values:\n",
    " 0 = 0000000000000000\n",
    " 1 = 0000000000000001\n",
    " 2 = 0000000000000010\n",
    " 3 = 0000000000000011\n",
    " 4 = 0000000000000100\n",
    " 5 = 0000000000000101\n",
    " 6 = 0000000000000110\n",
    " 7 = 0000000000000111\n",
    " 8 = 0000000000001000\n",
    " 9 = 0000000000001001\n",
    "10 = 0000000000001010\n",
    "11 = 0000000000001011\n",
    "12 = 0000000000001100\n",
    "\"\"\"\n"
   ]
  },
  {
   "cell_type": "code",
   "execution_count": 23,
   "metadata": {},
   "outputs": [
    {
     "name": "stdout",
     "output_type": "stream",
     "text": [
      "2\n"
     ]
    },
    {
     "data": {
      "text/plain": [
       "'\\nBitwise AND has a lower precedence than addition, and we need to calculate the addition first.\\nThe calculation above reads 6 & 3 = 2\\n\\nMore explanation:\\nThe & operator compares each bit and set it to 1 if both are 1, otherwise it is set to 0:\\n\\n6 = 0000000000000110\\n3 = 0000000000000011\\n--------------------\\n2 = 0000000000000010\\n====================\\n\\nDecimal numbers and their binary values:\\n0 = 0000000000000000\\n1 = 0000000000000001\\n2 = 0000000000000010\\n3 = 0000000000000011\\n4 = 0000000000000100\\n5 = 0000000000000101\\n6 = 0000000000000110\\n7 = 0000000000000111\\n'"
      ]
     },
     "execution_count": 23,
     "metadata": {},
     "output_type": "execute_result"
    }
   ],
   "source": [
    "# &\tBitwise AND\n",
    "print(6 & 2 + 1)\n",
    "\n",
    "\"\"\"\n",
    "Bitwise AND has a lower precedence than addition, and we need to calculate the addition first.\n",
    "The calculation above reads 6 & 3 = 2\n",
    "\n",
    "More explanation:\n",
    "The & operator compares each bit and set it to 1 if both are 1, otherwise it is set to 0:\n",
    "\n",
    "6 = 0000000000000110\n",
    "3 = 0000000000000011\n",
    "--------------------\n",
    "2 = 0000000000000010\n",
    "====================\n",
    "\n",
    "Decimal numbers and their binary values:\n",
    "0 = 0000000000000000\n",
    "1 = 0000000000000001\n",
    "2 = 0000000000000010\n",
    "3 = 0000000000000011\n",
    "4 = 0000000000000100\n",
    "5 = 0000000000000101\n",
    "6 = 0000000000000110\n",
    "7 = 0000000000000111\n",
    "\"\"\"\n"
   ]
  },
  {
   "cell_type": "code",
   "execution_count": 24,
   "metadata": {},
   "outputs": [
    {
     "name": "stdout",
     "output_type": "stream",
     "text": [
      "5\n"
     ]
    },
    {
     "data": {
      "text/plain": [
       "'\\nBitwise XOR has a lower precedence than addition, and we need to calculate the addition first.\\nThe calculation above reads 6 ^ 3 = 5\\n\\nMore explanation:\\nThe ^ operator compares each bit and set it to 1 if only one is 1, otherwise (if both are 1 or both are 0) it is set to 0:\\n\\n6 = 0000000000000110\\n3 = 0000000000000011\\n--------------------\\n5 = 0000000000000101\\n====================\\n\\nDecimal numbers and their binary values:\\n0 = 0000000000000000\\n1 = 0000000000000001\\n2 = 0000000000000010\\n3 = 0000000000000011\\n4 = 0000000000000100\\n5 = 0000000000000101\\n6 = 0000000000000110\\n7 = 0000000000000111\\n'"
      ]
     },
     "execution_count": 24,
     "metadata": {},
     "output_type": "execute_result"
    }
   ],
   "source": [
    "# ^\tBitwise XOR\n",
    "print(6 ^ 2 + 1)\n",
    "\n",
    "\"\"\"\n",
    "Bitwise XOR has a lower precedence than addition, and we need to calculate the addition first.\n",
    "The calculation above reads 6 ^ 3 = 5\n",
    "\n",
    "More explanation:\n",
    "The ^ operator compares each bit and set it to 1 if only one is 1, otherwise (if both are 1 or both are 0) it is set to 0:\n",
    "\n",
    "6 = 0000000000000110\n",
    "3 = 0000000000000011\n",
    "--------------------\n",
    "5 = 0000000000000101\n",
    "====================\n",
    "\n",
    "Decimal numbers and their binary values:\n",
    "0 = 0000000000000000\n",
    "1 = 0000000000000001\n",
    "2 = 0000000000000010\n",
    "3 = 0000000000000011\n",
    "4 = 0000000000000100\n",
    "5 = 0000000000000101\n",
    "6 = 0000000000000110\n",
    "7 = 0000000000000111\n",
    "\"\"\""
   ]
  },
  {
   "cell_type": "code",
   "execution_count": 25,
   "metadata": {},
   "outputs": [
    {
     "name": "stdout",
     "output_type": "stream",
     "text": [
      "7\n"
     ]
    },
    {
     "data": {
      "text/plain": [
       "'\\nBitwise OR has a lower precedence than addition, and we need to calculate the addition first.\\nThe calculation above reads 6 | 3 = 7\\n\\nMore explanation:\\nThe | operator compares each bit and set it to 1 if one or both is 1, otherwise it is set to 0:\\n\\n6 = 0000000000000110\\n3 = 0000000000000011\\n--------------------\\n7 = 0000000000000111\\n====================\\n\\nDecimal numbers and their binary values:\\n0 = 0000000000000000\\n1 = 0000000000000001\\n2 = 0000000000000010\\n3 = 0000000000000011\\n4 = 0000000000000100\\n5 = 0000000000000101\\n6 = 0000000000000110\\n7 = 0000000000000111\\n'"
      ]
     },
     "execution_count": 25,
     "metadata": {},
     "output_type": "execute_result"
    }
   ],
   "source": [
    "# |\tBitwise OR\n",
    "print(6 | 2 + 1)\n",
    "\n",
    "\"\"\"\n",
    "Bitwise OR has a lower precedence than addition, and we need to calculate the addition first.\n",
    "The calculation above reads 6 | 3 = 7\n",
    "\n",
    "More explanation:\n",
    "The | operator compares each bit and set it to 1 if one or both is 1, otherwise it is set to 0:\n",
    "\n",
    "6 = 0000000000000110\n",
    "3 = 0000000000000011\n",
    "--------------------\n",
    "7 = 0000000000000111\n",
    "====================\n",
    "\n",
    "Decimal numbers and their binary values:\n",
    "0 = 0000000000000000\n",
    "1 = 0000000000000001\n",
    "2 = 0000000000000010\n",
    "3 = 0000000000000011\n",
    "4 = 0000000000000100\n",
    "5 = 0000000000000101\n",
    "6 = 0000000000000110\n",
    "7 = 0000000000000111\n",
    "\"\"\"\n"
   ]
  },
  {
   "cell_type": "code",
   "execution_count": 26,
   "metadata": {},
   "outputs": [
    {
     "name": "stdout",
     "output_type": "stream",
     "text": [
      "True\n"
     ]
    },
    {
     "data": {
      "text/plain": [
       "'\\nThe \"like\" comparison has a lower precedence than addition, and we need to calculate the addition first.\\nThe calculation above reads 5 == 5 = True\\n'"
      ]
     },
     "execution_count": 26,
     "metadata": {},
     "output_type": "execute_result"
    }
   ],
   "source": [
    "# ==  !=  >  >=  <  <=  is  is not  in  not in \tComparisons, identity, and membership operators\n",
    "print(5 == 4 + 1)\n",
    "\n",
    "\"\"\"\n",
    "The \"like\" comparison has a lower precedence than addition, and we need to calculate the addition first.\n",
    "The calculation above reads 5 == 5 = True\n",
    "\"\"\""
   ]
  },
  {
   "cell_type": "code",
   "execution_count": 28,
   "metadata": {},
   "outputs": [
    {
     "name": "stdout",
     "output_type": "stream",
     "text": [
      "False\n"
     ]
    },
    {
     "data": {
      "text/plain": [
       "'\\nThe logical NOT operator has a lower precedence than \"like\" comparison, and we need to calculate the comparison first.\\nThe calculation above reads: not True = False\\n'"
      ]
     },
     "execution_count": 28,
     "metadata": {},
     "output_type": "execute_result"
    }
   ],
   "source": [
    "# not\tLogical NOT\n",
    "print(not 5 == 5)\n",
    "\n",
    "\"\"\"\n",
    "The logical NOT operator has a lower precedence than \"like\" comparison, and we need to calculate the comparison first.\n",
    "The calculation above reads: not True = False\n",
    "\"\"\""
   ]
  },
  {
   "cell_type": "code",
   "execution_count": 29,
   "metadata": {},
   "outputs": [
    {
     "name": "stdout",
     "output_type": "stream",
     "text": [
      "1\n"
     ]
    },
    {
     "data": {
      "text/plain": [
       "'\\nThe and operator has a higher precedence than or, and we need to calculate the and expression first.\\nThe calculation above reads: 1 or 3 = 1\\n'"
      ]
     },
     "execution_count": 29,
     "metadata": {},
     "output_type": "execute_result"
    }
   ],
   "source": [
    "# and\tAND\n",
    "print(1 or 2 and 3)\n",
    "\n",
    "\"\"\"\n",
    "The and operator has a higher precedence than or, and we need to calculate the and expression first.\n",
    "The calculation above reads: 1 or 3 = 1\n",
    "\"\"\""
   ]
  },
  {
   "cell_type": "code",
   "execution_count": 30,
   "metadata": {},
   "outputs": [
    {
     "name": "stdout",
     "output_type": "stream",
     "text": [
      "4\n"
     ]
    },
    {
     "data": {
      "text/plain": [
       "'\\nThe or operator has a lower precedence than addition, and we need to calculate the addition first.\\nThe calculation above reads: 4 or 15 or 8 = 4\\n'"
      ]
     },
     "execution_count": 30,
     "metadata": {},
     "output_type": "execute_result"
    }
   ],
   "source": [
    "# or\tOR\n",
    "print(4 or 5 + 10 or 8)\n",
    "\n",
    "\"\"\"\n",
    "The or operator has a lower precedence than addition, and we need to calculate the addition first.\n",
    "The calculation above reads: 4 or 15 or 8 = 4\n",
    "\"\"\""
   ]
  },
  {
   "cell_type": "code",
   "execution_count": 31,
   "metadata": {},
   "outputs": [
    {
     "name": "stdout",
     "output_type": "stream",
     "text": [
      "5\n"
     ]
    }
   ],
   "source": [
    "#La suma +y la resta -tienen la misma precedencia, y por lo tanto evaluamos la expresión de izquierda a derecha:\n",
    "\n",
    "print(5 + 4 - 7 + 3)"
   ]
  },
  {
   "cell_type": "markdown",
   "metadata": {},
   "source": [
    "### Python Lists"
   ]
  },
  {
   "cell_type": "markdown",
   "metadata": {},
   "source": [
    "Las listas se utilizan para almacenar varios elementos en una sola variable.\n",
    "\n",
    "Las listas son uno de los 4 tipos de datos incorporados en Python que se utilizan para almacenar colecciones de datos, los otros 3 son Tuple , Set y Dictionary , todos con diferentes calidades y usos.\n",
    "\n",
    "Las listas se crean usando corchetes:"
   ]
  },
  {
   "cell_type": "code",
   "execution_count": 1,
   "metadata": {},
   "outputs": [
    {
     "name": "stdout",
     "output_type": "stream",
     "text": [
      "['apple', 'banana', 'cherry']\n"
     ]
    }
   ],
   "source": [
    "thislist = [\"apple\", \"banana\", \"cherry\"]\n",
    "print(thislist)"
   ]
  },
  {
   "cell_type": "markdown",
   "metadata": {},
   "source": [
    "## Elementos de la lista\n",
    "Los elementos de la lista están ordenados, se pueden cambiar y permiten valores duplicados.\n",
    "\n",
    "Los elementos de la lista están indexados, el primer elemento tiene índice ``[0]``, el segundo elemento tiene índice, ``[1]`` etc.\n",
    "\n",
    "### Ordenado\n",
    "Cuando decimos que las listas están ordenadas, significa que los elementos tienen un orden definido y ese orden no cambiará.\n",
    "\n",
    "Si agrega nuevos elementos a una lista, los nuevos elementos se colocarán al final de la lista.\n",
    "\n",
    "#### Nota: Hay algunos métodos de lista que cambiarán el orden, pero en general: el orden de los elementos no cambiará.\n",
    "\n",
    "### Cambiable\n",
    "La lista se puede cambiar, lo que significa que podemos cambiar, agregar y eliminar elementos en una lista después de que se haya creado.\n",
    "\n",
    "### Permitir duplicados\n",
    "Dado que las listas están indexadas, las listas pueden tener elementos con el mismo valor"
   ]
  },
  {
   "cell_type": "code",
   "execution_count": 2,
   "metadata": {},
   "outputs": [
    {
     "name": "stdout",
     "output_type": "stream",
     "text": [
      "['apple', 'banana', 'cherry', 'apple', 'cherry']\n"
     ]
    }
   ],
   "source": [
    "# Las listas permiten valores duplicados:\n",
    "thislist = [\"apple\", \"banana\", \"cherry\", \"apple\", \"cherry\"]\n",
    "print(thislist)"
   ]
  },
  {
   "cell_type": "markdown",
   "metadata": {},
   "source": [
    "### Longitud de la lista\n",
    "Para determinar cuántos elementos tiene una lista, use la len()función:"
   ]
  },
  {
   "cell_type": "code",
   "execution_count": 4,
   "metadata": {},
   "outputs": [
    {
     "name": "stdout",
     "output_type": "stream",
     "text": [
      "3\n"
     ]
    }
   ],
   "source": [
    "# Imprime el número de artículos en la lista:\n",
    "thislist = [\"apple\", \"banana\", \"cherry\"]\n",
    "print(len(thislist))"
   ]
  },
  {
   "cell_type": "markdown",
   "metadata": {},
   "source": [
    "### Elementos de la lista - Tipos de datos\n",
    "Los elementos de la lista pueden ser de cualquier tipo de datos:"
   ]
  },
  {
   "cell_type": "code",
   "execution_count": 5,
   "metadata": {},
   "outputs": [
    {
     "name": "stdout",
     "output_type": "stream",
     "text": [
      "['apple', 'banana', 'cherry']\n",
      "[1, 5, 7, 9, 3]\n",
      "[True, False, False]\n"
     ]
    }
   ],
   "source": [
    "# Tipos de datos de cadena, int y booleanos:\n",
    "list1 = [\"apple\", \"banana\", \"cherry\"]\n",
    "list2 = [1, 5, 7, 9, 3]\n",
    "list3 = [True, False, False]\n",
    "\n",
    "print(list1)\n",
    "print(list2)\n",
    "print(list3)\n"
   ]
  },
  {
   "cell_type": "markdown",
   "metadata": {},
   "source": [
    "Una lista puede contener diferentes tipos de datos:"
   ]
  },
  {
   "cell_type": "code",
   "execution_count": 8,
   "metadata": {},
   "outputs": [
    {
     "name": "stdout",
     "output_type": "stream",
     "text": [
      "['abc', 34, True, 40, 'male']\n"
     ]
    }
   ],
   "source": [
    "# Una lista con cadenas, enteros y valores booleanos:\n",
    "\n",
    "list1 = [\"abc\", 34, True, 40, \"male\"]\n",
    "print(list1)"
   ]
  },
  {
   "cell_type": "markdown",
   "metadata": {},
   "source": [
    "### tipo()\n",
    "Desde la perspectiva de Python, las listas se definen como objetos con el tipo de datos 'lista':\n",
    "\n",
    "``<class 'list'>``"
   ]
  },
  {
   "cell_type": "code",
   "execution_count": 9,
   "metadata": {},
   "outputs": [
    {
     "name": "stdout",
     "output_type": "stream",
     "text": [
      "<class 'list'>\n"
     ]
    }
   ],
   "source": [
    "# ¿Cuál es el tipo de datos de una lista?\n",
    "\n",
    "mylist = [\"apple\", \"banana\", \"cherry\"]\n",
    "print(type(mylist))"
   ]
  },
  {
   "cell_type": "markdown",
   "metadata": {},
   "source": [
    "### El constructor list()\n",
    "También es posible usar el constructor ``list()`` al crear una nueva lista."
   ]
  },
  {
   "cell_type": "code",
   "execution_count": 10,
   "metadata": {},
   "outputs": [
    {
     "name": "stdout",
     "output_type": "stream",
     "text": [
      "['apple', 'banana', 'cherry']\n"
     ]
    }
   ],
   "source": [
    "# Usando el list()constructor para hacer una Lista:\n",
    "\n",
    "thislist = list((\"apple\", \"banana\", \"cherry\")) # note the double round-brackets\n",
    "print(thislist)"
   ]
  },
  {
   "cell_type": "markdown",
   "metadata": {},
   "source": [
    "### Colecciones de Python (matrices)\n",
    "Hay cuatro tipos de datos de recopilación en el lenguaje de programación Python:\n",
    "\n",
    "- **La lista** es una colección ordenada y modificable. Permite miembros duplicados.\n",
    "- **Tuple** es una colección ordenada e inmutable. Permite miembros duplicados.\n",
    "- **Conjunto** es una colección desordenada, inmutable* y no indexada. No hay miembros duplicados.\n",
    "- **El diccionario** es una colección ordenada** y modificable. No hay miembros duplicados.\n",
    "* Los elementos establecidos no se pueden cambiar, pero puede eliminar y/o agregar elementos cuando lo desee.\n",
    "\n",
    "**A partir de la versión 3.7 de Python, los diccionarios se ordenan . En Python 3.6 y versiones anteriores, los diccionarios están desordenados .\n",
    "\n",
    "Al elegir un tipo de colección, es útil comprender las propiedades de ese tipo. Elegir el tipo correcto para un conjunto de datos en particular podría significar la retención del significado y podría significar un aumento en la eficiencia o la seguridad."
   ]
  },
  {
   "cell_type": "markdown",
   "metadata": {},
   "source": [
    "# Python - Access List Items\n",
    "\n",
    "## Elementos de acceso\n",
    "Los elementos de la lista están indexados y puede acceder a ellos consultando el número de índice:"
   ]
  },
  {
   "cell_type": "code",
   "execution_count": 11,
   "metadata": {},
   "outputs": [
    {
     "name": "stdout",
     "output_type": "stream",
     "text": [
      "banana\n"
     ]
    }
   ],
   "source": [
    "# Imprime el segundo elemento de la lista:\n",
    "\n",
    "thislist = [\"apple\", \"banana\", \"cherry\"]\n",
    "print(thislist[1])"
   ]
  },
  {
   "cell_type": "markdown",
   "metadata": {},
   "source": [
    "Nota: El primer elemento tiene índice 0.\n",
    "\n",
    "Indexación negativa\n",
    "La indexación negativa significa comenzar desde el final.\n",
    "\n",
    "``-1`` se refiere al último elemento, ``-2`` se refiere al penúltimo elemento, etc."
   ]
  },
  {
   "cell_type": "code",
   "execution_count": 12,
   "metadata": {},
   "outputs": [
    {
     "name": "stdout",
     "output_type": "stream",
     "text": [
      "cherry\n"
     ]
    }
   ],
   "source": [
    "# Imprime el último elemento de la lista:\n",
    "\n",
    "thislist = [\"apple\", \"banana\", \"cherry\"]\n",
    "print(thislist[-1])"
   ]
  },
  {
   "cell_type": "markdown",
   "metadata": {},
   "source": [
    "### Gama de índices\n",
    "Puede especificar un rango de índices especificando dónde comenzar y dónde terminar el rango.\n",
    "\n",
    "Al especificar un rango, el valor devuelto será una nueva lista con los elementos especificados."
   ]
  },
  {
   "cell_type": "code",
   "execution_count": 1,
   "metadata": {},
   "outputs": [
    {
     "name": "stdout",
     "output_type": "stream",
     "text": [
      "['cherry', 'orange', 'kiwi']\n"
     ]
    }
   ],
   "source": [
    "# Devuelve el tercer, cuarto y quinto elemento:\n",
    "\n",
    "thislist = [\"apple\", \"banana\", \"cherry\", \"orange\", \"kiwi\", \"melon\", \"mango\"]\n",
    "print(thislist[2:5])"
   ]
  },
  {
   "cell_type": "markdown",
   "metadata": {},
   "source": [
    "**Nota**: La búsqueda comenzará en el índice 2 (incluido) y terminará en el índice 5 (no incluido).\n",
    "\n",
    "Recuerde que el primer elemento tiene índice 0.\n",
    "\n",
    "Al omitir el valor inicial, el rango comenzará en el primer elemento:"
   ]
  },
  {
   "cell_type": "code",
   "execution_count": 2,
   "metadata": {},
   "outputs": [
    {
     "name": "stdout",
     "output_type": "stream",
     "text": [
      "['apple', 'banana', 'cherry', 'orange']\n"
     ]
    }
   ],
   "source": [
    "# Este ejemplo devuelve los elementos desde el principio hasta, pero SIN incluir, \"kiwi\":\n",
    "\n",
    "thislist = [\"apple\", \"banana\", \"cherry\", \"orange\", \"kiwi\", \"melon\", \"mango\"]\n",
    "print(thislist[:4])"
   ]
  },
  {
   "cell_type": "markdown",
   "metadata": {},
   "source": [
    "Al omitir el valor final, el rango pasará al final de la lista:"
   ]
  },
  {
   "cell_type": "code",
   "execution_count": 3,
   "metadata": {},
   "outputs": [
    {
     "name": "stdout",
     "output_type": "stream",
     "text": [
      "['cherry', 'orange', 'kiwi', 'melon', 'mango']\n"
     ]
    }
   ],
   "source": [
    "# Este ejemplo devuelve los elementos desde \"cereza\" hasta el final:\n",
    "\n",
    "thislist = [\"apple\", \"banana\", \"cherry\", \"orange\", \"kiwi\", \"melon\", \"mango\"]\n",
    "print(thislist[2:])"
   ]
  },
  {
   "cell_type": "markdown",
   "metadata": {},
   "source": [
    "## Rango de índices negativos\n",
    "Especifique índices negativos si desea iniciar la búsqueda desde el final de la lista:"
   ]
  },
  {
   "cell_type": "code",
   "execution_count": 4,
   "metadata": {},
   "outputs": [
    {
     "name": "stdout",
     "output_type": "stream",
     "text": [
      "['orange', 'kiwi', 'melon']\n"
     ]
    }
   ],
   "source": [
    "# Este ejemplo devuelve los elementos de \"naranja\" (-4) a, pero NO incluye \"mango\" (-1):\n",
    "\n",
    "thislist = [\"apple\", \"banana\", \"cherry\", \"orange\", \"kiwi\", \"melon\", \"mango\"]\n",
    "print(thislist[-4:-1])"
   ]
  },
  {
   "cell_type": "markdown",
   "metadata": {},
   "source": [
    "## Comprobar si el artículo existe\n",
    "Para determinar si un elemento específico está presente en una lista, use la inpalabra clave:"
   ]
  },
  {
   "cell_type": "code",
   "execution_count": 5,
   "metadata": {},
   "outputs": [
    {
     "name": "stdout",
     "output_type": "stream",
     "text": [
      "Yes, 'apple' is in the fruits list\n"
     ]
    }
   ],
   "source": [
    "# Compruebe si \"apple\" está presente en la lista:\n",
    "\n",
    "thislist = [\"apple\", \"banana\", \"cherry\"]\n",
    "if \"apple\" in thislist:\n",
    "  print(\"Yes, 'apple' is in the fruits list\")"
   ]
  },
  {
   "cell_type": "markdown",
   "metadata": {},
   "source": [
    "## Python - Change List Items\n",
    "### Cambiar el valor del artículo\n",
    "Para cambiar el valor de un elemento específico, consulte el número de índice:"
   ]
  },
  {
   "cell_type": "code",
   "execution_count": 8,
   "metadata": {},
   "outputs": [
    {
     "name": "stdout",
     "output_type": "stream",
     "text": [
      "['apple', 'blackcurrant', 'cherry']\n"
     ]
    }
   ],
   "source": [
    "# Cambia el segundo elemento:\n",
    "\n",
    "thislist = [\"apple\", \"banana\", \"cherry\"]\n",
    "thislist[1] = \"blackcurrant\"\n",
    "print(thislist)"
   ]
  },
  {
   "cell_type": "markdown",
   "metadata": {},
   "source": [
    "## Cambiar un rango de valores de artículos\n",
    "Para cambiar el valor de los elementos dentro de un rango específico, defina una lista con los nuevos valores y consulte el rango de números de índice donde desea insertar los nuevos valores:"
   ]
  },
  {
   "cell_type": "code",
   "execution_count": 12,
   "metadata": {},
   "outputs": [
    {
     "name": "stdout",
     "output_type": "stream",
     "text": [
      "['apple', 'blackcurrant', 'watermelon', 'orange', 'kiwi', 'mango']\n"
     ]
    }
   ],
   "source": [
    "# Cambie los valores \"plátano\" y \"cereza\" por los valores \"grosella negra\" y \"sandía\":\n",
    "\n",
    "thislist = [\"apple\", \"banana\", \"cherry\", \"orange\", \"kiwi\", \"mango\"]\n",
    "thislist[1:3] = [\"blackcurrant\", \"watermelon\"]\n",
    "print(thislist)"
   ]
  },
  {
   "cell_type": "markdown",
   "metadata": {},
   "source": [
    "Si inserta más elementos de los que reemplaza, los nuevos elementos se insertarán donde especificó, y los elementos restantes se moverán en consecuencia:"
   ]
  },
  {
   "cell_type": "code",
   "execution_count": 10,
   "metadata": {},
   "outputs": [
    {
     "name": "stdout",
     "output_type": "stream",
     "text": [
      "['apple', 'blackcurrant', 'watermelon', 'cherry']\n"
     ]
    }
   ],
   "source": [
    "# Cambie el segundo valor reemplazándolo con dos nuevos valores:\n",
    "\n",
    "thislist = [\"apple\", \"banana\", \"cherry\"]\n",
    "thislist[1:2] = [\"blackcurrant\", \"watermelon\"]\n",
    "print(thislist)\n"
   ]
  },
  {
   "cell_type": "markdown",
   "metadata": {},
   "source": [
    "**Nota**: La longitud de la lista cambiará cuando la cantidad de elementos insertados no coincida con la cantidad de elementos reemplazados.\n",
    "\n",
    "Si inserta menos elementos de los que reemplaza, los nuevos elementos se insertarán donde especificó, y los elementos restantes se moverán en consecuencia:"
   ]
  },
  {
   "cell_type": "code",
   "execution_count": 13,
   "metadata": {},
   "outputs": [
    {
     "name": "stdout",
     "output_type": "stream",
     "text": [
      "['apple', 'watermelon']\n"
     ]
    }
   ],
   "source": [
    "# Cambie el segundo y tercer valor reemplazándolo con un valor:\n",
    "\n",
    "thislist = [\"apple\", \"banana\", \"cherry\"]\n",
    "thislist[1:3] = [\"watermelon\"]\n",
    "print(thislist)"
   ]
  },
  {
   "cell_type": "markdown",
   "metadata": {},
   "source": [
    "## Insertar elementos\n",
    "Para insertar un nuevo elemento de lista, sin reemplazar ninguno de los valores existentes, podemos usar el insert()método.\n",
    "\n",
    "El insert()método inserta un elemento en el índice especificado:"
   ]
  },
  {
   "cell_type": "code",
   "execution_count": 17,
   "metadata": {},
   "outputs": [
    {
     "name": "stdout",
     "output_type": "stream",
     "text": [
      "['apple', 'banana', 'watermelon', 'cherry']\n"
     ]
    }
   ],
   "source": [
    "# Inserte \"sandía\" como tercer elemento:\n",
    "\n",
    "thislist = [\"apple\", \"banana\", \"cherry\"]\n",
    "thislist.insert(2, \"watermelon\")\n",
    "print(thislist)"
   ]
  },
  {
   "cell_type": "markdown",
   "metadata": {},
   "source": [
    "# Python - Add List Items\n",
    "\n",
    "## Agregar elementos\n",
    "Para agregar un elemento al final de la lista, use el método ``append()`` :"
   ]
  },
  {
   "cell_type": "code",
   "execution_count": 15,
   "metadata": {},
   "outputs": [
    {
     "name": "stdout",
     "output_type": "stream",
     "text": [
      "['apple', 'banana', 'cherry', 'orange']\n"
     ]
    }
   ],
   "source": [
    "# Usando el append() método para agregar un elemento:\n",
    "\n",
    "thislist = [\"apple\", \"banana\", \"cherry\"]\n",
    "thislist.append(\"orange\")\n",
    "print(thislist)"
   ]
  },
  {
   "cell_type": "markdown",
   "metadata": {},
   "source": [
    "## Insertar elementos\n",
    "Para insertar un elemento de lista en un índice específico, utilice el insert()método.\n",
    "\n",
    "El ``insert()`` método inserta un elemento en el índice especificado:"
   ]
  },
  {
   "cell_type": "code",
   "execution_count": 18,
   "metadata": {},
   "outputs": [
    {
     "name": "stdout",
     "output_type": "stream",
     "text": [
      "['apple', 'orange', 'banana', 'cherry']\n"
     ]
    }
   ],
   "source": [
    "# Insertar un elemento como segunda posición:\n",
    "\n",
    "thislist = [\"apple\", \"banana\", \"cherry\"]\n",
    "thislist.insert(1, \"orange\")\n",
    "print(thislist)"
   ]
  },
  {
   "cell_type": "markdown",
   "metadata": {},
   "source": [
    "**Nota**: Como resultado de los ejemplos anteriores, las listas ahora contendrán 4 elementos."
   ]
  },
  {
   "cell_type": "markdown",
   "metadata": {},
   "source": [
    "## Ampliar lista\n",
    "Para agregar elementos de otra lista a la lista actual, use el ``extend()`` método."
   ]
  },
  {
   "cell_type": "code",
   "execution_count": 19,
   "metadata": {},
   "outputs": [
    {
     "name": "stdout",
     "output_type": "stream",
     "text": [
      "['apple', 'banana', 'cherry', 'mango', 'pineapple', 'papaya']\n"
     ]
    }
   ],
   "source": [
    "# Agregue los elementos de tropicala thislist:\n",
    "\n",
    "thislist = [\"apple\", \"banana\", \"cherry\"]\n",
    "tropical = [\"mango\", \"pineapple\", \"papaya\"]\n",
    "thislist.extend(tropical)\n",
    "print(thislist)"
   ]
  },
  {
   "cell_type": "markdown",
   "metadata": {},
   "source": [
    "Los elementos se añadirán al final de la lista."
   ]
  },
  {
   "cell_type": "markdown",
   "metadata": {},
   "source": [
    "## Agregar cualquier iterable\n",
    "El ``extend()`` método no tiene que agregar listas , puede agregar cualquier objeto iterable (tuplas, conjuntos, diccionarios, etc.)."
   ]
  },
  {
   "cell_type": "code",
   "execution_count": 20,
   "metadata": {},
   "outputs": [
    {
     "name": "stdout",
     "output_type": "stream",
     "text": [
      "['apple', 'banana', 'cherry', 'kiwi', 'orange']\n"
     ]
    }
   ],
   "source": [
    "# Agregue elementos de una tupla a una lista:\n",
    "\n",
    "thislist = [\"apple\", \"banana\", \"cherry\"]\n",
    "thistuple = (\"kiwi\", \"orange\")\n",
    "thislist.extend(thistuple)\n",
    "print(thislist)"
   ]
  },
  {
   "cell_type": "markdown",
   "metadata": {},
   "source": [
    "# Python - Eliminar elementos de la lista\n",
    "## Eliminar elemento especificado\n",
    "El ``remove()`` método elimina el elemento especificado."
   ]
  },
  {
   "cell_type": "code",
   "execution_count": 21,
   "metadata": {},
   "outputs": [
    {
     "name": "stdout",
     "output_type": "stream",
     "text": [
      "['apple', 'cherry']\n"
     ]
    }
   ],
   "source": [
    "# Eliminar \"plátano\":\n",
    "\n",
    "thislist = [\"apple\", \"banana\", \"cherry\"]\n",
    "thislist.remove(\"banana\")\n",
    "print(thislist)"
   ]
  },
  {
   "cell_type": "markdown",
   "metadata": {},
   "source": [
    "## Eliminar índice especificado\n",
    "El ``pop()`` método elimina el índice especificado."
   ]
  },
  {
   "cell_type": "code",
   "execution_count": 23,
   "metadata": {},
   "outputs": [
    {
     "name": "stdout",
     "output_type": "stream",
     "text": [
      "['apple', 'cherry']\n"
     ]
    }
   ],
   "source": [
    "# Eliminar el segundo elemento:\n",
    "\n",
    "thislist = [\"apple\", \"banana\", \"cherry\"]\n",
    "thislist.pop(1)\n",
    "print(thislist)"
   ]
  },
  {
   "cell_type": "markdown",
   "metadata": {},
   "source": [
    "Si no especifica el índice, el ``pop()`` método elimina el último elemento."
   ]
  },
  {
   "cell_type": "code",
   "execution_count": 24,
   "metadata": {},
   "outputs": [
    {
     "name": "stdout",
     "output_type": "stream",
     "text": [
      "['apple', 'banana']\n"
     ]
    }
   ],
   "source": [
    "# Eliminar el último elemento:\n",
    "\n",
    "thislist = [\"apple\", \"banana\", \"cherry\"]\n",
    "thislist.pop()\n",
    "print(thislist)"
   ]
  },
  {
   "cell_type": "markdown",
   "metadata": {},
   "source": [
    "La ``del`` palabra clave también elimina el índice especificado:"
   ]
  },
  {
   "cell_type": "code",
   "execution_count": 25,
   "metadata": {},
   "outputs": [
    {
     "name": "stdout",
     "output_type": "stream",
     "text": [
      "['banana', 'cherry']\n"
     ]
    }
   ],
   "source": [
    "# Eliminar el primer elemento:\n",
    "\n",
    "thislist = [\"apple\", \"banana\", \"cherry\"]\n",
    "del thislist[0]\n",
    "print(thislist)"
   ]
  },
  {
   "cell_type": "markdown",
   "metadata": {},
   "source": [
    "La ``del`` palabra clave también puede eliminar la lista por completo."
   ]
  },
  {
   "cell_type": "code",
   "execution_count": 27,
   "metadata": {},
   "outputs": [
    {
     "ename": "NameError",
     "evalue": "name 'thislist' is not defined",
     "output_type": "error",
     "traceback": [
      "\u001b[1;31m---------------------------------------------------------------------------\u001b[0m",
      "\u001b[1;31mNameError\u001b[0m                                 Traceback (most recent call last)",
      "\u001b[1;32mc:\\Users\\celio\\OneDrive\\Escritorio\\programación\\platzi\\PracticaDePython.ipynb Celda 514\u001b[0m in \u001b[0;36m5\n\u001b[0;32m      <a href='vscode-notebook-cell:/c%3A/Users/celio/OneDrive/Escritorio/programaci%C3%B3n/platzi/PracticaDePython.ipynb#Z1332sZmlsZQ%3D%3D?line=2'>3</a>\u001b[0m thislist \u001b[39m=\u001b[39m [\u001b[39m\"\u001b[39m\u001b[39mapple\u001b[39m\u001b[39m\"\u001b[39m, \u001b[39m\"\u001b[39m\u001b[39mbanana\u001b[39m\u001b[39m\"\u001b[39m, \u001b[39m\"\u001b[39m\u001b[39mcherry\u001b[39m\u001b[39m\"\u001b[39m]\n\u001b[0;32m      <a href='vscode-notebook-cell:/c%3A/Users/celio/OneDrive/Escritorio/programaci%C3%B3n/platzi/PracticaDePython.ipynb#Z1332sZmlsZQ%3D%3D?line=3'>4</a>\u001b[0m \u001b[39mdel\u001b[39;00m thislist\n\u001b[1;32m----> <a href='vscode-notebook-cell:/c%3A/Users/celio/OneDrive/Escritorio/programaci%C3%B3n/platzi/PracticaDePython.ipynb#Z1332sZmlsZQ%3D%3D?line=4'>5</a>\u001b[0m \u001b[39mprint\u001b[39m(thislist)\n",
      "\u001b[1;31mNameError\u001b[0m: name 'thislist' is not defined"
     ]
    }
   ],
   "source": [
    "# Eliminar toda la lista:\n",
    "\n",
    "thislist = [\"apple\", \"banana\", \"cherry\"]\n",
    "del thislist\n",
    "print(thislist)"
   ]
  },
  {
   "cell_type": "markdown",
   "metadata": {},
   "source": [
    "## Borrar la lista\n",
    "El ``clear()`` método vacía la lista.\n",
    "\n",
    "La lista aún permanece, pero no tiene contenido."
   ]
  },
  {
   "cell_type": "code",
   "execution_count": 29,
   "metadata": {},
   "outputs": [
    {
     "name": "stdout",
     "output_type": "stream",
     "text": [
      "[]\n"
     ]
    }
   ],
   "source": [
    "# Borrar el contenido de la lista:\n",
    "\n",
    "thislist = [\"apple\", \"banana\", \"cherry\"]\n",
    "thislist.clear()\n",
    "print(thislist)\n"
   ]
  },
  {
   "cell_type": "markdown",
   "metadata": {},
   "source": [
    "# Python - Loop Lists\n",
    "\n",
    "## Recorrer una lista\n",
    "Puede recorrer los elementos de la lista usando un ``for`` bucle:"
   ]
  },
  {
   "cell_type": "code",
   "execution_count": 1,
   "metadata": {},
   "outputs": [
    {
     "name": "stdout",
     "output_type": "stream",
     "text": [
      "apple\n",
      "banana\n",
      "cherry\n"
     ]
    }
   ],
   "source": [
    "# Imprima todos los elementos de la lista, uno por uno:\n",
    "\n",
    "thislist = [\"apple\", \"banana\", \"cherry\"]\n",
    "for x in thislist:\n",
    "  print(x)"
   ]
  },
  {
   "cell_type": "markdown",
   "metadata": {},
   "source": [
    "Obtenga más información sobre ``for`` los bucles en nuestro capítulo Python For Loops ."
   ]
  },
  {
   "cell_type": "markdown",
   "metadata": {},
   "source": [
    "## Bucle a través de los números de índice\n",
    "También puede recorrer los elementos de la lista consultando su número de índice.\n",
    "\n",
    "Utilice las funciones ``range()`` y ``len()`` para crear un iterable adecuado."
   ]
  },
  {
   "cell_type": "code",
   "execution_count": 2,
   "metadata": {},
   "outputs": [
    {
     "name": "stdout",
     "output_type": "stream",
     "text": [
      "apple\n",
      "banana\n",
      "cherry\n"
     ]
    }
   ],
   "source": [
    "# Imprima todos los elementos haciendo referencia a su número de índice:\n",
    "\n",
    "thislist = [\"apple\", \"banana\", \"cherry\"]\n",
    "for i in range(len(thislist)):\n",
    "  print(thislist[i])"
   ]
  },
  {
   "cell_type": "markdown",
   "metadata": {},
   "source": [
    "El iterable creado en el ejemplo anterior es ``[0, 1, 2]``.\n",
    "\n",
    "## Usar un ciclo while\n",
    "Puede recorrer los elementos de la lista mediante un ``while`` bucle.\n",
    "\n",
    "Use la ``len()`` función para determinar la longitud de la lista, luego comience en 0 y recorra los elementos de la lista consultando sus índices.\n",
    "\n",
    "Recuerde aumentar el índice en 1 después de cada iteración."
   ]
  },
  {
   "cell_type": "code",
   "execution_count": 3,
   "metadata": {},
   "outputs": [
    {
     "name": "stdout",
     "output_type": "stream",
     "text": [
      "apple\n",
      "banana\n",
      "cherry\n"
     ]
    }
   ],
   "source": [
    "# Imprima todos los artículos, usando un whilebucle para pasar por todos los números de índice\n",
    "\n",
    "thislist = [\"apple\", \"banana\", \"cherry\"]\n",
    "i = 0\n",
    "while i < len(thislist):\n",
    "  print(thislist[i])\n",
    "  i = i + 1"
   ]
  },
  {
   "cell_type": "markdown",
   "metadata": {},
   "source": [
    "Obtenga más información sobre ``while`` los bucles en nuestro Capítulo de bucles while de Python .\n",
    "\n",
    "## Bucles utilizando la comprensión de listas\n",
    "List Comprehension ofrece la sintaxis más corta para recorrer listas:"
   ]
  },
  {
   "cell_type": "code",
   "execution_count": 6,
   "metadata": {},
   "outputs": [
    {
     "name": "stdout",
     "output_type": "stream",
     "text": [
      "apple\n",
      "banana\n",
      "cherry\n"
     ]
    },
    {
     "data": {
      "text/plain": [
       "[None, None, None]"
      ]
     },
     "execution_count": 6,
     "metadata": {},
     "output_type": "execute_result"
    }
   ],
   "source": [
    "# Un forbucle de mano corto que imprimirá todos los elementos en una lista:\n",
    "\n",
    "thislist = [\"apple\", \"banana\", \"cherry\"]\n",
    "[print(x) for x in thislist]"
   ]
  },
  {
   "cell_type": "markdown",
   "metadata": {},
   "source": [
    "# Python - List Comprehension\n",
    "\n",
    "## Lista de comprensión\n",
    "La comprensión de listas ofrece una sintaxis más corta cuando desea crear una nueva lista basada en los valores de una lista existente.\n",
    "\n",
    "Ejemplo:\n",
    "\n",
    "Basado en una lista de frutas, desea una nueva lista que contenga solo las frutas con la letra \"a\" en el nombre.\n",
    "\n",
    "Sin comprensión de lista, tendrá que escribir una ``for`` declaración con una prueba condicional dentro:\n",
    "\n"
   ]
  },
  {
   "cell_type": "code",
   "execution_count": 10,
   "metadata": {},
   "outputs": [
    {
     "name": "stdout",
     "output_type": "stream",
     "text": [
      "['apple', 'banana', 'mango']\n"
     ]
    }
   ],
   "source": [
    "fruits = [\"apple\", \"banana\", \"cherry\", \"kiwi\", \"mango\"]\n",
    "newlist = []\n",
    "\n",
    "for x in fruits:\n",
    "  if \"a\" in x:\n",
    "    newlist.append(x)\n",
    "\n",
    "print(newlist)\n"
   ]
  },
  {
   "cell_type": "markdown",
   "metadata": {},
   "source": [
    "Con la comprensión de listas puedes hacer todo eso con solo una línea de código:"
   ]
  },
  {
   "cell_type": "code",
   "execution_count": 15,
   "metadata": {},
   "outputs": [
    {
     "name": "stdout",
     "output_type": "stream",
     "text": [
      "['apple', 'banana', 'mango']\n"
     ]
    }
   ],
   "source": [
    "fruits = [\"apple\", \"banana\", \"cherry\", \"kiwi\", \"mango\"]\n",
    "\n",
    "newlist = [x for x in fruits if \"a\" in x]\n",
    "\n",
    "print(newlist)"
   ]
  },
  {
   "cell_type": "markdown",
   "metadata": {},
   "source": [
    "## la sintaxis\n",
    "newlist = ``[expression for item in iterable if condition == True]``\n",
    "El valor de retorno es una nueva lista, dejando la lista anterior sin cambios.\n",
    "\n",
    "### Condición\n",
    "La *condición* es como un filtro que solo acepta los elementos que se valoran en ``True``."
   ]
  },
  {
   "cell_type": "code",
   "execution_count": 22,
   "metadata": {},
   "outputs": [
    {
     "name": "stdout",
     "output_type": "stream",
     "text": [
      "['banana', 'cherry', 'kiwi', 'mango']\n"
     ]
    }
   ],
   "source": [
    "# Solo acepte artículos que no sean \"apple\":\n",
    "\n",
    "fruits = [\"apple\", \"banana\", \"cherry\", \"kiwi\", \"mango\"]\n",
    "\n",
    "newlist = [x for x in fruits if x != \"apple\"]\n",
    "\n",
    "print(newlist)\n"
   ]
  },
  {
   "cell_type": "markdown",
   "metadata": {},
   "source": [
    "La condición ``if x != \"apple\"``  volverá ``True`` para todos los elementos que no sean \"manzana\", haciendo que la nueva lista contenga todas las frutas excepto \"manzana\".\n",
    "\n",
    "La *condición* es opcional y se puede omitir:"
   ]
  },
  {
   "cell_type": "code",
   "execution_count": 24,
   "metadata": {},
   "outputs": [
    {
     "name": "stdout",
     "output_type": "stream",
     "text": [
      "['apple', 'banana', 'cherry', 'kiwi', 'mango']\n"
     ]
    }
   ],
   "source": [
    "# Sin if declaración:\n",
    "fruits = [\"apple\", \"banana\", \"cherry\", \"kiwi\", \"mango\"]\n",
    "newlist = [x for x in fruits]\n",
    "print(newlist)"
   ]
  },
  {
   "cell_type": "markdown",
   "metadata": {},
   "source": [
    "## Iterable\n",
    "El iterable puede ser cualquier objeto iterable, como una lista, una tupla, un conjunto, etc."
   ]
  },
  {
   "cell_type": "code",
   "execution_count": 25,
   "metadata": {},
   "outputs": [
    {
     "name": "stdout",
     "output_type": "stream",
     "text": [
      "[0, 1, 2, 3, 4, 5, 6, 7, 8, 9]\n"
     ]
    }
   ],
   "source": [
    "# Puede usar la range()función para crear un iterable:\n",
    "newlist = [x for x in range(10)]\n",
    "print(newlist)"
   ]
  },
  {
   "cell_type": "markdown",
   "metadata": {},
   "source": [
    "Mismo ejemplo, pero con una condición:"
   ]
  },
  {
   "cell_type": "code",
   "execution_count": 28,
   "metadata": {},
   "outputs": [
    {
     "name": "stdout",
     "output_type": "stream",
     "text": [
      "[0, 1, 2, 3, 4]\n"
     ]
    }
   ],
   "source": [
    "# Aceptar solo números inferiores a 5:\n",
    "newlist = [x for x in range(10) if x < 5]\n",
    "print(newlist)"
   ]
  },
  {
   "cell_type": "markdown",
   "metadata": {},
   "source": [
    "## Expresión\n",
    "La expresión es el elemento actual en la iteración, pero también es el resultado, que puede manipular antes de que termine como un elemento de lista en la nueva lista:"
   ]
  },
  {
   "cell_type": "code",
   "execution_count": 29,
   "metadata": {},
   "outputs": [
    {
     "name": "stdout",
     "output_type": "stream",
     "text": [
      "['APPLE', 'BANANA', 'CHERRY', 'KIWI', 'MANGO']\n"
     ]
    }
   ],
   "source": [
    "# Establezca los valores en la nueva lista en mayúsculas:\n",
    "fruits = [\"apple\", \"banana\", \"cherry\", \"kiwi\", \"mango\"]\n",
    "newlist = [x.upper() for x in fruits]\n",
    "print(newlist)"
   ]
  },
  {
   "cell_type": "markdown",
   "metadata": {},
   "source": [
    "Puedes establecer el resultado como quieras:"
   ]
  },
  {
   "cell_type": "code",
   "execution_count": 30,
   "metadata": {},
   "outputs": [
    {
     "name": "stdout",
     "output_type": "stream",
     "text": [
      "['hello', 'hello', 'hello', 'hello', 'hello']\n"
     ]
    }
   ],
   "source": [
    "# Establezca todos los valores en la nueva lista en 'hola':\n",
    "fruits = [\"apple\", \"banana\", \"cherry\", \"kiwi\", \"mango\"]\n",
    "newlist = ['hello' for x in fruits]\n",
    "print(newlist)"
   ]
  },
  {
   "cell_type": "markdown",
   "metadata": {},
   "source": [
    "La expresión también puede contener condiciones, no como un filtro, sino como una forma de manipular el resultado:"
   ]
  },
  {
   "cell_type": "code",
   "execution_count": 31,
   "metadata": {},
   "outputs": [
    {
     "name": "stdout",
     "output_type": "stream",
     "text": [
      "['apple', 'orange', 'cherry', 'kiwi', 'mango']\n"
     ]
    }
   ],
   "source": [
    "# Devuelve \"naranja\" en lugar de \"plátano\":\n",
    "fruits = [\"apple\", \"banana\", \"cherry\", \"kiwi\", \"mango\"]\n",
    "newlist = [x if x != \"banana\" else \"orange\" for x in fruits]\n",
    "print(newlist)\n"
   ]
  },
  {
   "cell_type": "markdown",
   "metadata": {},
   "source": [
    "# Python - Sort Lists\n",
    "\n",
    "## Ordenar lista alfanuméricamente\n",
    "Los objetos de lista tienen un ``sort()`` método que ordenará la lista de forma alfanumérica, ascendente, de forma predeterminada:"
   ]
  },
  {
   "cell_type": "code",
   "execution_count": 32,
   "metadata": {},
   "outputs": [
    {
     "name": "stdout",
     "output_type": "stream",
     "text": [
      "['banana', 'kiwi', 'mango', 'orange', 'pineapple']\n"
     ]
    }
   ],
   "source": [
    "# Ordena la lista alfabéticamente:\n",
    "\n",
    "thislist = [\"orange\", \"mango\", \"kiwi\", \"pineapple\", \"banana\"]\n",
    "thislist.sort()\n",
    "print(thislist)"
   ]
  },
  {
   "cell_type": "code",
   "execution_count": 33,
   "metadata": {},
   "outputs": [
    {
     "name": "stdout",
     "output_type": "stream",
     "text": [
      "[23, 50, 65, 82, 100]\n"
     ]
    }
   ],
   "source": [
    "# Ordene la lista numéricamente:\n",
    "\n",
    "thislist = [100, 50, 65, 82, 23]\n",
    "thislist.sort()\n",
    "print(thislist)"
   ]
  },
  {
   "cell_type": "markdown",
   "metadata": {},
   "source": [
    "## Orden descendiente\n",
    "Para ordenar de forma descendente, use el argumento de palabra clave reverse = True:"
   ]
  },
  {
   "cell_type": "code",
   "execution_count": 34,
   "metadata": {},
   "outputs": [
    {
     "name": "stdout",
     "output_type": "stream",
     "text": [
      "['pineapple', 'orange', 'mango', 'kiwi', 'banana']\n"
     ]
    }
   ],
   "source": [
    "# Ordenar la lista de forma descendente:\n",
    "\n",
    "thislist = [\"orange\", \"mango\", \"kiwi\", \"pineapple\", \"banana\"]\n",
    "thislist.sort(reverse = True)\n",
    "print(thislist)"
   ]
  },
  {
   "cell_type": "code",
   "execution_count": 35,
   "metadata": {},
   "outputs": [
    {
     "name": "stdout",
     "output_type": "stream",
     "text": [
      "[100, 82, 65, 50, 23]\n"
     ]
    }
   ],
   "source": [
    "# Ordenar la lista de forma descendente:\n",
    "\n",
    "thislist = [100, 50, 65, 82, 23]\n",
    "thislist.sort(reverse = True)\n",
    "print(thislist)"
   ]
  },
  {
   "cell_type": "markdown",
   "metadata": {},
   "source": [
    "## Personalizar la función de clasificación\n",
    "También puede personalizar su propia función utilizando el argumento de palabra clave .``key = function``\n",
    "\n",
    "La función devolverá un número que se usará para ordenar la lista (primero el número más bajo):"
   ]
  },
  {
   "cell_type": "code",
   "execution_count": 37,
   "metadata": {},
   "outputs": [
    {
     "name": "stdout",
     "output_type": "stream",
     "text": [
      "[50, 65, 23, 82, 100]\n"
     ]
    }
   ],
   "source": [
    "# Ordene la lista según lo cerca que esté el número de 50:\n",
    "\n",
    "def myfunc(n):\n",
    "  return abs(n - 50)\n",
    "\n",
    "thislist = [100, 50, 65, 82, 23]\n",
    "thislist.sort(key = myfunc)\n",
    "print(thislist)"
   ]
  },
  {
   "cell_type": "markdown",
   "metadata": {},
   "source": [
    "## Clasificación insensible a mayúsculas y minúsculas\n",
    "De forma predeterminada, el ``sort()`` método distingue entre mayúsculas y minúsculas, lo que da como resultado que todas las letras mayúsculas se clasifiquen antes que las minúsculas:"
   ]
  },
  {
   "cell_type": "code",
   "execution_count": 38,
   "metadata": {},
   "outputs": [
    {
     "name": "stdout",
     "output_type": "stream",
     "text": [
      "['Kiwi', 'Orange', 'banana', 'cherry']\n"
     ]
    }
   ],
   "source": [
    "# La clasificación entre mayúsculas y minúsculas puede dar un resultado inesperado:\n",
    "\n",
    "thislist = [\"banana\", \"Orange\", \"Kiwi\", \"cherry\"]\n",
    "thislist.sort()\n",
    "print(thislist)"
   ]
  },
  {
   "cell_type": "markdown",
   "metadata": {},
   "source": [
    "Afortunadamente, podemos usar funciones integradas como funciones clave al ordenar una lista.\n",
    "\n",
    "Entonces, si desea una función de clasificación que no distinga entre mayúsculas y minúsculas, use str.lower como una función clave:"
   ]
  },
  {
   "cell_type": "code",
   "execution_count": 39,
   "metadata": {},
   "outputs": [
    {
     "name": "stdout",
     "output_type": "stream",
     "text": [
      "['banana', 'cherry', 'Kiwi', 'Orange']\n"
     ]
    }
   ],
   "source": [
    "# Realice una ordenación de la lista que no distinga entre mayúsculas y minúsculas:\n",
    "\n",
    "thislist = [\"banana\", \"Orange\", \"Kiwi\", \"cherry\"]\n",
    "thislist.sort(key = str.lower)\n",
    "print(thislist)\n"
   ]
  },
  {
   "cell_type": "markdown",
   "metadata": {},
   "source": [
    "## Orden inverso\n",
    "¿Qué sucede si desea invertir el orden de una lista, independientemente del alfabeto?\n",
    "\n",
    "El ``reverse()`` método invierte el orden de clasificación actual de los elementos."
   ]
  },
  {
   "cell_type": "code",
   "execution_count": 40,
   "metadata": {},
   "outputs": [
    {
     "name": "stdout",
     "output_type": "stream",
     "text": [
      "['cherry', 'Kiwi', 'Orange', 'banana']\n"
     ]
    }
   ],
   "source": [
    "# Invierta el orden de los elementos de la lista:\n",
    "\n",
    "thislist = [\"banana\", \"Orange\", \"Kiwi\", \"cherry\"]\n",
    "thislist.reverse()\n",
    "print(thislist)"
   ]
  },
  {
   "cell_type": "markdown",
   "metadata": {},
   "source": [
    "# Python - Copy Lists\n",
    "## Copiar una lista\n",
    "No puede copiar una lista simplemente escribiendo ``list2 = list1``, porque: ``list2`` solo será una referencia a ``list1``, y los cambios realizados en list1automáticamente también se realizarán en ``list2``.\n",
    "\n",
    "Hay formas de hacer una copia, una forma es usar el método List incorporado ``copy()``.\n"
   ]
  },
  {
   "cell_type": "code",
   "execution_count": 41,
   "metadata": {},
   "outputs": [
    {
     "name": "stdout",
     "output_type": "stream",
     "text": [
      "['apple', 'banana', 'cherry']\n"
     ]
    }
   ],
   "source": [
    "# Haz una copia de una lista con el copy()método:\n",
    "\n",
    "thislist = [\"apple\", \"banana\", \"cherry\"]\n",
    "mylist = thislist.copy()\n",
    "print(mylist)"
   ]
  },
  {
   "cell_type": "markdown",
   "metadata": {},
   "source": [
    "Otra forma de hacer una copia es usar el método incorporado ``list()``."
   ]
  },
  {
   "cell_type": "code",
   "execution_count": 42,
   "metadata": {},
   "outputs": [
    {
     "name": "stdout",
     "output_type": "stream",
     "text": [
      "['apple', 'banana', 'cherry']\n"
     ]
    }
   ],
   "source": [
    "# Haz una copia de una lista con el list()método:\n",
    "\n",
    "thislist = [\"apple\", \"banana\", \"cherry\"]\n",
    "mylist = list(thislist)\n",
    "print(mylist)"
   ]
  },
  {
   "cell_type": "markdown",
   "metadata": {},
   "source": [
    "# Python - Join Lists\n",
    "## Unirse a dos listas\n",
    "Hay varias formas de unir o concatenar dos o más listas en Python.\n",
    "\n",
    "Una de las formas más fáciles es usando el ``+`` operado"
   ]
  },
  {
   "cell_type": "code",
   "execution_count": 43,
   "metadata": {},
   "outputs": [
    {
     "name": "stdout",
     "output_type": "stream",
     "text": [
      "['a', 'b', 'c', 1, 2, 3]\n"
     ]
    }
   ],
   "source": [
    "# Únete a dos listas:\n",
    "\n",
    "list1 = [\"a\", \"b\", \"c\"]\n",
    "list2 = [1, 2, 3]\n",
    "\n",
    "list3 = list1 + list2\n",
    "print(list3)"
   ]
  },
  {
   "cell_type": "markdown",
   "metadata": {},
   "source": [
    "Otra forma de unir dos listas es agregar todos los elementos de list2 a list1, uno por uno:"
   ]
  },
  {
   "cell_type": "code",
   "execution_count": 44,
   "metadata": {},
   "outputs": [
    {
     "name": "stdout",
     "output_type": "stream",
     "text": [
      "['a', 'b', 'c', 1, 2, 3]\n"
     ]
    }
   ],
   "source": [
    "# Agregue list2 en list1:\n",
    "\n",
    "list1 = [\"a\", \"b\" , \"c\"]\n",
    "list2 = [1, 2, 3]\n",
    "\n",
    "for x in list2:\n",
    "  list1.append(x)\n",
    "\n",
    "print(list1)"
   ]
  },
  {
   "cell_type": "markdown",
   "metadata": {},
   "source": [
    "O puede usar el ``extend()`` método, donde el propósito es agregar elementos de una lista a otra lista:"
   ]
  },
  {
   "cell_type": "code",
   "execution_count": 45,
   "metadata": {},
   "outputs": [
    {
     "name": "stdout",
     "output_type": "stream",
     "text": [
      "['a', 'b', 'c', 1, 2, 3]\n"
     ]
    }
   ],
   "source": [
    "# Use el extend()método para agregar list2 al final de list1:\n",
    "\n",
    "list1 = [\"a\", \"b\" , \"c\"]\n",
    "list2 = [1, 2, 3]\n",
    "list1.extend(list2)\n",
    "print(list1)"
   ]
  },
  {
   "cell_type": "markdown",
   "metadata": {},
   "source": [
    "# Python - List Methods\n",
    "## Métodos de lista\n",
    "Python tiene un conjunto de métodos integrados que puede usar en las listas."
   ]
  },
  {
   "cell_type": "markdown",
   "metadata": {},
   "source": [
    "### Python List ``append()`` Method"
   ]
  },
  {
   "cell_type": "code",
   "execution_count": 47,
   "metadata": {},
   "outputs": [
    {
     "name": "stdout",
     "output_type": "stream",
     "text": [
      "['apple', 'banana', 'cherry', 'orange']\n"
     ]
    }
   ],
   "source": [
    "# Añadir un elemento a la fruitslista:\n",
    "\n",
    "fruits = [\"apple\", \"banana\", \"cherry\"]\n",
    "fruits.append(\"orange\")\n",
    "print(fruits)"
   ]
  },
  {
   "cell_type": "markdown",
   "metadata": {},
   "source": [
    "##### Definición y uso\n",
    "El ``append()`` método añade un elemento al final de la lista.\n",
    "\n",
    "##### Sintaxis\n",
    "list.append(elmnt)"
   ]
  },
  {
   "cell_type": "code",
   "execution_count": 49,
   "metadata": {},
   "outputs": [
    {
     "name": "stdout",
     "output_type": "stream",
     "text": [
      "['apple', 'banana', 'cherry', ['Ford', 'BMW', 'Volvo']]\n"
     ]
    }
   ],
   "source": [
    "# Agregar una lista a una lista:\n",
    "\n",
    "a = [\"apple\", \"banana\", \"cherry\"]\n",
    "b = [\"Ford\", \"BMW\", \"Volvo\"]\n",
    "a.append(b)\n",
    "print(a)"
   ]
  },
  {
   "cell_type": "markdown",
   "metadata": {},
   "source": [
    "### Python List clear() Method"
   ]
  },
  {
   "cell_type": "code",
   "execution_count": 50,
   "metadata": {},
   "outputs": [
    {
     "name": "stdout",
     "output_type": "stream",
     "text": [
      "[]\n"
     ]
    }
   ],
   "source": [
    "# Eliminar todos los elementos de la fruitslista:\n",
    "\n",
    "fruits = [\"apple\", \"banana\", \"cherry\"]\n",
    "fruits.clear()\n",
    "print(fruits)"
   ]
  },
  {
   "cell_type": "markdown",
   "metadata": {},
   "source": [
    "#### Definición y uso\n",
    "El ``clear()`` método elimina todos los elementos de una lista.\n",
    "\n",
    "##### Sintaxis\n",
    "``list.clear()``"
   ]
  },
  {
   "cell_type": "markdown",
   "metadata": {},
   "source": [
    "#### Python List copy() Method"
   ]
  },
  {
   "cell_type": "code",
   "execution_count": 52,
   "metadata": {},
   "outputs": [
    {
     "name": "stdout",
     "output_type": "stream",
     "text": [
      "['apple', 'banana', 'cherry']\n"
     ]
    }
   ],
   "source": [
    "# Copia la fruits lista:\n",
    "\n",
    "fruits = [\"apple\", \"banana\", \"cherry\"]\n",
    "x = fruits.copy()\n",
    "print(x)"
   ]
  },
  {
   "cell_type": "markdown",
   "metadata": {},
   "source": [
    "#### Definición y uso\n",
    "El ``copy()`` método devuelve una copia de la lista especificada.\n",
    "\n",
    "#### Sintaxis\n",
    "``list.copy()``"
   ]
  },
  {
   "cell_type": "markdown",
   "metadata": {},
   "source": [
    "#### Python List ``count()`` Method"
   ]
  },
  {
   "cell_type": "code",
   "execution_count": 53,
   "metadata": {},
   "outputs": [
    {
     "name": "stdout",
     "output_type": "stream",
     "text": [
      "1\n"
     ]
    }
   ],
   "source": [
    "# Devuelve el número de veces que aparece el valor \"cereza\" en la fruitslista:\n",
    "fruits = [\"apple\", \"banana\", \"cherry\"]\n",
    "x = fruits.count(\"cherry\")\n",
    "print(x)"
   ]
  },
  {
   "cell_type": "markdown",
   "metadata": {},
   "source": [
    "#### Definición y uso\n",
    "El ``count()`` método devuelve el número de elementos con el valor especificado.\n",
    "\n",
    "##### Sintaxis\n",
    "``list.count(value)``"
   ]
  },
  {
   "cell_type": "code",
   "execution_count": 54,
   "metadata": {},
   "outputs": [
    {
     "name": "stdout",
     "output_type": "stream",
     "text": [
      "2\n"
     ]
    }
   ],
   "source": [
    "# Devuelve el número de veces que aparece el valor 9 en la lista:\n",
    "points = [1, 4, 2, 9, 7, 8, 9, 3, 1]\n",
    "x = points.count(9)\n",
    "print(x)"
   ]
  },
  {
   "cell_type": "markdown",
   "metadata": {},
   "source": [
    "#### Python List extend() Method"
   ]
  },
  {
   "cell_type": "code",
   "execution_count": 55,
   "metadata": {},
   "outputs": [
    {
     "name": "stdout",
     "output_type": "stream",
     "text": [
      "['apple', 'banana', 'cherry', 'Ford', 'BMW', 'Volvo']\n"
     ]
    }
   ],
   "source": [
    "# Agregue los elementos de carsa la fruitslista:\n",
    "fruits = ['apple', 'banana', 'cherry']\n",
    "cars = ['Ford', 'BMW', 'Volvo']\n",
    "fruits.extend(cars)\n",
    "print(fruits)"
   ]
  },
  {
   "cell_type": "markdown",
   "metadata": {},
   "source": [
    "#### Definición y uso\n",
    "El ``extend()`` método agrega los elementos de lista especificados (o cualquier iterable) al final de la lista actual.\n",
    "\n",
    "##### Sintaxis\n",
    "``list.extend(iterable)``"
   ]
  },
  {
   "cell_type": "code",
   "execution_count": 56,
   "metadata": {},
   "outputs": [
    {
     "name": "stdout",
     "output_type": "stream",
     "text": [
      "['apple', 'banana', 'cherry', 1, 4, 5, 9]\n"
     ]
    }
   ],
   "source": [
    "# Agregue una tupla a la fruitslista:\n",
    "fruits = ['apple', 'banana', 'cherry']\n",
    "points = (1, 4, 5, 9)\n",
    "fruits.extend(points)\n",
    "print(fruits)"
   ]
  },
  {
   "cell_type": "markdown",
   "metadata": {},
   "source": [
    "#### Python List ``index()`` Method"
   ]
  },
  {
   "cell_type": "code",
   "execution_count": 57,
   "metadata": {},
   "outputs": [
    {
     "name": "stdout",
     "output_type": "stream",
     "text": [
      "2\n"
     ]
    }
   ],
   "source": [
    "# ¿Cuál es la posición del valor \"cereza\":\n",
    "fruits = ['apple', 'banana', 'cherry']\n",
    "x = fruits.index(\"cherry\")\n",
    "print(x)\n"
   ]
  },
  {
   "cell_type": "markdown",
   "metadata": {},
   "source": [
    "#### Definición y uso\n",
    "El ``index()`` método devuelve la posición en la primera aparición del valor especificado.\n",
    "\n",
    "##### Sintaxis\n",
    "``list.index(elmnt)``"
   ]
  },
  {
   "cell_type": "code",
   "execution_count": 60,
   "metadata": {},
   "outputs": [
    {
     "name": "stdout",
     "output_type": "stream",
     "text": [
      "3\n"
     ]
    }
   ],
   "source": [
    "# ¿Cuál es la posición del valor 32:\n",
    "fruits = [4, 55, 64, 32, 16, 32]\n",
    "x = fruits.index(32)\n",
    "print(x)\n",
    "# Nota: El index()método solo devuelve la primera aparición del valor."
   ]
  },
  {
   "cell_type": "markdown",
   "metadata": {},
   "source": [
    "#### Python List ``insert()`` Method"
   ]
  },
  {
   "cell_type": "code",
   "execution_count": 61,
   "metadata": {},
   "outputs": [
    {
     "name": "stdout",
     "output_type": "stream",
     "text": [
      "['apple', 'orange', 'banana', 'cherry']\n"
     ]
    }
   ],
   "source": [
    "# Inserte el valor \"naranja\" como segundo elemento de la fruitlista:\n",
    "fruits = ['apple', 'banana', 'cherry']\n",
    "fruits.insert(1, \"orange\")\n",
    "print(fruits)"
   ]
  },
  {
   "cell_type": "markdown",
   "metadata": {},
   "source": [
    "#### Definición y uso\n",
    "El ``insert()`` método inserta el valor especificado en la posición especificada.\n",
    "\n",
    "##### Sintaxis\n",
    "``list.insert(pos, elmnt)``"
   ]
  },
  {
   "cell_type": "markdown",
   "metadata": {},
   "source": [
    "#### Python List ``pop()`` Method"
   ]
  },
  {
   "cell_type": "code",
   "execution_count": 62,
   "metadata": {},
   "outputs": [
    {
     "name": "stdout",
     "output_type": "stream",
     "text": [
      "['apple', 'cherry']\n"
     ]
    }
   ],
   "source": [
    "# Elimina el segundo elemento de la fruit lista:\n",
    "fruits = ['apple', 'banana', 'cherry']\n",
    "fruits.pop(1)\n",
    "print(fruits)"
   ]
  },
  {
   "cell_type": "markdown",
   "metadata": {},
   "source": [
    "#### Definición y uso\n",
    "El ``pop()`` método elimina el elemento en la posición especificada.\n",
    "\n",
    "##### Sintaxis\n",
    "``list.pop(pos)``"
   ]
  },
  {
   "cell_type": "code",
   "execution_count": null,
   "metadata": {},
   "outputs": [],
   "source": [
    "# Devolver el elemento eliminado:\n",
    "fruits = ['apple', 'banana', 'cherry']\n",
    "x = fruits.pop(1)\n",
    "print(x)"
   ]
  },
  {
   "cell_type": "markdown",
   "metadata": {},
   "source": [
    "**Nota**: El ``pop()`` método devuelve el valor eliminado."
   ]
  },
  {
   "cell_type": "markdown",
   "metadata": {},
   "source": [
    "#### Python List ``remove()`` Method"
   ]
  },
  {
   "cell_type": "code",
   "execution_count": 63,
   "metadata": {},
   "outputs": [
    {
     "name": "stdout",
     "output_type": "stream",
     "text": [
      "['apple', 'cherry']\n"
     ]
    }
   ],
   "source": [
    "# Elimina el elemento \"banana\" de la fruit lista:\n",
    "fruits = ['apple', 'banana', 'cherry']\n",
    "fruits.remove(\"banana\")\n",
    "print(fruits)"
   ]
  },
  {
   "cell_type": "markdown",
   "metadata": {},
   "source": [
    "#### Definición y uso\n",
    "El ``remove()`` método elimina la primera aparición del elemento con el valor especificado.\n",
    "\n",
    "##### Sintaxis\n",
    "``list.remove(elmnt)``"
   ]
  },
  {
   "cell_type": "markdown",
   "metadata": {},
   "source": [
    "#### Python List ``reverse()`` Method"
   ]
  },
  {
   "cell_type": "code",
   "execution_count": 64,
   "metadata": {},
   "outputs": [
    {
     "name": "stdout",
     "output_type": "stream",
     "text": [
      "['cherry', 'banana', 'apple']\n"
     ]
    }
   ],
   "source": [
    "# Invierta el orden de la fruit lista:\n",
    "fruits = ['apple', 'banana', 'cherry']\n",
    "fruits.reverse()\n",
    "print(fruits)"
   ]
  },
  {
   "cell_type": "markdown",
   "metadata": {},
   "source": [
    "#### Definición y uso\n",
    "El ``reverse()`` método invierte el orden de clasificación de los elementos.\n",
    "\n",
    "##### Sintaxis\n",
    "``list.reverse()``"
   ]
  },
  {
   "cell_type": "markdown",
   "metadata": {},
   "source": [
    "#### Python List ``sort()`` Method"
   ]
  },
  {
   "cell_type": "code",
   "execution_count": 65,
   "metadata": {},
   "outputs": [
    {
     "name": "stdout",
     "output_type": "stream",
     "text": [
      "['BMW', 'Ford', 'Volvo']\n"
     ]
    }
   ],
   "source": [
    "# Ordena la lista alfabéticamente:\n",
    "cars = ['Ford', 'BMW', 'Volvo']\n",
    "cars.sort()\n",
    "print(cars)"
   ]
  },
  {
   "cell_type": "markdown",
   "metadata": {},
   "source": [
    "#### Definición y uso\n",
    "El ``sort()`` método ordena la lista de forma ascendente por defecto.\n",
    "\n",
    "También puede crear una función para decidir los criterios de clasificación.\n",
    "\n",
    "##### Sintaxis\n",
    "``list.sort(reverse=True|False, key=myFunc)``"
   ]
  },
  {
   "cell_type": "code",
   "execution_count": 66,
   "metadata": {},
   "outputs": [
    {
     "name": "stdout",
     "output_type": "stream",
     "text": [
      "['Volvo', 'Ford', 'BMW']\n"
     ]
    }
   ],
   "source": [
    "# Ordenar la lista de forma descendente:\n",
    "cars = ['Ford', 'BMW', 'Volvo']\n",
    "cars.sort(reverse=True)\n",
    "print(cars)"
   ]
  },
  {
   "cell_type": "code",
   "execution_count": 69,
   "metadata": {},
   "outputs": [
    {
     "name": "stdout",
     "output_type": "stream",
     "text": [
      "['VW', 'BMW', 'Ford', 'Mitsubishi']\n"
     ]
    }
   ],
   "source": [
    "# Ordene la lista por la longitud de los valores:\n",
    "# A function that returns the length of the value:\n",
    "def myFunc(e):\n",
    "  return len(e)\n",
    "\n",
    "cars = ['Ford', 'Mitsubishi', 'BMW', 'VW']\n",
    "cars.sort(key=myFunc)\n",
    "print(cars)"
   ]
  },
  {
   "cell_type": "code",
   "execution_count": 70,
   "metadata": {},
   "outputs": [
    {
     "name": "stdout",
     "output_type": "stream",
     "text": [
      "[{'car': 'Mitsubishi', 'year': 2000}, {'car': 'Ford', 'year': 2005}, {'car': 'VW', 'year': 2011}, {'car': 'BMW', 'year': 2019}]\n"
     ]
    }
   ],
   "source": [
    "# Ordene una lista de diccionarios según el valor de \"año\" de los diccionarios:\n",
    "def myFunc(e):\n",
    "  return e['year']\n",
    "\n",
    "cars = [\n",
    "  {'car': 'Ford', 'year': 2005},\n",
    "  {'car': 'Mitsubishi', 'year': 2000},\n",
    "  {'car': 'BMW', 'year': 2019},\n",
    "  {'car': 'VW', 'year': 2011}\n",
    "]\n",
    "\n",
    "cars.sort(key=myFunc)\n",
    "\n",
    "print(cars)"
   ]
  },
  {
   "cell_type": "code",
   "execution_count": 71,
   "metadata": {},
   "outputs": [
    {
     "name": "stdout",
     "output_type": "stream",
     "text": [
      "['Mitsubishi', 'Ford', 'BMW', 'VW']\n"
     ]
    }
   ],
   "source": [
    "# Ordene la lista por la longitud de los valores y al revés:\n",
    "# A function that returns the length of the value:\n",
    "def myFunc(e):\n",
    "  return len(e)\n",
    "\n",
    "cars = ['Ford', 'Mitsubishi', 'BMW', 'VW']\n",
    "cars.sort(reverse=True, key=myFunc)\n",
    "print(cars)\n"
   ]
  },
  {
   "cell_type": "markdown",
   "metadata": {},
   "source": [
    "# Python Tuples\n",
    "``mytuple = (\"apple\", \"banana\", \"cherry\")``\n",
    "\n",
    "## tupla\n",
    "Las tuplas se utilizan para almacenar varios elementos en una sola variable.\n",
    "\n",
    "Tuple es uno de los 4 tipos de datos incorporados en Python que se utilizan para almacenar colecciones de datos, los otros 3 son List , Set y Dictionary , todos con diferentes calidades y usos.\n",
    "\n",
    "Una tupla es una colección ordenada e **inmutable**.\n",
    "\n",
    "Las tuplas se escriben con corchetes."
   ]
  },
  {
   "cell_type": "code",
   "execution_count": 2,
   "metadata": {},
   "outputs": [
    {
     "name": "stdout",
     "output_type": "stream",
     "text": [
      "('apple', 'banana', 'cherry')\n"
     ]
    }
   ],
   "source": [
    "# Crear una tupla:\n",
    "thistuple = (\"apple\", \"banana\", \"cherry\")\n",
    "print(thistuple)"
   ]
  },
  {
   "cell_type": "markdown",
   "metadata": {},
   "source": [
    "## Elementos de tupla\n",
    "Los elementos de tupla están ordenados, no se pueden modificar y permiten valores duplicados.\n",
    "\n",
    "Los elementos de tupla están indexados, el primer elemento tiene índice [0], el segundo elemento tiene índice, ``[1]`` etc.\n",
    "\n",
    "## Ordenado\n",
    "Cuando decimos que las tuplas están ordenadas, significa que los elementos tienen un orden definido y ese orden no cambiará.\n",
    "\n",
    "## inmutable\n",
    "Las tuplas no se pueden cambiar, lo que significa que no podemos cambiar, agregar o eliminar elementos después de que se haya creado la tupla.\n",
    "\n",
    "## Permitir duplicados\n",
    "Dado que las tuplas están indexadas, pueden tener elementos con el mismo valor:"
   ]
  },
  {
   "cell_type": "code",
   "execution_count": 3,
   "metadata": {},
   "outputs": [
    {
     "name": "stdout",
     "output_type": "stream",
     "text": [
      "('apple', 'banana', 'cherry', 'apple', 'cherry')\n"
     ]
    }
   ],
   "source": [
    "# Las tuplas permiten valores duplicados:\n",
    "\n",
    "thistuple = (\"apple\", \"banana\", \"cherry\", \"apple\", \"cherry\")\n",
    "print(thistuple)"
   ]
  },
  {
   "cell_type": "markdown",
   "metadata": {},
   "source": [
    "# Longitud de la tupla\n",
    "Para determinar cuántos elementos tiene una tupla, use la ``len()`` función:"
   ]
  },
  {
   "cell_type": "code",
   "execution_count": 4,
   "metadata": {},
   "outputs": [
    {
     "name": "stdout",
     "output_type": "stream",
     "text": [
      "3\n"
     ]
    }
   ],
   "source": [
    "# Imprime el número de elementos en la tupla:\n",
    "\n",
    "thistuple = (\"apple\", \"banana\", \"cherry\")\n",
    "print(len(thistuple))"
   ]
  },
  {
   "cell_type": "markdown",
   "metadata": {},
   "source": [
    "# Crear tupla con un elemento\n",
    "Para crear una tupla con un solo elemento, debe agregar una coma después del elemento; de lo contrario, Python no lo reconocerá como una tupla."
   ]
  },
  {
   "cell_type": "code",
   "execution_count": 5,
   "metadata": {},
   "outputs": [
    {
     "name": "stdout",
     "output_type": "stream",
     "text": [
      "<class 'tuple'>\n",
      "<class 'str'>\n"
     ]
    }
   ],
   "source": [
    "# Tupla de un elemento, recuerda la coma:\n",
    "\n",
    "thistuple = (\"apple\",)\n",
    "print(type(thistuple))\n",
    "\n",
    "#NOT a tuple\n",
    "thistuple = (\"apple\")\n",
    "print(type(thistuple))"
   ]
  },
  {
   "cell_type": "markdown",
   "metadata": {},
   "source": [
    "## Elementos de tupla: tipos de datos\n",
    "Los elementos de tupla pueden ser de cualquier tipo de datos:"
   ]
  },
  {
   "cell_type": "code",
   "execution_count": 7,
   "metadata": {},
   "outputs": [
    {
     "name": "stdout",
     "output_type": "stream",
     "text": [
      "('apple', 'banana', 'cherry')\n",
      "(1, 5, 7, 9, 3)\n",
      "(True, False, False)\n"
     ]
    }
   ],
   "source": [
    "# Tipos de datos de cadena, int y booleanos:\n",
    "\n",
    "tuple1 = (\"apple\", \"banana\", \"cherry\")\n",
    "tuple2 = (1, 5, 7, 9, 3)\n",
    "tuple3 = (True, False, False)\n",
    "\n",
    "print(tuple1)\n",
    "print(tuple2)\n",
    "print(tuple3)"
   ]
  },
  {
   "cell_type": "markdown",
   "metadata": {},
   "source": [
    "Una tupla puede contener diferentes tipos de datos:"
   ]
  },
  {
   "cell_type": "code",
   "execution_count": 8,
   "metadata": {},
   "outputs": [
    {
     "name": "stdout",
     "output_type": "stream",
     "text": [
      "('abc', 34, True, 40, 'male')\n"
     ]
    }
   ],
   "source": [
    "# Una tupla con cadenas, enteros y valores booleanos:\n",
    "tuple1 = (\"abc\", 34, True, 40, \"male\")\n",
    "\n",
    "print(tuple1)"
   ]
  },
  {
   "cell_type": "markdown",
   "metadata": {},
   "source": [
    "## tipo()\n",
    "Desde la perspectiva de Python, las tuplas se definen como objetos con el tipo de datos 'tupla':\n",
    "\n",
    "``<class 'tuple'>``"
   ]
  },
  {
   "cell_type": "code",
   "execution_count": 9,
   "metadata": {},
   "outputs": [
    {
     "name": "stdout",
     "output_type": "stream",
     "text": [
      "<class 'tuple'>\n"
     ]
    }
   ],
   "source": [
    "# ¿Cuál es el tipo de datos de una tupla?\n",
    "\n",
    "mytuple = (\"apple\", \"banana\", \"cherry\")\n",
    "print(type(mytuple))"
   ]
  },
  {
   "cell_type": "markdown",
   "metadata": {},
   "source": [
    "## El constructor tupla()\n",
    "También es posible usar el constructor ``tuple()`` para hacer una tupla."
   ]
  },
  {
   "cell_type": "code",
   "execution_count": 10,
   "metadata": {},
   "outputs": [
    {
     "name": "stdout",
     "output_type": "stream",
     "text": [
      "('apple', 'banana', 'cherry')\n"
     ]
    }
   ],
   "source": [
    "# Usando el método tuple() para hacer una tupla:\n",
    "\n",
    "thistuple = tuple((\"apple\", \"banana\", \"cherry\")) # note the double round-brackets\n",
    "print(thistuple)"
   ]
  },
  {
   "cell_type": "markdown",
   "metadata": {},
   "source": [
    "## Colecciones de Python (matrices)\n",
    "Hay cuatro tipos de datos de recopilación en el lenguaje de programación Python:\n",
    "\n",
    "- **La lista** es una colección ordenada y modificable. Permite miembros duplicados.\n",
    "- **Tuple** es una colección ordenada e inmutable. Permite miembros duplicados.\n",
    "- **Conjunto** es una colección desordenada, inmutable* y no indexada. No hay miembros duplicados.\n",
    "- **El diccionario** es una colección ordenada** y modificable. No hay miembros duplicados.\n",
    "\n",
    "*. Los elementos establecidos no se pueden cambiar, pero puede eliminar y/o agregar elementos cuando lo desee.\n",
    "\n",
    "**A partir de la versión 3.7 de Python, los diccionarios se ordenan . En Python 3.6 y versiones anteriores, los diccionarios están desordenados .\n",
    "\n",
    "Al elegir un tipo de colección, es útil comprender las propiedades de ese tipo. Elegir el tipo correcto para un conjunto de datos en particular podría significar la retención del significado y podría significar un aumento en la eficiencia o la seguridad."
   ]
  },
  {
   "cell_type": "markdown",
   "metadata": {},
   "source": [
    "# Python - Access Tuple Items\n",
    "\n",
    "## Acceder a elementos de tupla\n",
    "Puede acceder a los elementos de la tupla consultando el número de índice, entre corchetes:"
   ]
  },
  {
   "cell_type": "code",
   "execution_count": 11,
   "metadata": {},
   "outputs": [
    {
     "name": "stdout",
     "output_type": "stream",
     "text": [
      "banana\n"
     ]
    }
   ],
   "source": [
    "# Imprime el segundo elemento de la tupla:\n",
    "\n",
    "thistuple = (\"apple\", \"banana\", \"cherry\")\n",
    "print(thistuple[1])"
   ]
  },
  {
   "cell_type": "markdown",
   "metadata": {},
   "source": [
    "**Nota**: El primer elemento tiene índice 0."
   ]
  },
  {
   "cell_type": "markdown",
   "metadata": {},
   "source": [
    "## Indexación negativa\n",
    "La indexación negativa significa comenzar desde el final.\n",
    "\n",
    "``-1`` se refiere al último elemento, -2se refiere al penúltimo elemento, etc."
   ]
  },
  {
   "cell_type": "markdown",
   "metadata": {},
   "source": [
    "## Gama de índices\n",
    "Puede especificar un rango de índices especificando dónde comenzar y dónde terminar el rango.\n",
    "\n",
    "Al especificar un rango, el valor devuelto será una nueva tupla con los elementos especificados."
   ]
  },
  {
   "cell_type": "code",
   "execution_count": 12,
   "metadata": {},
   "outputs": [
    {
     "name": "stdout",
     "output_type": "stream",
     "text": [
      "('cherry', 'orange', 'kiwi')\n"
     ]
    }
   ],
   "source": [
    "# Devuelve el tercer, cuarto y quinto elemento:\n",
    "\n",
    "thistuple = (\"apple\", \"banana\", \"cherry\", \"orange\", \"kiwi\", \"melon\", \"mango\")\n",
    "print(thistuple[2:5])"
   ]
  },
  {
   "cell_type": "markdown",
   "metadata": {},
   "source": [
    "**Nota**: La búsqueda comenzará en el índice 2 (incluido) y terminará en el índice 5 (no incluido).\n",
    "\n",
    "Recuerde que el primer elemento tiene índice 0.\n",
    "\n",
    "Al omitir el valor inicial, el rango comenzará en el primer elemento:"
   ]
  },
  {
   "cell_type": "code",
   "execution_count": 13,
   "metadata": {},
   "outputs": [
    {
     "name": "stdout",
     "output_type": "stream",
     "text": [
      "('apple', 'banana', 'cherry', 'orange')\n"
     ]
    }
   ],
   "source": [
    "# Este ejemplo devuelve los elementos desde el principio hasta, pero NO incluidos, \"kiwi\":\n",
    "\n",
    "thistuple = (\"apple\", \"banana\", \"cherry\", \"orange\", \"kiwi\", \"melon\", \"mango\")\n",
    "print(thistuple[:4])"
   ]
  },
  {
   "cell_type": "markdown",
   "metadata": {},
   "source": [
    "Al omitir el valor final, el rango pasará al final de la lista:"
   ]
  },
  {
   "cell_type": "code",
   "execution_count": 14,
   "metadata": {},
   "outputs": [
    {
     "name": "stdout",
     "output_type": "stream",
     "text": [
      "('cherry', 'orange', 'kiwi', 'melon', 'mango')\n"
     ]
    }
   ],
   "source": [
    "# Este ejemplo devuelve los elementos de \"cherry\" y hasta el final:\n",
    "\n",
    "thistuple = (\"apple\", \"banana\", \"cherry\", \"orange\", \"kiwi\", \"melon\", \"mango\")\n",
    "print(thistuple[2:])"
   ]
  },
  {
   "cell_type": "markdown",
   "metadata": {},
   "source": [
    "## Rango de índices negativos\n",
    "Especifique índices negativos si desea iniciar la búsqueda desde el final de la tupla:"
   ]
  },
  {
   "cell_type": "code",
   "execution_count": 15,
   "metadata": {},
   "outputs": [
    {
     "name": "stdout",
     "output_type": "stream",
     "text": [
      "('orange', 'kiwi', 'melon')\n"
     ]
    }
   ],
   "source": [
    "# Este ejemplo devuelve los elementos del índice -4 (incluido) al índice -1 (excluido)\n",
    "\n",
    "thistuple = (\"apple\", \"banana\", \"cherry\", \"orange\", \"kiwi\", \"melon\", \"mango\")\n",
    "print(thistuple[-4:-1])\n",
    "\n",
    "#Negative indexing means starting from the end of the tuple.\n",
    "\n",
    "#This example returns the items from index -4 (included) to index -1 (excluded)\n",
    "\n",
    "#Remember that the last item has the index -1,\n"
   ]
  },
  {
   "cell_type": "markdown",
   "metadata": {},
   "source": [
    "## Comprobar si el artículo existe\n",
    "Para determinar si un elemento específico está presente en una tupla, use la ``in`` palabra clave:"
   ]
  },
  {
   "cell_type": "code",
   "execution_count": 17,
   "metadata": {},
   "outputs": [
    {
     "name": "stdout",
     "output_type": "stream",
     "text": [
      "Yes, 'apple' is in the fruits tuple\n"
     ]
    }
   ],
   "source": [
    "# Compruebe si \"apple\" está presente en la tupla:\n",
    "\n",
    "thistuple = (\"apple\", \"banana\", \"cherry\")\n",
    "if \"apple\" in thistuple:\n",
    "  print(\"Yes, 'apple' is in the fruits tuple\")"
   ]
  },
  {
   "cell_type": "markdown",
   "metadata": {},
   "source": [
    "# Python - Update Tuples\n",
    "\n",
    "Las tuplas no se pueden cambiar, lo que significa que no puede cambiar, agregar o eliminar elementos una vez que se crea la tupla.\n",
    "\n",
    "Pero hay algunas soluciones.\n",
    "\n",
    "## Cambiar valores de tupla\n",
    "Una vez que se crea una tupla, no puede cambiar sus valores. Las tuplas son **inmutables** , o **inmutables** como también se le llama.\n",
    "\n",
    "Pero hay una solución. Puede convertir la tupla en una lista, cambiar la lista y volver a convertir la lista en una tupla."
   ]
  },
  {
   "cell_type": "code",
   "execution_count": 18,
   "metadata": {},
   "outputs": [
    {
     "name": "stdout",
     "output_type": "stream",
     "text": [
      "('apple', 'kiwi', 'cherry')\n"
     ]
    }
   ],
   "source": [
    "# Convierta la tupla en una lista para poder cambiarla:\n",
    "\n",
    "x = (\"apple\", \"banana\", \"cherry\")\n",
    "y = list(x)\n",
    "y[1] = \"kiwi\"\n",
    "x = tuple(y)\n",
    "\n",
    "print(x)"
   ]
  },
  {
   "cell_type": "markdown",
   "metadata": {},
   "source": [
    "## Agregar elementos\n",
    "Dado que las tuplas son inmutables, no tienen un método integrado ``append()``, pero existen otras formas de agregar elementos a una tupla.\n",
    "\n",
    "1. **Convertir en una lista**: al igual que la solución alternativa para *cambiar* una tupla, puede convertirla en una lista, agregar sus elementos y volver a convertirla en una tupla."
   ]
  },
  {
   "cell_type": "code",
   "execution_count": 20,
   "metadata": {},
   "outputs": [
    {
     "name": "stdout",
     "output_type": "stream",
     "text": [
      "('apple', 'banana', 'cherry', 'orange')\n"
     ]
    }
   ],
   "source": [
    "# Convierta la tupla en una lista, agregue \"naranja\" y vuelva a convertirla en una tupla:\n",
    "\n",
    "thistuple = (\"apple\", \"banana\", \"cherry\")\n",
    "y = list(thistuple)\n",
    "y.append(\"orange\")\n",
    "thistuple = tuple(y)\n",
    "\n",
    "print(thistuple)"
   ]
  },
  {
   "cell_type": "markdown",
   "metadata": {},
   "source": [
    "2. **Agregue una tupla a una tupla**. Puede agregar tuplas a tuplas, por lo que si desea agregar un elemento (o muchos), cree una nueva tupla con los elementos y agréguela a la tupla existente:"
   ]
  },
  {
   "cell_type": "code",
   "execution_count": 22,
   "metadata": {},
   "outputs": [
    {
     "name": "stdout",
     "output_type": "stream",
     "text": [
      "('apple', 'banana', 'cherry', 'orange')\n"
     ]
    }
   ],
   "source": [
    "# Cree una nueva tupla con el valor \"naranja\" y agregue esa tupla:\n",
    "\n",
    "thistuple = (\"apple\", \"banana\", \"cherry\")\n",
    "y = (\"orange\",)\n",
    "thistuple += y\n",
    "print(thistuple)"
   ]
  },
  {
   "cell_type": "markdown",
   "metadata": {},
   "source": [
    "**Nota**: Al crear una tupla con un solo elemento, recuerde incluir una coma después del elemento; de lo contrario, no se identificará como una tupla.\n",
    "\n",
    "## Eliminar elementos\n",
    "**Nota**: No puede eliminar elementos en una tupla.\n",
    "\n",
    "Las tuplas **no se pueden modificar** , por lo que no puede eliminar elementos, pero puede usar la misma solución alternativa que usamos para cambiar y agregar elementos de tupla:"
   ]
  },
  {
   "cell_type": "code",
   "execution_count": 24,
   "metadata": {},
   "outputs": [
    {
     "name": "stdout",
     "output_type": "stream",
     "text": [
      "('banana', 'cherry')\n"
     ]
    }
   ],
   "source": [
    "# Convierta la tupla en una lista, elimine \"manzana\" y vuelva a convertirla en una tupla:\n",
    "\n",
    "thistuple = (\"apple\", \"banana\", \"cherry\")\n",
    "y = list(thistuple)\n",
    "y.remove(\"apple\")\n",
    "thistuple = tuple(y)\n",
    "\n",
    "print(thistuple)"
   ]
  },
  {
   "cell_type": "markdown",
   "metadata": {},
   "source": [
    "O puede eliminar la tupla por completo:"
   ]
  },
  {
   "cell_type": "code",
   "execution_count": 25,
   "metadata": {},
   "outputs": [
    {
     "ename": "NameError",
     "evalue": "name 'thistuple' is not defined",
     "output_type": "error",
     "traceback": [
      "\u001b[1;31m---------------------------------------------------------------------------\u001b[0m",
      "\u001b[1;31mNameError\u001b[0m                                 Traceback (most recent call last)",
      "\u001b[1;32mc:\\Users\\celio\\OneDrive\\Escritorio\\programación\\platzi\\PracticaDePython.ipynb Celda 652\u001b[0m in \u001b[0;36m4\n\u001b[0;32m      <a href='vscode-notebook-cell:/c%3A/Users/celio/OneDrive/Escritorio/programaci%C3%B3n/platzi/PracticaDePython.ipynb#Z1622sZmlsZQ%3D%3D?line=1'>2</a>\u001b[0m thistuple \u001b[39m=\u001b[39m (\u001b[39m\"\u001b[39m\u001b[39mapple\u001b[39m\u001b[39m\"\u001b[39m, \u001b[39m\"\u001b[39m\u001b[39mbanana\u001b[39m\u001b[39m\"\u001b[39m, \u001b[39m\"\u001b[39m\u001b[39mcherry\u001b[39m\u001b[39m\"\u001b[39m)\n\u001b[0;32m      <a href='vscode-notebook-cell:/c%3A/Users/celio/OneDrive/Escritorio/programaci%C3%B3n/platzi/PracticaDePython.ipynb#Z1622sZmlsZQ%3D%3D?line=2'>3</a>\u001b[0m \u001b[39mdel\u001b[39;00m thistuple\n\u001b[1;32m----> <a href='vscode-notebook-cell:/c%3A/Users/celio/OneDrive/Escritorio/programaci%C3%B3n/platzi/PracticaDePython.ipynb#Z1622sZmlsZQ%3D%3D?line=3'>4</a>\u001b[0m \u001b[39mprint\u001b[39m(thistuple) \u001b[39m#this will raise an error because the tuple no longer exists\u001b[39;00m\n",
      "\u001b[1;31mNameError\u001b[0m: name 'thistuple' is not defined"
     ]
    }
   ],
   "source": [
    "# La del palabra clave puede eliminar la tupla por completo:\n",
    "thistuple = (\"apple\", \"banana\", \"cherry\")\n",
    "del thistuple\n",
    "print(thistuple) #this will raise an error because the tuple no longer exists"
   ]
  },
  {
   "cell_type": "markdown",
   "metadata": {},
   "source": [
    "# Python - Unpack Tuples\n",
    "## Desempaquetando una tupla\n",
    "Cuando creamos una tupla, normalmente le asignamos valores. Esto se llama \"empaquetar\" una tupla:"
   ]
  },
  {
   "cell_type": "code",
   "execution_count": 26,
   "metadata": {},
   "outputs": [
    {
     "name": "stdout",
     "output_type": "stream",
     "text": [
      "('apple', 'banana', 'cherry')\n"
     ]
    }
   ],
   "source": [
    "# Empaquetando una tupla:\n",
    "fruits = (\"apple\", \"banana\", \"cherry\")\n",
    "print(fruits)"
   ]
  },
  {
   "cell_type": "markdown",
   "metadata": {},
   "source": [
    "Pero, en Python, también podemos volver a extraer los valores en variables. Esto se llama \"desempacar\":"
   ]
  },
  {
   "cell_type": "code",
   "execution_count": 27,
   "metadata": {},
   "outputs": [
    {
     "name": "stdout",
     "output_type": "stream",
     "text": [
      "apple\n",
      "banana\n",
      "cherry\n"
     ]
    }
   ],
   "source": [
    "# Desempaquetando una tupla:\n",
    "\n",
    "fruits = (\"apple\", \"banana\", \"cherry\")\n",
    "\n",
    "(green, yellow, red) = fruits\n",
    "\n",
    "print(green)\n",
    "print(yellow)\n",
    "print(red)"
   ]
  },
  {
   "cell_type": "markdown",
   "metadata": {},
   "source": [
    "**Nota**: El número de variables debe coincidir con el número de valores en la tupla, de lo contrario, debe usar un asterisco para recopilar los valores restantes como una lista.\n",
    "\n",
    "## Usando asterisco ``*``\n",
    "Si el número de variables es menor que el número de valores, puede agregar un ``*`` al nombre de la variable y los valores se asignarán a la variable como una lista:\n"
   ]
  },
  {
   "cell_type": "code",
   "execution_count": 28,
   "metadata": {},
   "outputs": [
    {
     "name": "stdout",
     "output_type": "stream",
     "text": [
      "apple\n",
      "banana\n",
      "['cherry', 'strawberry', 'raspberry']\n"
     ]
    }
   ],
   "source": [
    "# Asigne el resto de los valores como una lista llamada \"rojo\":\n",
    "\n",
    "fruits = (\"apple\", \"banana\", \"cherry\", \"strawberry\", \"raspberry\")\n",
    "\n",
    "(green, yellow, *red) = fruits\n",
    "\n",
    "print(green)\n",
    "print(yellow)\n",
    "print(red)"
   ]
  },
  {
   "cell_type": "markdown",
   "metadata": {},
   "source": [
    "Si el asterisco se agrega a otro nombre de variable que no sea el último, Python asignará valores a la variable hasta que la cantidad de valores restantes coincida con la cantidad de variables restantes."
   ]
  },
  {
   "cell_type": "code",
   "execution_count": 29,
   "metadata": {},
   "outputs": [
    {
     "name": "stdout",
     "output_type": "stream",
     "text": [
      "apple\n",
      "['mango', 'papaya', 'pineapple']\n",
      "cherry\n"
     ]
    }
   ],
   "source": [
    "# Agrega una lista de valores a la variable \"trópico\":\n",
    "\n",
    "fruits = (\"apple\", \"mango\", \"papaya\", \"pineapple\", \"cherry\")\n",
    "\n",
    "(green, *tropic, red) = fruits\n",
    "\n",
    "print(green)\n",
    "print(tropic)\n",
    "print(red)"
   ]
  },
  {
   "cell_type": "markdown",
   "metadata": {},
   "source": [
    "# Python - Loop Tuples\n",
    "\n",
    "## Bucle a través de una tupla\n",
    "Puede recorrer los elementos de la tupla mediante un ``for`` bucle."
   ]
  },
  {
   "cell_type": "code",
   "execution_count": 30,
   "metadata": {},
   "outputs": [
    {
     "name": "stdout",
     "output_type": "stream",
     "text": [
      "apple\n",
      "banana\n",
      "cherry\n"
     ]
    }
   ],
   "source": [
    "thistuple = (\"apple\", \"banana\", \"cherry\")\n",
    "for x in thistuple:\n",
    "  print(x)"
   ]
  },
  {
   "cell_type": "markdown",
   "metadata": {},
   "source": [
    "Obtenga más información sobre forlos bucles en nuestro capítulo Python For Loops .\n",
    "\n",
    "## Bucle a través de los números de índice\n",
    "También puede recorrer los elementos de la tupla haciendo referencia a su número de índice.\n",
    "\n",
    "Utilice las funciones ``range()`` y ``len()`` para crear un iterable adecuado."
   ]
  },
  {
   "cell_type": "code",
   "execution_count": 31,
   "metadata": {},
   "outputs": [
    {
     "name": "stdout",
     "output_type": "stream",
     "text": [
      "apple\n",
      "banana\n",
      "cherry\n"
     ]
    }
   ],
   "source": [
    "# Imprima todos los elementos haciendo referencia a su número de índice:\n",
    "\n",
    "thistuple = (\"apple\", \"banana\", \"cherry\")\n",
    "for i in range(len(thistuple)):\n",
    "  print(thistuple[i])"
   ]
  },
  {
   "cell_type": "markdown",
   "metadata": {},
   "source": [
    "## Usar un ciclo while\n",
    "Puede recorrer los elementos de la tupla mediante un ``while`` bucle.\n",
    "\n",
    "Use la ``len()`` función para determinar la longitud de la tupla, luego comience en 0 y recorra los elementos de la tupla consultando sus índices.\n",
    "\n",
    "Recuerde aumentar el índice en 1 después de cada iteración."
   ]
  },
  {
   "cell_type": "code",
   "execution_count": 32,
   "metadata": {},
   "outputs": [
    {
     "name": "stdout",
     "output_type": "stream",
     "text": [
      "apple\n",
      "banana\n",
      "cherry\n"
     ]
    }
   ],
   "source": [
    "# Imprima todos los elementos, utilizando un whilebucle para pasar por todos los números de índice:\n",
    "\n",
    "thistuple = (\"apple\", \"banana\", \"cherry\")\n",
    "i = 0\n",
    "while i < len(thistuple):\n",
    "  print(thistuple[i])\n",
    "  i = i + 1"
   ]
  },
  {
   "cell_type": "markdown",
   "metadata": {},
   "source": [
    "Obtenga más información sobre ``while`` los bucles en nuestro Capítulo de bucles while de Python ."
   ]
  },
  {
   "cell_type": "markdown",
   "metadata": {},
   "source": [
    "# Python - Join Tuples\n",
    "## Une dos tuplas\n",
    "Para unir dos o más tuplas puedes usar el ``+`` operador:"
   ]
  },
  {
   "cell_type": "code",
   "execution_count": 33,
   "metadata": {},
   "outputs": [
    {
     "name": "stdout",
     "output_type": "stream",
     "text": [
      "('a', 'b', 'c', 1, 2, 3)\n"
     ]
    }
   ],
   "source": [
    "# Une dos tuplas:\n",
    "\n",
    "tuple1 = (\"a\", \"b\" , \"c\")\n",
    "tuple2 = (1, 2, 3)\n",
    "\n",
    "tuple3 = tuple1 + tuple2\n",
    "print(tuple3)"
   ]
  },
  {
   "cell_type": "markdown",
   "metadata": {},
   "source": [
    "## multiplicar tuplas\n",
    "Si desea multiplicar el contenido de una tupla un número determinado de veces, puede utilizar el ``*`` operador:"
   ]
  },
  {
   "cell_type": "code",
   "execution_count": 34,
   "metadata": {},
   "outputs": [
    {
     "name": "stdout",
     "output_type": "stream",
     "text": [
      "('apple', 'banana', 'cherry', 'apple', 'banana', 'cherry')\n"
     ]
    }
   ],
   "source": [
    "# Multiplica la tupla de frutas por 2:\n",
    "\n",
    "fruits = (\"apple\", \"banana\", \"cherry\")\n",
    "mytuple = fruits * 2\n",
    "\n",
    "print(mytuple)"
   ]
  },
  {
   "cell_type": "markdown",
   "metadata": {},
   "source": [
    "# Python Sets\n",
    "\n",
    "``myset = {\"apple\", \"banana\", \"cherry\"}``\n",
    "\n",
    "## Colocar\n",
    "Los conjuntos se utilizan para almacenar varios elementos en una sola variable.\n",
    "\n",
    "Set es uno de los 4 tipos de datos incorporados en Python que se utilizan para almacenar colecciones de datos, los otros 3 son List , Tuple y Dictionary , todos con diferentes calidades y usos.\n",
    "\n",
    "Un conjunto es una colección desordenada , inmutable * y no indexada .\n",
    "\n",
    "* **Nota**: Los elementos establecidos no se pueden modificar, pero puede eliminar elementos y agregar elementos nuevos.\n",
    "\n",
    "Los conjuntos se escriben con corchetes."
   ]
  },
  {
   "cell_type": "code",
   "execution_count": 35,
   "metadata": {},
   "outputs": [
    {
     "name": "stdout",
     "output_type": "stream",
     "text": [
      "{'cherry', 'apple', 'banana'}\n"
     ]
    }
   ],
   "source": [
    "# Crear un conjunto:\n",
    "\n",
    "thisset = {\"apple\", \"banana\", \"cherry\"}\n",
    "print(thisset)"
   ]
  },
  {
   "cell_type": "markdown",
   "metadata": {},
   "source": [
    "**Nota**: Los conjuntos no están ordenados, por lo que no puede estar seguro en qué orden aparecerán los artículos.\n",
    "\n",
    "## Establecer elementos\n",
    "Los elementos establecidos no están ordenados, no se pueden modificar y no permiten valores duplicados.\n",
    "\n",
    "## desordenado\n",
    "Desordenado significa que los elementos de un conjunto no tienen un orden definido.\n",
    "\n",
    "Los elementos establecidos pueden aparecer en un orden diferente cada vez que los usa y no se puede hacer referencia a ellos por índice o clave.\n",
    "\n",
    "## inmutable\n",
    "Los elementos del conjunto no se pueden cambiar, lo que significa que no podemos cambiar los elementos después de que se haya creado el conjunto.\n",
    "\n",
    "Una vez que se crea un conjunto, no puede cambiar sus elementos, pero puede eliminar elementos y agregar elementos nuevos.\n",
    "\n",
    "## No se permiten duplicados\n",
    "Los conjuntos no pueden tener dos artículos con el mismo valor."
   ]
  },
  {
   "cell_type": "code",
   "execution_count": 36,
   "metadata": {},
   "outputs": [
    {
     "name": "stdout",
     "output_type": "stream",
     "text": [
      "{'cherry', 'apple', 'banana'}\n"
     ]
    }
   ],
   "source": [
    "# Los valores duplicados serán ignorados:\n",
    "\n",
    "thisset = {\"apple\", \"banana\", \"cherry\", \"apple\"}\n",
    "\n",
    "print(thisset)"
   ]
  },
  {
   "cell_type": "markdown",
   "metadata": {},
   "source": [
    "**Nota**: Los valores ``True`` y ``1`` se consideran el mismo valor en conjuntos y se tratan como duplicados:"
   ]
  },
  {
   "cell_type": "code",
   "execution_count": 37,
   "metadata": {},
   "outputs": [
    {
     "name": "stdout",
     "output_type": "stream",
     "text": [
      "{'cherry', True, 2, 'banana', 'apple'}\n"
     ]
    }
   ],
   "source": [
    "# True y 1 se considera el mismo valor:\n",
    "\n",
    "thisset = {\"apple\", \"banana\", \"cherry\", True, 1, 2}\n",
    "print(thisset)"
   ]
  },
  {
   "cell_type": "markdown",
   "metadata": {},
   "source": [
    "## Obtener la longitud de un conjunto\n",
    "Para determinar cuántos artículos tiene un conjunto, use la ``len()`` función."
   ]
  },
  {
   "cell_type": "code",
   "execution_count": 38,
   "metadata": {},
   "outputs": [
    {
     "name": "stdout",
     "output_type": "stream",
     "text": [
      "3\n"
     ]
    }
   ],
   "source": [
    "# Obtener el número de artículos en un conjunto:\n",
    "\n",
    "thisset = {\"apple\", \"banana\", \"cherry\"}\n",
    "print(len(thisset))"
   ]
  },
  {
   "cell_type": "markdown",
   "metadata": {},
   "source": [
    "# Establecer elementos: tipos de datos\n",
    "Los elementos establecidos pueden ser de cualquier tipo de datos:"
   ]
  },
  {
   "cell_type": "code",
   "execution_count": 40,
   "metadata": {},
   "outputs": [
    {
     "name": "stdout",
     "output_type": "stream",
     "text": [
      "{'cherry', 'apple', 'banana'}\n",
      "{1, 3, 5, 7, 9}\n",
      "{False, True}\n"
     ]
    }
   ],
   "source": [
    "# Tipos de datos de cadena, int y booleanos:\n",
    "set1 = {\"apple\", \"banana\", \"cherry\"}\n",
    "set2 = {1, 5, 7, 9, 3}\n",
    "set3 = {True, False, False}\n",
    "\n",
    "print(set1)\n",
    "print(set2)\n",
    "print(set3)"
   ]
  },
  {
   "cell_type": "markdown",
   "metadata": {},
   "source": [
    "Un conjunto puede contener diferentes tipos de datos:"
   ]
  },
  {
   "cell_type": "code",
   "execution_count": 41,
   "metadata": {},
   "outputs": [
    {
     "name": "stdout",
     "output_type": "stream",
     "text": [
      "{True, 34, 'abc', 40, 'male'}\n"
     ]
    }
   ],
   "source": [
    "# Un conjunto con cadenas, enteros y valores booleanos:\n",
    "set1 = {\"abc\", 34, True, 40, \"male\"}\n",
    "\n",
    "print(set1)"
   ]
  },
  {
   "cell_type": "markdown",
   "metadata": {},
   "source": [
    "## tipo()\n",
    "Desde la perspectiva de Python, los conjuntos se definen como objetos con el tipo de datos 'conjunto':\n",
    "\n",
    "``<class 'set'>``"
   ]
  },
  {
   "cell_type": "code",
   "execution_count": 42,
   "metadata": {},
   "outputs": [
    {
     "name": "stdout",
     "output_type": "stream",
     "text": [
      "<class 'set'>\n"
     ]
    }
   ],
   "source": [
    "# ¿Cuál es el tipo de datos de un conjunto?\n",
    "\n",
    "myset = {\"apple\", \"banana\", \"cherry\"}\n",
    "print(type(myset))"
   ]
  },
  {
   "cell_type": "markdown",
   "metadata": {},
   "source": [
    "## El constructor set()\n",
    "También es posible usar el constructor ``set()`` para hacer un conjunto."
   ]
  },
  {
   "cell_type": "code",
   "execution_count": 43,
   "metadata": {},
   "outputs": [
    {
     "name": "stdout",
     "output_type": "stream",
     "text": [
      "{'cherry', 'apple', 'banana'}\n"
     ]
    }
   ],
   "source": [
    "# Usando el constructor set() para hacer un conjunto:\n",
    "\n",
    "thisset = set((\"apple\", \"banana\", \"cherry\")) # note the double round-brackets\n",
    "print(thisset)"
   ]
  },
  {
   "cell_type": "markdown",
   "metadata": {},
   "source": [
    "## Colecciones de Python (matrices)\n",
    "Hay cuatro tipos de datos de recopilación en el lenguaje de programación Python:\n",
    "\n",
    "- **La lista** es una colección ordenada y modificable. Permite miembros duplicados.\n",
    "- **Tuple** es una colección ordenada e inmutable. Permite miembros duplicados.\n",
    "- **Conjunto** es una colección desordenada, inmutable* y no indexada. No hay miembros duplicados.\n",
    "- **El diccionario es una colección ordenada** y modificable. No hay miembros duplicados.\n",
    "* Los elementos establecidos no se pueden cambiar, pero puede eliminar elementos y agregar nuevos elementos.\n",
    "\n",
    "**A partir de la versión 3.7 de Python, los diccionarios se ordenan . En Python 3.6 y versiones anteriores, los diccionarios están desordenados .\n",
    "\n",
    "Al elegir un tipo de colección, es útil comprender las propiedades de ese tipo. Elegir el tipo correcto para un conjunto de datos en particular podría significar la retención del significado y podría significar un aumento en la eficiencia o la seguridad."
   ]
  },
  {
   "cell_type": "markdown",
   "metadata": {},
   "source": [
    "# Python - Access Set Items\n",
    "## Elementos de acceso\n",
    "No puede acceder a los elementos de un conjunto haciendo referencia a un índice o una clave.\n",
    "\n",
    "Pero puede recorrer los elementos del conjunto usando un ``for`` bucle, o preguntar si un valor específico está presente en un conjunto, usando la ``in`` palabra clave."
   ]
  },
  {
   "cell_type": "code",
   "execution_count": 44,
   "metadata": {},
   "outputs": [
    {
     "name": "stdout",
     "output_type": "stream",
     "text": [
      "cherry\n",
      "apple\n",
      "banana\n"
     ]
    }
   ],
   "source": [
    "# Recorra el conjunto e imprima los valores:\n",
    "\n",
    "thisset = {\"apple\", \"banana\", \"cherry\"}\n",
    "\n",
    "for x in thisset:\n",
    "  print(x)"
   ]
  },
  {
   "cell_type": "code",
   "execution_count": 45,
   "metadata": {},
   "outputs": [
    {
     "name": "stdout",
     "output_type": "stream",
     "text": [
      "True\n"
     ]
    }
   ],
   "source": [
    "# Compruebe si \"banana\" está presente en el conjunto:\n",
    "\n",
    "thisset = {\"apple\", \"banana\", \"cherry\"}\n",
    "print(\"banana\" in thisset)"
   ]
  },
  {
   "cell_type": "markdown",
   "metadata": {},
   "source": [
    "## Cambiar artículos\n",
    "Una vez que se crea un conjunto, no puede cambiar sus elementos, pero puede agregar nuevos elementos."
   ]
  },
  {
   "cell_type": "markdown",
   "metadata": {},
   "source": [
    "# Python - Add Set Items\n",
    "## Agregar elementos\n",
    "Una vez que se crea un conjunto, no puede cambiar sus elementos, pero puede agregar nuevos elementos.\n",
    "\n",
    "Para agregar un elemento a un conjunto, utilice el ``add()`` método."
   ]
  },
  {
   "cell_type": "code",
   "execution_count": 46,
   "metadata": {},
   "outputs": [
    {
     "name": "stdout",
     "output_type": "stream",
     "text": [
      "{'cherry', 'orange', 'apple', 'banana'}\n"
     ]
    }
   ],
   "source": [
    "# Agregue un artículo a un conjunto, usando el add() método:\n",
    "\n",
    "thisset = {\"apple\", \"banana\", \"cherry\"}\n",
    "thisset.add(\"orange\")\n",
    "print(thisset)"
   ]
  },
  {
   "cell_type": "markdown",
   "metadata": {},
   "source": [
    "## Agregar conjuntos\n",
    "Para agregar elementos de otro conjunto al conjunto actual, utilice el ``update()`` método."
   ]
  },
  {
   "cell_type": "code",
   "execution_count": 47,
   "metadata": {},
   "outputs": [
    {
     "name": "stdout",
     "output_type": "stream",
     "text": [
      "{'cherry', 'mango', 'pineapple', 'banana', 'papaya', 'apple'}\n"
     ]
    }
   ],
   "source": [
    "# Añadir elementos de tropicalen thisset:\n",
    "\n",
    "thisset = {\"apple\", \"banana\", \"cherry\"}\n",
    "tropical = {\"pineapple\", \"mango\", \"papaya\"}\n",
    "\n",
    "thisset.update(tropical)\n",
    "\n",
    "print(thisset)"
   ]
  },
  {
   "cell_type": "markdown",
   "metadata": {},
   "source": [
    "## Agregar cualquier iterable\n",
    "El objeto en el ``update()`` método no tiene que ser un conjunto, puede ser cualquier objeto iterable (tuplas, listas, diccionarios, etc.)."
   ]
  },
  {
   "cell_type": "code",
   "execution_count": 48,
   "metadata": {},
   "outputs": [
    {
     "name": "stdout",
     "output_type": "stream",
     "text": [
      "{'orange', 'kiwi', 'cherry', 'banana', 'apple'}\n"
     ]
    }
   ],
   "source": [
    "# Agregue elementos de una lista a un conjunto:\n",
    "\n",
    "thisset = {\"apple\", \"banana\", \"cherry\"}\n",
    "mylist = [\"kiwi\", \"orange\"]\n",
    "\n",
    "thisset.update(mylist)\n",
    "\n",
    "print(thisset)"
   ]
  },
  {
   "cell_type": "markdown",
   "metadata": {},
   "source": [
    "# Python - Remove Set Items\n",
    "## Remover el artículo\n",
    "Para eliminar un elemento de un conjunto, utilice el método ``remove()`` o el ``discard()``."
   ]
  },
  {
   "cell_type": "code",
   "execution_count": 49,
   "metadata": {},
   "outputs": [
    {
     "name": "stdout",
     "output_type": "stream",
     "text": [
      "{'cherry', 'apple'}\n"
     ]
    }
   ],
   "source": [
    "# Elimina \"banana\" usando el remove() método:\n",
    "\n",
    "thisset = {\"apple\", \"banana\", \"cherry\"}\n",
    "\n",
    "thisset.remove(\"banana\")\n",
    "\n",
    "print(thisset)"
   ]
  },
  {
   "cell_type": "markdown",
   "metadata": {},
   "source": [
    "**Nota**: Si el elemento a eliminar no existe, ``remove()`` generará un error."
   ]
  },
  {
   "cell_type": "code",
   "execution_count": 50,
   "metadata": {},
   "outputs": [
    {
     "name": "stdout",
     "output_type": "stream",
     "text": [
      "{'cherry', 'apple'}\n"
     ]
    }
   ],
   "source": [
    "# Elimina \"banana\" usando el discard() método:\n",
    "\n",
    "thisset = {\"apple\", \"banana\", \"cherry\"}\n",
    "\n",
    "thisset.discard(\"banana\")\n",
    "\n",
    "print(thisset)"
   ]
  },
  {
   "cell_type": "markdown",
   "metadata": {},
   "source": [
    "**Nota**: Si el elemento a eliminar no existe, **NO** ``discard()`` generará un error.\n",
    "\n",
    "También puede usar el ``pop()`` método para eliminar un elemento, pero este método eliminará un elemento aleatorio, por lo que no puede estar seguro de qué elemento se eliminará.\n",
    "\n",
    "El valor de retorno del ``pop()`` método es el elemento eliminado."
   ]
  },
  {
   "cell_type": "code",
   "execution_count": 51,
   "metadata": {},
   "outputs": [
    {
     "name": "stdout",
     "output_type": "stream",
     "text": [
      "cherry\n",
      "{'apple', 'banana'}\n"
     ]
    }
   ],
   "source": [
    "# limina un elemento aleatorio usando el pop() método:\n",
    "\n",
    "thisset = {\"apple\", \"banana\", \"cherry\"}\n",
    "\n",
    "x = thisset.pop()\n",
    "\n",
    "print(x)\n",
    "\n",
    "print(thisset)"
   ]
  },
  {
   "cell_type": "markdown",
   "metadata": {},
   "source": [
    "**Nota: los conjuntos** *no* están ordenados , por lo que al usar el ``pop()``método, no sabe qué elemento se elimina."
   ]
  },
  {
   "cell_type": "code",
   "execution_count": 52,
   "metadata": {},
   "outputs": [
    {
     "name": "stdout",
     "output_type": "stream",
     "text": [
      "set()\n"
     ]
    }
   ],
   "source": [
    "# El clear() método vacía el conjunto:\n",
    "\n",
    "thisset = {\"apple\", \"banana\", \"cherry\"}\n",
    "\n",
    "thisset.clear()\n",
    "\n",
    "print(thisset)"
   ]
  },
  {
   "cell_type": "code",
   "execution_count": 53,
   "metadata": {},
   "outputs": [
    {
     "ename": "NameError",
     "evalue": "name 'thisset' is not defined",
     "output_type": "error",
     "traceback": [
      "\u001b[1;31m---------------------------------------------------------------------------\u001b[0m",
      "\u001b[1;31mNameError\u001b[0m                                 Traceback (most recent call last)",
      "\u001b[1;32mc:\\Users\\celio\\OneDrive\\Escritorio\\programación\\platzi\\PracticaDePython.ipynb Celda 707\u001b[0m in \u001b[0;36m7\n\u001b[0;32m      <a href='vscode-notebook-cell:/c%3A/Users/celio/OneDrive/Escritorio/programaci%C3%B3n/platzi/PracticaDePython.ipynb#Z2031sZmlsZQ%3D%3D?line=2'>3</a>\u001b[0m thisset \u001b[39m=\u001b[39m {\u001b[39m\"\u001b[39m\u001b[39mapple\u001b[39m\u001b[39m\"\u001b[39m, \u001b[39m\"\u001b[39m\u001b[39mbanana\u001b[39m\u001b[39m\"\u001b[39m, \u001b[39m\"\u001b[39m\u001b[39mcherry\u001b[39m\u001b[39m\"\u001b[39m}\n\u001b[0;32m      <a href='vscode-notebook-cell:/c%3A/Users/celio/OneDrive/Escritorio/programaci%C3%B3n/platzi/PracticaDePython.ipynb#Z2031sZmlsZQ%3D%3D?line=4'>5</a>\u001b[0m \u001b[39mdel\u001b[39;00m thisset\n\u001b[1;32m----> <a href='vscode-notebook-cell:/c%3A/Users/celio/OneDrive/Escritorio/programaci%C3%B3n/platzi/PracticaDePython.ipynb#Z2031sZmlsZQ%3D%3D?line=6'>7</a>\u001b[0m \u001b[39mprint\u001b[39m(thisset)\n",
      "\u001b[1;31mNameError\u001b[0m: name 'thisset' is not defined"
     ]
    }
   ],
   "source": [
    "# La delpalabra clave eliminará el conjunto por completo:\n",
    "\n",
    "thisset = {\"apple\", \"banana\", \"cherry\"}\n",
    "\n",
    "del thisset\n",
    "\n",
    "print(thisset)"
   ]
  },
  {
   "cell_type": "markdown",
   "metadata": {},
   "source": [
    "# Python - Loop Sets\n",
    "## Elementos de bucle\n",
    "Puede recorrer los elementos establecidos usando un ``for`` bucle:"
   ]
  },
  {
   "cell_type": "code",
   "execution_count": 54,
   "metadata": {},
   "outputs": [
    {
     "name": "stdout",
     "output_type": "stream",
     "text": [
      "cherry\n",
      "apple\n",
      "banana\n"
     ]
    }
   ],
   "source": [
    "# Recorra el conjunto e imprima los valores:\n",
    "thisset = {\"apple\", \"banana\", \"cherry\"}\n",
    "\n",
    "for x in thisset:\n",
    "  print(x)\n"
   ]
  },
  {
   "cell_type": "markdown",
   "metadata": {},
   "source": [
    "# Python - Join Sets\n",
    "## Une dos conjuntos\n",
    "Hay varias formas de unir dos o más conjuntos en Python.\n",
    "\n",
    "Puede usar el ``union()`` método que devuelve un nuevo conjunto que contiene todos los elementos de ambos conjuntos, o el ``update()`` método que inserta todos los elementos de un conjunto en otro:"
   ]
  },
  {
   "cell_type": "code",
   "execution_count": 55,
   "metadata": {},
   "outputs": [
    {
     "name": "stdout",
     "output_type": "stream",
     "text": [
      "{1, 2, 'a', 3, 'c', 'b'}\n"
     ]
    }
   ],
   "source": [
    "# El union()método devuelve un nuevo conjunto con todos los elementos de ambos conjuntos:\n",
    "set1 = {\"a\", \"b\" , \"c\"}\n",
    "set2 = {1, 2, 3}\n",
    "\n",
    "set3 = set1.union(set2)\n",
    "print(set3)"
   ]
  },
  {
   "cell_type": "code",
   "execution_count": 56,
   "metadata": {},
   "outputs": [
    {
     "name": "stdout",
     "output_type": "stream",
     "text": [
      "{1, 2, 'a', 3, 'c', 'b'}\n"
     ]
    }
   ],
   "source": [
    "# El update()método inserta los elementos en set2 en set1:\n",
    "\n",
    "set1 = {\"a\", \"b\" , \"c\"}\n",
    "set2 = {1, 2, 3}\n",
    "\n",
    "set1.update(set2)\n",
    "print(set1)"
   ]
  },
  {
   "cell_type": "markdown",
   "metadata": {},
   "source": [
    "**Nota**: Ambos ``union()`` y ``update()`` excluirán cualquier elemento duplicado.\n",
    "## Guarde SOLO los duplicados\n",
    "El ``intersection_update()`` método mantendrá solo los elementos que están presentes en ambos conjuntos.\n"
   ]
  },
  {
   "cell_type": "code",
   "execution_count": 58,
   "metadata": {},
   "outputs": [
    {
     "name": "stdout",
     "output_type": "stream",
     "text": [
      "{'apple'}\n"
     ]
    }
   ],
   "source": [
    "# Mantenga los elementos que existen tanto en set x como en set y:\n",
    "x = {\"apple\", \"banana\", \"cherry\"}\n",
    "y = {\"google\", \"microsoft\", \"apple\"}\n",
    "\n",
    "x.intersection_update(y)\n",
    "\n",
    "print(x)"
   ]
  },
  {
   "cell_type": "markdown",
   "metadata": {},
   "source": [
    "El ``intersection()`` método devolverá un nuevo conjunto, que solo contiene los elementos que están presentes en ambos conjuntos."
   ]
  },
  {
   "cell_type": "code",
   "execution_count": 59,
   "metadata": {},
   "outputs": [
    {
     "name": "stdout",
     "output_type": "stream",
     "text": [
      "{'apple'}\n"
     ]
    }
   ],
   "source": [
    "# Devuelve un conjunto que contiene los elementos que existen tanto en conjunto x como en conjunto y:\n",
    "\n",
    "x = {\"apple\", \"banana\", \"cherry\"}\n",
    "y = {\"google\", \"microsoft\", \"apple\"}\n",
    "\n",
    "z = x.intersection(y)\n",
    "\n",
    "print(z)"
   ]
  },
  {
   "cell_type": "markdown",
   "metadata": {},
   "source": [
    "## Conservar todo, pero NO los duplicados\n",
    "El ``symmetric_difference_update()`` método mantendrá solo los elementos que NO están presentes en ambos conjuntos."
   ]
  },
  {
   "cell_type": "code",
   "execution_count": 60,
   "metadata": {},
   "outputs": [
    {
     "name": "stdout",
     "output_type": "stream",
     "text": [
      "{'google', 'cherry', 'microsoft', 'banana'}\n"
     ]
    }
   ],
   "source": [
    "# Quédese con los elementos que no están presentes en ambos conjuntos:\n",
    "\n",
    "x = {\"apple\", \"banana\", \"cherry\"}\n",
    "y = {\"google\", \"microsoft\", \"apple\"}\n",
    "\n",
    "x.symmetric_difference_update(y)\n",
    "\n",
    "print(x)"
   ]
  },
  {
   "cell_type": "markdown",
   "metadata": {},
   "source": [
    "El ``symmetric_difference()`` método devolverá un nuevo conjunto, que contiene solo los elementos que NO están presentes en ambos conjuntos."
   ]
  },
  {
   "cell_type": "code",
   "execution_count": 61,
   "metadata": {},
   "outputs": [
    {
     "name": "stdout",
     "output_type": "stream",
     "text": [
      "{'google', 'microsoft', 'cherry', 'banana'}\n"
     ]
    }
   ],
   "source": [
    "# Devuelve un conjunto que contiene todos los elementos de ambos conjuntos, excepto los elementos que están presentes en ambos:\n",
    "\n",
    "x = {\"apple\", \"banana\", \"cherry\"}\n",
    "y = {\"google\", \"microsoft\", \"apple\"}\n",
    "\n",
    "z = x.symmetric_difference(y)\n",
    "\n",
    "print(z)"
   ]
  },
  {
   "cell_type": "markdown",
   "metadata": {},
   "source": [
    "**Nota:** Los valores ``True`` y ``1`` se consideran el mismo valor en conjuntos y se tratan como duplicados:"
   ]
  },
  {
   "cell_type": "code",
   "execution_count": 63,
   "metadata": {},
   "outputs": [
    {
     "name": "stdout",
     "output_type": "stream",
     "text": [
      "{'google', 2, 'cherry', 'banana'}\n"
     ]
    }
   ],
   "source": [
    "# True y 1 se considera el mismo valor:\n",
    "\n",
    "x = {\"apple\", \"banana\", \"cherry\", True}\n",
    "y = {\"google\", 1, \"apple\", 2}\n",
    "\n",
    "z = x.symmetric_difference(y)\n",
    "\n",
    "print(z)"
   ]
  },
  {
   "cell_type": "markdown",
   "metadata": {},
   "source": [
    "# Python - Set Methods\n",
    "## Establecer métodos\n",
    "Python tiene un conjunto de métodos integrados que puede usar en conjuntos."
   ]
  },
  {
   "cell_type": "markdown",
   "metadata": {},
   "source": [
    "### Python Set add() Method"
   ]
  },
  {
   "cell_type": "code",
   "execution_count": 2,
   "metadata": {},
   "outputs": [
    {
     "name": "stdout",
     "output_type": "stream",
     "text": [
      "{'cherry', 'orange', 'apple', 'banana'}\n"
     ]
    }
   ],
   "source": [
    "# Add an element to the fruits set:\n",
    "\n",
    "fruits = {\"apple\", \"banana\", \"cherry\"}\n",
    "fruits.add(\"orange\")\n",
    "\n",
    "print(fruits)"
   ]
  },
  {
   "cell_type": "markdown",
   "metadata": {},
   "source": [
    "#### Definición y uso\n",
    "El ``add()`` método agrega un elemento al conjunto.\n",
    "\n",
    "Si el elemento ya existe, el ``add()`` método no agrega el elemento.\n",
    "\n",
    "#### Sintaxis\n",
    "``set.add(elmnt)``"
   ]
  },
  {
   "cell_type": "code",
   "execution_count": 6,
   "metadata": {},
   "outputs": [
    {
     "name": "stdout",
     "output_type": "stream",
     "text": [
      "{'cherry', 'apple', 'banana'}\n"
     ]
    }
   ],
   "source": [
    "# Intenta agregar un elemento que ya existe:\n",
    "\n",
    "fruits = {\"apple\", \"banana\", \"cherry\"}\n",
    "fruits.add(\"apple\")\n",
    "\n",
    "print(fruits)"
   ]
  },
  {
   "cell_type": "markdown",
   "metadata": {},
   "source": [
    "### Python Set ``clear()`` Method"
   ]
  },
  {
   "cell_type": "code",
   "execution_count": 7,
   "metadata": {},
   "outputs": [
    {
     "name": "stdout",
     "output_type": "stream",
     "text": [
      "set()\n"
     ]
    }
   ],
   "source": [
    "# fruits = {\"apple\", \"banana\", \"cherry\"}\n",
    "\n",
    "fruits.clear()\n",
    "\n",
    "print(fruits)"
   ]
  },
  {
   "cell_type": "markdown",
   "metadata": {},
   "source": [
    "#### Definición y uso\n",
    "El ``clear()`` método elimina todos los elementos de un conjunto.\n",
    "\n",
    "#### Sintaxis\n",
    "``set.clear()``"
   ]
  },
  {
   "cell_type": "markdown",
   "metadata": {},
   "source": [
    "### Python Set ``copy()`` Method"
   ]
  },
  {
   "cell_type": "code",
   "execution_count": 8,
   "metadata": {},
   "outputs": [
    {
     "name": "stdout",
     "output_type": "stream",
     "text": [
      "{'cherry', 'apple', 'banana'}\n"
     ]
    }
   ],
   "source": [
    "# Copie el fruits conjunto:\n",
    "\n",
    "fruits = {\"apple\", \"banana\", \"cherry\"}\n",
    "x = fruits.copy()\n",
    "\n",
    "print(x)"
   ]
  },
  {
   "cell_type": "markdown",
   "metadata": {},
   "source": [
    "#### Definición y uso\n",
    "El ``copy()`` método copia el conjunto.\n",
    "\n",
    "#### Sintaxis\n",
    "``set.copy()``"
   ]
  },
  {
   "cell_type": "markdown",
   "metadata": {},
   "source": [
    "### Python Set ``difference()`` Method"
   ]
  },
  {
   "cell_type": "code",
   "execution_count": 9,
   "metadata": {},
   "outputs": [
    {
     "name": "stdout",
     "output_type": "stream",
     "text": [
      "{'cherry', 'banana'}\n"
     ]
    }
   ],
   "source": [
    "# Devuelve un conjunto que contiene los elementos que solo existen en el conjunto xy no en el conjunto y:\n",
    "\n",
    "x = {\"apple\", \"banana\", \"cherry\"}\n",
    "y = {\"google\", \"microsoft\", \"apple\"}\n",
    "\n",
    "z = x.difference(y)\n",
    "\n",
    "print(z)"
   ]
  },
  {
   "cell_type": "markdown",
   "metadata": {},
   "source": [
    "#### Definición y uso\n",
    "El ``difference()`` método devuelve un conjunto que contiene la diferencia entre dos conjuntos.\n",
    "\n",
    "Significado: el conjunto devuelto contiene elementos que existen solo en el primer conjunto y no en ambos conjuntos.\n",
    "\n",
    "#### Sintaxis\n",
    "``set.difference(set)``"
   ]
  },
  {
   "cell_type": "code",
   "execution_count": 10,
   "metadata": {},
   "outputs": [
    {
     "name": "stdout",
     "output_type": "stream",
     "text": [
      "{'google', 'microsoft'}\n"
     ]
    }
   ],
   "source": [
    "# Invierte el primer ejemplo. Devuelve un conjunto que contiene los elementos que solo existen en el conjunto y y no en el conjunto x:\n",
    "\n",
    "x = {\"apple\", \"banana\", \"cherry\"}\n",
    "y = {\"google\", \"microsoft\", \"apple\"}\n",
    "\n",
    "z = y.difference(x)\n",
    "\n",
    "print(z)"
   ]
  },
  {
   "cell_type": "markdown",
   "metadata": {},
   "source": [
    "### Python Set ``difference_update()`` Method"
   ]
  },
  {
   "cell_type": "code",
   "execution_count": 11,
   "metadata": {},
   "outputs": [
    {
     "name": "stdout",
     "output_type": "stream",
     "text": [
      "{'cherry', 'banana'}\n"
     ]
    }
   ],
   "source": [
    "# Eliminar los elementos que existen en ambos conjuntos:\n",
    "\n",
    "x = {\"apple\", \"banana\", \"cherry\"}\n",
    "y = {\"google\", \"microsoft\", \"apple\"}\n",
    "\n",
    "x.difference_update(y)\n",
    "\n",
    "print(x)"
   ]
  },
  {
   "cell_type": "markdown",
   "metadata": {},
   "source": [
    "#### Definición y uso\n",
    "El ``difference_update()`` método elimina los elementos que existen en ambos conjuntos.\n",
    "\n",
    "El ``difference_update()`` método es diferente del ``difference()`` método, porque el ``difference()`` método devuelve un nuevo conjunto , sin los elementos no deseados, y el ``difference_update()`` método elimina los elementos no deseados del conjunto original.\n",
    "\n",
    "#### Sintaxis\n",
    "``set.difference_update(set)``"
   ]
  },
  {
   "cell_type": "markdown",
   "metadata": {},
   "source": [
    "### Python Set ``discard()`` Method"
   ]
  },
  {
   "cell_type": "code",
   "execution_count": 12,
   "metadata": {},
   "outputs": [
    {
     "name": "stdout",
     "output_type": "stream",
     "text": [
      "{'cherry', 'apple'}\n"
     ]
    }
   ],
   "source": [
    "# Remove \"banana\" from the set:\n",
    "\n",
    "fruits = {\"apple\", \"banana\", \"cherry\"}\n",
    "fruits.discard(\"banana\")\n",
    "\n",
    "print(fruits)"
   ]
  },
  {
   "cell_type": "markdown",
   "metadata": {},
   "source": [
    "#### Definición y uso\n",
    "El ``discard()`` método elimina el elemento especificado del conjunto.\n",
    "\n",
    "Este método es diferente del ``remove()`` método, porque el ``remove()`` método generará un error si el elemento especificado no existe, y el ``discard()`` método no lo hará .\n",
    "\n",
    "#### Sintaxis\n",
    "``set.discard(value)``"
   ]
  },
  {
   "cell_type": "markdown",
   "metadata": {},
   "source": [
    "### Python Set intersection() Method"
   ]
  },
  {
   "cell_type": "code",
   "execution_count": 13,
   "metadata": {},
   "outputs": [
    {
     "name": "stdout",
     "output_type": "stream",
     "text": [
      "{'apple'}\n"
     ]
    }
   ],
   "source": [
    "# Devuelve un conjunto que contiene los elementos que existen tanto en conjunto x como en conjunto y:\n",
    "\n",
    "x = {\"apple\", \"banana\", \"cherry\"}\n",
    "y = {\"google\", \"microsoft\", \"apple\"}\n",
    "\n",
    "z = x.intersection(y)\n",
    "\n",
    "print(z)"
   ]
  },
  {
   "cell_type": "markdown",
   "metadata": {},
   "source": [
    "#### Definición y uso\n",
    "El ``intersection()`` método devuelve un conjunto que contiene la similitud entre dos o más conjuntos.\n",
    "\n",
    "Significado: el conjunto devuelto contiene solo elementos que existen en ambos conjuntos, o en todos los conjuntos si la comparación se realiza con más de dos conjuntos.\n",
    "\n",
    "#### Sintaxis\n",
    "``set.intersection(set1, set2 ... etc)``"
   ]
  },
  {
   "cell_type": "code",
   "execution_count": 18,
   "metadata": {},
   "outputs": [
    {
     "name": "stdout",
     "output_type": "stream",
     "text": [
      "{'c'}\n"
     ]
    }
   ],
   "source": [
    "# Compare 3 conjuntos y devuelva un conjunto con elementos que están presentes en los 3 conjuntos:\n",
    "\n",
    "x = {\"a\", \"b\", \"c\"}\n",
    "y = {\"c\", \"d\", \"e\"}\n",
    "z = {\"f\", \"g\", \"c\"}\n",
    "\n",
    "result = x.intersection(y, z)\n",
    "\n",
    "print(result)"
   ]
  },
  {
   "cell_type": "markdown",
   "metadata": {},
   "source": [
    "### Python Set ``intersection_update()`` Method"
   ]
  },
  {
   "cell_type": "code",
   "execution_count": 19,
   "metadata": {},
   "outputs": [
    {
     "name": "stdout",
     "output_type": "stream",
     "text": [
      "{'apple'}\n"
     ]
    }
   ],
   "source": [
    "# Remove the items that is not present in both x and y:\n",
    "\n",
    "x = {\"apple\", \"banana\", \"cherry\"}\n",
    "y = {\"google\", \"microsoft\", \"apple\"}\n",
    "\n",
    "x.intersection_update(y)\n",
    "\n",
    "print(x)"
   ]
  },
  {
   "cell_type": "markdown",
   "metadata": {},
   "source": [
    "#### Definición y uso\n",
    "El ``intersection_update()`` método elimina los elementos que no están presentes en ambos conjuntos (o en todos los conjuntos si la comparación se realiza entre más de dos conjuntos).\n",
    "\n",
    "El ``intersection_update()`` método es diferente del ``intersection()`` método, porque el ``intersection()`` método devuelve un nuevo conjunto , sin los elementos no deseados, y el ``intersection_update()`` método elimina los elementos no deseados del conjunto original.\n",
    "\n",
    "#### Sintaxis\n",
    "``set.intersection_update(set1, set2 ... etc)``"
   ]
  },
  {
   "cell_type": "code",
   "execution_count": 20,
   "metadata": {},
   "outputs": [
    {
     "name": "stdout",
     "output_type": "stream",
     "text": [
      "{'c'}\n"
     ]
    }
   ],
   "source": [
    "# Compare 3 conjuntos y devuelva un conjunto con elementos que están presentes en los 3 conjuntos:\n",
    "\n",
    "x = {\"a\", \"b\", \"c\"}\n",
    "y = {\"c\", \"d\", \"e\"}\n",
    "z = {\"f\", \"g\", \"c\"}\n",
    "\n",
    "x.intersection_update(y, z)\n",
    "\n",
    "print(x)"
   ]
  },
  {
   "cell_type": "markdown",
   "metadata": {},
   "source": [
    "### Python Set ``isdisjoint()`` Method"
   ]
  },
  {
   "cell_type": "code",
   "execution_count": 21,
   "metadata": {},
   "outputs": [
    {
     "name": "stdout",
     "output_type": "stream",
     "text": [
      "True\n"
     ]
    }
   ],
   "source": [
    "# Devuelve True si no hay elementos en el conjunto x presentes en el conjunto y:\n",
    "\n",
    "x = {\"apple\", \"banana\", \"cherry\"}\n",
    "y = {\"google\", \"microsoft\", \"facebook\"}\n",
    "\n",
    "z = x.isdisjoint(y)\n",
    "\n",
    "print(z)"
   ]
  },
  {
   "cell_type": "markdown",
   "metadata": {},
   "source": [
    "#### Definición y uso\n",
    "El ``isdisjoint()`` método devuelve True si ninguno de los elementos está presente en ambos conjuntos; de lo contrario, devuelve False.\n",
    "\n",
    "#### Sintaxis\n",
    "``set.isdisjoint(set)``"
   ]
  },
  {
   "cell_type": "code",
   "execution_count": 22,
   "metadata": {},
   "outputs": [
    {
     "name": "stdout",
     "output_type": "stream",
     "text": [
      "False\n"
     ]
    }
   ],
   "source": [
    "# ¿Qué pasa si no hay elementos presentes en ambos conjuntos?\n",
    "\n",
    "# Devuelve Falso si uno o más elementos están presentes en ambos conjuntos:\n",
    "\n",
    "x = {\"apple\", \"banana\", \"cherry\"}\n",
    "y = {\"google\", \"microsoft\", \"apple\"}\n",
    "\n",
    "z = x.isdisjoint(y)\n",
    "\n",
    "print(z)"
   ]
  },
  {
   "cell_type": "markdown",
   "metadata": {},
   "source": [
    "### Python Set ``issubset()`` Method"
   ]
  },
  {
   "cell_type": "code",
   "execution_count": 23,
   "metadata": {},
   "outputs": [
    {
     "name": "stdout",
     "output_type": "stream",
     "text": [
      "True\n"
     ]
    }
   ],
   "source": [
    "# Devuelve True si todos los elementos del conjunto x están presentes en el conjunto y:\n",
    "\n",
    "x = {\"a\", \"b\", \"c\"}\n",
    "y = {\"f\", \"e\", \"d\", \"c\", \"b\", \"a\"}\n",
    "\n",
    "z = x.issubset(y)\n",
    "\n",
    "print(z)"
   ]
  },
  {
   "cell_type": "markdown",
   "metadata": {},
   "source": [
    "#### Definición y uso\n",
    "El ``issubset()`` método devuelve True si todos los elementos del conjunto existen en el conjunto especificado; de lo contrario, devuelve False.\n",
    "\n",
    "#### Sintaxis\n",
    "``set.issubset(set)``"
   ]
  },
  {
   "cell_type": "code",
   "execution_count": 24,
   "metadata": {},
   "outputs": [
    {
     "name": "stdout",
     "output_type": "stream",
     "text": [
      "False\n"
     ]
    }
   ],
   "source": [
    "# ¿Qué pasa si no todos los elementos están presentes en el conjunto especificado?\n",
    "\n",
    "# Devuelve Falso si no todos los elementos del conjunto x están presentes en el conjunto y:\n",
    "\n",
    "x = {\"a\", \"b\", \"c\"}\n",
    "y = {\"f\", \"e\", \"d\", \"c\", \"b\"}\n",
    "\n",
    "z = x.issubset(y)\n",
    "\n",
    "print(z)"
   ]
  },
  {
   "cell_type": "markdown",
   "metadata": {},
   "source": [
    "### Python Set ``issuperset()`` Method"
   ]
  },
  {
   "cell_type": "code",
   "execution_count": 25,
   "metadata": {},
   "outputs": [
    {
     "name": "stdout",
     "output_type": "stream",
     "text": [
      "True\n"
     ]
    }
   ],
   "source": [
    "# Devuelve True si todos los elementos del conjunto yestán presentes en el conjunto x:\n",
    "\n",
    "x = {\"f\", \"e\", \"d\", \"c\", \"b\", \"a\"}\n",
    "y = {\"a\", \"b\", \"c\"}\n",
    "\n",
    "z = x.issuperset(y)\n",
    "\n",
    "print(z)"
   ]
  },
  {
   "cell_type": "markdown",
   "metadata": {},
   "source": [
    "#### Definición y uso\n",
    "El ``issuperset()`` método devuelve True si todos los elementos del conjunto especificado existen en el conjunto original; de lo contrario, devuelve False.\n",
    "\n",
    "#### Sintaxis\n",
    "``set.issuperset(set)``"
   ]
  },
  {
   "cell_type": "code",
   "execution_count": 26,
   "metadata": {},
   "outputs": [
    {
     "name": "stdout",
     "output_type": "stream",
     "text": [
      "False\n"
     ]
    }
   ],
   "source": [
    "# ¿Qué pasa si no todos los elementos están presentes en el conjunto especificado?\n",
    "\n",
    "# Devuelve Falso si no todos los elementos del conjunto yestán presentes en el conjunto x:\n",
    "\n",
    "x = {\"f\", \"e\", \"d\", \"c\", \"b\"}\n",
    "y = {\"a\", \"b\", \"c\"}\n",
    "\n",
    "z = x.issuperset(y)\n",
    "\n",
    "print(z)"
   ]
  },
  {
   "cell_type": "markdown",
   "metadata": {},
   "source": [
    "### Python Set ``pop()`` Method"
   ]
  },
  {
   "cell_type": "code",
   "execution_count": 28,
   "metadata": {},
   "outputs": [
    {
     "name": "stdout",
     "output_type": "stream",
     "text": [
      "{'apple', 'banana'}\n"
     ]
    }
   ],
   "source": [
    "# Eliminar un elemento aleatorio del conjunto:\n",
    "\n",
    "fruits = {\"apple\", \"banana\", \"cherry\"}\n",
    "\n",
    "fruits.pop()\n",
    "\n",
    "print(fruits)"
   ]
  },
  {
   "cell_type": "markdown",
   "metadata": {},
   "source": [
    "#### Definición y uso\n",
    "El ``pop()`` método elimina un elemento aleatorio del conjunto.\n",
    "\n",
    "Este método devuelve el elemento eliminado.\n",
    "\n",
    "#### Sintaxis\n",
    "``set.pop()``"
   ]
  },
  {
   "cell_type": "code",
   "execution_count": 30,
   "metadata": {},
   "outputs": [
    {
     "name": "stdout",
     "output_type": "stream",
     "text": [
      "cherry\n"
     ]
    }
   ],
   "source": [
    "# Devolver el elemento eliminado:\n",
    "\n",
    "fruits = {\"apple\", \"banana\", \"cherry\"}\n",
    "\n",
    "x = fruits.pop()\n",
    "\n",
    "print(x)\n",
    "\n",
    "# Nota: El pop()método devuelve el valor eliminado."
   ]
  },
  {
   "cell_type": "markdown",
   "metadata": {},
   "source": [
    "### Python Set ``remove()`` Method"
   ]
  },
  {
   "cell_type": "code",
   "execution_count": 31,
   "metadata": {},
   "outputs": [
    {
     "name": "stdout",
     "output_type": "stream",
     "text": [
      "{'cherry', 'apple'}\n"
     ]
    }
   ],
   "source": [
    "# Eliminar \"banana\" del conjunto:\n",
    "\n",
    "fruits = {\"apple\", \"banana\", \"cherry\"}\n",
    "\n",
    "fruits.remove(\"banana\")\n",
    "\n",
    "print(fruits)"
   ]
  },
  {
   "cell_type": "markdown",
   "metadata": {},
   "source": [
    "#### Definición y uso\n",
    "El ``remove()`` método elimina el elemento especificado del conjunto.\n",
    "\n",
    "Este método es diferente del ``discard()`` método, porque el ``remove()`` método generará un error si el elemento especificado no existe, y el ``discard()`` método no lo hará .\n",
    "\n",
    "#### Sintaxis\n",
    "``set.remove(item)``"
   ]
  },
  {
   "cell_type": "markdown",
   "metadata": {},
   "source": [
    "### Python Set symmetric_difference() Method"
   ]
  },
  {
   "cell_type": "code",
   "execution_count": 32,
   "metadata": {},
   "outputs": [
    {
     "name": "stdout",
     "output_type": "stream",
     "text": [
      "{'google', 'cherry', 'banana', 'microsoft'}\n"
     ]
    }
   ],
   "source": [
    "# Devuelve un conjunto que contiene todos los elementos de ambos conjuntos, excepto los elementos que están presentes en ambos conjuntos:\n",
    "\n",
    "x = {\"apple\", \"banana\", \"cherry\"}\n",
    "y = {\"google\", \"microsoft\", \"apple\"}\n",
    "\n",
    "z = x.symmetric_difference(y)\n",
    "\n",
    "print(z)"
   ]
  },
  {
   "cell_type": "markdown",
   "metadata": {},
   "source": [
    "#### Definición y uso\n",
    "El ``symmetric_difference()`` método devuelve un conjunto que contiene todos los elementos de ambos conjuntos, pero no los elementos que están presentes en ambos conjuntos.\n",
    "\n",
    "Significado: el conjunto devuelto contiene una combinación de elementos que no están presentes en ambos conjuntos.\n",
    "\n",
    "#### Sintaxis\n",
    "``set.symmetric_difference(set)``"
   ]
  },
  {
   "cell_type": "markdown",
   "metadata": {},
   "source": [
    "### Python Set ``symmetric_difference_update()`` Method"
   ]
  },
  {
   "cell_type": "code",
   "execution_count": 34,
   "metadata": {},
   "outputs": [
    {
     "name": "stdout",
     "output_type": "stream",
     "text": [
      "{'cherry', 'banana', 'microsoft', 'google'}\n"
     ]
    }
   ],
   "source": [
    "# Retire los artículos que están presentes en ambos juegos, E inserte los artículos que no están presentes en ambos juegos:\n",
    "\n",
    "x = {\"apple\", \"banana\", \"cherry\"}\n",
    "y = {\"google\", \"microsoft\", \"apple\"}\n",
    "\n",
    "x.symmetric_difference_update(y)\n",
    "\n",
    "print(x)"
   ]
  },
  {
   "cell_type": "markdown",
   "metadata": {},
   "source": [
    "#### Definición y uso\n",
    "El ``symmetric_difference_update()`` método actualiza el conjunto original eliminando elementos que están presentes en ambos conjuntos e insertando los demás elementos.\n",
    "\n",
    "#### Sintaxis\n",
    "``set.symmetric_difference_update(set)``"
   ]
  },
  {
   "cell_type": "markdown",
   "metadata": {},
   "source": [
    "### Python Set ``union()`` Method"
   ]
  },
  {
   "cell_type": "code",
   "execution_count": 36,
   "metadata": {},
   "outputs": [
    {
     "name": "stdout",
     "output_type": "stream",
     "text": [
      "{'cherry', 'apple', 'banana', 'google', 'microsoft'}\n"
     ]
    }
   ],
   "source": [
    "# Devuelve un conjunto que contiene todos los elementos de ambos conjuntos, se excluyen los duplicados:\n",
    "\n",
    "x = {\"apple\", \"banana\", \"cherry\"}\n",
    "y = {\"google\", \"microsoft\", \"apple\"}\n",
    "\n",
    "z = x.union(y)\n",
    "\n",
    "print(z)"
   ]
  },
  {
   "cell_type": "markdown",
   "metadata": {},
   "source": [
    "#### Definición y uso\n",
    "El ``union()`` método devuelve un conjunto que contiene todos los elementos del conjunto original y todos los elementos de los conjuntos especificados.\n",
    "\n",
    "Puede especificar tantos conjuntos como desee, separados por comas.\n",
    "\n",
    "No tiene que ser un conjunto, puede ser cualquier objeto iterable.\n",
    "\n",
    "Si un elemento está presente en más de un conjunto, el resultado contendrá solo una apariencia de este elemento.\n",
    "\n",
    "#### Sintaxis\n",
    "``set.union(set1, set2...)``"
   ]
  },
  {
   "cell_type": "code",
   "execution_count": 37,
   "metadata": {},
   "outputs": [
    {
     "name": "stdout",
     "output_type": "stream",
     "text": [
      "{'a', 'f', 'd', 'b', 'c', 'e'}\n"
     ]
    }
   ],
   "source": [
    "# Unificar más de 2 conjuntos:\n",
    "\n",
    "x = {\"a\", \"b\", \"c\"}\n",
    "y = {\"f\", \"d\", \"a\"}\n",
    "z = {\"c\", \"d\", \"e\"}\n",
    "\n",
    "result = x.union(y, z)\n",
    "\n",
    "print(result)"
   ]
  },
  {
   "cell_type": "markdown",
   "metadata": {},
   "source": [
    "### Python Set update() Method"
   ]
  },
  {
   "cell_type": "code",
   "execution_count": 38,
   "metadata": {},
   "outputs": [
    {
     "name": "stdout",
     "output_type": "stream",
     "text": [
      "{'cherry', 'apple', 'banana', 'google', 'microsoft'}\n"
     ]
    }
   ],
   "source": [
    "# Inserte los elementos del conjunto yen el conjunto x:\n",
    "\n",
    "x = {\"apple\", \"banana\", \"cherry\"}\n",
    "y = {\"google\", \"microsoft\", \"apple\"}\n",
    "\n",
    "x.update(y)\n",
    "\n",
    "print(x)"
   ]
  },
  {
   "cell_type": "markdown",
   "metadata": {},
   "source": [
    "#### Definición y uso\n",
    "El ``update()`` método actualiza el conjunto actual, agregando elementos de otro conjunto (o cualquier otro iterable).\n",
    "\n",
    "Si un elemento está presente en ambos conjuntos, solo una apariencia de este elemento estará presente en el conjunto actualizado.\n",
    "\n",
    "#### Sintaxis\n",
    "``set.update(set)``"
   ]
  },
  {
   "cell_type": "markdown",
   "metadata": {},
   "source": [
    "# Python Dictionaries\n",
    "```python\n",
    "thisdict = {\n",
    "  \"brand\": \"Ford\",\n",
    "  \"model\": \"Mustang\",\n",
    "  \"year\": 1964\n",
    "}\n",
    "```\n",
    "## Diccionario\n",
    "Los diccionarios se utilizan para almacenar valores de datos en pares clave:valor.\n",
    "\n",
    "Un diccionario es una colección ordenada*, modificable y que no admite duplicados.\n",
    "\n",
    "A partir de la versión 3.7 de Python, los diccionarios están ordenados . En Python 3.6 y versiones anteriores, los diccionarios están desordenados .\n",
    "\n",
    "Los diccionarios se escriben con corchetes y tienen claves y valores:\n"
   ]
  },
  {
   "cell_type": "code",
   "execution_count": 39,
   "metadata": {},
   "outputs": [
    {
     "name": "stdout",
     "output_type": "stream",
     "text": [
      "{'brand': 'Ford', 'model': 'Mustang', 'year': 1964}\n"
     ]
    }
   ],
   "source": [
    "# Crear e imprimir un diccionario:\n",
    "\n",
    "thisdict = {\n",
    "  \"brand\": \"Ford\",\n",
    "  \"model\": \"Mustang\",\n",
    "  \"year\": 1964\n",
    "}\n",
    "print(thisdict)"
   ]
  },
  {
   "cell_type": "markdown",
   "metadata": {},
   "source": [
    "## Elementos del diccionario\n",
    "Los elementos del diccionario están ordenados, se pueden modificar y no permiten duplicados.\n",
    "\n",
    "Los elementos del diccionario se presentan en pares clave:valor y se puede hacer referencia a ellos mediante el nombre de la clave."
   ]
  },
  {
   "cell_type": "code",
   "execution_count": 40,
   "metadata": {},
   "outputs": [
    {
     "name": "stdout",
     "output_type": "stream",
     "text": [
      "Ford\n"
     ]
    }
   ],
   "source": [
    "# Imprime el valor de \"marca\" del diccionario:\n",
    "\n",
    "thisdict = {\n",
    "  \"brand\": \"Ford\",\n",
    "  \"model\": \"Mustang\",\n",
    "  \"year\": 1964\n",
    "}\n",
    "print(thisdict[\"brand\"])"
   ]
  },
  {
   "cell_type": "markdown",
   "metadata": {},
   "source": [
    "## ¿Ordenado o Desordenado?\n",
    "A partir de la versión 3.7 de Python, los diccionarios están ordenados . En Python 3.6 y versiones anteriores, los diccionarios están desordenados .\n",
    "\n",
    "Cuando decimos que los diccionarios están ordenados, significa que los elementos tienen un orden definido y ese orden no cambiará.\n",
    "\n",
    "Desordenado significa que los elementos no tienen un orden definido, no puede hacer referencia a un elemento mediante el uso de un índice.\n",
    "\n",
    "##  Cambiable\n",
    "Los diccionarios se pueden cambiar, lo que significa que podemos cambiar, agregar o eliminar elementos después de que se haya creado el diccionario.\n",
    "\n",
    "## No se permiten duplicados\n",
    "Los diccionarios no pueden tener dos elementos con la misma clave:"
   ]
  },
  {
   "cell_type": "code",
   "execution_count": 41,
   "metadata": {},
   "outputs": [
    {
     "name": "stdout",
     "output_type": "stream",
     "text": [
      "{'brand': 'Ford', 'model': 'Mustang', 'year': 2020}\n"
     ]
    }
   ],
   "source": [
    "# Los valores duplicados sobrescribirán los valores existentes:\n",
    "\n",
    "thisdict = {\n",
    "  \"brand\": \"Ford\",\n",
    "  \"model\": \"Mustang\",\n",
    "  \"year\": 1964,\n",
    "  \"year\": 2020\n",
    "}\n",
    "print(thisdict)"
   ]
  },
  {
   "cell_type": "markdown",
   "metadata": {},
   "source": [
    "## Longitud del diccionario\n",
    "Para determinar cuántos elementos tiene un diccionario, use la ``len()`` función:"
   ]
  },
  {
   "cell_type": "code",
   "execution_count": 42,
   "metadata": {},
   "outputs": [
    {
     "name": "stdout",
     "output_type": "stream",
     "text": [
      "3\n"
     ]
    }
   ],
   "source": [
    "# Imprime el número de elementos en el diccionario:\n",
    "thisdict = {\n",
    "  \"brand\": \"Ford\",\n",
    "  \"model\": \"Mustang\",\n",
    "  \"year\": 1964,\n",
    "  \"year\": 2020\n",
    "}\n",
    "print(len(thisdict))"
   ]
  },
  {
   "cell_type": "markdown",
   "metadata": {},
   "source": [
    "## Elementos del diccionario - Tipos de datos\n",
    "Los valores en los elementos del diccionario pueden ser de cualquier tipo de datos:"
   ]
  },
  {
   "cell_type": "code",
   "execution_count": 43,
   "metadata": {},
   "outputs": [
    {
     "name": "stdout",
     "output_type": "stream",
     "text": [
      "{'brand': 'Ford', 'electric': False, 'year': 1964, 'colors': ['red', 'white', 'blue']}\n"
     ]
    }
   ],
   "source": [
    "# Elementos del diccionario - Tipos de datos\n",
    "thisdict = {\n",
    "  \"brand\": \"Ford\",\n",
    "  \"electric\": False,\n",
    "  \"year\": 1964,\n",
    "  \"colors\": [\"red\", \"white\", \"blue\"]\n",
    "}\n",
    "\n",
    "print(thisdict)"
   ]
  },
  {
   "cell_type": "markdown",
   "metadata": {},
   "source": [
    "## tipo()\n",
    "Desde la perspectiva de Python, los diccionarios se definen como objetos con el tipo de datos 'dict':\n",
    "\n",
    "``<class 'dict'>``"
   ]
  },
  {
   "cell_type": "code",
   "execution_count": 44,
   "metadata": {},
   "outputs": [
    {
     "name": "stdout",
     "output_type": "stream",
     "text": [
      "<class 'dict'>\n"
     ]
    }
   ],
   "source": [
    "#Imprime el tipo de datos de un diccionario:\n",
    "\n",
    "thisdict = {\n",
    "  \"brand\": \"Ford\",\n",
    "  \"model\": \"Mustang\",\n",
    "  \"year\": 1964\n",
    "}\n",
    "print(type(thisdict))"
   ]
  },
  {
   "cell_type": "markdown",
   "metadata": {},
   "source": [
    "## El constructor ``dict()``\n",
    "También es posible usar el constructor ``dict()`` para hacer un diccionario."
   ]
  },
  {
   "cell_type": "code",
   "execution_count": null,
   "metadata": {},
   "outputs": [],
   "source": [
    "# Usando el método dict() para hacer un diccionario:\n",
    "\n",
    "thisdict = dict(name = \"John\", age = 36, country = \"Norway\")\n",
    "print(thisdict)"
   ]
  },
  {
   "cell_type": "markdown",
   "metadata": {},
   "source": [
    "## Colecciones de Python (matrices)\n",
    "Hay cuatro tipos de datos de recopilación en el lenguaje de programación Python:\n",
    "\n",
    "- **La lista** es una colección ordenada y modificable. Permite miembros duplicados.\n",
    "- **Tuple** es una colección ordenada e inmutable. Permite miembros duplicados.\n",
    "- **Conjunto** es una colección desordenada, inmutable* y no indexada. No hay miembros duplicados.\n",
    "- **El diccionario** es una colección ordenada** y modificable. No hay miembros duplicados.\n",
    "* Los elementos establecidos no se pueden cambiar, pero puede eliminar y/o agregar elementos cuando lo desee.\n",
    "\n",
    "**A partir de la versión 3.7 de Python, los diccionarios se ordenan . En Python 3.6 y versiones anteriores, los diccionarios están desordenados .\n",
    "\n",
    "Al elegir un tipo de colección, es útil comprender las propiedades de ese tipo. Elegir el tipo correcto para un conjunto de datos en particular podría significar la retención del significado y podría significar un aumento en la eficiencia o la seguridad."
   ]
  },
  {
   "cell_type": "markdown",
   "metadata": {},
   "source": [
    "# Python - Access Dictionary Items\n",
    "## Acceso a elementos\n",
    "Puede acceder a los elementos de un diccionario haciendo referencia a su nombre clave, entre corchetes:"
   ]
  },
  {
   "cell_type": "code",
   "execution_count": 46,
   "metadata": {},
   "outputs": [
    {
     "name": "stdout",
     "output_type": "stream",
     "text": [
      "Mustang\n"
     ]
    }
   ],
   "source": [
    "# Obtenga el valor de la clave \"modelo\":\n",
    "\n",
    "thisdict = {\n",
    "  \"brand\": \"Ford\",\n",
    "  \"model\": \"Mustang\",\n",
    "  \"year\": 1964\n",
    "}\n",
    "x = thisdict[\"model\"]\n",
    "print(x)"
   ]
  },
  {
   "cell_type": "markdown",
   "metadata": {},
   "source": [
    "También hay un método llamado get()que le dará el mismo resultado:"
   ]
  },
  {
   "cell_type": "code",
   "execution_count": 47,
   "metadata": {},
   "outputs": [
    {
     "name": "stdout",
     "output_type": "stream",
     "text": [
      "Mustang\n"
     ]
    }
   ],
   "source": [
    "# Obtenga el valor de la clave \"modelo\":\n",
    "thisdict =\t{\n",
    "  \"brand\": \"Ford\",\n",
    "  \"model\": \"Mustang\",\n",
    "  \"year\": 1964\n",
    "}\n",
    "x = thisdict.get(\"model\")\n",
    "print(x)"
   ]
  },
  {
   "cell_type": "markdown",
   "metadata": {},
   "source": [
    "## Obtener claves\n",
    "El ``keys()`` método devolverá una lista de todas las claves del diccionario."
   ]
  },
  {
   "cell_type": "code",
   "execution_count": 48,
   "metadata": {},
   "outputs": [
    {
     "name": "stdout",
     "output_type": "stream",
     "text": [
      "dict_keys(['brand', 'model', 'year'])\n"
     ]
    }
   ],
   "source": [
    "# Obtenga una lista de las claves:\n",
    "thisdict = {\n",
    "  \"brand\": \"Ford\",\n",
    "  \"model\": \"Mustang\",\n",
    "  \"year\": 1964\n",
    "}\n",
    "\n",
    "x = thisdict.keys()\n",
    "\n",
    "print(x)"
   ]
  },
  {
   "cell_type": "markdown",
   "metadata": {},
   "source": [
    "La lista de claves es una vista del diccionario, lo que significa que cualquier cambio realizado en el diccionario se reflejará en la lista de claves."
   ]
  },
  {
   "cell_type": "code",
   "execution_count": 49,
   "metadata": {},
   "outputs": [
    {
     "name": "stdout",
     "output_type": "stream",
     "text": [
      "dict_keys(['brand', 'model', 'year'])\n",
      "dict_keys(['brand', 'model', 'year', 'color'])\n"
     ]
    }
   ],
   "source": [
    "# Agregue un nuevo elemento al diccionario original y vea que la lista de claves también se actualice:\n",
    "\n",
    "car = {\n",
    "\"brand\": \"Ford\",\n",
    "\"model\": \"Mustang\",\n",
    "\"year\": 1964\n",
    "}\n",
    "\n",
    "x = car.keys()\n",
    "\n",
    "print(x) #before the change\n",
    "\n",
    "car[\"color\"] = \"white\"\n",
    "\n",
    "print(x) #after the change"
   ]
  },
  {
   "cell_type": "markdown",
   "metadata": {},
   "source": [
    "## Obtener valores\n",
    "El ``values()`` método devolverá una lista de todos los valores en el diccionario."
   ]
  },
  {
   "cell_type": "code",
   "execution_count": 50,
   "metadata": {},
   "outputs": [
    {
     "name": "stdout",
     "output_type": "stream",
     "text": [
      "dict_values(['Ford', 'Mustang', 1964])\n"
     ]
    }
   ],
   "source": [
    "# Obtenga una lista de los valores:\n",
    "thisdict = {\n",
    "  \"brand\": \"Ford\",\n",
    "  \"model\": \"Mustang\",\n",
    "  \"year\": 1964\n",
    "}\n",
    "\n",
    "x = thisdict.values()\n",
    "\n",
    "print(x)"
   ]
  },
  {
   "cell_type": "markdown",
   "metadata": {},
   "source": [
    "La lista de valores es una vista del diccionario, lo que significa que cualquier cambio realizado en el diccionario se reflejará en la lista de valores."
   ]
  },
  {
   "cell_type": "code",
   "execution_count": 52,
   "metadata": {},
   "outputs": [
    {
     "name": "stdout",
     "output_type": "stream",
     "text": [
      "dict_values(['Ford', 'Mustang', 1964])\n",
      "dict_values(['Ford', 'fiesta', 2020])\n"
     ]
    }
   ],
   "source": [
    "# Realice un cambio en el diccionario original y vea que la lista de valores también se actualice:\n",
    "\n",
    "car = {\n",
    "\"brand\": \"Ford\",\n",
    "\"model\": \"Mustang\",\n",
    "\"year\": 1964\n",
    "}\n",
    "\n",
    "x = car.values()\n",
    "\n",
    "print(x) #before the change\n",
    "\n",
    "car[\"year\"] = 2020\n",
    "\n",
    "print(x) #after the change"
   ]
  },
  {
   "cell_type": "code",
   "execution_count": 53,
   "metadata": {},
   "outputs": [
    {
     "name": "stdout",
     "output_type": "stream",
     "text": [
      "dict_values(['Ford', 'Mustang', 1964])\n",
      "dict_values(['Ford', 'Mustang', 1964, 'red'])\n"
     ]
    }
   ],
   "source": [
    "# Agregue un nuevo elemento al diccionario original y vea que la lista de valores también se actualice:\n",
    "\n",
    "car = {\n",
    "\"brand\": \"Ford\",\n",
    "\"model\": \"Mustang\",\n",
    "\"year\": 1964\n",
    "}\n",
    "\n",
    "x = car.values()\n",
    "\n",
    "print(x) #before the change\n",
    "\n",
    "car[\"color\"] = \"red\"\n",
    "\n",
    "print(x) #after the change"
   ]
  },
  {
   "cell_type": "markdown",
   "metadata": {},
   "source": [
    "## Obtener artículos\n",
    "El ``items()`` método devolverá cada elemento en un diccionario, como tuplas en una lista."
   ]
  },
  {
   "cell_type": "code",
   "execution_count": 54,
   "metadata": {},
   "outputs": [
    {
     "name": "stdout",
     "output_type": "stream",
     "text": [
      "dict_items([('brand', 'Ford'), ('model', 'Mustang'), ('year', 1964)])\n"
     ]
    }
   ],
   "source": [
    "# Obtener una lista de los pares clave:valor\n",
    "thisdict = {\n",
    "  \"brand\": \"Ford\",\n",
    "  \"model\": \"Mustang\",\n",
    "  \"year\": 1964\n",
    "}\n",
    "\n",
    "x = thisdict.items()\n",
    "\n",
    "print(x)"
   ]
  },
  {
   "cell_type": "markdown",
   "metadata": {},
   "source": [
    "La lista devuelta es una vista de los elementos del diccionario, lo que significa que cualquier cambio realizado en el diccionario se reflejará en la lista de elementos."
   ]
  },
  {
   "cell_type": "code",
   "execution_count": 55,
   "metadata": {},
   "outputs": [
    {
     "name": "stdout",
     "output_type": "stream",
     "text": [
      "dict_items([('brand', 'Ford'), ('model', 'Mustang'), ('year', 1964)])\n",
      "dict_items([('brand', 'Ford'), ('model', 'Mustang'), ('year', 2020)])\n"
     ]
    }
   ],
   "source": [
    "# Realice un cambio en el diccionario original y vea que la lista de elementos también se actualice:\n",
    "\n",
    "car = {\n",
    "\"brand\": \"Ford\",\n",
    "\"model\": \"Mustang\",\n",
    "\"year\": 1964\n",
    "}\n",
    "\n",
    "x = car.items()\n",
    "\n",
    "print(x) #before the change\n",
    "\n",
    "car[\"year\"] = 2020\n",
    "\n",
    "print(x) #after the change"
   ]
  },
  {
   "cell_type": "code",
   "execution_count": 56,
   "metadata": {},
   "outputs": [
    {
     "name": "stdout",
     "output_type": "stream",
     "text": [
      "dict_items([('brand', 'Ford'), ('model', 'Mustang'), ('year', 1964)])\n",
      "dict_items([('brand', 'Ford'), ('model', 'Mustang'), ('year', 1964), ('color', 'red')])\n"
     ]
    }
   ],
   "source": [
    "# Agregue un nuevo elemento al diccionario original y vea que la lista de elementos también se actualice:\n",
    "\n",
    "car = {\n",
    "\"brand\": \"Ford\",\n",
    "\"model\": \"Mustang\",\n",
    "\"year\": 1964\n",
    "}\n",
    "\n",
    "x = car.items()\n",
    "\n",
    "print(x) #before the change\n",
    "\n",
    "car[\"color\"] = \"red\"\n",
    "\n",
    "print(x) #after the change"
   ]
  },
  {
   "cell_type": "markdown",
   "metadata": {},
   "source": [
    "## Comprobar si existe la clave\n",
    "Para determinar si una clave específica está presente en un diccionario, use la ``in`` palabra clave:"
   ]
  },
  {
   "cell_type": "code",
   "execution_count": 58,
   "metadata": {},
   "outputs": [
    {
     "name": "stdout",
     "output_type": "stream",
     "text": [
      "Yes, 'model' is one of the keys in the thisdict dictionary\n"
     ]
    }
   ],
   "source": [
    "# Compruebe si \"modelo\" está presente en el diccionario:\n",
    "thisdict = {\n",
    "  \"brand\": \"Ford\",\n",
    "  \"model\": \"Mustang\",\n",
    "  \"year\": 1964\n",
    "}\n",
    "if \"model\" in thisdict:\n",
    "  print(\"Yes, 'model' is one of the keys in the thisdict dictionary\")"
   ]
  },
  {
   "cell_type": "markdown",
   "metadata": {},
   "source": [
    "# Python - Change Dictionary Items\n",
    "## Cambiar valores\n",
    "Puede cambiar el valor de un elemento específico haciendo referencia a su nombre clave:"
   ]
  },
  {
   "cell_type": "code",
   "execution_count": 60,
   "metadata": {},
   "outputs": [
    {
     "name": "stdout",
     "output_type": "stream",
     "text": [
      "{'brand': 'Ford', 'model': 'Mustang', 'year': 2018}\n"
     ]
    }
   ],
   "source": [
    "# Cambia el \"año\" a 2018:\n",
    "\n",
    "thisdict = {\n",
    "  \"brand\": \"Ford\",\n",
    "  \"model\": \"Mustang\",\n",
    "  \"year\": 1964\n",
    "}\n",
    "thisdict[\"year\"] = 2018\n",
    "\n",
    "print(thisdict)"
   ]
  },
  {
   "cell_type": "markdown",
   "metadata": {},
   "source": [
    "## Actualizar diccionario\n",
    "El ``update()`` método actualizará el diccionario con los elementos del argumento dado.\n",
    "\n",
    "El argumento debe ser un diccionario o un objeto iterable con pares clave:valor."
   ]
  },
  {
   "cell_type": "code",
   "execution_count": 61,
   "metadata": {},
   "outputs": [
    {
     "name": "stdout",
     "output_type": "stream",
     "text": [
      "{'brand': 'Ford', 'model': 'Mustang', 'year': 2020}\n"
     ]
    }
   ],
   "source": [
    "# Actualice el \"año\" del automóvil utilizando el update() método:\n",
    "thisdict = {\n",
    "  \"brand\": \"Ford\",\n",
    "  \"model\": \"Mustang\",\n",
    "  \"year\": 1964\n",
    "}\n",
    "thisdict.update({\"year\": 2020})\n",
    "\n",
    "print(thisdict)\n"
   ]
  },
  {
   "cell_type": "markdown",
   "metadata": {},
   "source": [
    "# Python - Add Dictionary Items\n",
    "## Adición de elementos\n",
    "La adición de un elemento al diccionario se realiza utilizando una nueva clave de índice y asignándole un valor:"
   ]
  },
  {
   "cell_type": "code",
   "execution_count": 62,
   "metadata": {},
   "outputs": [
    {
     "name": "stdout",
     "output_type": "stream",
     "text": [
      "{'brand': 'Ford', 'model': 'Mustang', 'year': 1964, 'color': 'red'}\n"
     ]
    }
   ],
   "source": [
    "thisdict = {\n",
    "  \"brand\": \"Ford\",\n",
    "  \"model\": \"Mustang\",\n",
    "  \"year\": 1964\n",
    "}\n",
    "thisdict[\"color\"] = \"red\"\n",
    "print(thisdict)"
   ]
  },
  {
   "cell_type": "markdown",
   "metadata": {},
   "source": [
    "## Actualizar diccionario\n",
    "El ``update()`` método actualizará el diccionario con los elementos de un argumento dado. Si el artículo no existe, se agregará.\n",
    "\n",
    "El argumento debe ser un diccionario o un objeto iterable con pares clave:valor."
   ]
  },
  {
   "cell_type": "code",
   "execution_count": 63,
   "metadata": {},
   "outputs": [
    {
     "name": "stdout",
     "output_type": "stream",
     "text": [
      "{'brand': 'Ford', 'model': 'Mustang', 'year': 1964, 'color': 'red'}\n"
     ]
    }
   ],
   "source": [
    "# Agregue un elemento de color al diccionario usando el update() método:\n",
    "thisdict = {\n",
    "  \"brand\": \"Ford\",\n",
    "  \"model\": \"Mustang\",\n",
    "  \"year\": 1964\n",
    "}\n",
    "thisdict.update({\"color\": \"red\"})\n",
    "\n",
    "print(thisdict)\n"
   ]
  },
  {
   "cell_type": "markdown",
   "metadata": {},
   "source": [
    "# Python - Remove Dictionary Items\n",
    "## Eliminación de elementos\n",
    "Existen varios métodos para eliminar elementos de un diccionario:"
   ]
  },
  {
   "cell_type": "code",
   "execution_count": 64,
   "metadata": {},
   "outputs": [
    {
     "name": "stdout",
     "output_type": "stream",
     "text": [
      "{'brand': 'Ford', 'year': 1964}\n"
     ]
    }
   ],
   "source": [
    "# El pop() método elimina el elemento con el nombre de clave especificado:\n",
    "\n",
    "thisdict = {\n",
    "  \"brand\": \"Ford\",\n",
    "  \"model\": \"Mustang\",\n",
    "  \"year\": 1964\n",
    "}\n",
    "thisdict.pop(\"model\")\n",
    "print(thisdict)"
   ]
  },
  {
   "cell_type": "code",
   "execution_count": 65,
   "metadata": {},
   "outputs": [
    {
     "name": "stdout",
     "output_type": "stream",
     "text": [
      "{'brand': 'Ford', 'model': 'Mustang'}\n"
     ]
    }
   ],
   "source": [
    "#El popitem() método elimina el último elemento insertado (en versiones anteriores a la 3.7, en su lugar, se elimina un elemento aleatorio):\n",
    "\n",
    "thisdict = {\n",
    "  \"brand\": \"Ford\",\n",
    "  \"model\": \"Mustang\",\n",
    "  \"year\": 1964\n",
    "}\n",
    "thisdict.popitem()\n",
    "print(thisdict)"
   ]
  },
  {
   "cell_type": "code",
   "execution_count": 66,
   "metadata": {},
   "outputs": [
    {
     "name": "stdout",
     "output_type": "stream",
     "text": [
      "{'brand': 'Ford', 'year': 1964}\n"
     ]
    }
   ],
   "source": [
    "# La delpalabra clave elimina el elemento con el nombre de clave especificado:\n",
    "\n",
    "thisdict = {\n",
    "  \"brand\": \"Ford\",\n",
    "  \"model\": \"Mustang\",\n",
    "  \"year\": 1964\n",
    "}\n",
    "del thisdict[\"model\"]\n",
    "print(thisdict)"
   ]
  },
  {
   "cell_type": "code",
   "execution_count": 67,
   "metadata": {},
   "outputs": [
    {
     "ename": "NameError",
     "evalue": "name 'thisdict' is not defined",
     "output_type": "error",
     "traceback": [
      "\u001b[1;31m---------------------------------------------------------------------------\u001b[0m",
      "\u001b[1;31mNameError\u001b[0m                                 Traceback (most recent call last)",
      "\u001b[1;32mc:\\Users\\celio\\OneDrive\\Escritorio\\programación\\platzi\\PracticaDePython.ipynb Celda 831\u001b[0m in \u001b[0;36m8\n\u001b[0;32m      <a href='vscode-notebook-cell:/c%3A/Users/celio/OneDrive/Escritorio/programaci%C3%B3n/platzi/PracticaDePython.ipynb#Z2302sZmlsZQ%3D%3D?line=1'>2</a>\u001b[0m thisdict \u001b[39m=\u001b[39m\t{\n\u001b[0;32m      <a href='vscode-notebook-cell:/c%3A/Users/celio/OneDrive/Escritorio/programaci%C3%B3n/platzi/PracticaDePython.ipynb#Z2302sZmlsZQ%3D%3D?line=2'>3</a>\u001b[0m   \u001b[39m\"\u001b[39m\u001b[39mbrand\u001b[39m\u001b[39m\"\u001b[39m: \u001b[39m\"\u001b[39m\u001b[39mFord\u001b[39m\u001b[39m\"\u001b[39m,\n\u001b[0;32m      <a href='vscode-notebook-cell:/c%3A/Users/celio/OneDrive/Escritorio/programaci%C3%B3n/platzi/PracticaDePython.ipynb#Z2302sZmlsZQ%3D%3D?line=3'>4</a>\u001b[0m   \u001b[39m\"\u001b[39m\u001b[39mmodel\u001b[39m\u001b[39m\"\u001b[39m: \u001b[39m\"\u001b[39m\u001b[39mMustang\u001b[39m\u001b[39m\"\u001b[39m,\n\u001b[0;32m      <a href='vscode-notebook-cell:/c%3A/Users/celio/OneDrive/Escritorio/programaci%C3%B3n/platzi/PracticaDePython.ipynb#Z2302sZmlsZQ%3D%3D?line=4'>5</a>\u001b[0m   \u001b[39m\"\u001b[39m\u001b[39myear\u001b[39m\u001b[39m\"\u001b[39m: \u001b[39m1964\u001b[39m\n\u001b[0;32m      <a href='vscode-notebook-cell:/c%3A/Users/celio/OneDrive/Escritorio/programaci%C3%B3n/platzi/PracticaDePython.ipynb#Z2302sZmlsZQ%3D%3D?line=5'>6</a>\u001b[0m }\n\u001b[0;32m      <a href='vscode-notebook-cell:/c%3A/Users/celio/OneDrive/Escritorio/programaci%C3%B3n/platzi/PracticaDePython.ipynb#Z2302sZmlsZQ%3D%3D?line=6'>7</a>\u001b[0m \u001b[39mdel\u001b[39;00m thisdict\n\u001b[1;32m----> <a href='vscode-notebook-cell:/c%3A/Users/celio/OneDrive/Escritorio/programaci%C3%B3n/platzi/PracticaDePython.ipynb#Z2302sZmlsZQ%3D%3D?line=7'>8</a>\u001b[0m \u001b[39mprint\u001b[39m(thisdict) \u001b[39m#this will cause an error because \"thisdict\" no longer exists.\u001b[39;00m\n",
      "\u001b[1;31mNameError\u001b[0m: name 'thisdict' is not defined"
     ]
    }
   ],
   "source": [
    "# La ``del`` palabra clave también puede eliminar el diccionario por completo:\n",
    "thisdict =\t{\n",
    "  \"brand\": \"Ford\",\n",
    "  \"model\": \"Mustang\",\n",
    "  \"year\": 1964\n",
    "}\n",
    "del thisdict\n",
    "print(thisdict) #this will cause an error because \"thisdict\" no longer exists."
   ]
  },
  {
   "cell_type": "code",
   "execution_count": 68,
   "metadata": {},
   "outputs": [
    {
     "name": "stdout",
     "output_type": "stream",
     "text": [
      "{}\n"
     ]
    }
   ],
   "source": [
    "# El clear()método vacía el diccionario:\n",
    "\n",
    "thisdict = {\n",
    "  \"brand\": \"Ford\",\n",
    "  \"model\": \"Mustang\",\n",
    "  \"year\": 1964\n",
    "}\n",
    "thisdict.clear()\n",
    "print(thisdict)"
   ]
  },
  {
   "cell_type": "markdown",
   "metadata": {},
   "source": [
    "# Python - Loop Dictionaries\n",
    "## Bucle a través de un diccionario\n",
    "Puede recorrer un diccionario utilizando un forbucle.\n",
    "\n",
    "Al recorrer un diccionario, el valor devuelto son las *claves* del diccionario, pero también hay métodos para devolver los *valores*."
   ]
  },
  {
   "cell_type": "code",
   "execution_count": 69,
   "metadata": {},
   "outputs": [
    {
     "name": "stdout",
     "output_type": "stream",
     "text": [
      "brand\n",
      "model\n",
      "year\n"
     ]
    }
   ],
   "source": [
    "# Imprima todos los nombres clave en el diccionario, uno por uno:\n",
    "thisdict =\t{\n",
    "  \"brand\": \"Ford\",\n",
    "  \"model\": \"Mustang\",\n",
    "  \"year\": 1964\n",
    "}\n",
    "for x in thisdict:\n",
    "  print(x)"
   ]
  },
  {
   "cell_type": "code",
   "execution_count": 70,
   "metadata": {},
   "outputs": [
    {
     "name": "stdout",
     "output_type": "stream",
     "text": [
      "Ford\n",
      "Mustang\n",
      "1964\n"
     ]
    }
   ],
   "source": [
    "# Imprima todos los nombres clave en el diccionario, uno por uno:\n",
    "thisdict =\t{\n",
    "  \"brand\": \"Ford\",\n",
    "  \"model\": \"Mustang\",\n",
    "  \"year\": 1964\n",
    "}\n",
    "for x in thisdict:\n",
    "  print(thisdict[x])"
   ]
  },
  {
   "cell_type": "code",
   "execution_count": 71,
   "metadata": {},
   "outputs": [
    {
     "name": "stdout",
     "output_type": "stream",
     "text": [
      "Ford\n",
      "Mustang\n",
      "1964\n"
     ]
    }
   ],
   "source": [
    "# Imprime todos los valores en el diccionario, uno por uno:\n",
    "thisdict =\t{\n",
    "  \"brand\": \"Ford\",\n",
    "  \"model\": \"Mustang\",\n",
    "  \"year\": 1964\n",
    "}\n",
    "for x in thisdict:\n",
    "  print(thisdict[x])"
   ]
  },
  {
   "cell_type": "code",
   "execution_count": 72,
   "metadata": {},
   "outputs": [
    {
     "name": "stdout",
     "output_type": "stream",
     "text": [
      "Ford\n",
      "Mustang\n",
      "1964\n"
     ]
    }
   ],
   "source": [
    "# También puede usar el values()método para devolver valores de un diccionario:\n",
    "thisdict =\t{\n",
    "  \"brand\": \"Ford\",\n",
    "  \"model\": \"Mustang\",\n",
    "  \"year\": 1964\n",
    "}\n",
    "for x in thisdict.values():\n",
    "  print(x)"
   ]
  },
  {
   "cell_type": "code",
   "execution_count": 73,
   "metadata": {},
   "outputs": [
    {
     "name": "stdout",
     "output_type": "stream",
     "text": [
      "brand\n",
      "model\n",
      "year\n"
     ]
    }
   ],
   "source": [
    "# Puede usar el keys() método para devolver las claves de un diccionario:\n",
    "thisdict =\t{\n",
    "  \"brand\": \"Ford\",\n",
    "  \"model\": \"Mustang\",\n",
    "  \"year\": 1964\n",
    "}\n",
    "for x in thisdict.keys():\n",
    "  print(x)"
   ]
  },
  {
   "cell_type": "code",
   "execution_count": 74,
   "metadata": {},
   "outputs": [
    {
     "name": "stdout",
     "output_type": "stream",
     "text": [
      "brand Ford\n",
      "model Mustang\n",
      "year 1964\n"
     ]
    }
   ],
   "source": [
    "# Recorra las claves y los valores usando el items()método:\n",
    "thisdict =\t{\n",
    "  \"brand\": \"Ford\",\n",
    "  \"model\": \"Mustang\",\n",
    "  \"year\": 1964\n",
    "}\n",
    "for x, y in thisdict.items():\n",
    "  print(x, y)"
   ]
  },
  {
   "cell_type": "markdown",
   "metadata": {},
   "source": [
    "# Python - Copy Dictionaries\n",
    "## Copiar un diccionario\n",
    "No puede copiar un diccionario simplemente escribiendo ``dict2 = dict1``, porque: d``ict2`` solo será una referencia a ``dict1``, y los cambios realizados en ``dict1`` automáticamente también se realizarán en ``dict2``.\n",
    "\n",
    "Hay formas de hacer una copia, una forma es usar el método Dictionary incorporado ``copy()``."
   ]
  },
  {
   "cell_type": "code",
   "execution_count": 75,
   "metadata": {},
   "outputs": [
    {
     "name": "stdout",
     "output_type": "stream",
     "text": [
      "{'brand': 'Ford', 'model': 'Mustang', 'year': 1964}\n"
     ]
    }
   ],
   "source": [
    "# Haz una copia de un diccionario con el copy()método:\n",
    "\n",
    "thisdict = {\n",
    "  \"brand\": \"Ford\",\n",
    "  \"model\": \"Mustang\",\n",
    "  \"year\": 1964\n",
    "}\n",
    "mydict = thisdict.copy()\n",
    "print(mydict)"
   ]
  },
  {
   "cell_type": "markdown",
   "metadata": {},
   "source": [
    "Otra forma de hacer una copia es usar la función incorporada ``dict()``."
   ]
  },
  {
   "cell_type": "code",
   "execution_count": 76,
   "metadata": {},
   "outputs": [
    {
     "name": "stdout",
     "output_type": "stream",
     "text": [
      "{'brand': 'Ford', 'model': 'Mustang', 'year': 1964}\n"
     ]
    }
   ],
   "source": [
    "# Haz una copia de un diccionario con la dict() función:\n",
    "\n",
    "thisdict = {\n",
    "  \"brand\": \"Ford\",\n",
    "  \"model\": \"Mustang\",\n",
    "  \"year\": 1964\n",
    "}\n",
    "mydict = dict(thisdict)\n",
    "print(mydict)"
   ]
  },
  {
   "cell_type": "markdown",
   "metadata": {},
   "source": [
    "# Python - Nested Dictionaries\n",
    "## Diccionarios anidados\n",
    "Un diccionario puede contener diccionarios, esto se llama diccionarios anidados."
   ]
  },
  {
   "cell_type": "code",
   "execution_count": 77,
   "metadata": {},
   "outputs": [
    {
     "name": "stdout",
     "output_type": "stream",
     "text": [
      "{'child1': {'name': 'Emil', 'year': 2004}, 'child2': {'name': 'Tobias', 'year': 2007}, 'child3': {'name': 'Linus', 'year': 2011}}\n"
     ]
    }
   ],
   "source": [
    "# Cree un diccionario que contenga tres diccionarios:\n",
    "myfamily = {\n",
    "  \"child1\" : {\n",
    "    \"name\" : \"Emil\",\n",
    "    \"year\" : 2004\n",
    "  },\n",
    "  \"child2\" : {\n",
    "    \"name\" : \"Tobias\",\n",
    "    \"year\" : 2007\n",
    "  },\n",
    "  \"child3\" : {\n",
    "    \"name\" : \"Linus\",\n",
    "    \"year\" : 2011\n",
    "  }\n",
    "}\n",
    "\n",
    "print(myfamily)"
   ]
  },
  {
   "cell_type": "markdown",
   "metadata": {},
   "source": [
    "O, si desea agregar tres diccionarios en un nuevo diccionario:"
   ]
  },
  {
   "cell_type": "code",
   "execution_count": 78,
   "metadata": {},
   "outputs": [
    {
     "name": "stdout",
     "output_type": "stream",
     "text": [
      "{'child1': {'name': 'Emil', 'year': 2004}, 'child2': {'name': 'Tobias', 'year': 2007}, 'child3': {'name': 'Linus', 'year': 2011}}\n"
     ]
    }
   ],
   "source": [
    "# Cree tres diccionarios, luego cree un diccionario que contenga los otros tres diccionarios:\n",
    "child1 = {\n",
    "  \"name\" : \"Emil\",\n",
    "  \"year\" : 2004\n",
    "}\n",
    "child2 = {\n",
    "  \"name\" : \"Tobias\",\n",
    "  \"year\" : 2007\n",
    "}\n",
    "child3 = {\n",
    "  \"name\" : \"Linus\",\n",
    "  \"year\" : 2011\n",
    "}\n",
    "\n",
    "myfamily = {\n",
    "  \"child1\" : child1,\n",
    "  \"child2\" : child2,\n",
    "  \"child3\" : child3\n",
    "}\n",
    "\n",
    "print(myfamily)\n"
   ]
  },
  {
   "cell_type": "markdown",
   "metadata": {},
   "source": [
    "## Acceder a elementos en diccionarios anidados\n",
    "Para acceder a los elementos de un diccionario anidado, use el nombre de los diccionarios, comenzando con el diccionario externo:"
   ]
  },
  {
   "cell_type": "code",
   "execution_count": 79,
   "metadata": {},
   "outputs": [
    {
     "name": "stdout",
     "output_type": "stream",
     "text": [
      "Tobias\n"
     ]
    }
   ],
   "source": [
    "# Escriba el nombre del niño 2:\n",
    "myfamily = {\n",
    "  \"child1\" : {\n",
    "    \"name\" : \"Emil\",\n",
    "    \"year\" : 2004\n",
    "  },\n",
    "  \"child2\" : {\n",
    "    \"name\" : \"Tobias\",\n",
    "    \"year\" : 2007\n",
    "  },\n",
    "  \"child3\" : {\n",
    "    \"name\" : \"Linus\",\n",
    "    \"year\" : 2011\n",
    "  }\n",
    "}\n",
    "\n",
    "print(myfamily[\"child2\"][\"name\"])"
   ]
  },
  {
   "cell_type": "markdown",
   "metadata": {},
   "source": [
    "# Dictionary Methods\n",
    "Python tiene un conjunto de métodos integrados que puede usar en los diccionarios.\n"
   ]
  },
  {
   "cell_type": "markdown",
   "metadata": {},
   "source": [
    "### Python Dictionary ``clear()`` Method"
   ]
  },
  {
   "cell_type": "code",
   "execution_count": 80,
   "metadata": {},
   "outputs": [
    {
     "name": "stdout",
     "output_type": "stream",
     "text": [
      "{}\n"
     ]
    }
   ],
   "source": [
    "# Eliminar todos los elementos de la carlista:\n",
    "\n",
    "car = {\n",
    "  \"brand\": \"Ford\",\n",
    "  \"model\": \"Mustang\",\n",
    "  \"year\": 1964\n",
    "}\n",
    "\n",
    "car.clear()\n",
    "\n",
    "print(car)"
   ]
  },
  {
   "cell_type": "markdown",
   "metadata": {},
   "source": [
    "### Definición y uso\n",
    "El ``clear()`` método elimina todos los elementos de un diccionario.\n",
    "\n",
    "### Sintaxis\n",
    "``dictionary.clear()``"
   ]
  },
  {
   "cell_type": "markdown",
   "metadata": {},
   "source": [
    "### Python Dictionary ``copy()`` Method"
   ]
  },
  {
   "cell_type": "code",
   "execution_count": 81,
   "metadata": {},
   "outputs": [
    {
     "name": "stdout",
     "output_type": "stream",
     "text": [
      "{'brand': 'Ford', 'model': 'Mustang', 'year': 1964}\n"
     ]
    }
   ],
   "source": [
    "# Copia el cardiccionario:\n",
    "\n",
    "car = {\n",
    "  \"brand\": \"Ford\",\n",
    "  \"model\": \"Mustang\",\n",
    "  \"year\": 1964\n",
    "}\n",
    "\n",
    "x = car.copy()\n",
    "\n",
    "print(x)"
   ]
  },
  {
   "cell_type": "markdown",
   "metadata": {},
   "source": [
    "### Definición y uso\n",
    "El ``copy()`` método devuelve una copia del diccionario especificado.\n",
    "\n",
    "### Sintaxis\n",
    "``dictionary.copy()``"
   ]
  },
  {
   "cell_type": "markdown",
   "metadata": {},
   "source": [
    "### Diccionario Python ``fromkeys()`` Método"
   ]
  },
  {
   "cell_type": "code",
   "execution_count": 84,
   "metadata": {},
   "outputs": [
    {
     "name": "stdout",
     "output_type": "stream",
     "text": [
      "{'key1': 0, 'key2': 0, 'key3': 0}\n"
     ]
    }
   ],
   "source": [
    "# Cree un diccionario con 3 claves, todas con el valor 0:\n",
    "\n",
    "x = ('key1', 'key2', 'key3')\n",
    "y = 0\n",
    "\n",
    "thisdict = dict.fromkeys(x, y)\n",
    "\n",
    "print(thisdict)"
   ]
  },
  {
   "cell_type": "markdown",
   "metadata": {},
   "source": [
    "#### Definición y uso\n",
    "El ``fromkeys()`` método devuelve un diccionario con las claves especificadas y el valor especificado.\n",
    "\n",
    "#### Sintaxis\n",
    "``dict.fromkeys(keys, value)``"
   ]
  },
  {
   "cell_type": "code",
   "execution_count": 85,
   "metadata": {},
   "outputs": [
    {
     "name": "stdout",
     "output_type": "stream",
     "text": [
      "{'key1': None, 'key2': None, 'key3': None}\n"
     ]
    }
   ],
   "source": [
    "# Mismo ejemplo que el anterior, pero sin especificar el valor:\n",
    "\n",
    "x = ('key1', 'key2', 'key3')\n",
    "thisdict = dict.fromkeys(x)\n",
    "\n",
    "print(thisdict)"
   ]
  },
  {
   "cell_type": "markdown",
   "metadata": {},
   "source": [
    "### Python Dictionary ``get()`` Method"
   ]
  },
  {
   "cell_type": "code",
   "execution_count": 86,
   "metadata": {},
   "outputs": [
    {
     "name": "stdout",
     "output_type": "stream",
     "text": [
      "Mustang\n"
     ]
    }
   ],
   "source": [
    "# Obtenga el valor del elemento \"modelo\":\n",
    "\n",
    "car = {\n",
    "  \"brand\": \"Ford\",\n",
    "  \"model\": \"Mustang\",\n",
    "  \"year\": 1964\n",
    "}\n",
    "\n",
    "x = car.get(\"model\")\n",
    "\n",
    "print(x)"
   ]
  },
  {
   "cell_type": "markdown",
   "metadata": {},
   "source": [
    "#### Definición y uso\n",
    "El ``get()`` método devuelve el valor del elemento con la clave especificada.\n",
    "\n",
    "#### Sintaxis\n",
    "``dictionary.get(keyname, value)``"
   ]
  },
  {
   "cell_type": "code",
   "execution_count": 87,
   "metadata": {},
   "outputs": [
    {
     "name": "stdout",
     "output_type": "stream",
     "text": [
      "15000\n"
     ]
    }
   ],
   "source": [
    "# Intenta devolver el valor de un artículo que no existe:\n",
    "\n",
    "car = {\n",
    "  \"brand\": \"Ford\",\n",
    "  \"model\": \"Mustang\",\n",
    "  \"year\": 1964\n",
    "}\n",
    "\n",
    "x = car.get(\"price\", 15000)\n",
    "\n",
    "print(x)"
   ]
  },
  {
   "cell_type": "markdown",
   "metadata": {},
   "source": [
    "### Python Dictionary ``items()`` Method"
   ]
  },
  {
   "cell_type": "code",
   "execution_count": 88,
   "metadata": {},
   "outputs": [
    {
     "name": "stdout",
     "output_type": "stream",
     "text": [
      "dict_items([('brand', 'Ford'), ('model', 'Mustang'), ('year', 1964)])\n"
     ]
    }
   ],
   "source": [
    "# Devuelve los pares clave-valor del diccionario:\n",
    "\n",
    "car = {\n",
    "  \"brand\": \"Ford\",\n",
    "  \"model\": \"Mustang\",\n",
    "  \"year\": 1964\n",
    "}\n",
    "\n",
    "x = car.items()\n",
    "\n",
    "print(x)"
   ]
  },
  {
   "cell_type": "markdown",
   "metadata": {},
   "source": [
    "#### Definición y uso\n",
    "El ``items()`` método devuelve un objeto de vista. El objeto de vista contiene los pares clave-valor del diccionario, como tuplas en una lista.\n",
    "\n",
    "El objeto de vista reflejará cualquier cambio realizado en el diccionario, vea el ejemplo a continuación.\n",
    "\n",
    "#### Sintaxis\n",
    "``dictionary.items()``"
   ]
  },
  {
   "cell_type": "code",
   "execution_count": 89,
   "metadata": {},
   "outputs": [
    {
     "name": "stdout",
     "output_type": "stream",
     "text": [
      "dict_items([('brand', 'Ford'), ('model', 'Mustang'), ('year', 2018)])\n"
     ]
    }
   ],
   "source": [
    "# Cuando un elemento del diccionario cambia de valor, el objeto de vista también se actualiza:\n",
    "\n",
    "car = {\n",
    "  \"brand\": \"Ford\",\n",
    "  \"model\": \"Mustang\",\n",
    "  \"year\": 1964\n",
    "}\n",
    "\n",
    "x = car.items()\n",
    "\n",
    "car[\"year\"] = 2018\n",
    "\n",
    "print(x)"
   ]
  },
  {
   "cell_type": "markdown",
   "metadata": {},
   "source": [
    "### Python Dictionary ``keys()`` Method"
   ]
  },
  {
   "cell_type": "code",
   "execution_count": 90,
   "metadata": {},
   "outputs": [
    {
     "name": "stdout",
     "output_type": "stream",
     "text": [
      "dict_keys(['brand', 'model', 'year'])\n"
     ]
    }
   ],
   "source": [
    "# Devolver las llaves:\n",
    "\n",
    "car = {\n",
    "  \"brand\": \"Ford\",\n",
    "  \"model\": \"Mustang\",\n",
    "  \"year\": 1964\n",
    "}\n",
    "\n",
    "x = car.keys()\n",
    "\n",
    "print(x)"
   ]
  },
  {
   "cell_type": "markdown",
   "metadata": {},
   "source": [
    "#### Definición y uso\n",
    "El ``keys()`` método devuelve un objeto de vista. El objeto de vista contiene las claves del diccionario, como una lista.\n",
    "\n",
    "El objeto de vista reflejará cualquier cambio realizado en el diccionario, vea el ejemplo a continuación.\n",
    "\n",
    "#### Sintaxis\n",
    "``dictionary.keys()``"
   ]
  },
  {
   "cell_type": "code",
   "execution_count": 91,
   "metadata": {},
   "outputs": [
    {
     "name": "stdout",
     "output_type": "stream",
     "text": [
      "dict_keys(['brand', 'model', 'year', 'color'])\n"
     ]
    }
   ],
   "source": [
    "# Cuando se agrega un elemento en el diccionario, el objeto de vista también se actualiza:\n",
    "\n",
    "car = {\n",
    "  \"brand\": \"Ford\",\n",
    "  \"model\": \"Mustang\",\n",
    "  \"year\": 1964\n",
    "}\n",
    "\n",
    "x = car.keys()\n",
    "car[\"color\"] = \"white\"\n",
    "\n",
    "print(x)"
   ]
  },
  {
   "cell_type": "markdown",
   "metadata": {},
   "source": [
    "### Python Dictionary ``pop()`` Method"
   ]
  },
  {
   "cell_type": "code",
   "execution_count": 92,
   "metadata": {},
   "outputs": [
    {
     "name": "stdout",
     "output_type": "stream",
     "text": [
      "{'brand': 'Ford', 'year': 1964}\n"
     ]
    }
   ],
   "source": [
    "# Eliminar \"modelo\" del diccionario:\n",
    "\n",
    "car = {\n",
    "  \"brand\": \"Ford\",\n",
    "  \"model\": \"Mustang\",\n",
    "  \"year\": 1964\n",
    "}\n",
    "\n",
    "car.pop(\"model\")\n",
    "\n",
    "print(car)"
   ]
  },
  {
   "cell_type": "markdown",
   "metadata": {},
   "source": [
    "#### Definición y uso\n",
    "El ``pop()`` método elimina el elemento especificado del diccionario.\n",
    "\n",
    "El valor del elemento eliminado es el valor de retorno del ``pop()`` método, vea el ejemplo a continuación.\n",
    "\n",
    "#### Sintaxis\n",
    "``dictionary.pop(keyname, defaultvalue)``"
   ]
  },
  {
   "cell_type": "code",
   "execution_count": 93,
   "metadata": {},
   "outputs": [
    {
     "name": "stdout",
     "output_type": "stream",
     "text": [
      "Mustang\n"
     ]
    }
   ],
   "source": [
    "# El valor del elemento eliminado es el valor de retorno del método pop():\n",
    "\n",
    "car = {\n",
    "  \"brand\": \"Ford\",\n",
    "  \"model\": \"Mustang\",\n",
    "  \"year\": 1964\n",
    "}\n",
    "\n",
    "x = car.pop(\"model\")\n",
    "\n",
    "print(x)"
   ]
  },
  {
   "cell_type": "markdown",
   "metadata": {},
   "source": [
    "### Python Dictionary ``popitem()`` Method"
   ]
  },
  {
   "cell_type": "code",
   "execution_count": 94,
   "metadata": {},
   "outputs": [
    {
     "name": "stdout",
     "output_type": "stream",
     "text": [
      "{'brand': 'Ford', 'model': 'Mustang'}\n"
     ]
    }
   ],
   "source": [
    "# Eliminar el último elemento del diccionario:\n",
    "\n",
    "car = {\n",
    "  \"brand\": \"Ford\",\n",
    "  \"model\": \"Mustang\",\n",
    "  \"year\": 1964\n",
    "}\n",
    "\n",
    "car.popitem()\n",
    "\n",
    "print(car)"
   ]
  },
  {
   "cell_type": "markdown",
   "metadata": {},
   "source": [
    "#### Definición y uso\n",
    "El ``popitem()`` método elimina el elemento que se insertó por última vez en el diccionario. En versiones anteriores a la 3.7, el ``popitem()`` método elimina un elemento aleatorio.\n",
    "\n",
    "El elemento eliminado es el valor de retorno del ``popitem()`` método, como una tupla, vea el ejemplo a continuación.\n",
    "\n",
    "#### Sintaxis\n",
    "``dictionary.popitem()``"
   ]
  },
  {
   "cell_type": "code",
   "execution_count": 95,
   "metadata": {},
   "outputs": [
    {
     "name": "stdout",
     "output_type": "stream",
     "text": [
      "('year', 1964)\n"
     ]
    }
   ],
   "source": [
    "# El elemento eliminado es el valor de retorno del método popitem():\n",
    "\n",
    "car = {\n",
    "  \"brand\": \"Ford\",\n",
    "  \"model\": \"Mustang\",\n",
    "  \"year\": 1964\n",
    "}\n",
    "\n",
    "x = car.popitem()\n",
    "\n",
    "print(x)"
   ]
  },
  {
   "cell_type": "code",
   "execution_count": 96,
   "metadata": {},
   "outputs": [
    {
     "name": "stdout",
     "output_type": "stream",
     "text": [
      "Mustang\n"
     ]
    }
   ],
   "source": [
    "# Python Dictionary setdefault() Method\n",
    "\n",
    "# Obtenga el valor del elemento \"modelo\":\n",
    "\n",
    "car = {\n",
    "  \"brand\": \"Ford\",\n",
    "  \"model\": \"Mustang\",\n",
    "  \"year\": 1964\n",
    "}\n",
    "\n",
    "x = car.setdefault(\"model\", \"Bronco\")\n",
    "\n",
    "print(x)"
   ]
  },
  {
   "cell_type": "markdown",
   "metadata": {},
   "source": [
    "### Python Dictionary setdefault() Method\n",
    "\n",
    "Obtenga el valor del elemento \"modelo\":\n",
    "\n",
    "car = {\n",
    "  \"brand\": \"Ford\",\n",
    "  \"model\": \"Mustang\",\n",
    "  \"year\": 1964\n",
    "}\n",
    "\n",
    "x = car.setdefault(\"model\", \"Bronco\")\n",
    "\n",
    "print(x)"
   ]
  },
  {
   "cell_type": "markdown",
   "metadata": {},
   "source": [
    "#### Definición y uso\n",
    "El ``setdefault()`` método devuelve el valor del elemento con la clave especificada.\n",
    "\n",
    "Si la clave no existe, inserte la clave, con el valor especificado, vea el ejemplo a continuación\n",
    "\n",
    "#### Sintaxis\n",
    "``dictionary.setdefault(keyname, value)``"
   ]
  },
  {
   "cell_type": "code",
   "execution_count": 97,
   "metadata": {},
   "outputs": [
    {
     "name": "stdout",
     "output_type": "stream",
     "text": [
      "white\n"
     ]
    }
   ],
   "source": [
    "# Obtenga el valor del elemento \"color\", si el elemento \"color\" no existe, inserte \"color\" con el valor \"blanco\":\n",
    "\n",
    "car = {\n",
    "  \"brand\": \"Ford\",\n",
    "  \"model\": \"Mustang\",\n",
    "  \"year\": 1964\n",
    "}\n",
    "\n",
    "x = car.setdefault(\"color\", \"white\")\n",
    "\n",
    "print(x)"
   ]
  },
  {
   "cell_type": "markdown",
   "metadata": {},
   "source": [
    "### Python Dictionary update() Method"
   ]
  },
  {
   "cell_type": "code",
   "execution_count": 98,
   "metadata": {},
   "outputs": [
    {
     "name": "stdout",
     "output_type": "stream",
     "text": [
      "{'brand': 'Ford', 'model': 'Mustang', 'year': 1964, 'color': 'White'}\n"
     ]
    }
   ],
   "source": [
    "# Insertar un elemento en el diccionario:\n",
    "\n",
    "car = {\n",
    "  \"brand\": \"Ford\",\n",
    "  \"model\": \"Mustang\",\n",
    "  \"year\": 1964\n",
    "}\n",
    "\n",
    "car.update({\"color\": \"White\"})\n",
    "\n",
    "print(car)"
   ]
  },
  {
   "cell_type": "markdown",
   "metadata": {},
   "source": [
    "#### Definición y uso\n",
    "El ``update()`` método inserta los elementos especificados en el diccionario.\n",
    "\n",
    "Los elementos especificados pueden ser un diccionario o un objeto iterable con pares de valores clave.\n",
    "\n",
    "#### Sintaxis\n",
    "``dictionary.update(iterable)``"
   ]
  },
  {
   "cell_type": "markdown",
   "metadata": {},
   "source": [
    "### Python Dictionary ``values()`` Method"
   ]
  },
  {
   "cell_type": "code",
   "execution_count": 100,
   "metadata": {},
   "outputs": [
    {
     "name": "stdout",
     "output_type": "stream",
     "text": [
      "dict_values(['Ford', 'Mustang', 1964])\n"
     ]
    }
   ],
   "source": [
    "# Devolver los valores:\n",
    "\n",
    "car = {\n",
    "  \"brand\": \"Ford\",\n",
    "  \"model\": \"Mustang\",\n",
    "  \"year\": 1964\n",
    "}\n",
    "\n",
    "x = car.values()\n",
    "\n",
    "print(x)\n"
   ]
  },
  {
   "cell_type": "markdown",
   "metadata": {},
   "source": [
    "#### Definición y uso\n",
    "El ``values()`` método devuelve un objeto de vista. El objeto de vista contiene los valores del diccionario, como una lista.\n",
    "\n",
    "El objeto de vista reflejará cualquier cambio realizado en el diccionario, vea el ejemplo a continuación.\n",
    "\n",
    "#### Sintaxis\n",
    "``dictionary.values()``"
   ]
  },
  {
   "cell_type": "code",
   "execution_count": 101,
   "metadata": {},
   "outputs": [
    {
     "name": "stdout",
     "output_type": "stream",
     "text": [
      "dict_values(['Ford', 'Mustang', 2018])\n"
     ]
    }
   ],
   "source": [
    "# Cuando se cambia un valor en el diccionario, el objeto de vista también se actualiza:\n",
    "\n",
    "car = {\n",
    "  \"brand\": \"Ford\",\n",
    "  \"model\": \"Mustang\",\n",
    "  \"year\": 1964\n",
    "}\n",
    "\n",
    "x = car.values()\n",
    "\n",
    "car[\"year\"] = 2018\n",
    "\n",
    "print(x)"
   ]
  },
  {
   "cell_type": "markdown",
   "metadata": {},
   "source": [
    "# Python If ... Else\n",
    "## Condiciones de Python y sentencias If\n",
    "Python admite las condiciones lógicas habituales de las matemáticas:\n",
    "\n",
    "Es igual a: ``a == b``\n",
    "No es igual a: ``a != b``\n",
    "Menos que: ``a < b``\n",
    "Menor o igual que: ``a <= b``\n",
    "Mayor que: ``a > b``\n",
    "Mayor o igual que: ``a >= b``\n",
    "Estas condiciones se pueden usar de varias maneras, más comúnmente en \"sentencias if\" y bucles.\n",
    "\n",
    "Una \"sentencia if\" se escribe utilizando la palabra clave ``if``."
   ]
  },
  {
   "cell_type": "code",
   "execution_count": 102,
   "metadata": {},
   "outputs": [
    {
     "name": "stdout",
     "output_type": "stream",
     "text": [
      "b is greater than a\n"
     ]
    }
   ],
   "source": [
    "# Si declaración:\n",
    "a = 33\n",
    "b = 200\n",
    "\n",
    "if b > a:\n",
    "  print(\"b is greater than a\")"
   ]
  },
  {
   "cell_type": "markdown",
   "metadata": {},
   "source": [
    "En este ejemplo, usamos dos variables, ``a`` y ``b``, que se usan como parte de la declaración if para probar si ``b`` es mayor que ``a``. Como ``a`` es ``33`` y ``b`` es ``200``, sabemos que 200 es mayor que 33, por lo que imprimimos en pantalla que \"b es mayor que a\".\n",
    "\n",
    "## Sangría\n",
    "Python se basa en la sangría (espacio en blanco al comienzo de una línea) para definir el alcance en el código. Otros lenguajes de programación a menudo usan corchetes para este propósito."
   ]
  },
  {
   "cell_type": "code",
   "execution_count": 104,
   "metadata": {},
   "outputs": [
    {
     "name": "stdout",
     "output_type": "stream",
     "text": [
      "b is greater than a\n"
     ]
    }
   ],
   "source": [
    "# Si declaración, sin sangría (generará un error):\n",
    "\n",
    "a = 33\n",
    "b = 200\n",
    "if b > a:\n",
    "    print(\"b is greater than a\") # you will get an error"
   ]
  },
  {
   "cell_type": "markdown",
   "metadata": {},
   "source": [
    "## elif\n",
    "La palabra clave ``elif`` es la forma en que Python dice \"si las condiciones anteriores no fueron ciertas, intente con esta condición\"."
   ]
  },
  {
   "cell_type": "code",
   "execution_count": 107,
   "metadata": {},
   "outputs": [
    {
     "name": "stdout",
     "output_type": "stream",
     "text": [
      "a and b are equal\n"
     ]
    }
   ],
   "source": [
    "a = 33\n",
    "b = 33\n",
    "if b > a:\n",
    "  print(\"b is greater than a\")\n",
    "elif a == b:\n",
    "  print(\"a and b are equal\")"
   ]
  },
  {
   "cell_type": "markdown",
   "metadata": {},
   "source": [
    "En este ejemplo , ``a`` es igual a ``b``, por lo que la primera condición no es verdadera, pero la condición ``elif`` es verdadera, por lo que imprimimos en la pantalla que \"a y b son iguales\".\n",
    "\n",
    "## Demás\n",
    "La palabra clave ``else`` captura cualquier cosa que no esté capturada por las condiciones anteriores."
   ]
  },
  {
   "cell_type": "code",
   "execution_count": 112,
   "metadata": {},
   "outputs": [
    {
     "name": "stdout",
     "output_type": "stream",
     "text": [
      "a is greater than b\n"
     ]
    }
   ],
   "source": [
    "a = 200\n",
    "b = 33\n",
    "if b > a:\n",
    "  print(\"b is greater than a\")\n",
    "elif a == b:\n",
    "  print(\"a and b are equal\")\n",
    "else:\n",
    "  print(\"a is greater than b\")"
   ]
  },
  {
   "cell_type": "markdown",
   "metadata": {},
   "source": [
    "En este ejemplo , ``a`` es mayor que ``b``, por lo que la primera condición no es verdadera, tampoco la condición ``elif`` es verdadera, así que vamos a la condición ``else`` e imprimimos en la pantalla que \"a es mayor que b\".\n",
    "\n",
    "También puede tener un ``else`` sin el ``elif``:"
   ]
  },
  {
   "cell_type": "code",
   "execution_count": 113,
   "metadata": {},
   "outputs": [
    {
     "name": "stdout",
     "output_type": "stream",
     "text": [
      "b is not greater than a\n"
     ]
    }
   ],
   "source": [
    "a = 200\n",
    "b = 33\n",
    "if b > a:\n",
    "  print(\"b is greater than a\")\n",
    "else:\n",
    "  print(\"b is not greater than a\")"
   ]
  },
  {
   "cell_type": "markdown",
   "metadata": {},
   "source": [
    "## Mano Corta if\n",
    "Si solo tiene una declaración para ejecutar, puede colocarla en la misma línea que la declaración if."
   ]
  },
  {
   "cell_type": "code",
   "execution_count": 115,
   "metadata": {},
   "outputs": [
    {
     "name": "stdout",
     "output_type": "stream",
     "text": [
      "a is greater than b\n"
     ]
    }
   ],
   "source": [
    "# Una línea si declaración:\n",
    "a = 200\n",
    "b = 33\n",
    "\n",
    "if a > b: print(\"a is greater than b\")"
   ]
  },
  {
   "cell_type": "markdown",
   "metadata": {},
   "source": [
    "## Mano corta If ... Else\n",
    "Si solo tiene una declaración para ejecutar, una para if y otra para else, puede ponerlas todas en la misma línea:"
   ]
  },
  {
   "cell_type": "code",
   "execution_count": 118,
   "metadata": {},
   "outputs": [
    {
     "name": "stdout",
     "output_type": "stream",
     "text": [
      "B\n"
     ]
    }
   ],
   "source": [
    "# Una línea si otra declaración:\n",
    "\n",
    "a = 2\n",
    "b = 330\n",
    "print(\"A\") if a > b else print(\"B\")"
   ]
  },
  {
   "cell_type": "markdown",
   "metadata": {},
   "source": [
    "Esta técnica se conoce como **Operadores Ternarios o Expresiones Condicionales**.\n",
    "\n",
    "También puede tener varias declaraciones else en la misma línea:"
   ]
  },
  {
   "cell_type": "code",
   "execution_count": 121,
   "metadata": {},
   "outputs": [
    {
     "name": "stdout",
     "output_type": "stream",
     "text": [
      "A\n"
     ]
    }
   ],
   "source": [
    "# Declaración if else de una línea, con 3 condiciones:\n",
    "\n",
    "a = 331\n",
    "b = 330\n",
    "print(\"A\") if a > b else print(\"=\") if a == b else print(\"B\")"
   ]
  },
  {
   "cell_type": "markdown",
   "metadata": {},
   "source": [
    "## And\n",
    "La palabra clave ``and`` es un operador lógico y se usa para combinar sentencias condicionales:"
   ]
  },
  {
   "cell_type": "code",
   "execution_count": 122,
   "metadata": {},
   "outputs": [
    {
     "name": "stdout",
     "output_type": "stream",
     "text": [
      "Both conditions are True\n"
     ]
    }
   ],
   "source": [
    "# Prueba si aes mayor que b, Y si c es mayor que a:\n",
    "\n",
    "a = 200\n",
    "b = 33\n",
    "c = 500\n",
    "if a > b and c > a:\n",
    "  print(\"Both conditions are True\")"
   ]
  },
  {
   "cell_type": "markdown",
   "metadata": {},
   "source": [
    "## Or\n",
    "La ``or`` palabra clave es un operador lógico y se usa para combinar declaraciones condicionales:"
   ]
  },
  {
   "cell_type": "code",
   "execution_count": 123,
   "metadata": {},
   "outputs": [
    {
     "name": "stdout",
     "output_type": "stream",
     "text": [
      "At least one of the conditions is True\n"
     ]
    }
   ],
   "source": [
    "# Prueba si aes mayor que b, O si a es mayor que c:\n",
    "\n",
    "a = 200\n",
    "b = 33\n",
    "c = 500\n",
    "if a > b or a > c:\n",
    "  print(\"At least one of the conditions is True\")"
   ]
  },
  {
   "cell_type": "markdown",
   "metadata": {},
   "source": [
    "## Not\n",
    "La ``not`` palabra clave es un operador lógico y se utiliza para invertir el resultado de la declaración condicional:"
   ]
  },
  {
   "cell_type": "code",
   "execution_count": 124,
   "metadata": {},
   "outputs": [
    {
     "name": "stdout",
     "output_type": "stream",
     "text": [
      "a is NOT greater than b\n"
     ]
    }
   ],
   "source": [
    "# Prueba si a NOT es mayor que b:\n",
    "\n",
    "a = 33\n",
    "b = 200\n",
    "if not a > b:\n",
    "  print(\"a is NOT greater than b\")"
   ]
  },
  {
   "cell_type": "markdown",
   "metadata": {},
   "source": [
    "## Nested If\n",
    "Puede tener ``if`` declaraciones dentro ``if`` de declaraciones, esto se llama declaraciones anidadas . ``if``"
   ]
  },
  {
   "cell_type": "code",
   "execution_count": 127,
   "metadata": {},
   "outputs": [
    {
     "name": "stdout",
     "output_type": "stream",
     "text": [
      "Above ten,\n",
      "and also above 20!\n"
     ]
    }
   ],
   "source": [
    "x = 41\n",
    "\n",
    "if x > 10:\n",
    "  print(\"Above ten,\")\n",
    "  if x > 20:\n",
    "    print(\"and also above 20!\")\n",
    "  else:\n",
    "    print(\"but not above 20.\")"
   ]
  },
  {
   "cell_type": "markdown",
   "metadata": {},
   "source": [
    "## La declaración de pass \n",
    "``if`` Las declaraciones no pueden estar vacías, pero si por alguna razón tiene una ``if`` declaración sin contenido, introdúzcala ``pass`` para evitar errores."
   ]
  },
  {
   "cell_type": "code",
   "execution_count": 128,
   "metadata": {},
   "outputs": [],
   "source": [
    "a = 33\n",
    "b = 200\n",
    "\n",
    "if b > a:\n",
    "  pass\n",
    "\n",
    "# having an empty if statement like this, would raise an error without the pass statement\n"
   ]
  },
  {
   "cell_type": "markdown",
   "metadata": {},
   "source": [
    "# Python While Loops\n",
    "## Bucles de Python\n",
    "Python tiene dos comandos de bucle primitivos:\n",
    "\n",
    "- ``while`` los bucles\n",
    "- ``for`` bucles\n",
    "## El ciclo while\n",
    "Con el bucle ``while`` podemos ejecutar un conjunto de declaraciones siempre que una condición sea verdadera."
   ]
  },
  {
   "cell_type": "code",
   "execution_count": 129,
   "metadata": {},
   "outputs": [
    {
     "name": "stdout",
     "output_type": "stream",
     "text": [
      "1\n",
      "2\n",
      "3\n",
      "4\n",
      "5\n"
     ]
    }
   ],
   "source": [
    "# Imprima i siempre que i sea menor que 6:\n",
    "\n",
    "i = 1\n",
    "while i < 6:\n",
    "  print(i)\n",
    "  i += 1"
   ]
  },
  {
   "cell_type": "markdown",
   "metadata": {},
   "source": [
    "**Nota**: recuerda incrementar i, o de lo contrario el ciclo continuará para siempre.\n",
    "\n",
    "El ciclo ``while`` requiere que las variables relevantes estén listas, en este ejemplo necesitamos definir una variable de indexación, ``i`` , que establecemos en 1.\n",
    "\n",
    "## La declaración de ruptura\n",
    "Con la instrucción ``break`` podemos detener el bucle incluso si la condición while es verdadera:"
   ]
  },
  {
   "cell_type": "code",
   "execution_count": 130,
   "metadata": {},
   "outputs": [
    {
     "name": "stdout",
     "output_type": "stream",
     "text": [
      "1\n",
      "2\n",
      "3\n"
     ]
    }
   ],
   "source": [
    "# Salga del bucle cuando tenga 3 años:\n",
    "\n",
    "i = 1\n",
    "while i < 6:\n",
    "  print(i)\n",
    "  if i == 3:\n",
    "    break\n",
    "  i += 1"
   ]
  },
  {
   "cell_type": "markdown",
   "metadata": {},
   "source": [
    "## La declaración de continuación\n",
    "Con la instrucción ``continuar`` podemos detener la iteración actual y continuar con la siguiente"
   ]
  },
  {
   "cell_type": "code",
   "execution_count": 131,
   "metadata": {},
   "outputs": [
    {
     "name": "stdout",
     "output_type": "stream",
     "text": [
      "1\n",
      "2\n",
      "4\n",
      "5\n",
      "6\n"
     ]
    }
   ],
   "source": [
    "# Continúe con la siguiente iteración si i es 3:\n",
    "\n",
    "i = 0\n",
    "while i < 6:\n",
    "  i += 1\n",
    "  if i == 3:\n",
    "    continue\n",
    "  print(i)"
   ]
  },
  {
   "cell_type": "markdown",
   "metadata": {},
   "source": [
    "## La declaración más\n",
    "Con la declaración ``else`` podemos ejecutar un bloque de código una vez cuando la condición ya no sea verdadera:"
   ]
  },
  {
   "cell_type": "code",
   "execution_count": 132,
   "metadata": {},
   "outputs": [
    {
     "name": "stdout",
     "output_type": "stream",
     "text": [
      "1\n",
      "2\n",
      "3\n",
      "4\n",
      "5\n",
      "i is no longer less than 6\n"
     ]
    }
   ],
   "source": [
    "# Imprima un mensaje una vez que la condición sea falsa:\n",
    "\n",
    "i = 1\n",
    "while i < 6:\n",
    "  print(i)\n",
    "  i += 1\n",
    "else:\n",
    "  print(\"i is no longer less than 6\")"
   ]
  },
  {
   "cell_type": "markdown",
   "metadata": {},
   "source": [
    "# Python For Loops\n",
    "## Python para bucles\n",
    "Un bucle ``for`` se usa para iterar sobre una secuencia (es decir, una lista, una tupla, un diccionario, un conjunto o una cadena).\n",
    "\n",
    "Esto se parece menos a la palabra clave ``for`` en otros lenguajes de programación y funciona más como un método iterador como se encuentra en otros lenguajes de programación orientados a objetos.\n",
    "\n",
    "Con el bucle ``for`` podemos ejecutar un conjunto de sentencias, una vez por cada elemento de una lista, tupla, conjunto, etc."
   ]
  },
  {
   "cell_type": "code",
   "execution_count": 133,
   "metadata": {},
   "outputs": [
    {
     "name": "stdout",
     "output_type": "stream",
     "text": [
      "apple\n",
      "banana\n",
      "cherry\n"
     ]
    }
   ],
   "source": [
    "fruits = [\"apple\", \"banana\", \"cherry\"]\n",
    "for x in fruits:\n",
    "  print(x)"
   ]
  },
  {
   "cell_type": "markdown",
   "metadata": {},
   "source": [
    "El ciclo ``for`` no requiere una variable de indexación para establecer de antemano.\n",
    "\n",
    "## Bucle a través de una cadena\n",
    "Incluso las cadenas son objetos iterables, contienen una secuencia de caracteres:"
   ]
  },
  {
   "cell_type": "code",
   "execution_count": 134,
   "metadata": {},
   "outputs": [
    {
     "name": "stdout",
     "output_type": "stream",
     "text": [
      "b\n",
      "a\n",
      "n\n",
      "a\n",
      "n\n",
      "a\n"
     ]
    }
   ],
   "source": [
    "# Repasa las letras de la palabra \"banana\":\n",
    "\n",
    "for x in \"banana\":\n",
    "  print(x)"
   ]
  },
  {
   "cell_type": "markdown",
   "metadata": {},
   "source": [
    "## La declaración de ruptura\n",
    "Con la instrucción ``break`` podemos detener el bucle antes de que haya recorrido todos los elementos:"
   ]
  },
  {
   "cell_type": "code",
   "execution_count": 135,
   "metadata": {},
   "outputs": [
    {
     "name": "stdout",
     "output_type": "stream",
     "text": [
      "apple\n",
      "banana\n"
     ]
    }
   ],
   "source": [
    "# Salga del bucle cuando xsea \"banana\":\n",
    "fruits = [\"apple\", \"banana\", \"cherry\"]\n",
    "for x in fruits:\n",
    "  print(x) \n",
    "  if x == \"banana\":\n",
    "    break"
   ]
  },
  {
   "cell_type": "code",
   "execution_count": 136,
   "metadata": {},
   "outputs": [
    {
     "name": "stdout",
     "output_type": "stream",
     "text": [
      "apple\n"
     ]
    }
   ],
   "source": [
    "# Salga del ciclo cuando xsea \"banana\", pero esta vez el descanso viene antes de la impresión:\n",
    "\n",
    "fruits = [\"apple\", \"banana\", \"cherry\"]\n",
    "for x in fruits:\n",
    "  if x == \"banana\":\n",
    "    break\n",
    "  print(x)"
   ]
  },
  {
   "cell_type": "markdown",
   "metadata": {},
   "source": [
    "## La declaración de continuación\n",
    "Con la instrucción ``continuar`` podemos detener la iteración actual del ciclo y continuar con la siguiente:"
   ]
  },
  {
   "cell_type": "code",
   "execution_count": 137,
   "metadata": {},
   "outputs": [
    {
     "name": "stdout",
     "output_type": "stream",
     "text": [
      "apple\n",
      "cherry\n"
     ]
    }
   ],
   "source": [
    "# No imprimir plátano:\n",
    "\n",
    "fruits = [\"apple\", \"banana\", \"cherry\"]\n",
    "for x in fruits:\n",
    "  if x == \"banana\":\n",
    "    continue\n",
    "  print(x)"
   ]
  },
  {
   "cell_type": "markdown",
   "metadata": {},
   "source": [
    "## La función rango()\n",
    "Para recorrer un conjunto de código un número específico de veces, podemos usar la función ``range()``,\n",
    "La función ``range()`` devuelve una secuencia de números, comenzando desde 0 de forma predeterminada, se incrementa en 1 (de forma predeterminada) y termina en un número específico."
   ]
  },
  {
   "cell_type": "code",
   "execution_count": 139,
   "metadata": {},
   "outputs": [
    {
     "name": "stdout",
     "output_type": "stream",
     "text": [
      "0\n",
      "1\n",
      "2\n",
      "3\n",
      "4\n",
      "5\n"
     ]
    }
   ],
   "source": [
    "# Usando la función range():\n",
    "for x in range(6):\n",
    "  print(x)"
   ]
  },
  {
   "cell_type": "markdown",
   "metadata": {},
   "source": [
    "Tenga en cuenta que ``range(6)`` no son los valores de 0 a 6, sino los valores de 0 a 5.\n",
    "\n",
    "La función ``range()`` por defecto es 0 como valor inicial, sin embargo, es posible especificar el valor inicial agregando un parámetro: ``range(2, 6)``, lo que significa valores del 2 al 6 (pero sin incluir el 6):"
   ]
  },
  {
   "cell_type": "code",
   "execution_count": 140,
   "metadata": {},
   "outputs": [
    {
     "name": "stdout",
     "output_type": "stream",
     "text": [
      "2\n",
      "3\n",
      "4\n",
      "5\n"
     ]
    }
   ],
   "source": [
    "# Usando el parámetro de inicio:\n",
    "\n",
    "for x in range(2, 6):\n",
    "  print(x)"
   ]
  },
  {
   "cell_type": "markdown",
   "metadata": {},
   "source": [
    "La función ``range()`` por defecto incrementa la secuencia en 1, sin embargo, es posible especificar el valor del incremento agregando un tercer parámetro: ``range(2, 30, 3 )``:"
   ]
  },
  {
   "cell_type": "code",
   "execution_count": 141,
   "metadata": {},
   "outputs": [
    {
     "name": "stdout",
     "output_type": "stream",
     "text": [
      "2\n",
      "5\n",
      "8\n",
      "11\n",
      "14\n",
      "17\n",
      "20\n",
      "23\n",
      "26\n",
      "29\n"
     ]
    }
   ],
   "source": [
    "# Incremente la secuencia con 3 (el valor predeterminado es 1):\n",
    "\n",
    "for x in range(2, 30, 3):\n",
    "  print(x)"
   ]
  },
  {
   "cell_type": "markdown",
   "metadata": {},
   "source": [
    "## Más en For Loop\n",
    "La ``else`` palabra clave en un ``for```ciclo especifica un bloque de código que se ejecutará cuando finalice el ciclo:"
   ]
  },
  {
   "cell_type": "code",
   "execution_count": 142,
   "metadata": {},
   "outputs": [
    {
     "name": "stdout",
     "output_type": "stream",
     "text": [
      "0\n",
      "1\n",
      "2\n",
      "3\n",
      "4\n",
      "5\n",
      "Finally finished!\n"
     ]
    }
   ],
   "source": [
    "# Imprime todos los números del 0 al 5 e imprime un mensaje cuando el ciclo haya terminado:\n",
    "\n",
    "for x in range(6):\n",
    "  print(x)\n",
    "else:\n",
    "  print(\"Finally finished!\")"
   ]
  },
  {
   "cell_type": "markdown",
   "metadata": {},
   "source": [
    "**Nota**: El ``else`` bloque NO se ejecutará si el bucle se detiene mediante una ``break`` instrucción."
   ]
  },
  {
   "cell_type": "code",
   "execution_count": 143,
   "metadata": {},
   "outputs": [
    {
     "name": "stdout",
     "output_type": "stream",
     "text": [
      "0\n",
      "1\n",
      "2\n"
     ]
    }
   ],
   "source": [
    "# Rompa el ciclo cuando xsea 3 y vea qué sucede con el elsebloque:\n",
    "\n",
    "for x in range(6):\n",
    "  if x == 3: break\n",
    "  print(x)\n",
    "else:\n",
    "  print(\"Finally finished!\")"
   ]
  },
  {
   "cell_type": "markdown",
   "metadata": {},
   "source": [
    "## Bucles anidados\n",
    "Un bucle anidado es un bucle dentro de un bucle.\n",
    "\n",
    "El \"bucle interno\" se ejecutará una vez por cada iteración del \"bucle externo\":"
   ]
  },
  {
   "cell_type": "code",
   "execution_count": 144,
   "metadata": {},
   "outputs": [
    {
     "name": "stdout",
     "output_type": "stream",
     "text": [
      "red apple\n",
      "red banana\n",
      "red cherry\n",
      "big apple\n",
      "big banana\n",
      "big cherry\n",
      "tasty apple\n",
      "tasty banana\n",
      "tasty cherry\n"
     ]
    }
   ],
   "source": [
    "# Escriba cada adjetivo para cada fruta:\n",
    "\n",
    "adj = [\"red\", \"big\", \"tasty\"]\n",
    "fruits = [\"apple\", \"banana\", \"cherry\"]\n",
    "\n",
    "for x in adj:\n",
    "  for y in fruits:\n",
    "    print(x, y)"
   ]
  },
  {
   "cell_type": "markdown",
   "metadata": {},
   "source": [
    "## La declaración de pase\n",
    "``for`` los bucles no pueden estar vacíos, pero si por alguna razón tiene un ``for`` bucle sin contenido, ingrese la ``pass`` declaración para evitar recibir un error."
   ]
  },
  {
   "cell_type": "code",
   "execution_count": 145,
   "metadata": {},
   "outputs": [],
   "source": [
    "for x in [0, 1, 2]:\n",
    "  pass\n",
    "\n",
    "# having an empty for loop like this, would raise an error without the pass statement"
   ]
  },
  {
   "cell_type": "markdown",
   "metadata": {},
   "source": [
    "# Python Functions\n",
    "Una función es un bloque de código que solo se ejecuta cuando se le llama.\n",
    "\n",
    "Puede pasar datos, conocidos como parámetros, a una función.\n",
    "\n",
    "Una función puede devolver datos como resultado.\n",
    "\n",
    "## Crear una función\n",
    "En Python, una función se define usando la palabra clave ``def``:"
   ]
  },
  {
   "cell_type": "code",
   "execution_count": 149,
   "metadata": {},
   "outputs": [
    {
     "name": "stdout",
     "output_type": "stream",
     "text": [
      "Hello from a function\n"
     ]
    }
   ],
   "source": [
    "def my_function():\n",
    "  print(\"Hello from a function\")\n",
    "\n",
    "my_function()"
   ]
  },
  {
   "cell_type": "markdown",
   "metadata": {},
   "source": [
    "## Llamar a una función\n",
    "Para llamar a una función, use el nombre de la función seguido de paréntesis:"
   ]
  },
  {
   "cell_type": "code",
   "execution_count": 150,
   "metadata": {},
   "outputs": [
    {
     "name": "stdout",
     "output_type": "stream",
     "text": [
      "Hello from a function\n"
     ]
    }
   ],
   "source": [
    "def my_function():\n",
    "  print(\"Hello from a function\")\n",
    "\n",
    "my_function()"
   ]
  },
  {
   "cell_type": "markdown",
   "metadata": {},
   "source": [
    "## Argumentos\n",
    "La información se puede pasar a funciones como argumentos.\n",
    "\n",
    "Los argumentos se especifican después del nombre de la función, entre paréntesis. Puede agregar tantos argumentos como desee, simplemente sepárelos con una coma.\n",
    "\n",
    "El siguiente ejemplo tiene una función con un argumento (fname). Cuando se llama a la función, pasamos un nombre, que se usa dentro de la función para imprimir el nombre completo:"
   ]
  },
  {
   "cell_type": "code",
   "execution_count": 151,
   "metadata": {},
   "outputs": [
    {
     "name": "stdout",
     "output_type": "stream",
     "text": [
      "Emil Refsnes\n",
      "Tobias Refsnes\n",
      "Linus Refsnes\n"
     ]
    }
   ],
   "source": [
    "def my_function(fname):\n",
    "  print(fname + \" Refsnes\")\n",
    "\n",
    "my_function(\"Emil\")\n",
    "my_function(\"Tobias\")\n",
    "my_function(\"Linus\")"
   ]
  },
  {
   "cell_type": "markdown",
   "metadata": {},
   "source": [
    "Los argumentos a menudo se reducen a args en la documentación de Python.\n",
    "\n",
    "## ¿Parámetros o argumentos?\n",
    "Los términos *parámetro* y *argumento* se pueden usar para lo mismo: información que se pasa a una función.\n",
    "\n",
    "Desde la perspectiva de una función:\n",
    "\n",
    "Un parámetro es la variable que aparece entre paréntesis en la definición de la función.\n",
    "\n",
    "Un argumento es el valor que se envía a la función cuando se llama.\n",
    "\n",
    "## Número de argumentos\n",
    "Por defecto, una función debe llamarse con el número correcto de argumentos. Lo que significa que si su función espera 2 argumentos, debe llamar a la función con 2 argumentos, ni más ni menos."
   ]
  },
  {
   "cell_type": "code",
   "execution_count": 152,
   "metadata": {},
   "outputs": [
    {
     "name": "stdout",
     "output_type": "stream",
     "text": [
      "Emil Refsnes\n"
     ]
    }
   ],
   "source": [
    "# Esta función espera 2 argumentos y obtiene 2 argumentos:\n",
    "\n",
    "def my_function(fname, lname):\n",
    "  print(fname + \" \" + lname)\n",
    "\n",
    "my_function(\"Emil\", \"Refsnes\")"
   ]
  },
  {
   "cell_type": "markdown",
   "metadata": {},
   "source": [
    "Si intenta llamar a la función con 1 o 3 argumentos, obtendrá un error:"
   ]
  },
  {
   "cell_type": "code",
   "execution_count": 155,
   "metadata": {},
   "outputs": [
    {
     "name": "stdout",
     "output_type": "stream",
     "text": [
      "Emil 3\n"
     ]
    }
   ],
   "source": [
    "# Esta función espera 2 argumentos, pero solo obtiene 1:\n",
    "\n",
    "def my_function(fname, lname):\n",
    "  print(fname + \" \" + lname)\n",
    "\n",
    "my_function(\"Emil\", \"3\")"
   ]
  },
  {
   "cell_type": "markdown",
   "metadata": {},
   "source": [
    "## Argumentos arbitrarios, *args\n",
    "Si no sabe cuántos argumentos se pasarán a su función, agregue un ``*`` antes del nombre del parámetro en la definición de la función.\n",
    "\n",
    "De esta manera, la función recibirá una *tupla* de argumentos y podrá acceder a los elementos en consecuencia:"
   ]
  },
  {
   "cell_type": "code",
   "execution_count": 156,
   "metadata": {},
   "outputs": [
    {
     "name": "stdout",
     "output_type": "stream",
     "text": [
      "The youngest child is Linus\n"
     ]
    }
   ],
   "source": [
    "# Si se desconoce el número de argumentos, agregue un *antes del nombre del parámetro:\n",
    "def my_function(*kids):\n",
    "  print(\"The youngest child is \" + kids[2])\n",
    "\n",
    "my_function(\"Emil\", \"Tobias\", \"Linus\")"
   ]
  },
  {
   "cell_type": "markdown",
   "metadata": {},
   "source": [
    "Los argumentos arbitrarios a menudo se abrevian a *args en la documentación de Python.\n",
    "\n",
    "## Argumentos de palabras clave\n",
    "También puede enviar argumentos con la sintaxis *clave* = *valor*.\n",
    "\n",
    "De esta manera el orden de los argumentos no importa."
   ]
  },
  {
   "cell_type": "code",
   "execution_count": 158,
   "metadata": {},
   "outputs": [
    {
     "name": "stdout",
     "output_type": "stream",
     "text": [
      "The youngest child is Linus\n"
     ]
    }
   ],
   "source": [
    "def my_function(child3, child2, child1):\n",
    "  print(\"The youngest child is \" + child3)\n",
    "\n",
    "my_function(child1 = \"Emil\", child2 = \"Tobias\", child3 = \"Linus\")"
   ]
  },
  {
   "cell_type": "markdown",
   "metadata": {},
   "source": [
    "La frase Argumentos de palabras clave a menudo se abrevia como kwargs en la documentación de Python.\n",
    "\n",
    "## Argumentos de palabras clave arbitrarias, **kwargs\n",
    "Si no sabe cuántos argumentos de palabras clave se pasarán a su función, agregue dos asteriscos: ``**`` antes del nombre del parámetro en la definición de la función.\n",
    "\n",
    "De esta forma, la función recibirá un *diccionario* de argumentos y podrá acceder a los elementos en consecuencia:"
   ]
  },
  {
   "cell_type": "code",
   "execution_count": 159,
   "metadata": {},
   "outputs": [
    {
     "name": "stdout",
     "output_type": "stream",
     "text": [
      "His last name is Refsnes\n"
     ]
    }
   ],
   "source": [
    "# Si se desconoce el número de argumentos de palabras clave, agregue un doble **antes del nombre del parámetro:\n",
    "\n",
    "def my_function(**kid):\n",
    "  print(\"His last name is \" + kid[\"lname\"])\n",
    "\n",
    "my_function(fname = \"Tobias\", lname = \"Refsnes\")"
   ]
  },
  {
   "cell_type": "markdown",
   "metadata": {},
   "source": [
    "Los argumentos Kword arbitrarios a menudo se reducen a **kwargs en la documentación de Python.\n",
    "\n",
    "## Valor de parámetro predeterminado\n",
    "El siguiente ejemplo muestra cómo utilizar un valor de parámetro predeterminado.\n",
    "\n",
    "Si llamamos a la función sin argumento, usa el valor predeterminado:"
   ]
  },
  {
   "cell_type": "code",
   "execution_count": 160,
   "metadata": {},
   "outputs": [
    {
     "name": "stdout",
     "output_type": "stream",
     "text": [
      "I am from Sweden\n",
      "I am from India\n",
      "I am from Norway\n",
      "I am from Brazil\n"
     ]
    }
   ],
   "source": [
    "def my_function(country = \"Norway\"):\n",
    "  print(\"I am from \" + country)\n",
    "\n",
    "my_function(\"Sweden\")\n",
    "my_function(\"India\")\n",
    "my_function()\n",
    "my_function(\"Brazil\")"
   ]
  },
  {
   "cell_type": "markdown",
   "metadata": {},
   "source": [
    "## Pasar una lista como argumento\n",
    "Puede enviar cualquier tipo de datos de argumento a una función (cadena, número, lista, diccionario, etc.), y se tratará como el mismo tipo de datos dentro de la función.\n",
    "\n",
    "Por ejemplo, si envía una Lista como argumento, seguirá siendo una Lista cuando llegue a la función:"
   ]
  },
  {
   "cell_type": "code",
   "execution_count": 162,
   "metadata": {},
   "outputs": [
    {
     "name": "stdout",
     "output_type": "stream",
     "text": [
      "apple\n",
      "banana\n",
      "cherry\n",
      "classic 350\n",
      "scram 411\n"
     ]
    }
   ],
   "source": [
    "def my_function(food):\n",
    "  for x in food:\n",
    "    print(x)\n",
    "\n",
    "fruits = [\"apple\", \"banana\", \"cherry\"]\n",
    "motorcycle = [\"classic 350\", \"scram 411\"]\n",
    "\n",
    "my_function(fruits)\n",
    "my_function(motorcycle)"
   ]
  },
  {
   "cell_type": "markdown",
   "metadata": {},
   "source": [
    "## Valores devueltos\n",
    "Para permitir que una función devuelva un valor, use la ``return`` declaración:"
   ]
  },
  {
   "cell_type": "code",
   "execution_count": 163,
   "metadata": {},
   "outputs": [
    {
     "name": "stdout",
     "output_type": "stream",
     "text": [
      "15\n",
      "25\n",
      "45\n"
     ]
    }
   ],
   "source": [
    "def my_function(x):\n",
    "  return 5 * x\n",
    "\n",
    "print(my_function(3))\n",
    "print(my_function(5))\n",
    "print(my_function(9))"
   ]
  },
  {
   "cell_type": "markdown",
   "metadata": {},
   "source": [
    "## La declaración de pase\n",
    "``function`` las definiciones no pueden estar vacías, pero si por algún motivo tiene una ``function`` definición sin contenido, introdúzcala ``pass`` para evitar errores."
   ]
  },
  {
   "cell_type": "code",
   "execution_count": 164,
   "metadata": {},
   "outputs": [],
   "source": [
    "def myfunction():\n",
    "  pass\n",
    "\n",
    "# having an empty function definition like this, would raise an error without the pass statement"
   ]
  },
  {
   "cell_type": "markdown",
   "metadata": {},
   "source": [
    "## recursividad\n",
    "Python también acepta la función recursiva, lo que significa que una función definida puede llamarse a sí misma.\n",
    "\n",
    "La recursividad es un concepto matemático y de programación común. Significa que una función se llama a sí misma. Esto tiene la ventaja de que puede recorrer los datos para llegar a un resultado.\n",
    "\n",
    "El desarrollador debe tener mucho cuidado con la recursividad, ya que puede ser bastante fácil escribir una función que nunca termina, o una que usa cantidades excesivas de memoria o potencia del procesador. Sin embargo, cuando se escribe correctamente, la recursión puede ser un enfoque de programación muy eficiente y matemáticamente elegante.\n",
    "\n",
    "En este ejemplo, ``tri_recursion()`` es una función que hemos definido para llamarse a sí misma (\"recursión\"). Usamos la variable ``k`` como los datos, que decrementa ( ``-1`` ) cada vez que recursamos. La recursión termina cuando la condición no es mayor que 0 (es decir, cuando es 0).\n",
    "\n",
    "Para un nuevo desarrollador, puede tomar algún tiempo averiguar cómo funciona exactamente esto, la mejor manera de averiguarlo es probándolo y modificándolo."
   ]
  },
  {
   "cell_type": "code",
   "execution_count": 166,
   "metadata": {},
   "outputs": [
    {
     "name": "stdout",
     "output_type": "stream",
     "text": [
      "\n",
      "\n",
      "Recursion Example Results\n",
      "1\n",
      "3\n",
      "6\n",
      "10\n",
      "15\n",
      "21\n"
     ]
    },
    {
     "data": {
      "text/plain": [
       "21"
      ]
     },
     "execution_count": 166,
     "metadata": {},
     "output_type": "execute_result"
    }
   ],
   "source": [
    "# Ejemplo de recursividad\n",
    "\n",
    "def tri_recursion(k):\n",
    "  if(k > 0):\n",
    "    result = k + tri_recursion(k - 1)\n",
    "    print(result)\n",
    "  else:\n",
    "    result = 0\n",
    "  return result\n",
    "\n",
    "print(\"\\n\\nRecursion Example Results\")\n",
    "tri_recursion(6)"
   ]
  },
  {
   "cell_type": "markdown",
   "metadata": {},
   "source": [
    "# Python Lambda\n",
    "Una función lambda es una pequeña función anónima.\n",
    "\n",
    "Una función lambda puede tomar cualquier cantidad de argumentos, pero solo puede tener una expresión.\n",
    "\n",
    "## Sintaxis\n",
    "``lambda arguments : expression``\n",
    "Se ejecuta la expresión y se devuelve el resultado:"
   ]
  },
  {
   "cell_type": "code",
   "execution_count": 167,
   "metadata": {},
   "outputs": [
    {
     "name": "stdout",
     "output_type": "stream",
     "text": [
      "15\n"
     ]
    }
   ],
   "source": [
    "# Agregue 10 al argumento a y devuelva el resultado:\n",
    "\n",
    "x = lambda a : a + 10\n",
    "print(x(5))"
   ]
  },
  {
   "cell_type": "markdown",
   "metadata": {},
   "source": [
    "Las funciones Lambda pueden tomar cualquier cantidad de argumentos:"
   ]
  },
  {
   "cell_type": "code",
   "execution_count": 168,
   "metadata": {},
   "outputs": [
    {
     "name": "stdout",
     "output_type": "stream",
     "text": [
      "30\n"
     ]
    }
   ],
   "source": [
    "# Multiplique argumento acon argumento by devuelva el resultado:\n",
    "\n",
    "x = lambda a, b : a * b\n",
    "print(x(5, 6))"
   ]
  },
  {
   "cell_type": "code",
   "execution_count": 169,
   "metadata": {},
   "outputs": [
    {
     "name": "stdout",
     "output_type": "stream",
     "text": [
      "13\n"
     ]
    }
   ],
   "source": [
    "# Resumir argumento a, by cy devolver el resultado:\n",
    "\n",
    "x = lambda a, b, c : a + b + c\n",
    "print(x(5, 6, 2))"
   ]
  },
  {
   "cell_type": "markdown",
   "metadata": {},
   "source": [
    "## ¿Por qué utilizar las funciones de Lambda?\n",
    "El poder de lambda se muestra mejor cuando los usa como una función anónima dentro de otra función.\n",
    "\n",
    "Digamos que tiene una definición de función que toma un argumento, y ese argumento se multiplicará con un número desconocido:\n",
    "\n",
    "```python\n",
    "def myfunc(n):\n",
    "  return lambda a : a * n\n",
    "```\n",
    "\n",
    "Use esa definición de función para hacer una función que siempre duplique el número que envía:"
   ]
  },
  {
   "cell_type": "code",
   "execution_count": 170,
   "metadata": {},
   "outputs": [
    {
     "name": "stdout",
     "output_type": "stream",
     "text": [
      "22\n"
     ]
    }
   ],
   "source": [
    "def myfunc(n):\n",
    "  return lambda a : a * n\n",
    "\n",
    "mydoubler = myfunc(2)\n",
    "\n",
    "print(mydoubler(11))"
   ]
  },
  {
   "cell_type": "markdown",
   "metadata": {},
   "source": [
    "O use la misma definición de función para hacer una función que siempre triplique el número que envía:"
   ]
  },
  {
   "cell_type": "code",
   "execution_count": 171,
   "metadata": {},
   "outputs": [
    {
     "name": "stdout",
     "output_type": "stream",
     "text": [
      "33\n"
     ]
    }
   ],
   "source": [
    "def myfunc(n):\n",
    "  return lambda a : a * n\n",
    "\n",
    "mytripler = myfunc(3)\n",
    "\n",
    "print(mytripler(11))"
   ]
  },
  {
   "cell_type": "markdown",
   "metadata": {},
   "source": [
    "O use la misma definición de función para hacer ambas funciones, en el mismo programa:"
   ]
  },
  {
   "cell_type": "code",
   "execution_count": 172,
   "metadata": {},
   "outputs": [
    {
     "name": "stdout",
     "output_type": "stream",
     "text": [
      "22\n",
      "33\n"
     ]
    }
   ],
   "source": [
    "def myfunc(n):\n",
    "  return lambda a : a * n\n",
    "\n",
    "mydoubler = myfunc(2)\n",
    "mytripler = myfunc(3)\n",
    "\n",
    "print(mydoubler(11))\n",
    "print(mytripler(11))"
   ]
  },
  {
   "cell_type": "markdown",
   "metadata": {},
   "source": [
    "Utilice funciones lambda cuando se requiera una función anónima durante un breve período de tiempo."
   ]
  },
  {
   "cell_type": "markdown",
   "metadata": {},
   "source": [
    "# Python Arrays\n",
    "**Nota**: Python no tiene soporte integrado para arreglos, pero en su lugar se pueden usar listas de Python .\n",
    "\n",
    "## arreglos\n",
    "**Nota**: esta página le muestra cómo usar LISTS como ARRAYS, sin embargo, para trabajar con matrices en Python, deberá importar una biblioteca, como la biblioteca NumPy .\n",
    "\n",
    "Las matrices se utilizan para almacenar múltiples valores en una sola variable:"
   ]
  },
  {
   "cell_type": "code",
   "execution_count": 2,
   "metadata": {},
   "outputs": [
    {
     "name": "stdout",
     "output_type": "stream",
     "text": [
      "['Ford', 'Volvo', 'BMW']\n"
     ]
    }
   ],
   "source": [
    "# Cree una matriz que contenga nombres de automóviles:\n",
    "cars = [\"Ford\", \"Volvo\", \"BMW\"]\n",
    "\n",
    "print(cars)\n"
   ]
  },
  {
   "cell_type": "markdown",
   "metadata": {},
   "source": [
    "## ¿Qué es una matriz?\n",
    "Una matriz es una variable especial que puede contener más de un valor a la vez.\n",
    "\n",
    "Si tiene una lista de elementos (una lista de nombres de automóviles, por ejemplo), almacenar los automóviles en variables individuales podría tener este aspecto:\n",
    "\n",
    "```python\n",
    "car1 = \"Ford\"\n",
    "car2 = \"Volvo\"\n",
    "car3 = \"BMW\"\n",
    "```\n",
    "Sin embargo, ¿qué sucede si desea recorrer los autos y encontrar uno específico? ¿Y si no tuvieras 3 coches, sino 300?\n",
    "\n",
    "¡La solución es una matriz!\n",
    "\n",
    "Una matriz puede contener muchos valores bajo un solo nombre y puede acceder a los valores haciendo referencia a un número de índice.\n",
    "\n",
    "## Acceder a los Elementos de un Array\n",
    "Se hace referencia a un elemento de matriz haciendo referencia al *número de índice*."
   ]
  },
  {
   "cell_type": "code",
   "execution_count": 3,
   "metadata": {},
   "outputs": [
    {
     "name": "stdout",
     "output_type": "stream",
     "text": [
      "Ford\n"
     ]
    }
   ],
   "source": [
    "# Obtenga el valor del primer elemento de la matriz:\n",
    "cars = [\"Ford\", \"Volvo\", \"BMW\"]\n",
    "x = cars[0]\n",
    "\n",
    "print(x)"
   ]
  },
  {
   "cell_type": "code",
   "execution_count": 4,
   "metadata": {},
   "outputs": [
    {
     "name": "stdout",
     "output_type": "stream",
     "text": [
      "['Toyota', 'Volvo', 'BMW']\n"
     ]
    }
   ],
   "source": [
    "# Modifique el valor del primer elemento de la matriz:\n",
    "cars = [\"Ford\", \"Volvo\", \"BMW\"]\n",
    "cars[0] = \"Toyota\"\n",
    "\n",
    "print(cars)"
   ]
  },
  {
   "cell_type": "markdown",
   "metadata": {},
   "source": [
    "## La longitud de una matriz\n",
    "Utilice el ``len()`` método para devolver la longitud de una matriz (la cantidad de elementos en una matriz)."
   ]
  },
  {
   "cell_type": "code",
   "execution_count": 5,
   "metadata": {},
   "outputs": [
    {
     "name": "stdout",
     "output_type": "stream",
     "text": [
      "3\n"
     ]
    }
   ],
   "source": [
    "# Devuelve el número de elementos en la cars matriz:\n",
    "cars = [\"Ford\", \"Volvo\", \"BMW\"]\n",
    "x = len(cars)\n",
    "\n",
    "print(x)"
   ]
  },
  {
   "cell_type": "markdown",
   "metadata": {},
   "source": [
    "**Nota**: La longitud de una matriz siempre es uno más que el índice de matriz más alto.\n",
    "\n",
    "## Elementos de matriz en bucle\n",
    "Puede usar el ``for in`` ciclo para recorrer todos los elementos de una matriz."
   ]
  },
  {
   "cell_type": "code",
   "execution_count": 6,
   "metadata": {},
   "outputs": [
    {
     "name": "stdout",
     "output_type": "stream",
     "text": [
      "Ford\n",
      "Volvo\n",
      "BMW\n"
     ]
    }
   ],
   "source": [
    "# Imprima cada elemento en la carsmatriz:\n",
    "cars = [\"Ford\", \"Volvo\", \"BMW\"]\n",
    "\n",
    "for x in cars:\n",
    "  print(x)"
   ]
  },
  {
   "cell_type": "markdown",
   "metadata": {},
   "source": [
    "## Adición de elementos de matriz\n",
    "Puede usar el ``append()`` método para agregar un elemento a una matriz."
   ]
  },
  {
   "cell_type": "code",
   "execution_count": 7,
   "metadata": {},
   "outputs": [
    {
     "name": "stdout",
     "output_type": "stream",
     "text": [
      "['Ford', 'Volvo', 'BMW', 'Honda']\n"
     ]
    }
   ],
   "source": [
    "# Agregue un elemento más a la carsmatriz:\n",
    "cars = [\"Ford\", \"Volvo\", \"BMW\"]\n",
    "cars.append(\"Honda\")\n",
    "\n",
    "print(cars)"
   ]
  },
  {
   "cell_type": "markdown",
   "metadata": {},
   "source": [
    "## Eliminación de elementos de matriz\n",
    "Puede usar el ``pop()`` método para eliminar un elemento de la matriz."
   ]
  },
  {
   "cell_type": "code",
   "execution_count": 8,
   "metadata": {},
   "outputs": [
    {
     "name": "stdout",
     "output_type": "stream",
     "text": [
      "['Ford', 'BMW']\n"
     ]
    }
   ],
   "source": [
    "# Eliminar el segundo elemento de la carsmatriz:\n",
    "cars = [\"Ford\", \"Volvo\", \"BMW\"]\n",
    "cars.pop(1)\n",
    "\n",
    "print(cars)\n"
   ]
  },
  {
   "cell_type": "markdown",
   "metadata": {},
   "source": [
    "También puede usar el ``remove()`` método para eliminar un elemento de la matriz."
   ]
  },
  {
   "cell_type": "code",
   "execution_count": 1,
   "metadata": {},
   "outputs": [
    {
     "name": "stdout",
     "output_type": "stream",
     "text": [
      "['Ford', 'BMW', 'Chevrolet']\n"
     ]
    }
   ],
   "source": [
    "# Eliminar el elemento que tiene el valor \"Volvo\":\n",
    "cars = [\"Ford\", \"Volvo\", \"BMW\", \"Chevrolet\"]\n",
    "cars.remove(\"Volvo\")\n",
    "\n",
    "print(cars)\n"
   ]
  },
  {
   "cell_type": "markdown",
   "metadata": {},
   "source": [
    "## Métodos de matriz\n",
    "Python tiene un conjunto de métodos integrados que puede usar en listas/matrices."
   ]
  },
  {
   "cell_type": "markdown",
   "metadata": {},
   "source": [
    "## Python List ``append()`` Method"
   ]
  },
  {
   "cell_type": "code",
   "execution_count": 2,
   "metadata": {},
   "outputs": [
    {
     "name": "stdout",
     "output_type": "stream",
     "text": [
      "['apple', 'banana', 'cherry', 'orange']\n"
     ]
    }
   ],
   "source": [
    "# Añadir un elemento a la fruitslista:\n",
    "\n",
    "fruits = ['apple', 'banana', 'cherry']\n",
    "fruits.append(\"orange\")\n",
    "print(fruits)"
   ]
  },
  {
   "cell_type": "markdown",
   "metadata": {},
   "source": [
    "### Definición y uso\n",
    "El ``append()`` método añade un elemento al final de la lista.\n",
    "\n",
    "#### Sintaxis\n",
    "``list.append(elmnt)``"
   ]
  },
  {
   "cell_type": "code",
   "execution_count": 5,
   "metadata": {},
   "outputs": [
    {
     "name": "stdout",
     "output_type": "stream",
     "text": [
      "['apple', 'banana', 'cherry', ['Ford', 'BMW', 'Volvo']]\n"
     ]
    }
   ],
   "source": [
    "# Agregar una lista a una lista:\n",
    "\n",
    "a = [\"apple\", \"banana\", \"cherry\"]\n",
    "b = [\"Ford\", \"BMW\", \"Volvo\"]\n",
    "a.append(b)\n",
    "print(a)\n"
   ]
  },
  {
   "cell_type": "markdown",
   "metadata": {},
   "source": [
    "## Python List ``clear()`` Method"
   ]
  },
  {
   "cell_type": "code",
   "execution_count": 7,
   "metadata": {},
   "outputs": [
    {
     "name": "stdout",
     "output_type": "stream",
     "text": [
      "[]\n"
     ]
    }
   ],
   "source": [
    "# Eliminar todos los elementos de la fruitslista:\n",
    "\n",
    "fruits = ['apple', 'banana', 'cherry', 'orange']\n",
    "\n",
    "fruits.clear()\n",
    "print(fruits)"
   ]
  },
  {
   "cell_type": "markdown",
   "metadata": {},
   "source": [
    "### Definición y uso\n",
    "El ``clear()`` método elimina todos los elementos de una lista.\n",
    "\n",
    "#### Sintaxis\n",
    "``list.clear()``"
   ]
  },
  {
   "cell_type": "code",
   "execution_count": 8,
   "metadata": {},
   "outputs": [
    {
     "name": "stdout",
     "output_type": "stream",
     "text": [
      "['apple', 'banana', 'cherry', 'orange']\n"
     ]
    }
   ],
   "source": [
    "# Python List ``copy()`` Method\n",
    "fruits = ['apple', 'banana', 'cherry', 'orange']\n",
    "\n",
    "x = fruits.copy()\n",
    "print(x)"
   ]
  },
  {
   "cell_type": "markdown",
   "metadata": {},
   "source": [
    "### Definition and Usage\n",
    "The ``copy()`` method returns a copy of the specified list.\n",
    "\n",
    "#### Syntax\n",
    "``list.copy()``\n",
    "\n",
    "x = fruits.copy()\n",
    "print(x)"
   ]
  },
  {
   "cell_type": "markdown",
   "metadata": {},
   "source": [
    "## Python List ``count()`` Method"
   ]
  },
  {
   "cell_type": "code",
   "execution_count": 9,
   "metadata": {},
   "outputs": [
    {
     "name": "stdout",
     "output_type": "stream",
     "text": [
      "1\n"
     ]
    }
   ],
   "source": [
    "# Devuelve el número de veces que aparece el valor \"cereza\" en la fruitslista:\n",
    "\n",
    "fruits = ['apple', 'banana', 'cherry']\n",
    "x = fruits.count(\"cherry\")\n",
    "print(x)"
   ]
  },
  {
   "cell_type": "markdown",
   "metadata": {},
   "source": [
    "### Definición y uso\n",
    "El ``count()`` método devuelve el número de elementos con el valor especificado.\n",
    "\n",
    "#### Sintaxis\n",
    "``list.count(value)``"
   ]
  },
  {
   "cell_type": "code",
   "execution_count": 10,
   "metadata": {},
   "outputs": [
    {
     "name": "stdout",
     "output_type": "stream",
     "text": [
      "2\n"
     ]
    }
   ],
   "source": [
    "# Devuelve el número de veces que aparece el valor 9 en la lista:\n",
    "\n",
    "points = [1, 4, 2, 9, 7, 8, 9, 3, 1]\n",
    "x = points.count(9)\n",
    "print(x)"
   ]
  },
  {
   "cell_type": "markdown",
   "metadata": {},
   "source": [
    "## Python List ``extend()`` Method"
   ]
  },
  {
   "cell_type": "code",
   "execution_count": 11,
   "metadata": {},
   "outputs": [
    {
     "name": "stdout",
     "output_type": "stream",
     "text": [
      "['apple', 'banana', 'cherry', 'Ford', 'BMW', 'Volvo']\n"
     ]
    }
   ],
   "source": [
    "# Agregue los elementos de carsa la fruitslista:\n",
    "\n",
    "fruits = ['apple', 'banana', 'cherry']\n",
    "cars = ['Ford', 'BMW', 'Volvo']\n",
    "fruits.extend(cars)\n",
    "print(fruits)"
   ]
  },
  {
   "cell_type": "markdown",
   "metadata": {},
   "source": [
    "### Definición y uso\n",
    "El ``extend()`` método agrega los elementos de lista especificados (o cualquier iterable) al final de la lista actual.\n",
    "\n",
    "#### Sintaxis\n",
    "``list.extend(iterable)``"
   ]
  },
  {
   "cell_type": "code",
   "execution_count": 12,
   "metadata": {},
   "outputs": [
    {
     "name": "stdout",
     "output_type": "stream",
     "text": [
      "['apple', 'banana', 'cherry', 1, 4, 5, 9]\n"
     ]
    }
   ],
   "source": [
    "# Agregue una tupla a la fruitslista:\n",
    "\n",
    "fruits = ['apple', 'banana', 'cherry']\n",
    "points = (1, 4, 5, 9)\n",
    "fruits.extend(points)\n",
    "print(fruits)"
   ]
  },
  {
   "cell_type": "markdown",
   "metadata": {},
   "source": [
    "## Python List ``index()`` Method"
   ]
  },
  {
   "cell_type": "code",
   "execution_count": 13,
   "metadata": {},
   "outputs": [
    {
     "name": "stdout",
     "output_type": "stream",
     "text": [
      "2\n"
     ]
    }
   ],
   "source": [
    "# ¿Cuál es la posición del valor \"cereza\":\n",
    "\n",
    "fruits = ['apple', 'banana', 'cherry']\n",
    "x = fruits.index(\"cherry\")\n",
    "print(x)"
   ]
  },
  {
   "cell_type": "markdown",
   "metadata": {},
   "source": [
    "### Definición y uso\n",
    "El ``index()`` método devuelve la posición en la primera aparición del valor especificado.\n",
    "\n",
    "#### Sintaxis\n",
    "``list.index(elmnt)``"
   ]
  },
  {
   "cell_type": "code",
   "execution_count": 14,
   "metadata": {},
   "outputs": [
    {
     "name": "stdout",
     "output_type": "stream",
     "text": [
      "3\n"
     ]
    }
   ],
   "source": [
    "# ¿Cuál es la posición del valor 32:\n",
    "fruits = [4, 55, 64, 32, 16, 32]\n",
    "x = fruits.index(32)\n",
    "print(x)"
   ]
  },
  {
   "cell_type": "markdown",
   "metadata": {},
   "source": [
    "**Nota**: El ``index()`` método solo devuelve la primera aparición del valor."
   ]
  },
  {
   "cell_type": "markdown",
   "metadata": {},
   "source": [
    "## Python List insert() Method"
   ]
  },
  {
   "cell_type": "code",
   "execution_count": 15,
   "metadata": {},
   "outputs": [
    {
     "name": "stdout",
     "output_type": "stream",
     "text": [
      "['apple', 'orange', 'banana', 'cherry']\n"
     ]
    }
   ],
   "source": [
    "# Inserte el valor \"naranja\" como segundo elemento de la fruitlista:\n",
    "\n",
    "fruits = ['apple', 'banana', 'cherry']\n",
    "fruits.insert(1, \"orange\")\n",
    "print(fruits)"
   ]
  },
  {
   "cell_type": "markdown",
   "metadata": {},
   "source": [
    "### Definición y uso\n",
    "El ``insert()`` método inserta el valor especificado en la posición especificada.\n",
    "\n",
    "#### Sintaxis\n",
    "``list.insert(pos, elmnt)``"
   ]
  },
  {
   "cell_type": "markdown",
   "metadata": {},
   "source": [
    "## Python List ``pop()`` Method"
   ]
  },
  {
   "cell_type": "code",
   "execution_count": 16,
   "metadata": {},
   "outputs": [
    {
     "name": "stdout",
     "output_type": "stream",
     "text": [
      "['apple', 'cherry']\n"
     ]
    }
   ],
   "source": [
    "# Elimina el segundo elemento de la fruit lista:\n",
    "\n",
    "fruits = ['apple', 'banana', 'cherry']\n",
    "fruits.pop(1)\n",
    "print(fruits)"
   ]
  },
  {
   "cell_type": "markdown",
   "metadata": {},
   "source": [
    "### Definición y uso\n",
    "El ``pop()`` método elimina el elemento en la posición especificada.\n",
    "\n",
    "#### Sintaxis\n",
    "``list.pop(pos)``"
   ]
  },
  {
   "cell_type": "code",
   "execution_count": 17,
   "metadata": {},
   "outputs": [
    {
     "name": "stdout",
     "output_type": "stream",
     "text": [
      "banana\n"
     ]
    }
   ],
   "source": [
    "# Devolver el elemento eliminado:\n",
    "\n",
    "fruits = ['apple', 'banana', 'cherry']\n",
    "x = fruits.pop(1)\n",
    "print(x)"
   ]
  },
  {
   "cell_type": "markdown",
   "metadata": {},
   "source": [
    "**Nota**: El ``pop()`` método devuelve el valor eliminado."
   ]
  },
  {
   "cell_type": "markdown",
   "metadata": {},
   "source": [
    "## Python List ``remove()`` Method"
   ]
  },
  {
   "cell_type": "code",
   "execution_count": 18,
   "metadata": {},
   "outputs": [
    {
     "name": "stdout",
     "output_type": "stream",
     "text": [
      "['apple', 'cherry']\n"
     ]
    }
   ],
   "source": [
    "# Elimina el elemento \"banana\" de la fruit lista:\n",
    "\n",
    "fruits = ['apple', 'banana', 'cherry']\n",
    "fruits.remove(\"banana\")\n",
    "print(fruits)"
   ]
  },
  {
   "cell_type": "markdown",
   "metadata": {},
   "source": [
    "### Definición y uso\n",
    "El ``remove()`` método elimina la primera aparición del elemento con el valor especificado.\n",
    "\n",
    "#### Sintaxis\n",
    "``list.remove(elmnt)``"
   ]
  },
  {
   "cell_type": "markdown",
   "metadata": {},
   "source": [
    "## Python List ``reverse()`` Method"
   ]
  },
  {
   "cell_type": "code",
   "execution_count": 20,
   "metadata": {},
   "outputs": [
    {
     "name": "stdout",
     "output_type": "stream",
     "text": [
      "['cherry', 'banana', 'apple']\n"
     ]
    }
   ],
   "source": [
    "# Invierta el orden de la fruit lista:\n",
    "\n",
    "fruits = ['apple', 'banana', 'cherry']\n",
    "fruits.reverse()\n",
    "print(fruits)"
   ]
  },
  {
   "cell_type": "markdown",
   "metadata": {},
   "source": [
    "### Definición y uso\n",
    "El ``reverse()`` método invierte el orden de clasificación de los elementos.\n",
    "\n",
    "#### Sintaxis\n",
    "``list.reverse()``"
   ]
  },
  {
   "cell_type": "markdown",
   "metadata": {},
   "source": [
    "## Python List ``sort()`` Method"
   ]
  },
  {
   "cell_type": "code",
   "execution_count": 22,
   "metadata": {},
   "outputs": [
    {
     "name": "stdout",
     "output_type": "stream",
     "text": [
      "['BMW', 'Ford', 'Volvo']\n"
     ]
    }
   ],
   "source": [
    "# Ordena la lista alfabéticamente:\n",
    "\n",
    "cars = ['Ford', 'BMW', 'Volvo']\n",
    "cars.sort()\n",
    "print(cars)"
   ]
  },
  {
   "cell_type": "markdown",
   "metadata": {},
   "source": [
    "### Definición y uso\n",
    "El ``sort()`` método ordena la lista de forma ascendente por defecto.\n",
    "\n",
    "También puede crear una función para decidir los criterios de clasificación.\n",
    "\n",
    "##### Sintaxis\n",
    "``list.sort(reverse=True|False, key=myFunc)``"
   ]
  },
  {
   "cell_type": "code",
   "execution_count": 23,
   "metadata": {},
   "outputs": [
    {
     "name": "stdout",
     "output_type": "stream",
     "text": [
      "['Volvo', 'Ford', 'BMW']\n"
     ]
    }
   ],
   "source": [
    "# Ordenar la lista de forma descendente:\n",
    "\n",
    "cars = ['Ford', 'BMW', 'Volvo']\n",
    "cars.sort(reverse=True)\n",
    "print(cars)"
   ]
  },
  {
   "cell_type": "code",
   "execution_count": 24,
   "metadata": {},
   "outputs": [
    {
     "name": "stdout",
     "output_type": "stream",
     "text": [
      "['VW', 'BMW', 'Ford', 'Mitsubishi']\n"
     ]
    }
   ],
   "source": [
    "# Ordene la lista por la longitud de los valores:\n",
    "\n",
    "# A function that returns the length of the value:\n",
    "def myFunc(e):\n",
    "  return len(e)\n",
    "\n",
    "cars = ['Ford', 'Mitsubishi', 'BMW', 'VW']\n",
    "cars.sort(key=myFunc)\n",
    "print(cars)"
   ]
  },
  {
   "cell_type": "code",
   "execution_count": 25,
   "metadata": {},
   "outputs": [
    {
     "name": "stdout",
     "output_type": "stream",
     "text": [
      "[{'car': 'Mitsubishi', 'year': 2000}, {'car': 'Ford', 'year': 2005}, {'car': 'VW', 'year': 2011}, {'car': 'BMW', 'year': 2019}]\n"
     ]
    }
   ],
   "source": [
    "# Ordene una lista de diccionarios según el valor de \"año\" de los diccionarios:\n",
    "\n",
    "# A function that returns the 'year' value:\n",
    "def myFunc(e):\n",
    "  return e['year']\n",
    "\n",
    "cars = [\n",
    "  {'car': 'Ford', 'year': 2005},\n",
    "  {'car': 'Mitsubishi', 'year': 2000},\n",
    "  {'car': 'BMW', 'year': 2019},\n",
    "  {'car': 'VW', 'year': 2011}\n",
    "]\n",
    "\n",
    "cars.sort(key=myFunc)\n",
    "print(cars)"
   ]
  },
  {
   "cell_type": "code",
   "execution_count": 26,
   "metadata": {},
   "outputs": [
    {
     "name": "stdout",
     "output_type": "stream",
     "text": [
      "['Mitsubishi', 'Ford', 'BMW', 'VW']\n"
     ]
    }
   ],
   "source": [
    "# Ordene la lista por la longitud de los valores y al revés:\n",
    "\n",
    "# A function that returns the length of the value:\n",
    "def myFunc(e):\n",
    "  return len(e)\n",
    "\n",
    "cars = ['Ford', 'Mitsubishi', 'BMW', 'VW']\n",
    "cars.sort(reverse=True, key=myFunc)\n",
    "print(cars)"
   ]
  },
  {
   "cell_type": "markdown",
   "metadata": {},
   "source": [
    "# Python Classes and Objects\n",
    "## Clases/Objetos de Python\n",
    "Python es un lenguaje de programación orientado a objetos.\n",
    "\n",
    "Casi todo en Python es un objeto, con sus propiedades y métodos.\n",
    "\n",
    "Una clase es como un constructor de objetos o un \"modelo\" para crear objetos.\n",
    "\n",
    "## Crear una clase\n",
    "Para crear una clase, utilice la palabra clave ``class``:"
   ]
  },
  {
   "cell_type": "code",
   "execution_count": 1,
   "metadata": {},
   "outputs": [
    {
     "name": "stdout",
     "output_type": "stream",
     "text": [
      "<class '__main__.MyClass'>\n"
     ]
    }
   ],
   "source": [
    "# Cree una clase llamada MyClass, con una propiedad llamada x:\n",
    "class MyClass:\n",
    "  x = 5\n",
    "\n",
    "print(MyClass)"
   ]
  },
  {
   "cell_type": "markdown",
   "metadata": {},
   "source": [
    "## Crear objeto\n",
    "Ahora podemos usar la clase llamada MyClass para crear objetos:"
   ]
  },
  {
   "cell_type": "code",
   "execution_count": 2,
   "metadata": {},
   "outputs": [
    {
     "name": "stdout",
     "output_type": "stream",
     "text": [
      "5\n"
     ]
    }
   ],
   "source": [
    "# Cree un objeto llamado p1 e imprima el valor de x:\n",
    "class MyClass:\n",
    "  x = 5\n",
    "\n",
    "p1 = MyClass()\n",
    "print(p1.x)"
   ]
  },
  {
   "cell_type": "markdown",
   "metadata": {},
   "source": [
    "## La función ``__init__()``\n",
    "Los ejemplos anteriores son clases y objetos en su forma más simple y no son realmente útiles en aplicaciones de la vida real.\n",
    "\n",
    "Para comprender el significado de las clases, debemos comprender la función ``__init__()`` incorporada.\n",
    "\n",
    "Todas las clases tienen una función llamada ``__init__()``, que siempre se ejecuta cuando se inicia la clase.\n",
    "\n",
    "Use la función ``__init__()`` para asignar valores a las propiedades del objeto u otras operaciones que sean necesarias cuando se crea el objeto:"
   ]
  },
  {
   "cell_type": "code",
   "execution_count": 3,
   "metadata": {},
   "outputs": [
    {
     "name": "stdout",
     "output_type": "stream",
     "text": [
      "John\n",
      "36\n"
     ]
    }
   ],
   "source": [
    "# Cree una clase llamada Persona, use la función __init__() para asignar valores para el nombre y la edad:\n",
    "\n",
    "class Person:\n",
    "  def __init__(self, name, age):\n",
    "    self.name = name\n",
    "    self.age = age\n",
    "\n",
    "p1 = Person(\"John\", 36)\n",
    "\n",
    "print(p1.name)\n",
    "print(p1.age)"
   ]
  },
  {
   "cell_type": "markdown",
   "metadata": {},
   "source": [
    "**Nota**: La ``__init__()`` función se llama automáticamente cada vez que la clase se usa para crear un nuevo objeto.\n",
    "\n",
    "## La función ``__str__()``\n",
    "La función ``__str__()`` controla lo que se debe devolver cuando el objeto de clase se representa como una cadena.\n",
    "\n",
    "Si la función ``__str__()`` no está configurada, se devuelve la representación de cadena del objeto:"
   ]
  },
  {
   "cell_type": "code",
   "execution_count": 4,
   "metadata": {},
   "outputs": [
    {
     "name": "stdout",
     "output_type": "stream",
     "text": [
      "<__main__.Person object at 0x00000254AFF83C10>\n"
     ]
    }
   ],
   "source": [
    "# La representación de cadena de un objeto SIN la función __str__():\n",
    "\n",
    "class Person:\n",
    "  def __init__(self, name, age):\n",
    "    self.name = name\n",
    "    self.age = age\n",
    "\n",
    "p1 = Person(\"John\", 36)\n",
    "\n",
    "print(p1)"
   ]
  },
  {
   "cell_type": "code",
   "execution_count": 5,
   "metadata": {},
   "outputs": [
    {
     "name": "stdout",
     "output_type": "stream",
     "text": [
      "John(36)\n"
     ]
    }
   ],
   "source": [
    "# La representación de cadena de un objeto CON la función __str__():\n",
    "\n",
    "class Person:\n",
    "  def __init__(self, name, age):\n",
    "    self.name = name\n",
    "    self.age = age\n",
    "\n",
    "  def __str__(self):\n",
    "    return f\"{self.name}({self.age})\"\n",
    "\n",
    "p1 = Person(\"John\", 36)\n",
    "\n",
    "print(p1)"
   ]
  },
  {
   "cell_type": "markdown",
   "metadata": {},
   "source": [
    "## Métodos de objeto\n",
    "Los objetos también pueden contener métodos. Los métodos en los objetos son funciones que pertenecen al objeto.\n",
    "\n",
    "Vamos a crear un método en la clase Person:"
   ]
  },
  {
   "cell_type": "code",
   "execution_count": 6,
   "metadata": {},
   "outputs": [
    {
     "name": "stdout",
     "output_type": "stream",
     "text": [
      "Hello my name is John\n"
     ]
    }
   ],
   "source": [
    "# Inserte una función que imprima un saludo y ejecútela en el objeto p1:\n",
    "\n",
    "class Person:\n",
    "  def __init__(self, name, age):\n",
    "    self.name = name\n",
    "    self.age = age\n",
    "\n",
    "  def myfunc(self):\n",
    "    print(\"Hello my name is \" + self.name)\n",
    "\n",
    "p1 = Person(\"John\", 36)\n",
    "p1.myfunc()"
   ]
  },
  {
   "cell_type": "markdown",
   "metadata": {},
   "source": [
    "**Nota**: El ``self`` parámetro es una referencia a la instancia actual de la clase y se utiliza para acceder a las variables que pertenecen a la clase.\n",
    "\n",
    "`## El auto parámetro\n",
    "El ``self`` parámetro es una referencia a la instancia actual de la clase y se utiliza para acceder a las variables que pertenecen a la clase.\n",
    "\n",
    "No tiene que ser nombrado ``self``, puedes llamarlo como quieras, pero tiene que ser el primer parámetro de cualquier función en la clase:"
   ]
  },
  {
   "cell_type": "code",
   "execution_count": 7,
   "metadata": {},
   "outputs": [
    {
     "name": "stdout",
     "output_type": "stream",
     "text": [
      "Hello my name is John\n"
     ]
    }
   ],
   "source": [
    "# Usa las palabras mysillyobject y abc en lugar de self :\n",
    "\n",
    "class Person:\n",
    "  def __init__(mysillyobject, name, age):\n",
    "    mysillyobject.name = name\n",
    "    mysillyobject.age = age\n",
    "\n",
    "  def myfunc(abc):\n",
    "    print(\"Hello my name is \" + abc.name)\n",
    "\n",
    "p1 = Person(\"John\", 36)\n",
    "p1.myfunc()"
   ]
  },
  {
   "cell_type": "markdown",
   "metadata": {},
   "source": [
    "## Modificar propiedades de objetos\n",
    "Puede modificar propiedades en objetos como este:"
   ]
  },
  {
   "cell_type": "code",
   "execution_count": 9,
   "metadata": {},
   "outputs": [
    {
     "name": "stdout",
     "output_type": "stream",
     "text": [
      "John\n",
      "40\n"
     ]
    }
   ],
   "source": [
    "# Establezca la edad de p1 en 40:\n",
    "\n",
    "class Person:\n",
    "  def __init__(self, name, age):\n",
    "    self.name = name\n",
    "    self.age = age\n",
    "\n",
    "  def myfunc(self):\n",
    "    print(\"Hello my name is \" + self.name)\n",
    "\n",
    "p1 = Person(\"John\", 36)\n",
    "\n",
    "p1.age = 40\n",
    "print(p1.age)"
   ]
  },
  {
   "cell_type": "markdown",
   "metadata": {},
   "source": [
    "## Eliminar propiedades de objetos\n",
    "Puede eliminar propiedades en objetos usando la ``del`` palabra clave:"
   ]
  },
  {
   "cell_type": "code",
   "execution_count": 10,
   "metadata": {},
   "outputs": [
    {
     "ename": "AttributeError",
     "evalue": "'Person' object has no attribute 'age'",
     "output_type": "error",
     "traceback": [
      "\u001b[1;31m---------------------------------------------------------------------------\u001b[0m",
      "\u001b[1;31mAttributeError\u001b[0m                            Traceback (most recent call last)",
      "\u001b[1;32mc:\\Users\\celio\\OneDrive\\Escritorio\\programación\\platzi\\PracticaDePython.ipynb Celda 1062\u001b[0m in \u001b[0;36m1\n\u001b[0;32m     <a href='vscode-notebook-cell:/c%3A/Users/celio/OneDrive/Escritorio/programaci%C3%B3n/platzi/PracticaDePython.ipynb#Z3044sZmlsZQ%3D%3D?line=9'>10</a>\u001b[0m p1 \u001b[39m=\u001b[39m Person(\u001b[39m\"\u001b[39m\u001b[39mJohn\u001b[39m\u001b[39m\"\u001b[39m, \u001b[39m36\u001b[39m)\n\u001b[0;32m     <a href='vscode-notebook-cell:/c%3A/Users/celio/OneDrive/Escritorio/programaci%C3%B3n/platzi/PracticaDePython.ipynb#Z3044sZmlsZQ%3D%3D?line=11'>12</a>\u001b[0m \u001b[39mdel\u001b[39;00m p1\u001b[39m.\u001b[39mage\n\u001b[1;32m---> <a href='vscode-notebook-cell:/c%3A/Users/celio/OneDrive/Escritorio/programaci%C3%B3n/platzi/PracticaDePython.ipynb#Z3044sZmlsZQ%3D%3D?line=13'>14</a>\u001b[0m \u001b[39mprint\u001b[39m(p1\u001b[39m.\u001b[39;49mage)\n",
      "\u001b[1;31mAttributeError\u001b[0m: 'Person' object has no attribute 'age'"
     ]
    }
   ],
   "source": [
    "# Elimine la propiedad de edad del objeto p1:\n",
    "class Person:\n",
    "  def __init__(self, name, age):\n",
    "    self.name = name\n",
    "    self.age = age\n",
    "\n",
    "  def myfunc(self):\n",
    "    print(\"Hello my name is \" + self.name)\n",
    "\n",
    "p1 = Person(\"John\", 36)\n",
    "\n",
    "del p1.age\n",
    "\n",
    "print(p1.age)"
   ]
  },
  {
   "cell_type": "markdown",
   "metadata": {},
   "source": [
    "## Eliminar propiedades de objetos\n",
    "Puede eliminar propiedades en objetos usando la ``del`` palabra clave:"
   ]
  },
  {
   "cell_type": "code",
   "execution_count": 11,
   "metadata": {},
   "outputs": [
    {
     "ename": "AttributeError",
     "evalue": "'Person' object has no attribute 'age'",
     "output_type": "error",
     "traceback": [
      "\u001b[1;31m---------------------------------------------------------------------------\u001b[0m",
      "\u001b[1;31mAttributeError\u001b[0m                            Traceback (most recent call last)",
      "\u001b[1;32mc:\\Users\\celio\\OneDrive\\Escritorio\\programación\\platzi\\PracticaDePython.ipynb Celda 1064\u001b[0m in \u001b[0;36m1\n\u001b[0;32m     <a href='vscode-notebook-cell:/c%3A/Users/celio/OneDrive/Escritorio/programaci%C3%B3n/platzi/PracticaDePython.ipynb#Z3046sZmlsZQ%3D%3D?line=9'>10</a>\u001b[0m p1 \u001b[39m=\u001b[39m Person(\u001b[39m\"\u001b[39m\u001b[39mJohn\u001b[39m\u001b[39m\"\u001b[39m, \u001b[39m36\u001b[39m)\n\u001b[0;32m     <a href='vscode-notebook-cell:/c%3A/Users/celio/OneDrive/Escritorio/programaci%C3%B3n/platzi/PracticaDePython.ipynb#Z3046sZmlsZQ%3D%3D?line=11'>12</a>\u001b[0m \u001b[39mdel\u001b[39;00m p1\u001b[39m.\u001b[39mage\n\u001b[1;32m---> <a href='vscode-notebook-cell:/c%3A/Users/celio/OneDrive/Escritorio/programaci%C3%B3n/platzi/PracticaDePython.ipynb#Z3046sZmlsZQ%3D%3D?line=13'>14</a>\u001b[0m \u001b[39mprint\u001b[39m(p1\u001b[39m.\u001b[39;49mage)\n",
      "\u001b[1;31mAttributeError\u001b[0m: 'Person' object has no attribute 'age'"
     ]
    }
   ],
   "source": [
    "# Elimine la propiedad de edad del objeto p1:\n",
    "class Person:\n",
    "  def __init__(self, name, age):\n",
    "    self.name = name\n",
    "    self.age = age\n",
    "\n",
    "  def myfunc(self):\n",
    "    print(\"Hello my name is \" + self.name)\n",
    "\n",
    "p1 = Person(\"John\", 36)\n",
    "\n",
    "del p1.age\n",
    "\n",
    "print(p1.age)"
   ]
  },
  {
   "cell_type": "markdown",
   "metadata": {},
   "source": [
    "## Eliminar objetos\n",
    "Puede eliminar objetos utilizando la ``del`` palabra clave:"
   ]
  },
  {
   "cell_type": "code",
   "execution_count": 12,
   "metadata": {},
   "outputs": [
    {
     "ename": "NameError",
     "evalue": "name 'p1' is not defined",
     "output_type": "error",
     "traceback": [
      "\u001b[1;31m---------------------------------------------------------------------------\u001b[0m",
      "\u001b[1;31mNameError\u001b[0m                                 Traceback (most recent call last)",
      "\u001b[1;32mc:\\Users\\celio\\OneDrive\\Escritorio\\programación\\platzi\\PracticaDePython.ipynb Celda 1066\u001b[0m in \u001b[0;36m1\n\u001b[0;32m     <a href='vscode-notebook-cell:/c%3A/Users/celio/OneDrive/Escritorio/programaci%C3%B3n/platzi/PracticaDePython.ipynb#Z3051sZmlsZQ%3D%3D?line=9'>10</a>\u001b[0m p1 \u001b[39m=\u001b[39m Person(\u001b[39m\"\u001b[39m\u001b[39mJohn\u001b[39m\u001b[39m\"\u001b[39m, \u001b[39m36\u001b[39m)\n\u001b[0;32m     <a href='vscode-notebook-cell:/c%3A/Users/celio/OneDrive/Escritorio/programaci%C3%B3n/platzi/PracticaDePython.ipynb#Z3051sZmlsZQ%3D%3D?line=11'>12</a>\u001b[0m \u001b[39mdel\u001b[39;00m p1\n\u001b[1;32m---> <a href='vscode-notebook-cell:/c%3A/Users/celio/OneDrive/Escritorio/programaci%C3%B3n/platzi/PracticaDePython.ipynb#Z3051sZmlsZQ%3D%3D?line=13'>14</a>\u001b[0m \u001b[39mprint\u001b[39m(p1)\n",
      "\u001b[1;31mNameError\u001b[0m: name 'p1' is not defined"
     ]
    }
   ],
   "source": [
    "# Eliminar el objeto p1:\n",
    "class Person:\n",
    "  def __init__(self, name, age):\n",
    "    self.name = name\n",
    "    self.age = age\n",
    "\n",
    "  def myfunc(self):\n",
    "    print(\"Hello my name is \" + self.name)\n",
    "\n",
    "p1 = Person(\"John\", 36)\n",
    "\n",
    "del p1\n",
    "\n",
    "print(p1)"
   ]
  },
  {
   "cell_type": "markdown",
   "metadata": {},
   "source": [
    "## La declaración de pase\n",
    "``class`` las definiciones no pueden estar vacías, pero si por algún motivo tiene una ``class`` definición sin contenido, introdúzcala ``pass`` para evitar errores."
   ]
  },
  {
   "cell_type": "code",
   "execution_count": 13,
   "metadata": {},
   "outputs": [],
   "source": [
    "class Person:\n",
    "  pass\n",
    "\n",
    "# having an empty class definition like this, would raise an error without the pass statement"
   ]
  },
  {
   "cell_type": "markdown",
   "metadata": {},
   "source": [
    "# Python Inheritance\n",
    "## Herencia de Python\n",
    "La herencia nos permite definir una clase que hereda todos los métodos y propiedades de otra clase.\n",
    "\n",
    "**La clase principal** es la clase de la que se hereda, también llamada clase base.\n",
    "\n",
    "**La clase secundaria** es la clase que hereda de otra clase, también llamada clase derivada.\n",
    "\n",
    "## Crear una clase principal\n",
    "Cualquier clase puede ser una clase principal, por lo que la sintaxis es la misma que para crear cualquier otra clase:"
   ]
  },
  {
   "cell_type": "code",
   "execution_count": 14,
   "metadata": {},
   "outputs": [
    {
     "name": "stdout",
     "output_type": "stream",
     "text": [
      "John Doe\n"
     ]
    }
   ],
   "source": [
    "# Cree una clase llamada Person, con firstname propiedades lastname y un printname método:\n",
    "\n",
    "class Person:\n",
    "  def __init__(self, fname, lname):\n",
    "    self.firstname = fname\n",
    "    self.lastname = lname\n",
    "\n",
    "  def printname(self):\n",
    "    print(self.firstname, self.lastname)\n",
    "\n",
    "#Use the Person class to create an object, and then execute the printname method:\n",
    "\n",
    "x = Person(\"John\", \"Doe\")\n",
    "x.printname()"
   ]
  },
  {
   "cell_type": "markdown",
   "metadata": {},
   "source": [
    "## Crear una clase secundaria\n",
    "Para crear una clase que herede la funcionalidad de otra clase, envíe la clase principal como parámetro al crear la clase secundaria:"
   ]
  },
  {
   "cell_type": "markdown",
   "metadata": {},
   "source": [
    "Cree una clase llamada ``Student``, que heredará las propiedades y métodos de la ``Person`` clase:\n",
    "```python\n",
    "class Student(Person):\n",
    "  pass\n",
    "```\n",
    "**Nota**: utilice la ``pass`` palabra clave cuando no desee agregar otras propiedades o métodos a la clase.\n",
    "\n",
    "Ahora la clase Estudiante tiene las mismas propiedades y métodos que la clase Persona.\n"
   ]
  },
  {
   "cell_type": "code",
   "execution_count": 15,
   "metadata": {},
   "outputs": [
    {
     "name": "stdout",
     "output_type": "stream",
     "text": [
      "Mike Olsen\n"
     ]
    }
   ],
   "source": [
    "# Use la Studentclase para crear un objeto y luego ejecute el printnamemétodo:\n",
    "\n",
    "class Person:\n",
    "  def __init__(self, fname, lname):\n",
    "    self.firstname = fname\n",
    "    self.lastname = lname\n",
    "\n",
    "  def printname(self):\n",
    "    print(self.firstname, self.lastname)\n",
    "\n",
    "class Student(Person):\n",
    "  pass\n",
    "\n",
    "x = Student(\"Mike\", \"Olsen\")\n",
    "x.printname()\n"
   ]
  },
  {
   "cell_type": "markdown",
   "metadata": {},
   "source": [
    "## Agregue la función ``__init__()``\n",
    "Hasta ahora hemos creado una clase secundaria que hereda las propiedades y métodos de su padre.\n",
    "\n",
    "Queremos agregar la ``__init__()`` función a la clase secundaria (en lugar de la passpalabra clave).\n",
    "\n",
    "**Nota**: La ``__init__()`` función se llama automáticamente cada vez que la clase se usa para crear un nuevo objeto.\n",
    "\n",
    "Ejemplo\n",
    "Agregue la ``__init__()`` función a la ``Student`` clase:\n",
    "\n",
    "```python\n",
    "class Student(Person):\n",
    "  def __init__(self, fname, lname):\n",
    "    #add properties etc.\n",
    "```\n",
    "Cuando agrega la ``__init__()`` función, la clase secundaria ya no heredará la ``__init__()`` función principal.\n",
    "\n",
    "**Nota**:``__init__()`` La función del hijo anula la herencia de la función del padre ``__init__()``.\n",
    "\n",
    "Para mantener la herencia de la función principal , agregue una llamada a la función ``__init__()`` principal :``__init__()``"
   ]
  },
  {
   "cell_type": "code",
   "execution_count": 16,
   "metadata": {},
   "outputs": [
    {
     "name": "stdout",
     "output_type": "stream",
     "text": [
      "Mike Olsen\n"
     ]
    }
   ],
   "source": [
    "class Person:\n",
    "  def __init__(self, fname, lname):\n",
    "    self.firstname = fname\n",
    "    self.lastname = lname\n",
    "\n",
    "  def printname(self):\n",
    "    print(self.firstname, self.lastname)\n",
    "\n",
    "class Student(Person):\n",
    "  def __init__(self, fname, lname):\n",
    "    Person.__init__(self, fname, lname)\n",
    "\n",
    "x = Student(\"Mike\", \"Olsen\")\n",
    "x.printname()"
   ]
  },
  {
   "cell_type": "markdown",
   "metadata": {},
   "source": [
    "Ahora hemos agregado con éxito la función __init__() y conservamos la herencia de la clase principal, y estamos listos para agregar funcionalidad en la ``__init__()`` función.\n",
    "\n",
    "## Usa la función super()\n",
    "Python también tiene una ``super()`` función que hará que la clase secundaria herede todos los métodos y propiedades de su padre:"
   ]
  },
  {
   "cell_type": "code",
   "execution_count": 17,
   "metadata": {},
   "outputs": [
    {
     "name": "stdout",
     "output_type": "stream",
     "text": [
      "Mike Olsen\n"
     ]
    }
   ],
   "source": [
    "class Person:\n",
    "  def __init__(self, fname, lname):\n",
    "    self.firstname = fname\n",
    "    self.lastname = lname\n",
    "\n",
    "  def printname(self):\n",
    "    print(self.firstname, self.lastname)\n",
    "\n",
    "class Student(Person):\n",
    "  def __init__(self, fname, lname):\n",
    "    super().__init__(fname, lname)\n",
    "\n",
    "x = Student(\"Mike\", \"Olsen\")\n",
    "x.printname()\n"
   ]
  },
  {
   "cell_type": "markdown",
   "metadata": {},
   "source": [
    "Al usar la ``super()`` función, no tiene que usar el nombre del elemento principal, automáticamente heredará los métodos y propiedades de su elemento principal.\n",
    "## Agregar Propiedades"
   ]
  },
  {
   "cell_type": "code",
   "execution_count": 19,
   "metadata": {},
   "outputs": [
    {
     "name": "stdout",
     "output_type": "stream",
     "text": [
      "2019\n"
     ]
    }
   ],
   "source": [
    "# Agregue una propiedad llamada graduationyear a la Student clase:\n",
    "class Person:\n",
    "  def __init__(self, fname, lname):\n",
    "    self.firstname = fname\n",
    "    self.lastname = lname\n",
    "\n",
    "  def printname(self):\n",
    "    print(self.firstname, self.lastname)\n",
    "\n",
    "class Student(Person):\n",
    "  def __init__(self, fname, lname):\n",
    "    super().__init__(fname, lname)\n",
    "    self.graduationyear = 2019\n",
    "\n",
    "x = Student(\"Mike\", \"Olsen\")\n",
    "print(x.graduationyear)"
   ]
  },
  {
   "cell_type": "markdown",
   "metadata": {},
   "source": [
    "En el ejemplo a continuación, el año ``2019`` debe ser una variable y pasarse a la ``Student`` clase al crear objetos de estudiante. Para hacerlo, agregue otro parámetro en la función ``__init__()``:"
   ]
  },
  {
   "cell_type": "code",
   "execution_count": 21,
   "metadata": {},
   "outputs": [
    {
     "name": "stdout",
     "output_type": "stream",
     "text": [
      "2019\n"
     ]
    }
   ],
   "source": [
    "# Agregue un yearparámetro y pase el año correcto al crear objetos:\n",
    "class Person:\n",
    "  def __init__(self, fname, lname):\n",
    "    self.firstname = fname\n",
    "    self.lastname = lname\n",
    "\n",
    "  def printname(self):\n",
    "    print(self.firstname, self.lastname)\n",
    "\n",
    "class Student(Person):\n",
    "  def __init__(self, fname, lname, year):\n",
    "    super().__init__(fname, lname)\n",
    "    self.graduationyear = year\n",
    "\n",
    "x = Student(\"Mike\", \"Olsen\", 2019)\n",
    "print(x.graduationyear)\n"
   ]
  },
  {
   "cell_type": "markdown",
   "metadata": {},
   "source": [
    "## Añadir métodos"
   ]
  },
  {
   "cell_type": "code",
   "execution_count": 22,
   "metadata": {},
   "outputs": [
    {
     "name": "stdout",
     "output_type": "stream",
     "text": [
      "Welcome Mike Olsen to the class of 2019\n"
     ]
    }
   ],
   "source": [
    "# Agregue un método llamado welcomea la Studentclase:\n",
    "class Person:\n",
    "  def __init__(self, fname, lname):\n",
    "    self.firstname = fname\n",
    "    self.lastname = lname\n",
    "\n",
    "  def printname(self):\n",
    "    print(self.firstname, self.lastname)\n",
    "\n",
    "class Student(Person):\n",
    "  def __init__(self, fname, lname, year):\n",
    "    super().__init__(fname, lname)\n",
    "    self.graduationyear = year\n",
    "\n",
    "  def welcome(self):\n",
    "    print(\"Welcome\", self.firstname, self.lastname, \"to the class of\", self.graduationyear)\n",
    "\n",
    "x = Student(\"Mike\", \"Olsen\", 2019)\n",
    "x.welcome()"
   ]
  },
  {
   "cell_type": "markdown",
   "metadata": {},
   "source": [
    "Si agrega un método en la clase secundaria con el mismo nombre que una función en la clase principal, se anulará la herencia del método principal."
   ]
  },
  {
   "cell_type": "markdown",
   "metadata": {},
   "source": [
    "# Python Iterators\n",
    "## Iteradores de Python\n",
    "Un iterador es un objeto que contiene un número contable de valores.\n",
    "\n",
    "Un iterador es un objeto que se puede iterar, lo que significa que puede recorrer todos los valores.\n",
    "\n",
    "Técnicamente, en Python, un iterador es un objeto que implementa el protocolo del iterador, que consta de los métodos ``__iter__()`` y ``__next__()``.\n",
    "\n",
    "## Iterador vs Iterable\n",
    "Las listas, las tuplas, los diccionarios y los conjuntos son todos objetos iterables. Son contenedores iterables de los que puede obtener un iterador.\n",
    "\n",
    "Todos estos objetos tienen un ``iter()`` método que se utiliza para obtener un iterador:\n"
   ]
  },
  {
   "cell_type": "code",
   "execution_count": 23,
   "metadata": {},
   "outputs": [
    {
     "name": "stdout",
     "output_type": "stream",
     "text": [
      "apple\n",
      "banana\n",
      "cherry\n"
     ]
    }
   ],
   "source": [
    "# Devuelve un iterador de una tupla e imprime cada valor:\n",
    "mytuple = (\"apple\", \"banana\", \"cherry\")\n",
    "myit = iter(mytuple)\n",
    "\n",
    "print(next(myit))\n",
    "print(next(myit))\n",
    "print(next(myit))\n"
   ]
  },
  {
   "cell_type": "markdown",
   "metadata": {},
   "source": [
    "Incluso las cadenas son objetos iterables y pueden devolver un iterador:"
   ]
  },
  {
   "cell_type": "code",
   "execution_count": 24,
   "metadata": {},
   "outputs": [
    {
     "name": "stdout",
     "output_type": "stream",
     "text": [
      "b\n",
      "a\n",
      "n\n",
      "a\n",
      "n\n",
      "a\n"
     ]
    }
   ],
   "source": [
    "# Las cadenas también son objetos iterables, que contienen una secuencia de caracteres:\n",
    "\n",
    "mystr = \"banana\"\n",
    "myit = iter(mystr)\n",
    "\n",
    "print(next(myit))\n",
    "print(next(myit))\n",
    "print(next(myit))\n",
    "print(next(myit))\n",
    "print(next(myit))\n",
    "print(next(myit))"
   ]
  },
  {
   "cell_type": "markdown",
   "metadata": {},
   "source": [
    "## Bucle a través de un iterador\n",
    "También podemos usar un ``for`` bucle para iterar a través de un objeto iterable:"
   ]
  },
  {
   "cell_type": "code",
   "execution_count": 25,
   "metadata": {},
   "outputs": [
    {
     "name": "stdout",
     "output_type": "stream",
     "text": [
      "apple\n",
      "banana\n",
      "cherry\n"
     ]
    }
   ],
   "source": [
    "# Iterar los valores de una tupla:\n",
    "mytuple = (\"apple\", \"banana\", \"cherry\")\n",
    "\n",
    "for x in mytuple:\n",
    "  print(x)"
   ]
  },
  {
   "cell_type": "code",
   "execution_count": 26,
   "metadata": {},
   "outputs": [
    {
     "name": "stdout",
     "output_type": "stream",
     "text": [
      "b\n",
      "a\n",
      "n\n",
      "a\n",
      "n\n",
      "a\n"
     ]
    }
   ],
   "source": [
    "# Iterar los caracteres de una cadena:\n",
    "\n",
    "mystr = \"banana\"\n",
    "\n",
    "for x in mystr:\n",
    "  print(x)"
   ]
  },
  {
   "cell_type": "markdown",
   "metadata": {},
   "source": [
    "El ``for`` bucle en realidad crea un objeto iterador y ejecuta el método next() para cada bucle.\n",
    "\n",
    "## Crear un iterador\n",
    "Para crear un objeto/clase como un iterador, debe implementar los métodos ``__iter__()`` y ``__next__()`` su objeto.\n",
    "\n",
    "Como aprendió en el capítulo Clases/Objetos de Python , todas las clases tienen una función llamada ``__init__()``, que le permite realizar algunas inicializaciones cuando se crea el objeto.\n",
    "\n",
    "El ``__iter__()`` método actúa de manera similar, puede realizar operaciones (inicialización, etc.), pero siempre debe devolver el objeto iterador en sí.\n",
    "\n",
    "El ``__next__()`` método también le permite realizar operaciones y debe devolver el siguiente elemento de la secuencia."
   ]
  },
  {
   "cell_type": "code",
   "execution_count": 27,
   "metadata": {},
   "outputs": [
    {
     "name": "stdout",
     "output_type": "stream",
     "text": [
      "1\n",
      "2\n",
      "3\n",
      "4\n",
      "5\n"
     ]
    }
   ],
   "source": [
    "#Cree un iterador que devuelva números, comenzando con 1, y cada secuencia aumentará en uno (devolviendo 1,2,3,4,5, etc.):\n",
    "class MyNumbers:\n",
    "  def __iter__(self):\n",
    "    self.a = 1\n",
    "    return self\n",
    "\n",
    "  def __next__(self):\n",
    "    x = self.a\n",
    "    self.a += 1\n",
    "    return x\n",
    "\n",
    "myclass = MyNumbers()\n",
    "myiter = iter(myclass)\n",
    "\n",
    "print(next(myiter))\n",
    "print(next(myiter))\n",
    "print(next(myiter))\n",
    "print(next(myiter))\n",
    "print(next(myiter))"
   ]
  },
  {
   "cell_type": "markdown",
   "metadata": {},
   "source": [
    "## Detener iteración\n",
    "El ejemplo anterior continuaría para siempre si tuviera suficientes instrucciones next(), o si se usara en un ``for`` bucle.\n",
    "\n",
    "Para evitar que la iteración continúe para siempre, podemos usar la ``StopIteration`` declaración.\n",
    "\n",
    "En el ``__next__()`` método, podemos agregar una condición de terminación para generar un error si la iteración se realiza una cantidad específica de veces:"
   ]
  },
  {
   "cell_type": "code",
   "execution_count": 28,
   "metadata": {},
   "outputs": [
    {
     "name": "stdout",
     "output_type": "stream",
     "text": [
      "1\n",
      "2\n",
      "3\n",
      "4\n",
      "5\n",
      "6\n",
      "7\n",
      "8\n",
      "9\n",
      "10\n",
      "11\n",
      "12\n",
      "13\n",
      "14\n",
      "15\n",
      "16\n",
      "17\n",
      "18\n",
      "19\n",
      "20\n"
     ]
    }
   ],
   "source": [
    "# Detener después de 20 iteraciones:\n",
    "\n",
    "class MyNumbers:\n",
    "  def __iter__(self):\n",
    "    self.a = 1\n",
    "    return self\n",
    "\n",
    "  def __next__(self):\n",
    "    if self.a <= 20:\n",
    "      x = self.a\n",
    "      self.a += 1\n",
    "      return x\n",
    "    else:\n",
    "      raise StopIteration\n",
    "\n",
    "myclass = MyNumbers()\n",
    "myiter = iter(myclass)\n",
    "\n",
    "for x in myiter:\n",
    "  print(x)"
   ]
  },
  {
   "cell_type": "markdown",
   "metadata": {},
   "source": [
    "# Python Polymorphism\n",
    "La palabra \"polimorfismo\" significa \"muchas formas\", y en programación se refiere a métodos/funciones/operadores con el mismo nombre que se pueden ejecutar en muchos objetos o clases.\n",
    "\n",
    "## Polimorfismo de función\n",
    "Un ejemplo de una función de Python que se puede usar en diferentes objetos es la ``len()`` función.\n",
    "\n",
    "Cadena\n",
    "Para cadenas ``len()`` devuelve el número de caracteres:"
   ]
  },
  {
   "cell_type": "code",
   "execution_count": 29,
   "metadata": {},
   "outputs": [
    {
     "name": "stdout",
     "output_type": "stream",
     "text": [
      "12\n"
     ]
    }
   ],
   "source": [
    "x = \"Hello World!\"\n",
    "\n",
    "print(len(x))"
   ]
  },
  {
   "cell_type": "markdown",
   "metadata": {},
   "source": [
    "## tupla\n",
    "Para tuplas ``len()`` devuelve el número de elementos en la tupla:"
   ]
  },
  {
   "cell_type": "code",
   "execution_count": 30,
   "metadata": {},
   "outputs": [
    {
     "name": "stdout",
     "output_type": "stream",
     "text": [
      "3\n"
     ]
    }
   ],
   "source": [
    "mytuple = (\"apple\", \"banana\", \"cherry\")\n",
    "\n",
    "print(len(mytuple))"
   ]
  },
  {
   "cell_type": "markdown",
   "metadata": {},
   "source": [
    "## Diccionario\n",
    "Para diccionarios ``len()`` devuelve el número de pares clave/valor en el diccionario:"
   ]
  },
  {
   "cell_type": "code",
   "execution_count": 31,
   "metadata": {},
   "outputs": [
    {
     "name": "stdout",
     "output_type": "stream",
     "text": [
      "3\n"
     ]
    }
   ],
   "source": [
    "thisdict = {\n",
    "  \"brand\": \"Ford\",\n",
    "  \"model\": \"Mustang\",\n",
    "  \"year\": 1964\n",
    "}\n",
    "\n",
    "print(len(thisdict))"
   ]
  },
  {
   "cell_type": "markdown",
   "metadata": {},
   "source": [
    "## Polimorfismo de clase\n",
    "El polimorfismo se usa a menudo en los métodos de clase, donde podemos tener varias clases con el mismo nombre de método.\n",
    "\n",
    "Por ejemplo, digamos que tenemos tres clases: ``Car``, ``Boat`` y ``Plane``, y todas tienen un método llamado ``move()``:"
   ]
  },
  {
   "cell_type": "code",
   "execution_count": 32,
   "metadata": {},
   "outputs": [
    {
     "name": "stdout",
     "output_type": "stream",
     "text": [
      "Drive!\n",
      "Sail!\n",
      "Fly!\n"
     ]
    }
   ],
   "source": [
    "class Car:\n",
    "  def __init__(self, brand, model):\n",
    "    self.brand = brand\n",
    "    self.model = model\n",
    "\n",
    "  def move(self):\n",
    "    print(\"Drive!\")\n",
    "\n",
    "class Boat:\n",
    "  def __init__(self, brand, model):\n",
    "    self.brand = brand\n",
    "    self.model = model\n",
    "\n",
    "  def move(self):\n",
    "    print(\"Sail!\")\n",
    "\n",
    "class Plane:\n",
    "  def __init__(self, brand, model):\n",
    "    self.brand = brand\n",
    "    self.model = model\n",
    "\n",
    "  def move(self):\n",
    "    print(\"Fly!\")\n",
    "\n",
    "car1 = Car(\"Ford\", \"Mustang\")       #Create a Car class\n",
    "boat1 = Boat(\"Ibiza\", \"Touring 20\") #Create a Boat class\n",
    "plane1 = Plane(\"Boeing\", \"747\")     #Create a Plane class\n",
    "\n",
    "for x in (car1, boat1, plane1):\n",
    "  x.move()"
   ]
  },
  {
   "cell_type": "markdown",
   "metadata": {},
   "source": [
    "Mira el bucle for al final. Debido al polimorfismo, podemos ejecutar el mismo método para las tres clases.\n",
    "\n",
    "## Polimorfismo de clase de herencia\n",
    "¿Qué pasa con las clases con clases secundarias con el mismo nombre? ¿Podemos usar polimorfismo allí?\n",
    "\n",
    "Sí. Si usamos el ejemplo anterior y creamos una clase principal llamada , ``Vehicle`` y creamos ``Car`` clases secundarias de , las clases secundarias heredan los métodos, pero pueden anularlos: ``Boat Plane Vehicle Vehicle``"
   ]
  },
  {
   "cell_type": "markdown",
   "metadata": {},
   "source": [
    "Cree una clase llamada y ``Vehicle`` cree clases secundarias de :``Car Boat Plane Vehicle``"
   ]
  },
  {
   "cell_type": "code",
   "execution_count": 33,
   "metadata": {},
   "outputs": [
    {
     "name": "stdout",
     "output_type": "stream",
     "text": [
      "Ford\n",
      "Mustang\n",
      "Move!\n",
      "Ibiza\n",
      "Touring 20\n",
      "Sail!\n",
      "Boeing\n",
      "747\n",
      "Fly!\n"
     ]
    }
   ],
   "source": [
    "class Vehicle:\n",
    "  def __init__(self, brand, model):\n",
    "    self.brand = brand\n",
    "    self.model = model\n",
    "\n",
    "  def move(self):\n",
    "    print(\"Move!\")\n",
    "\n",
    "class Car(Vehicle):\n",
    "  pass\n",
    "\n",
    "class Boat(Vehicle):\n",
    "  def move(self):\n",
    "    print(\"Sail!\")\n",
    "\n",
    "class Plane(Vehicle):\n",
    "  def move(self):\n",
    "    print(\"Fly!\")\n",
    "\n",
    "car1 = Car(\"Ford\", \"Mustang\") #Create a Car object\n",
    "boat1 = Boat(\"Ibiza\", \"Touring 20\") #Create a Boat object\n",
    "plane1 = Plane(\"Boeing\", \"747\") #Create a Plane object\n",
    "\n",
    "for x in (car1, boat1, plane1):\n",
    "  print(x.brand)\n",
    "  print(x.model)\n",
    "  x.move()"
   ]
  },
  {
   "cell_type": "markdown",
   "metadata": {},
   "source": [
    "Las clases secundarias heredan las propiedades y métodos de la clase principal.\n",
    "\n",
    "En el ejemplo anterior, puede ver que la ``Car`` clase está vacía, pero hereda ``brand``, ``model`` y ``move()`` de ``Vehicle``.\n",
    "\n",
    "Las clases ``Boat`` y ``Plane`` también heredan ``brand``, ``model`` y ``move()``de ``Vehicle``, pero ambas anulan el ``move()`` método.\n",
    "\n",
    "Debido al polimorfismo, podemos ejecutar el mismo método para todas las clases."
   ]
  },
  {
   "cell_type": "markdown",
   "metadata": {},
   "source": [
    "# Python Scope\n",
    "Una variable solo está disponible desde dentro de la región en la que se crea. Esto se llama **alcance**.\n",
    "\n",
    "## Ámbito Local\n",
    "Una variable creada dentro de una función pertenece al ámbito local de esa función y solo se puede usar dentro de esa función.\n"
   ]
  },
  {
   "cell_type": "code",
   "execution_count": 34,
   "metadata": {},
   "outputs": [
    {
     "name": "stdout",
     "output_type": "stream",
     "text": [
      "300\n"
     ]
    }
   ],
   "source": [
    "# Una variable creada dentro de una función está disponible dentro de esa función:\n",
    "\n",
    "def myfunc():\n",
    "  x = 300\n",
    "  print(x)\n",
    "\n",
    "myfunc()"
   ]
  },
  {
   "cell_type": "markdown",
   "metadata": {},
   "source": [
    "## Función Función interior\n",
    "Como se explica en el ejemplo anterior, la variable ``x`` no está disponible fuera de la función, pero está disponible para cualquier función dentro de la función:"
   ]
  },
  {
   "cell_type": "code",
   "execution_count": 35,
   "metadata": {},
   "outputs": [
    {
     "name": "stdout",
     "output_type": "stream",
     "text": [
      "300\n"
     ]
    }
   ],
   "source": [
    "# Se puede acceder a la variable local desde una función dentro de la función:\n",
    "\n",
    "def myfunc():\n",
    "  x = 300\n",
    "  def myinnerfunc():\n",
    "    print(x)\n",
    "  myinnerfunc()\n",
    "\n",
    "myfunc()"
   ]
  },
  {
   "cell_type": "markdown",
   "metadata": {},
   "source": [
    "## Alcance global\n",
    "Una variable creada en el cuerpo principal del código Python es una variable global y pertenece al ámbito global.\n",
    "\n",
    "Las variables globales están disponibles desde cualquier ámbito, global y local."
   ]
  },
  {
   "cell_type": "code",
   "execution_count": 36,
   "metadata": {},
   "outputs": [
    {
     "name": "stdout",
     "output_type": "stream",
     "text": [
      "300\n",
      "300\n"
     ]
    }
   ],
   "source": [
    "# Una variable creada fuera de una función es global y cualquiera puede usarla:\n",
    "\n",
    "x = 300\n",
    "\n",
    "def myfunc():\n",
    "  print(x)\n",
    "\n",
    "myfunc()\n",
    "\n",
    "print(x)"
   ]
  },
  {
   "cell_type": "markdown",
   "metadata": {},
   "source": [
    "## Nombrando Variables\n",
    "Si opera con el mismo nombre de variable dentro y fuera de una función, Python las tratará como dos variables separadas, una disponible en el ámbito global (fuera de la función) y otra disponible en el ámbito local (dentro de la función):"
   ]
  },
  {
   "cell_type": "code",
   "execution_count": 37,
   "metadata": {},
   "outputs": [
    {
     "name": "stdout",
     "output_type": "stream",
     "text": [
      "200\n",
      "300\n"
     ]
    }
   ],
   "source": [
    "# La función imprimirá el local x, y luego el código imprimirá el global x:\n",
    "\n",
    "x = 300\n",
    "\n",
    "def myfunc():\n",
    "  x = 200\n",
    "  print(x)\n",
    "\n",
    "myfunc()\n",
    "\n",
    "print(x)"
   ]
  },
  {
   "cell_type": "markdown",
   "metadata": {},
   "source": [
    "## Palabra clave global\n",
    "Si necesita crear una variable global, pero está atascado en el ámbito local, puede usar la ``global`` palabra clave.\n",
    "\n",
    "La ``global`` palabra clave hace que la variable sea global."
   ]
  },
  {
   "cell_type": "code",
   "execution_count": 38,
   "metadata": {},
   "outputs": [
    {
     "name": "stdout",
     "output_type": "stream",
     "text": [
      "300\n"
     ]
    }
   ],
   "source": [
    "# Si usa la globalpalabra clave, la variable pertenece al ámbito global:\n",
    "\n",
    "def myfunc():\n",
    "  global x\n",
    "  x = 300\n",
    "\n",
    "myfunc()\n",
    "\n",
    "print(x)"
   ]
  },
  {
   "cell_type": "markdown",
   "metadata": {},
   "source": [
    "Además, use la ``global`` palabra clave si desea realizar un cambio en una variable global dentro de una función."
   ]
  },
  {
   "cell_type": "code",
   "execution_count": 39,
   "metadata": {},
   "outputs": [
    {
     "name": "stdout",
     "output_type": "stream",
     "text": [
      "200\n"
     ]
    }
   ],
   "source": [
    "# Para cambiar el valor de una variable global dentro de una función, consulte la variable usando la globalpalabra clave:\n",
    "\n",
    "x = 300\n",
    "\n",
    "def myfunc():\n",
    "  global x\n",
    "  x = 200\n",
    "\n",
    "myfunc()\n",
    "\n",
    "print(x)"
   ]
  },
  {
   "cell_type": "markdown",
   "metadata": {},
   "source": [
    "# Python Modules\n",
    "## ¿Qué es un Módulo?\n",
    "Considere que un módulo es lo mismo que una biblioteca de código.\n",
    "\n",
    "Un archivo que contiene un conjunto de funciones que desea incluir en su aplicación.\n",
    "\n",
    "## Crear un Módulo\n",
    "Para crear un módulo, simplemente guarde el código que desee en un archivo con la extensión de archivo ``.py``:\n",
    "\n",
    "Ejemplo\n",
    "\n",
    "Guarde este código en un archivo llamadomymodule.py\n",
    "\n",
    "```python\n",
    "def greeting(name):\n",
    "  print(\"Hello, \" + name)\n",
    "```\n",
    "\n",
    "## usar un módulo\n",
    "Ahora podemos usar el módulo que acabamos de crear, usando la ``import ``declaración:"
   ]
  },
  {
   "cell_type": "code",
   "execution_count": 57,
   "metadata": {},
   "outputs": [
    {
     "ename": "AttributeError",
     "evalue": "module 'mymodule' has no attribute 'greeting'",
     "output_type": "error",
     "traceback": [
      "\u001b[1;31m---------------------------------------------------------------------------\u001b[0m",
      "\u001b[1;31mAttributeError\u001b[0m                            Traceback (most recent call last)",
      "\u001b[1;32mc:\\Users\\celio\\OneDrive\\Escritorio\\programación\\platzi\\PracticaDePython.ipynb Celda 1121\u001b[0m in \u001b[0;36m4\n\u001b[0;32m      <a href='vscode-notebook-cell:/c%3A/Users/celio/OneDrive/Escritorio/programaci%C3%B3n/platzi/PracticaDePython.ipynb#Z3162sZmlsZQ%3D%3D?line=0'>1</a>\u001b[0m \u001b[39m# Guarde este código en un archivo llamadomymodule.py\u001b[39;00m\n\u001b[0;32m      <a href='vscode-notebook-cell:/c%3A/Users/celio/OneDrive/Escritorio/programaci%C3%B3n/platzi/PracticaDePython.ipynb#Z3162sZmlsZQ%3D%3D?line=1'>2</a>\u001b[0m \u001b[39mimport\u001b[39;00m \u001b[39mmymodule\u001b[39;00m\n\u001b[1;32m----> <a href='vscode-notebook-cell:/c%3A/Users/celio/OneDrive/Escritorio/programaci%C3%B3n/platzi/PracticaDePython.ipynb#Z3162sZmlsZQ%3D%3D?line=3'>4</a>\u001b[0m mymodule\u001b[39m.\u001b[39;49mgreeting(\u001b[39m\"\u001b[39m\u001b[39mJonathan\u001b[39m\u001b[39m\"\u001b[39m)\n",
      "\u001b[1;31mAttributeError\u001b[0m: module 'mymodule' has no attribute 'greeting'"
     ]
    }
   ],
   "source": [
    "# Guarde este código en un archivo llamadomymodule.py\n",
    "import mymodule\n",
    "\n",
    "mymodule.greeting(\"Jonathan\")"
   ]
  },
  {
   "cell_type": "markdown",
   "metadata": {},
   "source": [
    "**Nota**: Cuando use una función de un módulo, use la sintaxis: nombre_módulo.nombre_función .\n",
    "\n",
    "Variables en Módulo\n",
    "El módulo puede contener funciones, como ya se ha descrito, pero también variables de todo tipo (matrices, diccionarios, objetos, etc.):"
   ]
  },
  {
   "cell_type": "code",
   "execution_count": 58,
   "metadata": {},
   "outputs": [],
   "source": [
    "# Guarda este código en el archivo.mymodule.py\n",
    "\n",
    "person1 = {\n",
    "  \"name\": \"John\",\n",
    "  \"age\": 36,\n",
    "  \"country\": \"Norway\"\n",
    "}"
   ]
  },
  {
   "cell_type": "code",
   "execution_count": 59,
   "metadata": {},
   "outputs": [
    {
     "ename": "AttributeError",
     "evalue": "module 'mymodule' has no attribute 'person1'",
     "output_type": "error",
     "traceback": [
      "\u001b[1;31m---------------------------------------------------------------------------\u001b[0m",
      "\u001b[1;31mAttributeError\u001b[0m                            Traceback (most recent call last)",
      "\u001b[1;32mc:\\Users\\celio\\OneDrive\\Escritorio\\programación\\platzi\\PracticaDePython.ipynb Celda 1124\u001b[0m in \u001b[0;36m5\n\u001b[0;32m      <a href='vscode-notebook-cell:/c%3A/Users/celio/OneDrive/Escritorio/programaci%C3%B3n/platzi/PracticaDePython.ipynb#Z3165sZmlsZQ%3D%3D?line=0'>1</a>\u001b[0m \u001b[39m# Importe el módulo llamado mymodule y acceda al diccionario person1:\u001b[39;00m\n\u001b[0;32m      <a href='vscode-notebook-cell:/c%3A/Users/celio/OneDrive/Escritorio/programaci%C3%B3n/platzi/PracticaDePython.ipynb#Z3165sZmlsZQ%3D%3D?line=2'>3</a>\u001b[0m \u001b[39mimport\u001b[39;00m \u001b[39mmymodule\u001b[39;00m\n\u001b[1;32m----> <a href='vscode-notebook-cell:/c%3A/Users/celio/OneDrive/Escritorio/programaci%C3%B3n/platzi/PracticaDePython.ipynb#Z3165sZmlsZQ%3D%3D?line=4'>5</a>\u001b[0m a \u001b[39m=\u001b[39m mymodule\u001b[39m.\u001b[39;49mperson1[\u001b[39m\"\u001b[39m\u001b[39mage\u001b[39m\u001b[39m\"\u001b[39m]\n\u001b[0;32m      <a href='vscode-notebook-cell:/c%3A/Users/celio/OneDrive/Escritorio/programaci%C3%B3n/platzi/PracticaDePython.ipynb#Z3165sZmlsZQ%3D%3D?line=5'>6</a>\u001b[0m \u001b[39mprint\u001b[39m(a)\n",
      "\u001b[1;31mAttributeError\u001b[0m: module 'mymodule' has no attribute 'person1'"
     ]
    }
   ],
   "source": [
    "# Importe el módulo llamado mymodule y acceda al diccionario person1:\n",
    "\n",
    "import mymodule\n",
    "\n",
    "a = mymodule.person1[\"age\"]\n",
    "print(a)"
   ]
  },
  {
   "cell_type": "markdown",
   "metadata": {},
   "source": [
    "## Nombrar un módulo\n",
    "Puede nombrar el archivo del módulo como desee, pero debe tener la extensión de archivo ``.py``\n",
    "\n",
    "## Cambiar el nombre de un módulo\n",
    "Puede crear un alias cuando importe un módulo, utilizando la ``as`` palabra clave:"
   ]
  },
  {
   "cell_type": "code",
   "execution_count": 61,
   "metadata": {},
   "outputs": [
    {
     "ename": "AttributeError",
     "evalue": "module 'mymodule' has no attribute 'person1'",
     "output_type": "error",
     "traceback": [
      "\u001b[1;31m---------------------------------------------------------------------------\u001b[0m",
      "\u001b[1;31mAttributeError\u001b[0m                            Traceback (most recent call last)",
      "\u001b[1;32mc:\\Users\\celio\\OneDrive\\Escritorio\\programación\\platzi\\PracticaDePython.ipynb Celda 1126\u001b[0m in \u001b[0;36m5\n\u001b[0;32m      <a href='vscode-notebook-cell:/c%3A/Users/celio/OneDrive/Escritorio/programaci%C3%B3n/platzi/PracticaDePython.ipynb#Z3166sZmlsZQ%3D%3D?line=0'>1</a>\u001b[0m \u001b[39m# Crea un alias para mymodulellamado mx:\u001b[39;00m\n\u001b[0;32m      <a href='vscode-notebook-cell:/c%3A/Users/celio/OneDrive/Escritorio/programaci%C3%B3n/platzi/PracticaDePython.ipynb#Z3166sZmlsZQ%3D%3D?line=2'>3</a>\u001b[0m \u001b[39mimport\u001b[39;00m \u001b[39mmymodule\u001b[39;00m \u001b[39mas\u001b[39;00m \u001b[39mmx\u001b[39;00m\n\u001b[1;32m----> <a href='vscode-notebook-cell:/c%3A/Users/celio/OneDrive/Escritorio/programaci%C3%B3n/platzi/PracticaDePython.ipynb#Z3166sZmlsZQ%3D%3D?line=4'>5</a>\u001b[0m a \u001b[39m=\u001b[39m mx\u001b[39m.\u001b[39;49mperson1[\u001b[39m\"\u001b[39m\u001b[39mage\u001b[39m\u001b[39m\"\u001b[39m]\n\u001b[0;32m      <a href='vscode-notebook-cell:/c%3A/Users/celio/OneDrive/Escritorio/programaci%C3%B3n/platzi/PracticaDePython.ipynb#Z3166sZmlsZQ%3D%3D?line=5'>6</a>\u001b[0m \u001b[39mprint\u001b[39m(a)\n",
      "\u001b[1;31mAttributeError\u001b[0m: module 'mymodule' has no attribute 'person1'"
     ]
    }
   ],
   "source": [
    "# Crea un alias para mymodulellamado mx:\n",
    "\n",
    "import mymodule as mx\n",
    "\n",
    "a = mx.person1[\"age\"]\n",
    "print(a)"
   ]
  },
  {
   "cell_type": "markdown",
   "metadata": {},
   "source": [
    "## Módulos incorporados\n",
    "Hay varios módulos integrados en Python, que puede importar cuando lo desee."
   ]
  },
  {
   "cell_type": "code",
   "execution_count": 62,
   "metadata": {},
   "outputs": [
    {
     "name": "stdout",
     "output_type": "stream",
     "text": [
      "Windows\n"
     ]
    }
   ],
   "source": [
    "# Importe y use el platformmódulo:\n",
    "\n",
    "import platform\n",
    "\n",
    "x = platform.system()\n",
    "print(x)"
   ]
  },
  {
   "cell_type": "markdown",
   "metadata": {},
   "source": [
    "## Usando la función ``dir()``\n",
    "Hay una función incorporada para enumerar todos los nombres de funciones (o nombres de variables) en un módulo. La ``dir()`` función:"
   ]
  },
  {
   "cell_type": "code",
   "execution_count": 63,
   "metadata": {},
   "outputs": [
    {
     "name": "stdout",
     "output_type": "stream",
     "text": [
      "['_Processor', '_WIN32_CLIENT_RELEASES', '_WIN32_SERVER_RELEASES', '__builtins__', '__cached__', '__copyright__', '__doc__', '__file__', '__loader__', '__name__', '__package__', '__spec__', '__version__', '_comparable_version', '_component_re', '_default_architecture', '_follow_symlinks', '_get_machine_win32', '_ironpython26_sys_version_parser', '_ironpython_sys_version_parser', '_java_getprop', '_libc_search', '_mac_ver_xml', '_node', '_norm_version', '_os_release_cache', '_os_release_candidates', '_os_release_line', '_os_release_unescape', '_parse_os_release', '_platform', '_platform_cache', '_pypy_sys_version_parser', '_sys_version', '_sys_version_cache', '_sys_version_parser', '_syscmd_file', '_syscmd_ver', '_uname_cache', '_unknown_as_blank', '_ver_output', '_ver_stages', 'architecture', 'collections', 'freedesktop_os_release', 'functools', 'itertools', 'java_ver', 'libc_ver', 'mac_ver', 'machine', 'node', 'os', 'platform', 'processor', 'python_branch', 'python_build', 'python_compiler', 'python_implementation', 'python_revision', 'python_version', 'python_version_tuple', 're', 'release', 'sys', 'system', 'system_alias', 'uname', 'uname_result', 'version', 'win32_edition', 'win32_is_iot', 'win32_ver']\n"
     ]
    }
   ],
   "source": [
    "# Enumere todos los nombres definidos que pertenecen al módulo de la plataforma:\n",
    "\n",
    "import platform\n",
    "\n",
    "x = dir(platform)\n",
    "print(x)"
   ]
  },
  {
   "cell_type": "markdown",
   "metadata": {},
   "source": [
    "**Nota**: La función ``dir()`` se puede utilizar en todos los módulos, también en los que cree usted mismo."
   ]
  },
  {
   "cell_type": "markdown",
   "metadata": {},
   "source": [
    "## Importar desde módulo\n",
    "Puede optar por importar solo partes de un módulo, utilizando la ``from`` palabra clave."
   ]
  },
  {
   "cell_type": "code",
   "execution_count": 64,
   "metadata": {},
   "outputs": [],
   "source": [
    "# El módulo nombrado mymoduletiene una función y un diccionario:\n",
    "\n",
    "def greeting(name):\n",
    "  print(\"Hello, \" + name)\n",
    "\n",
    "person1 = {\n",
    "  \"name\": \"John\",\n",
    "  \"age\": 36,\n",
    "  \"country\": \"Norway\"\n",
    "}"
   ]
  },
  {
   "cell_type": "code",
   "execution_count": 65,
   "metadata": {},
   "outputs": [
    {
     "ename": "ImportError",
     "evalue": "cannot import name 'person1' from 'mymodule' (c:\\Users\\celio\\OneDrive\\Escritorio\\programación\\platzi\\mymodule.py)",
     "output_type": "error",
     "traceback": [
      "\u001b[1;31m---------------------------------------------------------------------------\u001b[0m",
      "\u001b[1;31mImportError\u001b[0m                               Traceback (most recent call last)",
      "\u001b[1;32mc:\\Users\\celio\\OneDrive\\Escritorio\\programación\\platzi\\PracticaDePython.ipynb Celda 1134\u001b[0m in \u001b[0;36m3\n\u001b[0;32m      <a href='vscode-notebook-cell:/c%3A/Users/celio/OneDrive/Escritorio/programaci%C3%B3n/platzi/PracticaDePython.ipynb#Z3211sZmlsZQ%3D%3D?line=0'>1</a>\u001b[0m \u001b[39m# Importe solo el diccionario person1 del módulo:\u001b[39;00m\n\u001b[1;32m----> <a href='vscode-notebook-cell:/c%3A/Users/celio/OneDrive/Escritorio/programaci%C3%B3n/platzi/PracticaDePython.ipynb#Z3211sZmlsZQ%3D%3D?line=2'>3</a>\u001b[0m \u001b[39mfrom\u001b[39;00m \u001b[39mmymodule\u001b[39;00m \u001b[39mimport\u001b[39;00m person1\n\u001b[0;32m      <a href='vscode-notebook-cell:/c%3A/Users/celio/OneDrive/Escritorio/programaci%C3%B3n/platzi/PracticaDePython.ipynb#Z3211sZmlsZQ%3D%3D?line=4'>5</a>\u001b[0m \u001b[39mprint\u001b[39m (person1[\u001b[39m\"\u001b[39m\u001b[39mage\u001b[39m\u001b[39m\"\u001b[39m])\n",
      "\u001b[1;31mImportError\u001b[0m: cannot import name 'person1' from 'mymodule' (c:\\Users\\celio\\OneDrive\\Escritorio\\programación\\platzi\\mymodule.py)"
     ]
    }
   ],
   "source": [
    "# Importe solo el diccionario person1 del módulo:\n",
    "\n",
    "from mymodule import person1\n",
    "\n",
    "print (person1[\"age\"])"
   ]
  },
  {
   "cell_type": "markdown",
   "metadata": {},
   "source": [
    "# Python Datetime\n",
    "# Fechas de Python\n",
    "Una fecha en Python no es un tipo de datos en sí mismo, pero podemos importar un módulo llamado ``datetime`` para trabajar con fechas como objetos de fecha."
   ]
  },
  {
   "cell_type": "code",
   "execution_count": 67,
   "metadata": {},
   "outputs": [
    {
     "name": "stdout",
     "output_type": "stream",
     "text": [
      "2023-08-07 21:57:22.241527\n"
     ]
    }
   ],
   "source": [
    "# Importe el módulo de fecha y hora y muestre la fecha actual:\n",
    "\n",
    "import datetime\n",
    "\n",
    "x = datetime.datetime.now()\n",
    "print(x)"
   ]
  },
  {
   "cell_type": "markdown",
   "metadata": {},
   "source": [
    "## Salida de fecha\n",
    "Cuando ejecutamos el código del ejemplo anterior, el resultado será:\n",
    "\n",
    "``2023-08-07 21:55:40.626163``\n",
    "La fecha contiene año, mes, día, hora, minuto, segundo y microsegundo.\n",
    "\n",
    "El ``datetime`` módulo tiene muchos métodos para devolver información sobre el objeto de fecha.\n",
    "\n",
    "Aquí hay algunos ejemplos, aprenderá más sobre ellos más adelante en este capítulo:"
   ]
  },
  {
   "cell_type": "code",
   "execution_count": 69,
   "metadata": {},
   "outputs": [
    {
     "name": "stdout",
     "output_type": "stream",
     "text": [
      "2023\n",
      "Monday\n"
     ]
    }
   ],
   "source": [
    "# Devuelve el año y el nombre del día de la semana:\n",
    "\n",
    "import datetime\n",
    "\n",
    "x = datetime.datetime.now()\n",
    "\n",
    "print(x.year)\n",
    "print(x.strftime(\"%A\"))"
   ]
  },
  {
   "cell_type": "markdown",
   "metadata": {},
   "source": [
    "## Creación de objetos de fecha\n",
    "Para crear una fecha, podemos usar la ``datetime()`` clase (constructor) del ``datetime`` módulo.\n",
    "\n",
    "La datetime()clase requiere tres parámetros para crear una fecha: año, mes, día."
   ]
  },
  {
   "cell_type": "code",
   "execution_count": 70,
   "metadata": {},
   "outputs": [
    {
     "name": "stdout",
     "output_type": "stream",
     "text": [
      "2020-05-17 00:00:00\n"
     ]
    }
   ],
   "source": [
    "# Crear un objeto de fecha:\n",
    "\n",
    "import datetime\n",
    "\n",
    "x = datetime.datetime(2020, 5, 17)\n",
    "\n",
    "print(x)"
   ]
  },
  {
   "cell_type": "markdown",
   "metadata": {},
   "source": [
    "La ``datetime()`` clase también toma parámetros para la hora y la zona horaria (hora, minuto, segundo, microsegundo, tzone), pero son opcionales y tienen un valor predeterminado de ``0``, ( ``None`` para la zona horaria).\n",
    "\n",
    "## El método strftime()\n",
    "El ``datetime`` objeto tiene un método para formatear objetos de fecha en cadenas legibles.\n",
    "\n",
    "El método se llama ``strftime()`` y toma un parámetro, ``format`` para especificar el formato de la cadena devuelta:"
   ]
  },
  {
   "cell_type": "code",
   "execution_count": 71,
   "metadata": {},
   "outputs": [
    {
     "name": "stdout",
     "output_type": "stream",
     "text": [
      "June\n"
     ]
    }
   ],
   "source": [
    "# Mostrar el nombre del mes:\n",
    "\n",
    "import datetime\n",
    "\n",
    "x = datetime.datetime(2018, 6, 1)\n",
    "\n",
    "print(x.strftime(\"%B\"))"
   ]
  },
  {
   "cell_type": "markdown",
   "metadata": {},
   "source": [
    "Una referencia de todos los códigos de formato legal:"
   ]
  },
  {
   "cell_type": "code",
   "execution_count": 1,
   "metadata": {},
   "outputs": [
    {
     "name": "stdout",
     "output_type": "stream",
     "text": [
      "Tue\n"
     ]
    }
   ],
   "source": [
    "# %a\tWeekday, short version\tWed\n",
    "import datetime\n",
    "x = datetime.datetime.now()\n",
    "print(x.strftime(\"%a\"))"
   ]
  },
  {
   "cell_type": "code",
   "execution_count": 2,
   "metadata": {},
   "outputs": [
    {
     "name": "stdout",
     "output_type": "stream",
     "text": [
      "Tuesday\n"
     ]
    }
   ],
   "source": [
    "# %A\tWeekday, full version\tWednesday\n",
    "import datetime\n",
    "x = datetime.datetime.now()\n",
    "print(x.strftime(\"%A\"))\n"
   ]
  },
  {
   "cell_type": "code",
   "execution_count": 3,
   "metadata": {},
   "outputs": [
    {
     "name": "stdout",
     "output_type": "stream",
     "text": [
      "2\n"
     ]
    }
   ],
   "source": [
    "# %w\tWeekday as a number 0-6, 0 is Sunday\t3\n",
    "import datetime\n",
    "x = datetime.datetime.now()\n",
    "print(x.strftime(\"%w\"))"
   ]
  },
  {
   "cell_type": "code",
   "execution_count": 4,
   "metadata": {},
   "outputs": [
    {
     "name": "stdout",
     "output_type": "stream",
     "text": [
      "08\n"
     ]
    }
   ],
   "source": [
    "# %d\tDay of month 01-31\t31\n",
    "import datetime\n",
    "x = datetime.datetime.now()\n",
    "print(x.strftime(\"%d\"))\n"
   ]
  },
  {
   "cell_type": "code",
   "execution_count": 5,
   "metadata": {},
   "outputs": [
    {
     "name": "stdout",
     "output_type": "stream",
     "text": [
      "Aug\n"
     ]
    }
   ],
   "source": [
    "# %b\tMonth name, short version\tDec\n",
    "import datetime\n",
    "x = datetime.datetime.now()\n",
    "print(x.strftime(\"%b\"))"
   ]
  },
  {
   "cell_type": "code",
   "execution_count": 6,
   "metadata": {},
   "outputs": [
    {
     "name": "stdout",
     "output_type": "stream",
     "text": [
      "August\n"
     ]
    }
   ],
   "source": [
    "# %B\tMonth name, full version\tDecember\n",
    "import datetime\n",
    "x = datetime.datetime.now()\n",
    "print(x.strftime(\"%B\"))"
   ]
  },
  {
   "cell_type": "code",
   "execution_count": 7,
   "metadata": {},
   "outputs": [
    {
     "name": "stdout",
     "output_type": "stream",
     "text": [
      "08\n"
     ]
    }
   ],
   "source": [
    "# %m\tMonth as a number 01-12\t12\n",
    "import datetime\n",
    "x = datetime.datetime.now()\n",
    "print(x.strftime(\"%m\"))"
   ]
  },
  {
   "cell_type": "code",
   "execution_count": 8,
   "metadata": {},
   "outputs": [
    {
     "name": "stdout",
     "output_type": "stream",
     "text": [
      "23\n"
     ]
    }
   ],
   "source": [
    "# %y\tYear, short version, without century\t18\n",
    "import datetime\n",
    "x = datetime.datetime.now()\n",
    "print(x.strftime(\"%y\"))"
   ]
  },
  {
   "cell_type": "code",
   "execution_count": 9,
   "metadata": {},
   "outputs": [
    {
     "name": "stdout",
     "output_type": "stream",
     "text": [
      "2023\n"
     ]
    }
   ],
   "source": [
    "# %Y\tYear, full version\t2018\n",
    "import datetime\n",
    "x = datetime.datetime.now()\n",
    "print(x.strftime(\"%Y\"))"
   ]
  },
  {
   "cell_type": "code",
   "execution_count": 10,
   "metadata": {},
   "outputs": [
    {
     "name": "stdout",
     "output_type": "stream",
     "text": [
      "11\n"
     ]
    }
   ],
   "source": [
    "# %H\tHour 00-23\t17\n",
    "import datetime\n",
    "x = datetime.datetime.now()\n",
    "print(x.strftime(\"%H\"))"
   ]
  },
  {
   "cell_type": "code",
   "execution_count": 11,
   "metadata": {},
   "outputs": [
    {
     "name": "stdout",
     "output_type": "stream",
     "text": [
      "11\n"
     ]
    }
   ],
   "source": [
    "# %I\tHour 00-12\t05\n",
    "import datetime\n",
    "x = datetime.datetime.now()\n",
    "print(x.strftime(\"%I\"))\n"
   ]
  },
  {
   "cell_type": "code",
   "execution_count": 12,
   "metadata": {},
   "outputs": [
    {
     "name": "stdout",
     "output_type": "stream",
     "text": [
      "AM\n"
     ]
    }
   ],
   "source": [
    "# %p\tAM/PM\tPM\n",
    "import datetime\n",
    "x = datetime.datetime.now()\n",
    "print(x.strftime(\"%p\"))"
   ]
  },
  {
   "cell_type": "code",
   "execution_count": 13,
   "metadata": {},
   "outputs": [
    {
     "name": "stdout",
     "output_type": "stream",
     "text": [
      "14\n"
     ]
    }
   ],
   "source": [
    "# %M\tMinute 00-59\t41\n",
    "import datetime\n",
    "x = datetime.datetime.now()\n",
    "print(x.strftime(\"%M\"))"
   ]
  },
  {
   "cell_type": "code",
   "execution_count": 16,
   "metadata": {},
   "outputs": [
    {
     "name": "stdout",
     "output_type": "stream",
     "text": [
      "05\n"
     ]
    }
   ],
   "source": [
    "# %S\tSecond 00-59\t08\n",
    "import datetime\n",
    "x = datetime.datetime.now()\n",
    "print(x.strftime(\"%S\"))"
   ]
  },
  {
   "cell_type": "code",
   "execution_count": 18,
   "metadata": {},
   "outputs": [
    {
     "name": "stdout",
     "output_type": "stream",
     "text": [
      "170179\n"
     ]
    }
   ],
   "source": [
    "# %f\tMicrosecond 000000-999999\t548513\n",
    "import datetime\n",
    "x = datetime.datetime.now()\n",
    "print(x.strftime(\"%f\"))"
   ]
  },
  {
   "cell_type": "code",
   "execution_count": 20,
   "metadata": {},
   "outputs": [
    {
     "name": "stdout",
     "output_type": "stream",
     "text": [
      "\n"
     ]
    }
   ],
   "source": [
    "# %z\tUTC offset\t+0100\n",
    "import datetime\n",
    "x = datetime.datetime.now()\n",
    "print(x.strftime(\"%z\"))"
   ]
  },
  {
   "cell_type": "code",
   "execution_count": 21,
   "metadata": {},
   "outputs": [
    {
     "name": "stdout",
     "output_type": "stream",
     "text": [
      "\n"
     ]
    }
   ],
   "source": [
    "# %Z\tTimezone\tCST\n",
    "import datetime\n",
    "x = datetime.datetime.now()\n",
    "print(x.strftime(\"%Z\"))"
   ]
  },
  {
   "cell_type": "code",
   "execution_count": 22,
   "metadata": {},
   "outputs": [
    {
     "name": "stdout",
     "output_type": "stream",
     "text": [
      "220\n"
     ]
    }
   ],
   "source": [
    "# %j\tDay number of year 001-366\t365\n",
    "import datetime\n",
    "x = datetime.datetime.now()\n",
    "print(x.strftime(\"%j\"))"
   ]
  },
  {
   "cell_type": "code",
   "execution_count": 23,
   "metadata": {},
   "outputs": [
    {
     "name": "stdout",
     "output_type": "stream",
     "text": [
      "32\n"
     ]
    }
   ],
   "source": [
    "# %U\tWeek number of year, Sunday as the first day of week, 00-53\t52\n",
    "import datetime\n",
    "x = datetime.datetime.now()\n",
    "print(x.strftime(\"%U\"))"
   ]
  },
  {
   "cell_type": "code",
   "execution_count": 24,
   "metadata": {},
   "outputs": [
    {
     "name": "stdout",
     "output_type": "stream",
     "text": [
      "22\n"
     ]
    }
   ],
   "source": [
    "# %W\tWeek number of year, Monday as the first day of week, 00-53\t52\n",
    "import datetime\n",
    "x = datetime.datetime(2018, 5, 31)\n",
    "print(x.strftime(\"%W\"))"
   ]
  },
  {
   "cell_type": "code",
   "execution_count": 25,
   "metadata": {},
   "outputs": [
    {
     "name": "stdout",
     "output_type": "stream",
     "text": [
      "Tue Aug  8 11:20:47 2023\n"
     ]
    }
   ],
   "source": [
    "# %c\tLocal version of date and time\tMon Dec 31 17:41:00 2018\n",
    "import datetime\n",
    "x = datetime.datetime.now()\n",
    "print(x.strftime(\"%c\"))"
   ]
  },
  {
   "cell_type": "code",
   "execution_count": 26,
   "metadata": {},
   "outputs": [
    {
     "name": "stdout",
     "output_type": "stream",
     "text": [
      "20\n"
     ]
    }
   ],
   "source": [
    "# %C\tCentury\t20\n",
    "import datetime\n",
    "x = datetime.datetime.now()\n",
    "print(x.strftime(\"%C\"))"
   ]
  },
  {
   "cell_type": "code",
   "execution_count": 27,
   "metadata": {},
   "outputs": [
    {
     "name": "stdout",
     "output_type": "stream",
     "text": [
      "08/08/23\n"
     ]
    }
   ],
   "source": [
    "# %x\tLocal version of date\t12/31/18\n",
    "import datetime\n",
    "x = datetime.datetime.now()\n",
    "print(x.strftime(\"%x\"))\n"
   ]
  },
  {
   "cell_type": "code",
   "execution_count": 28,
   "metadata": {},
   "outputs": [
    {
     "name": "stdout",
     "output_type": "stream",
     "text": [
      "11:22:29\n"
     ]
    }
   ],
   "source": [
    "# %X\tLocal version of time\t17:41:00\n",
    "import datetime\n",
    "x = datetime.datetime.now()\n",
    "print(x.strftime(\"%X\"))"
   ]
  },
  {
   "cell_type": "code",
   "execution_count": 29,
   "metadata": {},
   "outputs": [
    {
     "name": "stdout",
     "output_type": "stream",
     "text": [
      "%\n"
     ]
    }
   ],
   "source": [
    "# %%\tA % character\t%\n",
    "import datetime\n",
    "x = datetime.datetime.now()\n",
    "print(x.strftime(\"%%\"))\n"
   ]
  },
  {
   "cell_type": "code",
   "execution_count": 30,
   "metadata": {},
   "outputs": [
    {
     "name": "stdout",
     "output_type": "stream",
     "text": [
      "2023\n"
     ]
    }
   ],
   "source": [
    "# %G\tISO 8601 year\t2018\n",
    "import datetime\n",
    "x = datetime.datetime.now()\n",
    "print(x.strftime(\"%G\"))"
   ]
  },
  {
   "cell_type": "code",
   "execution_count": 31,
   "metadata": {},
   "outputs": [
    {
     "name": "stdout",
     "output_type": "stream",
     "text": [
      "2\n"
     ]
    }
   ],
   "source": [
    "# %u\tISO 8601 weekday (1-7)\t1\n",
    "import datetime\n",
    "x = datetime.datetime.now()\n",
    "print(x.strftime(\"%u\"))"
   ]
  },
  {
   "cell_type": "code",
   "execution_count": 32,
   "metadata": {},
   "outputs": [
    {
     "name": "stdout",
     "output_type": "stream",
     "text": [
      "32\n"
     ]
    }
   ],
   "source": [
    "# %V\tISO 8601 weeknumber (01-53)\t01\n",
    "import datetime\n",
    "x = datetime.datetime.now()\n",
    "print(x.strftime(\"%V\"))"
   ]
  },
  {
   "cell_type": "markdown",
   "metadata": {},
   "source": [
    "# Python Math\n",
    "Python tiene un conjunto de funciones matemáticas integradas, incluido un extenso módulo matemático, que le permite realizar tareas matemáticas con números.\n",
    "\n",
    "## Funciones matemáticas integradas\n",
    "Las funciones ``min()`` y ``max()`` se pueden usar para encontrar el valor más bajo o más alto en un iterable:"
   ]
  },
  {
   "cell_type": "code",
   "execution_count": 33,
   "metadata": {},
   "outputs": [
    {
     "name": "stdout",
     "output_type": "stream",
     "text": [
      "5\n",
      "25\n"
     ]
    }
   ],
   "source": [
    "x = min(5, 10, 25)\n",
    "y = max(5, 10, 25)\n",
    "\n",
    "print(x)\n",
    "print(y)"
   ]
  },
  {
   "cell_type": "markdown",
   "metadata": {},
   "source": [
    "La ``abs()`` función devuelve el valor absoluto (positivo) del número especificado:"
   ]
  },
  {
   "cell_type": "code",
   "execution_count": 34,
   "metadata": {},
   "outputs": [
    {
     "name": "stdout",
     "output_type": "stream",
     "text": [
      "7.25\n"
     ]
    }
   ],
   "source": [
    "x = abs(-7.25)\n",
    "print(x)"
   ]
  },
  {
   "cell_type": "markdown",
   "metadata": {},
   "source": [
    "La función devuelve el valor de x elevado a y (x y ).``pow(x, y)`` "
   ]
  },
  {
   "cell_type": "code",
   "execution_count": 35,
   "metadata": {},
   "outputs": [
    {
     "name": "stdout",
     "output_type": "stream",
     "text": [
      "64\n"
     ]
    }
   ],
   "source": [
    "# Devuelve el valor de 4 a la potencia de 3 (lo mismo que 4 * 4 * 4):\n",
    "x = pow(4, 3)\n",
    "print(x)"
   ]
  },
  {
   "cell_type": "markdown",
   "metadata": {},
   "source": [
    "## El módulo de matemáticas\n",
    "Python también tiene un módulo integrado llamado ``math``, que amplía la lista de funciones matemáticas.\n",
    "\n",
    "Para usarlo, debe importar el ``math`` módulo:\n",
    "\n",
    "```python\n",
    "import math\n",
    "```\n",
    "Cuando haya importado el ``math`` módulo, puede comenzar a usar métodos y constantes del módulo.\n",
    "\n",
    "El ``math.sqrt()`` método, por ejemplo, devuelve la raíz cuadrada de un número:\n"
   ]
  },
  {
   "cell_type": "code",
   "execution_count": 36,
   "metadata": {},
   "outputs": [
    {
     "name": "stdout",
     "output_type": "stream",
     "text": [
      "8.0\n"
     ]
    }
   ],
   "source": [
    "import math\n",
    "x = math.sqrt(64)\n",
    "print(x)"
   ]
  },
  {
   "cell_type": "markdown",
   "metadata": {},
   "source": [
    "El ``math.ceil()`` método redondea un número hacia arriba a su entero más cercano y el ``math.floor()`` método redondea un número hacia abajo a su entero más cercano y devuelve el resultado:"
   ]
  },
  {
   "cell_type": "code",
   "execution_count": 37,
   "metadata": {},
   "outputs": [
    {
     "name": "stdout",
     "output_type": "stream",
     "text": [
      "2\n",
      "1\n"
     ]
    }
   ],
   "source": [
    "import math\n",
    "x = math.ceil(1.4)\n",
    "y = math.floor(1.4)\n",
    "print(x) # returns 2\n",
    "print(y) # returns 1"
   ]
  },
  {
   "cell_type": "markdown",
   "metadata": {},
   "source": [
    "La ``math.pi`` constante, devuelve el valor de PI (3.14...):"
   ]
  },
  {
   "cell_type": "code",
   "execution_count": 38,
   "metadata": {},
   "outputs": [
    {
     "name": "stdout",
     "output_type": "stream",
     "text": [
      "3.141592653589793\n"
     ]
    }
   ],
   "source": [
    "import math\n",
    "x = math.pi\n",
    "print(x)"
   ]
  },
  {
   "cell_type": "markdown",
   "metadata": {},
   "source": [
    "## Referencia completa del módulo matemático\n",
    "En nuestra [Referencia del módulo matemático](https://www.w3schools.com/python/module_math.asp \"Referencia del módulo matemático\") encontrará una referencia completa de todos los métodos y constantes que pertenecen al módulo matemático."
   ]
  },
  {
   "cell_type": "markdown",
   "metadata": {},
   "source": [
    "# Python JSON\n",
    "JSON es una sintaxis para almacenar e intercambiar datos.\n",
    "\n",
    "JSON es texto, escrito con notación de objetos JavaScript.\n",
    "\n",
    "## JSON en Python\n",
    "Python tiene un paquete integrado llamado json, que se puede usar para trabajar con datos JSON.\n",
    "\n",
    "### Ejemplo\n",
    "Importe el módulo json:\n",
    "\n",
    "```python\n",
    "import json\n",
    "```\n",
    "\n",
    "## Analizar JSON - Convertir de JSON a Python\n",
    "Si tiene una cadena JSON, puede analizarla utilizando el ``json.loads()`` método.\n",
    "\n",
    "El resultado será un [diccionario Python](https://www.w3schools.com/python/python_dictionaries.asp \"diccionario Python\") ."
   ]
  },
  {
   "cell_type": "code",
   "execution_count": 39,
   "metadata": {},
   "outputs": [
    {
     "name": "stdout",
     "output_type": "stream",
     "text": [
      "30\n"
     ]
    }
   ],
   "source": [
    "# Convertir de JSON a Python:\n",
    "\n",
    "import json\n",
    "\n",
    "# some JSON:\n",
    "x =  '{ \"name\":\"John\", \"age\":30, \"city\":\"New York\"}'\n",
    "\n",
    "# parse x:\n",
    "y = json.loads(x)\n",
    "\n",
    "# the result is a Python dictionary:\n",
    "print(y[\"age\"])"
   ]
  },
  {
   "cell_type": "markdown",
   "metadata": {},
   "source": [
    "## Convertir de Python a JSON\n",
    "Si tiene un objeto de Python, puede convertirlo en una cadena JSON utilizando el ``json.dumps()`` método."
   ]
  },
  {
   "cell_type": "code",
   "execution_count": 40,
   "metadata": {},
   "outputs": [
    {
     "name": "stdout",
     "output_type": "stream",
     "text": [
      "{\"name\": \"John\", \"age\": 30, \"city\": \"New York\"}\n"
     ]
    }
   ],
   "source": [
    "# Convertir de Python a JSON:\n",
    "\n",
    "import json\n",
    "\n",
    "# a Python object (dict):\n",
    "x = {\n",
    "  \"name\": \"John\",\n",
    "  \"age\": 30,\n",
    "  \"city\": \"New York\"\n",
    "}\n",
    "\n",
    "# convert into JSON:\n",
    "y = json.dumps(x)\n",
    "\n",
    "# the result is a JSON string:\n",
    "print(y)"
   ]
  },
  {
   "cell_type": "markdown",
   "metadata": {},
   "source": [
    "Puede convertir objetos de Python de los siguientes tipos en cadenas JSON:\n",
    "\n",
    "- dictar\n",
    "- lista\n",
    "- tupla\n",
    "- cadena\n",
    "- En t\n",
    "- flotar\n",
    "- Verdadero\n",
    "- FALSO\n",
    "- Ninguno"
   ]
  },
  {
   "cell_type": "code",
   "execution_count": 41,
   "metadata": {},
   "outputs": [
    {
     "name": "stdout",
     "output_type": "stream",
     "text": [
      "{\"name\": \"John\", \"age\": 30}\n",
      "[\"apple\", \"bananas\"]\n",
      "[\"apple\", \"bananas\"]\n",
      "\"hello\"\n",
      "42\n",
      "31.76\n",
      "true\n",
      "false\n",
      "null\n"
     ]
    }
   ],
   "source": [
    "# Convierta objetos de Python en cadenas JSON e imprima los valores:\n",
    "\n",
    "import json\n",
    "\n",
    "print(json.dumps({\"name\": \"John\", \"age\": 30}))\n",
    "print(json.dumps([\"apple\", \"bananas\"]))\n",
    "print(json.dumps((\"apple\", \"bananas\")))\n",
    "print(json.dumps(\"hello\"))\n",
    "print(json.dumps(42))\n",
    "print(json.dumps(31.76))\n",
    "print(json.dumps(True))\n",
    "print(json.dumps(False))\n",
    "print(json.dumps(None))"
   ]
  },
  {
   "cell_type": "markdown",
   "metadata": {},
   "source": [
    "Cuando convierte de Python a JSON, los objetos de Python se convierten al equivalente de JSON (JavaScript):\n",
    "\n",
    "Python | JSON\n",
    "------------- | -------------\n",
    "dict | Object\n",
    "list | Array\n",
    "tuple | Array\n",
    "str | String\n",
    "int | Number\n",
    "float | Number\n",
    "True | true\n",
    "False |false\n",
    "None | null"
   ]
  },
  {
   "cell_type": "code",
   "execution_count": 42,
   "metadata": {},
   "outputs": [
    {
     "name": "stdout",
     "output_type": "stream",
     "text": [
      "{\"name\": \"John\", \"age\": 30, \"married\": true, \"divorced\": false, \"children\": [\"Ann\", \"Billy\"], \"pets\": null, \"cars\": [{\"model\": \"BMW 230\", \"mpg\": 27.5}, {\"model\": \"Ford Edge\", \"mpg\": 24.1}]}\n"
     ]
    }
   ],
   "source": [
    "# Convierta un objeto de Python que contenga todos los tipos de datos legales:\n",
    "\n",
    "import json\n",
    "\n",
    "x = {\n",
    "  \"name\": \"John\",\n",
    "  \"age\": 30,\n",
    "  \"married\": True,\n",
    "  \"divorced\": False,\n",
    "  \"children\": (\"Ann\",\"Billy\"),\n",
    "  \"pets\": None,\n",
    "  \"cars\": [\n",
    "    {\"model\": \"BMW 230\", \"mpg\": 27.5},\n",
    "    {\"model\": \"Ford Edge\", \"mpg\": 24.1}\n",
    "  ]\n",
    "}\n",
    "\n",
    "print(json.dumps(x))"
   ]
  },
  {
   "cell_type": "markdown",
   "metadata": {},
   "source": [
    "## Dar formato al resultado\n",
    "El ejemplo anterior imprime una cadena JSON, pero no es muy fácil de leer, sin sangrías ni saltos de línea.\n",
    "\n",
    "El ``json.dumps()`` método tiene parámetros para facilitar la lectura del resultado:"
   ]
  },
  {
   "cell_type": "code",
   "execution_count": 43,
   "metadata": {},
   "outputs": [
    {
     "name": "stdout",
     "output_type": "stream",
     "text": [
      "{\n",
      "    \"name\": \"John\",\n",
      "    \"age\": 30,\n",
      "    \"married\": true,\n",
      "    \"divorced\": false,\n",
      "    \"children\": [\n",
      "        \"Ann\",\n",
      "        \"Billy\"\n",
      "    ],\n",
      "    \"pets\": null,\n",
      "    \"cars\": [\n",
      "        {\n",
      "            \"model\": \"BMW 230\",\n",
      "            \"mpg\": 27.5\n",
      "        },\n",
      "        {\n",
      "            \"model\": \"Ford Edge\",\n",
      "            \"mpg\": 24.1\n",
      "        }\n",
      "    ]\n",
      "}\n"
     ]
    }
   ],
   "source": [
    "# Utilice el indentparámetro para definir el número de sangrías:\n",
    "import json\n",
    "\n",
    "x = {\n",
    "  \"name\": \"John\",\n",
    "  \"age\": 30,\n",
    "  \"married\": True,\n",
    "  \"divorced\": False,\n",
    "  \"children\": (\"Ann\",\"Billy\"),\n",
    "  \"pets\": None,\n",
    "  \"cars\": [\n",
    "    {\"model\": \"BMW 230\", \"mpg\": 27.5},\n",
    "    {\"model\": \"Ford Edge\", \"mpg\": 24.1}\n",
    "  ]\n",
    "}\n",
    "\n",
    "# use four indents to make it easier to read the result:\n",
    "print(json.dumps(x, indent=4))"
   ]
  },
  {
   "cell_type": "markdown",
   "metadata": {},
   "source": [
    "También puede definir los separadores, el valor predeterminado es (\", \", \":\"), lo que significa usar una coma y un espacio para separar cada objeto, y dos puntos y un espacio para separar las claves de los valores:"
   ]
  },
  {
   "cell_type": "code",
   "execution_count": 44,
   "metadata": {},
   "outputs": [
    {
     "name": "stdout",
     "output_type": "stream",
     "text": [
      "{\n",
      "    \"name\" = \"John\". \n",
      "    \"age\" = 30. \n",
      "    \"married\" = true. \n",
      "    \"divorced\" = false. \n",
      "    \"children\" = [\n",
      "        \"Ann\". \n",
      "        \"Billy\"\n",
      "    ]. \n",
      "    \"pets\" = null. \n",
      "    \"cars\" = [\n",
      "        {\n",
      "            \"model\" = \"BMW 230\". \n",
      "            \"mpg\" = 27.5\n",
      "        }. \n",
      "        {\n",
      "            \"model\" = \"Ford Edge\". \n",
      "            \"mpg\" = 24.1\n",
      "        }\n",
      "    ]\n",
      "}\n"
     ]
    }
   ],
   "source": [
    "# Utilice el separatorsparámetro para cambiar el separador predeterminado:\n",
    "import json\n",
    "\n",
    "x = {\n",
    "  \"name\": \"John\",\n",
    "  \"age\": 30,\n",
    "  \"married\": True,\n",
    "  \"divorced\": False,\n",
    "  \"children\": (\"Ann\",\"Billy\"),\n",
    "  \"pets\": None,\n",
    "  \"cars\": [\n",
    "    {\"model\": \"BMW 230\", \"mpg\": 27.5},\n",
    "    {\"model\": \"Ford Edge\", \"mpg\": 24.1}\n",
    "  ]\n",
    "}\n",
    "\n",
    "# use . and a space to separate objects, and a space, a = and a space to separate keys from their values:\n",
    "print(json.dumps(x, indent=4, separators=(\". \", \" = \")))"
   ]
  },
  {
   "cell_type": "markdown",
   "metadata": {},
   "source": [
    "## Ordenar el resultado\n",
    "El ``json.dumps()`` método tiene parámetros para ordenar las claves en el resultado:"
   ]
  },
  {
   "cell_type": "code",
   "execution_count": 45,
   "metadata": {},
   "outputs": [
    {
     "name": "stdout",
     "output_type": "stream",
     "text": [
      "{\n",
      "    \"age\": 30,\n",
      "    \"cars\": [\n",
      "        {\n",
      "            \"model\": \"BMW 230\",\n",
      "            \"mpg\": 27.5\n",
      "        },\n",
      "        {\n",
      "            \"model\": \"Ford Edge\",\n",
      "            \"mpg\": 24.1\n",
      "        }\n",
      "    ],\n",
      "    \"children\": [\n",
      "        \"Ann\",\n",
      "        \"Billy\"\n",
      "    ],\n",
      "    \"divorced\": false,\n",
      "    \"married\": true,\n",
      "    \"name\": \"John\",\n",
      "    \"pets\": null\n",
      "}\n"
     ]
    }
   ],
   "source": [
    "# Utilice el sort_keysparámetro para especificar si el resultado debe ordenarse o no:\n",
    "import json\n",
    "\n",
    "x = {\n",
    "  \"name\": \"John\",\n",
    "  \"age\": 30,\n",
    "  \"married\": True,\n",
    "  \"divorced\": False,\n",
    "  \"children\": (\"Ann\",\"Billy\"),\n",
    "  \"pets\": None,\n",
    "  \"cars\": [\n",
    "    {\"model\": \"BMW 230\", \"mpg\": 27.5},\n",
    "    {\"model\": \"Ford Edge\", \"mpg\": 24.1}\n",
    "  ]\n",
    "}\n",
    "\n",
    "# sort the result alphabetically by keys:\n",
    "print(json.dumps(x, indent=4, sort_keys=True))"
   ]
  },
  {
   "cell_type": "markdown",
   "metadata": {},
   "source": [
    "# Python RegEx\n",
    "Un RegEx, o expresión regular, es una secuencia de caracteres que forma un patrón de búsqueda.\n",
    "\n",
    "RegEx se puede usar para verificar si una cadena contiene el patrón de búsqueda especificado.\n",
    "\n",
    "Módulo RegEx\n",
    "Python tiene un paquete integrado llamado ``re``, que se puede usar para trabajar con expresiones regulares.\n",
    "\n",
    "Importar el ``re`` módulo:\n",
    "```python\n",
    "import re\n",
    "```\n",
    "## RegEx en Python\n",
    "Cuando haya importado el ``re`` módulo, puede comenzar a usar expresiones regulares:\n"
   ]
  },
  {
   "cell_type": "code",
   "execution_count": 2,
   "metadata": {},
   "outputs": [
    {
     "name": "stdout",
     "output_type": "stream",
     "text": [
      "YES! We have a match!\n"
     ]
    }
   ],
   "source": [
    "# Busque la cadena para ver si comienza con \"The\" y termina con \"Spain\":\n",
    "import re\n",
    "\n",
    "#Check if the string starts with \"The\" and ends with \"Spain\":\n",
    "\n",
    "txt = \"The rain in Spain\"\n",
    "x = re.search(\"^The.*Spain$\", txt)\n",
    "\n",
    "if x:\n",
    "  print(\"YES! We have a match!\")\n",
    "else:\n",
    "  print(\"No match\")"
   ]
  },
  {
   "cell_type": "markdown",
   "metadata": {},
   "source": [
    "## Funciones RegEx\n",
    "El ``re`` módulo ofrece un conjunto de funciones que nos permite buscar una cadena para una coincidencia:\n",
    "\n",
    "Function | Description\n",
    "------------|-------------\n",
    "[findall](https://www.w3schools.com/python/python_regex.asp#findall \"findall\") | Returns a list containing all matches\n",
    "[search](https://www.w3schools.com/python/python_regex.asp#search \"search\") | Returns a Match object if there is a match anywhere in the string\n",
    "[split](https://www.w3schools.com/python/python_regex.asp#split \"split\") | Returns a list where the string has been split at each match\n",
    "[sub](https://www.w3schools.com/python/python_regex.asp#sub \"sub\") | Replaces one or many matches with a string\n",
    "\n",
    "## Metacaracteres\n",
    "Los metacaracteres son caracteres con un significado especial:"
   ]
  },
  {
   "cell_type": "markdown",
   "metadata": {},
   "source": [
    "Character | Description | Example\n",
    "-----|----|---\n",
    "[] | A set of characters | \"[a-m]\""
   ]
  },
  {
   "cell_type": "code",
   "execution_count": 3,
   "metadata": {},
   "outputs": [
    {
     "name": "stdout",
     "output_type": "stream",
     "text": [
      "['h', 'e', 'a', 'i', 'i', 'a', 'i']\n"
     ]
    }
   ],
   "source": [
    "import re\n",
    "\n",
    "txt = \"The rain in Spain\"\n",
    "#Find all lower case characters alphabetically between \"a\" and \"m\":\n",
    "x = re.findall(\"[a-m]\", txt)\n",
    "print(x)"
   ]
  },
  {
   "cell_type": "markdown",
   "metadata": {},
   "source": [
    "Character | Description | Example\n",
    "-----|----|---\n",
    "\\ | Signals a special sequence (can also be used to escape special characters) | \"\\d\""
   ]
  },
  {
   "cell_type": "code",
   "execution_count": 5,
   "metadata": {},
   "outputs": [
    {
     "name": "stdout",
     "output_type": "stream",
     "text": [
      "['5', '9']\n"
     ]
    }
   ],
   "source": [
    "import re\n",
    "txt = \"That will be 59 dollars\"\n",
    "#Find all digit characters:\n",
    "x = re.findall(\"\\d\", txt)\n",
    "print(x)"
   ]
  },
  {
   "cell_type": "markdown",
   "metadata": {},
   "source": [
    "Character | Description | Example\n",
    "-----|----|---\n",
    ". | Any character (except newline character) | \"he..o\""
   ]
  },
  {
   "cell_type": "code",
   "execution_count": 6,
   "metadata": {},
   "outputs": [
    {
     "name": "stdout",
     "output_type": "stream",
     "text": [
      "['hello']\n"
     ]
    }
   ],
   "source": [
    "import re\n",
    "txt = \"hello planet\"\n",
    "#Search for a sequence that starts with \"he\", followed by two (any) characters, and an \"o\":\n",
    "x = re.findall(\"he..o\", txt)\n",
    "print(x)\n"
   ]
  },
  {
   "cell_type": "markdown",
   "metadata": {},
   "source": [
    "Character | Description | Example\n",
    "-----|----|---\n",
    "^ | Starts with | \"^hello\""
   ]
  },
  {
   "cell_type": "code",
   "execution_count": 7,
   "metadata": {},
   "outputs": [
    {
     "name": "stdout",
     "output_type": "stream",
     "text": [
      "Yes, the string starts with 'hello'\n"
     ]
    }
   ],
   "source": [
    "import re\n",
    "\n",
    "txt = \"hello planet\"\n",
    "#Check if the string starts with 'hello':\n",
    "x = re.findall(\"^hello\", txt)\n",
    "if x:\n",
    "  print(\"Yes, the string starts with 'hello'\")\n",
    "else:\n",
    "  print(\"No match\")"
   ]
  },
  {
   "cell_type": "markdown",
   "metadata": {},
   "source": [
    "Character | Description | Example\n",
    "-----|----|---\n",
    "$ | Ends with | \"planet$\""
   ]
  },
  {
   "cell_type": "code",
   "execution_count": 8,
   "metadata": {},
   "outputs": [
    {
     "name": "stdout",
     "output_type": "stream",
     "text": [
      "Yes, the string ends with 'planet'\n"
     ]
    }
   ],
   "source": [
    "import re\n",
    "\n",
    "txt = \"hello planet\"\n",
    "#Check if the string ends with 'planet':\n",
    "x = re.findall(\"planet$\", txt)\n",
    "if x:\n",
    "  print(\"Yes, the string ends with 'planet'\")\n",
    "else:\n",
    "  print(\"No match\")"
   ]
  },
  {
   "cell_type": "markdown",
   "metadata": {},
   "source": [
    "Character | Description | Example\n",
    "-----|----|---\n",
    "$ | Ends with | \"planet$\""
   ]
  },
  {
   "cell_type": "code",
   "execution_count": 9,
   "metadata": {},
   "outputs": [
    {
     "name": "stdout",
     "output_type": "stream",
     "text": [
      "['hello']\n"
     ]
    }
   ],
   "source": [
    "import re\n",
    "txt = \"hello planet\"\n",
    "#Search for a sequence that starts with \"he\", followed by 0 or more  (any) characters, and an \"o\":\n",
    "x = re.findall(\"he.*o\", txt)\n",
    "print(x)"
   ]
  },
  {
   "cell_type": "markdown",
   "metadata": {},
   "source": [
    "Character | Description | Example\n",
    "-----|----|---\n",
    "``*`` | Zero or more occurrences | \"he.*o\""
   ]
  },
  {
   "cell_type": "code",
   "execution_count": 10,
   "metadata": {},
   "outputs": [
    {
     "name": "stdout",
     "output_type": "stream",
     "text": [
      "['hello']\n"
     ]
    }
   ],
   "source": [
    "import re\n",
    "txt = \"hello planet\"\n",
    "#Search for a sequence that starts with \"he\", followed by 1 or more  (any) characters, and an \"o\":\n",
    "x = re.findall(\"he.+o\", txt)\n",
    "print(x)"
   ]
  },
  {
   "cell_type": "markdown",
   "metadata": {},
   "source": [
    "Character | Description | Example\n",
    "-----|----|---\n",
    "``+`` | One or more occurrences | \"he.+o\""
   ]
  },
  {
   "cell_type": "code",
   "execution_count": 11,
   "metadata": {},
   "outputs": [
    {
     "name": "stdout",
     "output_type": "stream",
     "text": [
      "['hello']\n"
     ]
    }
   ],
   "source": [
    "import re\n",
    "txt = \"hello planet\"\n",
    "#Search for a sequence that starts with \"he\", followed by 1 or more  (any) characters, and an \"o\":\n",
    "x = re.findall(\"he.+o\", txt)\n",
    "print(x)"
   ]
  },
  {
   "cell_type": "markdown",
   "metadata": {},
   "source": [
    "Character | Description | Example\n",
    "-----|----|---\n",
    "? | Zero or one occurrences | \"he.?o\""
   ]
  },
  {
   "cell_type": "code",
   "execution_count": 12,
   "metadata": {},
   "outputs": [
    {
     "name": "stdout",
     "output_type": "stream",
     "text": [
      "[]\n"
     ]
    }
   ],
   "source": [
    "import re\n",
    "\n",
    "txt = \"hello planet\"\n",
    "#Search for a sequence that starts with \"he\", followed by 0 or 1  (any) character, and an \"o\":\n",
    "x = re.findall(\"he.?o\", txt)\n",
    "print(x)\n",
    "#This time we got no match, because there were not zero, not one, but two characters between \"he\" and the \"o\""
   ]
  },
  {
   "cell_type": "markdown",
   "metadata": {},
   "source": [
    "Character | Description | Example\n",
    "-----|----|---\n",
    "{} | Exactly the specified number of occurrences | \"he.{2}o\""
   ]
  },
  {
   "cell_type": "code",
   "execution_count": 13,
   "metadata": {},
   "outputs": [
    {
     "name": "stdout",
     "output_type": "stream",
     "text": [
      "['hello']\n"
     ]
    }
   ],
   "source": [
    "import re\n",
    "txt = \"hello planet\"\n",
    "#Search for a sequence that starts with \"he\", followed excactly 2 (any) characters, and an \"o\":\n",
    "x = re.findall(\"he.{2}o\", txt)\n",
    "print(x)"
   ]
  },
  {
   "cell_type": "markdown",
   "metadata": {},
   "source": [
    "Character | Description | Example\n",
    "-----|----|---\n",
    "``|``| Either or | \"falls|stays\"\n",
    "() | Capture and group"
   ]
  },
  {
   "cell_type": "code",
   "execution_count": 14,
   "metadata": {},
   "outputs": [
    {
     "name": "stdout",
     "output_type": "stream",
     "text": [
      "['falls']\n",
      "Yes, there is at least one match!\n"
     ]
    }
   ],
   "source": [
    "import re\n",
    "\n",
    "txt = \"The rain in Spain falls mainly in the plain!\"\n",
    "\n",
    "#Check if the string contains either \"falls\" or \"stays\":\n",
    "x = re.findall(\"falls|stays\", txt)\n",
    "print(x)\n",
    "if x:\n",
    "  print(\"Yes, there is at least one match!\")\n",
    "else:\n",
    "  print(\"No match\")"
   ]
  },
  {
   "cell_type": "markdown",
   "metadata": {},
   "source": [
    "## Secuencias Especiales\n",
    "Una secuencia especial es ``\\`` seguida por uno de los caracteres de la lista a continuación y tiene un significado especial:\n",
    "\n",
    "Character | Description | Example\n",
    "-----|----|---\n",
    "\\A | Returns a match if the specified characters are at the beginning of the string | \"\\AThe\""
   ]
  },
  {
   "cell_type": "code",
   "execution_count": 15,
   "metadata": {},
   "outputs": [
    {
     "name": "stdout",
     "output_type": "stream",
     "text": [
      "['The']\n",
      "Yes, there is a match!\n"
     ]
    }
   ],
   "source": [
    "import re\n",
    "\n",
    "txt = \"The rain in Spain\"\n",
    "\n",
    "#Check if the string starts with \"The\":\n",
    "x = re.findall(\"\\AThe\", txt)\n",
    "print(x)\n",
    "if x:\n",
    "  print(\"Yes, there is a match!\")\n",
    "else:\n",
    "  print(\"No match\")"
   ]
  },
  {
   "cell_type": "markdown",
   "metadata": {},
   "source": [
    "Character | Description | Example\n",
    "-----|----|---\n",
    "\\b | Returns a match where the specified characters are at the beginning or at the end of a word | r\"\\bain\"\n",
    "\\b | (the \"r\" in the beginning is making sure that the string is being treated as a \"raw string\") | r\"ain\\b\""
   ]
  },
  {
   "cell_type": "code",
   "execution_count": 16,
   "metadata": {},
   "outputs": [
    {
     "name": "stdout",
     "output_type": "stream",
     "text": [
      "[]\n",
      "No match\n"
     ]
    }
   ],
   "source": [
    "import re\n",
    "\n",
    "txt = \"The rain in Spain\"\n",
    "\n",
    "#Check if \"ain\" is present at the beginning of a WORD:\n",
    "x = re.findall(r\"\\bain\", txt)\n",
    "print(x)\n",
    "if x:\n",
    "  print(\"Yes, there is at least one match!\")\n",
    "else:\n",
    "  print(\"No match\")"
   ]
  },
  {
   "cell_type": "code",
   "execution_count": 17,
   "metadata": {},
   "outputs": [
    {
     "name": "stdout",
     "output_type": "stream",
     "text": [
      "['ain', 'ain']\n",
      "Yes, there is at least one match!\n"
     ]
    }
   ],
   "source": [
    "import re\n",
    "\n",
    "txt = \"The rain in Spain\"\n",
    "\n",
    "#Check if \"ain\" is present at the end of a WORD:\n",
    "x = re.findall(r\"ain\\b\", txt)\n",
    "print(x)\n",
    "if x:\n",
    "  print(\"Yes, there is at least one match!\")\n",
    "else:\n",
    "  print(\"No match\")"
   ]
  },
  {
   "cell_type": "markdown",
   "metadata": {},
   "source": [
    "Character | Description | Example\n",
    "-----|----|---\n",
    "\\B | Returns a match where the specified characters are present, but NOT at the beginning (or at the end) of a word | r\"\\Bain\"\n",
    "\\B | (the \"r\" in the beginning is making sure that the string is being treated as a \"raw string\") | r\"ain\\B\""
   ]
  },
  {
   "cell_type": "code",
   "execution_count": 18,
   "metadata": {},
   "outputs": [
    {
     "name": "stdout",
     "output_type": "stream",
     "text": [
      "['ain', 'ain']\n",
      "Yes, there is at least one match!\n"
     ]
    }
   ],
   "source": [
    "import re\n",
    "\n",
    "txt = \"The rain in Spain\"\n",
    "\n",
    "#Check if \"ain\" is present, but NOT at the beginning of a word:\n",
    "\n",
    "x = re.findall(r\"\\Bain\", txt)\n",
    "\n",
    "print(x)\n",
    "\n",
    "if x:\n",
    "  print(\"Yes, there is at least one match!\")\n",
    "else:\n",
    "  print(\"No match\")"
   ]
  },
  {
   "cell_type": "code",
   "execution_count": 19,
   "metadata": {},
   "outputs": [
    {
     "name": "stdout",
     "output_type": "stream",
     "text": [
      "[]\n",
      "No match\n"
     ]
    }
   ],
   "source": [
    "import re\n",
    "\n",
    "txt = \"The rain in Spain\"\n",
    "\n",
    "#Check if \"ain\" is present, but NOT at the end of a word:\n",
    "\n",
    "x = re.findall(r\"ain\\B\", txt)\n",
    "\n",
    "print(x)\n",
    "\n",
    "if x:\n",
    "  print(\"Yes, there is at least one match!\")\n",
    "else:\n",
    "  print(\"No match\")"
   ]
  },
  {
   "cell_type": "markdown",
   "metadata": {},
   "source": [
    "Character | Description | Example\n",
    "-----|----|---\n",
    "\\d | Returns a match where the string contains digits (numbers from 0-9) | \"\\d\""
   ]
  },
  {
   "cell_type": "code",
   "execution_count": 20,
   "metadata": {},
   "outputs": [
    {
     "name": "stdout",
     "output_type": "stream",
     "text": [
      "[]\n",
      "No match\n"
     ]
    }
   ],
   "source": [
    "import re\n",
    "\n",
    "txt = \"The rain in Spain\"\n",
    "\n",
    "#Check if the string contains any digits (numbers from 0-9):\n",
    "x = re.findall(\"\\d\", txt)\n",
    "print(x)\n",
    "if x:\n",
    "  print(\"Yes, there is at least one match!\")\n",
    "else:\n",
    "  print(\"No match\")\n"
   ]
  },
  {
   "cell_type": "markdown",
   "metadata": {},
   "source": [
    "Character | Description | Example\n",
    "-----|----|---\n",
    "\\D | Returns a match where the string DOES NOT contain digits | \"\\D\""
   ]
  },
  {
   "cell_type": "code",
   "execution_count": 21,
   "metadata": {},
   "outputs": [
    {
     "name": "stdout",
     "output_type": "stream",
     "text": [
      "['T', 'h', 'e', ' ', 'r', 'a', 'i', 'n', ' ', 'i', 'n', ' ', 'S', 'p', 'a', 'i', 'n']\n",
      "Yes, there is at least one match!\n"
     ]
    }
   ],
   "source": [
    "import re\n",
    "\n",
    "txt = \"The rain in Spain\"\n",
    "\n",
    "#Return a match at every no-digit character:\n",
    "x = re.findall(\"\\D\", txt)\n",
    "print(x)\n",
    "\n",
    "if x:\n",
    "  print(\"Yes, there is at least one match!\")\n",
    "else:\n",
    "  print(\"No match\")"
   ]
  },
  {
   "cell_type": "markdown",
   "metadata": {},
   "source": [
    "Character | Description | Example\n",
    "-----|----|---\n",
    "\\s | Returns a match where the string contains a white space character | \"\\s\""
   ]
  },
  {
   "cell_type": "code",
   "execution_count": 22,
   "metadata": {},
   "outputs": [
    {
     "name": "stdout",
     "output_type": "stream",
     "text": [
      "[' ', ' ', ' ']\n",
      "Yes, there is at least one match!\n"
     ]
    }
   ],
   "source": [
    "import re\n",
    "\n",
    "txt = \"The rain in Spain\"\n",
    "\n",
    "#Return a match at every white-space character:\n",
    "x = re.findall(\"\\s\", txt)\n",
    "print(x)\n",
    "if x:\n",
    "  print(\"Yes, there is at least one match!\")\n",
    "else:\n",
    "  print(\"No match\")"
   ]
  },
  {
   "cell_type": "markdown",
   "metadata": {},
   "source": [
    "Character | Description | Example\n",
    "-----|----|---\n",
    "\\S | Returns a match where the string DOES NOT contain a white space character | \"\\S\""
   ]
  },
  {
   "cell_type": "code",
   "execution_count": 23,
   "metadata": {},
   "outputs": [
    {
     "name": "stdout",
     "output_type": "stream",
     "text": [
      "['T', 'h', 'e', 'r', 'a', 'i', 'n', 'i', 'n', 'S', 'p', 'a', 'i', 'n']\n",
      "Yes, there is at least one match!\n"
     ]
    }
   ],
   "source": [
    "import re\n",
    "\n",
    "txt = \"The rain in Spain\"\n",
    "\n",
    "#Return a match at every NON white-space character:\n",
    "x = re.findall(\"\\S\", txt)\n",
    "print(x)\n",
    "if x:\n",
    "  print(\"Yes, there is at least one match!\")\n",
    "else:\n",
    "  print(\"No match\")"
   ]
  },
  {
   "cell_type": "markdown",
   "metadata": {},
   "source": [
    "Character | Description | Example\n",
    "-----|----|---\n",
    "\\w | Returns a match where the string contains any word characters (characters from a to Z, digits from 0-9, and the underscore _ character) | \"\\w\""
   ]
  },
  {
   "cell_type": "code",
   "execution_count": 24,
   "metadata": {},
   "outputs": [
    {
     "name": "stdout",
     "output_type": "stream",
     "text": [
      "['T', 'h', 'e', 'r', 'a', 'i', 'n', 'i', 'n', 'S', 'p', 'a', 'i', 'n']\n",
      "Yes, there is at least one match!\n"
     ]
    }
   ],
   "source": [
    "import re\n",
    "\n",
    "txt = \"The rain in Spain\"\n",
    "\n",
    "#Return a match at every word character (characters from a to Z, digits from 0-9, and the underscore _ character):\n",
    "x = re.findall(\"\\w\", txt)\n",
    "print(x)\n",
    "if x:\n",
    "  print(\"Yes, there is at least one match!\")\n",
    "else:\n",
    "  print(\"No match\")"
   ]
  },
  {
   "cell_type": "markdown",
   "metadata": {},
   "source": [
    "Character | Description | Example\n",
    "-----|----|---\n",
    "\\W | Returns a match where the string DOES NOT contain any word characters | \"\\W\""
   ]
  },
  {
   "cell_type": "code",
   "execution_count": 25,
   "metadata": {},
   "outputs": [
    {
     "name": "stdout",
     "output_type": "stream",
     "text": [
      "[' ', ' ', ' ']\n",
      "Yes, there is at least one match!\n"
     ]
    }
   ],
   "source": [
    "import re\n",
    "\n",
    "txt = \"The rain in Spain\"\n",
    "\n",
    "#Return a match at every NON word character (characters NOT between a and Z. Like \"!\", \"?\" white-space etc.):\n",
    "x = re.findall(\"\\W\", txt)\n",
    "print(x)\n",
    "if x:\n",
    "  print(\"Yes, there is at least one match!\")\n",
    "else:\n",
    "  print(\"No match\")"
   ]
  },
  {
   "cell_type": "markdown",
   "metadata": {},
   "source": [
    "Character | Description | Example\n",
    "-----|----|---\n",
    "\\Z | Returns a match if the specified characters are at the end of the string | \"Spain\\Z\""
   ]
  },
  {
   "cell_type": "code",
   "execution_count": 27,
   "metadata": {},
   "outputs": [
    {
     "name": "stdout",
     "output_type": "stream",
     "text": [
      "['Spain']\n",
      "Yes, there is a match!\n"
     ]
    }
   ],
   "source": [
    "import re\n",
    "txt = \"The rain in Spain\"\n",
    "#Check if the string ends with \"Spain\":\n",
    "x = re.findall(\"Spain\\Z\", txt)\n",
    "print(x)\n",
    "if x:\n",
    "  print(\"Yes, there is a match!\")\n",
    "else:\n",
    "  print(\"No match\")"
   ]
  },
  {
   "cell_type": "markdown",
   "metadata": {},
   "source": [
    "## Sets\n",
    "A set is a set of characters inside a pair of square brackets ``[]`` with a special meaning:\n",
    "Set | Description\n",
    "---------|---------\n",
    "[arn] | Returns a match where one of the specified characters (``a``, ``r``, or ``n``) is present"
   ]
  },
  {
   "cell_type": "code",
   "execution_count": 28,
   "metadata": {},
   "outputs": [
    {
     "name": "stdout",
     "output_type": "stream",
     "text": [
      "['r', 'a', 'n', 'n', 'a', 'n']\n",
      "Yes, there is at least one match!\n"
     ]
    }
   ],
   "source": [
    "import re\n",
    "\n",
    "txt = \"The rain in Spain\"\n",
    "\n",
    "#Check if the string has any a, r, or n characters:\n",
    "x = re.findall(\"[arn]\", txt)\n",
    "print(x)\n",
    "if x:\n",
    "  print(\"Yes, there is at least one match!\")\n",
    "else:\n",
    "  print(\"No match\")"
   ]
  },
  {
   "cell_type": "markdown",
   "metadata": {},
   "source": [
    "Set | Description\n",
    "---------|---------\n",
    "[a-n] | Returns a match for any lower case character, alphabetically between ``a`` and ``n``"
   ]
  },
  {
   "cell_type": "code",
   "execution_count": 29,
   "metadata": {},
   "outputs": [
    {
     "name": "stdout",
     "output_type": "stream",
     "text": [
      "['h', 'e', 'a', 'i', 'n', 'i', 'n', 'a', 'i', 'n']\n",
      "Yes, there is at least one match!\n"
     ]
    }
   ],
   "source": [
    "import re\n",
    "\n",
    "txt = \"The rain in Spain\"\n",
    "\n",
    "#Check if the string has any characters between a and n:\n",
    "x = re.findall(\"[a-n]\", txt)\n",
    "print(x)\n",
    "if x:\n",
    "  print(\"Yes, there is at least one match!\")\n",
    "else:\n",
    "  print(\"No match\")"
   ]
  },
  {
   "cell_type": "markdown",
   "metadata": {},
   "source": [
    "Set | Description\n",
    "---------|---------\n",
    "[^arn] | Returns a match for any character EXCEPT ``a``, ``r``, and ``n``"
   ]
  },
  {
   "cell_type": "code",
   "execution_count": 30,
   "metadata": {},
   "outputs": [
    {
     "name": "stdout",
     "output_type": "stream",
     "text": [
      "['T', 'h', 'e', ' ', 'i', ' ', 'i', ' ', 'S', 'p', 'i']\n",
      "Yes, there is at least one match!\n"
     ]
    }
   ],
   "source": [
    "import re\n",
    "\n",
    "txt = \"The rain in Spain\"\n",
    "\n",
    "#Check if the string has other characters than a, r, or n:\n",
    "x = re.findall(\"[^arn]\", txt)\n",
    "print(x)\n",
    "if x:\n",
    "  print(\"Yes, there is at least one match!\")\n",
    "else:\n",
    "  print(\"No match\")"
   ]
  },
  {
   "cell_type": "markdown",
   "metadata": {},
   "source": [
    "Set | Description\n",
    "---------|---------\n",
    "[0123] | Returns a match where any of the specified digits (``0``, ``1``, ``2``, or ``3``) are present"
   ]
  },
  {
   "cell_type": "code",
   "execution_count": 31,
   "metadata": {},
   "outputs": [
    {
     "name": "stdout",
     "output_type": "stream",
     "text": [
      "[]\n",
      "No match\n"
     ]
    }
   ],
   "source": [
    "import re\n",
    "\n",
    "txt = \"The rain in Spain\"\n",
    "\n",
    "#Check if the string has any 0, 1, 2, or 3 digits:\n",
    "\n",
    "x = re.findall(\"[0123]\", txt)\n",
    "\n",
    "print(x)\n",
    "\n",
    "if x:\n",
    "  print(\"Yes, there is at least one match!\")\n",
    "else:\n",
    "  print(\"No match\")\n"
   ]
  },
  {
   "cell_type": "markdown",
   "metadata": {},
   "source": [
    "Set | Description\n",
    "---------|---------\n",
    "[0-9] | Returns a match for any digit between 0 and 9"
   ]
  },
  {
   "cell_type": "code",
   "execution_count": 32,
   "metadata": {},
   "outputs": [
    {
     "name": "stdout",
     "output_type": "stream",
     "text": [
      "['8', '1', '1', '4', '5']\n",
      "Yes, there is at least one match!\n"
     ]
    }
   ],
   "source": [
    "import re\n",
    "\n",
    "txt = \"8 times before 11:45 AM\"\n",
    "\n",
    "#Check if the string has any digits:\n",
    "x = re.findall(\"[0-9]\", txt)\n",
    "print(x)\n",
    "if x:\n",
    "  print(\"Yes, there is at least one match!\")\n",
    "else:\n",
    "  print(\"No match\")"
   ]
  },
  {
   "cell_type": "markdown",
   "metadata": {},
   "source": [
    "Set | Description\n",
    "---------|---------\n",
    "[0-5][0-9] | Returns a match for any two-digit numbers from 00 and 59"
   ]
  },
  {
   "cell_type": "code",
   "execution_count": 33,
   "metadata": {},
   "outputs": [
    {
     "name": "stdout",
     "output_type": "stream",
     "text": [
      "['11', '45']\n",
      "Yes, there is at least one match!\n"
     ]
    }
   ],
   "source": [
    "import re\n",
    "\n",
    "txt = \"8 times before 11:45 AM\"\n",
    "\n",
    "#Check if the string has any two-digit numbers, from 00 to 59:\n",
    "x = re.findall(\"[0-5][0-9]\", txt)\n",
    "print(x)\n",
    "if x:\n",
    "  print(\"Yes, there is at least one match!\")\n",
    "else:\n",
    "  print(\"No match\")"
   ]
  },
  {
   "cell_type": "markdown",
   "metadata": {},
   "source": [
    "Set | Description\n",
    "---------|---------\n",
    "[a-zA-Z] | Returns a match for any character alphabetically between a and z, lower case OR upper case"
   ]
  },
  {
   "cell_type": "code",
   "execution_count": 34,
   "metadata": {},
   "outputs": [
    {
     "name": "stdout",
     "output_type": "stream",
     "text": [
      "['t', 'i', 'm', 'e', 's', 'b', 'e', 'f', 'o', 'r', 'e', 'A', 'M']\n",
      "Yes, there is at least one match!\n"
     ]
    }
   ],
   "source": [
    "import re\n",
    "\n",
    "txt = \"8 times before 11:45 AM\"\n",
    "\n",
    "#Check if the string has any characters from a to z lower case, and A to Z upper case:\n",
    "x = re.findall(\"[a-zA-Z]\", txt)\n",
    "print(x)\n",
    "if x:\n",
    "  print(\"Yes, there is at least one match!\")\n",
    "else:\n",
    "  print(\"No match\")"
   ]
  },
  {
   "cell_type": "markdown",
   "metadata": {},
   "source": [
    "Set | Description\n",
    "---------|---------\n",
    "[+] | (In sets, ``+``, ``*``, ``.``, ``|``, ``()``, ``$``,``{}`` has no special meaning, so ``[+]`` means: return a match for any + character in the string)"
   ]
  },
  {
   "cell_type": "code",
   "execution_count": 35,
   "metadata": {},
   "outputs": [
    {
     "name": "stdout",
     "output_type": "stream",
     "text": [
      "[]\n",
      "No match\n"
     ]
    }
   ],
   "source": [
    "import re\n",
    "\n",
    "txt = \"8 times before 11:45 AM\"\n",
    "\n",
    "#Check if the string has any + characters:\n",
    "x = re.findall(\"[+]\", txt)\n",
    "print(x)\n",
    "if x:\n",
    "  print(\"Yes, there is at least one match!\")\n",
    "else:\n",
    "  print(\"No match\")\n"
   ]
  },
  {
   "cell_type": "markdown",
   "metadata": {},
   "source": [
    "## La función ``findall()``\n",
    "La ``findall()`` función devuelve una lista que contiene todas las coincidencias."
   ]
  },
  {
   "cell_type": "code",
   "execution_count": 36,
   "metadata": {},
   "outputs": [
    {
     "name": "stdout",
     "output_type": "stream",
     "text": [
      "['ai', 'ai']\n"
     ]
    }
   ],
   "source": [
    "# Imprima una lista de todas las coincidencias:\n",
    "\n",
    "import re\n",
    "\n",
    "txt = \"The rain in Spain\"\n",
    "x = re.findall(\"ai\", txt)\n",
    "print(x)"
   ]
  },
  {
   "cell_type": "markdown",
   "metadata": {},
   "source": [
    "La lista contiene las coincidencias en el orden en que se encuentran.\n",
    "\n",
    "Si no se encuentran coincidencias, se devuelve una lista vacía:"
   ]
  },
  {
   "cell_type": "code",
   "execution_count": 37,
   "metadata": {},
   "outputs": [
    {
     "name": "stdout",
     "output_type": "stream",
     "text": [
      "[]\n"
     ]
    }
   ],
   "source": [
    "# Devuelve una lista vacía si no se encontró ninguna coincidencia:\n",
    "\n",
    "import re\n",
    "\n",
    "txt = \"The rain in Spain\"\n",
    "x = re.findall(\"Portugal\", txt)\n",
    "print(x)"
   ]
  },
  {
   "cell_type": "markdown",
   "metadata": {},
   "source": [
    "## La función de ``search()``\n",
    "La ``search()`` función busca una coincidencia en la cadena y devuelve un objeto Match si hay una coincidencia.\n",
    "\n",
    "Si hay más de una coincidencia, solo se devolverá la primera aparición de la coincidencia:"
   ]
  },
  {
   "cell_type": "code",
   "execution_count": 38,
   "metadata": {},
   "outputs": [
    {
     "name": "stdout",
     "output_type": "stream",
     "text": [
      "The first white-space character is located in position: 3\n"
     ]
    }
   ],
   "source": [
    "# Busque el primer carácter de espacio en blanco en la cadena:\n",
    "\n",
    "import re\n",
    "\n",
    "txt = \"The rain in Spain\"\n",
    "x = re.search(\"\\s\", txt)\n",
    "\n",
    "print(\"The first white-space character is located in position:\", x.start())"
   ]
  },
  {
   "cell_type": "markdown",
   "metadata": {},
   "source": [
    "Si no se encuentran coincidencias, ``None`` se devuelve el valor:"
   ]
  },
  {
   "cell_type": "code",
   "execution_count": 39,
   "metadata": {},
   "outputs": [
    {
     "name": "stdout",
     "output_type": "stream",
     "text": [
      "None\n"
     ]
    }
   ],
   "source": [
    "# Realice una búsqueda que no devuelva ninguna coincidencia:\n",
    "\n",
    "import re\n",
    "\n",
    "txt = \"The rain in Spain\"\n",
    "x = re.search(\"Portugal\", txt)\n",
    "print(x)"
   ]
  },
  {
   "cell_type": "markdown",
   "metadata": {},
   "source": [
    "## La función ``split()``\n",
    "La ``split()`` función devuelve una lista donde la cadena se ha dividido en cada coincidencia:"
   ]
  },
  {
   "cell_type": "code",
   "execution_count": 40,
   "metadata": {},
   "outputs": [
    {
     "name": "stdout",
     "output_type": "stream",
     "text": [
      "['The', 'rain', 'in', 'Spain']\n"
     ]
    }
   ],
   "source": [
    "import re\n",
    "\n",
    "txt = \"The rain in Spain\"\n",
    "x = re.split(\"\\s\", txt)\n",
    "print(x)"
   ]
  },
  {
   "cell_type": "markdown",
   "metadata": {},
   "source": [
    "Puede controlar el número de ocurrencias especificando el ``maxsplit`` parámetro:"
   ]
  },
  {
   "cell_type": "code",
   "execution_count": 44,
   "metadata": {},
   "outputs": [
    {
     "name": "stdout",
     "output_type": "stream",
     "text": [
      "['The', 'rain in Spain']\n"
     ]
    }
   ],
   "source": [
    "# Divida la cadena solo en la primera aparición:\n",
    "\n",
    "import re\n",
    "\n",
    "txt = \"The rain in Spain\"\n",
    "x = re.split(\"\\s\", txt, 1)\n",
    "print(x)"
   ]
  },
  {
   "cell_type": "markdown",
   "metadata": {},
   "source": [
    "## La función ``sub()``\n",
    "La ``sub()`` función reemplaza las coincidencias con el texto de su elección:"
   ]
  },
  {
   "cell_type": "code",
   "execution_count": 47,
   "metadata": {},
   "outputs": [
    {
     "name": "stdout",
     "output_type": "stream",
     "text": [
      "The9rain9in9Spain\n"
     ]
    }
   ],
   "source": [
    "# Reemplace cada carácter de espacio en blanco con el número 9:\n",
    "\n",
    "import re\n",
    "\n",
    "txt = \"The rain in Spain\"\n",
    "x = re.sub(\"\\s\", \"9\", txt)\n",
    "print(x)"
   ]
  },
  {
   "cell_type": "markdown",
   "metadata": {},
   "source": [
    "Puede controlar el número de reemplazos especificando el ``count`` parámetro:"
   ]
  },
  {
   "cell_type": "code",
   "execution_count": 48,
   "metadata": {},
   "outputs": [
    {
     "name": "stdout",
     "output_type": "stream",
     "text": [
      "The9rain9in Spain\n"
     ]
    }
   ],
   "source": [
    "# Reemplace las primeras 2 apariciones:\n",
    "\n",
    "import re\n",
    "\n",
    "txt = \"The rain in Spain\"\n",
    "x = re.sub(\"\\s\", \"9\", txt, 2)\n",
    "print(x)"
   ]
  },
  {
   "cell_type": "markdown",
   "metadata": {},
   "source": [
    "## Igualar objeto\n",
    "Un objeto de coincidencia es un objeto que contiene información sobre la búsqueda y el resultado.\n",
    "\n",
    "**Nota**: Si no hay ninguna coincidencia, ``None`` se devolverá el valor, en lugar del objeto de coincidencia."
   ]
  },
  {
   "cell_type": "code",
   "execution_count": 49,
   "metadata": {},
   "outputs": [
    {
     "name": "stdout",
     "output_type": "stream",
     "text": [
      "<re.Match object; span=(5, 7), match='ai'>\n"
     ]
    }
   ],
   "source": [
    "# Realice una búsqueda que devolverá un objeto coincidente:\n",
    "\n",
    "import re\n",
    "\n",
    "txt = \"The rain in Spain\"\n",
    "x = re.search(\"ai\", txt)\n",
    "print(x) #this will print an object"
   ]
  },
  {
   "cell_type": "markdown",
   "metadata": {},
   "source": [
    "El objeto Match tiene propiedades y métodos que se utilizan para recuperar información sobre la búsqueda y el resultado:\n",
    "\n",
    "``.span()`` devuelve una tupla que contiene las posiciones inicial y final de la coincidencia.\n",
    "``.string`` devuelve la cadena pasada a la función\n",
    "``.group()`` devuelve la parte de la cadena donde hubo una coincidencia"
   ]
  },
  {
   "cell_type": "code",
   "execution_count": 50,
   "metadata": {},
   "outputs": [
    {
     "name": "stdout",
     "output_type": "stream",
     "text": [
      "(12, 17)\n"
     ]
    }
   ],
   "source": [
    "# Imprime la posición (posición inicial y final) de la primera coincidencia.\n",
    "\n",
    "# La expresión regular busca cualquier palabra que comience con una \"S\" mayúscula:\n",
    "\n",
    "import re\n",
    "\n",
    "txt = \"The rain in Spain\"\n",
    "x = re.search(r\"\\bS\\w+\", txt)\n",
    "print(x.span())"
   ]
  },
  {
   "cell_type": "code",
   "execution_count": 51,
   "metadata": {},
   "outputs": [
    {
     "name": "stdout",
     "output_type": "stream",
     "text": [
      "The rain in Spain\n"
     ]
    }
   ],
   "source": [
    "# Imprime la cadena pasada a la función:\n",
    "\n",
    "import re\n",
    "\n",
    "txt = \"The rain in Spain\"\n",
    "x = re.search(r\"\\bS\\w+\", txt)\n",
    "print(x.string)"
   ]
  },
  {
   "cell_type": "code",
   "execution_count": 52,
   "metadata": {},
   "outputs": [
    {
     "name": "stdout",
     "output_type": "stream",
     "text": [
      "Spain\n"
     ]
    }
   ],
   "source": [
    "# Imprime la parte de la cadena donde hubo una coincidencia.\n",
    "# La expresión regular busca cualquier palabra que comience con una \"S\" mayúscula:\n",
    "\n",
    "import re\n",
    "\n",
    "txt = \"The rain in Spain\"\n",
    "x = re.search(r\"\\bS\\w+\", txt)\n",
    "print(x.group())"
   ]
  },
  {
   "cell_type": "markdown",
   "metadata": {},
   "source": [
    "**Nota**: Si no hay ninguna coincidencia, ``None`` se devolverá el valor, en lugar del objeto de coincidencia."
   ]
  },
  {
   "cell_type": "markdown",
   "metadata": {},
   "source": [
    "# Python PIP"
   ]
  },
  {
   "cell_type": "markdown",
   "metadata": {},
   "source": [
    "33 ¿Qué es PIP?\n",
    "PIP es un administrador de paquetes para paquetes de Python, o módulos si lo desea.\n",
    "\n",
    "**Nota**: si tiene Python versión 3.4 o posterior, PIP se incluye de forma predeterminada.\n",
    "\n",
    "## ¿Qué es un paquete?\n",
    "Un paquete contiene todos los archivos que necesita para un módulo.\n",
    "\n",
    "Los módulos son bibliotecas de código de Python que puede incluir en su proyecto.\n",
    "\n",
    "## Compruebe si PIP está instalado\n",
    "Navegue su línea de comando a la ubicación del directorio de secuencias de comandos de Python y escriba lo siguiente:\n",
    "\n",
    "Ejemplo\n",
    "Compruebe la versión de PIP:\n",
    "\n",
    "```python\n",
    "C:\\Users\\Your Name\\AppData\\Local\\Programs\\Python\\Python36-32\\Scripts>pip --version\n",
    "```\n",
    "## Instalar PIP\n",
    "Si no tiene PIP instalado, puede descargarlo e instalarlo desde esta página: https://pypi.org/project/pip/\n",
    "\n",
    "## Descargar un paquete\n",
    "Descargar un paquete es muy fácil.\n",
    "\n",
    "Abra la interfaz de línea de comandos y dígale a PIP que descargue el paquete que desea.\n",
    "\n",
    "Navegue su línea de comando a la ubicación del directorio de secuencias de comandos de Python y escriba lo siguiente:\n",
    "\n",
    "Ejemplo\n",
    "Descargue un paquete llamado \"camelcase\":\n",
    "\n",
    "```python\n",
    "C:\\Users\\Your Name\\AppData\\Local\\Programs\\Python\\Python36-32\\Scripts>pip install camelcase\n",
    "```\n",
    "¡Ahora ha descargado e instalado su primer paquete!\n",
    "\n",
    "## Usar un paquete\n",
    "Una vez que el paquete está instalado, está listo para usar.\n",
    "\n",
    "Importe el paquete \"camelcase\" a su proyecto."
   ]
  },
  {
   "cell_type": "code",
   "execution_count": 54,
   "metadata": {},
   "outputs": [
    {
     "name": "stdout",
     "output_type": "stream",
     "text": [
      "Hello World\n"
     ]
    }
   ],
   "source": [
    "# Importar y usar \"camelcase\":\n",
    "\n",
    "import camelcase\n",
    "\n",
    "c = camelcase.CamelCase()\n",
    "\n",
    "txt = \"hello world\"\n",
    "\n",
    "print(c.hump(txt))"
   ]
  },
  {
   "cell_type": "markdown",
   "metadata": {},
   "source": [
    "## Buscar paquetes\n",
    "Encuentra más paquetes en https://pypi.org/ .\n",
    "\n",
    "## Eliminar un paquete\n",
    "Use el ``uninstall`` comando para eliminar un paquete:\n",
    "\n",
    "Ejemplo\n",
    "Desinstale el paquete llamado \"camelcase\":\n",
    "```python\n",
    "C:\\Users\\Your Name\\AppData\\Local\\Programs\\Python\\Python36-32\\Scripts>pip uninstall camelcase\n",
    "```\n",
    "\n",
    "El administrador de paquetes PIP le pedirá que confirme que desea eliminar el paquete camelcase:\n",
    "\n",
    "```python\n",
    "Uninstalling camelcase-02.1:\n",
    "  Would remove:\n",
    "    c:\\users\\Your Name\\appdata\\local\\programs\\python\\python36-32\\lib\\site-packages\\camelcase-0.2-py3.6.egg-info\n",
    "    c:\\users\\Your Name\\appdata\\local\\programs\\python\\python36-32\\lib\\site-packages\\camelcase\\*\n",
    "Proceed (y/n)?\n",
    "```\n",
    "Presione ``y`` y el paquete será eliminado.\n",
    "\n",
    "## Lista de paquetes\n",
    "Use el listcomando para enumerar todos los paquetes instalados en su sistema:\n",
    "\n",
    "Ejemplo\n",
    "Lista de paquetes instalados:\n",
    "\n",
    "```python\n",
    "C:\\Users\\Your Name\\AppData\\Local\\Programs\\Python\\Python36-32\\Scripts>pip list\n",
    "```\n",
    "Resultado:\n",
    "\n",
    "```python\n",
    "Package         Version\n",
    "-----------------------\n",
    "camelcase       0.2\n",
    "mysql-connector 2.1.6\n",
    "pip             18.1\n",
    "pymongo         3.6.1\n",
    "setuptools      39.0.1\n",
    "````\n"
   ]
  },
  {
   "cell_type": "markdown",
   "metadata": {},
   "source": [
    "# Python Try Except\n",
    "El ``try`` bloque le permite probar un bloque de código en busca de errores.\n",
    "\n",
    "El ``except`` bloque le permite manejar el error.\n",
    "\n",
    "El ``else`` bloque te permite ejecutar código cuando no hay ningún error.\n",
    "\n",
    "El ``finally`` bloque le permite ejecutar código, independientemente del resultado de los bloques de prueba y excepción.\n",
    "\n",
    "## Manejo de excepciones\n",
    "Cuando ocurre un error, o una excepción como lo llamamos, Python normalmente se detendrá y generará un mensaje de error.\n",
    "\n",
    "Estas excepciones se pueden manejar usando la ``try`` declaración:"
   ]
  },
  {
   "cell_type": "code",
   "execution_count": 57,
   "metadata": {},
   "outputs": [
    {
     "name": "stdout",
     "output_type": "stream",
     "text": [
      "<re.Match object; span=(12, 17), match='Spain'>\n"
     ]
    }
   ],
   "source": [
    "# El try bloque generará una excepción, porque x no está definido:\n",
    "\n",
    "try:\n",
    "  print(x)\n",
    "except:\n",
    "  print(\"An exception occurred\")"
   ]
  },
  {
   "cell_type": "markdown",
   "metadata": {},
   "source": [
    "Dado que el bloque de prueba genera un error, se ejecutará el bloque de excepción.\n",
    "\n",
    "Sin el bloque de prueba, el programa fallará y generará un error:\n",
    "\n",
    "Ejemplo\n",
    "Esta declaración generará un error, porque ``x`` no está definida:\n",
    "\n",
    "``print(x)``\n",
    "\n",
    "## muchas excepciones\n",
    "Puede definir tantos bloques de excepción como desee, por ejemplo, si desea ejecutar un bloque de código especial para un tipo especial de error:"
   ]
  },
  {
   "cell_type": "code",
   "execution_count": 64,
   "metadata": {},
   "outputs": [
    {
     "name": "stdout",
     "output_type": "stream",
     "text": [
      "<re.Match object; span=(12, 17), match='Spain'>\n"
     ]
    }
   ],
   "source": [
    "# Imprima un mensaje si el bloque try genera un NameErrory otro para otros errores:\n",
    "#The try block will generate a NameError, because x is not defined:\n",
    "\n",
    "try:\n",
    "  print(x)\n",
    "except NameError:\n",
    "  print(\"Variable x is not defined\")\n",
    "except:\n",
    "  print(\"Something else went wrong\")"
   ]
  },
  {
   "cell_type": "markdown",
   "metadata": {},
   "source": [
    "## Demás\n",
    "Puede usar la ``else`` palabra clave para definir un bloque de código que se ejecutará si no se generan errores:"
   ]
  },
  {
   "cell_type": "code",
   "execution_count": 63,
   "metadata": {},
   "outputs": [
    {
     "name": "stdout",
     "output_type": "stream",
     "text": [
      "Hello\n",
      "Nothing went wrong\n"
     ]
    }
   ],
   "source": [
    "# En este ejemplo, el trybloque no genera ningún error:\n",
    "\n",
    "try:\n",
    "  print(\"Hello\")\n",
    "except:\n",
    "  print(\"Something went wrong\")\n",
    "else:\n",
    "  print(\"Nothing went wrong\")"
   ]
  },
  {
   "cell_type": "markdown",
   "metadata": {},
   "source": [
    "## Finalmente\n",
    "El ``finally`` bloque, si se especifica, se ejecutará independientemente de si el bloque try genera un error o no."
   ]
  },
  {
   "cell_type": "code",
   "execution_count": 65,
   "metadata": {},
   "outputs": [
    {
     "name": "stdout",
     "output_type": "stream",
     "text": [
      "<re.Match object; span=(12, 17), match='Spain'>\n",
      "The 'try except' is finished\n"
     ]
    }
   ],
   "source": [
    "try:\n",
    "  print(x)\n",
    "except:\n",
    "  print(\"Something went wrong\")\n",
    "finally:\n",
    "  print(\"The 'try except' is finished\")"
   ]
  },
  {
   "cell_type": "markdown",
   "metadata": {},
   "source": [
    "Esto puede ser útil para cerrar objetos y limpiar recursos:"
   ]
  },
  {
   "cell_type": "code",
   "execution_count": 66,
   "metadata": {},
   "outputs": [
    {
     "name": "stdout",
     "output_type": "stream",
     "text": [
      "Something went wrong when opening the file\n"
     ]
    }
   ],
   "source": [
    "#Intente abrir y escribir en un archivo que no se puede escribir:\n",
    "\n",
    "try:\n",
    "  f = open(\"demofile.txt\")\n",
    "  try:\n",
    "    f.write(\"Lorum Ipsum\")\n",
    "  except:\n",
    "    print(\"Something went wrong when writing to the file\")\n",
    "  finally:\n",
    "    f.close()\n",
    "except:\n",
    "  print(\"Something went wrong when opening the file\")"
   ]
  },
  {
   "cell_type": "markdown",
   "metadata": {},
   "source": [
    "El programa puede continuar, sin dejar abierto el objeto de archivo.\n",
    "\n",
    "## Levantar una excepción\n",
    "Como desarrollador de Python, puede optar por generar una excepción si se produce una condición.\n",
    "\n",
    "Para lanzar (o generar) una excepción, use la ``raise`` palabra clave."
   ]
  },
  {
   "cell_type": "code",
   "execution_count": 67,
   "metadata": {},
   "outputs": [
    {
     "ename": "Exception",
     "evalue": "Sorry, no numbers below zero",
     "output_type": "error",
     "traceback": [
      "\u001b[1;31m---------------------------------------------------------------------------\u001b[0m",
      "\u001b[1;31mException\u001b[0m                                 Traceback (most recent call last)",
      "\u001b[1;32mc:\\Users\\celio\\OneDrive\\Escritorio\\programación\\platzi\\PracticaDePython.ipynb Celda 1300\u001b[0m in \u001b[0;36m6\n\u001b[0;32m      <a href='vscode-notebook-cell:/c%3A/Users/celio/OneDrive/Escritorio/programaci%C3%B3n/platzi/PracticaDePython.ipynb#Z3535sZmlsZQ%3D%3D?line=2'>3</a>\u001b[0m x \u001b[39m=\u001b[39m \u001b[39m-\u001b[39m\u001b[39m1\u001b[39m\n\u001b[0;32m      <a href='vscode-notebook-cell:/c%3A/Users/celio/OneDrive/Escritorio/programaci%C3%B3n/platzi/PracticaDePython.ipynb#Z3535sZmlsZQ%3D%3D?line=4'>5</a>\u001b[0m \u001b[39mif\u001b[39;00m x \u001b[39m<\u001b[39m \u001b[39m0\u001b[39m:\n\u001b[1;32m----> <a href='vscode-notebook-cell:/c%3A/Users/celio/OneDrive/Escritorio/programaci%C3%B3n/platzi/PracticaDePython.ipynb#Z3535sZmlsZQ%3D%3D?line=5'>6</a>\u001b[0m   \u001b[39mraise\u001b[39;00m \u001b[39mException\u001b[39;00m(\u001b[39m\"\u001b[39m\u001b[39mSorry, no numbers below zero\u001b[39m\u001b[39m\"\u001b[39m)\n",
      "\u001b[1;31mException\u001b[0m: Sorry, no numbers below zero"
     ]
    }
   ],
   "source": [
    "# Genera un error y detiene el programa si x es menor que 0:\n",
    "\n",
    "x = -1\n",
    "\n",
    "if x < 0:\n",
    "  raise Exception(\"Sorry, no numbers below zero\")"
   ]
  },
  {
   "cell_type": "markdown",
   "metadata": {},
   "source": [
    "La ``raise`` palabra clave se utiliza para generar una excepción.\n",
    "\n",
    "Puede definir qué tipo de error generar y el texto para imprimir al usuario."
   ]
  },
  {
   "cell_type": "code",
   "execution_count": 68,
   "metadata": {},
   "outputs": [
    {
     "ename": "TypeError",
     "evalue": "Only integers are allowed",
     "output_type": "error",
     "traceback": [
      "\u001b[1;31m---------------------------------------------------------------------------\u001b[0m",
      "\u001b[1;31mTypeError\u001b[0m                                 Traceback (most recent call last)",
      "\u001b[1;32mc:\\Users\\celio\\OneDrive\\Escritorio\\programación\\platzi\\PracticaDePython.ipynb Celda 1302\u001b[0m in \u001b[0;36m6\n\u001b[0;32m      <a href='vscode-notebook-cell:/c%3A/Users/celio/OneDrive/Escritorio/programaci%C3%B3n/platzi/PracticaDePython.ipynb#Z3540sZmlsZQ%3D%3D?line=2'>3</a>\u001b[0m x \u001b[39m=\u001b[39m \u001b[39m\"\u001b[39m\u001b[39mhello\u001b[39m\u001b[39m\"\u001b[39m\n\u001b[0;32m      <a href='vscode-notebook-cell:/c%3A/Users/celio/OneDrive/Escritorio/programaci%C3%B3n/platzi/PracticaDePython.ipynb#Z3540sZmlsZQ%3D%3D?line=4'>5</a>\u001b[0m \u001b[39mif\u001b[39;00m \u001b[39mnot\u001b[39;00m \u001b[39mtype\u001b[39m(x) \u001b[39mis\u001b[39;00m \u001b[39mint\u001b[39m:\n\u001b[1;32m----> <a href='vscode-notebook-cell:/c%3A/Users/celio/OneDrive/Escritorio/programaci%C3%B3n/platzi/PracticaDePython.ipynb#Z3540sZmlsZQ%3D%3D?line=5'>6</a>\u001b[0m   \u001b[39mraise\u001b[39;00m \u001b[39mTypeError\u001b[39;00m(\u001b[39m\"\u001b[39m\u001b[39mOnly integers are allowed\u001b[39m\u001b[39m\"\u001b[39m)\n",
      "\u001b[1;31mTypeError\u001b[0m: Only integers are allowed"
     ]
    }
   ],
   "source": [
    "# Genera un TypeError si x no es un número entero:\n",
    "\n",
    "x = \"hello\"\n",
    "\n",
    "if not type(x) is int:\n",
    "  raise TypeError(\"Only integers are allowed\")"
   ]
  },
  {
   "cell_type": "markdown",
   "metadata": {},
   "source": [
    "# User Input\n",
    "## Entrada del usuario\n",
    "Python permite la entrada del usuario.\n",
    "\n",
    "Eso significa que podemos pedirle al usuario que ingrese.\n",
    "\n",
    "El método es un poco diferente en Python 3.6 que en Python 2.7.\n",
    "\n",
    "Python 3.6 usa el ``input()`` método.\n",
    "\n",
    "Python 2.7 usa el ``raw_input()`` método.\n",
    "\n",
    "El siguiente ejemplo solicita el nombre de usuario, y cuando ingresaste el nombre de usuario, se imprime en la pantalla:\n",
    "\n",
    "### Python 3.6\n",
    "```python\n",
    "username = input(\"Enter username:\")\n",
    "print(\"Username is: \" + username)\n",
    "```"
   ]
  },
  {
   "cell_type": "code",
   "execution_count": 69,
   "metadata": {},
   "outputs": [
    {
     "name": "stdout",
     "output_type": "stream",
     "text": [
      "Username is: Mario Alexander Vargas Celis\n"
     ]
    }
   ],
   "source": [
    "username = input(\"Enter username:\")\n",
    "print(\"Username is: \" + username)"
   ]
  },
  {
   "cell_type": "markdown",
   "metadata": {},
   "source": [
    "Python 2.7"
   ]
  },
  {
   "cell_type": "code",
   "execution_count": 70,
   "metadata": {},
   "outputs": [
    {
     "ename": "NameError",
     "evalue": "name 'raw_input' is not defined",
     "output_type": "error",
     "traceback": [
      "\u001b[1;31m---------------------------------------------------------------------------\u001b[0m",
      "\u001b[1;31mNameError\u001b[0m                                 Traceback (most recent call last)",
      "\u001b[1;32mc:\\Users\\celio\\OneDrive\\Escritorio\\programación\\platzi\\PracticaDePython.ipynb Celda 1306\u001b[0m in \u001b[0;36m1\n\u001b[1;32m----> <a href='vscode-notebook-cell:/c%3A/Users/celio/OneDrive/Escritorio/programaci%C3%B3n/platzi/PracticaDePython.ipynb#Z3544sZmlsZQ%3D%3D?line=0'>1</a>\u001b[0m username \u001b[39m=\u001b[39m raw_input(\u001b[39m\"\u001b[39m\u001b[39mEnter username:\u001b[39m\u001b[39m\"\u001b[39m)\n\u001b[0;32m      <a href='vscode-notebook-cell:/c%3A/Users/celio/OneDrive/Escritorio/programaci%C3%B3n/platzi/PracticaDePython.ipynb#Z3544sZmlsZQ%3D%3D?line=1'>2</a>\u001b[0m \u001b[39mprint\u001b[39m(\u001b[39m\"\u001b[39m\u001b[39mUsername is: \u001b[39m\u001b[39m\"\u001b[39m \u001b[39m+\u001b[39m username)\n",
      "\u001b[1;31mNameError\u001b[0m: name 'raw_input' is not defined"
     ]
    }
   ],
   "source": [
    "username = raw_input(\"Enter username:\")\n",
    "print(\"Username is: \" + username)"
   ]
  },
  {
   "cell_type": "markdown",
   "metadata": {},
   "source": [
    "Python deja de ejecutarse cuando se trata de la ``input()`` función y continúa cuando el usuario ha dado alguna entrada."
   ]
  },
  {
   "cell_type": "markdown",
   "metadata": {},
   "source": [
    "# Python String Formatting\n",
    "Para asegurarnos de que una cadena se muestre como se esperaba, podemos formatear el resultado con el ``format()`` método.\n",
    "\n",
    "## Formato de cadena ()\n",
    "El ``format()`` método le permite formatear partes seleccionadas de una cadena.\n",
    "\n",
    "A veces, hay partes de un texto que no controla, ¿tal vez provienen de una base de datos o de la entrada del usuario?\n",
    "\n",
    "Para controlar dichos valores, agregue marcadores de posición (corchetes ``{}``) en el texto y ejecute los valores a través del ``format()`` método:"
   ]
  },
  {
   "cell_type": "code",
   "execution_count": 71,
   "metadata": {},
   "outputs": [
    {
     "name": "stdout",
     "output_type": "stream",
     "text": [
      "The price is 49 dollars\n"
     ]
    }
   ],
   "source": [
    "# Agrega un marcador de posición donde quieras mostrar el precio:\n",
    "\n",
    "price = 49\n",
    "txt = \"The price is {} dollars\"\n",
    "print(txt.format(price))"
   ]
  },
  {
   "cell_type": "markdown",
   "metadata": {},
   "source": [
    "Puede agregar parámetros dentro de las llaves para especificar cómo convertir el valor:"
   ]
  },
  {
   "cell_type": "code",
   "execution_count": 74,
   "metadata": {},
   "outputs": [
    {
     "name": "stdout",
     "output_type": "stream",
     "text": [
      "The price is 49.00 dollars\n"
     ]
    }
   ],
   "source": [
    "price = 49\n",
    "txt = \"The price is {:.2f} dollars\"\n",
    "print(txt.format(price))\n"
   ]
  },
  {
   "cell_type": "markdown",
   "metadata": {},
   "source": [
    "Consulte todos los tipos de formato en nuestra [Referencia de formato de cadena () ](https://www.w3schools.com/python/python_string_formatting.asp#:~:text=Consulte%20todos%20los%20tipos%20de%20formato%20en%20nuestra%20Referencia%20de%20formato%20de%20cadena%20()%20. \"Referencia de formato de cadena () \").\n",
    "\n",
    "## Valores múltiples\n",
    "Si desea usar más valores, simplemente agregue más valores al método format():\n",
    "\n",
    "``print(txt.format(price, itemno, count))``\n",
    "\n",
    "Y agregue más marcadores de posición:"
   ]
  },
  {
   "cell_type": "code",
   "execution_count": 75,
   "metadata": {},
   "outputs": [
    {
     "name": "stdout",
     "output_type": "stream",
     "text": [
      "I want 3 pieces of item number 567 for 49.00 dollars.\n"
     ]
    }
   ],
   "source": [
    "quantity = 3\n",
    "itemno = 567\n",
    "price = 49\n",
    "myorder = \"I want {} pieces of item number {} for {:.2f} dollars.\"\n",
    "print(myorder.format(quantity, itemno, price))"
   ]
  },
  {
   "cell_type": "markdown",
   "metadata": {},
   "source": [
    "## Números de índice\n",
    "Puede usar números de índice (un número dentro de las llaves ``{0}``) para asegurarse de que los valores se colocan en los marcadores de posición correctos:"
   ]
  },
  {
   "cell_type": "code",
   "execution_count": 76,
   "metadata": {},
   "outputs": [
    {
     "name": "stdout",
     "output_type": "stream",
     "text": [
      "I want 3 pieces of item number 567 for 49.00 dollars.\n"
     ]
    }
   ],
   "source": [
    "quantity = 3\n",
    "itemno = 567\n",
    "price = 49\n",
    "myorder = \"I want {0} pieces of item number {1} for {2:.2f} dollars.\"\n",
    "print(myorder.format(quantity, itemno, price))"
   ]
  },
  {
   "cell_type": "markdown",
   "metadata": {},
   "source": [
    "Además, si desea hacer referencia al mismo valor más de una vez, utilice el número de índice:"
   ]
  },
  {
   "cell_type": "code",
   "execution_count": 77,
   "metadata": {},
   "outputs": [
    {
     "name": "stdout",
     "output_type": "stream",
     "text": [
      "His name is John. John is 36 years old.\n"
     ]
    }
   ],
   "source": [
    "age = 36\n",
    "name = \"John\"\n",
    "txt = \"His name is {1}. {1} is {0} years old.\"\n",
    "print(txt.format(age, name))"
   ]
  },
  {
   "cell_type": "markdown",
   "metadata": {},
   "source": [
    "## Índices con nombre\n",
    "También puede usar índices con nombre ingresando un nombre dentro de las llaves ``{carname}``, pero luego debe usar nombres cuando pasa los valores de los parámetros ``txt.format(carname = \"Ford\")``:"
   ]
  },
  {
   "cell_type": "code",
   "execution_count": 78,
   "metadata": {},
   "outputs": [
    {
     "name": "stdout",
     "output_type": "stream",
     "text": [
      "I have a Ford, it is a Mustang.\n"
     ]
    }
   ],
   "source": [
    "myorder = \"I have a {carname}, it is a {model}.\"\n",
    "print(myorder.format(carname = \"Ford\", model = \"Mustang\"))\n"
   ]
  },
  {
   "cell_type": "markdown",
   "metadata": {},
   "source": [
    "# Python File Open\n",
    "El manejo de archivos es una parte importante de cualquier aplicación web.\n",
    "\n",
    "Python tiene varias funciones para crear, leer, actualizar y eliminar archivos.\n",
    "\n",
    "## Manejo de archivos\n",
    "La función clave para trabajar con archivos en Python es la ``open()`` función.\n",
    "\n",
    "La ``open()`` función toma dos parámetros; nombre de archivo y modo .\n",
    "\n",
    "Hay cuatro métodos (modos) diferentes para abrir un archivo:\n",
    "\n",
    "``\"r\"``- Leer - Valor por defecto. Abre un archivo para lectura, error si el archivo no existe\n",
    "\n",
    "``\"a\"``- Agregar: abre un archivo para agregar, crea el archivo si no existe\n",
    "\n",
    "``\"w\"``- Escribir: abre un archivo para escribir, crea el archivo si no existe\n",
    "\n",
    "``\"x\"``- Crear: crea el archivo especificado, devuelve un error si el archivo existe\n",
    "\n",
    "Además, puede especificar si el archivo debe manejarse como modo binario o de texto.\n",
    "\n",
    "``\"t\"``- Texto - Valor por defecto. Modo de texto\n",
    "\n",
    "``\"b\"``- Binario - Modo binario (por ejemplo, imágenes)\n",
    "\n",
    "## Sintaxis\n",
    "Para abrir un archivo para leerlo, basta con especificar el nombre del archivo:\n",
    "\n",
    "```python\n",
    "f = open(\"demofile.txt\")\n",
    "```\n",
    "El código anterior es el mismo que:\n",
    "```python\n",
    "f = open(\"demofile.txt\", \"rt\")\n",
    "```\n",
    "\n",
    "Debido ``\"r\"`` a que para leer y ``\"t\"`` para texto son los valores predeterminados, no necesita especificarlos."
   ]
  },
  {
   "cell_type": "markdown",
   "metadata": {},
   "source": [
    "# Python File Open\n",
    "## Abrir un archivo en el servidor\n",
    "Supongamos que tenemos el siguiente archivo, ubicado en la misma carpeta que Python:\n",
    "\n",
    "```python\n",
    "# demofile.txt\n",
    "\n",
    "Hello! Welcome to demofile.txt\n",
    "This file is for testing purposes.\n",
    "Good Luck!\n",
    "```\n",
    "Para abrir el archivo, use la función incorporada ``open()``.\n",
    "\n",
    "La ``open()`` función devuelve un objeto de archivo, que tiene un ``read()`` método para leer el contenido del archivo:\n"
   ]
  },
  {
   "cell_type": "code",
   "execution_count": 2,
   "metadata": {},
   "outputs": [
    {
     "name": "stdout",
     "output_type": "stream",
     "text": [
      "Hello! Welcome to demofile.txt\n",
      "This file is for testing purposes.\n",
      "Good Luck!\n"
     ]
    }
   ],
   "source": [
    "f = open(\"demofile.txt\", \"r\")\n",
    "print(f.read())"
   ]
  },
  {
   "cell_type": "markdown",
   "metadata": {},
   "source": [
    "Si el archivo se encuentra en una ubicación diferente, deberá especificar la ruta del archivo, así:"
   ]
  },
  {
   "cell_type": "code",
   "execution_count": 3,
   "metadata": {},
   "outputs": [
    {
     "ename": "FileNotFoundError",
     "evalue": "[Errno 2] No such file or directory: 'D:\\\\myfiles\\\\welcome.txt'",
     "output_type": "error",
     "traceback": [
      "\u001b[1;31m---------------------------------------------------------------------------\u001b[0m",
      "\u001b[1;31mFileNotFoundError\u001b[0m                         Traceback (most recent call last)",
      "\u001b[1;32mc:\\Users\\celio\\OneDrive\\Escritorio\\programación\\platzi\\PracticaDePython.ipynb Celda 1324\u001b[0m in \u001b[0;36m1\n\u001b[1;32m----> <a href='vscode-notebook-cell:/c%3A/Users/celio/OneDrive/Escritorio/programaci%C3%B3n/platzi/PracticaDePython.ipynb#Z3600sZmlsZQ%3D%3D?line=0'>1</a>\u001b[0m f \u001b[39m=\u001b[39m \u001b[39mopen\u001b[39;49m(\u001b[39m\"\u001b[39;49m\u001b[39mD:\u001b[39;49m\u001b[39m\\\\\u001b[39;49;00m\u001b[39mmyfiles\u001b[39;49m\u001b[39m\\\u001b[39;49m\u001b[39mwelcome.txt\u001b[39;49m\u001b[39m\"\u001b[39;49m, \u001b[39m\"\u001b[39;49m\u001b[39mr\u001b[39;49m\u001b[39m\"\u001b[39;49m)\n\u001b[0;32m      <a href='vscode-notebook-cell:/c%3A/Users/celio/OneDrive/Escritorio/programaci%C3%B3n/platzi/PracticaDePython.ipynb#Z3600sZmlsZQ%3D%3D?line=1'>2</a>\u001b[0m \u001b[39mprint\u001b[39m(f\u001b[39m.\u001b[39mread())\n",
      "File \u001b[1;32m~\\AppData\\Roaming\\Python\\Python311\\site-packages\\IPython\\core\\interactiveshell.py:282\u001b[0m, in \u001b[0;36m_modified_open\u001b[1;34m(file, *args, **kwargs)\u001b[0m\n\u001b[0;32m    275\u001b[0m \u001b[39mif\u001b[39;00m file \u001b[39min\u001b[39;00m {\u001b[39m0\u001b[39m, \u001b[39m1\u001b[39m, \u001b[39m2\u001b[39m}:\n\u001b[0;32m    276\u001b[0m     \u001b[39mraise\u001b[39;00m \u001b[39mValueError\u001b[39;00m(\n\u001b[0;32m    277\u001b[0m         \u001b[39mf\u001b[39m\u001b[39m\"\u001b[39m\u001b[39mIPython won\u001b[39m\u001b[39m'\u001b[39m\u001b[39mt let you open fd=\u001b[39m\u001b[39m{\u001b[39;00mfile\u001b[39m}\u001b[39;00m\u001b[39m by default \u001b[39m\u001b[39m\"\u001b[39m\n\u001b[0;32m    278\u001b[0m         \u001b[39m\"\u001b[39m\u001b[39mas it is likely to crash IPython. If you know what you are doing, \u001b[39m\u001b[39m\"\u001b[39m\n\u001b[0;32m    279\u001b[0m         \u001b[39m\"\u001b[39m\u001b[39myou can use builtins\u001b[39m\u001b[39m'\u001b[39m\u001b[39m open.\u001b[39m\u001b[39m\"\u001b[39m\n\u001b[0;32m    280\u001b[0m     )\n\u001b[1;32m--> 282\u001b[0m \u001b[39mreturn\u001b[39;00m io_open(file, \u001b[39m*\u001b[39;49margs, \u001b[39m*\u001b[39;49m\u001b[39m*\u001b[39;49mkwargs)\n",
      "\u001b[1;31mFileNotFoundError\u001b[0m: [Errno 2] No such file or directory: 'D:\\\\myfiles\\\\welcome.txt'"
     ]
    }
   ],
   "source": [
    "f = open(\"D:\\\\myfiles\\welcome.txt\", \"r\")\n",
    "print(f.read())"
   ]
  },
  {
   "cell_type": "markdown",
   "metadata": {},
   "source": [
    "## Solo lectura de partes del archivo\n",
    "De forma predeterminada, el ``read()`` método devuelve el texto completo, pero también puede especificar cuántos caracteres desea devolver:"
   ]
  },
  {
   "cell_type": "code",
   "execution_count": 6,
   "metadata": {},
   "outputs": [
    {
     "name": "stdout",
     "output_type": "stream",
     "text": [
      "Hello\n"
     ]
    }
   ],
   "source": [
    "# Devuelve los 5 primeros caracteres del archivo:\n",
    "\n",
    "f = open(\"demofile.txt\", \"r\")\n",
    "print(f.read(5))"
   ]
  },
  {
   "cell_type": "markdown",
   "metadata": {},
   "source": [
    "## Leer líneas\n",
    "Puede devolver una línea utilizando el ``readline()`` método:"
   ]
  },
  {
   "cell_type": "code",
   "execution_count": null,
   "metadata": {},
   "outputs": [],
   "source": [
    "# Lea una línea del archivo:\n",
    "\n",
    "f = open(\"demofile.txt\", \"r\")\n",
    "print(f.readline())"
   ]
  },
  {
   "cell_type": "markdown",
   "metadata": {},
   "source": [
    "Al llamar ``readline()`` dos veces, puede leer las dos primeras líneas:"
   ]
  },
  {
   "cell_type": "code",
   "execution_count": 7,
   "metadata": {},
   "outputs": [
    {
     "name": "stdout",
     "output_type": "stream",
     "text": [
      "Hello! Welcome to demofile.txt\n",
      "\n",
      "This file is for testing purposes.\n",
      "\n"
     ]
    }
   ],
   "source": [
    "# Lea dos líneas del archivo:\n",
    "\n",
    "f = open(\"demofile.txt\", \"r\")\n",
    "print(f.readline())\n",
    "print(f.readline())"
   ]
  },
  {
   "cell_type": "markdown",
   "metadata": {},
   "source": [
    "Al recorrer las líneas del archivo, puede leer el archivo completo, línea por línea:"
   ]
  },
  {
   "cell_type": "code",
   "execution_count": 8,
   "metadata": {},
   "outputs": [
    {
     "name": "stdout",
     "output_type": "stream",
     "text": [
      "Hello! Welcome to demofile.txt\n",
      "\n",
      "This file is for testing purposes.\n",
      "\n",
      "Good Luck!\n"
     ]
    }
   ],
   "source": [
    "# Recorra el archivo línea por línea:\n",
    "\n",
    "f = open(\"demofile.txt\", \"r\")\n",
    "for x in f:\n",
    "  print(x)"
   ]
  },
  {
   "cell_type": "markdown",
   "metadata": {},
   "source": [
    "## Cerrar archivos\n",
    "Es una buena práctica cerrar siempre el archivo cuando haya terminado con él."
   ]
  },
  {
   "cell_type": "code",
   "execution_count": 9,
   "metadata": {},
   "outputs": [
    {
     "name": "stdout",
     "output_type": "stream",
     "text": [
      "Hello! Welcome to demofile.txt\n",
      "\n"
     ]
    }
   ],
   "source": [
    "# Cierra el archivo cuando hayas terminado con él:\n",
    "\n",
    "f = open(\"demofile.txt\", \"r\")\n",
    "print(f.readline())\n",
    "f.close()"
   ]
  },
  {
   "cell_type": "markdown",
   "metadata": {},
   "source": [
    "**Nota**: Siempre debe cerrar sus archivos; en algunos casos, debido al almacenamiento en búfer, es posible que los cambios realizados en un archivo no se muestren hasta que cierre el archivo."
   ]
  },
  {
   "cell_type": "markdown",
   "metadata": {},
   "source": [
    "# Python File Write\n",
    "## Escribir en un archivo existente\n",
    "Para escribir en un archivo existente, debe agregar un parámetro a la ``open()`` función:\n",
    "\n",
    "``\"a\"``- Agregar: se agregará al final del archivo\n",
    "\n",
    "``\"w\"``- Escribir: sobrescribirá cualquier contenido existente"
   ]
  },
  {
   "cell_type": "code",
   "execution_count": 10,
   "metadata": {},
   "outputs": [
    {
     "name": "stdout",
     "output_type": "stream",
     "text": [
      "Now the file has more content!\n"
     ]
    }
   ],
   "source": [
    "# Abra el archivo \"demofile2.txt\" y agregue contenido al archivo:\n",
    "\n",
    "f = open(\"demofile2.txt\", \"a\")\n",
    "f.write(\"Now the file has more content!\")\n",
    "f.close()\n",
    "\n",
    "#open and read the file after the appending:\n",
    "f = open(\"demofile2.txt\", \"r\")\n",
    "print(f.read())"
   ]
  },
  {
   "cell_type": "code",
   "execution_count": 11,
   "metadata": {},
   "outputs": [
    {
     "name": "stdout",
     "output_type": "stream",
     "text": [
      "Woops! I have deleted the content!\n"
     ]
    }
   ],
   "source": [
    "# Abra el archivo \"demofile3.txt\" y sobrescriba el contenido:\n",
    "\n",
    "f = open(\"demofile3.txt\", \"w\")\n",
    "f.write(\"Woops! I have deleted the content!\")\n",
    "f.close()\n",
    "\n",
    "#open and read the file after the overwriting:\n",
    "f = open(\"demofile3.txt\", \"r\")\n",
    "print(f.read())"
   ]
  },
  {
   "cell_type": "markdown",
   "metadata": {},
   "source": [
    "**Nota**: el método \"w\" sobrescribirá todo el archivo.\n",
    "## Crear un nuevo archivo\n",
    "Para crear un nuevo archivo en Python, use el ``open()`` método, con uno de los siguientes parámetros:\n",
    "\n",
    "``\"x\"``- Create - creará un archivo, devuelve un error si el archivo existe\n",
    "\n",
    "``\"a\"``- Agregar: creará un archivo si el archivo especificado no existe\n",
    "\n",
    "``\"w\"``- Escribir: creará un archivo si el archivo especificado no existe\n",
    "Cree un archivo llamado \"myfile.txt\":\n",
    "\n",
    "```python\n",
    "f = open(\"myfile.txt\", \"x\")\n",
    "```\n",
    "Resultado: ¡se crea un nuevo archivo vacío!\n",
    "```python\n",
    "f = open(\"myfile.txt\", \"w\")\n",
    "```"
   ]
  },
  {
   "cell_type": "markdown",
   "metadata": {},
   "source": [
    "# Python Delete File\n",
    "## Eliminar un archivo\n",
    "Para eliminar un archivo, debe importar el módulo del sistema operativo y ejecutar su ``os.remove()`` función:\n",
    "\n",
    "Elimina el archivo \"demofile.txt\":\n",
    "\n",
    "```python\n",
    "import os\n",
    "os.remove(\"demofile.txt\")\n",
    "```\n",
    "## Compruebe si existe el archivo:\n",
    "Para evitar recibir un error, es posible que desee verificar si el archivo existe antes de intentar eliminarlo:\n",
    "\n",
    "Verifique si el archivo existe, luego elimínelo:\n",
    "\n",
    "```python\n",
    "import os\n",
    "if os.path.exists(\"demofile.txt\"):\n",
    "  os.remove(\"demofile.txt\")\n",
    "else:\n",
    "  print(\"The file does not exist\")\n",
    "```\n",
    "## Eliminar carpeta\n",
    "Para eliminar una carpeta completa, utilice el ``os.rmdir()`` método:\n",
    "\n",
    "Eliminar la carpeta \"myfolder\":\n",
    "\n",
    "```python\n",
    "import os\n",
    "os.rmdir(\"myfolder\")\n",
    "```\n",
    "**Nota**: solo puede eliminar carpetas *vacías*."
   ]
  },
  {
   "cell_type": "markdown",
   "metadata": {},
   "source": [
    "# RETOS"
   ]
  },
  {
   "cell_type": "code",
   "execution_count": 3,
   "metadata": {},
   "outputs": [
    {
     "name": "stdout",
     "output_type": "stream",
     "text": [
      "numero ingresado fue 101\n",
      "1\n",
      "2\n",
      "Fizz\n",
      "4\n",
      "Buzz\n",
      "Fizz\n",
      "7\n",
      "8\n",
      "Fizz\n",
      "Buzz\n",
      "11\n",
      "Fizz\n",
      "13\n",
      "14\n",
      "FizzBuzz\n",
      "16\n",
      "17\n",
      "Fizz\n",
      "19\n",
      "Buzz\n",
      "Fizz\n",
      "22\n",
      "23\n",
      "Fizz\n",
      "Buzz\n",
      "26\n",
      "Fizz\n",
      "28\n",
      "29\n",
      "FizzBuzz\n",
      "31\n",
      "32\n",
      "Fizz\n",
      "34\n",
      "Buzz\n",
      "Fizz\n",
      "37\n",
      "38\n",
      "Fizz\n",
      "Buzz\n",
      "41\n",
      "Fizz\n",
      "43\n",
      "44\n",
      "FizzBuzz\n",
      "46\n",
      "47\n",
      "Fizz\n",
      "49\n",
      "Buzz\n",
      "Fizz\n",
      "52\n",
      "53\n",
      "Fizz\n",
      "Buzz\n",
      "56\n",
      "Fizz\n",
      "58\n",
      "59\n",
      "FizzBuzz\n",
      "61\n",
      "62\n",
      "Fizz\n",
      "64\n",
      "Buzz\n",
      "Fizz\n",
      "67\n",
      "68\n",
      "Fizz\n",
      "Buzz\n",
      "71\n",
      "Fizz\n",
      "73\n",
      "74\n",
      "FizzBuzz\n",
      "76\n",
      "77\n",
      "Fizz\n",
      "79\n",
      "Buzz\n",
      "Fizz\n",
      "82\n",
      "83\n",
      "Fizz\n",
      "Buzz\n",
      "86\n",
      "Fizz\n",
      "88\n",
      "89\n",
      "FizzBuzz\n",
      "91\n",
      "92\n",
      "Fizz\n",
      "94\n",
      "Buzz\n",
      "Fizz\n",
      "97\n",
      "98\n",
      "Fizz\n",
      "Buzz\n"
     ]
    }
   ],
   "source": [
    "numax = int(input(\"Ingrese el número maximo: \"))\n",
    "print(\"numero ingresado fue \" + str(numax))\n",
    "for number in range(1, numax):\n",
    "        if number %3 == 0 and number %5 == 0:\n",
    "            print(\"FizzBuzz\")\n",
    "    \n",
    "        elif number %3 == 0:\n",
    "            print(\"Fizz\")\n",
    "        \n",
    "        elif number %5 == 0:\n",
    "            print(\"Buzz\")\n",
    "            \n",
    "        else:\n",
    "            print(number)\n",
    "\n"
   ]
  },
  {
   "cell_type": "code",
   "execution_count": 12,
   "metadata": {},
   "outputs": [
    {
     "name": "stdout",
     "output_type": "stream",
     "text": [
      "1\n",
      "2\n",
      "fizz\n",
      "4\n",
      "buzz\n",
      "fizz\n",
      "7\n",
      "8\n",
      "fizz\n",
      "buzz\n",
      "11\n",
      "fizz\n",
      "13\n",
      "14\n",
      "fizzbuzz\n",
      "16\n",
      "17\n",
      "fizz\n",
      "19\n",
      "buzz\n",
      "fizz\n",
      "22\n",
      "23\n",
      "fizz\n",
      "buzz\n",
      "26\n",
      "fizz\n",
      "28\n",
      "29\n",
      "fizzbuzz\n",
      "31\n",
      "32\n",
      "fizz\n",
      "34\n",
      "buzz\n",
      "fizz\n",
      "37\n",
      "38\n",
      "fizz\n",
      "buzz\n",
      "41\n",
      "fizz\n",
      "43\n",
      "44\n",
      "fizzbuzz\n",
      "46\n",
      "47\n",
      "fizz\n",
      "49\n",
      "buzz\n",
      "fizz\n",
      "52\n",
      "53\n",
      "fizz\n",
      "buzz\n",
      "56\n",
      "fizz\n",
      "58\n",
      "59\n",
      "fizzbuzz\n",
      "61\n",
      "62\n",
      "fizz\n",
      "64\n",
      "buzz\n",
      "fizz\n",
      "67\n",
      "68\n",
      "fizz\n",
      "buzz\n",
      "71\n",
      "fizz\n",
      "73\n",
      "74\n",
      "fizzbuzz\n",
      "76\n",
      "77\n",
      "fizz\n",
      "79\n",
      "buzz\n",
      "fizz\n",
      "82\n",
      "83\n",
      "fizz\n",
      "buzz\n",
      "86\n",
      "fizz\n",
      "88\n",
      "89\n",
      "fizzbuzz\n",
      "91\n",
      "92\n",
      "fizz\n",
      "94\n",
      "buzz\n",
      "fizz\n",
      "97\n",
      "98\n",
      "fizz\n",
      "buzz\n"
     ]
    }
   ],
   "source": [
    "def bothMultiple(number):\n",
    "    return (number % 5 == 0) and (number % 3 == 0)\n",
    "\n",
    "def multipleOf3(number):\n",
    "    return number % 3 == 0\n",
    "\n",
    "def multipleOf5(number):\n",
    "    return number % 5 == 0\n",
    "\n",
    "def run():\n",
    "\n",
    "    mult3 = \"fizz\"\n",
    "    mult5 = \"buzz\"\n",
    "    for i in range(1, 101):\n",
    "        if bothMultiple(i):\n",
    "            print(mult3 + mult5)\n",
    "\n",
    "        elif multipleOf3(i):\n",
    "            print(mult3)\n",
    "\n",
    "        elif multipleOf5(i):\n",
    "            print(mult5)\n",
    "\n",
    "        else:\n",
    "            print(i)\n",
    "\n",
    "\n",
    "if __name__ == '__main__':\n",
    "    run()"
   ]
  },
  {
   "cell_type": "code",
   "execution_count": 32,
   "metadata": {},
   "outputs": [
    {
     "name": "stdout",
     "output_type": "stream",
     "text": [
      "texto codificado: #0j 35 oB )3 3^/3l20 j 3570j l2341124^/)0 31 l2370 )3 |*l20&l24/\\/\\4[1ó^/ |*l20|*(_)3570 |*0l2 /\\/\\0l2(_)l23)3\\/. l3(_)3^/4 5(_)3l273!\n"
     ]
    }
   ],
   "source": [
    "#\n",
    "# Escribe un programa que reciba un texto y transforme lenguaje natural a\n",
    "# \"lenguaje hacker\" (conocido realmente como \"leet\" o \"1337\"). Este lenguaje\n",
    "#  se caracteriza por sustituir caracteres alfanuméricos.\n",
    "# - Utiliza esta tabla (https://www.gamehouse.com/blog/leet-speak-cheat-sheet/)\n",
    "#   con el alfabeto y los números en \"leet\".\n",
    "#   (Usa la primera opción de cada transformación. Por ejemplo \"4\" para la \"a\")\n",
    "#\n",
    "trad_dict={\n",
    "    'a':'4',\n",
    "    'b':'l3',\n",
    "    'c':'[',\n",
    "    'd':')',\n",
    "    'e':'3',\n",
    "    'f':'|=',\n",
    "    'g':'&',\n",
    "    'h':'#',\n",
    "    'i':'1',\n",
    "    'j':',_|',\n",
    "    'k':'>|',\n",
    "    'l':'1',\n",
    "    'm':'/\\\\/\\\\',\n",
    "    'n':'^/',\n",
    "    'o':'0',\n",
    "    'p':'|*',\n",
    "    'q':'(_,)',\n",
    "    'r':'l2',\n",
    "    's':'5',\n",
    "    't':'7',\n",
    "    'u':'(_)',\n",
    "    'v':'\\\\/',\n",
    "    'w':'\\\\/\\\\/',\n",
    "    'x':'><',\n",
    "    'y':'j',\n",
    "    'z':'2',\n",
    "    '1':'L',\n",
    "    '2':'R',\n",
    "    '3':'E',\n",
    "    '4':'A',\n",
    "    '5':'S',\n",
    "    '6':'b',\n",
    "    '7':'T',\n",
    "    '8':'B',\n",
    "    '9':'g',\n",
    "    '0':'o'\n",
    "}\n",
    "\n",
    "text = input(\"Ingresa el texto\\n \")\n",
    "trad_text = \"\"\n",
    "\n",
    "for  word in text.lower():\n",
    "    trad_text += trad_dict[word] if word in trad_dict else word \n",
    "\n",
    "print(f\"texto codificado: {trad_text}\")"
   ]
  },
  {
   "cell_type": "code",
   "execution_count": 33,
   "metadata": {},
   "outputs": [
    {
     "name": "stdout",
     "output_type": "stream",
     "text": [
      "15 - Love\n",
      "30 - Love\n",
      "30 - 15\n",
      "30 - 30\n",
      "40 - 30\n",
      "Deuce\n",
      "Ventaja P1\n",
      "Ha ganado el P1\n"
     ]
    }
   ],
   "source": [
    "'''\n",
    "    Escribe un programa que muestre cómo transcurre un juego de tenis y quién lo ha ganado.\n",
    "    El programa recibirá una secuencia formada por \"P1\" (Player 1) o \"P2\" (Player 2), según quien\n",
    "    gane cada punto del juego.\n",
    "\n",
    "    - Las puntuaciones de un juego son \"Love\" (cero), 15, 30, 40, \"Deuce\" (empate), ventaja.\n",
    "    - Ante la secuencia [P1, P1, P2, P2, P1, P2, P1, P1], el programa mostraría lo siguiente:\n",
    "    15 - Love\n",
    "    30 - Love\n",
    "    30 - 15\n",
    "    30 - 30\n",
    "    40 - 30\n",
    "    Deuce\n",
    "    Ventaja P1\n",
    "    Ha ganado el P1\n",
    "    - Si quieres, puedes controlar errores en la entrada de datos.   \n",
    "    - Consulta las reglas del juego si tienes dudas sobre el sistema de puntos.   \n",
    "'''\n",
    "\n",
    "points = ('P1', 'P1', 'P2', 'P2', 'P1', 'P2', 'P1', 'P1')\n",
    "system_points = {0: 'Love', 1: '15', 2: '30', 3: '40'}\n",
    "p1_points, p2_points = 0, 0\n",
    "\n",
    "for point in points:\n",
    "    if point == 'P1': p1_points += 1\n",
    "    else: p2_points += 1\n",
    "\n",
    "    if (p1_points + p2_points) <= 5:\n",
    "        print(f'{system_points[p1_points]} - {system_points[p2_points]}')\n",
    "\n",
    "    if p1_points == p2_points and (p1_points + p2_points) >= 6:\n",
    "        print('Deuce')\n",
    "    \n",
    "    if (p1_points + p2_points) > 6 and (p1_points + p2_points) % 2 != 0:\n",
    "        print(f'Ventaja {point}')\n",
    "\n",
    "    if (p1_points + p2_points) >= 8 and (p1_points - p2_points) in (2, -2):\n",
    "        print(f'Ha ganado el {point}')"
   ]
  },
  {
   "cell_type": "code",
   "execution_count": 45,
   "metadata": {},
   "outputs": [
    {
     "name": "stdout",
     "output_type": "stream",
     "text": [
      "Se generan los siguientes juegos de contraseñas con distintas configuraciones:\n",
      "\n",
      "Genera contraseña de 16 caracteres: caugyV!j'6LgM1*W\n",
      "Genera contraseña de 8 caracteres: cbtqagnl\n",
      "Genera contraseña de 10 caracteres: igflieguho\n",
      "Genera contraseña de 9 caracteres: hXlpjALFA\n",
      "La contraseña debe contener entre 8 y 16 caracteres\n",
      "Genera contraseña de 20 caracteres: \n",
      "La contraseña debe contener entre 8 y 16 caracteres\n",
      "Genera contraseña de 24 caracteres: \n",
      "3HPdd#$M\n"
     ]
    }
   ],
   "source": [
    "'''\n",
    "/*\n",
    " * Escribe un programa que sea capaz de generar contraseñas de forma aleatoria.\n",
    " * Podrás configurar generar contraseñas con los siguientes parámetros:\n",
    " * - Longitud: Entre 8 y 16.\n",
    " * - Con o sin letras mayúsculas.\n",
    " * - Con o sin números.\n",
    " * - Con o sin símbolos.\n",
    " * (Pudiendo combinar todos estos parámetros entre ellos)\n",
    " */\n",
    "'''\n",
    "\n",
    "'''\n",
    "Utilizaremos la codificación ASCII extendido:\n",
    "La mayoria de los simbolos se encuentran entre: [33:47]+[58:64]+[91:96]\n",
    "Los números: [48:57]\n",
    "Las letras mayúsculas: [65:90]+[209](Ñ)\n",
    "Las letras minúsculas: [97:122]+[241](ñ)\n",
    "'''\n",
    "\n",
    "import string\n",
    "import secrets\n",
    "\n",
    "def generate_password(length = 8, case = True, number = True, symbol = True):\n",
    "    password: str = \"\"\n",
    "    options: int = 0\n",
    "    \n",
    "    if length < 8 or length > 16:\n",
    "        print(\"La contraseña debe contener entre 8 y 16 caracteres\")\n",
    "    else:\n",
    "        # Control de las opciones que se ejecutarán\n",
    "        options += 1 if case else 0\n",
    "        options += 1 if number else 0\n",
    "        options += 1 if symbol else 0\n",
    "        \n",
    "        # En función del valor de las opciones se creará una password con mayúsculas, números o símbolos\n",
    "        if options == 0:\n",
    "            letter = string.ascii_letters.lower()\n",
    "            \n",
    "        if options == 1:\n",
    "            letter = string.ascii_letters\n",
    "            \n",
    "        if options == 2:\n",
    "            letter = string.ascii_letters +  string.digits\n",
    "            \n",
    "        if options == 3:\n",
    "            letter = string.ascii_letters +  string.digits + string.punctuation\n",
    "            \n",
    "        # Generar contraseña\n",
    "        password = ''.join(secrets.choice(letter) for i in range(length))\n",
    "            \n",
    "    return password\n",
    "\n",
    "if __name__ == '__main__':\n",
    "\n",
    "    print('Se generan los siguientes juegos de contraseñas con distintas configuraciones:\\n')\n",
    "    print(\"Genera contraseña de 16 caracteres: \" + generate_password(16, True, True, True))\n",
    "    print(\"Genera contraseña de 8 caracteres: \" + generate_password(8, False, False, False))\n",
    "    print(\"Genera contraseña de 10 caracteres: \" + generate_password(10, False, False, False))\n",
    "    print(\"Genera contraseña de 9 caracteres: \" + generate_password(9, True, False, False))\n",
    "    print(\"Genera contraseña de 20 caracteres: \" + generate_password(20, True, True, True))\n",
    "    print(\"Genera contraseña de 24 caracteres: \" + generate_password(24, True, True, True))\n",
    "    print(generate_password())"
   ]
  },
  {
   "cell_type": "code",
   "execution_count": 47,
   "metadata": {},
   "outputs": [
    {
     "name": "stdout",
     "output_type": "stream",
     "text": [
      "20 no es primo, par, y no es un número de Fibonacci.\n"
     ]
    }
   ],
   "source": [
    "num = int(input(\"Introduce un número: \"))\n",
    "\n",
    "# Comprobar si es primo\n",
    "es_primo = True\n",
    "for i in range(2, num):\n",
    "    if num % i == 0:\n",
    "        es_primo = False\n",
    "        break\n",
    "\n",
    "# Comprobar si es par\n",
    "es_par = num % 2 == 0\n",
    "\n",
    "# Comprobar si es un número de Fibonacci\n",
    "a, b = 0, 1\n",
    "while b < num:\n",
    "    a, b = b, a + b\n",
    "es_fibonacci = b == num\n",
    "\n",
    "# Mostrar los resultados\n",
    "if es_primo:\n",
    "    print(f\"{num} es primo,\", end=\" \")\n",
    "else:\n",
    "    print(f\"{num} no es primo,\", end=\" \")\n",
    "\n",
    "if es_par:\n",
    "    print(\"par,\", end=\" \")\n",
    "else:\n",
    "    print(\"impar,\", end=\" \")\n",
    "\n",
    "if es_fibonacci:\n",
    "    print(\"y es un número de Fibonacci.\")\n",
    "else:\n",
    "    print(\"y no es un número de Fibonacci.\")"
   ]
  },
  {
   "cell_type": "code",
   "execution_count": 53,
   "metadata": {},
   "outputs": [
    {
     "name": "stdout",
     "output_type": "stream",
     "text": [
      "Tie: ✂️  =  ✂️\n",
      "Tie: ✂️  =  ✂️\n",
      "Tie: ✂️  =  ✂️\n",
      "Tie\n"
     ]
    }
   ],
   "source": [
    "\"\"\" \n",
    " * Crea un programa que calcule quien gana más partidas al piedra,\n",
    " * papel, tijera, lagarto, spock.\n",
    " * - El resultado puede ser: \"Player 1\", \"Player 2\", \"Tie\" (empate)\n",
    " * - La función recibe un listado que contiene pares, representando cada jugada.\n",
    " * - El par puede contener combinaciones de \"🗿\" (piedra), \"📄\" (papel),\n",
    " *   \"✂️\" (tijera), \"🦎\" (lagarto) o \"🖖\" (spock).\n",
    " * - Ejemplo. Entrada: [(\"🗿\",\"✂️\"), (\"✂️\",\"🗿\"), (\"📄\",\"✂️\")]. Resultado: \"Player 2\".\n",
    " * - Debes buscar información sobre cómo se juega con estas 5 posibilidades.\n",
    "\"\"\"\n",
    "\n",
    "moves = {\n",
    "    \"🗿\": [\"🦎\", \"✂️\"],\n",
    "    \"📄\": [\"🗿\", \"🖖\"],\n",
    "    \"✂️\": [\"📄\", \"🦎\"] ,\n",
    "    \"🖖\": [\"✂️\", \"🗿\"],\n",
    "    \"🦎\": [\"🖖\", \"📄\"]    \n",
    "    }\n",
    "\n",
    "\n",
    "\n",
    "\n",
    "def run(plays_list):\n",
    "    player_1_score = 0  \n",
    "    player_2_score = 0\n",
    "\n",
    "\n",
    "    for play in plays_list:\n",
    "          player_1_move = play[0]\n",
    "          player_2_move = play[1]\n",
    "        \n",
    "          # list of all moves that would win against the move played by player 2.\n",
    "          player_1_winning_moves = moves[player_1_move]\n",
    "\n",
    "          player_2_move_in_player_1_winning_moves = player_1_winning_moves.count(player_2_move)\n",
    "\n",
    "          if player_2_move_in_player_1_winning_moves > 0:\n",
    "              player_1_score += 1\n",
    "              print(f\"{player_1_move} beats {player_2_move}\")\n",
    "\n",
    "          elif player_1_move == player_2_move:\n",
    "              player_1_score += 1\n",
    "              player_2_score += 1\n",
    "              print(f\"Tie: {player_1_move}  =  {player_2_move}\")\n",
    "\n",
    "          else:\n",
    "              player_2_score += 1\n",
    "              print(f\"{player_2_move} beats {player_1_move}\")\n",
    "\n",
    " \n",
    "\n",
    "    if player_1_score > player_2_score:\n",
    "        print(\"Player 1 wins\")\n",
    "\n",
    "    elif player_1_score == player_2_score:\n",
    "        print(\"Tie\")\n",
    "\n",
    "    else: \n",
    "        print(\"Player 2 wins\")\n",
    "\n",
    "\n",
    "if __name__ == \"__main__\":\n",
    "    run([(\"✂️\", \"✂️\"), (\"✂️\", \"✂️\"), (\"✂️\", \"✂️\")])\n"
   ]
  },
  {
   "cell_type": "code",
   "execution_count": 54,
   "metadata": {},
   "outputs": [
    {
     "name": "stdout",
     "output_type": "stream",
     "text": [
      "\n",
      "¿Cuál de estos rasgos es más importante para ti en un amigo?\n",
      "a) Coraje y valentía (osadía)\n",
      "b) Ambición y éxito (ambición)\n",
      "c) Inteligencia y curiosidad (curiosidad)\n",
      "d) Honestidad y lealtad (lealtad)\n",
      "\n",
      "¿Cuál de estos libros te interesaría más leer?\n",
      "a) Un libro sobre deportes extremos y aventuras (osadía)\n",
      "b) Un libro sobre emprendimiento y negocios (ambición)\n",
      "c) Un libro sobre ciencia o tecnología (curiosidad)\n",
      "d) Un libro sobre relaciones y emociones humanas (lealtad)\n",
      "\n",
      "\n",
      "¿Cuál de estos deportes preferirías jugar?\n",
      "a) Escalada en roca o paracaidismo (osadía)\n",
      "b) Tenis o golf (ambición)\n",
      "c) Esquí o snowboard (curiosidad)\n",
      "d) Natación o ciclismo (lealtad)\n",
      "\n",
      "\n",
      "¿Qué opinas sobre probar nuevos alimentos o platos?\n",
      "a) Me encanta probar cosas nuevas y diferentes (osadía)\n",
      "b) Solo pruebo cosas nuevas si tienen buena reputación (ambición)\n",
      "c) Me gusta probar nuevos sabores y platos de diferentes culturas (curiosidad)\n",
      "d) Me gusta comer lo que ya conozco y me gusta (lealtad)\n",
      "\n",
      "¿Qué opinas sobre viajar a países desconocidos?\n",
      "a) Me emociona explorar nuevos lugares y culturas (osadía)\n",
      "b) Solo viajaría a países seguros y con buena reputación (ambición)\n",
      "c) Me encanta viajar y descubrir cosas nuevas (curiosidad)\n",
      "d) Me gusta viajar a lugares conocidos o a los que he visitado antes (lealtad)\n",
      "\n",
      "\n",
      "¿Qué te motiva a realizar una tarea o proyecto?\n",
      "a) El desafío de hacer algo difícil (osadía)\n",
      "b) La posibilidad de obtener una recompensa o logro (ambición)\n",
      "c) El deseo de aprender algo nuevo (curiosidad)\n",
      "d) La satisfacción de ayudar a alguien o ser útil (lealtad)\n",
      "\n",
      "¿Cuál es tu mayor miedo?\n",
      "a) No ser lo suficientemente valiente en una situación difícil (osadía)\n",
      "b) No tener éxito en la vida (ambición)\n",
      "c) No conocer o aprender lo suficiente sobre el mundo (curiosidad)\n",
      "d) Perder a alguien que amo o ser traicionado (lealtad)\n",
      "\n",
      "None\n"
     ]
    }
   ],
   "source": [
    "\"\"\"\n",
    "* Crea un programa que simule el comportamiento del sombrero seleccionador del\n",
    " * universo mágico de Harry Potter.\n",
    " * - De ser posible realizará 5 preguntas (como mínimo) a través de la terminal.\n",
    " * - Cada pregunta tendrá 4 respuestas posibles (también a selecciona una a través de terminal).\n",
    " * - En función de las respuestas a las 5 preguntas deberás diseñar un algoritmo que\n",
    " *   coloque al alumno en una de las 4 casas de Hogwarts:\n",
    " *   (Gryffindor, Slytherin , Hufflepuff y Ravenclaw)\n",
    " * - Ten en cuenta los rasgos de cada casa para hacer las preguntas\n",
    " *   y crear el algoritmo seleccionador:\n",
    " *   Por ejemplo, en Slytherin se premia la ambición y la astucia.\n",
    " \n",
    "\"\"\"\n",
    "questions=[\"\"\"\n",
    "¿Cuál de estos rasgos es más importante para ti en un amigo?\n",
    "a) Coraje y valentía (osadía)\n",
    "b) Ambición y éxito (ambición)\n",
    "c) Inteligencia y curiosidad (curiosidad)\n",
    "d) Honestidad y lealtad (lealtad)\"\"\",\n",
    "\n",
    "\"\"\"\n",
    "¿Cuál de estos libros te interesaría más leer?\n",
    "a) Un libro sobre deportes extremos y aventuras (osadía)\n",
    "b) Un libro sobre emprendimiento y negocios (ambición)\n",
    "c) Un libro sobre ciencia o tecnología (curiosidad)\n",
    "d) Un libro sobre relaciones y emociones humanas (lealtad)\n",
    "\"\"\",\n",
    "\"\"\"\n",
    "¿Cuál de estos deportes preferirías jugar?\n",
    "a) Escalada en roca o paracaidismo (osadía)\n",
    "b) Tenis o golf (ambición)\n",
    "c) Esquí o snowboard (curiosidad)\n",
    "d) Natación o ciclismo (lealtad)\n",
    "\"\"\",\n",
    "\"\"\"\n",
    "¿Qué opinas sobre probar nuevos alimentos o platos?\n",
    "a) Me encanta probar cosas nuevas y diferentes (osadía)\n",
    "b) Solo pruebo cosas nuevas si tienen buena reputación (ambición)\n",
    "c) Me gusta probar nuevos sabores y platos de diferentes culturas (curiosidad)\n",
    "d) Me gusta comer lo que ya conozco y me gusta (lealtad)\n",
    "\"\"\",\n",
    "\n",
    "\"\"\"¿Qué opinas sobre viajar a países desconocidos?\n",
    "a) Me emociona explorar nuevos lugares y culturas (osadía)\n",
    "b) Solo viajaría a países seguros y con buena reputación (ambición)\n",
    "c) Me encanta viajar y descubrir cosas nuevas (curiosidad)\n",
    "d) Me gusta viajar a lugares conocidos o a los que he visitado antes (lealtad)\n",
    "\"\"\",\n",
    "\"\"\"\n",
    "¿Qué te motiva a realizar una tarea o proyecto?\n",
    "a) El desafío de hacer algo difícil (osadía)\n",
    "b) La posibilidad de obtener una recompensa o logro (ambición)\n",
    "c) El deseo de aprender algo nuevo (curiosidad)\n",
    "d) La satisfacción de ayudar a alguien o ser útil (lealtad)\n",
    "\"\"\",\n",
    "\"\"\"¿Cuál es tu mayor miedo?\n",
    "a) No ser lo suficientemente valiente en una situación difícil (osadía)\n",
    "b) No tener éxito en la vida (ambición)\n",
    "c) No conocer o aprender lo suficiente sobre el mundo (curiosidad)\n",
    "d) Perder a alguien que amo o ser traicionado (lealtad)\n",
    "\"\"\"]\n",
    "\n",
    "osadia =0\n",
    "ambición=0\n",
    "curiosidad=0\n",
    "lealtad=0\n",
    "\n",
    "def puntos(ans):\n",
    "    \n",
    "    global osadia\n",
    "    global ambición\n",
    "    global curiosidad\n",
    "    global lealtad\n",
    "    \n",
    "    if ans==\"a\":\n",
    "        osadia=osadia+1\n",
    "    if ans==\"b\":\n",
    "        ambición+=1\n",
    "    if ans==\"c\":\n",
    "        curiosidad+=1\n",
    "    if ans==\"d\":\n",
    "        lealtad+=1\n",
    "    return (osadia, ambición, curiosidad, lealtad)\n",
    "\n",
    "def sombrero(osadia, ambición, curiosidad, lealtad):\n",
    "    if osadia > ambición and osadia > curiosidad and osadia > lealtad:\n",
    "        return \"Tu casa será Gryffindor\"\n",
    "    if ambición > osadia and ambición > curiosidad and ambición > lealtad:\n",
    "        return \"Tu casa será Slytherin\"\n",
    "    if curiosidad > ambición and curiosidad > osadia and curiosidad > lealtad:\n",
    "        return \"Tu casa será Ravenclaw\"\n",
    "    if lealtad > ambición and lealtad > curiosidad and lealtad > osadia:\n",
    "        return \"Tu casa será Hufflepuff\"\n",
    "\n",
    "if __name__==\"__main__\":\n",
    "    for question in questions:\n",
    "        print(question)\n",
    "        answer=input().lower()\n",
    "        \n",
    "        \n",
    "        while answer != \"a\" and answer != \"b\" and answer != \"c\" and answer != \"d\":\n",
    "            print(\"type a valid option\")\n",
    "            answer=input()\n",
    "        \n",
    "\n",
    "        a,b,c,d=puntos(answer)\n",
    "        #print(a,b,c,d)\n",
    "    print(sombrero(a,b,c,d))"
   ]
  },
  {
   "cell_type": "code",
   "execution_count": 55,
   "metadata": {},
   "outputs": [
    {
     "name": "stdout",
     "output_type": "stream",
     "text": [
      "LCG:\n",
      "11\n",
      "45\n",
      "79\n",
      "91\n",
      "92\n",
      "76\n",
      "24\n",
      "83\n",
      "12\n",
      "53\n",
      "\n",
      "QCG:\n",
      "53\n",
      "46\n",
      "88\n",
      "14\n",
      "24\n",
      "36\n",
      "6\n",
      "40\n",
      "19\n",
      "59\n"
     ]
    }
   ],
   "source": [
    "\"\"\"\n",
    "Reto 8:\n",
    "\n",
    "Crea un generador de números pseudoaleatorios entre 0 y 100.\n",
    "\n",
    "No puedes usar ninguna función \"random\" (o semejante) del lenguaje de\n",
    "programación seleccionado.\n",
    "\"\"\"\n",
    "from math import gcd\n",
    "\n",
    "\n",
    "class RandomIntegerGenerator:\n",
    "    \"\"\"\n",
    "    Clase que contiene diversos métodos para generar números enteros aleatorios.\n",
    "    \"\"\"\n",
    "    def LCG(self, seed:int, multiplier:int, increment:int, modulus:int) -> int:\n",
    "        \"\"\"\n",
    "        A Linear Congruential Generator (LCG) algorithm implementation for\n",
    "        integers generation in the range 0 to 100.\n",
    "\n",
    "        Args:\n",
    "            seed (int): Initial seed value for generating random integers. Must\n",
    "            be a positive integer greater than zero.\n",
    "            multiplier (int): Multiplicative constant of the algorithm. Must be\n",
    "            a positive integer greater than zero and prime with respect to the\n",
    "            modulus.\n",
    "            increment (int): Additive constant of the algorithm. Must be an\n",
    "            integer greater than or equal to zero.\n",
    "            modulus (int): Normalization modulus of the algorithm. Must be an\n",
    "            integer greater than zero, and greater than the seed and the\n",
    "            additive constant.\n",
    "\n",
    "        Yields:\n",
    "            Iterator[int]: A pseudo-random integer value generated by the LCG\n",
    "            algorithm in the range 0 to 100.\n",
    "        \"\"\"\n",
    "        non_zero_parameters = {\n",
    "            'seed': seed,\n",
    "            'multiplier': multiplier,\n",
    "            'modulus': modulus\n",
    "        }\n",
    "        \n",
    "        for name, value in non_zero_parameters.items():\n",
    "            if not isinstance(value, int) or value <= 0:\n",
    "                message = f'The {name} must be a positive non-zero integer'\n",
    "                raise ValueError(message)\n",
    "        \n",
    "        if not isinstance(increment, int) or increment < 0:\n",
    "            raise ValueError('The increment must be a positive integer')\n",
    "        \n",
    "        if gcd(multiplier, modulus) != 1:\n",
    "            message = 'The multiplier must be prime with respect to the modulus'\n",
    "            raise ValueError(message)\n",
    "             \n",
    "        while True:\n",
    "            generated_value = (multiplier * seed + increment) % modulus\n",
    "            normalized_value = generated_value / modulus\n",
    "            seed = generated_value\n",
    "            yield round(normalized_value * 100)\n",
    "        \n",
    "    def QCG(self, seed:int, multiplier:int, increment:int, modulus:int) -> int:\n",
    "        \"\"\"\n",
    "        A Quadratic Congruential Generator (QCG) algorithm implementation for\n",
    "        integers generation between 0 and 100.\n",
    "\n",
    "        Args:\n",
    "            seed (int): Initial seed value for generating random integers. Must\n",
    "            be a positive integer greater than zero.\n",
    "            multiplier (int): A multiplier value for the generator. Must\n",
    "            be a positive integer greater than zero.\n",
    "            increment (int): An increment value for the generator. Must\n",
    "            be a positive integer greater than or equal to zero.\n",
    "            modulus (int): A modulus value for the generator. Must be a positive integer greater than zero. The modulus must be greater than the\n",
    "            seed, have no common factors with the multiplier and must have a\n",
    "            quadratic residue of 1 with respect to the multiplier.\n",
    "\n",
    "        Returns:\n",
    "            int: A pseudo-random integer value generated by the QCG\n",
    "            algorithm in the range 0 to 100.\n",
    "        \"\"\"\n",
    "        if not isinstance(seed, int) or seed <= 0:\n",
    "            raise ValueError('The seed must be a positive non-zero integer')\n",
    "        \n",
    "        if not isinstance(multiplier, int) or multiplier <= 0:\n",
    "            raise ValueError('The multiplier must be a positive integer')\n",
    "        \n",
    "        if not isinstance(increment, int) or increment < 0:\n",
    "            message = 'The increment must be a positive integer or zero'\n",
    "            raise ValueError(message)\n",
    "        \n",
    "        if not isinstance(modulus, int) or modulus <= 0:\n",
    "            raise ValueError('The modulus must be a positive non-zero integer')\n",
    "        \n",
    "        if gcd(modulus, multiplier) != 1:\n",
    "            message = 'The modulus cannot have common factors with the multiplier'\n",
    "            raise ValueError(message)\n",
    "        \n",
    "        legendre_symbol = pow(\n",
    "            base=multiplier,\n",
    "            exp=(modulus - 1) // 2,\n",
    "            mod=modulus\n",
    "        )\n",
    "        \n",
    "        if legendre_symbol != 1:\n",
    "            message = ('The modulus and multiplier must satisfy the quadratic '\n",
    "                       'residue requirement')\n",
    "            raise ValueError(message)\n",
    "        \n",
    "        while True:\n",
    "            generated_value = (multiplier * (seed ** 2) + increment) % modulus\n",
    "            normalized_value = generated_value / modulus\n",
    "            seed = generated_value\n",
    "            yield round(normalized_value * 100)\n",
    "\n",
    "if __name__ == '__main__':\n",
    "    generators = RandomIntegerGenerator()\n",
    "    \n",
    "    lcg_generator = generators.LCG(\n",
    "        seed=1234,\n",
    "        multiplier=1103515245,\n",
    "        increment=12348,\n",
    "        modulus=2**31 - 1\n",
    "    )\n",
    "    \n",
    "    qcg_generator = generators.QCG(\n",
    "        seed=123456789,\n",
    "        multiplier=9301,\n",
    "        increment= 49297,\n",
    "        modulus=281474976710597\n",
    "    )\n",
    "    \n",
    "    print('LCG:')\n",
    "    for _ in range(10):\n",
    "        print(next(lcg_generator))\n",
    "    \n",
    "    print('\\nQCG:')\n",
    "    for _ in range(10):\n",
    "        print(next(qcg_generator))\n"
   ]
  },
  {
   "cell_type": "code",
   "execution_count": 1,
   "metadata": {},
   "outputs": [
    {
     "name": "stdout",
     "output_type": "stream",
     "text": [
      "La frase Ecuador, cada quince de noviembre es: ni un isograma, ni un pangrama, ni un heterograma\n",
      "La frase esdrújula es: ni un isograma, ni un pangrama, ni un heterograma\n",
      "La frase aliento es: isograma, heterograma.\n",
      "La frase mama es: isograma.\n",
      "La frase El veloz murciélago hindú comía feliz cardillo y kiwi. La cigüeña tocaba el saxofón detrás del palenque de paja es: pangrama.\n",
      "La frase Jovencillo emponzoñado de whisky, ¡qué figurota exhibe! es: pangrama.\n"
     ]
    }
   ],
   "source": [
    "# /*\n",
    "# * Crea 3 funciones, cada una encargada de detectar si una cadena de\n",
    "# * texto es un heterograma, un isograma o un pangrama.\n",
    "# * - Debes buscar la definición de cada uno de estos términos.\n",
    "# */\n",
    "\n",
    "import re\n",
    "\n",
    "\n",
    "# /**\n",
    "# * Funcion de extension de un string que limpia los acentos de una cadena de texto y\n",
    "# * los sustituye por su equivalente sin acento\n",
    "# */\n",
    "def clean_text(text):\n",
    "    accents = {\n",
    "        'á': 'a',\n",
    "        'é': 'e',\n",
    "        'í': 'i',\n",
    "        'ó': 'o',\n",
    "        'ú': 'u',\n",
    "        'Á': 'A',\n",
    "        'É': 'E',\n",
    "        'Í': 'I',\n",
    "        'Ó': 'O',\n",
    "        'Ú': 'U'\n",
    "    }\n",
    "    reg_exp = re.compile('[áéíóúÁÉÍÓÚ]')\n",
    "    return reg_exp.sub(lambda x: accents[x.group()], text)\n",
    "\n",
    "\n",
    "# /**\n",
    "# * Funcion que detecta si una palabra es un heterograma con una expresion regular\n",
    "# * Un Heterograma es una palabra que no tiene letras repetidas\n",
    "# */\n",
    "def is_heterogram(text)->bool:\n",
    "    text_lower = re.sub(r'[^a-z]', '', clean_text(text.lower()))\n",
    "    reg_exp = re.compile(r'^(?!.*(.).*\\1)[a-zA-Z]+$')\n",
    "    return bool(reg_exp.match(text_lower))\n",
    "\n",
    "\n",
    "# /**\n",
    "# * Funcion que detecta si una palabra es un isograma.\n",
    "# * Un isograma es una palabra en la que cada letra se repite exactamente el mismo numero de veces\n",
    "# * Una palabra en la que cada letra se repite una sola vez es a su vez un heterograma.\n",
    "# * Un palabra en la que cada letra se repite dos veces es un isograma de grado 2 y asi sucesivamente.\n",
    "# */\n",
    "def is_isogram(text):\n",
    "    count_letters = {}\n",
    "    text_lower = re.sub(r'[^a-z]', '', clean_text(text.lower()))\n",
    "    for letter in text_lower:\n",
    "        count_letters[letter] = text_lower.count(letter)\n",
    "    return len(set(count_letters.values())) == 1\n",
    "\n",
    "\n",
    "# /**\n",
    "# * Funcion que detecta si una palabra es un pangrama\n",
    "# * Un Pangrama es una frase que contiene todas las letras del alfabeto\n",
    "# */\n",
    "def is_pangram(text):\n",
    "    text_lower = re.sub(r'[^a-z]', '', clean_text(text.lower()))\n",
    "    reg_exp = re.compile(r'[a-z]')\n",
    "    number_of_letters = len(reg_exp.findall('abcdefghijklmnopqrstuvwxyz'))\n",
    "    letters = set(reg_exp.findall(text_lower))\n",
    "    return len(letters) == number_of_letters\n",
    "\n",
    "\n",
    "# /**\n",
    "# * Funcione que comprueba si una palabra es un isograma, pangrama o heterograma\n",
    "# */\n",
    "def check_word(word):\n",
    "    message = f'La frase {word} es: '\n",
    "    conditions = []\n",
    "\n",
    "    if is_isogram(word):\n",
    "        conditions.append('isograma')\n",
    "\n",
    "    if is_pangram(word):\n",
    "        conditions.append('pangrama')\n",
    "\n",
    "    if is_heterogram(word):\n",
    "        conditions.append('heterograma')\n",
    "\n",
    "    if not conditions:\n",
    "        message += 'ni un isograma, ni un pangrama, ni un heterograma'\n",
    "    else:\n",
    "        message += ', '.join(conditions) + '.'\n",
    "\n",
    "    print(message)\n",
    "\n",
    "\n",
    "# /**\n",
    "# * Función principal\n",
    "# */\n",
    "if __name__ == '__main__':\n",
    "    check_word('Ecuador, cada quince de noviembre')\n",
    "    check_word('esdrújula')\n",
    "    check_word('aliento')\n",
    "    check_word('mama')\n",
    "    check_word(\"El veloz murciélago hindú comía feliz cardillo y kiwi. La cigüeña tocaba el saxofón detrás del palenque de paja\")\n",
    "    check_word(\"Jovencillo emponzoñado de whisky, ¡qué figurota exhibe!\")"
   ]
  },
  {
   "cell_type": "code",
   "execution_count": 22,
   "metadata": {},
   "outputs": [
    {
     "ename": "NameError",
     "evalue": "name 'datetime' is not defined",
     "output_type": "error",
     "traceback": [
      "\u001b[1;31m---------------------------------------------------------------------------\u001b[0m",
      "\u001b[1;31mNameError\u001b[0m                                 Traceback (most recent call last)",
      "\u001b[1;32mc:\\Users\\celio\\OneDrive\\Escritorio\\programación\\platzi\\PracticaDePython.ipynb Celda 1352\u001b[0m in \u001b[0;36m1\n\u001b[1;32m----> <a href='vscode-notebook-cell:/c%3A/Users/celio/OneDrive/Escritorio/programaci%C3%B3n/platzi/PracticaDePython.ipynb#Z3640sZmlsZQ%3D%3D?line=0'>1</a>\u001b[0m \u001b[39mtype\u001b[39m(datetime\u001b[39m.\u001b[39mdata(\u001b[39m2012\u001b[39m,\u001b[39m1\u001b[39m,\u001b[39m1\u001b[39m)\u001b[39m-\u001b[39mdatetime\u001b[39m.\u001b[39mdata(\u001b[39m2011\u001b[39m,\u001b[39m1\u001b[39m,\u001b[39m1\u001b[39m))\n",
      "\u001b[1;31mNameError\u001b[0m: name 'datetime' is not defined"
     ]
    }
   ],
   "source": [
    "type(datetime.data(2012,1,1)-datetime.data(2011,1,1))\n"
   ]
  },
  {
   "cell_type": "code",
   "execution_count": 1,
   "metadata": {},
   "outputs": [
    {
     "name": "stdout",
     "output_type": "stream",
     "text": [
      "result with memo 55 in 0.0\n",
      "result without memo 55 in 0.0\n"
     ]
    }
   ],
   "source": [
    "import hashlib\n",
    "from time import time\n",
    "\n",
    "data_memo = {}\n",
    "\n",
    "\n",
    "def memoization(func):\n",
    "    def func_wrapper(*kwargs):\n",
    "        _hash = hashlib.md5((func.__name__+str(kwargs)).encode()).hexdigest()\n",
    "        if _hash in data_memo:\n",
    "            return data_memo[_hash]\n",
    "        _result = func(*kwargs)\n",
    "        data_memo[_hash] = _result\n",
    "        return _result\n",
    "    return func_wrapper\n",
    "\n",
    "\n",
    "@memoization\n",
    "def fibonacci_recursive_memo(n):\n",
    "    return 1 if n == 0 or n == 1 else fibonacci_recursive_memo(n-1) + fibonacci_recursive_memo(n-2)\n",
    "\n",
    "\n",
    "def fibonacci_recursive(n):\n",
    "    return 1 if n == 0 or n == 1 else fibonacci_recursive(n-1) + fibonacci_recursive(n-2)\n",
    "\n",
    "\n",
    "if __name__ == '__main__':\n",
    "    n = int(input('chose a number: '))\n",
    "    start = time()\n",
    "    result = fibonacci_recursive_memo(n)\n",
    "    end = time()\n",
    "    print(f\"result with memo {result} in {end-start}\")\n",
    "    start = time()\n",
    "    result = fibonacci_recursive(n)\n",
    "    end = time()\n",
    "    print(f\"result without memo {result} in {end-start}\")"
   ]
  },
  {
   "cell_type": "code",
   "execution_count": 25,
   "metadata": {},
   "outputs": [
    {
     "name": "stdout",
     "output_type": "stream",
     "text": [
      "3cWKgk$Bsy7bJEVa\n"
     ]
    }
   ],
   "source": [
    "import random\n",
    "\n",
    "lower = \"abcdefghijklmnopqrstuvwxyz\"\n",
    "upper = \"ABCBEFGHIJKLMNOPQRSTUVWXYZ\"\n",
    "numbers = \"0123456789\"\n",
    "symbols = \"*#$%&.,@\"\n",
    "\n",
    "all = lower + upper + numbers + symbols\n",
    "length = 16\n",
    "password = \"\".join(random.sample(all, length))\n",
    "\n",
    "print(password)"
   ]
  }
 ],
 "metadata": {
  "kernelspec": {
   "display_name": "Python 3",
   "language": "python",
   "name": "python3"
  },
  "language_info": {
   "codemirror_mode": {
    "name": "ipython",
    "version": 3
   },
   "file_extension": ".py",
   "mimetype": "text/x-python",
   "name": "python",
   "nbconvert_exporter": "python",
   "pygments_lexer": "ipython3",
   "version": "3.11.1"
  },
  "orig_nbformat": 4
 },
 "nbformat": 4,
 "nbformat_minor": 2
}
