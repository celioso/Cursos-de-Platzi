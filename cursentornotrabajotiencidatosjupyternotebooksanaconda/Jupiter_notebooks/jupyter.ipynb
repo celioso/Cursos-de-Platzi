{
 "cells": [
  {
   "cell_type": "code",
   "execution_count": 4,
   "metadata": {},
   "outputs": [
    {
     "name": "stdout",
     "output_type": "stream",
     "text": [
      "Haru y Jacobo\n"
     ]
    }
   ],
   "source": [
    "print(\"Haru y Jacobo\")"
   ]
  },
  {
   "cell_type": "code",
   "execution_count": 3,
   "metadata": {},
   "outputs": [],
   "source": [
    "import math, sys, os;"
   ]
  }
 ],
 "metadata": {
  "kernelspec": {
   "display_name": "Python 3",
   "language": "python",
   "name": "python3"
  },
  "language_info": {
   "codemirror_mode": {
    "name": "ipython",
    "version": 3
   },
   "file_extension": ".py",
   "mimetype": "text/x-python",
   "name": "python",
   "nbconvert_exporter": "python",
   "pygments_lexer": "ipython3",
   "version": "3.11.0"
  },
  "orig_nbformat": 4,
  "vscode": {
   "interpreter": {
    "hash": "5a9f38817c8ceb891a0ba0bc99fbd8fe203dc93590b0deea4ef2b0373c67f9c0"
   }
  }
 },
 "nbformat": 4,
 "nbformat_minor": 2
}
