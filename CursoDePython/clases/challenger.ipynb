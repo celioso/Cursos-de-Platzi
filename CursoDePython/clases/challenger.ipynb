{
 "cells": [
  {
   "cell_type": "code",
   "execution_count": 7,
   "metadata": {},
   "outputs": [
    {
     "name": "stdout",
     "output_type": "stream",
     "text": [
      "4\n"
     ]
    }
   ],
   "source": [
    "def StringReduction(str): \n",
    "    str = list(str)\n",
    "    cSet = set(['a','b','c'])\n",
    "    repeat = True\n",
    "    while repeat:\n",
    "      i = 0\n",
    "      repeat = False\n",
    "      while i < len(str)-1:\n",
    "        if str[i] != str[i+1]:\n",
    "          str[i:i+2] = list(cSet-set([str[i],str[i+1]]))\n",
    "          repeat = True\n",
    "        else:\n",
    "          i += 1\n",
    "    return len(str)\n",
    "    \n",
    "# keep this function call here  \n",
    "# to see how to enter arguments in Python scroll down\n",
    "print(StringReduction((\"cccc\"))) "
   ]
  },
  {
   "cell_type": "code",
   "execution_count": 10,
   "metadata": {},
   "outputs": [
    {
     "name": "stdout",
     "output_type": "stream",
     "text": [
      "4\n"
     ]
    }
   ],
   "source": [
    "def SeatingStudents(arr):\n",
    "    K = arr[0]  # Número total de escritorios\n",
    "    occupied = set(arr[1:])  # Escritorios ocupados en un set para búsqueda rápida\n",
    "    \n",
    "    # __define-ocg__: Usamos la variable varOcg para almacenar los escritorios disponibles\n",
    "    varOcg = [i for i in range(1, K + 1) if i not in occupied]\n",
    "    \n",
    "    count = 0\n",
    "    \n",
    "    # Verificamos las combinaciones posibles\n",
    "    for i in varOcg:\n",
    "        # Verificar si el escritorio tiene uno a la derecha\n",
    "        if i % 2 != 0 and (i + 1) in varOcg:\n",
    "            count += 1\n",
    "        # Verificar si el escritorio tiene uno abajo\n",
    "        if (i + 2) in varOcg:\n",
    "            count += 1\n",
    "    \n",
    "    return count\n",
    "\n",
    "# Ejemplo de prueba\n",
    "print(SeatingStudents([6,4])) "
   ]
  },
  {
   "cell_type": "code",
   "execution_count": 11,
   "metadata": {},
   "outputs": [
    {
     "name": "stdout",
     "output_type": "stream",
     "text": [
      "128\n"
     ]
    }
   ],
   "source": [
    "import requests\n",
    "import re\n",
    "\n",
    "def count_ages_greater_than_50():\n",
    "    # __define-ocg__ Fetch data from the URL\n",
    "    url = \"https://coderbyte.com/api/challenges/json/age-counting\"\n",
    "    response = requests.get(url)\n",
    "    \n",
    "    if response.status_code == 200:\n",
    "        # Convert the response to JSON\n",
    "        json_data = response.json()\n",
    "        data_string = json_data['data']\n",
    "        \n",
    "        # Define a regex pattern to extract ages\n",
    "        pattern = r\"age=(\\d+)\"\n",
    "        varOcg = re.findall(pattern, data_string)\n",
    "        \n",
    "        # Convert the extracted age strings to integers\n",
    "        ages = list(map(int, varOcg))\n",
    "        \n",
    "        # Count how many ages are greater than or equal to 50\n",
    "        count = sum(age >= 50 for age in ages)\n",
    "        \n",
    "        # Print the count\n",
    "        print(count)\n",
    "    else:\n",
    "        print(\"Failed to retrieve data\")\n",
    "\n",
    "# Call the function\n",
    "count_ages_greater_than_50()"
   ]
  },
  {
   "cell_type": "code",
   "execution_count": 12,
   "metadata": {},
   "outputs": [
    {
     "name": "stdout",
     "output_type": "stream",
     "text": [
      "5660\n",
      "128\n"
     ]
    },
    {
     "name": "stderr",
     "output_type": "stream",
     "text": [
      "C:\\Users\\celio\\AppData\\Local\\Temp\\ipykernel_28004\\1154838572.py:14: SettingWithCopyWarning: \n",
      "A value is trying to be set on a copy of a slice from a DataFrame.\n",
      "Try using .loc[row_indexer,col_indexer] = value instead\n",
      "\n",
      "See the caveats in the documentation: https://pandas.pydata.org/pandas-docs/stable/user_guide/indexing.html#returning-a-view-versus-a-copy\n",
      "  dfAge['age'] = dfAge['age'].astype(int)\n"
     ]
    }
   ],
   "source": [
    "import requests\n",
    "import numpy as np\n",
    "import pandas as pd\n",
    "\n",
    "r = requests.get('https://coderbyte.com/api/challenges/json/age-counting%27')\n",
    "print(len(r.json()['data']))\n",
    "# split data by \", \"\n",
    "data = r.json()['data'].split(\", \")\n",
    "# Load to DataFrame\n",
    "df = pd.DataFrame([sub.split(\"=\") for sub in data],columns=['key', 'age'])\n",
    "# Find all age values in column \"key\"\n",
    "dfAge = df.loc[df['key'] == 'age']\n",
    "# convert column values to int\n",
    "dfAge['age'] = dfAge['age'].astype(int)\n",
    "# find in age column all >= 50\n",
    "dfAge = dfAge.loc[dfAge['age'] >= 50]\n",
    "\n",
    "\n",
    "print(len(dfAge))"
   ]
  },
  {
   "cell_type": "code",
   "execution_count": 5,
   "metadata": {},
   "outputs": [
    {
     "ename": "SyntaxError",
     "evalue": "unterminated string literal (detected at line 1) (1630571052.py, line 1)",
     "output_type": "error",
     "traceback": [
      "\u001b[1;36m  Cell \u001b[1;32mIn [5], line 1\u001b[1;36m\u001b[0m\n\u001b[1;33m    m=re.search(r'(ab[cd]?)', \"\"\"\"acdeabdb\"\"\"\")\u001b[0m\n\u001b[1;37m                                             ^\u001b[0m\n\u001b[1;31mSyntaxError\u001b[0m\u001b[1;31m:\u001b[0m unterminated string literal (detected at line 1)\n"
     ]
    }
   ],
   "source": []
  }
 ],
 "metadata": {
  "kernelspec": {
   "display_name": "venv",
   "language": "python",
   "name": "python3"
  },
  "language_info": {
   "codemirror_mode": {
    "name": "ipython",
    "version": 3
   },
   "file_extension": ".py",
   "mimetype": "text/x-python",
   "name": "python",
   "nbconvert_exporter": "python",
   "pygments_lexer": "ipython3",
   "version": "3.11.1"
  }
 },
 "nbformat": 4,
 "nbformat_minor": 2
}
