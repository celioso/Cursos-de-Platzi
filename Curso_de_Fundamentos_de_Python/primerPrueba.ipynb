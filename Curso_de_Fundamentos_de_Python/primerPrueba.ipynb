{
 "cells": [
  {
   "cell_type": "markdown",
   "metadata": {},
   "source": [
    "## https://replit.com/@MarioAlexander1/Python-101#retio1.py\n",
    "### para programar en web"
   ]
  },
  {
   "cell_type": "code",
   "execution_count": 1,
   "metadata": {},
   "outputs": [
    {
     "data": {
      "text/plain": [
       "False"
      ]
     },
     "execution_count": 1,
     "metadata": {},
     "output_type": "execute_result"
    }
   ],
   "source": [
    "True and False"
   ]
  },
  {
   "cell_type": "code",
   "execution_count": 2,
   "metadata": {},
   "outputs": [
    {
     "data": {
      "text/plain": [
       "True"
      ]
     },
     "execution_count": 2,
     "metadata": {},
     "output_type": "execute_result"
    }
   ],
   "source": [
    "False or True"
   ]
  },
  {
   "cell_type": "code",
   "execution_count": 3,
   "metadata": {},
   "outputs": [
    {
     "name": "stdout",
     "output_type": "stream",
     "text": [
      "Juan Salvador\n"
     ]
    }
   ],
   "source": [
    "name = 'Mario Salvador'\n",
    "name = name.replace('Mario', 'Juan')\n",
    "print(name)"
   ]
  },
  {
   "cell_type": "code",
   "execution_count": 4,
   "metadata": {},
   "outputs": [
    {
     "name": "stdout",
     "output_type": "stream",
     "text": [
      "Water\n",
      "Fire\n",
      "Wind\n",
      "Earth\n"
     ]
    }
   ],
   "source": [
    "elements = ['Water', 'Fire', 'Wind', 'Earth']\n",
    "for element in elements:\n",
    "    print(element)"
   ]
  },
  {
   "cell_type": "markdown",
   "metadata": {},
   "source": [
    "## Python, primeros pasos"
   ]
  },
  {
   "cell_type": "code",
   "execution_count": 12,
   "metadata": {},
   "outputs": [
    {
     "name": "stdout",
     "output_type": "stream",
     "text": [
      "Hola, esto es python\n",
      "Hola soy Mario y tengo 3 años\n",
      "17\n",
      "5\n",
      "6\n",
      "4.0\n"
     ]
    },
    {
     "data": {
      "text/plain": [
       "'\\nVarias\\nLines \\notra\\n'"
      ]
     },
     "execution_count": 12,
     "metadata": {},
     "output_type": "execute_result"
    }
   ],
   "source": [
    "print('Hola, esto es python')\n",
    "\n",
    "print(\"Hola soy Mario y tengo 3 años\")\n",
    "\n",
    "# Comentario entre lineas\n",
    "\n",
    "# Operaciones..\n",
    "\n",
    "print(12+5)\n",
    "print(10-5)\n",
    "print(2*3)\n",
    "print(8/2)\n",
    "\n",
    "# Esto es un comentario\n",
    "\"\"\"\n",
    "Varias\n",
    "Lines \n",
    "otra\n",
    "\"\"\"\n",
    "\n",
    "'''\n",
    "hola\n",
    "mundo\n",
    "'''"
   ]
  },
  {
   "cell_type": "markdown",
   "metadata": {},
   "source": [
    "## Variables"
   ]
  },
  {
   "cell_type": "markdown",
   "metadata": {},
   "source": [
    "### Para egetutarlo por consola se utiliza: python 01_print.py o el nombre de archivo que dece ejecutar"
   ]
  },
  {
   "cell_type": "code",
   "execution_count": 13,
   "metadata": {},
   "outputs": [
    {
     "name": "stdout",
     "output_type": "stream",
     "text": [
      "Hola, Vars\n",
      "Mario\n",
      "12\n",
      "Aqui cambio Camilo\n",
      "Usando input   celis\n"
     ]
    }
   ],
   "source": [
    "print(\"Hola, Vars\")\n",
    "\n",
    "# Esto es una variable \n",
    "my_name = \"Mario\"\n",
    "print(my_name)\n",
    "\n",
    "#Esto es variable con un numero\n",
    "my_age = 12\n",
    "print(my_age)\n",
    "\n",
    "my_name = \"Camilo\"\n",
    "\n",
    "print(\"Aqui cambio \" + my_name)\n",
    "\n",
    "# input\n",
    "\n",
    "my_name = input(\"¿Cual es tu nombre?\")\n",
    "print(\"Usando input  \",my_name)"
   ]
  },
  {
   "cell_type": "markdown",
   "metadata": {},
   "source": [
    "### Datos de consola"
   ]
  },
  {
   "cell_type": "markdown",
   "metadata": {},
   "source": [
    "print(\"Hola, Vars\")\n",
    "\n",
    "# Esto es una variable \n",
    "my_name = \"Mario\"\n",
    "print(my_name)\n",
    "\n",
    "#Esto es variable con un numero\n",
    "my_age = 12\n",
    "print(my_age)\n",
    "\n",
    "my_name = \"Camilo\"\n",
    "print(\"Aqui cambio \" + my_name)"
   ]
  },
  {
   "cell_type": "code",
   "execution_count": 15,
   "metadata": {},
   "outputs": [
    {
     "name": "stdout",
     "output_type": "stream",
     "text": [
      "Usted Camilo tiene 23 años\n"
     ]
    }
   ],
   "source": [
    "nombre = input(\"Ingrese su nombre => \")\n",
    "edad = input(\"Ingrese su edad =>\")\n",
    "print(\"Usted \"+ nombre + \" tiene \"+ edad + \" años\")\n"
   ]
  },
  {
   "cell_type": "markdown",
   "metadata": {},
   "source": [
    "## Type"
   ]
  },
  {
   "cell_type": "code",
   "execution_count": 16,
   "metadata": {},
   "outputs": [
    {
     "name": "stdout",
     "output_type": "stream",
     "text": [
      "my_name => 12\n",
      "<class 'int'>\n",
      "my_age=> 12\n",
      "<class 'int'>\n",
      "is_single True\n",
      "<class 'bool'>\n",
      "my_age => mario\n",
      "<class 'str'>\n"
     ]
    }
   ],
   "source": [
    "# String\n",
    "my_name = \"Nicolas\"\n",
    "my_name = 'Santiago'\n",
    "my_name = 12\n",
    "print('my_name =>', my_name)\n",
    "print(type(my_name))\n",
    "\n",
    "# int\n",
    "my_age = 12\n",
    "print('my_age=>', my_age)\n",
    "print(type(my_age))\n",
    "\n",
    "# Boolean\n",
    "\n",
    "is_single = True\n",
    "print('is_single', is_single)\n",
    "print(type(is_single))\n",
    "\n",
    "# input\n",
    "my_age = input('¿Cual es su edad? ')\n",
    "print('my_age =>', my_age)\n",
    "print(type(my_age))"
   ]
  },
  {
   "cell_type": "markdown",
   "metadata": {},
   "source": [
    "## string"
   ]
  },
  {
   "cell_type": "code",
   "execution_count": 17,
   "metadata": {},
   "outputs": [
    {
     "name": "stdout",
     "output_type": "stream",
     "text": [
      "Mario\n",
      "Vargas Celis\n",
      "Mario Vargas Celis\n",
      "I'm Nicolas\n",
      "she said \"hello\"\n",
      "v1  Hola, mi nombre es Mario y mi apelledo es Vargas Celis\n",
      "v2 Hola, mi nombre es Mario y mi apellido Vargas Celis\n",
      "v3  Hola, mi nombre es Mario y mi apellido es Vargas Celis\n",
      "v4  hola, mi nombre es Mario Alexander y mi apellido es Vargas Celis, y mi edad es 30\n"
     ]
    }
   ],
   "source": [
    "name = 'Mario'\n",
    "middle_name = 'Alexander'\n",
    "last_name = \"Vargas Celis\"\n",
    "age = 30\n",
    "print(name)\n",
    "print(last_name)\n",
    "\n",
    "full_name = name+\" \" + last_name\n",
    "print(full_name)\n",
    "\n",
    "quote = \"I'm Nicolas\"\n",
    "print(quote)\n",
    "\n",
    "quote2 = 'she said \"hello\"'\n",
    "print(quote2)\n",
    "\n",
    "# format\n",
    "template = \"Hola, mi nombre es \"+name+\" y mi apelledo es \"+ last_name\n",
    "print(\"v1 \",template)\n",
    "\n",
    "template = \"Hola, mi nombre es {} y mi apellido {}\".format(name, last_name)\n",
    "print(\"v2\", template)\n",
    "\n",
    "template =f\"Hola, mi nombre es {name} y mi apellido es {last_name}\"\n",
    "print(\"v3 \", template)\n",
    "\n",
    "template =f\"hola, mi nombre es {name} {middle_name} y mi apellido es {last_name}, y mi edad es {age}\"\n",
    "print(\"v4 \", template)"
   ]
  },
  {
   "cell_type": "markdown",
   "metadata": {},
   "source": [
    "## Numbers"
   ]
  },
  {
   "cell_type": "code",
   "execution_count": 22,
   "metadata": {},
   "outputs": [
    {
     "name": "stdout",
     "output_type": "stream",
     "text": [
      "<class 'int'>\n",
      "<class 'float'>\n",
      "2\n",
      "1\n",
      "27\n",
      "26\n",
      "25\n",
      "20\n",
      "25\n",
      "4.578954122558744e+16\n",
      "1e-11\n"
     ]
    }
   ],
   "source": [
    "lives = 3\n",
    "print(type(lives))\n",
    "age = 12\n",
    "budget = 100\n",
    "\n",
    "temperature = 12.12\n",
    "print(type(temperature))\n",
    "\n",
    "lives= 2\n",
    "print(lives)\n",
    "lives = 1\n",
    "print(lives)\n",
    "\n",
    "lives = 12 + 15\n",
    "print(lives)\n",
    "\n",
    "lives = lives -1\n",
    "print(lives)\n",
    "\n",
    "lives-=1\n",
    "print(lives)\n",
    "\n",
    "lives-= 5\n",
    "print(lives)\n",
    "\n",
    "lives+=5\n",
    "print(lives)\n",
    "\n",
    "number = 45789541225587442.12\n",
    "print(number)\n",
    "\n",
    "number_b = 0.00000000001\n",
    "print(number_b)"
   ]
  },
  {
   "cell_type": "code",
   "execution_count": 18,
   "metadata": {},
   "outputs": [
    {
     "name": "stdout",
     "output_type": "stream",
     "text": [
      "Consejo: Usted gastara en lo que necesita 75 en lo que quiere gastara 45 y ahorrara 30\n"
     ]
    }
   ],
   "source": [
    "salario_total = int(input(\"Cual es su ingreso neto mensualmente: \"))\n",
    "resultado_1 = (salario_total * 1) // 2\n",
    "resultado_2 = (salario_total * 3) // 10\n",
    "resultado_3 = (salario_total * 1) // 5\n",
    "presupuesto = f\"Usted gastara en lo que necesita {resultado_1} en lo que quiere gastara {resultado_2} y ahorrara {resultado_3}\"\n",
    "print(\"Consejo:\", presupuesto)"
   ]
  },
  {
   "cell_type": "code",
   "execution_count": 21,
   "metadata": {},
   "outputs": [
    {
     "name": "stdout",
     "output_type": "stream",
     "text": [
      "Su gasto en Enero es 800000, Febrero es 750000 y en Marzo es 950000, su promedio de estos tres meses es 625000.0\n"
     ]
    }
   ],
   "source": [
    "Enero = 800000\n",
    "Febrero = 750000\n",
    "Marzo = 950000\n",
    "\n",
    "promedio = ((Enero + Febrero + Marzo)/4)\n",
    "print(f\"Su gasto en Enero es {Enero}, Febrero es {Febrero} y en Marzo es {Marzo}, su promedio de estos tres meses es {promedio}\")"
   ]
  },
  {
   "cell_type": "markdown",
   "metadata": {},
   "source": [
    "## Booleans"
   ]
  },
  {
   "cell_type": "code",
   "execution_count": 8,
   "metadata": {},
   "outputs": [
    {
     "name": "stdout",
     "output_type": "stream",
     "text": [
      "44\n"
     ]
    }
   ],
   "source": [
    "nums= (55, 44, 33, 22)\n",
    "print(max(min(nums[:2]),abs(-42)))"
   ]
  },
  {
   "cell_type": "code",
   "execution_count": 11,
   "metadata": {},
   "outputs": [
    {
     "name": "stdout",
     "output_type": "stream",
     "text": [
      "{'c': 2, 'a': 2, 'm': 2, 'i': 3, 'l': 2, 'o': 3, 'r': 3, 'e': 3, 's': 2, 't': 1, 'p': 1}\n"
     ]
    }
   ],
   "source": [
    "text = input()\n",
    "dict = {}\n",
    "for char in text:\n",
    "    dict[char] = text.count(char)\n",
    "print(dict)"
   ]
  },
  {
   "cell_type": "code",
   "execution_count": 1,
   "metadata": {},
   "outputs": [
    {
     "name": "stdout",
     "output_type": "stream",
     "text": [
      "<class 'bool'>\n",
      "<class 'bool'>\n",
      "False\n",
      "True\n",
      "True\n"
     ]
    }
   ],
   "source": [
    "is_single = True\n",
    "print(type(is_single))\n",
    "is_single = False\n",
    "print(type(is_single))\n",
    "\n",
    "print(not True)\n",
    "print(not False)\n",
    "\n",
    "is_single = not is_single\n",
    "print(is_single)"
   ]
  },
  {
   "cell_type": "markdown",
   "metadata": {},
   "source": [
    "## Transformation"
   ]
  },
  {
   "cell_type": "code",
   "execution_count": null,
   "metadata": {},
   "outputs": [],
   "source": [
    "name = 'Nicolas'\n",
    "print(type(name))\n",
    "name = 12\n",
    "print(type(name))\n",
    "name = True\n",
    "print(type(name))\n",
    "\n",
    "print(\"Nicolas\"+ \"Molina\")\n",
    "print(10+20)\n",
    "print(\"Nicolas \"+\"12\")\n",
    "\n",
    "age = 12\n",
    "print(\"mi edad es \" + str(age))\n",
    "print(f\"Mi edad es {age}\")\n",
    "\n",
    "age = input('Escribe tu edad => ')\n",
    "print(type(age))\n",
    "age = int(age)\n",
    "age+=10\n",
    "print(f'Tu edad en 10 años será {age}')\n",
    "\n"
   ]
  },
  {
   "cell_type": "markdown",
   "metadata": {},
   "source": [
    "### Desafio"
   ]
  },
  {
   "cell_type": "code",
   "execution_count": 8,
   "metadata": {},
   "outputs": [
    {
     "name": "stdout",
     "output_type": "stream",
     "text": [
      "Mario\n",
      "Alexander\n",
      "Vargas Celis\n",
      "38\n",
      "Hola mi nombre es Mario Alexander Vargas Celis, tengo 38 años y en 10 años tendré 48.\n"
     ]
    }
   ],
   "source": [
    "name = input('¿Cuál es tu nombre? => ')\n",
    "print(name)\n",
    "middle_name= input('¿Cual es tu segundo nombre? =>')\n",
    "print(middle_name)\n",
    "last_name = input('¿Cuál es tu apellido? => ')\n",
    "print(last_name)\n",
    "age = input('¿Cuál es tu edad? => ')\n",
    "print(age)\n",
    "ageten= int(age) + 10 \n",
    "\n",
    "\n",
    "template = f\"Hola, mi nombre es {name} {middle_name} {last_name}, tengo {age} años y en 10 años tendré {ageten}.\"\n",
    "print(template)"
   ]
  },
  {
   "cell_type": "markdown",
   "metadata": {},
   "source": [
    "### Operadores aritmeticos"
   ]
  },
  {
   "cell_type": "code",
   "execution_count": null,
   "metadata": {},
   "outputs": [],
   "source": [
    "print(10+10)\n",
    "print(10-5)\n",
    "print(10*2)\n",
    "print(10/2) # 5\n",
    "print(10%2)\n",
    "print(10/3)\n",
    "print(10%3)\n",
    "print(10 // 3)\n",
    "print(2**3)\n",
    "print(2**3 +3-7/1 //4)\n",
    "print(2**3)\n",
    "print((7/1)//4)\n",
    "\n",
    "print(8+3-1)\n",
    "print(10/0)\n",
    "\n",
    "print ('Hola'+ ' Mundo')\n",
    "print('Hola '*3)"
   ]
  },
  {
   "cell_type": "markdown",
   "metadata": {},
   "source": [
    "### Operador de Comparación"
   ]
  },
  {
   "cell_type": "code",
   "execution_count": 9,
   "metadata": {},
   "outputs": [
    {
     "name": "stdout",
     "output_type": "stream",
     "text": [
      "True\n",
      "False\n",
      "False\n",
      "True\n",
      "False\n",
      "False\n",
      "True\n",
      "False\n",
      "True\n",
      "True\n",
      "False\n",
      "True\n",
      "True\n",
      "False\n",
      "True\n",
      "False\n",
      "True\n",
      "False\n",
      "False\n",
      "False\n"
     ]
    }
   ],
   "source": [
    "# >\n",
    "print(7>3)\n",
    "print(3>7)\n",
    "print(7>7)\n",
    "\n",
    "#<\n",
    "print(5<6)\n",
    "print(6<5)\n",
    "print(5<5)\n",
    "\n",
    "# >=\n",
    "print(2 >= 1)\n",
    "print(2 >= 3)\n",
    "print(2 >= 2)\n",
    "\n",
    "# <=\n",
    "print(1 <= 2)\n",
    "print(2 <= 1)\n",
    "print(2 <= 2)\n",
    "\n",
    "#==\n",
    "print(6 == 6)\n",
    "print(5 == 2)\n",
    "\n",
    "# !=\n",
    "\n",
    "print(6 != 10)\n",
    "print(6 != 6)\n",
    "\n",
    "print(\"Apple\" == 'Apple')\n",
    "print(\"Apple\" == 'apple')\n",
    "print(\"1\" == 1)\n",
    "\n",
    "age = 15\n",
    "print(age >= 18)"
   ]
  },
  {
   "cell_type": "markdown",
   "metadata": {},
   "source": [
    "### Comparación de números flotantes"
   ]
  },
  {
   "cell_type": "code",
   "execution_count": 10,
   "metadata": {},
   "outputs": [
    {
     "name": "stdout",
     "output_type": "stream",
     "text": [
      "3.3\n",
      "3.3000000000000003\n",
      "False\n",
      "str =>  3.3\n",
      "True\n",
      "****************************************\n",
      "3.3000000000000003 3.3\n",
      "True\n"
     ]
    }
   ],
   "source": [
    "x = 3.3\n",
    "print(x)\n",
    "y = 1.1 + 2.2\n",
    "print(y)\n",
    "print(x == y)\n",
    "\n",
    "y_str = format(y, \".2g\")\n",
    "print('str => ', y_str)\n",
    "print(y_str == str(x))\n",
    "\n",
    "print('*'*40)\n",
    "\n",
    "print(y, x)\n",
    "\n",
    "tolerance = 0.00001\n",
    "print(abs( x - y) < tolerance)"
   ]
  },
  {
   "cell_type": "markdown",
   "metadata": {},
   "source": [
    "### Operadores lógicos: and y or"
   ]
  },
  {
   "cell_type": "code",
   "execution_count": 11,
   "metadata": {},
   "outputs": [
    {
     "name": "stdout",
     "output_type": "stream",
     "text": [
      "and\n",
      "True and True => True\n",
      "True and False => False\n",
      "False and True => False\n",
      "False and False => False\n",
      "True\n",
      "False\n",
      "True\n",
      "or\n",
      "True or True => True\n",
      "True or False => True\n",
      "False or True => True\n",
      "False or False => False\n",
      "True\n"
     ]
    }
   ],
   "source": [
    "# and\n",
    "print('and')\n",
    "print('True and True =>', True and True)\n",
    "print('True and False =>', True and False)\n",
    "print('False and True =>', False and True)\n",
    "print('False and False =>', False and False)\n",
    "\n",
    "print(10 > 5 and 5 < 10)\n",
    "print(10 > 5 and 5 > 10)\n",
    "\n",
    "stock = input('Ingrese el numero de stock => ')\n",
    "stock = int(stock)\n",
    "\n",
    "print(stock >= 100 and stock <= 1000)\n",
    "\n",
    "# or\n",
    "print('or')\n",
    "print('True or True =>', True or True)\n",
    "print('True or False =>', True or False)\n",
    "print('False or True =>', False or True)\n",
    "print('False or False =>', False or False)\n",
    "\n",
    "role = input('Digite el rol => ')\n",
    "\n",
    "print(role == 'admin' or role == 'seller')"
   ]
  },
  {
   "cell_type": "markdown",
   "metadata": {},
   "source": [
    "### Operador lógico not"
   ]
  },
  {
   "cell_type": "code",
   "execution_count": 12,
   "metadata": {},
   "outputs": [
    {
     "name": "stdout",
     "output_type": "stream",
     "text": [
      "False\n",
      "True\n",
      " notand\n",
      " not True and True => False\n",
      "not True and False => True\n",
      "not False and True => True\n",
      "not False and False => True\n",
      "False\n"
     ]
    }
   ],
   "source": [
    "print(not True)\n",
    "print(not False)\n",
    "\n",
    "# and\n",
    "print(' notand')\n",
    "print(' not True and True =>',not (True and True))\n",
    "print('not True and False =>',not (True and False))\n",
    "print('not False and True =>',not (False and True))\n",
    "print('not False and False =>',not (False and False))\n",
    "\n",
    "stock = input('Ingrese el numero de stock => ')\n",
    "stock = int(stock)\n",
    "\n",
    "print(not (stock >= 100 and stock <= 1000))"
   ]
  },
  {
   "cell_type": "markdown",
   "metadata": {},
   "source": [
    "### Condicionales if\n"
   ]
  },
  {
   "cell_type": "code",
   "execution_count": 21,
   "metadata": {},
   "outputs": [
    {
     "name": "stdout",
     "output_type": "stream",
     "text": [
      "debería ejecutarse\n",
      "Eres lo maximo\n",
      "El 5 es impar\n"
     ]
    }
   ],
   "source": [
    "if True:\n",
    "  print('debería ejecutarse')\n",
    "\n",
    "if False:\n",
    "  print('nunca se ejecuta ')\n",
    "\n",
    "\n",
    "pet = input('¿Cual es tu mascota favorita ')\n",
    "\n",
    "if pet == 'perro':\n",
    "  print('genial tienes buen gusto ')\n",
    "\n",
    "elif pet == 'gato':\n",
    "  print('espero tengas suerte ')\n",
    "\n",
    "elif pet == 'pez':\n",
    "  print('Eres lo maximo')\n",
    "\n",
    "else:\n",
    "  print('No tienes ninguna mascota interesante')\n",
    "\n",
    "\n",
    "'''\n",
    "stock = int(input('Digito el stock => '))\n",
    "\n",
    "if stock >= 100 and stock <= 1000:\n",
    "  print('El stock es correcto')\n",
    "\n",
    "else:\n",
    "  print('El stock es incorrecto')\n",
    "  '''\n",
    "\n",
    "num = int(input('coloca un número: ')) \n",
    "\n",
    "if num % 2 == 0: \n",
    "    print(f'El {num} es par')\n",
    "else:\n",
    "    print(f'El {num} es impar')"
   ]
  },
  {
   "cell_type": "code",
   "execution_count": 20,
   "metadata": {},
   "outputs": [
    {
     "name": "stdout",
     "output_type": "stream",
     "text": [
      "El 8 es par\n"
     ]
    }
   ],
   "source": [
    "num = int(input('coloca un número: ')) \n",
    "\n",
    "if num % 2 == 0: \n",
    "    print(f'El {num} es par')\n",
    "else:\n",
    "    print(f'El {num} es impar')"
   ]
  },
  {
   "cell_type": "code",
   "execution_count": null,
   "metadata": {},
   "outputs": [],
   "source": [
    "number = int(input('Digita un número => '))\n",
    "print(number)\n",
    "\n",
    "# Escribe tu solución 👇\n",
    "if number % 2 == 0: \n",
    "    print('Es par')\n",
    "else:\n",
    "    print('Es impar')"
   ]
  },
  {
   "cell_type": "markdown",
   "metadata": {},
   "source": [
    "### Piedra, Papel o Tijera"
   ]
  },
  {
   "cell_type": "code",
   "execution_count": 12,
   "metadata": {},
   "outputs": [
    {
     "name": "stdout",
     "output_type": "stream",
     "text": [
      "Papel gana a piedra\n",
      "computer gano!\n"
     ]
    }
   ],
   "source": [
    "user_option = input('piedra, papel o tijera => ')\n",
    "user_option= user_option.lower()\n",
    "computer_option = 'papel'\n",
    "\n",
    "if user_option == computer_option:\n",
    "  print('Empate!')\n",
    "elif user_option == 'piedra':\n",
    "  if computer_option== 'tigera':\n",
    "    print('piedra gana a tijera')\n",
    "    print('user gana!')\n",
    "  else:\n",
    "    print('Papel gana a piedra')\n",
    "    print('computer gano!')\n",
    "elif user_option == 'papel':\n",
    "  if computer_option == 'piedra':\n",
    "    print('papel gano a piedra')\n",
    "    print('user gano!')\n",
    "  else:\n",
    "    print('tijera gana a papel')\n",
    "    print('computer gana!')\n",
    "elif user_option == 'tijera':\n",
    "  if computer_option == 'papel':\n",
    "    print('tijera gana a papel')\n",
    "    print('user gano!')\n",
    "  else:\n",
    "    print('piedra gana a tijera')\n",
    "    print('computer gana!')\n",
    "  "
   ]
  },
  {
   "cell_type": "markdown",
   "metadata": {},
   "source": [
    "### Strings"
   ]
  },
  {
   "cell_type": "code",
   "execution_count": 13,
   "metadata": {},
   "outputs": [
    {
     "name": "stdout",
     "output_type": "stream",
     "text": [
      "29\n",
      "Ella sabe programar en Python\n",
      "ELLA SABE PROGRAMAR EN PYTHON\n",
      "ella sabe programar en python\n",
      "4\n",
      "eLLA SABE PROGRAMAR EN pYTHON\n",
      "True\n",
      "False\n",
      "Ella sabe programar en Go\n",
      "este es un titulo\n",
      "Este es un titulo\n",
      "Este Es Un Titulo\n",
      "False\n",
      "True\n"
     ]
    }
   ],
   "source": [
    "text = 'Ella sabe programar en Python'\n",
    "\n",
    "'''\n",
    "print('JaveScript' in text)\n",
    "print('Python' in text)\n",
    "\n",
    "if 'JS' in text:\n",
    "  print('Eligiste bien!!')\n",
    "else:\n",
    "  print('Tambien eligiste bien')\n",
    "\n",
    "'''\n",
    "\n",
    "size = len(text)\n",
    "print(size)\n",
    "\n",
    "print(text)\n",
    "print(text.upper())\n",
    "print(text.lower())\n",
    "print(text.count('a'))\n",
    "\n",
    "print(text.swapcase())\n",
    "print(text.startswith('Ella'))\n",
    "print(text.endswith('Rust'))\n",
    "print(text.replace('Python', 'Go'))\n",
    "\n",
    "text_2 = 'este es un titulo'\n",
    "print(text_2)\n",
    "print(text_2.capitalize())\n",
    "print(text_2.title())\n",
    "print(text_2.isdigit())\n",
    "print(\"398\".isdigit())"
   ]
  },
  {
   "cell_type": "markdown",
   "metadata": {},
   "source": [
    "### Indexing y slicing"
   ]
  },
  {
   "cell_type": "code",
   "execution_count": 14,
   "metadata": {},
   "outputs": [
    {
     "name": "stdout",
     "output_type": "stream",
     "text": [
      "E\n",
      "l\n",
      "size =>  16\n",
      "n\n",
      "n\n",
      "Ella \n",
      "Python\n",
      "Ella sabe \n",
      "sabe Pytho\n",
      "sabe Python\n",
      "Ella sabe Python\n",
      "Python\n",
      "Pto\n",
      "El aePto\n"
     ]
    }
   ],
   "source": [
    "text = \"Ella sabe Python\"\n",
    "print(text[0])\n",
    "print(text[1])\n",
    "# print(text[999])\n",
    "size = len(text)\n",
    "print('size => ', size)\n",
    "print(text[size-1])\n",
    "print(text[-1])\n",
    "\n",
    "# slicing\n",
    "\n",
    "print(text[0:5])\n",
    "print(text[10:16])\n",
    "print(text[:10])\n",
    "print(text[5:-1])\n",
    "print(text[5:])\n",
    "print(text[:])\n",
    "print(text[10:16:1])\n",
    "print(text[10:16:2])\n",
    "print(text[::2])"
   ]
  },
  {
   "cell_type": "markdown",
   "metadata": {},
   "source": [
    "## Lista"
   ]
  },
  {
   "cell_type": "code",
   "execution_count": 1,
   "metadata": {},
   "outputs": [
    {
     "name": "stdout",
     "output_type": "stream",
     "text": [
      "[1, 2, 3, 4]\n",
      "<class 'list'>\n",
      "['make a dishes', 'play videogames']\n",
      "[1, True, 'hola']\n",
      "1\n",
      "make a dishes\n",
      "['watch platzi course', 'play videogames']\n",
      "['do the dishes', 'play videogames']\n",
      "[1, 2, 3]\n",
      "True\n",
      "True\n"
     ]
    }
   ],
   "source": [
    "numbers = [1, 2, 3, 4]\n",
    "print(numbers)\n",
    "print(type(numbers))\n",
    "\n",
    "tasks = ['make a dishes','play videogames']\n",
    "print(tasks)\n",
    "\n",
    "types = [1, True, 'hola']\n",
    "print(types)\n",
    "\n",
    "print(numbers[0])\n",
    "print(tasks[0])\n",
    "text = 'Hola'\n",
    "# text[0]= 'w'\n",
    "\n",
    "tasks[0] = 'watch platzi course'\n",
    "print(tasks)\n",
    "\n",
    "tasks[0]= 'do the dishes'\n",
    "print(tasks)\n",
    "\n",
    "print(numbers[:3])\n",
    "print(True in types)\n",
    "print('hola' in types)"
   ]
  },
  {
   "cell_type": "markdown",
   "metadata": {},
   "source": [
    "### Métodos de listas"
   ]
  },
  {
   "cell_type": "code",
   "execution_count": 3,
   "metadata": {},
   "outputs": [
    {
     "name": "stdout",
     "output_type": "stream",
     "text": [
      "2\n",
      "[1, 2, 3, 4, 10]\n",
      "[1, 2, 3, 4, 10, 700]\n",
      "['hola', 1, 2, 3, 4, 10, 700]\n",
      "['hola', 1, 2, 'change', 3, 4, 10, 700]\n",
      "['hola', 1, 2, 'change', 3, 4, 10, 700, 'todo 1', 'todo 2', 'todo 3']\n",
      "['hola', 1, 2, 'change', 3, 4, 10, 700, 'todo 1', 'todo changed', 'todo 3']\n",
      "['hola', 1, 2, 'change', 3, 4, 10, 700, 'todo changed', 'todo 3']\n",
      "['hola', 1, 2, 'change', 3, 4, 10, 700, 'todo changed']\n",
      "[1, 2, 'change', 3, 4, 10, 700, 'todo changed']\n",
      "['todo changed', 700, 10, 4, 3, 'change', 2, 1]\n",
      "[1, 3, 4, 6]\n",
      "['ab', 'ed', 're']\n"
     ]
    }
   ],
   "source": [
    "# CRUD Create, read, update & Delete\n",
    "\n",
    "numbers = [1,2,3,4,5]\n",
    "print(numbers[1])\n",
    "numbers[-1] = 10\n",
    "print(numbers)\n",
    "\n",
    "numbers.append(700)\n",
    "print(numbers)\n",
    "\n",
    "numbers.insert(0,'hola')\n",
    "print(numbers)\n",
    "\n",
    "numbers.insert(3,'change')\n",
    "print(numbers)\n",
    "\n",
    "tasks = ['todo 1','todo 2', 'todo 3']\n",
    "new_list =numbers + tasks\n",
    "print(new_list)\n",
    "\n",
    "index = new_list.index('todo 2')\n",
    "new_list[index] = 'todo changed'\n",
    "print(new_list)\n",
    "\n",
    "new_list.remove('todo 1')\n",
    "print(new_list)\n",
    "\n",
    "new_list.pop()\n",
    "print(new_list)\n",
    "\n",
    "new_list.pop(0)\n",
    "print(new_list)\n",
    "\n",
    "new_list.reverse()\n",
    "print(new_list)\n",
    "\n",
    "numbers_a =[1, 4, 6, 3]\n",
    "numbers_a.sort()\n",
    "print(numbers_a)\n",
    "\n",
    "strings = ['re', 'ab', 'ed']\n",
    "strings.sort()\n",
    "print(strings)\n",
    "\n"
   ]
  },
  {
   "cell_type": "code",
   "execution_count": 5,
   "metadata": {},
   "outputs": [
    {
     "name": "stdout",
     "output_type": "stream",
     "text": [
      "['G', 'F', 'E', 'D', 'B', 'Z']\n"
     ]
    }
   ],
   "source": [
    "my_list = ['A', 'B', 'C', 'D', 'E', 'F']\n",
    "\n",
    "my_list.append('G')\n",
    "my_list[0] = 'Z'\n",
    "my_list.remove('C')\n",
    "my_list.reverse()\n",
    "print(my_list)"
   ]
  },
  {
   "attachments": {},
   "cell_type": "markdown",
   "metadata": {},
   "source": [
    "## Tupla"
   ]
  },
  {
   "cell_type": "code",
   "execution_count": 6,
   "metadata": {},
   "outputs": [
    {
     "name": "stdout",
     "output_type": "stream",
     "text": [
      "(1, 2, 3, 5)\n",
      "0 =>  1\n",
      "-1 => 5\n",
      "<class 'tuple'>\n",
      "('nico', 'zulo', 'santi', 'nico')\n",
      "<class 'tuple'>\n",
      "(1, 2, 3, 5)\n",
      "('nico', 'zulo', 'santi', 'nico')\n",
      "1\n",
      "2\n",
      "['nico', 'zulo', 'santi', 'nico']\n",
      "<class 'list'>\n",
      "['nico', 'juli', 'santi', 'nico']\n",
      "('nico', 'juli', 'santi', 'nico')\n"
     ]
    }
   ],
   "source": [
    "numbers = (1, 2, 3, 5)\n",
    "strings = ('nico', 'zulo', 'santi', 'nico')\n",
    "print(numbers)\n",
    "print('0 => ',numbers[0])\n",
    "print('-1 =>', numbers[-1])\n",
    "print(type(numbers))\n",
    "\n",
    "print(strings)\n",
    "print(type(strings))\n",
    "\n",
    "# CRUD\n",
    "#numbers.append(10)\n",
    "print(numbers)\n",
    "#numbers[1] = 'change'\n",
    "\n",
    "print(strings)\n",
    "print(strings.index('zulo'))\n",
    "print(strings.count('nico'))\n",
    "\n",
    "my_list = list(strings)\n",
    "print(my_list)\n",
    "print(type(my_list))\n",
    "\n",
    "my_list[1] = 'juli'\n",
    "print(my_list)\n",
    "\n",
    "my_tuple = tuple(my_list)\n",
    "print(my_tuple)"
   ]
  },
  {
   "cell_type": "markdown",
   "metadata": {},
   "source": [
    "## Piedra, papel, tijera con tupla"
   ]
  },
  {
   "cell_type": "code",
   "execution_count": 8,
   "metadata": {},
   "outputs": [
    {
     "name": "stdout",
     "output_type": "stream",
     "text": [
      "User option =>  tijera\n",
      "Computer option =>  tijera\n",
      "Empate!\n"
     ]
    }
   ],
   "source": [
    "import random\n",
    "\n",
    "options = ('piedra', 'papel', 'tijera')\n",
    "\n",
    "user_option = input('piedra, papel o tijera => ')\n",
    "user_option = user_option.lower() \n",
    "\n",
    "if not user_option in options:\n",
    "  print('Esa opcion no es valida')\n",
    "  \n",
    "computer_option = random.choice(options)\n",
    "\n",
    "print('User option => ', user_option)\n",
    "print('Computer option => ',computer_option)\n",
    "\n",
    "if user_option == computer_option:\n",
    "  print('Empate!')\n",
    "elif user_option == 'piedra':\n",
    "  if computer_option== 'tigera':\n",
    "    print('piedra gana a tijera')\n",
    "    print('user gana!')\n",
    "  else:\n",
    "    print('Papel gana a piedra')\n",
    "    print('computer gano!')\n",
    "elif user_option == 'papel':\n",
    "  if computer_option == 'piedra':\n",
    "    print('papel gano a piedra')\n",
    "    print('user gano!')\n",
    "  else:\n",
    "    print('tijera gana a papel')\n",
    "    print('computer gana!')\n",
    "elif user_option == 'tijera':\n",
    "  if computer_option == 'papel':\n",
    "    print('tijera gana a papel')\n",
    "    print('user gano!')\n",
    "  else:\n",
    "    print('piedra gana a tijera')\n",
    "    print('computer gana!')\n",
    "  "
   ]
  },
  {
   "cell_type": "markdown",
   "metadata": {},
   "source": [
    "### Diccionarios: definición y lectura"
   ]
  },
  {
   "cell_type": "markdown",
   "metadata": {},
   "source": [
    "#### Lista = []\n",
    "#### Tupla = ()\n",
    "#### Diccionario = {}"
   ]
  },
  {
   "cell_type": "code",
   "execution_count": 9,
   "metadata": {},
   "outputs": [
    {
     "name": "stdout",
     "output_type": "stream",
     "text": [
      "<class 'dict'>\n",
      "{'avion': 'bla bla bla', 'name': 'Nicolas', 'last_name': 'Molina monroy', 'age': 87}\n",
      "4\n",
      "87\n",
      "Molina monroy\n",
      "87\n",
      "True\n",
      "False\n"
     ]
    }
   ],
   "source": [
    "my_dict = {}\n",
    "print(type(my_dict))\n",
    "\n",
    "my_dict = {\n",
    "  'avion':'bla bla bla',\n",
    "  'name':'Nicolas',\n",
    "  'last_name':'Molina monroy',\n",
    "  'age':87\n",
    "}\n",
    "\n",
    "print(my_dict)\n",
    "print(len(my_dict))\n",
    "\n",
    "print(my_dict['age'])\n",
    "print(my_dict['last_name'])\n",
    "print(my_dict.get('age'))\n",
    "\n",
    "print('avion' in my_dict)\n",
    "print('otroqueno' in my_dict)"
   ]
  },
  {
   "cell_type": "markdown",
   "metadata": {},
   "source": [
    "## Diccionarios: inserción y actualización"
   ]
  },
  {
   "cell_type": "code",
   "execution_count": 10,
   "metadata": {},
   "outputs": [
    {
     "name": "stdout",
     "output_type": "stream",
     "text": [
      "{'name': 'nico', 'last_name': 'molina', 'langs': ['python', 'javascript'], 'age': 99}\n",
      "{'name': 'santi', 'last_name': 'molina', 'langs': ['python', 'javascript', 'rust'], 'age': 49}\n",
      "{'name': 'santi', 'langs': ['python', 'javascript', 'rust']}\n",
      "items\n",
      "dict_items([('name', 'santi'), ('langs', ['python', 'javascript', 'rust'])])\n",
      "key\n",
      "dict_keys(['name', 'langs'])\n",
      "values\n",
      "dict_values(['santi', ['python', 'javascript', 'rust']])\n"
     ]
    }
   ],
   "source": [
    "person = {\n",
    "  'name':'nico',\n",
    "  'last_name':'molina',\n",
    "  'langs':['python','javascript'],\n",
    "  'age':99\n",
    "}\n",
    "\n",
    "print(person)\n",
    "\n",
    "person['name']='santi'\n",
    "person['age'] -=50\n",
    "person['langs'].append('rust')\n",
    "print(person)\n",
    "\n",
    "del person['last_name']\n",
    "person.pop('age')\n",
    "\n",
    "print(person)\n",
    "\n",
    "print('items')\n",
    "print(person.items())\n",
    "\n",
    "print('key')\n",
    "print(person.keys())\n",
    "\n",
    "print('values')\n",
    "print(person.values())"
   ]
  },
  {
   "cell_type": "code",
   "execution_count": 13,
   "metadata": {},
   "outputs": [
    {
     "name": "stdout",
     "output_type": "stream",
     "text": [
      "['name', 'lastName', 'twitter']\n",
      "['Felipe', 'Molina', '@nicobytes']\n"
     ]
    }
   ],
   "source": [
    "person = {\n",
    "    \"name\": \"Nicolas\",\n",
    "    \"lastName\": \"Molina\",\n",
    "    \"age\": 29\n",
    "}\n",
    "\n",
    "# Escribe tu solución 👇\n",
    "person[\"twitter\"] = \"@nicobytes\"\n",
    "person[\"name\"]=\"Felipe\"\n",
    "person.pop('age')\n",
    "print(list(person.keys()))\n",
    "print(list(person.values()))"
   ]
  },
  {
   "cell_type": "markdown",
   "metadata": {},
   "source": [
    "### while"
   ]
  },
  {
   "cell_type": "code",
   "execution_count": 1,
   "metadata": {},
   "outputs": [
    {
     "name": "stdout",
     "output_type": "stream",
     "text": [
      "15\n",
      "16\n",
      "17\n",
      "18\n",
      "19\n",
      "20\n"
     ]
    }
   ],
   "source": [
    "'''\n",
    "while True:\n",
    "  print('se ejecuta')\n",
    "\n",
    "\n",
    "counter = 0\n",
    "\n",
    "while counter<10:\n",
    "  counter += 1\n",
    "  print(counter)\n",
    "\n",
    "counter = 0\n",
    "while counter < 20:\n",
    "  counter += 1\n",
    "  if counter == 15:\n",
    "    break\n",
    "  print(counter)\n",
    "\n",
    "'''\n",
    "\n",
    "counter = 0\n",
    "\n",
    "while counter < 20:\n",
    "  counter += 1\n",
    "  if counter < 15:\n",
    "    continue\n",
    "  print(counter)"
   ]
  },
  {
   "cell_type": "markdown",
   "metadata": {},
   "source": [
    "### For"
   ]
  },
  {
   "cell_type": "code",
   "execution_count": 2,
   "metadata": {},
   "outputs": [
    {
     "name": "stdout",
     "output_type": "stream",
     "text": [
      "23\n",
      "45\n",
      "67\n",
      "89\n",
      "43\n",
      "nico\n",
      "juli\n",
      "santi\n",
      "name =>  camisa\n",
      "price =>  100\n",
      "stock =>  89\n",
      "name => camisa\n",
      "price => 100\n",
      "stock => 89\n",
      "name => nico\n",
      "name => zule\n",
      "name => santi\n"
     ]
    }
   ],
   "source": [
    "'''\n",
    "for element in range(1, 21):\n",
    "  print(element)\n",
    "\n",
    "'''\n",
    "\n",
    "my_list = [23, 45, 67, 89, 43]\n",
    "for element in my_list:\n",
    "  print(element)\n",
    "89\n",
    "my_tuple = ('nico', 'juli', 'santi')\n",
    "for element in my_tuple:\n",
    "  print(element)\n",
    "\n",
    "product = {\n",
    "  'name':'camisa',\n",
    "  'price': 100,\n",
    "  'stock':89\n",
    "}\n",
    "\n",
    "for key in product:\n",
    "  print(key, '=> ', product[key])\n",
    "\n",
    "for key, value in product.items():\n",
    "  print(key, '=>', value)\n",
    "\n",
    "people = [\n",
    "  {\n",
    "    'name':'nico',\n",
    "    'age': 34\n",
    "  },\n",
    "  {\n",
    "    'name':'zule',\n",
    "    'age': 45\n",
    "  },\n",
    "  {\n",
    "    'name':'santi',\n",
    "    'age': 4\n",
    "  }\n",
    "]\n",
    "\n",
    "for person in people:\n",
    "  print('name =>', person['name'])"
   ]
  },
  {
   "cell_type": "code",
   "execution_count": 6,
   "metadata": {},
   "outputs": [
    {
     "name": "stdout",
     "output_type": "stream",
     "text": [
      "[1, 2, 3, 4, 5]\n"
     ]
    }
   ],
   "source": [
    "my_list = [1, -1, 2, -2, 3, -3, 4, -4, 5, -5]\n",
    "new_list = []\n",
    "\n",
    "# Escribe tu solución 👇\n",
    "for x in my_list:\n",
    "  if not x < 0:\n",
    "    new_list.append(x)\n",
    "print(new_list)"
   ]
  },
  {
   "cell_type": "markdown",
   "metadata": {},
   "source": [
    "### Ciclos anidados loop"
   ]
  },
  {
   "cell_type": "code",
   "execution_count": 7,
   "metadata": {},
   "outputs": [
    {
     "name": "stdout",
     "output_type": "stream",
     "text": [
      "2\n",
      "[1, 2, 3]\n",
      "1\n",
      "2\n",
      "3\n",
      "[4, 5, 6]\n",
      "4\n",
      "5\n",
      "6\n",
      "[7, 8, 9]\n",
      "7\n",
      "8\n",
      "9\n"
     ]
    }
   ],
   "source": [
    "matriz = [\n",
    "  [1,2,3],\n",
    "  [4,5,6],\n",
    "  [7,8,9]\n",
    "]\n",
    "print(matriz[0][1])\n",
    "\n",
    "for row in matriz:\n",
    "  print(row)\n",
    "  for column in row:\n",
    "    print(column)"
   ]
  },
  {
   "cell_type": "markdown",
   "metadata": {},
   "source": [
    "### Final piedra papel y tijera"
   ]
  },
  {
   "cell_type": "code",
   "execution_count": 1,
   "metadata": {},
   "outputs": [
    {
     "name": "stdout",
     "output_type": "stream",
     "text": [
      "****************************************\n",
      "ROUND 1\n",
      "****************************************\n",
      "computer_wins 0\n",
      "user_wins 0\n",
      "User option =>  papel\n",
      "Computer option =>  papel\n",
      "Empate!\n",
      "****************************************\n",
      "ROUND 2\n",
      "****************************************\n",
      "computer_wins 0\n",
      "user_wins 0\n",
      "Esa opcion no es valida\n",
      "****************************************\n",
      "ROUND 3\n",
      "****************************************\n",
      "computer_wins 0\n",
      "user_wins 0\n",
      "User option =>  papel\n",
      "Computer option =>  piedra\n",
      "papel gano a piedra\n",
      "user gano!\n",
      "****************************************\n",
      "ROUND 4\n",
      "****************************************\n",
      "computer_wins 0\n",
      "user_wins 1\n",
      "User option =>  papel\n",
      "Computer option =>  tijera\n",
      "tijera gana a papel\n",
      "computer gana!\n",
      "****************************************\n",
      "ROUND 5\n",
      "****************************************\n",
      "computer_wins 1\n",
      "user_wins 1\n",
      "User option =>  papel\n",
      "Computer option =>  papel\n",
      "Empate!\n",
      "****************************************\n",
      "ROUND 6\n",
      "****************************************\n",
      "computer_wins 1\n",
      "user_wins 1\n",
      "User option =>  papel\n",
      "Computer option =>  tijera\n",
      "tijera gana a papel\n",
      "computer gana!\n",
      "El ganador es la computadora\n"
     ]
    }
   ],
   "source": [
    "import random\n",
    "\n",
    "options = ('piedra', 'papel', 'tijera')\n",
    "\n",
    "computer_wins =0\n",
    "user_wins = 0\n",
    "rounds =1\n",
    "\n",
    "while True:\n",
    "\n",
    "  print('*'* 40)\n",
    "  print('ROUND', rounds)\n",
    "  print('*' *40)\n",
    "\n",
    "  print('computer_wins', computer_wins)\n",
    "  print('user_wins', user_wins)\n",
    "\n",
    "  user_option = input('piedra, papel o tijera => ')\n",
    "  user_option = user_option.lower()\n",
    "    \n",
    "  rounds+=1\n",
    "  \n",
    "  if not user_option in options:\n",
    "    print('Esa opcion no es valida')\n",
    "    continue\n",
    "    \n",
    "  computer_option = random.choice(options)\n",
    "  \n",
    "  print('User option => ', user_option)\n",
    "  print('Computer option => ',computer_option)\n",
    "  \n",
    "  if user_option == computer_option:\n",
    "    print('Empate!')\n",
    "  elif user_option == 'piedra':\n",
    "    if computer_option== 'tigera':\n",
    "      print('piedra gana a tijera')\n",
    "      print('user gana!')\n",
    "      user_wins +=1\n",
    "    else:\n",
    "      print('Papel gana a piedra')\n",
    "      print('computer gano!')\n",
    "      computer_wins +=1\n",
    "  elif user_option == 'papel':\n",
    "    if computer_option == 'piedra':\n",
    "      print('papel gano a piedra')\n",
    "      print('user gano!')\n",
    "      user_wins +=1\n",
    "    else:\n",
    "      print('tijera gana a papel')\n",
    "      print('computer gana!')\n",
    "      computer_wins +=1\n",
    "  elif user_option == 'tijera':\n",
    "    if computer_option == 'papel':\n",
    "      print('tijera gana a papel')\n",
    "      print('user gano!')\n",
    "      user_wins +=1\n",
    "    else:\n",
    "      print('piedra gana a tijera')\n",
    "      print('computer gana!')\n",
    "      computer_wins +=1\n",
    "\n",
    "  if computer_wins == 2:\n",
    "    print('El ganador es la computadora')\n",
    "    break\n",
    "\n",
    "  if computer_wins == 2:\n",
    "    print('El ganador es la usuario')\n",
    "    break\n",
    "    "
   ]
  },
  {
   "cell_type": "code",
   "execution_count": 7,
   "metadata": {},
   "outputs": [
    {
     "name": "stdout",
     "output_type": "stream",
     "text": [
      "{87}\n"
     ]
    }
   ],
   "source": [
    "'''a = {1,2}\n",
    "b = {2,3}\n",
    "print(a - b)'''\n",
    "\n",
    "a = {1,2}\n",
    "b = {2,4}\n",
    "print(a - b)"
   ]
  },
  {
   "cell_type": "code",
   "execution_count": 6,
   "metadata": {},
   "outputs": [
    {
     "name": "stdout",
     "output_type": "stream",
     "text": [
      "{'Nicolas', 'Miguel', 'Juan'}\n"
     ]
    }
   ],
   "source": [
    "names = {'Nicolas', 'Miguel', 'Juan', 'Nicolas'} \n",
    "print(names) "
   ]
  },
  {
   "cell_type": "code",
   "execution_count": 7,
   "metadata": {},
   "outputs": [
    {
     "name": "stdout",
     "output_type": "stream",
     "text": [
      "{2}\n"
     ]
    }
   ],
   "source": [
    "a = {1,2}\n",
    "b = {2,3}\n",
    "print(a & b)"
   ]
  },
  {
   "cell_type": "code",
   "execution_count": 9,
   "metadata": {},
   "outputs": [
    {
     "name": "stdout",
     "output_type": "stream",
     "text": [
      "{1, 2, 3}\n"
     ]
    }
   ],
   "source": [
    "a = {1,2}\n",
    "b = {2,3}\n",
    "print(a | b)"
   ]
  },
  {
   "cell_type": "code",
   "execution_count": 10,
   "metadata": {},
   "outputs": [],
   "source": [
    "d = {}\n",
    "for e in range(1,6):\n",
    "    if e <= 2:\n",
    "        d[e] = e -1"
   ]
  },
  {
   "cell_type": "code",
   "execution_count": 11,
   "metadata": {},
   "outputs": [
    {
     "data": {
      "text/plain": [
       "{1: 0, 2: 1}"
      ]
     },
     "execution_count": 11,
     "metadata": {},
     "output_type": "execute_result"
    }
   ],
   "source": [
    "d"
   ]
  },
  {
   "cell_type": "code",
   "execution_count": 5,
   "metadata": {},
   "outputs": [
    {
     "name": "stdout",
     "output_type": "stream",
     "text": [
      "premio es de 18200.0, descuento de impuesto ocacional es 13650.0, total despues del descuento del cuatro por mill 13595.4\n"
     ]
    }
   ],
   "source": [
    "x = float(input(\"Ingrese el valor\"))\n",
    "y = 0.25\n",
    "impuesto_oc = x -(x*y)\n",
    "\n",
    "descuento_4por1000 = (impuesto_oc-((impuesto_oc*4)/1000))\n",
    "\n",
    "print(f\"premio es de {x}, descuento de impuesto ocacional es {impuesto_oc}, total despues del descuento del cuatro por mill {descuento_4por1000}\")\n"
   ]
  },
  {
   "cell_type": "code",
   "execution_count": 6,
   "metadata": {},
   "outputs": [
    {
     "name": "stdout",
     "output_type": "stream",
     "text": [
      "82\n"
     ]
    }
   ],
   "source": [
    "x = 5 \n",
    "y = x + 3\n",
    "y=int(str(y)+\"2\")\n",
    "print(y)"
   ]
  },
  {
   "cell_type": "code",
   "execution_count": 7,
   "metadata": {},
   "outputs": [
    {
     "name": "stdout",
     "output_type": "stream",
     "text": [
      "1 2 3 4 "
     ]
    }
   ],
   "source": [
    "L = [1, 2, 3, 4]\n",
    "for i in L[::1]:\n",
    "    print(i, end = \" \")"
   ]
  },
  {
   "cell_type": "code",
   "execution_count": 8,
   "metadata": {},
   "outputs": [
    {
     "name": "stdout",
     "output_type": "stream",
     "text": [
      "[10, 20, 30, 40]\n"
     ]
    }
   ],
   "source": [
    "a = [10, 20]\n",
    "b = a\n",
    "b+=[30, 40]\n",
    "print(a)"
   ]
  }
 ],
 "metadata": {
  "kernelspec": {
   "display_name": "Python 3.11.0 64-bit",
   "language": "python",
   "name": "python3"
  },
  "language_info": {
   "codemirror_mode": {
    "name": "ipython",
    "version": 3
   },
   "file_extension": ".py",
   "mimetype": "text/x-python",
   "name": "python",
   "nbconvert_exporter": "python",
   "pygments_lexer": "ipython3",
   "version": "3.11.1"
  },
  "orig_nbformat": 4,
  "vscode": {
   "interpreter": {
    "hash": "5a9f38817c8ceb891a0ba0bc99fbd8fe203dc93590b0deea4ef2b0373c67f9c0"
   }
  }
 },
 "nbformat": 4,
 "nbformat_minor": 2
}
